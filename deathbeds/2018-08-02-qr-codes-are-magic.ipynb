{
 "cells": [
  {
   "cell_type": "markdown",
   "metadata": {},
   "source": [
    "# QR Codes Are Magic\n",
    "While really ugly, QR codes are robust and widely implemented. Like JSON.     "
   ]
  },
  {
   "cell_type": "code",
   "execution_count": null,
   "metadata": {},
   "outputs": [],
   "source": []
  },
  {
   "cell_type": "markdown",
   "metadata": {},
   "source": [
    "    pip install qrcode\n",
    "    "
   ]
  },
  {
   "cell_type": "markdown",
   "metadata": {},
   "source": [
    "    conda install -c conda-forge qrcode"
   ]
  },
  {
   "cell_type": "code",
   "execution_count": 2,
   "metadata": {},
   "outputs": [],
   "source": [
    "    import qrcode as qrcode, qrcode.image.svg, IPython"
   ]
  },
  {
   "cell_type": "markdown",
   "metadata": {},
   "source": [
    "    \n",
    "and you can make QR codes out of arbitrary data which can be read by most cell phones.\n",
    "\n",
    "Here's a magic which gives you all kinds of toys to play with."
   ]
  },
  {
   "cell_type": "code",
   "execution_count": 3,
   "metadata": {},
   "outputs": [],
   "source": [
    "    @IPython.core.magic.register_line_cell_magic\n",
    "    def qr(line, cell=None):\n",
    "        line = (line + \" \" + (cell or \"\")).strip()\n",
    "        args = parser.parse_args(line.split())\n",
    "        q = qrcode.QRCode(version=args.version, error_correction=args.error_correction,\n",
    "                          box_size=args.size, border=args.border, mask_pattern=args.mask,)\n",
    "        q.add_data(args.data)\n",
    "        q.make(fit=True)\n",
    "        img = None\n",
    "        if args.output == \"png\":\n",
    "            img = q.make_image(fill_color=args.fg, back_color=args.bg)\n",
    "        elif \"svg\" in args.output:\n",
    "            with __import__('io').BytesIO() as out:\n",
    "                q.make_image(fill_color=args.fg, back_color=args.bg, image_factory={\n",
    "                    \"svg\": qrcode.image.svg.SvgImage,\n",
    "                    \"svg-fragment\": qrcode.image.svg.SvgFragmentImage,\n",
    "                    \"svg-path\": qrcode.image.svg.SvgPathImage,\n",
    "                }[args.output])._write(out)\n",
    "                img = IPython.display.SVG(out.getvalue())\n",
    "        elif args.output == \"ascii\":\n",
    "            with IPython.utils.capture.capture_output() as cap: q.print_ascii()\n",
    "\n",
    "            img = IPython.display.HTML(f\"\"\"<pre style=\"line-height: 1;\">\\n{cap.stdout}\\n</pre>\"\"\")\n",
    "        IPython.display.display(img)"
   ]
  },
  {
   "cell_type": "markdown",
   "metadata": {},
   "source": [
    "`qrcode` hides it's parser inside a closure, so let's make another one."
   ]
  },
  {
   "cell_type": "code",
   "execution_count": 4,
   "metadata": {},
   "outputs": [],
   "source": [
    "    parser = __import__('argparse').ArgumentParser()\n",
    "    parser.add_argument('data')\n",
    "    parser.add_argument('-s', '--size', default=10, type=int)\n",
    "    parser.add_argument('-b', '--border', default=1, type=int)\n",
    "    parser.add_argument('-e', '--error-correction', default=1, type=int)\n",
    "    parser.add_argument('-v', '--version', default=1)\n",
    "    parser.add_argument('--fg', default='black')\n",
    "    parser.add_argument('--bg', default='white')\n",
    "    parser.add_argument('-m', '--mask', default=None, type=int)\n",
    "    parser.add_argument('-o', '--output', default='png', choices=['svg', 'svg-path', 'svg-fragment', 'png', 'ascii']);"
   ]
  },
  {
   "cell_type": "markdown",
   "metadata": {},
   "source": [
    "## Outputs"
   ]
  },
  {
   "cell_type": "markdown",
   "metadata": {},
   "source": [
    "### SVG output"
   ]
  },
  {
   "cell_type": "code",
   "execution_count": 5,
   "metadata": {},
   "outputs": [
    {
     "data": {
      "image/svg+xml": [
       "<svg height=\"27mm\" version=\"1.1\" viewBox=\"0 0 27 27\" width=\"27mm\" xmlns=\"http://www.w3.org/2000/svg\"><path d=\"M 17 7 L 17 8 L 18 8 L 18 7 z M 15 18 L 15 19 L 16 19 L 16 18 z M 13 2 L 13 3 L 14 3 L 14 2 z M 1 21 L 1 22 L 2 22 L 2 21 z M 25 18 L 25 19 L 26 19 L 26 18 z M 15 5 L 15 6 L 16 6 L 16 5 z M 14 5 L 14 6 L 15 6 L 15 5 z M 13 13 L 13 14 L 14 14 L 14 13 z M 16 21 L 16 22 L 17 22 L 17 21 z M 19 5 L 19 6 L 20 6 L 20 5 z M 18 21 L 18 22 L 19 22 L 19 21 z M 25 5 L 25 6 L 26 6 L 26 5 z M 21 21 L 21 22 L 22 22 L 22 21 z M 22 10 L 22 11 L 23 11 L 23 10 z M 14 18 L 14 19 L 15 19 L 15 18 z M 3 23 L 3 24 L 4 24 L 4 23 z M 2 7 L 2 8 L 3 8 L 3 7 z M 23 7 L 23 8 L 24 8 L 24 7 z M 22 7 L 22 8 L 23 8 L 23 7 z M 9 6 L 9 7 L 10 7 L 10 6 z M 6 9 L 6 10 L 7 10 L 7 9 z M 5 1 L 5 2 L 6 2 L 6 1 z M 4 25 L 4 26 L 5 26 L 5 25 z M 11 9 L 11 10 L 12 10 L 12 9 z M 9 25 L 9 26 L 10 26 L 10 25 z M 12 6 L 12 7 L 13 7 L 13 6 z M 11 8 L 11 9 L 12 9 L 12 8 z M 10 22 L 10 23 L 11 23 L 11 22 z M 7 11 L 7 12 L 8 12 L 8 11 z M 6 19 L 6 20 L 7 20 L 7 19 z M 13 7 L 13 8 L 14 8 L 14 7 z M 11 19 L 11 20 L 12 20 L 12 19 z M 16 12 L 16 13 L 17 13 L 17 12 z M 25 15 L 25 16 L 26 16 L 26 15 z M 17 23 L 17 24 L 18 24 L 18 23 z M 19 10 L 19 11 L 20 11 L 20 10 z M 1 5 L 1 6 L 2 6 L 2 5 z M 25 2 L 25 3 L 26 3 L 26 2 z M 14 21 L 14 22 L 15 22 L 15 21 z M 21 5 L 21 6 L 22 6 L 22 5 z M 19 21 L 19 22 L 20 22 L 20 21 z M 23 4 L 23 5 L 24 5 L 24 4 z M 5 11 L 5 12 L 6 12 L 6 11 z M 4 3 L 4 4 L 5 4 L 5 3 z M 3 7 L 3 8 L 4 8 L 4 7 z M 10 15 L 10 16 L 11 16 L 11 15 z M 7 1 L 7 2 L 8 2 L 8 1 z M 6 25 L 6 26 L 7 26 L 7 25 z M 15 25 L 15 26 L 16 26 L 16 25 z M 12 1 L 12 2 L 13 2 L 13 1 z M 11 25 L 11 26 L 12 26 L 12 25 z M 25 25 L 25 26 L 26 26 L 26 25 z M 15 16 L 15 17 L 16 17 L 16 16 z M 7 24 L 7 25 L 8 25 L 8 24 z M 21 20 L 21 21 L 22 21 L 22 20 z M 20 14 L 20 15 L 21 15 L 21 14 z M 18 14 L 18 15 L 19 15 L 19 14 z M 16 15 L 16 16 L 17 16 L 17 15 z M 15 3 L 15 4 L 16 4 L 16 3 z M 17 20 L 17 21 L 18 21 L 18 20 z M 13 23 L 13 24 L 14 24 L 14 23 z M 19 11 L 19 12 L 20 12 L 20 11 z M 1 2 L 1 3 L 2 3 L 2 2 z M 24 20 L 24 21 L 25 21 L 25 20 z M 22 16 L 22 17 L 23 17 L 23 16 z M 2 13 L 2 14 L 3 14 L 3 13 z M 5 16 L 5 17 L 6 17 L 6 16 z M 3 12 L 3 13 L 4 13 L 4 12 z M 10 10 L 10 11 L 11 11 L 11 10 z M 24 10 L 24 11 L 25 11 L 25 10 z M 6 15 L 6 16 L 7 16 L 7 15 z M 4 19 L 4 20 L 5 20 L 5 19 z M 5 22 L 5 23 L 6 23 L 6 22 z M 12 16 L 12 17 L 13 17 L 13 16 z M 20 24 L 20 25 L 21 25 L 21 24 z M 10 20 L 10 21 L 11 21 L 11 20 z M 17 14 L 17 15 L 18 15 L 18 14 z M 15 9 L 15 10 L 16 10 L 16 9 z M 14 1 L 14 2 L 15 2 L 15 1 z M 7 17 L 7 18 L 8 18 L 8 17 z M 20 9 L 20 10 L 21 10 L 21 9 z M 19 1 L 19 2 L 20 2 L 20 1 z M 18 9 L 18 10 L 19 10 L 19 9 z M 25 9 L 25 10 L 26 10 L 26 9 z M 16 14 L 16 15 L 17 15 L 17 14 z M 16 17 L 16 18 L 17 18 L 17 17 z M 21 4 L 21 5 L 22 5 L 22 4 z M 17 17 L 17 18 L 18 18 L 18 17 z M 21 17 L 21 18 L 22 18 L 22 17 z M 1 15 L 1 16 L 2 16 L 2 15 z M 3 19 L 3 20 L 4 20 L 4 19 z M 24 23 L 24 24 L 25 24 L 25 23 z M 22 3 L 22 4 L 23 4 L 23 3 z M 10 5 L 10 6 L 11 6 L 11 5 z M 11 4 L 11 5 L 12 5 L 12 4 z M 17 8 L 17 9 L 18 9 L 18 8 z M 7 15 L 7 16 L 8 16 L 8 15 z M 15 23 L 15 24 L 16 24 L 16 23 z M 13 3 L 13 4 L 14 4 L 14 3 z M 12 11 L 12 12 L 13 12 L 13 11 z M 1 22 L 1 23 L 2 23 L 2 22 z M 17 11 L 17 12 L 18 12 L 18 11 z M 15 6 L 15 7 L 16 7 L 16 6 z M 14 4 L 14 5 L 15 5 L 15 4 z M 13 14 L 13 15 L 14 15 L 14 14 z M 25 19 L 25 20 L 26 20 L 26 19 z M 19 6 L 19 7 L 20 7 L 20 6 z M 18 12 L 18 13 L 19 13 L 19 12 z M 25 6 L 25 7 L 26 7 L 26 6 z M 2 17 L 2 18 L 3 18 L 3 17 z M 14 17 L 14 18 L 15 18 L 15 17 z M 21 1 L 21 2 L 22 2 L 22 1 z M 21 22 L 21 23 L 22 23 L 22 22 z M 19 17 L 19 18 L 20 18 L 20 17 z M 1 25 L 1 26 L 2 26 L 2 25 z M 24 22 L 24 23 L 25 23 L 25 22 z M 4 7 L 4 8 L 5 8 L 5 7 z M 3 3 L 3 4 L 4 4 L 4 3 z M 9 7 L 9 8 L 10 8 L 10 7 z M 24 7 L 24 8 L 25 8 L 25 7 z M 23 11 L 23 12 L 24 12 L 24 11 z M 11 10 L 11 11 L 12 11 L 12 10 z M 7 5 L 7 6 L 8 6 L 8 5 z M 12 5 L 12 6 L 13 6 L 13 5 z M 11 5 L 11 6 L 12 6 L 12 5 z M 13 8 L 13 9 L 14 9 L 14 8 z M 11 20 L 11 21 L 12 21 L 12 20 z M 1 19 L 1 20 L 2 20 L 2 19 z M 16 11 L 16 12 L 17 12 L 17 11 z M 15 7 L 15 8 L 16 8 L 16 7 z M 17 24 L 17 25 L 18 25 L 18 24 z M 19 7 L 19 8 L 20 8 L 20 7 z M 1 6 L 1 7 L 2 7 L 2 6 z M 25 3 L 25 4 L 26 4 L 26 3 z M 16 8 L 16 9 L 17 9 L 17 8 z M 22 12 L 22 13 L 23 13 L 23 12 z M 14 20 L 14 21 L 15 21 L 15 20 z M 3 25 L 3 26 L 4 26 L 4 25 z M 2 1 L 2 2 L 3 2 L 3 1 z M 1 9 L 1 10 L 2 10 L 2 9 z M 23 1 L 23 2 L 24 2 L 24 1 z M 5 12 L 5 13 L 6 13 L 6 12 z M 6 11 L 6 12 L 7 12 L 7 11 z M 5 7 L 5 8 L 6 8 L 6 7 z M 4 23 L 4 24 L 5 24 L 5 23 z M 9 23 L 9 24 L 10 24 L 10 23 z M 7 2 L 7 3 L 8 3 L 8 2 z M 17 2 L 17 3 L 18 3 L 18 2 z M 7 21 L 7 22 L 8 22 L 8 21 z M 20 13 L 20 14 L 21 14 L 21 13 z M 11 21 L 11 22 L 12 22 L 12 21 z M 12 21 L 12 22 L 13 22 L 13 21 z M 16 10 L 16 11 L 17 11 L 17 10 z M 15 4 L 15 5 L 16 5 L 16 4 z M 14 10 L 14 11 L 15 11 L 15 10 z M 25 13 L 25 14 L 26 14 L 26 13 z M 21 16 L 21 17 L 22 17 L 22 16 z M 17 21 L 17 22 L 18 22 L 18 21 z M 1 3 L 1 4 L 2 4 L 2 3 z M 11 23 L 11 24 L 12 24 L 12 23 z M 13 24 L 13 25 L 14 25 L 14 24 z M 22 15 L 22 16 L 23 16 L 23 15 z M 4 16 L 4 17 L 5 17 L 5 16 z M 14 23 L 14 24 L 15 24 L 15 23 z M 9 14 L 9 15 L 10 15 L 10 14 z M 4 1 L 4 2 L 5 2 L 5 1 z M 3 9 L 3 10 L 4 10 L 4 9 z M 10 9 L 10 10 L 11 10 L 11 9 z M 9 1 L 9 2 L 10 2 L 10 1 z M 24 9 L 24 10 L 25 10 L 25 9 z M 4 22 L 4 23 L 5 23 L 5 22 z M 9 20 L 9 21 L 10 21 L 10 20 z M 7 3 L 7 4 L 8 4 L 8 3 z M 5 23 L 5 24 L 6 24 L 6 23 z M 20 23 L 20 24 L 21 24 L 21 23 z M 10 19 L 10 20 L 11 20 L 11 19 z M 8 12 L 8 13 L 9 13 L 9 12 z M 16 20 L 16 21 L 17 21 L 17 20 z M 25 23 L 25 24 L 26 24 L 26 23 z M 21 18 L 21 19 L 22 19 L 22 18 z M 19 2 L 19 3 L 20 3 L 20 2 z M 25 10 L 25 11 L 26 11 L 26 10 z M 16 13 L 16 14 L 17 14 L 17 13 z M 14 13 L 14 14 L 15 14 L 15 13 z M 17 18 L 17 19 L 18 19 L 18 18 z M 13 21 L 13 22 L 14 22 L 14 21 z M 19 13 L 19 14 L 20 14 L 20 13 z M 4 11 L 4 12 L 5 12 L 5 11 z M 2 15 L 2 16 L 3 16 L 3 15 z M 23 15 L 23 16 L 24 16 L 24 15 z M 5 14 L 5 15 L 6 15 L 6 14 z M 3 14 L 3 15 L 4 15 L 4 14 z M 10 12 L 10 13 L 11 13 L 11 12 z M 6 1 L 6 2 L 7 2 L 7 1 z M 5 25 L 5 26 L 6 26 L 6 25 z M 15 24 L 15 25 L 16 25 L 16 24 z M 1 23 L 1 24 L 2 24 L 2 23 z M 25 20 L 25 21 L 26 21 L 26 20 z M 7 19 L 7 20 L 8 20 L 8 19 z M 14 3 L 14 4 L 15 4 L 15 3 z M 13 15 L 13 16 L 14 16 L 14 15 z M 20 7 L 20 8 L 21 8 L 21 7 z M 19 3 L 19 4 L 20 4 L 20 3 z M 21 23 L 21 24 L 22 24 L 22 23 z M 16 4 L 16 5 L 17 5 L 17 4 z M 25 7 L 25 8 L 26 8 L 26 7 z M 3 21 L 3 22 L 4 22 L 4 21 z M 24 21 L 24 22 L 25 22 L 25 21 z M 23 5 L 23 6 L 24 6 L 24 5 z M 22 5 L 22 6 L 23 6 L 23 5 z M 3 4 L 3 5 L 4 5 L 4 4 z M 9 8 L 9 9 L 10 9 L 10 8 z M 5 3 L 5 4 L 6 4 L 6 3 z M 3 15 L 3 16 L 4 16 L 4 15 z M 7 6 L 7 7 L 8 7 L 8 6 z M 12 8 L 12 9 L 13 9 L 13 8 z M 7 9 L 7 10 L 8 10 L 8 9 z M 15 17 L 15 18 L 16 18 L 16 17 z M 13 1 L 13 2 L 14 2 L 14 1 z M 20 17 L 20 18 L 21 18 L 21 17 z M 11 17 L 11 18 L 12 18 L 12 17 z M 1 20 L 1 21 L 2 21 L 2 20 z M 17 9 L 17 10 L 18 10 L 18 9 z M 15 8 L 15 9 L 16 9 L 16 8 z M 14 6 L 14 7 L 15 7 L 15 6 z M 21 12 L 21 13 L 22 13 L 22 12 z M 2 19 L 2 20 L 3 20 L 3 19 z M 1 7 L 1 8 L 2 8 L 2 7 z M 25 4 L 25 5 L 26 5 L 26 4 z M 18 22 L 18 23 L 19 23 L 19 22 z M 22 11 L 22 12 L 23 12 L 23 11 z M 21 7 L 21 8 L 22 8 L 22 7 z M 19 19 L 19 20 L 20 20 L 20 19 z M 4 5 L 4 6 L 5 6 L 5 5 z M 3 5 L 3 6 L 4 6 L 4 5 z M 10 13 L 10 14 L 11 14 L 11 13 z M 9 5 L 9 6 L 10 6 L 10 5 z M 10 2 L 10 3 L 11 3 L 11 2 z M 9 24 L 9 25 L 10 25 L 10 24 z M 7 7 L 7 8 L 8 8 L 8 7 z M 6 7 L 6 8 L 7 8 L 7 7 z M 5 19 L 5 20 L 6 20 L 6 19 z M 12 3 L 12 4 L 13 4 L 13 3 z M 11 7 L 11 8 L 12 8 L 12 7 z M 7 22 L 7 23 L 8 23 L 8 22 z M 20 16 L 20 17 L 21 17 L 21 16 z M 12 24 L 12 25 L 13 25 L 13 24 z M 1 17 L 1 18 L 2 18 L 2 17 z M 25 14 L 25 15 L 26 15 L 26 14 z M 8 17 L 8 18 L 9 18 L 9 17 z M 14 9 L 14 10 L 15 10 L 15 9 z M 21 9 L 21 10 L 22 10 L 22 9 z M 20 1 L 20 2 L 21 2 L 21 1 z M 19 9 L 19 10 L 20 10 L 20 9 z M 1 4 L 1 5 L 2 5 L 2 4 z M 25 1 L 25 2 L 26 2 L 26 1 z M 18 17 L 18 18 L 19 18 L 19 17 z M 7 25 L 7 26 L 8 26 L 8 25 z M 17 25 L 17 26 L 18 26 L 18 25 z M 22 25 L 22 26 L 23 26 L 23 25 z M 19 24 L 19 25 L 20 25 L 20 24 z M 23 3 L 23 4 L 24 4 L 24 3 z M 4 4 L 4 5 L 5 5 L 5 4 z M 3 10 L 3 11 L 4 11 L 4 10 z M 9 2 L 9 3 L 10 3 L 10 2 z M 5 5 L 5 6 L 6 6 L 6 5 z M 4 21 L 4 22 L 5 22 L 5 21 z M 7 4 L 7 5 L 8 5 L 8 4 z M 7 23 L 7 24 L 8 24 L 8 23 z M 10 18 L 10 19 L 11 19 L 11 18 z M 8 11 L 8 12 L 9 12 L 9 11 z M 15 15 L 15 16 L 16 16 L 16 15 z M 17 16 L 17 17 L 18 17 L 18 16 z M 21 19 L 21 20 L 22 20 L 22 19 z M 20 11 L 20 12 L 21 12 L 21 11 z M 12 19 L 12 20 L 13 20 L 13 19 z M 18 15 L 18 16 L 19 16 L 19 15 z M 25 11 L 25 12 L 26 12 L 26 11 z M 17 19 L 17 20 L 18 20 L 18 19 z M 14 12 L 14 13 L 15 13 L 15 12 z M 13 22 L 13 23 L 14 23 L 14 22 z M 3 17 L 3 18 L 4 18 L 4 17 z M 19 14 L 19 15 L 20 15 L 20 14 z M 1 1 L 1 2 L 2 2 L 2 1 z M 24 17 L 24 18 L 25 18 L 25 17 z M 23 22 L 23 23 L 24 23 L 24 22 z M 22 1 L 22 2 L 23 2 L 23 1 z M 4 14 L 4 15 L 5 15 L 5 14 z M 2 25 L 2 26 L 3 26 L 3 25 z M 14 25 L 14 26 L 15 26 L 15 25 z M 9 12 L 9 13 L 10 13 L 10 12 z M 19 25 L 19 26 L 20 26 L 20 25 z M 6 16 L 6 17 L 7 17 L 7 16 z M 11 2 L 11 3 L 12 3 L 12 2 z M 9 18 L 9 19 L 10 19 L 10 18 z M 7 13 L 7 14 L 8 14 L 8 13 z M 5 21 L 5 22 L 6 22 L 6 21 z M 12 13 L 12 14 L 13 14 L 13 13 z M 20 21 L 20 22 L 21 22 L 21 21 z M 1 24 L 1 25 L 2 25 L 2 24 z M 8 10 L 8 11 L 9 11 L 9 10 z M 7 20 L 7 21 L 8 21 L 8 20 z M 14 2 L 14 3 L 15 3 L 15 2 z M 13 16 L 13 17 L 14 17 L 14 16 z M 20 10 L 20 11 L 21 11 L 21 10 z M 19 4 L 19 5 L 20 5 L 20 4 z M 18 10 L 18 11 L 19 11 L 19 10 z M 25 21 L 25 22 L 26 22 L 26 21 z M 21 24 L 21 25 L 22 25 L 22 24 z M 14 15 L 14 16 L 15 16 L 15 15 z M 21 3 L 21 4 L 22 4 L 22 3 z M 3 22 L 3 23 L 4 23 L 4 22 z M 19 15 L 19 16 L 20 16 L 20 15 z M 22 23 L 22 24 L 23 24 L 23 23 z M 22 4 L 22 5 L 23 5 L 23 4 z M 16 24 L 16 25 L 17 25 L 17 24 z M 3 1 L 3 2 L 4 2 L 4 1 z M 2 9 L 2 10 L 3 10 L 3 9 z M 9 9 L 9 10 L 10 10 L 10 9 z M 24 1 L 24 2 L 25 2 L 25 1 z M 5 4 L 5 5 L 6 5 L 6 4 z M 3 16 L 3 17 L 4 17 L 4 16 z M 24 14 L 24 15 L 25 15 L 25 14 z M 11 3 L 11 4 L 12 4 L 12 3 z\" id=\"qr-path\" style=\"fill:#000000;fill-opacity:1;fill-rule:nonzero;stroke:none\"/></svg>"
      ],
      "text/plain": [
       "<IPython.core.display.SVG object>"
      ]
     },
     "metadata": {},
     "output_type": "display_data"
    }
   ],
   "source": [
    "    if __name__ == \"__main__\":\n",
    "        %qr -o svg-path https://jupyter.org"
   ]
  },
  {
   "cell_type": "markdown",
   "metadata": {},
   "source": [
    "### Plain Text\n",
    "\n",
    "A plain text QR to post on your In addition to images, you can generate plain text, which would look great on your BBS!"
   ]
  },
  {
   "cell_type": "code",
   "execution_count": 31,
   "metadata": {},
   "outputs": [
    {
     "data": {
      "text/html": [
       "<pre style=\"line-height: 1;\">\n",
       " ▄▄▄▄▄▄▄  ▄▄▄ ▄▄   ▄▄▄▄▄▄▄ \n",
       " █ ▄▄▄ █  ▄▄█▀▀█   █ ▄▄▄ █ \n",
       " █ ███ █ █ █▀▄▄▀ ▄ █ ███ █ \n",
       " █▄▄▄▄▄█ ▄▀█ ▄▀█ █ █▄▄▄▄▄█ \n",
       " ▄▄   ▄▄▄ █▄ █▀▄▀▀   ▄▄    \n",
       " ▄▄▄▄█▄▄▀▄▄▀▄▄ ▀█ ▀ ▀▀█▀█▄ \n",
       " ▀▀▄ ▄ ▄▀█▄█▀ ▄█▀█▀█  ▀  █ \n",
       " █ ██ ▄▄▀▀ █ ▀███▄▄▄█▄▄ █▄ \n",
       " █ ▄▀▄▀▄▀▀▄  █▀█▄█▄██▄▀█ ▀ \n",
       " ▄▄▄▄▄▄▄ █ █ ▄▄▄ █ ▄ █   ▄ \n",
       " █ ▄▄▄ █ ▀▀▄█  ▀██▄▄▄█ ▄ ▄ \n",
       " █ ███ █  ██ ▀█▄ ▀▀▀  ▄▄▀█ \n",
       " █▄▄▄▄▄█ █▀▀▄██ ▀█ █▀▀▄  █ \n",
       "                           \n",
       "\n",
       "</pre>"
      ],
      "text/plain": [
       "<IPython.core.display.HTML object>"
      ]
     },
     "metadata": {},
     "output_type": "display_data"
    }
   ],
   "source": [
    "    if __name__ == \"__main__\":\n",
    "        %qr -o ascii https://pydata.org"
   ]
  },
  {
   "cell_type": "markdown",
   "metadata": {},
   "source": [
    "## Edit your own QR code with an IPython widget."
   ]
  },
  {
   "cell_type": "code",
   "execution_count": 32,
   "metadata": {},
   "outputs": [
    {
     "data": {
      "application/vnd.jupyter.widget-view+json": {
       "model_id": "cceda9e721fd4bbbb3ebdef5916d43c9",
       "version_major": 2,
       "version_minor": 0
      },
      "text/plain": [
       "interactive(children=(Text(value='https://deathbeds.github.io', description='url'), IntSlider(value=5, descrip…"
      ]
     },
     "metadata": {},
     "output_type": "display_data"
    }
   ],
   "source": [
    "    if __name__ == \"__main__\":\n",
    "        from ipywidgets import interact, ColorPicker\n",
    "        @interact\n",
    "        def deathbeds(url=\"https://deathbeds.github.io\", size=(1,10), mask=(0,7), error=(0,3), version=(1,8), border=(0, 10), fore=ColorPicker(value=\"#0f0\"), back=ColorPicker(value=\"black\")):\n",
    "            %qr -s{size} -m{mask} -e{error} -v{version} -b{border} --fg {fore} --bg {back} {url}"
   ]
  }
 ],
 "metadata": {
  "kernelspec": {
   "display_name": "Python 3",
   "language": "python",
   "name": "python3"
  },
  "language_info": {
   "codemirror_mode": {
    "name": "ipython",
    "version": 3
   },
   "file_extension": ".py",
   "mimetype": "text/x-python",
   "name": "python",
   "nbconvert_exporter": "python",
   "pygments_lexer": "ipython3",
   "version": "3.6.5"
  }
 },
 "nbformat": 4,
 "nbformat_minor": 2
}
