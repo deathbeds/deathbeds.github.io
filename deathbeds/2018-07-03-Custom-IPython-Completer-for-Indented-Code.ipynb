{
 "cells": [
  {
   "cell_type": "markdown",
   "metadata": {},
   "source": [
    "# Customizing the completer in IPython\n",
    "\n",
    "> It took a little bit to understand the event object.\n",
    "\n",
    "* For the demostration, we will modify our existing `module_completer` to predict imports from indented lines.  `importnb` will need this."
   ]
  },
  {
   "cell_type": "code",
   "execution_count": 1,
   "metadata": {},
   "outputs": [],
   "source": [
    "    from IPython.core.completerlib import module_completer    "
   ]
  },
  {
   "cell_type": "markdown",
   "metadata": {},
   "source": [
    "* Get the current IPython context"
   ]
  },
  {
   "cell_type": "code",
   "execution_count": 2,
   "metadata": {},
   "outputs": [],
   "source": [
    "    ip = get_ipython()"
   ]
  },
  {
   "cell_type": "markdown",
   "metadata": {},
   "source": [
    "* The [`h5py.ipy_completer`](https://github.com/h5py/h5py/blob/master/h5py/ipy_completer.py) helped me understand the events a little better."
   ]
  },
  {
   "cell_type": "code",
   "execution_count": 3,
   "metadata": {},
   "outputs": [
    {
     "name": "stdout",
     "output_type": "stream",
     "text": [
      "The system cannot find the file specified.\n"
     ]
    }
   ],
   "source": [
    "!copy /a Untitled.ipynb deathbeds.github.io/deathbeds/2018-07-03-Custom-IPython-Completer-for-Indented-Code.ipynb"
   ]
  },
  {
   "cell_type": "code",
   "execution_count": 4,
   "metadata": {},
   "outputs": [],
   "source": [
    "    def event(self, event):\n",
    "        event.line = event.line.lstrip()\n",
    "        return module_completer(self, event)"
   ]
  },
  {
   "cell_type": "markdown",
   "metadata": {},
   "source": [
    "* As expected, `requests` should show up for unindented lines."
   ]
  },
  {
   "cell_type": "code",
   "execution_count": 5,
   "metadata": {},
   "outputs": [],
   "source": [
    "    assert 'requests' in ip.complete('re', 'import re')[1], \"\"\"requests is not installed\"\"\""
   ]
  },
  {
   "cell_type": "code",
   "execution_count": 6,
   "metadata": {},
   "outputs": [],
   "source": [
    "    assert 'requests' not in ip.complete('re', '\\timport re')[1], \"\"\"the new complete_command hook was assigned already.\"\"\""
   ]
  },
  {
   "cell_type": "markdown",
   "metadata": {},
   "source": [
    "* Set the complete command hook."
   ]
  },
  {
   "cell_type": "code",
   "execution_count": 7,
   "metadata": {},
   "outputs": [],
   "source": [
    "    ip.set_hook('complete_command', event, str_key=\"import\")"
   ]
  },
  {
   "cell_type": "markdown",
   "metadata": {},
   "source": [
    "* Now an indented import query will find requests."
   ]
  },
  {
   "cell_type": "code",
   "execution_count": 8,
   "metadata": {},
   "outputs": [],
   "source": [
    "    assert 'requests' in ip.complete('re', '\\timport re')[1], \"\"\"requests still doesn't exist.\"\"\""
   ]
  },
  {
   "cell_type": "code",
   "execution_count": 9,
   "metadata": {},
   "outputs": [
    {
     "data": {
      "text/html": [
       "<div id=\"disqus_thread\"></div>\n",
       "<script type=\"text/javascript\">\n",
       "    /* * * CONFIGURATION VARIABLES * * */\n",
       "    // Required: on line below, replace text in quotes with your forum shortname\n",
       "    var disqus_shortname = 'tonyfast';\n",
       "\n",
       "    /* * * DON'T EDIT BELOW THIS LINE * * */\n",
       "    (function() {\n",
       "        var dsq = document.createElement('script'); dsq.type = 'text/javascript'; dsq.async = true;\n",
       "        dsq.src = '//' + disqus_shortname + '.disqus.com/embed.js';\n",
       "        (document.getElementsByTagName('head')[0] || document.getElementsByTagName('body')[0]).appendChild(dsq);\n",
       "    })();\n",
       "</script>\n",
       "<noscript>Please enable JavaScript to view the <a href=\"https://disqus.com/?ref_noscript\" rel=\"nofollow\">comments powered by Disqus.</a></noscript>"
      ],
      "text/plain": [
       "<IPython.core.display.HTML object>"
      ]
     },
     "metadata": {},
     "output_type": "display_data"
    }
   ],
   "source": [
    "    if __name__ == '__main__': import disqus"
   ]
  }
 ],
 "metadata": {
  "kernelspec": {
   "display_name": "Python 3",
   "language": "python",
   "name": "python3"
  },
  "language_info": {
   "codemirror_mode": {
    "name": "ipython",
    "version": 3
   },
   "file_extension": ".py",
   "mimetype": "text/x-python",
   "name": "python",
   "nbconvert_exporter": "python",
   "pygments_lexer": "ipython3",
   "version": "3.6.5"
  }
 },
 "nbformat": 4,
 "nbformat_minor": 2
}
