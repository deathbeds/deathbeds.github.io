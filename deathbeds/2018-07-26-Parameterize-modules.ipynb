{
 "cells": [
  {
   "cell_type": "markdown",
   "metadata": {},
   "source": [
    "# `Parameterize` notebooks.\n",
    "\n",
    "Notebooks should be reusable.  At least the very least, a notebook that will [__restart and run all__](2018-07-16-Testing-restart-run-all.ipynb) could be reused.  \n",
    "\n",
    "This post explores a default behavior to making modules reusable.  We establish the opinion that any lowercase variables name [*](https://www.python.org/dev/peps/pep-0008/#function-and-variable-names) become a parameter of the module if its assignment evaluates literally."
   ]
  },
  {
   "cell_type": "markdown",
   "metadata": {},
   "source": [
    "## The Parser\n",
    "\n",
    "Create an argumentparser from a give module.  This class applies the semantics for does and does not become a variable.  We rely on the argparser to capture the metadata about the application."
   ]
  },
  {
   "cell_type": "code",
   "execution_count": 37,
   "metadata": {},
   "outputs": [],
   "source": [
    "    import argparse, ast, inspect\n",
    "\n",
    "    class CreateParser(ast.NodeTransformer):\n",
    "        def __init__(self, parser): self.parser = parser\n",
    "        def visit_Assign(self, node):\n",
    "            if len(node.targets) == 1: \n",
    "                target, parameter = node.targets[0].id, node.value\n",
    "                try:\n",
    "                    parameter = ast.literal_eval(parameter)\n",
    "                    if target[0].lower(): self.parser.add_argument(\n",
    "                        '--%s'%target, type=ast.literal_eval, default=parameter, \n",
    "                         help=\"{} : {} = {}\".format(target, type(parameter).__name__, parameter))\n",
    "                except: ...\n",
    "            return node\n",
    "        \n",
    "        visit_Module = ast.NodeTransformer.generic_visit\n",
    "        def generic_visit(self, node): return node"
   ]
  },
  {
   "cell_type": "markdown",
   "metadata": {},
   "source": [
    "## Replace existing assigments\n",
    "\n",
    "Update the `ast.Module` based on a set of assignments passed from either a function call or command line tool."
   ]
  },
  {
   "cell_type": "code",
   "execution_count": 38,
   "metadata": {},
   "outputs": [],
   "source": [
    "    class FindAndReplace(ast.NodeTransformer):\n",
    "        def __init__(self, **values): self.assignments = values\n",
    "            \n",
    "        def visit_Assign(self, node):\n",
    "            if len(node.targets) == 1: \n",
    "                target, parameter = node.targets[0].id, node.value\n",
    "                if target in self.assignments:\n",
    "                    value = self.assignments[target]\n",
    "                    if isinstance(value, str): node.value = ast.Str(value)\n",
    "                    else: node.value = ast.parse(str(value)).body[0].value\n",
    "            return node"
   ]
  },
  {
   "cell_type": "markdown",
   "metadata": {},
   "source": [
    "## Parameterization\n",
    "\n",
    "Parameterization uses features from `importlib` to load the module appropriately."
   ]
  },
  {
   "cell_type": "code",
   "execution_count": 39,
   "metadata": {},
   "outputs": [],
   "source": [
    "    from importlib.util import spec_from_file_location, spec_from_loader, module_from_spec, find_spec\n",
    "    from inspect import Signature, Parameter\n",
    "    from copy import deepcopy"
   ]
  },
  {
   "cell_type": "markdown",
   "metadata": {},
   "source": [
    "Our parameterizer can discover a spec from a module or string."
   ]
  },
  {
   "cell_type": "code",
   "execution_count": 40,
   "metadata": {},
   "outputs": [],
   "source": [
    "    def get_spec(object): return (\n",
    "        spec_from_loader(object.__name__, object.__loader__) \n",
    "        if isinstance(object, __import__('types').ModuleType) else find_spec(object))"
   ]
  },
  {
   "cell_type": "markdown",
   "metadata": {},
   "source": [
    "`parameterize` is called for a string or function to return a called version of the module with the assignment replacement.\n",
    "\n",
    "#### Steps\n",
    "\n",
    "1. Find the module specification.\n",
    "2. Loader the source code as ast.\n",
    "3. Create an argument parser from the ast.\n",
    "4. Establish a local callable function that implements the `FindAndReplace` transformer.\n",
    "5. Update the signature and docstring for improved interactivity."
   ]
  },
  {
   "cell_type": "code",
   "execution_count": 41,
   "metadata": {},
   "outputs": [],
   "source": [
    "    def parameterize(object):\n",
    "        spec = get_spec(object)\n",
    "        source = spec.loader.get_source(spec.loader.path)\n",
    "        nodes = ast.parse(source)\n",
    "        parser = argparse.ArgumentParser(prog=spec.name, description=ast.get_docstring(nodes))\n",
    "        CreateParser(parser).visit(nodes)\n",
    "        \n",
    "        def call(argv=None, **kwargs):\n",
    "            module = module_from_spec(spec)\n",
    "            if argv is not None: kwargs = {**vars(parser.parse_args(argv)), **kwargs}\n",
    "            return exec(compile(\n",
    "                FindAndReplace(**kwargs).visit(deepcopy(nodes)), '<Parameterized>', 'exec'\n",
    "            ), module.__dict__, module.__dict__) or module        \n",
    "        \n",
    "        call.__signature__ = Signature([\n",
    "            Parameter(key, Parameter.KEYWORD_ONLY, default=value)\n",
    "            for key, value in vars(parser.parse_args([])).items()\n",
    "        ])\n",
    "        call.__doc__ = ast.get_docstring(nodes)\n",
    "        return call"
   ]
  },
  {
   "cell_type": "markdown",
   "metadata": {},
   "source": [
    "## Howzitwerk"
   ]
  },
  {
   "cell_type": "code",
   "execution_count": 42,
   "metadata": {},
   "outputs": [],
   "source": [
    "    from IPython import get_ipython"
   ]
  },
  {
   "cell_type": "code",
   "execution_count": 43,
   "metadata": {},
   "outputs": [
    {
     "name": "stdout",
     "output_type": "stream",
     "text": [
      "11\n",
      "99\n",
      "usage: Untitled [-h] [--a A]\n",
      "\n",
      "asdfasdfadsfasdfasdfasdfasdf\n",
      "\n",
      "optional arguments:\n",
      "  -h, --help  show this help message and exit\n",
      "  --a A       a : int = 11\n"
     ]
    }
   ],
   "source": [
    "    if Ø:\n",
    "        %reload_ext deathbeds.__Importing_notebooks_with_proper_source\n",
    "        f = parameterize('Untitled')\n",
    "        f(), f(a=99)\n",
    "        try: f(['-h'])\n",
    "        except SystemExit: ..."
   ]
  },
  {
   "cell_type": "code",
   "execution_count": null,
   "metadata": {},
   "outputs": [],
   "source": []
  }
 ],
 "metadata": {
  "kernelspec": {
   "display_name": "Python 3",
   "language": "python",
   "name": "python3"
  },
  "language_info": {
   "codemirror_mode": {
    "name": "ipython",
    "version": 3
   },
   "file_extension": ".py",
   "mimetype": "text/x-python",
   "name": "python",
   "nbconvert_exporter": "python",
   "pygments_lexer": "ipython3",
   "version": "3.6.5"
  },
  "toc": {
   "colors": {
    "hover_highlight": "#DAA520",
    "running_highlight": "#FF0000",
    "selected_highlight": "#FFD700"
   },
   "moveMenuLeft": true,
   "nav_menu": {
    "height": "29px",
    "width": "252px"
   },
   "navigate_menu": true,
   "number_sections": true,
   "sideBar": true,
   "threshold": 4,
   "toc_cell": false,
   "toc_section_display": "block",
   "toc_window_display": false,
   "widenNotebook": false
  },
  "varInspector": {
   "cols": {
    "lenName": 16,
    "lenType": 16,
    "lenVar": 40
   },
   "kernels_config": {
    "python": {
     "delete_cmd_postfix": "",
     "delete_cmd_prefix": "del ",
     "library": "var_list.py",
     "varRefreshCmd": "print(var_dic_list())"
    },
    "r": {
     "delete_cmd_postfix": ") ",
     "delete_cmd_prefix": "rm(",
     "library": "var_list.r",
     "varRefreshCmd": "cat(var_dic_list()) "
    }
   },
   "types_to_exclude": [
    "module",
    "function",
    "builtin_function_or_method",
    "instance",
    "_Feature"
   ],
   "window_display": false
  }
 },
 "nbformat": 4,
 "nbformat_minor": 2
}
