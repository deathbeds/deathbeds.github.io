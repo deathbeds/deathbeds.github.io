{
 "cells": [
  {
   "cell_type": "markdown",
   "metadata": {},
   "source": [
    "There are a lot of different modes of interactivity, and most of them require Javascript.  There are a reduced set of interactive use cases that can be executed with CSS.  Interactivity is more reliable if it may be cast as CSS.  This post builds off of a recent post that makes [sparklines with `vdom`](2018-12-04-vdom-spark-line.ipynb).  We act interactivity to a sparkline using css."
   ]
  },
  {
   "cell_type": "code",
   "execution_count": 1,
   "metadata": {},
   "outputs": [
    {
     "data": {
      "text/html": [
       "<style>\n",
       ".input .input_area, .nbinput .input_area {\n",
       "    text-decoration: line-through wavy;    \n",
       "    font-weight: bold;\n",
       "\n",
       "}\n",
       ".input:hover .input_area, .nbinput:hover .input_area {\n",
       "    text-decoration: none;\n",
       "    font-weight: normal;\n",
       "}\n",
       "</style>"
      ],
      "text/plain": [
       "<IPython.core.display.HTML object>"
      ]
     },
     "metadata": {},
     "output_type": "display_data"
    },
    {
     "data": {
      "text/html": [
       "<pre><code>%reload_ext pidgin\n",
       "import vdom, pandas, html, IPython    \n",
       "__all__ = 'sparkline',\n",
       "</code></pre>"
      ],
      "text/markdown": [
       "    %reload_ext pidgin\n",
       "    import vdom, pandas, html, IPython    \n",
       "    __all__ = 'sparkline',"
      ],
      "text/plain": [
       "\"    %reload_ext pidgin\\n    import vdom, pandas, html, IPython    \\n    __all__ = 'sparkline',\""
      ]
     },
     "metadata": {},
     "output_type": "display_data"
    }
   ],
   "source": [
    "    %reload_ext pidgin\n",
    "    import vdom, pandas, html, IPython    \n",
    "    __all__ = 'sparkline',"
   ]
  },
  {
   "cell_type": "code",
   "execution_count": 6,
   "metadata": {},
   "outputs": [
    {
     "data": {
      "text/plain": [
       "<style>\n",
       "span.interact:hover .interact-info {display: inline;} \n",
       "span.interact .interact-info {display: none;} \n",
       "</style>"
      ]
     },
     "execution_count": 6,
     "metadata": {},
     "output_type": "execute_result"
    },
    {
     "data": {
      "text/html": [
       "<p><code>style</code> establishes <strong>2</strong> css classes <strong>interact</strong> and <strong>interact-info</strong>, the hit area & target value to show.</p>\n",
       "<pre><code>    style = \\\n",
       "</code></pre>\n",
       "<style>\n",
       "span.interact:hover .interact-info {display: inline;} \n",
       "span.interact .interact-info {display: none;} \n",
       "</style><pre><code>    IPython.display.Pretty(style)\n",
       "</code></pre>"
      ],
      "text/markdown": [
       "`style` establishes __2__ css classes __interact__ and __interact-info__, the hit area & target value to show.\n",
       "            \n",
       "        style = \\\n",
       "<style>\n",
       "span.interact:hover .interact-info {display: inline;} \n",
       "span.interact .interact-info {display: none;} \n",
       "</style>\n",
       "        \n",
       "        IPython.display.Pretty(style)"
      ],
      "text/plain": [
       "'`style` establishes __2__ css classes __interact__ and __interact-info__, the hit area & target value to show.\\n            \\n        style = \\\\\\n<style>\\nspan.interact:hover .interact-info {display: inline;} \\nspan.interact .interact-info {display: none;} \\n</style>\\n        \\n        IPython.display.Pretty(style)'"
      ]
     },
     "metadata": {},
     "output_type": "display_data"
    }
   ],
   "source": [
    "`style` establishes __2__ css classes __interact__ and __interact-info__, the hit area & target value to show.\n",
    "            \n",
    "        style = \\\n",
    "<style>\n",
    "span.interact:hover .interact-info {display: inline;} \n",
    "span.interact .interact-info {display: none;} \n",
    "</style>\n",
    "        \n",
    "        IPython.display.Pretty(style)"
   ]
  },
  {
   "cell_type": "code",
   "execution_count": 7,
   "metadata": {},
   "outputs": [
    {
     "data": {
      "text/html": [
       "<p>Create a <code>vdom.div</code> composed of <code>vdom.span</code>s.  The position of the text glyph in the span indicates\n",
       "a value <code>\"y\"</code> at position <code>\"x\"</code></p>\n",
       "<pre><code>sparkline = lambda x, y: vdom.div(*(\n",
       "    vdom.span(\n",
       "        vdom.span(\n",
       "            '·', style={'vertical-align': F'{y}rem'}\n",
       "        ), vdom.span(\n",
       "            vdom.code('%0.2f, %0.2f'%(x, y)), **{'class': 'interact-info'}\n",
       "        ), **{'class': 'interact'}, style={'border': '1px black'}\n",
       "    )\n",
       "    for x, y in zip(x, y)\n",
       "))\n",
       "</code></pre>"
      ],
      "text/markdown": [
       "Create a `vdom.div` composed of `vdom.span`s.  The position of the text glyph in the span indicates\n",
       "a value `\"y\"` at position `\"x\"` \n",
       "    \n",
       "    sparkline = lambda x, y: vdom.div(*(\n",
       "        vdom.span(\n",
       "            vdom.span(\n",
       "                '·', style={'vertical-align': F'{y}rem'}\n",
       "            ), vdom.span(\n",
       "                vdom.code('%0.2f, %0.2f'%(x, y)), **{'class': 'interact-info'}\n",
       "            ), **{'class': 'interact'}, style={'border': '1px black'}\n",
       "        )\n",
       "        for x, y in zip(x, y)\n",
       "    ))"
      ],
      "text/plain": [
       "'Create a `vdom.div` composed of `vdom.span`s.  The position of the text glyph in the span indicates\\na value `\"y\"` at position `\"x\"` \\n    \\n    sparkline = lambda x, y: vdom.div(*(\\n        vdom.span(\\n            vdom.span(\\n                \\'·\\', style={\\'vertical-align\\': F\\'{y}rem\\'}\\n            ), vdom.span(\\n                vdom.code(\\'%0.2f, %0.2f\\'%(x, y)), **{\\'class\\': \\'interact-info\\'}\\n            ), **{\\'class\\': \\'interact\\'}, style={\\'border\\': \\'1px black\\'}\\n        )\\n        for x, y in zip(x, y)\\n    ))'"
      ]
     },
     "metadata": {},
     "output_type": "display_data"
    }
   ],
   "source": [
    "Create a `vdom.div` composed of `vdom.span`s.  The position of the text glyph in the span indicates\n",
    "a value `\"y\"` at position `\"x\"` \n",
    "    \n",
    "    sparkline = lambda x, y: vdom.div(*(\n",
    "        vdom.span(\n",
    "            vdom.span(\n",
    "                '·', style={'vertical-align': F'{y}rem'}\n",
    "            ), vdom.span(\n",
    "                vdom.code('%0.2f, %0.2f'%(x, y)), **{'class': 'interact-info'}\n",
    "            ), **{'class': 'interact'}, style={'border': '1px black'}\n",
    "        )\n",
    "        for x, y in zip(x, y)\n",
    "    ))"
   ]
  },
  {
   "cell_type": "code",
   "execution_count": 8,
   "metadata": {},
   "outputs": [
    {
     "data": {
      "text/html": [
       "<h2>A Simple Example of the Idea for a Wave.</h2>\n",
       "<p><div><span style=\"border: 1px black\" class=\"interact\"><span style=\"vertical-align: 0.5440211108893698rem\">·</span><span class=\"interact-info\"><code>-10.00, 0.54</code></span></span><span style=\"border: 1px black\" class=\"interact\"><span style=\"vertical-align: 0.3664791292519284rem\">·</span><span class=\"interact-info\"><code>-9.80, 0.37</code></span></span><span style=\"border: 1px black\" class=\"interact\"><span style=\"vertical-align: 0.17432678122297965rem\">·</span><span class=\"interact-info\"><code>-9.60, 0.17</code></span></span><span style=\"border: 1px black\" class=\"interact\"><span style=\"vertical-align: -0.024775425453357765rem\">·</span><span class=\"interact-info\"><code>-9.40, -0.02</code></span></span><span style=\"border: 1px black\" class=\"interact\"><span style=\"vertical-align: -0.22288991410024764rem\">·</span><span class=\"interact-info\"><code>-9.20, -0.22</code></span></span><span style=\"border: 1px black\" class=\"interact\"><span style=\"vertical-align: -0.4121184852417566rem\">·</span><span class=\"interact-info\"><code>-9.00, -0.41</code></span></span><span style=\"border: 1px black\" class=\"interact\"><span style=\"vertical-align: -0.5849171928917617rem\">·</span><span class=\"interact-info\"><code>-8.80, -0.58</code></span></span><span style=\"border: 1px black\" class=\"interact\"><span style=\"vertical-align: -0.7343970978741133rem\">·</span><span class=\"interact-info\"><code>-8.60, -0.73</code></span></span><span style=\"border: 1px black\" class=\"interact\"><span style=\"vertical-align: -0.8545989080882805rem\">·</span><span class=\"interact-info\"><code>-8.40, -0.85</code></span></span><span style=\"border: 1px black\" class=\"interact\"><span style=\"vertical-align: -0.9407305566797731rem\">·</span><span class=\"interact-info\"><code>-8.20, -0.94</code></span></span><span style=\"border: 1px black\" class=\"interact\"><span style=\"vertical-align: -0.9893582466233818rem\">·</span><span class=\"interact-info\"><code>-8.00, -0.99</code></span></span><span style=\"border: 1px black\" class=\"interact\"><span style=\"vertical-align: -0.998543345374605rem\">·</span><span class=\"interact-info\"><code>-7.80, -1.00</code></span></span><span style=\"border: 1px black\" class=\"interact\"><span style=\"vertical-align: -0.9679196720314863rem\">·</span><span class=\"interact-info\"><code>-7.60, -0.97</code></span></span><span style=\"border: 1px black\" class=\"interact\"><span style=\"vertical-align: -0.8987080958116269rem\">·</span><span class=\"interact-info\"><code>-7.40, -0.90</code></span></span><span style=\"border: 1px black\" class=\"interact\"><span style=\"vertical-align: -0.7936678638491527rem\">·</span><span class=\"interact-info\"><code>-7.20, -0.79</code></span></span><span style=\"border: 1px black\" class=\"interact\"><span style=\"vertical-align: -0.6569865987187891rem\">·</span><span class=\"interact-info\"><code>-7.00, -0.66</code></span></span><span style=\"border: 1px black\" class=\"interact\"><span style=\"vertical-align: -0.49411335113860816rem\">·</span><span class=\"interact-info\"><code>-6.80, -0.49</code></span></span><span style=\"border: 1px black\" class=\"interact\"><span style=\"vertical-align: -0.31154136351337786rem\">·</span><span class=\"interact-info\"><code>-6.60, -0.31</code></span></span><span style=\"border: 1px black\" class=\"interact\"><span style=\"vertical-align: -0.11654920485049364rem\">·</span><span class=\"interact-info\"><code>-6.40, -0.12</code></span></span><span style=\"border: 1px black\" class=\"interact\"><span style=\"vertical-align: 0.08308940281749728rem\">·</span><span class=\"interact-info\"><code>-6.20, 0.08</code></span></span><span style=\"border: 1px black\" class=\"interact\"><span style=\"vertical-align: 0.27941549819892586rem\">·</span><span class=\"interact-info\"><code>-6.00, 0.28</code></span></span><span style=\"border: 1px black\" class=\"interact\"><span style=\"vertical-align: 0.46460217941375737rem\">·</span><span class=\"interact-info\"><code>-5.80, 0.46</code></span></span><span style=\"border: 1px black\" class=\"interact\"><span style=\"vertical-align: 0.6312666378723216rem\">·</span><span class=\"interact-info\"><code>-5.60, 0.63</code></span></span><span style=\"border: 1px black\" class=\"interact\"><span style=\"vertical-align: 0.7727644875559877rem\">·</span><span class=\"interact-info\"><code>-5.40, 0.77</code></span></span><span style=\"border: 1px black\" class=\"interact\"><span style=\"vertical-align: 0.8834546557201536rem\">·</span><span class=\"interact-info\"><code>-5.20, 0.88</code></span></span><span style=\"border: 1px black\" class=\"interact\"><span style=\"vertical-align: 0.9589242746631385rem\">·</span><span class=\"interact-info\"><code>-5.00, 0.96</code></span></span><span style=\"border: 1px black\" class=\"interact\"><span style=\"vertical-align: 0.9961646088358407rem\">·</span><span class=\"interact-info\"><code>-4.80, 1.00</code></span></span><span style=\"border: 1px black\" class=\"interact\"><span style=\"vertical-align: 0.9936910036334644rem\">·</span><span class=\"interact-info\"><code>-4.60, 0.99</code></span></span><span style=\"border: 1px black\" class=\"interact\"><span style=\"vertical-align: 0.9516020738895158rem\">·</span><span class=\"interact-info\"><code>-4.40, 0.95</code></span></span><span style=\"border: 1px black\" class=\"interact\"><span style=\"vertical-align: 0.8715757724135877rem\">·</span><span class=\"interact-info\"><code>-4.20, 0.87</code></span></span><span style=\"border: 1px black\" class=\"interact\"><span style=\"vertical-align: 0.7568024953079282rem\">·</span><span class=\"interact-info\"><code>-4.00, 0.76</code></span></span><span style=\"border: 1px black\" class=\"interact\"><span style=\"vertical-align: 0.6118578909427189rem\">·</span><span class=\"interact-info\"><code>-3.80, 0.61</code></span></span><span style=\"border: 1px black\" class=\"interact\"><span style=\"vertical-align: 0.4425204432948521rem\">·</span><span class=\"interact-info\"><code>-3.60, 0.44</code></span></span><span style=\"border: 1px black\" class=\"interact\"><span style=\"vertical-align: 0.2555411020268308rem\">·</span><span class=\"interact-info\"><code>-3.40, 0.26</code></span></span><span style=\"border: 1px black\" class=\"interact\"><span style=\"vertical-align: 0.0583741434275792rem\">·</span><span class=\"interact-info\"><code>-3.20, 0.06</code></span></span><span style=\"border: 1px black\" class=\"interact\"><span style=\"vertical-align: -0.1411200080598672rem\">·</span><span class=\"interact-info\"><code>-3.00, -0.14</code></span></span><span style=\"border: 1px black\" class=\"interact\"><span style=\"vertical-align: -0.3349881501559051rem\">·</span><span class=\"interact-info\"><code>-2.80, -0.33</code></span></span><span style=\"border: 1px black\" class=\"interact\"><span style=\"vertical-align: -0.5155013718214645rem\">·</span><span class=\"interact-info\"><code>-2.60, -0.52</code></span></span><span style=\"border: 1px black\" class=\"interact\"><span style=\"vertical-align: -0.6754631805511513rem\">·</span><span class=\"interact-info\"><code>-2.40, -0.68</code></span></span><span style=\"border: 1px black\" class=\"interact\"><span style=\"vertical-align: -0.8084964038195906rem\">·</span><span class=\"interact-info\"><code>-2.20, -0.81</code></span></span><span style=\"border: 1px black\" class=\"interact\"><span style=\"vertical-align: -0.9092974268256817rem\">·</span><span class=\"interact-info\"><code>-2.00, -0.91</code></span></span><span style=\"border: 1px black\" class=\"interact\"><span style=\"vertical-align: -0.9738476308781955rem\">·</span><span class=\"interact-info\"><code>-1.80, -0.97</code></span></span><span style=\"border: 1px black\" class=\"interact\"><span style=\"vertical-align: -0.9995736030415052rem\">·</span><span class=\"interact-info\"><code>-1.60, -1.00</code></span></span><span style=\"border: 1px black\" class=\"interact\"><span style=\"vertical-align: -0.9854497299884603rem\">·</span><span class=\"interact-info\"><code>-1.40, -0.99</code></span></span><span style=\"border: 1px black\" class=\"interact\"><span style=\"vertical-align: -0.9320390859672261rem\">·</span><span class=\"interact-info\"><code>-1.20, -0.93</code></span></span><span style=\"border: 1px black\" class=\"interact\"><span style=\"vertical-align: -0.8414709848078965rem\">·</span><span class=\"interact-info\"><code>-1.00, -0.84</code></span></span><span style=\"border: 1px black\" class=\"interact\"><span style=\"vertical-align: -0.717356090899522rem\">·</span><span class=\"interact-info\"><code>-0.80, -0.72</code></span></span><span style=\"border: 1px black\" class=\"interact\"><span style=\"vertical-align: -0.564642473395035rem\">·</span><span class=\"interact-info\"><code>-0.60, -0.56</code></span></span><span style=\"border: 1px black\" class=\"interact\"><span style=\"vertical-align: -0.3894183423086492rem\">·</span><span class=\"interact-info\"><code>-0.40, -0.39</code></span></span><span style=\"border: 1px black\" class=\"interact\"><span style=\"vertical-align: -0.19866933079506052rem\">·</span><span class=\"interact-info\"><code>-0.20, -0.20</code></span></span><span style=\"border: 1px black\" class=\"interact\"><span style=\"vertical-align: 0.0rem\">·</span><span class=\"interact-info\"><code>0.00, 0.00</code></span></span><span style=\"border: 1px black\" class=\"interact\"><span style=\"vertical-align: 0.19866933079506227rem\">·</span><span class=\"interact-info\"><code>0.20, 0.20</code></span></span><span style=\"border: 1px black\" class=\"interact\"><span style=\"vertical-align: 0.3894183423086508rem\">·</span><span class=\"interact-info\"><code>0.40, 0.39</code></span></span><span style=\"border: 1px black\" class=\"interact\"><span style=\"vertical-align: 0.5646424733950365rem\">·</span><span class=\"interact-info\"><code>0.60, 0.56</code></span></span><span style=\"border: 1px black\" class=\"interact\"><span style=\"vertical-align: 0.7173560908995232rem\">·</span><span class=\"interact-info\"><code>0.80, 0.72</code></span></span><span style=\"border: 1px black\" class=\"interact\"><span style=\"vertical-align: 0.8414709848078965rem\">·</span><span class=\"interact-info\"><code>1.00, 0.84</code></span></span><span style=\"border: 1px black\" class=\"interact\"><span style=\"vertical-align: 0.9320390859672267rem\">·</span><span class=\"interact-info\"><code>1.20, 0.93</code></span></span><span style=\"border: 1px black\" class=\"interact\"><span style=\"vertical-align: 0.9854497299884603rem\">·</span><span class=\"interact-info\"><code>1.40, 0.99</code></span></span><span style=\"border: 1px black\" class=\"interact\"><span style=\"vertical-align: 0.9995736030415051rem\">·</span><span class=\"interact-info\"><code>1.60, 1.00</code></span></span><span style=\"border: 1px black\" class=\"interact\"><span style=\"vertical-align: 0.973847630878195rem\">·</span><span class=\"interact-info\"><code>1.80, 0.97</code></span></span><span style=\"border: 1px black\" class=\"interact\"><span style=\"vertical-align: 0.9092974268256817rem\">·</span><span class=\"interact-info\"><code>2.00, 0.91</code></span></span><span style=\"border: 1px black\" class=\"interact\"><span style=\"vertical-align: 0.8084964038195895rem\">·</span><span class=\"interact-info\"><code>2.20, 0.81</code></span></span><span style=\"border: 1px black\" class=\"interact\"><span style=\"vertical-align: 0.6754631805511506rem\">·</span><span class=\"interact-info\"><code>2.40, 0.68</code></span></span><span style=\"border: 1px black\" class=\"interact\"><span style=\"vertical-align: 0.515501371821463rem\">·</span><span class=\"interact-info\"><code>2.60, 0.52</code></span></span><span style=\"border: 1px black\" class=\"interact\"><span style=\"vertical-align: 0.3349881501559043rem\">·</span><span class=\"interact-info\"><code>2.80, 0.33</code></span></span><span style=\"border: 1px black\" class=\"interact\"><span style=\"vertical-align: 0.1411200080598672rem\">·</span><span class=\"interact-info\"><code>3.00, 0.14</code></span></span><span style=\"border: 1px black\" class=\"interact\"><span style=\"vertical-align: -0.058374143427580974rem\">·</span><span class=\"interact-info\"><code>3.20, -0.06</code></span></span><span style=\"border: 1px black\" class=\"interact\"><span style=\"vertical-align: -0.25554110202683167rem\">·</span><span class=\"interact-info\"><code>3.40, -0.26</code></span></span><span style=\"border: 1px black\" class=\"interact\"><span style=\"vertical-align: -0.4425204432948537rem\">·</span><span class=\"interact-info\"><code>3.60, -0.44</code></span></span><span style=\"border: 1px black\" class=\"interact\"><span style=\"vertical-align: -0.6118578909427197rem\">·</span><span class=\"interact-info\"><code>3.80, -0.61</code></span></span><span style=\"border: 1px black\" class=\"interact\"><span style=\"vertical-align: -0.7568024953079282rem\">·</span><span class=\"interact-info\"><code>4.00, -0.76</code></span></span><span style=\"border: 1px black\" class=\"interact\"><span style=\"vertical-align: -0.8715757724135886rem\">·</span><span class=\"interact-info\"><code>4.20, -0.87</code></span></span><span style=\"border: 1px black\" class=\"interact\"><span style=\"vertical-align: -0.9516020738895161rem\">·</span><span class=\"interact-info\"><code>4.40, -0.95</code></span></span><span style=\"border: 1px black\" class=\"interact\"><span style=\"vertical-align: -0.9936910036334646rem\">·</span><span class=\"interact-info\"><code>4.60, -0.99</code></span></span><span style=\"border: 1px black\" class=\"interact\"><span style=\"vertical-align: -0.9961646088358406rem\">·</span><span class=\"interact-info\"><code>4.80, -1.00</code></span></span><span style=\"border: 1px black\" class=\"interact\"><span style=\"vertical-align: -0.9589242746631385rem\">·</span><span class=\"interact-info\"><code>5.00, -0.96</code></span></span><span style=\"border: 1px black\" class=\"interact\"><span style=\"vertical-align: -0.8834546557201528rem\">·</span><span class=\"interact-info\"><code>5.20, -0.88</code></span></span><span style=\"border: 1px black\" class=\"interact\"><span style=\"vertical-align: -0.7727644875559871rem\">·</span><span class=\"interact-info\"><code>5.40, -0.77</code></span></span><span style=\"border: 1px black\" class=\"interact\"><span style=\"vertical-align: -0.6312666378723202rem\">·</span><span class=\"interact-info\"><code>5.60, -0.63</code></span></span><span style=\"border: 1px black\" class=\"interact\"><span style=\"vertical-align: -0.4646021794137566rem\">·</span><span class=\"interact-info\"><code>5.80, -0.46</code></span></span><span style=\"border: 1px black\" class=\"interact\"><span style=\"vertical-align: -0.27941549819892586rem\">·</span><span class=\"interact-info\"><code>6.00, -0.28</code></span></span><span style=\"border: 1px black\" class=\"interact\"><span style=\"vertical-align: -0.08308940281749728rem\">·</span><span class=\"interact-info\"><code>6.20, -0.08</code></span></span><span style=\"border: 1px black\" class=\"interact\"><span style=\"vertical-align: 0.1165492048504954rem\">·</span><span class=\"interact-info\"><code>6.40, 0.12</code></span></span><span style=\"border: 1px black\" class=\"interact\"><span style=\"vertical-align: 0.3115413635133795rem\">·</span><span class=\"interact-info\"><code>6.60, 0.31</code></span></span><span style=\"border: 1px black\" class=\"interact\"><span style=\"vertical-align: 0.49411335113860894rem\">·</span><span class=\"interact-info\"><code>6.80, 0.49</code></span></span><span style=\"border: 1px black\" class=\"interact\"><span style=\"vertical-align: 0.6569865987187891rem\">·</span><span class=\"interact-info\"><code>7.00, 0.66</code></span></span><span style=\"border: 1px black\" class=\"interact\"><span style=\"vertical-align: 0.7936678638491527rem\">·</span><span class=\"interact-info\"><code>7.20, 0.79</code></span></span><span style=\"border: 1px black\" class=\"interact\"><span style=\"vertical-align: 0.8987080958116277rem\">·</span><span class=\"interact-info\"><code>7.40, 0.90</code></span></span><span style=\"border: 1px black\" class=\"interact\"><span style=\"vertical-align: 0.9679196720314868rem\">·</span><span class=\"interact-info\"><code>7.60, 0.97</code></span></span><span style=\"border: 1px black\" class=\"interact\"><span style=\"vertical-align: 0.998543345374605rem\">·</span><span class=\"interact-info\"><code>7.80, 1.00</code></span></span><span style=\"border: 1px black\" class=\"interact\"><span style=\"vertical-align: 0.9893582466233818rem\">·</span><span class=\"interact-info\"><code>8.00, 0.99</code></span></span><span style=\"border: 1px black\" class=\"interact\"><span style=\"vertical-align: 0.9407305566797731rem\">·</span><span class=\"interact-info\"><code>8.20, 0.94</code></span></span><span style=\"border: 1px black\" class=\"interact\"><span style=\"vertical-align: 0.8545989080882795rem\">·</span><span class=\"interact-info\"><code>8.40, 0.85</code></span></span><span style=\"border: 1px black\" class=\"interact\"><span style=\"vertical-align: 0.7343970978741122rem\">·</span><span class=\"interact-info\"><code>8.60, 0.73</code></span></span><span style=\"border: 1px black\" class=\"interact\"><span style=\"vertical-align: 0.5849171928917617rem\">·</span><span class=\"interact-info\"><code>8.80, 0.58</code></span></span><span style=\"border: 1px black\" class=\"interact\"><span style=\"vertical-align: 0.4121184852417566rem\">·</span><span class=\"interact-info\"><code>9.00, 0.41</code></span></span><span style=\"border: 1px black\" class=\"interact\"><span style=\"vertical-align: 0.2228899141002442rem\">·</span><span class=\"interact-info\"><code>9.20, 0.22</code></span></span><span style=\"border: 1px black\" class=\"interact\"><span style=\"vertical-align: 0.02477542545335599rem\">·</span><span class=\"interact-info\"><code>9.40, 0.02</code></span></span><span style=\"border: 1px black\" class=\"interact\"><span style=\"vertical-align: -0.1743267812229814rem\">·</span><span class=\"interact-info\"><code>9.60, -0.17</code></span></span><span style=\"border: 1px black\" class=\"interact\"><span style=\"vertical-align: -0.3664791292519284rem\">·</span><span class=\"interact-info\"><code>9.80, -0.37</code></span></span><span style=\"border: 1px black\" class=\"interact\"><span style=\"vertical-align: -0.5440211108893698rem\">·</span><span class=\"interact-info\"><code>10.00, -0.54</code></span></span></div>\n",
       "A sample interactive sparkline visualization of a wave defined in <code>x</code> and <code>y</code>.</p>\n",
       "<pre><code>x = pandas.np.linspace(-10, 10, 101)\n",
       "y = pandas.np.sin(x)\n",
       "</code></pre>"
      ],
      "text/markdown": [
       "## A Simple Example of the Idea for a Wave.\n",
       "\n",
       "{{sparkline(x, y)}}\n",
       "A sample interactive sparkline visualization of a wave defined in `x` and `y`.\n",
       "\n",
       "    x = pandas.np.linspace(-10, 10, 101)\n",
       "    y = pandas.np.sin(x)\n",
       "    "
      ],
      "text/plain": [
       "'## A Simple Example of the Idea for a Wave.\\n\\n{{sparkline(x, y)}}\\nA sample interactive sparkline visualization of a wave defined in `x` and `y`.\\n\\n    x = pandas.np.linspace(-10, 10, 101)\\n    y = pandas.np.sin(x)\\n    '"
      ]
     },
     "metadata": {},
     "output_type": "display_data"
    }
   ],
   "source": [
    "## A Simple Example of the Idea for a Wave.\n",
    "\n",
    "{{sparkline(x, y)}}\n",
    "A sample interactive sparkline visualization of a wave defined in `x` and `y`.\n",
    "\n",
    "    x = pandas.np.linspace(-10, 10, 101)\n",
    "    y = pandas.np.sin(x)\n",
    "    "
   ]
  }
 ],
 "metadata": {
  "kernelspec": {
   "display_name": "Python 3",
   "language": "python",
   "name": "python3"
  },
  "language_info": {
   "codemirror_mode": {
    "name": "ipython",
    "version": 3
   },
   "file_extension": ".py",
   "mimetype": "text/x-python",
   "name": "python",
   "nbconvert_exporter": "python",
   "pygments_lexer": "ipython3",
   "version": "3.6.6"
  },
  "nikola": {
   "category": "",
   "date": "2018-12-07 08:34:53 UTC-05:00",
   "description": "",
   "link": "",
   "slug": "2018-12-07-interactive-sparklines-with-css",
   "tags": "",
   "title": "2018 12 07 Interactive sparklines with css",
   "type": "text"
  }
 },
 "nbformat": 4,
 "nbformat_minor": 2
}
