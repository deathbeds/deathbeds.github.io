{
 "cells": [
  {
   "cell_type": "markdown",
   "metadata": {},
   "source": [
    "# cadquery and widgets\n",
    "[cadquery](https://github.com/dcowden/cadquery) (currently powered by [FreeCAD](https://github.com/FreeCAD/FreeCAD)) provides a useful high-level parametric worflow to Python. Now you can install them both with `conda`:\n",
    "```bash\n",
    "conda install -c conda-forge freecad cadquery ipywidgets\n",
    "```\n",
    "This may take a while. While we have a moment together..."
   ]
  },
  {
   "cell_type": "code",
   "execution_count": 1,
   "metadata": {},
   "outputs": [],
   "source": [
    "import pandas as pd\n",
    "import cadquery as cq\n",
    "import traitlets as T\n",
    "import ipywidgets as W\n",
    "from IPython.display import SVG"
   ]
  },
  {
   "cell_type": "markdown",
   "metadata": {},
   "source": [
    "## Make you a box\n",
    "`cadquery` gives you high-level [solid modeling](https://en.wikipedia.org/wiki/Solid_modeling) primitives to create three-dimensional objects like adding `box`es and boring `hole`s. Sometimes more importantly, it provides input/output options like STEP, STL, and IGES. For quick rendering in the browser, let's use **SVG**."
   ]
  },
  {
   "cell_type": "code",
   "execution_count": 2,
   "metadata": {},
   "outputs": [
    {
     "data": {
      "image/svg+xml": [
       "<svg height=\"240.0\" width=\"800.0\" xmlns=\"http://www.w3.org/2000/svg\" xmlns:svg=\"http://www.w3.org/2000/svg\">\n",
       "    <g fill=\"none\" stroke-width=\"0.014450472777380966\" transform=\"scale(69.20188809083672, -69.20188809083672)   translate(3.857549370751361,-1.5895520055119063)\">\n",
       "       <!-- hidden lines -->\n",
       "       <g fill=\"none\" stroke=\"rgb(160, 160, 160)\" stroke-dasharray=\"0.014450472777380966,0.014450472777380966\">\n",
       "\t\t\t<path d=\" M -0.0235965 -0.657686 L 0.967455 -1.23338 \"/>\n",
       "\t\t\t<path d=\" M -0.0235965 -0.657686 L -0.0235965 1.30054 \"/>\n",
       "\t\t\t<path d=\" M -0.967455 -0.72485 L -0.0235965 -0.657686 \"/>\n",
       "\n",
       "       </g>\n",
       "\n",
       "       <!-- solid lines -->\n",
       "       <g fill=\"none\" stroke=\"rgb(0, 0, 0)\">\n",
       "\t\t\t<path d=\" M -0.967455 -0.72485 L 0.0235965 -1.30054 \"/>\n",
       "\t\t\t<path d=\" M 0.0235965 -1.30054 L 0.0235965 0.657686 \"/>\n",
       "\t\t\t<path d=\" M -0.967455 1.23338 L 0.0235965 0.657686 \"/>\n",
       "\t\t\t<path d=\" M -0.967455 -0.72485 L -0.967455 1.23338 \"/>\n",
       "\t\t\t<path d=\" M 0.967455 -1.23338 L 0.967455 0.72485 \"/>\n",
       "\t\t\t<path d=\" M -0.0235965 1.30054 L 0.967455 0.72485 \"/>\n",
       "\t\t\t<path d=\" M 0.0235965 -1.30054 L 0.967455 -1.23338 \"/>\n",
       "\t\t\t<path d=\" M -0.967455 1.23338 L -0.0235965 1.30054 \"/>\n",
       "\t\t\t<path d=\" M 0.0235965 0.657686 L 0.967455 0.72485 \"/>\n",
       "\n",
       "       </g>\n",
       "    </g>\n",
       "</svg>"
      ],
      "text/plain": [
       "<IPython.core.display.SVG object>"
      ]
     },
     "metadata": {},
     "output_type": "display_data"
    }
   ],
   "source": [
    "if __name__ == \"__main__\":\n",
    "    display(SVG(cq.Workplane(\"XY\").box(1, 2, 3).toSvg()))"
   ]
  },
  {
   "cell_type": "markdown",
   "metadata": {},
   "source": [
    "## Reusable geometry\n",
    "Defining _geometry as functions_ which accept and return `cadquery.CQ` objects provides a nice API for you and others to reuse geometry. Geometry can even mean _negative space_, like `hole`s."
   ]
  },
  {
   "cell_type": "code",
   "execution_count": 3,
   "metadata": {},
   "outputs": [],
   "source": [
    "def make_a_box_with_a_hole(box_size=1, hole_width=0.5, hole_face=\"Z\", part=None):\n",
    "    if part is None:\n",
    "        part = cq.Workplane(\"XY\") \n",
    "    return (part                     # work on the XY Plane\n",
    "            .box(*([box_size] * 3))  # make the box\n",
    "            .faces(hole_face)        # select the faces parallel to X\n",
    "            .hole(hole_width)        # bore out a hole\n",
    "           )"
   ]
  },
  {
   "cell_type": "markdown",
   "metadata": {},
   "source": [
    "### IPython.display.SVG\n",
    "With rich outputs like `IPython.display.SVG`, we can view a high-quality, static version of the part."
   ]
  },
  {
   "cell_type": "code",
   "execution_count": 4,
   "metadata": {},
   "outputs": [
    {
     "data": {
      "image/svg+xml": [
       "<svg height=\"240.0\" width=\"800.0\" xmlns=\"http://www.w3.org/2000/svg\" xmlns:svg=\"http://www.w3.org/2000/svg\">\n",
       "    <g fill=\"none\" stroke-width=\"0.00787882710493772\" transform=\"scale(126.92244501383874, -126.92244501383874)   translate(2.2128698115346057,-0.956677510298642)\">\n",
       "       <!-- hidden lines -->\n",
       "       <g fill=\"none\" stroke=\"rgb(160, 160, 160)\" stroke-dasharray=\"0.00787882710493772,0.00787882710493772\">\n",
       "\t\t\t<path d=\" M -0.637104 -0.42719 L 0.306754 -0.360026 \"/>\n",
       "\t\t\t<path d=\" M 0.306754 -0.360026 L 0.637104 -0.551924 \"/>\n",
       "\t\t\t<path d=\" M -0.318552 0.574592 L 0.306754 0.619088 \"/>\n",
       "\t\t\t<path d=\" M 0.306754 0.619088 L 0.318552 0.612234 \"/>\n",
       "\t\t\t<path d=\" M 0.318552 0.458374 L 0.153377 0.554322 \"/>\n",
       "\t\t\t<path d=\" M -0.318552 0.52074 L 0.153377 0.554322 \"/>\n",
       "\t\t\t<path d=\" M 0.306754 -0.360026 L 0.306754 0.619088 \"/>\n",
       "\t\t\t<path d=\"M-0.40114 0.0791578 A0.25 0.231036 59.8481 0 0 -0.0396016 0.312123\"/>\n",
       "\t\t\t<path d=\"M-0.0396016 0.312123 A0.25 0.231036 59.8481 0 0 0.0706345 0.121597\"/>\n",
       "\t\t\t<path d=\"M-0.0706345 -0.121597 A0.25 0.231036 59.8481 0 0 -0.290749 -0.120225\"/>\n",
       "\t\t\t<path d=\"M-0.290749 -0.120225 A0.25 0.231036 59.8481 0 0 -0.40114 0.0791578\"/>\n",
       "\t\t\t<path d=\" M 0.0825876 0.196804 L -0.0825876 0.292753 \"/>\n",
       "\t\t\t<path d=\" M 0.153377 0.554322 L 0.153377 0.799101 \"/>\n",
       "\t\t\t<path d=\"M-0.141579 0.655723 A0.0625 0.0577591 59.8481 0 0 -0.0511942 0.713964\"/>\n",
       "\t\t\t<path d=\"M-0.0511942 0.713964 A0.0625 0.0577591 59.8481 0 0 -0.113981 0.605877\"/>\n",
       "\t\t\t<path d=\"M-0.113981 0.605877 A0.0625 0.0577591 59.8481 0 0 -0.141579 0.655723\"/>\n",
       "\t\t\t<path d=\" M 0.290749 0.120225 L -0.0396016 0.312123 \"/>\n",
       "\t\t\t<path d=\" M 0.0396016 -0.312123 L -0.290749 -0.120225 \"/>\n",
       "\t\t\t<path d=\" M 0.113981 0.618015 L -0.0511942 0.713964 \"/>\n",
       "\t\t\t<path d=\" M 0.0511942 0.509928 L -0.113981 0.605877 \"/>\n",
       "\n",
       "       </g>\n",
       "\n",
       "       <!-- solid lines -->\n",
       "       <g fill=\"none\" stroke=\"rgb(0, 0, 0)\">\n",
       "\t\t\t<path d=\" M -0.637104 -0.42719 L -0.306754 -0.619088 \"/>\n",
       "\t\t\t<path d=\" M -0.306754 -0.619088 L -0.306754 0.360026 \"/>\n",
       "\t\t\t<path d=\" M -0.637104 0.551924 L -0.306754 0.360026 \"/>\n",
       "\t\t\t<path d=\" M -0.637104 -0.42719 L -0.637104 0.551924 \"/>\n",
       "\t\t\t<path d=\" M -0.306754 -0.619088 L 0.637104 -0.551924 \"/>\n",
       "\t\t\t<path d=\" M -0.306754 0.360026 L 0.637104 0.42719 \"/>\n",
       "\t\t\t<path d=\" M 0.637104 -0.551924 L 0.637104 0.42719 \"/>\n",
       "\t\t\t<path d=\"M-0.0707894 -0.11274 A0.25 0.231036 59.8481 0 0 0.290749 0.120225\"/>\n",
       "\t\t\t<path d=\"M0.290749 0.120225 A0.25 0.231036 59.8481 0 0 0.0396016 -0.312123\"/>\n",
       "\t\t\t<path d=\"M0.0396016 -0.312123 A0.25 0.231036 59.8481 0 0 -0.0707894 -0.11274\"/>\n",
       "\t\t\t<path d=\" M -0.637104 0.551924 L -0.318552 0.574592 \"/>\n",
       "\t\t\t<path d=\" M 0.318552 0.612234 L 0.637104 0.42719 \"/>\n",
       "\t\t\t<path d=\" M -0.153377 0.424792 L 0.318552 0.458374 \"/>\n",
       "\t\t\t<path d=\" M -0.153377 0.424792 L -0.318552 0.52074 \"/>\n",
       "\t\t\t<path d=\"M0.0706345 0.121597 A0.25 0.231036 59.8481 0 0 -0.0706345 -0.121597\"/>\n",
       "\t\t\t<path d=\" M -0.153377 0.424792 L -0.153377 0.66957 \"/>\n",
       "\t\t\t<path d=\" M -0.153377 0.66957 L 0.318552 0.703152 \"/>\n",
       "\t\t\t<path d=\" M 0.318552 0.458374 L 0.318552 0.703152 \"/>\n",
       "\t\t\t<path d=\"M0.0235965 0.559774 A0.0625 0.0577591 59.8481 0 0 0.113981 0.618015\"/>\n",
       "\t\t\t<path d=\"M0.113981 0.618015 A0.0625 0.0577591 59.8481 0 0 0.0511942 0.509928\"/>\n",
       "\t\t\t<path d=\"M0.0511942 0.509928 A0.0625 0.0577591 59.8481 0 0 0.0235965 0.559774\"/>\n",
       "\t\t\t<path d=\" M 0.153377 0.799101 L 0.318552 0.703152 \"/>\n",
       "\t\t\t<path d=\" M -0.318552 0.52074 L -0.318552 0.765519 \"/>\n",
       "\t\t\t<path d=\" M -0.318552 0.765519 L 0.153377 0.799101 \"/>\n",
       "\t\t\t<path d=\" M -0.318552 0.765519 L -0.153377 0.66957 \"/>\n",
       "\n",
       "       </g>\n",
       "    </g>\n",
       "</svg>"
      ],
      "text/plain": [
       "<IPython.core.display.SVG object>"
      ]
     },
     "metadata": {},
     "output_type": "display_data"
    }
   ],
   "source": [
    "if __name__ == \"__main__\":\n",
    "    part = make_a_box_with_a_hole()\n",
    "    part = make_a_box_with_a_hole(0.5, 0.125, part=part.faces(\"Y\"))\n",
    "    display(SVG(part.toSvg()))"
   ]
  },
  {
   "cell_type": "markdown",
   "metadata": {},
   "source": [
    "### ipywidgets.interact\n",
    "With `ipywidgets.interact`, we can quickly inspect the resulting part."
   ]
  },
  {
   "cell_type": "code",
   "execution_count": 5,
   "metadata": {},
   "outputs": [
    {
     "data": {
      "application/vnd.jupyter.widget-view+json": {
       "model_id": "201f8d92f05b4a2fbe56cccd50889545",
       "version_major": 2,
       "version_minor": 0
      },
      "text/plain": [
       "interactive(children=(FloatSlider(value=2.5500000000000003, description='box_size', max=5.0, min=0.1), FloatSl…"
      ]
     },
     "metadata": {},
     "output_type": "display_data"
    }
   ],
   "source": [
    "if __name__ == \"__main__\":\n",
    "    faces = \"Z X Y |X |Y |Z <X <Y <Z\".split(\" \")\n",
    "    part = None\n",
    "    @W.interact\n",
    "    def blockhole(box_size=(0.1, 5), hole_size=(0.1, 5), hole_face=faces, \n",
    "                  block_face=faces,\n",
    "                  box_size2=(0.1, 5), hole_size2=(0.1, 5), hole_face2=faces, \n",
    "                 ):\n",
    "        global part\n",
    "        try: \n",
    "            _part = make_a_box_with_a_hole(box_size, hole_size, hole_face)\n",
    "            _part = make_a_box_with_a_hole(box_size2, hole_size2, hole_face2, part=_part.faces(block_face))\n",
    "            display(SVG(_part.toSvg()))\n",
    "            part = _part\n",
    "        except Exception as err: print(err)"
   ]
  },
  {
   "cell_type": "markdown",
   "metadata": {},
   "source": [
    "## I've been working on the Workplane\n",
    "\n",
    "The `cadquery.Workplane` workflow is very powerful, and can describe complex geometry with very little intermediate naming. This is derived from the [OCC Bottle Example](https://dcowden.github.io/cadquery/examples.html#the-classic-occ-bottle)."
   ]
  },
  {
   "cell_type": "code",
   "execution_count": 6,
   "metadata": {},
   "outputs": [],
   "source": [
    "def make_a_bottle_with_a_hole(length=20.0, width=6.0, extent=3.0, height=20.0, neck_width=2, neck_height=3.0, shell=0.5):\n",
    "    p = (cq.Workplane(\"XY\")\n",
    "         .center(-length / 2.0, 0)\n",
    "         .vLine(width / 2.0)\n",
    "         .threePointArc((length / 2.0, width / 2.0 + extent), (length, width / 2.0))\n",
    "         .vLine(-width / 2.0)\n",
    "         .mirrorX().extrude(height, True)\n",
    "    )\n",
    "    (p.faces(\">Z\").workplane()\n",
    "     .circle(neck_width)\n",
    "     .extrude(neck_height, True)\n",
    "    )\n",
    "    return p.faces(\">Z\").shell(shell)"
   ]
  },
  {
   "cell_type": "code",
   "execution_count": 7,
   "metadata": {},
   "outputs": [
    {
     "data": {
      "image/svg+xml": [
       "<svg height=\"240.0\" width=\"800.0\" xmlns=\"http://www.w3.org/2000/svg\" xmlns:svg=\"http://www.w3.org/2000/svg\">\n",
       "    <g fill=\"none\" stroke-width=\"0.09653380615589038\" transform=\"scale(10.359065283151908, -10.359065283151908)   translate(29.247699766519737,-8.337867847400942)\">\n",
       "       <!-- hidden lines -->\n",
       "       <g fill=\"none\" stroke=\"rgb(160, 160, 160)\" stroke-dasharray=\"0.09653380615589038,0.09653380615589038\">\n",
       "\t\t\t<path d=\"M9.13183 -3.76599 A2.5 2.31036 59.8481 0 0 5.51645 -6.09564\"/>\n",
       "\t\t\t<path d=\"M8.02792 -1.77216 A2.5 2.31036 59.8481 0 0 9.13183 -3.76599\"/>\n",
       "\t\t\t<path d=\" M -9.43858 2.2657 L -2.83158 -1.57225 \"/>\n",
       "\t\t\t<path d=\" M -9.43858 -0.671642 L -9.43858 2.2657 \"/>\n",
       "\t\t\t<path d=\" M -2.83158 -4.50959 L -2.83158 -1.57225 \"/>\n",
       "\t\t\t<path d=\" M -9.43858 -3.60898 L -2.83158 -7.44694 \"/>\n",
       "\t\t\t<path d=\"M-9.43858,-0.671642 L-9.43858,-3.60898 \"/>\n",
       "\t\t\t<path d=\"M-2.83158,-4.50959 L-2.83158,-7.44694 \"/>\n",
       "\t\t\t<path d=\" M 9.43858 3.60898 L 16.0456 -0.228969 \"/>\n",
       "\t\t\t<path d=\"M-9.43858 2.2657 A18.1667 16.7886 59.8481 0 0 9.12502 3.7961\"/>\n",
       "\t\t\t<path d=\"M9.12502 3.7961 A18.1667 16.7886 59.8481 0 0 9.43858 3.60898\"/>\n",
       "\t\t\t<path d=\"M-2.83158 -1.57225 A18.1667 16.7886 59.8481 0 0 15.732 -0.041852\"/>\n",
       "\t\t\t<path d=\"M15.732 -0.041852 A18.1667 16.7886 59.8481 0 0 16.0456 -0.228969\"/>\n",
       "\t\t\t<path d=\" M 9.43858 3.60898 L 9.43858 0.671642 \"/>\n",
       "\t\t\t<path d=\"M-9.43858,-3.60898 Q-9.2834,-3.70409 -9.12502,-3.7961 \"/>\n",
       "\t\t\t<path d=\"M-9.12502,-3.7961 C-8.09848,-4.39278 -6.97012,-4.88887 -5.7688,-5.2483  C-4.56805,-5.60829 -3.29483,-5.83083 -1.99434,-5.89588  C-0.694089,-5.96175 0.632476,-5.86984 1.93354,-5.62364  C3.23482,-5.37825 4.50964,-4.97898 5.7126,-4.452 \"/>\n",
       "\t\t\t<path d=\"M8.37104,-3.01526 Q8.9221,-2.65599 9.43858,-2.2657 \"/>\n",
       "\t\t\t<path d=\"M9.43858,-2.2657 L9.43858,0.671642 \"/>\n",
       "\t\t\t<path d=\"M-2.83158,-7.44694 Q-2.67639,-7.54204 -2.51801,-7.63405 \"/>\n",
       "\t\t\t<path d=\"M-2.51801,-7.63405 C-1.20491,-8.39787 0.27685,-8.99569 1.86142,-9.35553  C3.44469,-9.7171 5.12856,-9.83832 6.8096,-9.69698  C8.49071,-9.55785 10.1655,-9.15652 11.7324,-8.53468  C13.3007,-7.9143 14.759,-7.07619 16.0456,-6.10365 \"/>\n",
       "\t\t\t<path d=\" M 16.0456 -0.228969 L 16.0456 -3.16631 \"/>\n",
       "\t\t\t<path d=\"M16.0456,-6.10365 L16.0456,-3.16631 \"/>\n",
       "\t\t\t<path d=\"M8.05762 -2.48163 A2 1.84829 -120.152 0 1 7.6116 -2.10856\"/>\n",
       "\t\t\t<path d=\"M7.6116 -2.10856 A2 1.84829 -120.152 0 1 5.60242 -5.56735\"/>\n",
       "\t\t\t<path d=\"M5.60242 -5.56735 A2 1.84829 -120.152 0 1 6.14745 -5.76997\"/>\n",
       "\t\t\t<path d=\" M 9.43858 -2.2657 L 16.0456 -6.10365 \"/>\n",
       "\t\t\t<path d=\"M-9.3765,-4.22825 L-9.45893,-4.18003 \"/>\n",
       "\t\t\t<path d=\"M-9.45969,-4.17959 L-9.54018,-4.13186 \"/>\n",
       "\t\t\t<path d=\"M-9.54326,-4.13002 L-9.62021,-4.08376 \"/>\n",
       "\t\t\t<path d=\"M-9.6276,-4.07929 L-9.69331,-4.03928 \"/>\n",
       "\t\t\t<path d=\" M 15.732 -0.041852 L 9.12502 3.7961 \"/>\n",
       "\t\t\t<path d=\"M-9.12502,-3.7961 L-2.51801,-7.63405 \"/>\n",
       "\t\t\t<path d=\" M 8.60265 -2.68425 L 7.6116 -2.10856 \"/>\n",
       "\t\t\t<path d=\" M 6.59347 -6.14304 L 5.60242 -5.56735 \"/>\n",
       "\n",
       "       </g>\n",
       "\n",
       "       <!-- solid lines -->\n",
       "       <g fill=\"none\" stroke=\"rgb(0, 0, 0)\">\n",
       "\t\t\t<path d=\"M-9.93858,-3.60898 L-9.93858,-0.671642 \"/>\n",
       "\t\t\t<path d=\"M-9.93858 -3.60898 A0.5 0.5 0 0 1 -9.69984 -4.0353\"/>\n",
       "\t\t\t<path d=\"M-9.45893,-4.18003 L-9.45969,-4.17959 \"/>\n",
       "\t\t\t<path d=\"M-9.54018,-4.13186 L-9.54326,-4.13002 \"/>\n",
       "\t\t\t<path d=\"M-9.62021,-4.08376 L-9.6276,-4.07929 \"/>\n",
       "\t\t\t<path d=\"M-9.69331,-4.03928 L-9.69984,-4.0353 \"/>\n",
       "\t\t\t<path d=\"M-9.37617,-4.22845 L-2.76916,-8.0664 \"/>\n",
       "\t\t\t<path d=\"M16.5456 -0.228969 A0.5 0.5 0 0 1 16.3068 0.19735\"/>\n",
       "\t\t\t<path d=\" M 16.5456 -0.228969 L 16.5456 -3.16631 \"/>\n",
       "\t\t\t<path d=\"M16.5456,-3.16631 L16.5456,-6.10365 \"/>\n",
       "\t\t\t<path d=\" M 8.8538 -2.2519 L 8.02792 -1.77216 \"/>\n",
       "\t\t\t<path d=\" M 6.34232 -6.57539 L 5.51645 -6.09564 \"/>\n",
       "\t\t\t<path d=\"M9.37617,4.22845 C7.87794,5.09928 6.23714,5.72468 4.52719,6.07651  C2.81746,6.42921 1.03857,6.50833 -0.729715,6.3099  C-3.92265,5.95697 -7.07528,4.68237 -9.73989,2.66472 \"/>\n",
       "\t\t\t<path d=\"M-9.73989 2.66472 A0.5 0.5 0 0 1 -9.93858 2.2657\"/>\n",
       "\t\t\t<path d=\"M15.9832,0.390496 L16.1572,0.287916  L16.2438,0.235803  L16.3068,0.19735 \"/>\n",
       "\t\t\t<path d=\"M-2.76949,-8.0662 C-1.57476,-8.76042 -0.287495,-9.30033 1.05505,-9.66862  C3.38495,-10.31 5.88169,-10.4269 8.32756,-10.0079  C11.1848,-9.52381 13.966,-8.30446 16.3469,-6.50267 \"/>\n",
       "\t\t\t<path d=\" M 15.9832 0.390496 L 9.37617 4.22845 \"/>\n",
       "\t\t\t<path d=\" M -9.93858 -0.671642 L -9.93858 2.2657 \"/>\n",
       "\t\t\t<path d=\"M16.3469 -6.50267 A0.5 0.5 0 0 1 16.5456 -6.10365\"/>\n",
       "\t\t\t<path d=\"M5.51645 -6.09564 A2.5 2.31036 59.8481 1 0 8.02792 -1.77216\"/>\n",
       "\t\t\t<path d=\"M9.95771 -4.24573 A2.5 2.31036 -120.152 0 1 8.8538 -2.2519\"/>\n",
       "\t\t\t<path d=\"M8.8538 -2.2519 A2.5 2.31036 -120.152 0 1 6.34232 -6.57539\"/>\n",
       "\t\t\t<path d=\"M6.34232 -6.57539 A2.5 2.31036 -120.152 0 1 9.95771 -4.24573\"/>\n",
       "\t\t\t<path d=\"M5.7126,-4.452 C6.64678,-4.04323 7.5378,-3.55821 8.37104,-3.01526 \"/>\n",
       "\t\t\t<path d=\"M8.49473 -3.70362 A2 1.84829 -120.152 0 1 8.05762 -2.48163\"/>\n",
       "\t\t\t<path d=\"M6.14745 -5.76997 A2 1.84829 -120.152 0 1 8.49473 -3.70362\"/>\n",
       "\t\t\t<path d=\"M9.48578 -4.27932 A2 1.84829 -120.152 0 1 8.60265 -2.68425\"/>\n",
       "\t\t\t<path d=\"M8.60265 -2.68425 A2 1.84829 -120.152 0 1 6.59347 -6.14304\"/>\n",
       "\t\t\t<path d=\"M6.59347 -6.14304 A2 1.84829 -120.152 0 1 9.48578 -4.27932\"/>\n",
       "\n",
       "       </g>\n",
       "    </g>\n",
       "</svg>"
      ],
      "text/plain": [
       "<IPython.core.display.SVG object>"
      ]
     },
     "metadata": {},
     "output_type": "display_data"
    }
   ],
   "source": [
    "if __name__ == \"__main__\":\n",
    "    part = make_a_bottle_with_a_hole()\n",
    "    display(SVG(part.toSvg()))"
   ]
  },
  {
   "cell_type": "markdown",
   "metadata": {},
   "source": [
    "## An interactive, parametric OCC bottle"
   ]
  },
  {
   "cell_type": "code",
   "execution_count": 8,
   "metadata": {},
   "outputs": [
    {
     "data": {
      "application/vnd.jupyter.widget-view+json": {
       "model_id": "7a4d37031d314903aea5945de1cb0267",
       "version_major": 2,
       "version_minor": 0
      },
      "text/plain": [
       "interactive(children=(FloatSlider(value=10.049999999999999, description='length', max=20.0, min=0.1), FloatSli…"
      ]
     },
     "metadata": {},
     "output_type": "display_data"
    }
   ],
   "source": [
    "if __name__ == \"__main__\":\n",
    "    part = None\n",
    "    @W.interact\n",
    "    def interactively_make_a_bottle(\n",
    "       length=(0.1, 20.0),\n",
    "       width=(0.1, 10.0),\n",
    "       extent=(0.1, 6.0),\n",
    "       height=(0.1, 40.0),\n",
    "       neck_width=(0.1, 3.0),\n",
    "       neck_height=(0.1, 6.0),\n",
    "       shell=(0.01, 1.0),\n",
    "    ):\n",
    "        global part\n",
    "        try:\n",
    "            _part = make_a_bottle_with_a_hole(length, width, extent, height, neck_width, neck_height, shell)\n",
    "            display(SVG(_part.toSvg()))\n",
    "            part = _part\n",
    "        except Exception as err: \n",
    "            print(\"🤷 Error\", err, \"... here's the last thing that worked\")\n",
    "            if part:\n",
    "                display(SVG(part.toSvg()))"
   ]
  }
 ],
 "metadata": {
  "kernelspec": {
   "display_name": "Python 3",
   "language": "python",
   "name": "python3"
  },
  "language_info": {
   "codemirror_mode": {
    "name": "ipython",
    "version": 3
   },
   "file_extension": ".py",
   "mimetype": "text/x-python",
   "name": "python",
   "nbconvert_exporter": "python",
   "pygments_lexer": "ipython3",
   "version": "3.6.5"
  }
 },
 "nbformat": 4,
 "nbformat_minor": 2
}
