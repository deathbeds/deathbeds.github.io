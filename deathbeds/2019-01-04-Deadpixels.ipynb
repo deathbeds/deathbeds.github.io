{
 "cells": [
  {
   "cell_type": "code",
   "execution_count": 1,
   "metadata": {
    "slideshow": {
     "slide_type": "skip"
    }
   },
   "outputs": [
    {
     "name": "stdout",
     "output_type": "stream",
     "text": [
      "## Special `pidgin.inspector` indentifiers.\n",
      "\n",
      "- __object?__ or __object??__ - one question mark returns basic info, two question marks returns the source with the `object` info.  Question marks supercede all other \n",
      "delimiters.\n",
      "\n",
      "\n",
      "    question_marks = \"([\\S]+)\\?{1}|\\?{1}([\\S]+)\"\n",
      "- __{{brace[0]}}\"expression or statement\"{{brace[1]}}__ - author's recieve a preview of the `jinja2` expression.\n",
      "\n",
      "\n",
      "    braced = \"(\\{){2}([^(\\?}{2})]+)\\}{2}\"\n",
      "- __{{tick}}\"expression or statement\"{{tick}}__ - executes the inline code and displays a preview.  _Statements and expressions in inline code\n",
      "are not rendered by `pidgin`, but intermediate representations assist in authoring `pidgin` documents._\n",
      "\n",
      "\n",
      "    ticked = \"`([^\\?]+)`\"\n",
      "\n",
      "The conditions for a regular expression used to discover substrings.\n",
      "\n",
      "    inline_code_objects = re.compile(F\"{'|'.join((braced, ticked, question_marks))}\")\n",
      "                                    \n",
      "When no `inline_code_objects` are found the `pidgin.inspector` defaults to a __Markdown__ preview.\n",
      "[]\n",
      "0  __object?__ or __object??__  0\n",
      "[{'type': 'list_start', 'ordered': False}]\n",
      "1  one question mark returns basic info, two question marks returns the source with the `object` info.  Question marks supercede all other \n",
      "delimiters.\n",
      "\n",
      "\n",
      " 1\n"
     ]
    },
    {
     "ename": "ModuleNotFoundError",
     "evalue": "No module named 'tangle'",
     "output_type": "error",
     "traceback": [
      "\u001b[1;31m---------------------------------------------------------------------------\u001b[0m",
      "\u001b[1;31mIndexError\u001b[0m                                Traceback (most recent call last)",
      "\u001b[1;32mc:\\users\\deathbeds\\pidgin\\src\\pidgin\\readme.ipynb\u001b[0m in \u001b[0;36m<module>\u001b[1;34m\u001b[0m\n\u001b[0;32m     19\u001b[0m     \u001b[1;32mtry\u001b[0m\u001b[1;33m:\u001b[0m\u001b[1;33m\u001b[0m\u001b[0m\n\u001b[1;32m---> 20\u001b[1;33m         \u001b[1;32mfrom\u001b[0m \u001b[1;33m.\u001b[0m \u001b[1;32mimport\u001b[0m \u001b[0mtangle\u001b[0m\u001b[1;33m,\u001b[0m \u001b[0mdisplay\u001b[0m\u001b[1;33m,\u001b[0m \u001b[0mtemplating\u001b[0m\u001b[1;33m,\u001b[0m \u001b[0mreturn_display\u001b[0m\u001b[1;33m,\u001b[0m \u001b[0mweave\u001b[0m\u001b[1;33m\u001b[0m\u001b[0m\n\u001b[0m\u001b[0;32m     21\u001b[0m         \u001b[1;32mfrom\u001b[0m \u001b[1;33m.\u001b[0m\u001b[0mloader\u001b[0m \u001b[1;32mimport\u001b[0m \u001b[0mPidginImporter\u001b[0m\u001b[1;33m\u001b[0m\u001b[0m\n",
      "\u001b[1;32mc:\\users\\deathbeds\\pidgin\\src\\pidgin\\tangle.ipynb\u001b[0m in \u001b[0;36m<module>\u001b[1;34m\u001b[0m\n\u001b[0;32m    629\u001b[0m \u001b[1;33m\u001b[0m\u001b[0m\n\u001b[1;32m--> 630\u001b[1;33m When no `inline_code_objects` are found the `pidgin.inspector` defaults to a __Markdown__ preview.\"\"\"))\n\u001b[0m\u001b[0;32m    631\u001b[0m \u001b[1;33m\u001b[0m\u001b[0m\n",
      "\u001b[1;32mc:\\users\\deathbeds\\pidgin\\src\\pidgin\\tangle.ipynb\u001b[0m in \u001b[0;36mmarkdown_to_python\u001b[1;34m(str)\u001b[0m\n\u001b[0;32m    541\u001b[0m \u001b[1;32mdef\u001b[0m \u001b[0mmarkdown_to_python\u001b[0m\u001b[1;33m(\u001b[0m\u001b[0mstr\u001b[0m\u001b[1;33m)\u001b[0m\u001b[1;33m->\u001b[0m\u001b[1;34m\"Valid Python Source\"\u001b[0m\u001b[1;33m:\u001b[0m\u001b[1;33m\u001b[0m\u001b[0m\n\u001b[1;32m--> 542\u001b[1;33m     \u001b[1;32mreturn\u001b[0m \u001b[0mLexer\u001b[0m\u001b[1;33m(\u001b[0m\u001b[1;33m)\u001b[0m\u001b[1;33m.\u001b[0m\u001b[0mparse\u001b[0m\u001b[1;33m(\u001b[0m\u001b[0mstr\u001b[0m\u001b[1;33m)\u001b[0m\u001b[1;33m\u001b[0m\u001b[0m\n\u001b[0m\u001b[0;32m    543\u001b[0m \u001b[1;33m\u001b[0m\u001b[0m\n",
      "\u001b[1;32mc:\\users\\deathbeds\\pidgin\\src\\pidgin\\tangle.ipynb\u001b[0m in \u001b[0;36mparse\u001b[1;34m(self, text, rules)\u001b[0m\n\u001b[0;32m    388\u001b[0m         \u001b[0mself\u001b[0m\u001b[1;33m.\u001b[0m\u001b[0moriginal\u001b[0m \u001b[1;33m=\u001b[0m \u001b[1;34m''\u001b[0m\u001b[1;33m.\u001b[0m\u001b[0mjoin\u001b[0m\u001b[1;33m(\u001b[0m\u001b[0mtext\u001b[0m\u001b[1;33m)\u001b[0m\u001b[1;33m.\u001b[0m\u001b[0msplitlines\u001b[0m\u001b[1;33m(\u001b[0m\u001b[1;32mTrue\u001b[0m\u001b[1;33m)\u001b[0m\u001b[1;33m\u001b[0m\u001b[0m\n\u001b[1;32m--> 389\u001b[1;33m         \u001b[0mtokens\u001b[0m \u001b[1;33m=\u001b[0m \u001b[0msuper\u001b[0m\u001b[1;33m(\u001b[0m\u001b[1;33m)\u001b[0m\u001b[1;33m.\u001b[0m\u001b[0mparse\u001b[0m\u001b[1;33m(\u001b[0m\u001b[0mtext\u001b[0m\u001b[1;33m)\u001b[0m\u001b[1;33m\u001b[0m\u001b[0m\n\u001b[0m\u001b[0;32m    390\u001b[0m         \u001b[1;32mwhile\u001b[0m \u001b[0mself\u001b[0m\u001b[1;33m.\u001b[0m\u001b[0moriginal\u001b[0m\u001b[1;33m:\u001b[0m\u001b[1;33m\u001b[0m\u001b[0m\n",
      "\u001b[1;32mC:\\Anaconda3\\lib\\site-packages\\mistune.cp36-win_amd64.pyd\u001b[0m in \u001b[0;36mmistune.BlockLexer.parse\u001b[1;34m()\u001b[0m\n",
      "\u001b[1;32mC:\\Anaconda3\\lib\\site-packages\\mistune.cp36-win_amd64.pyd\u001b[0m in \u001b[0;36mmistune.BlockLexer.parse.manipulate\u001b[1;34m()\u001b[0m\n",
      "\u001b[1;32mc:\\users\\deathbeds\\pidgin\\src\\pidgin\\tangle.ipynb\u001b[0m in \u001b[0;36mparse_list_block\u001b[1;34m(self, m)\u001b[0m\n\u001b[0;32m    491\u001b[0m         \u001b[0mline_length\u001b[0m \u001b[1;33m=\u001b[0m \u001b[0mlen\u001b[0m\u001b[1;33m(\u001b[0m\u001b[0mself\u001b[0m\u001b[1;33m.\u001b[0m\u001b[0mfinal\u001b[0m\u001b[1;33m)\u001b[0m\u001b[1;33m\u001b[0m\u001b[0m\n\u001b[1;32m--> 492\u001b[1;33m         \u001b[0msuper\u001b[0m\u001b[1;33m(\u001b[0m\u001b[1;33m)\u001b[0m\u001b[1;33m.\u001b[0m\u001b[0mparse_list_block\u001b[0m\u001b[1;33m(\u001b[0m\u001b[0mm\u001b[0m\u001b[1;33m)\u001b[0m\u001b[1;33m\u001b[0m\u001b[0m\n\u001b[0m\u001b[0;32m    493\u001b[0m         \u001b[0mws\u001b[0m \u001b[1;33m=\u001b[0m \u001b[0mlen\u001b[0m\u001b[1;33m(\u001b[0m\u001b[0mself\u001b[0m\u001b[1;33m.\u001b[0m\u001b[0mfinal\u001b[0m\u001b[1;33m[\u001b[0m\u001b[0mline_length\u001b[0m\u001b[1;33m]\u001b[0m\u001b[1;33m)\u001b[0m \u001b[1;33m-\u001b[0m \u001b[0mlen\u001b[0m\u001b[1;33m(\u001b[0m\u001b[0mself\u001b[0m\u001b[1;33m.\u001b[0m\u001b[0mfinal\u001b[0m\u001b[1;33m[\u001b[0m\u001b[0mline_length\u001b[0m\u001b[1;33m]\u001b[0m\u001b[1;33m.\u001b[0m\u001b[0mlstrip\u001b[0m\u001b[1;33m(\u001b[0m\u001b[1;33m)\u001b[0m\u001b[1;33m)\u001b[0m\u001b[1;33m\u001b[0m\u001b[0m\n",
      "\u001b[1;32mC:\\Anaconda3\\lib\\site-packages\\mistune.cp36-win_amd64.pyd\u001b[0m in \u001b[0;36mmistune.BlockLexer.parse_list_block\u001b[1;34m()\u001b[0m\n",
      "\u001b[1;32mc:\\users\\deathbeds\\pidgin\\src\\pidgin\\tangle.ipynb\u001b[0m in \u001b[0;36m_process_list_item\u001b[1;34m(self, cap, bull)\u001b[0m\n\u001b[0;32m    501\u001b[0m                 \u001b[1;32mif\u001b[0m \u001b[0mline\u001b[0m\u001b[1;33m.\u001b[0m\u001b[0mstrip\u001b[0m\u001b[1;33m(\u001b[0m\u001b[1;33m)\u001b[0m\u001b[1;33m:\u001b[0m\u001b[1;33m\u001b[0m\u001b[0m\n\u001b[1;32m--> 502\u001b[1;33m                     \u001b[0mself\u001b[0m\u001b[1;33m.\u001b[0m\u001b[0mparse_generic\u001b[0m\u001b[1;33m(\u001b[0m\u001b[0mnext\u001b[0m\u001b[1;33m(\u001b[0m\u001b[0mre\u001b[0m\u001b[1;33m.\u001b[0m\u001b[0mfinditer\u001b[0m\u001b[1;33m(\u001b[0m\u001b[0mre\u001b[0m\u001b[1;33m.\u001b[0m\u001b[0mcompile\u001b[0m\u001b[1;33m(\u001b[0m\u001b[1;34m\"(.*)\"\u001b[0m\u001b[1;33m,\u001b[0m \u001b[0mre\u001b[0m\u001b[1;33m.\u001b[0m\u001b[0mDOTALL\u001b[0m\u001b[1;33m)\u001b[0m\u001b[1;33m,\u001b[0m \u001b[0mline\u001b[0m\u001b[1;33m.\u001b[0m\u001b[0mstrip\u001b[0m\u001b[1;33m(\u001b[0m\u001b[1;33m)\u001b[0m\u001b[1;33m)\u001b[0m\u001b[1;33m)\u001b[0m\u001b[1;33m)\u001b[0m\u001b[1;33m\u001b[0m\u001b[0m\n\u001b[0m\u001b[0;32m    503\u001b[0m             \u001b[0mself\u001b[0m\u001b[1;33m.\u001b[0m\u001b[0mparse_block_code\u001b[0m\u001b[1;33m(\u001b[0m\u001b[0mpunc\u001b[0m\u001b[1;33m=\u001b[0m\u001b[1;33m[\u001b[0m\u001b[1;34m','\u001b[0m\u001b[1;33m,\u001b[0m \u001b[1;34m'];'\u001b[0m\u001b[1;33m]\u001b[0m\u001b[1;33m[\u001b[0m\u001b[0mid\u001b[0m\u001b[1;33m+\u001b[0m\u001b[1;36m1\u001b[0m\u001b[1;33m==\u001b[0m\u001b[0mlen\u001b[0m\u001b[1;33m(\u001b[0m\u001b[0mlines\u001b[0m\u001b[1;33m)\u001b[0m\u001b[1;33m]\u001b[0m\u001b[1;33m)\u001b[0m\u001b[1;33m\u001b[0m\u001b[0m\n",
      "\u001b[1;32mc:\\users\\deathbeds\\pidgin\\src\\pidgin\\tangle.ipynb\u001b[0m in \u001b[0;36mparse_generic\u001b[1;34m(self, m)\u001b[0m\n\u001b[0;32m    420\u001b[0m \u001b[1;33m\u001b[0m\u001b[0m\n\u001b[1;32m--> 421\u001b[1;33m     \u001b[1;32mdef\u001b[0m \u001b[0mparse_generic\u001b[0m\u001b[1;33m(\u001b[0m\u001b[0mself\u001b[0m\u001b[1;33m,\u001b[0m \u001b[0mm\u001b[0m\u001b[1;33m)\u001b[0m\u001b[1;33m:\u001b[0m \u001b[0mself\u001b[0m\u001b[1;33m.\u001b[0m\u001b[0mbuffer\u001b[0m\u001b[1;33m.\u001b[0m\u001b[0mextend\u001b[0m\u001b[1;33m(\u001b[0m\u001b[0mself\u001b[0m\u001b[1;33m.\u001b[0m\u001b[0mpop_text\u001b[0m\u001b[1;33m(\u001b[0m\u001b[0mm\u001b[0m\u001b[1;33m)\u001b[0m\u001b[1;33m)\u001b[0m\u001b[1;33m\u001b[0m\u001b[0m\n\u001b[0m\u001b[0;32m    422\u001b[0m \u001b[1;33m\u001b[0m\u001b[0m\n",
      "\u001b[1;32mc:\\users\\deathbeds\\pidgin\\src\\pidgin\\tangle.ipynb\u001b[0m in \u001b[0;36mpop_text\u001b[1;34m(self, m)\u001b[0m\n\u001b[0;32m    411\u001b[0m                 \u001b[0mline\u001b[0m \u001b[1;33m=\u001b[0m \u001b[0mlines\u001b[0m\u001b[1;33m.\u001b[0m\u001b[0mpop\u001b[0m\u001b[1;33m(\u001b[0m\u001b[1;36m0\u001b[0m\u001b[1;33m)\u001b[0m\u001b[1;33m\u001b[0m\u001b[0m\n\u001b[1;32m--> 412\u001b[1;33m                 \u001b[1;32mwhile\u001b[0m \u001b[0mline\u001b[0m\u001b[1;33m.\u001b[0m\u001b[0mstrip\u001b[0m\u001b[1;33m(\u001b[0m\u001b[1;33m)\u001b[0m \u001b[1;32mnot\u001b[0m \u001b[1;32min\u001b[0m \u001b[0mself\u001b[0m\u001b[1;33m.\u001b[0m\u001b[0moriginal\u001b[0m\u001b[1;33m[\u001b[0m\u001b[1;36m0\u001b[0m\u001b[1;33m]\u001b[0m\u001b[1;33m:\u001b[0m\u001b[1;33m\u001b[0m\u001b[0m\n\u001b[0m\u001b[0;32m    413\u001b[0m                     \u001b[0mtext\u001b[0m \u001b[1;33m+=\u001b[0m \u001b[1;33m[\u001b[0m\u001b[0mself\u001b[0m\u001b[1;33m.\u001b[0m\u001b[0moriginal\u001b[0m\u001b[1;33m.\u001b[0m\u001b[0mpop\u001b[0m\u001b[1;33m(\u001b[0m\u001b[1;36m0\u001b[0m\u001b[1;33m)\u001b[0m\u001b[1;33m]\u001b[0m\u001b[1;33m\u001b[0m\u001b[0m\n",
      "\u001b[1;31mIndexError\u001b[0m: list index out of range",
      "\nDuring handling of the above exception, another exception occurred:\n",
      "\u001b[1;31mModuleNotFoundError\u001b[0m                       Traceback (most recent call last)",
      "\u001b[1;32m<ipython-input-1-66c735389c04>\u001b[0m in \u001b[0;36m<module>\u001b[1;34m\u001b[0m\n\u001b[1;32m----> 1\u001b[1;33m \u001b[0mget_ipython\u001b[0m\u001b[1;33m(\u001b[0m\u001b[1;33m)\u001b[0m\u001b[1;33m.\u001b[0m\u001b[0mrun_line_magic\u001b[0m\u001b[1;33m(\u001b[0m\u001b[1;34m'reload_ext'\u001b[0m\u001b[1;33m,\u001b[0m \u001b[1;34m'pidgin'\u001b[0m\u001b[1;33m)\u001b[0m\u001b[1;33m\u001b[0m\u001b[0m\n\u001b[0m",
      "\u001b[1;32mC:\\Anaconda3\\lib\\site-packages\\IPython\\core\\interactiveshell.py\u001b[0m in \u001b[0;36mrun_line_magic\u001b[1;34m(self, magic_name, line, _stack_depth)\u001b[0m\n\u001b[0;32m   2283\u001b[0m                 \u001b[0mkwargs\u001b[0m\u001b[1;33m[\u001b[0m\u001b[1;34m'local_ns'\u001b[0m\u001b[1;33m]\u001b[0m \u001b[1;33m=\u001b[0m \u001b[0msys\u001b[0m\u001b[1;33m.\u001b[0m\u001b[0m_getframe\u001b[0m\u001b[1;33m(\u001b[0m\u001b[0mstack_depth\u001b[0m\u001b[1;33m)\u001b[0m\u001b[1;33m.\u001b[0m\u001b[0mf_locals\u001b[0m\u001b[1;33m\u001b[0m\u001b[0m\n\u001b[0;32m   2284\u001b[0m             \u001b[1;32mwith\u001b[0m \u001b[0mself\u001b[0m\u001b[1;33m.\u001b[0m\u001b[0mbuiltin_trap\u001b[0m\u001b[1;33m:\u001b[0m\u001b[1;33m\u001b[0m\u001b[0m\n\u001b[1;32m-> 2285\u001b[1;33m                 \u001b[0mresult\u001b[0m \u001b[1;33m=\u001b[0m \u001b[0mfn\u001b[0m\u001b[1;33m(\u001b[0m\u001b[1;33m*\u001b[0m\u001b[0margs\u001b[0m\u001b[1;33m,\u001b[0m\u001b[1;33m**\u001b[0m\u001b[0mkwargs\u001b[0m\u001b[1;33m)\u001b[0m\u001b[1;33m\u001b[0m\u001b[0m\n\u001b[0m\u001b[0;32m   2286\u001b[0m             \u001b[1;32mreturn\u001b[0m \u001b[0mresult\u001b[0m\u001b[1;33m\u001b[0m\u001b[0m\n\u001b[0;32m   2287\u001b[0m \u001b[1;33m\u001b[0m\u001b[0m\n",
      "\u001b[1;32m<decorator-gen-68>\u001b[0m in \u001b[0;36mreload_ext\u001b[1;34m(self, module_str)\u001b[0m\n",
      "\u001b[1;32mC:\\Anaconda3\\lib\\site-packages\\IPython\\core\\magic.py\u001b[0m in \u001b[0;36m<lambda>\u001b[1;34m(f, *a, **k)\u001b[0m\n\u001b[0;32m    185\u001b[0m     \u001b[1;31m# but it's overkill for just that one bit of state.\u001b[0m\u001b[1;33m\u001b[0m\u001b[1;33m\u001b[0m\u001b[0m\n\u001b[0;32m    186\u001b[0m     \u001b[1;32mdef\u001b[0m \u001b[0mmagic_deco\u001b[0m\u001b[1;33m(\u001b[0m\u001b[0marg\u001b[0m\u001b[1;33m)\u001b[0m\u001b[1;33m:\u001b[0m\u001b[1;33m\u001b[0m\u001b[0m\n\u001b[1;32m--> 187\u001b[1;33m         \u001b[0mcall\u001b[0m \u001b[1;33m=\u001b[0m \u001b[1;32mlambda\u001b[0m \u001b[0mf\u001b[0m\u001b[1;33m,\u001b[0m \u001b[1;33m*\u001b[0m\u001b[0ma\u001b[0m\u001b[1;33m,\u001b[0m \u001b[1;33m**\u001b[0m\u001b[0mk\u001b[0m\u001b[1;33m:\u001b[0m \u001b[0mf\u001b[0m\u001b[1;33m(\u001b[0m\u001b[1;33m*\u001b[0m\u001b[0ma\u001b[0m\u001b[1;33m,\u001b[0m \u001b[1;33m**\u001b[0m\u001b[0mk\u001b[0m\u001b[1;33m)\u001b[0m\u001b[1;33m\u001b[0m\u001b[0m\n\u001b[0m\u001b[0;32m    188\u001b[0m \u001b[1;33m\u001b[0m\u001b[0m\n\u001b[0;32m    189\u001b[0m         \u001b[1;32mif\u001b[0m \u001b[0mcallable\u001b[0m\u001b[1;33m(\u001b[0m\u001b[0marg\u001b[0m\u001b[1;33m)\u001b[0m\u001b[1;33m:\u001b[0m\u001b[1;33m\u001b[0m\u001b[0m\n",
      "\u001b[1;32mC:\\Anaconda3\\lib\\site-packages\\IPython\\core\\magics\\extension.py\u001b[0m in \u001b[0;36mreload_ext\u001b[1;34m(self, module_str)\u001b[0m\n\u001b[0;32m     61\u001b[0m         \u001b[1;32mif\u001b[0m \u001b[1;32mnot\u001b[0m \u001b[0mmodule_str\u001b[0m\u001b[1;33m:\u001b[0m\u001b[1;33m\u001b[0m\u001b[0m\n\u001b[0;32m     62\u001b[0m             \u001b[1;32mraise\u001b[0m \u001b[0mUsageError\u001b[0m\u001b[1;33m(\u001b[0m\u001b[1;34m'Missing module name.'\u001b[0m\u001b[1;33m)\u001b[0m\u001b[1;33m\u001b[0m\u001b[0m\n\u001b[1;32m---> 63\u001b[1;33m         \u001b[0mself\u001b[0m\u001b[1;33m.\u001b[0m\u001b[0mshell\u001b[0m\u001b[1;33m.\u001b[0m\u001b[0mextension_manager\u001b[0m\u001b[1;33m.\u001b[0m\u001b[0mreload_extension\u001b[0m\u001b[1;33m(\u001b[0m\u001b[0mmodule_str\u001b[0m\u001b[1;33m)\u001b[0m\u001b[1;33m\u001b[0m\u001b[0m\n\u001b[0m",
      "\u001b[1;32mC:\\Anaconda3\\lib\\site-packages\\IPython\\core\\extensions.py\u001b[0m in \u001b[0;36mreload_extension\u001b[1;34m(self, module_str)\u001b[0m\n\u001b[0;32m    128\u001b[0m                 \u001b[0mself\u001b[0m\u001b[1;33m.\u001b[0m\u001b[0mloaded\u001b[0m\u001b[1;33m.\u001b[0m\u001b[0madd\u001b[0m\u001b[1;33m(\u001b[0m\u001b[0mmodule_str\u001b[0m\u001b[1;33m)\u001b[0m\u001b[1;33m\u001b[0m\u001b[0m\n\u001b[0;32m    129\u001b[0m         \u001b[1;32melse\u001b[0m\u001b[1;33m:\u001b[0m\u001b[1;33m\u001b[0m\u001b[0m\n\u001b[1;32m--> 130\u001b[1;33m             \u001b[0mself\u001b[0m\u001b[1;33m.\u001b[0m\u001b[0mload_extension\u001b[0m\u001b[1;33m(\u001b[0m\u001b[0mmodule_str\u001b[0m\u001b[1;33m)\u001b[0m\u001b[1;33m\u001b[0m\u001b[0m\n\u001b[0m\u001b[0;32m    131\u001b[0m \u001b[1;33m\u001b[0m\u001b[0m\n\u001b[0;32m    132\u001b[0m     \u001b[1;32mdef\u001b[0m \u001b[0m_call_load_ipython_extension\u001b[0m\u001b[1;33m(\u001b[0m\u001b[0mself\u001b[0m\u001b[1;33m,\u001b[0m \u001b[0mmod\u001b[0m\u001b[1;33m)\u001b[0m\u001b[1;33m:\u001b[0m\u001b[1;33m\u001b[0m\u001b[0m\n",
      "\u001b[1;32mC:\\Anaconda3\\lib\\site-packages\\IPython\\core\\extensions.py\u001b[0m in \u001b[0;36mload_extension\u001b[1;34m(self, module_str)\u001b[0m\n\u001b[0;32m     78\u001b[0m             \u001b[1;32mif\u001b[0m \u001b[0mmodule_str\u001b[0m \u001b[1;32mnot\u001b[0m \u001b[1;32min\u001b[0m \u001b[0msys\u001b[0m\u001b[1;33m.\u001b[0m\u001b[0mmodules\u001b[0m\u001b[1;33m:\u001b[0m\u001b[1;33m\u001b[0m\u001b[0m\n\u001b[0;32m     79\u001b[0m                 \u001b[1;32mwith\u001b[0m \u001b[0mprepended_to_syspath\u001b[0m\u001b[1;33m(\u001b[0m\u001b[0mself\u001b[0m\u001b[1;33m.\u001b[0m\u001b[0mipython_extension_dir\u001b[0m\u001b[1;33m)\u001b[0m\u001b[1;33m:\u001b[0m\u001b[1;33m\u001b[0m\u001b[0m\n\u001b[1;32m---> 80\u001b[1;33m                     \u001b[0mmod\u001b[0m \u001b[1;33m=\u001b[0m \u001b[0mimport_module\u001b[0m\u001b[1;33m(\u001b[0m\u001b[0mmodule_str\u001b[0m\u001b[1;33m)\u001b[0m\u001b[1;33m\u001b[0m\u001b[0m\n\u001b[0m\u001b[0;32m     81\u001b[0m                     \u001b[1;32mif\u001b[0m \u001b[0mmod\u001b[0m\u001b[1;33m.\u001b[0m\u001b[0m__file__\u001b[0m\u001b[1;33m.\u001b[0m\u001b[0mstartswith\u001b[0m\u001b[1;33m(\u001b[0m\u001b[0mself\u001b[0m\u001b[1;33m.\u001b[0m\u001b[0mipython_extension_dir\u001b[0m\u001b[1;33m)\u001b[0m\u001b[1;33m:\u001b[0m\u001b[1;33m\u001b[0m\u001b[0m\n\u001b[0;32m     82\u001b[0m                         print((\"Loading extensions from {dir} is deprecated. \"\n",
      "\u001b[1;32mC:\\Anaconda3\\lib\\importlib\\__init__.py\u001b[0m in \u001b[0;36mimport_module\u001b[1;34m(name, package)\u001b[0m\n\u001b[0;32m    124\u001b[0m                 \u001b[1;32mbreak\u001b[0m\u001b[1;33m\u001b[0m\u001b[0m\n\u001b[0;32m    125\u001b[0m             \u001b[0mlevel\u001b[0m \u001b[1;33m+=\u001b[0m \u001b[1;36m1\u001b[0m\u001b[1;33m\u001b[0m\u001b[0m\n\u001b[1;32m--> 126\u001b[1;33m     \u001b[1;32mreturn\u001b[0m \u001b[0m_bootstrap\u001b[0m\u001b[1;33m.\u001b[0m\u001b[0m_gcd_import\u001b[0m\u001b[1;33m(\u001b[0m\u001b[0mname\u001b[0m\u001b[1;33m[\u001b[0m\u001b[0mlevel\u001b[0m\u001b[1;33m:\u001b[0m\u001b[1;33m]\u001b[0m\u001b[1;33m,\u001b[0m \u001b[0mpackage\u001b[0m\u001b[1;33m,\u001b[0m \u001b[0mlevel\u001b[0m\u001b[1;33m)\u001b[0m\u001b[1;33m\u001b[0m\u001b[0m\n\u001b[0m\u001b[0;32m    127\u001b[0m \u001b[1;33m\u001b[0m\u001b[0m\n\u001b[0;32m    128\u001b[0m \u001b[1;33m\u001b[0m\u001b[0m\n",
      "\u001b[1;32mC:\\Anaconda3\\lib\\importlib\\_bootstrap.py\u001b[0m in \u001b[0;36m_gcd_import\u001b[1;34m(name, package, level)\u001b[0m\n",
      "\u001b[1;32mC:\\Anaconda3\\lib\\importlib\\_bootstrap.py\u001b[0m in \u001b[0;36m_find_and_load\u001b[1;34m(name, import_)\u001b[0m\n",
      "\u001b[1;32mC:\\Anaconda3\\lib\\importlib\\_bootstrap.py\u001b[0m in \u001b[0;36m_find_and_load_unlocked\u001b[1;34m(name, import_)\u001b[0m\n",
      "\u001b[1;32mC:\\Anaconda3\\lib\\importlib\\_bootstrap.py\u001b[0m in \u001b[0;36m_load_unlocked\u001b[1;34m(spec)\u001b[0m\n",
      "\u001b[1;32mC:\\Anaconda3\\lib\\importlib\\_bootstrap_external.py\u001b[0m in \u001b[0;36mexec_module\u001b[1;34m(self, module)\u001b[0m\n",
      "\u001b[1;32mC:\\Anaconda3\\lib\\importlib\\_bootstrap.py\u001b[0m in \u001b[0;36m_call_with_frames_removed\u001b[1;34m(f, *args, **kwds)\u001b[0m\n",
      "\u001b[1;32mc:\\users\\deathbeds\\pidgin\\src\\pidgin\\__init__.py\u001b[0m in \u001b[0;36m<module>\u001b[1;34m\u001b[0m\n\u001b[0;32m      2\u001b[0m \u001b[1;33m\u001b[0m\u001b[0m\n\u001b[0;32m      3\u001b[0m \u001b[1;32mwith\u001b[0m \u001b[0m__import__\u001b[0m\u001b[1;33m(\u001b[0m\u001b[1;34m'importnb'\u001b[0m\u001b[1;33m)\u001b[0m\u001b[1;33m.\u001b[0m\u001b[0mNotebook\u001b[0m\u001b[1;33m(\u001b[0m\u001b[1;33m)\u001b[0m\u001b[1;33m:\u001b[0m\u001b[1;33m\u001b[0m\u001b[0m\n\u001b[1;32m----> 4\u001b[1;33m     \u001b[1;32mfrom\u001b[0m \u001b[1;33m.\u001b[0m\u001b[0mreadme\u001b[0m \u001b[1;32mimport\u001b[0m \u001b[1;33m*\u001b[0m\u001b[1;33m\u001b[0m\u001b[0m\n\u001b[0m",
      "\u001b[1;32mc:\\users\\deathbeds\\pidgin\\src\\pidgin\\readme.ipynb\u001b[0m in \u001b[0;36m<module>\u001b[1;34m\u001b[0m\n\u001b[0;32m     21\u001b[0m         \u001b[1;32mfrom\u001b[0m \u001b[1;33m.\u001b[0m\u001b[0mloader\u001b[0m \u001b[1;32mimport\u001b[0m \u001b[0mPidginImporter\u001b[0m\u001b[1;33m\u001b[0m\u001b[0m\n\u001b[0;32m     22\u001b[0m     \u001b[1;32mexcept\u001b[0m\u001b[1;33m:\u001b[0m\u001b[1;33m\u001b[0m\u001b[0m\n\u001b[1;32m---> 23\u001b[1;33m         \u001b[1;32mimport\u001b[0m \u001b[0mtangle\u001b[0m\u001b[1;33m,\u001b[0m \u001b[0mdisplay\u001b[0m\u001b[1;33m,\u001b[0m \u001b[0mtemplating\u001b[0m\u001b[1;33m,\u001b[0m \u001b[0mreturn_display\u001b[0m\u001b[1;33m,\u001b[0m \u001b[0mweave\u001b[0m\u001b[1;33m\u001b[0m\u001b[0m\n\u001b[0m\u001b[0;32m     24\u001b[0m         \u001b[1;32mfrom\u001b[0m \u001b[0mloader\u001b[0m \u001b[1;32mimport\u001b[0m \u001b[0mPidginImporter\u001b[0m\u001b[1;33m\u001b[0m\u001b[0m\n\u001b[0;32m     25\u001b[0m \u001b[1;33m\u001b[0m\u001b[0m\n",
      "\u001b[1;31mModuleNotFoundError\u001b[0m: No module named 'tangle'"
     ]
    }
   ],
   "source": [
    "    %reload_ext pidgin"
   ]
  },
  {
   "cell_type": "code",
   "execution_count": 2,
   "metadata": {},
   "outputs": [],
   "source": [
    "    import IPython, nbconvert"
   ]
  },
  {
   "cell_type": "markdown",
   "metadata": {
    "slideshow": {
     "slide_type": "slide"
    }
   },
   "source": [
    "https://nbviewer.jupyter.org/github/deathbeds/deathbeds.github.io/blob/master/deathbeds/2018-09-13-Spacy-jupyter-endpoint.ipynb"
   ]
  },
  {
   "cell_type": "code",
   "execution_count": 3,
   "metadata": {},
   "outputs": [
    {
     "data": {
      "text/html": [
       "<p><a href=\"https://en.wikipedia.org/wiki/Literate_programming\">Literate Programming</a></p>\n"
      ],
      "text/markdown": [
       "[Literate Programming](https://en.wikipedia.org/wiki/Literate_programming)"
      ],
      "text/plain": [
       "'[Literate Programming](https://en.wikipedia.org/wiki/Literate_programming)'"
      ]
     },
     "metadata": {},
     "output_type": "display_data"
    }
   ],
   "source": [
    "[Literate Programming](https://en.wikipedia.org/wiki/Literate_programming)"
   ]
  },
  {
   "cell_type": "code",
   "execution_count": 6,
   "metadata": {},
   "outputs": [
    {
     "data": {
      "text/html": [
       "<p><sup class=\"footnote-ref\" id=\"fnref-yo\">\n",
       "            <a title=\"graph {A}\" href=\"#fn-yo\">yo</a></sup></p>\n",
       "<div class=\"footnotes\" style=\"display: grid; grid-template-columns: auto auto;\">\n",
       "            <div style=\"justify-self: start; grid-column: 1/2\" id=\"fn-yo><a href=\"#fnref-yo\" class=\"footnote\">\n",
       "         <sup class=\"footnote-ref\" id=\"fnref-yo\">yo</sup></a></div>\n",
       "            <div style=\"justify-self: start; grid-column: 2/3\"><p><?xml version=\"1.0\" encoding=\"UTF-8\" standalone=\"no\"?>&#xA;<!DOCTYPE svg PUBLIC \"-//W3C//DTD SVG 1.1//EN\"&#xA; \"http://www.w3.org/Graphics/SVG/1.1/DTD/svg11.dtd\">&#xA;<!-- Generated by graphviz version 2.38.0 (20140413.2041)&#xA; -->&#xA;<!-- Title: %3 Pages: 1 -->&#xA;<svg width=\"62pt\" height=\"44pt\"&#xA; viewBox=\"0.00 0.00 62.00 44.00\"  >&#xA;<g id=\"graph0\" class=\"graph\" transform=\"scale(1 1) rotate(0) translate(4 40)\">&#xA;<title>%3</title>&#xA;<polygon fill=\"white\" stroke=\"none\" points=\"-4,4 -4,-40 58,-40 58,4 -4,4\"/>&#xA;<!-- A -->&#xA;<g id=\"node1\" class=\"node\"><title>A</title>&#xA;<ellipse fill=\"none\" stroke=\"black\" cx=\"27\" cy=\"-18\" rx=\"27\" ry=\"18\"/>&#xA;<text text-anchor=\"middle\" x=\"27\" y=\"-14.3\" font-family=\"Times New Roman,serif\" font-size=\"14.00\">A</text>&#xA;</g>&#xA;</g>&#xA;</svg></p>\n",
       "</div>\n",
       "\n",
       "            <div style=\"justify-self: start; grid-column: 1/2\" id=\"fn-yoy><a href=\"#fnref-yoy\" class=\"footnote\">\n",
       "         <sup class=\"footnote-ref\" id=\"fnref-yoy\">yoy</sup></a></div>\n",
       "            <div style=\"justify-self: start; grid-column: 2/3\"><p><?xml version=\"1.0\" encoding=\"UTF-8\" standalone=\"no\"?>&#xA;<!DOCTYPE svg PUBLIC \"-//W3C//DTD SVG 1.1//EN\"&#xA; \"http://www.w3.org/Graphics/SVG/1.1/DTD/svg11.dtd\">&#xA;<!-- Generated by graphviz version 2.38.0 (20140413.2041)&#xA; -->&#xA;<!-- Title: %3 Pages: 1 -->&#xA;<svg width=\"62pt\" height=\"44pt\"&#xA; viewBox=\"0.00 0.00 62.00 44.00\"  >&#xA;<g id=\"graph0\" class=\"graph\" transform=\"scale(1 1) rotate(0) translate(4 40)\">&#xA;<title>%3</title>&#xA;<polygon fill=\"white\" stroke=\"none\" points=\"-4,4 -4,-40 58,-40 58,4 -4,4\"/>&#xA;<!-- G -->&#xA;<g id=\"node1\" class=\"node\"><title>G</title>&#xA;<ellipse fill=\"none\" stroke=\"black\" cx=\"27\" cy=\"-18\" rx=\"27\" ry=\"18\"/>&#xA;<text text-anchor=\"middle\" x=\"27\" y=\"-14.3\" font-family=\"Times New Roman,serif\" font-size=\"14.00\">G</text>&#xA;</g>&#xA;</g>&#xA;</svg></p>\n",
       "</div>\n",
       "</div>\n"
      ],
      "text/markdown": [
       "[^yo]\n",
       "\n",
       "[^yoy]: graph {G}\n",
       "[^yo]: graph {A}\n",
       "    "
      ],
      "text/plain": [
       "'[^yo]\\n\\n[^yoy]: graph {G}\\n[^yo]: graph {A}\\n    '"
      ]
     },
     "metadata": {},
     "output_type": "display_data"
    }
   ],
   "source": [
    "[^yo]\n",
    "\n",
    "[^yoy]: graph {G}\n",
    "[^yo]: graph {A}\n",
    "    "
   ]
  },
  {
   "cell_type": "code",
   "execution_count": 8,
   "metadata": {},
   "outputs": [
    {
     "data": {
      "text/html": [
       "<p><sup class=\"footnote-ref\" id=\"fnref-thing\">\n",
       "            <a title=\"20\" href=\"#fn-thing\">thing</a></sup></p>\n"
      ],
      "text/markdown": [
       "[^thing]"
      ],
      "text/plain": [
       "'[^thing]'"
      ]
     },
     "metadata": {},
     "output_type": "display_data"
    }
   ],
   "source": [
    "[^thing]"
   ]
  },
  {
   "cell_type": "code",
   "execution_count": 9,
   "metadata": {},
   "outputs": [
    {
     "data": {
      "text/html": [
       "<a href=\"file:///C:\\Anaconda3\\lib\\site-packages\\nbconvert\\__init__.py\" title=\"Type:        module&#013;String form: &lt;module &#x27;nbconvert&#x27; from &#x27;C:\\\\Anaconda3\\\\lib\\\\site-packages\\\\nbconvert\\\\__init__.py&#x27;&gt;&#013;File:        c:\\anaconda3\\lib\\site-packages\\nbconvert\\__init__.py&#013;Docstring:   Utilities for converting notebooks to and from different formats.\"><code>&lt;module &#x27;nbconvert&#x27; from &#x27;C:\\\\Anaconda3\\\\lib\\\\site-packages\\\\nbconvert\\\\__init__.py&#x27;&gt;</code></a>"
      ],
      "text/plain": [
       "<module 'nbconvert' from 'C:\\\\Anaconda3\\\\lib\\\\site-packages\\\\nbconvert\\\\__init__.py'>"
      ]
     },
     "execution_count": 9,
     "metadata": {},
     "output_type": "execute_result"
    }
   ],
   "source": [
    "    nbconvert"
   ]
  },
  {
   "cell_type": "code",
   "execution_count": 14,
   "metadata": {},
   "outputs": [],
   "source": [
    "    import nbconvert"
   ]
  },
  {
   "cell_type": "code",
   "execution_count": 15,
   "metadata": {},
   "outputs": [
    {
     "data": {
      "text/html": [
       "<p><a href=\"https://nbconvert.readthedocs.io/en/latest/config_options.html\" title=\"Type:        module&#013;String form: &lt;module &#x27;nbconvert&#x27; from &#x27;C:\\\\Anaconda3\\\\lib\\\\site-packages\\\\nbconvert\\\\__init__.py&#x27;&gt;&#013;File:        c:\\anaconda3\\lib\\site-packages\\nbconvert\\__init__.py&#013;Docstring:   Utilities for converting notebooks to and from different formats.\">def</a></p>\n"
      ],
      "text/markdown": [
       "[def][nbconvert]\n",
       "\n",
       "[nbconvert]: https://nbconvert.readthedocs.io/en/latest/config_options.html"
      ],
      "text/plain": [
       "'[def][nbconvert]\\n\\n[nbconvert]: https://nbconvert.readthedocs.io/en/latest/config_options.html'"
      ]
     },
     "metadata": {},
     "output_type": "display_data"
    }
   ],
   "source": [
    "[def][nbconvert]\n",
    "\n",
    "[nbconvert]: https://nbconvert.readthedocs.io/en/latest/config_options.html"
   ]
  },
  {
   "cell_type": "code",
   "execution_count": 11,
   "metadata": {},
   "outputs": [
    {
     "data": {
      "text/html": [
       "<p>more  <sup class=\"footnote-ref\" id=\"fnref-1\">\n",
       "            <a title=\"xxx\" href=\"#fn-1\">1</a></sup></p>\n",
       "<hr>\n",
       "<div class=\"footnotes\" style=\"display: grid; grid-template-columns: auto auto;\">\n",
       "            <div style=\"justify-self: start; grid-column: 1/2\" id=\"fn-1><a href=\"#fnref-1\" class=\"footnote\">\n",
       "         <sup class=\"footnote-ref\" id=\"fnref-1\">1</sup></a></div>\n",
       "            <div style=\"justify-self: start; grid-column: 2/3\"><p>'xxx'</p>\n",
       "</div>\n",
       "</div>\n"
      ],
      "text/markdown": [
       "more  [^1]\n",
       "\n",
       "[^1]: xxx\n",
       "    \n",
       "---"
      ],
      "text/plain": [
       "'more  [^1]\\n\\n[^1]: xxx\\n    \\n---'"
      ]
     },
     "metadata": {},
     "output_type": "display_data"
    }
   ],
   "source": [
    "more  [^1]\n",
    "\n",
    "[^1]: xxx\n",
    "    \n",
    "---"
   ]
  },
  {
   "cell_type": "code",
   "execution_count": 12,
   "metadata": {},
   "outputs": [
    {
     "data": {
      "text/html": [
       "<p>more  <sup class=\"footnote-ref\" id=\"fnref-1\">\n",
       "            <a title=\"xxx\" href=\"#fn-1\">1</a></sup></p>\n"
      ],
      "text/markdown": [
       "more  [^1]"
      ],
      "text/plain": [
       "'more  [^1]'"
      ]
     },
     "metadata": {},
     "output_type": "display_data"
    }
   ],
   "source": [
    "more  [^1]"
   ]
  },
  {
   "cell_type": "code",
   "execution_count": 11,
   "metadata": {},
   "outputs": [
    {
     "data": {
      "text/html": [
       "<p>more  <sup class=\"footnote-ref\" id=\"fnref-1\">\n",
       "            <a title=\"xxx\" href=\"#fn-1\">1</a></sup></p>\n",
       "<hr>\n",
       "<div class=\"footnotes\" style=\"display: grid; grid-template-columns: auto auto;\">\n",
       "            <div style=\"justify-self: start; grid-column: 1/2\" id=\"fn-1><a href=\"#fnref-1\" class=\"footnote\">\n",
       "         <sup class=\"footnote-ref\" id=\"fnref-1\">1</sup></a></div>\n",
       "            <div style=\"justify-self: start; grid-column: 2/3\"><p>'xxx'</p>\n",
       "</div>\n",
       "</div>\n"
      ],
      "text/markdown": [
       "more  [^1]\n",
       "\n",
       "[^1]: xxx\n",
       "    \n",
       "---"
      ],
      "text/plain": [
       "'more  [^1]\\n\\n[^1]: xxx\\n    \\n---'"
      ]
     },
     "metadata": {},
     "output_type": "display_data"
    }
   ],
   "source": [
    "[^1]: xxx\n",
    "    \n",
    "---"
   ]
  },
  {
   "cell_type": "code",
   "execution_count": 3,
   "metadata": {},
   "outputs": [
    {
     "data": {
      "text/html": [
       "<code style=\"white-space: pre;\" title=\"\">import <span style=\"border-bottom: 1px dotted gray;\" title=\"Type:        module&#013;String form: &lt;module &#x27;nbconvert&#x27; from &#x27;C:\\\\Anaconda3\\\\lib\\\\site-packages\\\\nbconvert\\\\__init__.py&#x27;&gt;&#013;File:        c:\\anaconda3\\lib\\site-packages\\nbconvert\\__init__.py&#013;Docstring:   Utilities for converting notebooks to and from different formats.\">nbconvert</span>, <span style=\"border-bottom: 1px dotted gray;\" title=\"Type:        module&#013;String form: &lt;module &#x27;notebook.base.handlers&#x27; from &#x27;C:\\\\Anaconda3\\\\lib\\\\site-packages\\\\notebook\\\\base\\\\handlers.py&#x27;&gt;&#013;File:        c:\\anaconda3\\lib\\site-packages\\notebook\\base\\handlers.py&#013;Docstring:   Base Tornado handlers for the notebook server.\">notebook.base.handlers</span>, <span style=\"border-bottom: 1px dotted gray;\" title=\"Type:        module&#013;String form: &lt;module &#x27;notebook&#x27; from &#x27;C:\\\\Anaconda3\\\\lib\\\\site-packages\\\\notebook\\\\__init__.py&#x27;&gt;&#013;File:        c:\\anaconda3\\lib\\site-packages\\notebook\\__init__.py&#013;Docstring:   The Jupyter HTML Notebook\">notebook</span>, <span style=\"border-bottom: 1px dotted gray;\" title=\"Type:        module&#013;String form: &lt;module &#x27;pathlib&#x27; from &#x27;C:\\\\Anaconda3\\\\lib\\\\pathlib.py&#x27;&gt;&#013;File:        c:\\anaconda3\\lib\\pathlib.py&#013;Docstring:   &lt;no docstring&gt;\">pathlib</span>, <span style=\"border-bottom: 1px dotted gray;\" title=\"Type:        module&#013;String form: &lt;module &#x27;importlib&#x27; from &#x27;C:\\\\Anaconda3\\\\lib\\\\importlib\\\\__init__.py&#x27;&gt;&#013;File:        c:\\anaconda3\\lib\\importlib\\__init__.py&#013;Docstring:   A pure Python implementation of import.\">importlib</span>\n",
       "</code><p>&nbsp;</p>\n"
      ],
      "text/markdown": [
       "    import nbconvert, notebook.base.handlers, notebook, pathlib, importlib\n",
       "    \n",
       "&nbsp;"
      ],
      "text/plain": [
       "'    import nbconvert, notebook.base.handlers, notebook, pathlib, importlib\\n    \\n&nbsp;'"
      ]
     },
     "metadata": {},
     "output_type": "display_data"
    }
   ],
   "source": [
    "    import nbconvert, notebook.base.handlers, notebook, pathlib, importlib\n",
    "    \n",
    "&nbsp;"
   ]
  },
  {
   "cell_type": "code",
   "execution_count": 19,
   "metadata": {
    "slideshow": {
     "slide_type": "subslide"
    }
   },
   "outputs": [
    {
     "name": "stdout",
     "output_type": "stream",
     "text": [
      "Overwriting C:/Users/deathbeds/.jupyter/jupyter_notebook_config.py\n"
     ]
    }
   ],
   "source": [
    "    %%file C:/Users/deathbeds/.jupyter/jupyter_notebook_config.py\n",
    "    c.NotebookApp.server_extensions = ['deathbeds.dead_pixels']"
   ]
  },
  {
   "cell_type": "code",
   "execution_count": 20,
   "metadata": {
    "slideshow": {
     "slide_type": "slide"
    }
   },
   "outputs": [
    {
     "name": "stdout",
     "output_type": "stream",
     "text": [
      "Overwriting dead_pixels.py\n"
     ]
    },
    {
     "data": {
      "text/html": [
       "<p>The <code><span style=\"border-bottom: 1px dotted gray;\" title=\"Init signature: nbconvert.SlidesExporter(*args, **kwargs)&#013;Docstring:      Exports HTML slides with reveal.js&#013;Init docstring:&#013;Public constructor&#013;&#013;Parameters&#013;----------&#013;config : config&#013;    User configuration instance.&#013;extra_loaders : list[of Jinja Loaders]&#013;    ordered list of Jinja loader to find templates. Will be tried in order&#013;    before the default FileSystem ones.&#013;template : str (optional, kw arg)&#013;    Template to use when exporting.&#013;File:           c:\\anaconda3\\lib\\site-packages\\nbconvert\\exporters\\slides.py&#013;Type:           MetaHasTraits\">nbconvert.SlidesExporter</span>\n",
       "</code> from <code><span style=\"border-bottom: 1px dotted gray;\" title=\"Type:            ModuleType&#013;String form:     &lt;module &#x27;deathbeds.2019-01-04-Post-to-slideshow&#x27; from &#x27;c:\\\\users\\\\deathbeds\\\\deathbeds.github.io\\\\deathbeds\\\\2019-01-04-Post-to-slideshow.md.ipynb&#x27;&gt;&#013;File:            c:\\users\\deathbeds\\deathbeds.github.io\\deathbeds\\2019-01-04-post-to-slideshow.md.ipynb&#013;Docstring:      &#013;This document discusses automatically generating presentations from notebooks.  The __reveal.js__ view of a notebook provides an alternative interface to view as slides and in a sorted layout view.  &#013;&#013;# Interpretting notebooks as presentations.&#013;Class docstring: ModuleType combines a module with a PathLike access to simplify access.\">__Post_to_slideshow</span>\n",
       "</code></p>\n",
       "<code style=\"white-space: pre;\" title=\"\">%%<span style=\"border-bottom: 1px dotted gray;\" title=\"Docstring: Alias for `%%writefile`.&#013;File:      c:\\anaconda3\\lib\\site-packages\\ipython\\core\\magic.py\">file</span> dead_pixels.py\n",
       "import <span style=\"border-bottom: 1px dotted gray;\" title=\"Type:        module&#013;String form: &lt;module &#x27;nbconvert&#x27; from &#x27;C:\\\\Anaconda3\\\\lib\\\\site-packages\\\\nbconvert\\\\__init__.py&#x27;&gt;&#013;File:        c:\\anaconda3\\lib\\site-packages\\nbconvert\\__init__.py&#013;Docstring:   Utilities for converting notebooks to and from different formats.\">nbconvert</span>\n",
       "with <span style=\"border-bottom: 1px dotted gray;\" title=\"Docstring:&#013;__import__(name, globals=None, locals=None, fromlist=(), level=0) -&gt; module&#013;&#013;Import a module. Because this function is meant for use by the Python&#013;interpreter and not for general use, it is better to use&#013;importlib.import_module() to programmatically import a module.&#013;&#013;The globals argument is only used to determine the context;&#013;they are not modified.  The locals argument is unused.  The fromlist&#013;should be a list of names to emulate ``from name import ...&#x27;&#x27;, or an&#013;empty list to emulate ``import name&#x27;&#x27;.&#013;When importing a module from a package, note that __import__(&#x27;A.B&#x27;, ...)&#013;returns package A when fromlist is empty, but its submodule B when&#013;fromlist is not empty.  The level argument is used to determine whether to&#013;perform absolute or relative imports: 0 is absolute, while a positive number&#013;is the number of parent directories to search relative to the current module.&#013;Type:      builtin_function_or_method\">__import__</span>('pidgin').PidginImporter(): from deathbeds import <span style=\"border-bottom: 1px dotted gray;\" title=\"Type:            ModuleType&#013;String form:     &lt;module &#x27;deathbeds.2019-01-04-Post-to-slideshow&#x27; from &#x27;c:\\\\users\\\\deathbeds\\\\deathbeds.github.io\\\\deathbeds\\\\2019-01-04-Post-to-slideshow.md.ipynb&#x27;&gt;&#013;File:            c:\\users\\deathbeds\\deathbeds.github.io\\deathbeds\\2019-01-04-post-to-slideshow.md.ipynb&#013;Docstring:      &#013;This document discusses automatically generating presentations from notebooks.  The __reveal.js__ view of a notebook provides an alternative interface to view as slides and in a sorted layout view.  &#013;&#013;# Interpretting notebooks as presentations.&#013;Class docstring: ModuleType combines a module with a PathLike access to simplify access.\">__Post_to_slideshow</span>\n",
       "<span style=\"border-bottom: 1px dotted gray;\" title=\"Type:           SlidesExporter&#013;String form:    &lt;nbconvert.exporters.slides.SlidesExporter object at 0x0000021840C76240&gt;&#013;File:           c:\\anaconda3\\lib\\site-packages\\nbconvert\\exporters\\slides.py&#013;Docstring:      Exports HTML slides with reveal.js&#013;Init docstring:&#013;Public constructor&#013;&#013;Parameters&#013;----------&#013;config : config&#013;    User configuration instance.&#013;extra_loaders : list[of Jinja Loaders]&#013;    ordered list of Jinja loader to find templates. Will be tried in order&#013;    before the default FileSystem ones.&#013;template : str (optional, kw arg)&#013;    Template to use when exporting.\">slides</span> = <span style=\"border-bottom: 1px dotted gray;\" title=\"Init signature: nbconvert.SlidesExporter(*args, **kwargs)&#013;Docstring:      Exports HTML slides with reveal.js&#013;Init docstring:&#013;Public constructor&#013;&#013;Parameters&#013;----------&#013;config : config&#013;    User configuration instance.&#013;extra_loaders : list[of Jinja Loaders]&#013;    ordered list of Jinja loader to find templates. Will be tried in order&#013;    before the default FileSystem ones.&#013;template : str (optional, kw arg)&#013;    Template to use when exporting.&#013;File:           c:\\anaconda3\\lib\\site-packages\\nbconvert\\exporters\\slides.py&#013;Type:           MetaHasTraits\">nbconvert.SlidesExporter</span>(\n",
       "    preprocessors=[<span style=\"border-bottom: 1px dotted gray;\" title=\"Init signature: __Post_to_slideshow.AutomaticallyPresent(*args, **kwargs)&#013;Docstring:     &#013;```&#013;&gt;&gt;&gt; assert nbconvert.SlidesExporter(preprocessors=[AutomaticallyPresent()]).from_filename(&#013;...    globals().get(&#x27;__file__&#x27;, &#x27;Untitled104.ipynb&#x27;))[0]&#013;```&#013;Init docstring:&#013;Public constructor&#013;&#013;Parameters&#013;----------&#013;config : Config&#013;    Configuration file structure&#013;`**kw`&#013;    Additional keyword arguments passed to parent&#013;File:           c:\\users\\deathbeds\\deathbeds.github.io\\deathbeds\\2019-01-04-post-to-slideshow.md.ipynb&#013;Type:           MetaHasTraits\">__Post_to_slideshow.AutomaticallyPresent</span>()],\n",
       "    reveal_scroll=True, exclude_input=True)\n",
       "</code><hr>\n",
       "<code style=\"white-space: pre;\" title=\"\">from . import <span style=\"border-bottom: 1px dotted gray;\" title=\"Type:        module&#013;String form: &lt;module &#x27;__main__.dead_pixels&#x27; from &#x27;C:\\\\Users\\\\deathbeds\\\\deathbeds.github.io\\\\deathbeds\\\\dead_pixels.py&#x27;&gt;&#013;File:        c:\\users\\deathbeds\\deathbeds.github.io\\deathbeds\\dead_pixels.py&#013;Docstring:   &lt;no docstring&gt;\">dead_pixels</span>; <span style=\"border-bottom: 1px dotted gray;\" title=\"Signature: globals()&#013;Docstring:&#013;Return the dictionary containing the current scope&#x27;s global variables.&#013;&#013;NOTE: Updates to this dictionary *will* affect name lookups in the current&#013;global scope and vice-versa.&#013;Type:      builtin_function_or_method\">globals</span>().update(<span style=\"border-bottom: 1px dotted gray;\" title=\"Docstring:&#013;vars([object]) -&gt; dictionary&#013;&#013;Without arguments, equivalent to locals().&#013;With an argument, equivalent to object.__dict__.&#013;Type:      builtin_function_or_method\">vars</span>(<span style=\"border-bottom: 1px dotted gray;\" title=\"Type:        module&#013;String form: &lt;module &#x27;__main__.dead_pixels&#x27; from &#x27;C:\\\\Users\\\\deathbeds\\\\deathbeds.github.io\\\\deathbeds\\\\dead_pixels.py&#x27;&gt;&#013;File:        c:\\users\\deathbeds\\deathbeds.github.io\\deathbeds\\dead_pixels.py&#013;Docstring:   &lt;no docstring&gt;\">dead_pixels</span>))\n",
       "</code>"
      ],
      "text/markdown": [
       "The `nbconvert.SlidesExporter` from `__Post_to_slideshow`\n",
       "    \n",
       "    %%file dead_pixels.py\n",
       "    import nbconvert\n",
       "    with __import__('pidgin').PidginImporter(): from deathbeds import __Post_to_slideshow\n",
       "    slides = nbconvert.SlidesExporter(\n",
       "        preprocessors=[__Post_to_slideshow.AutomaticallyPresent()],\n",
       "        reveal_scroll=True, exclude_input=True)\n",
       "---\n",
       "\n",
       "    from . import dead_pixels; globals().update(vars(dead_pixels))"
      ],
      "text/plain": [
       "\"The `nbconvert.SlidesExporter` from `__Post_to_slideshow`\\n    \\n    %%file dead_pixels.py\\n    import nbconvert\\n    with __import__('pidgin').PidginImporter(): from deathbeds import __Post_to_slideshow\\n    slides = nbconvert.SlidesExporter(\\n        preprocessors=[__Post_to_slideshow.AutomaticallyPresent()],\\n        reveal_scroll=True, exclude_input=True)\\n---\\n\\n    from . import dead_pixels; globals().update(vars(dead_pixels))\""
      ]
     },
     "metadata": {},
     "output_type": "display_data"
    }
   ],
   "source": [
    "The `nbconvert.SlidesExporter` from `__Post_to_slideshow`\n",
    "    \n",
    "    %%file dead_pixels.py\n",
    "    import nbconvert\n",
    "    with __import__('pidgin').PidginImporter(): from deathbeds import __Post_to_slideshow\n",
    "    slides = nbconvert.SlidesExporter(\n",
    "        preprocessors=[__Post_to_slideshow.AutomaticallyPresent()],\n",
    "        reveal_scroll=True, exclude_input=True)\n",
    "---\n",
    "\n",
    "    from . import dead_pixels; globals().update(vars(dead_pixels))"
   ]
  },
  {
   "cell_type": "code",
   "execution_count": 23,
   "metadata": {
    "slideshow": {
     "slide_type": "slide"
    }
   },
   "outputs": [
    {
     "name": "stdout",
     "output_type": "stream",
     "text": [
      "Appending to dead_pixels.py\n"
     ]
    },
    {
     "data": {
      "text/html": [
       "<p>Similar to the load_ipython_extension Create a <code>\"<span style=\"border-bottom: 1px dotted gray;\" title=\"Signature: load_jupyter_server_extension(app)&#013;Docstring: &lt;no docstring&gt;&#013;File:      c:\\users\\deathbeds\\deathbeds.github.io\\deathbeds\\dead_pixels.py&#013;Type:      function\">load_jupyter_server_extension</span>\"\n",
       "</code> function on startup reference mindtrove.</p>\n",
       "<code style=\"white-space: pre;\" title=\"\">%%<span style=\"border-bottom: 1px dotted gray;\" title=\"Docstring: Alias for `%%writefile`.&#013;File:      c:\\anaconda3\\lib\\site-packages\\ipython\\core\\magic.py\">file</span> dead_pixels.py -<span style=\"border-bottom: 1px dotted gray;\" title=\"Signature:   a(*tuple, **dict)&#013;Type:        curry&#013;String form: curry(object=(&lt;class &#x27;poser.compose&#x27;&gt;,), args=(), keywords={})&#013;Length:      1&#013;File:        c:\\users\\deathbeds\\poser\\poser.py&#013;Docstring:   curry(*tuple, **dict)\">a</span>\n",
       "\n",
       "def load_jupyter_server_extension(app):        \n",
       "    class DeadPixelsHandler(<span style=\"border-bottom: 1px dotted gray;\" title=\"Type:        module&#013;String form: &lt;module &#x27;notebook.base.handlers&#x27; from &#x27;C:\\\\Anaconda3\\\\lib\\\\site-packages\\\\notebook\\\\base\\\\handlers.py&#x27;&gt;&#013;File:        c:\\anaconda3\\lib\\site-packages\\notebook\\base\\handlers.py&#013;Docstring:   Base Tornado handlers for the notebook server.\">notebook.base.handlers</span>):\n",
       "        def get(self, exporter_name, path, *kwargs):\n",
       "            if exporter_name == '<span style=\"border-bottom: 1px dotted gray;\" title=\"Type:           SlidesExporter&#013;String form:    &lt;nbconvert.exporters.slides.SlidesExporter object at 0x0000021840E06470&gt;&#013;File:           c:\\anaconda3\\lib\\site-packages\\nbconvert\\exporters\\slides.py&#013;Docstring:      Exports HTML slides with reveal.js&#013;Init docstring:&#013;Public constructor&#013;&#013;Parameters&#013;----------&#013;config : config&#013;    User configuration instance.&#013;extra_loaders : list[of Jinja Loaders]&#013;    ordered list of Jinja loader to find templates. Will be tried in order&#013;    before the default FileSystem ones.&#013;template : str (optional, kw arg)&#013;    Template to use when exporting.\">slides</span>': exp = <span style=\"border-bottom: 1px dotted gray;\" title=\"Type:           SlidesExporter&#013;String form:    &lt;nbconvert.exporters.slides.SlidesExporter object at 0x0000021840E06470&gt;&#013;File:           c:\\anaconda3\\lib\\site-packages\\nbconvert\\exporters\\slides.py&#013;Docstring:      Exports HTML slides with reveal.js&#013;Init docstring:&#013;Public constructor&#013;&#013;Parameters&#013;----------&#013;config : config&#013;    User configuration instance.&#013;extra_loaders : list[of Jinja Loaders]&#013;    ordered list of Jinja loader to find templates. Will be tried in order&#013;    before the default FileSystem ones.&#013;template : str (optional, kw arg)&#013;    Template to use when exporting.\">slides</span>\n",
       "            else: exp = <span style=\"border-bottom: 1px dotted gray;\" title=\"Signature: nbconvert.get_exporter(name)&#013;Docstring:&#013;Given an exporter name or import path, return a class ready to be instantiated&#013;&#013;Raises ValueError if exporter is not found&#013;File:      c:\\anaconda3\\lib\\site-packages\\nbconvert\\exporters\\base.py&#013;Type:      function\">nbconvert.get_exporter</span>(exporter_name)()\n",
       "            out, resources = exp.from_filename(path)\n",
       "            self.finish(out)\n",
       "</code><hr>\n",
       "<code style=\"white-space: pre;\" title=\"\"><span style=\"border-bottom: 1px dotted gray;\" title=\"Signature: globals()&#013;Docstring:&#013;Return the dictionary containing the current scope&#x27;s global variables.&#013;&#013;NOTE: Updates to this dictionary *will* affect name lookups in the current&#013;global scope and vice-versa.&#013;Type:      builtin_function_or_method\">globals</span>().update(<span style=\"border-bottom: 1px dotted gray;\" title=\"Docstring:&#013;vars([object]) -&gt; dictionary&#013;&#013;Without arguments, equivalent to locals().&#013;With an argument, equivalent to object.__dict__.&#013;Type:      builtin_function_or_method\">vars</span>(<span style=\"border-bottom: 1px dotted gray;\" title=\"Signature: importlib.reload(module)&#013;Docstring:&#013;Reload the module and return it.&#013;&#013;The module must have been successfully imported before.&#013;File:      c:\\anaconda3\\lib\\importlib\\__init__.py&#013;Type:      function\">importlib.reload</span>(<span style=\"border-bottom: 1px dotted gray;\" title=\"Type:        module&#013;String form: &lt;module &#x27;__main__.dead_pixels&#x27; from &#x27;C:\\\\Users\\\\deathbeds\\\\deathbeds.github.io\\\\deathbeds\\\\dead_pixels.py&#x27;&gt;&#013;File:        c:\\users\\deathbeds\\deathbeds.github.io\\deathbeds\\dead_pixels.py&#013;Docstring:   &lt;no docstring&gt;\">dead_pixels</span>)))\n",
       "</code>"
      ],
      "text/markdown": [
       "Similar to the load_ipython_extension Create a `\"load_jupyter_server_extension\"` function on startup reference mindtrove.\n",
       "    \n",
       "    %%file dead_pixels.py -a\n",
       "\n",
       "    def load_jupyter_server_extension(app):        \n",
       "        class DeadPixelsHandler(notebook.base.handlers):\n",
       "            def get(self, exporter_name, path, *kwargs):\n",
       "                if exporter_name == 'slides': exp = slides\n",
       "                else: exp = nbconvert.get_exporter(exporter_name)()\n",
       "                out, resources = exp.from_filename(path)\n",
       "                self.finish(out)\n",
       "---\n",
       "\n",
       "    globals().update(vars(importlib.reload(dead_pixels)))"
      ],
      "text/plain": [
       "'Similar to the load_ipython_extension Create a `\"load_jupyter_server_extension\"` function on startup reference mindtrove.\\n    \\n    %%file dead_pixels.py -a\\n\\n    def load_jupyter_server_extension(app):        \\n        class DeadPixelsHandler(notebook.base.handlers):\\n            def get(self, exporter_name, path, *kwargs):\\n                if exporter_name == \\'slides\\': exp = slides\\n                else: exp = nbconvert.get_exporter(exporter_name)()\\n                out, resources = exp.from_filename(path)\\n                self.finish(out)\\n---\\n\\n    globals().update(vars(importlib.reload(dead_pixels)))'"
      ]
     },
     "metadata": {},
     "output_type": "display_data"
    }
   ],
   "source": [
    "Similar to the load_ipython_extension Create a `\"load_jupyter_server_extension\"` function on startup reference mindtrove.\n",
    "    \n",
    "    %%file dead_pixels.py -a\n",
    "\n",
    "    def load_jupyter_server_extension(app):        \n",
    "        class DeadPixelsHandler(notebook.base.handlers):\n",
    "            def get(self, exporter_name, path, *kwargs):\n",
    "                if exporter_name == 'slides': exp = slides\n",
    "                else: exp = nbconvert.get_exporter(exporter_name)()\n",
    "                out, resources = exp.from_filename(path)\n",
    "                self.finish(out)\n",
    "---\n",
    "\n",
    "    globals().update(vars(importlib.reload(dead_pixels)))"
   ]
  },
  {
   "cell_type": "code",
   "execution_count": 24,
   "metadata": {
    "slideshow": {
     "slide_type": "slide"
    }
   },
   "outputs": [
    {
     "name": "stdout",
     "output_type": "stream",
     "text": [
      "Appending to dead_pixels.py\n"
     ]
    },
    {
     "data": {
      "text/html": [
       "<p>Add an endpoint handler to the <code>\"app\"\n",
       "</code></p>\n",
       "<code style=\"white-space: pre;\" title=\"\">%%<span style=\"border-bottom: 1px dotted gray;\" title=\"Docstring: Alias for `%%writefile`.&#013;File:      c:\\anaconda3\\lib\\site-packages\\ipython\\core\\magic.py\">file</span> dead_pixels.py -<span style=\"border-bottom: 1px dotted gray;\" title=\"Signature:   a(*tuple, **dict)&#013;Type:        curry&#013;String form: curry(object=(&lt;class &#x27;poser.compose&#x27;&gt;,), args=(), keywords={})&#013;Length:      1&#013;File:        c:\\users\\deathbeds\\poser\\poser.py&#013;Docstring:   curry(*tuple, **dict)\">a</span>\n",
       "\n",
       "    app.web_app.add_handlers('.*$', [(\n",
       "        r'^/dead/(?P<exporter_name>[a-z_]+)/(?P<path>.*)', \n",
       "        DeadPixelsHandler)\n",
       "    ])\n",
       "</code><hr>\n",
       "<code style=\"white-space: pre;\" title=\"\"><span style=\"border-bottom: 1px dotted gray;\" title=\"Signature: globals()&#013;Docstring:&#013;Return the dictionary containing the current scope&#x27;s global variables.&#013;&#013;NOTE: Updates to this dictionary *will* affect name lookups in the current&#013;global scope and vice-versa.&#013;Type:      builtin_function_or_method\">globals</span>().update(<span style=\"border-bottom: 1px dotted gray;\" title=\"Docstring:&#013;vars([object]) -&gt; dictionary&#013;&#013;Without arguments, equivalent to locals().&#013;With an argument, equivalent to object.__dict__.&#013;Type:      builtin_function_or_method\">vars</span>(<span style=\"border-bottom: 1px dotted gray;\" title=\"Signature: importlib.reload(module)&#013;Docstring:&#013;Reload the module and return it.&#013;&#013;The module must have been successfully imported before.&#013;File:      c:\\anaconda3\\lib\\importlib\\__init__.py&#013;Type:      function\">importlib.reload</span>(<span style=\"border-bottom: 1px dotted gray;\" title=\"Type:        module&#013;String form: &lt;module &#x27;__main__.dead_pixels&#x27; from &#x27;C:\\\\Users\\\\deathbeds\\\\deathbeds.github.io\\\\deathbeds\\\\dead_pixels.py&#x27;&gt;&#013;File:        c:\\users\\deathbeds\\deathbeds.github.io\\deathbeds\\dead_pixels.py&#013;Docstring:   &lt;no docstring&gt;\">dead_pixels</span>)))\n",
       "</code>"
      ],
      "text/markdown": [
       "Add an endpoint handler to the `\"app\"`\n",
       "    \n",
       "    %%file dead_pixels.py -a\n",
       "\n",
       "        app.web_app.add_handlers('.*$', [(\n",
       "            r'^/dead/(?P<exporter_name>[a-z_]+)/(?P<path>.*)', \n",
       "            DeadPixelsHandler)\n",
       "        ])\n",
       "        \n",
       "---\n",
       "\n",
       "    globals().update(vars(importlib.reload(dead_pixels)))"
      ],
      "text/plain": [
       "'Add an endpoint handler to the `\"app\"`\\n    \\n    %%file dead_pixels.py -a\\n\\n        app.web_app.add_handlers(\\'.*$\\', [(\\n            r\\'^/dead/(?P<exporter_name>[a-z_]+)/(?P<path>.*)\\', \\n            DeadPixelsHandler)\\n        ])\\n        \\n---\\n\\n    globals().update(vars(importlib.reload(dead_pixels)))'"
      ]
     },
     "metadata": {},
     "output_type": "display_data"
    }
   ],
   "source": [
    "Add an endpoint handler to the `\"app\"`\n",
    "    \n",
    "    %%file dead_pixels.py -a\n",
    "\n",
    "        app.web_app.add_handlers('.*$', [(\n",
    "            r'^/dead/(?P<exporter_name>[a-z_]+)/(?P<path>.*)', \n",
    "            DeadPixelsHandler)\n",
    "        ])\n",
    "        \n",
    "---\n",
    "\n",
    "    globals().update(vars(importlib.reload(dead_pixels)))"
   ]
  },
  {
   "cell_type": "markdown",
   "metadata": {},
   "source": [
    "https://github.com/astefanutti/decktape"
   ]
  },
  {
   "cell_type": "code",
   "execution_count": 40,
   "metadata": {},
   "outputs": [
    {
     "name": "stdout",
     "output_type": "stream",
     "text": [
      "Loading page http://localhost:8889/notebooks/deathbeds.github.io/deathbeds/2019-01-04-Deadpixels.ipynb?token=6e1056a0ca8f58c6891063172649d3e452e7a2e521f27723 ...\n",
      "actions jupyter-notebook:find-and-replace does not exist, still binding it in case it will be defined later...\n",
      "Loaded moment locale en\n",
      "load_extensions { '0': 'jupyter-webrtc/extension',\n",
      "  '1': 'nbdime/index',\n",
      "  '2': 'rise/main',\n",
      "  '3': 'jupyter-js-widgets/extension',\n",
      "  '4': 'create_assignment/main',\n",
      "  '5': 'validate_assignment/main',\n",
      "  '6': 'nbtutor/js/nbtutor.min' }\n",
      "Session: kernel_created (7903f344-dc41-4246-b184-06797a666bcb)\n",
      "Starting WebSockets: ws://localhost:8889/api/kernels/6997a802-d137-4a48-8d14-5127fec63148\n",
      "Loading extension: jupyter-webrtc/extension\n",
      "Loading extension: nbdime/index\n",
      "Loading extension: rise/main\n",
      "Loading extension: validate_assignment/main\n",
      "nbgrader extension for validating notebooks loaded.\n",
      "Loading extension: create_assignment/main\n",
      "nbgrader extension for metadata editing loaded.\n",
      "Loading extension: nbtutor/js/nbtutor.min\n",
      "Failed to load resource: the server responded with a status of 404 (Not Found)\n",
      "Kernel: kernel_connected (6997a802-d137-4a48-8d14-5127fec63148)\n",
      "accessing \"actions\" on the global IPython/Jupyter is not recommended. Pass it to your objects contructors at creation time\n",
      "accessing \"actions\" on the global IPython/Jupyter is not recommended. Pass it to your objects contructors at creation time\n",
      "accessing \"actions\" on the global IPython/Jupyter is not recommended. Pass it to your objects contructors at creation time\n",
      "accessing \"actions\" on the global IPython/Jupyter is not recommended. Pass it to your objects contructors at creation time\n",
      "Kernel: kernel_ready (6997a802-d137-4a48-8d14-5127fec63148)\n",
      "\n",
      "Page error: TypeError: Cannot read property 'scrollHeight' of undefined\n",
      "    at http://localhost:8889/deathbeds.github.io/deathbeds/2019-01-04-Deadpixels.ipynb.pdf:181:21\n",
      "    at Object.execCb (http://localhost:8889/static/components/requirejs/require.js?v=951f856e81496aaeec2e71a1c2c0d51f:1693:33)\n",
      "    at Module.check (http://localhost:8889/static/components/requirejs/require.js?v=951f856e81496aaeec2e71a1c2c0d51f:881:51)\n",
      "    at Module.<anonymous> (http://localhost:8889/static/components/requirejs/require.js?v=951f856e81496aaeec2e71a1c2c0d51f:1136:34)\n",
      "    at http://localhost:8889/static/components/requirejs/require.js?v=951f856e81496aaeec2e71a1c2c0d51f:134:23\n",
      "    at http://localhost:8889/static/components/requirejs/require.js?v=951f856e81496aaeec2e71a1c2c0d51f:1186:21\n",
      "    at each (http://localhost:8889/static/components/requirejs/require.js?v=951f856e81496aaeec2e71a1c2c0d51f:59:31)\n",
      "    at Module.emit (http://localhost:8889/static/components/requirejs/require.js?v=951f856e81496aaeec2e71a1c2c0d51f:1185:17)\n",
      "    at Module.check (http://localhost:8889/static/components/requirejs/require.js?v=951f856e81496aaeec2e71a1c2c0d51f:936:30)\n",
      "    at Module.enable (http://localhost:8889/static/components/requirejs/require.js?v=951f856e81496aaeec2e71a1c2c0d51f:1173:22)\n",
      "Loading extension: jupyter-js-widgets/extension\n",
      "Loading page finished with status: 200\n",
      "RISE plugin activated\n",
      "Failed to load resource: the server responded with a status of 404 (Not Found)\n",
      "Failed to load resource: the server responded with a status of 404 (Not Found)\n",
      "Failed to load resource: the server responded with a status of 404 (Not Found)\n",
      "Reveal initialized\n",
      "\n",
      "Page error: TypeError: Cannot read property 'scrollHeight' of undefined\n",
      "    at http://localhost:8889/deathbeds.github.io/deathbeds/2019-01-04-Deadpixels.ipynb.pdf:181:21\n",
      "    at Object.execCb (http://localhost:8889/static/components/requirejs/require.js?v=951f856e81496aaeec2e71a1c2c0d51f:1693:33)\n",
      "    at Module.check (http://localhost:8889/static/components/requirejs/require.js?v=951f856e81496aaeec2e71a1c2c0d51f:881:51)\n",
      "    at Module.<anonymous> (http://localhost:8889/static/components/requirejs/require.js?v=951f856e81496aaeec2e71a1c2c0d51f:1136:34)\n",
      "    at http://localhost:8889/static/components/requirejs/require.js?v=951f856e81496aaeec2e71a1c2c0d51f:134:23\n",
      "    at http://localhost:8889/static/components/requirejs/require.js?v=951f856e81496aaeec2e71a1c2c0d51f:1186:21\n",
      "    at each (http://localhost:8889/static/components/requirejs/require.js?v=951f856e81496aaeec2e71a1c2c0d51f:59:31)\n",
      "    at Module.emit (http://localhost:8889/static/components/requirejs/require.js?v=951f856e81496aaeec2e71a1c2c0d51f:1185:17)\n",
      "    at Module.check (http://localhost:8889/static/components/requirejs/require.js?v=951f856e81496aaeec2e71a1c2c0d51f:936:30)\n",
      "    at Module.enable (http://localhost:8889/static/components/requirejs/require.js?v=951f856e81496aaeec2e71a1c2c0d51f:1173:22)\n",
      "\n",
      "Printing slide #/slide-0-0 (1/3) ...\n",
      "Printing slide #/slide-0-1 (2/3) ...\n",
      "Printing slide #/slide-1-0 (3/3) ...\n",
      "Printed 3 slides\n"
     ]
    }
   ],
   "source": [
    "    !..\\..\\node_modules\\.bin\\decktape automatic http://localhost:8889/notebooks/deathbeds.github.io/deathbeds/2019-01-04-Deadpixels.ipynb?token=6e1056a0ca8f58c6891063172649d3e452e7a2e521f27723 2019-01-04-Deadpixels.ipynb.pdf"
   ]
  },
  {
   "cell_type": "code",
   "execution_count": null,
   "metadata": {},
   "outputs": [],
   "source": []
  }
 ],
 "metadata": {
  "kernelspec": {
   "display_name": "Python 3",
   "language": "python",
   "name": "python3"
  },
  "language_info": {
   "codemirror_mode": {
    "name": "ipython",
    "version": 3
   },
   "file_extension": ".py",
   "mimetype": "text/x-python",
   "name": "python",
   "nbconvert_exporter": "python",
   "pygments_lexer": "ipython3",
   "version": "3.6.6"
  }
 },
 "nbformat": 4,
 "nbformat_minor": 2
}
