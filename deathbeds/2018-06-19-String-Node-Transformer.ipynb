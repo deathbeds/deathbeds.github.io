{
 "cells": [
  {
   "cell_type": "markdown",
   "metadata": {},
   "source": [
    "\\# Reasonable way to place macros in text.\n",
    "\n",
    "Some strings contain delimiters that identify them with a specific syntax.\n",
    "\n",
    "* Markdown has ticks\n",
    "* Yaml has dashes\n",
    "* Graphviz has graph/digraph\n",
    "* Latex has Dollar signs.\n",
    "\n",
    "## Usage\n",
    "\n",
    "Install [__deathbeds__](https://github.com/deathbeds/deathbeds.github.io)\n",
    "\n",
    "        with __import__('importnb').Notebook():\n",
    "            %reload_ext deathbeds.__String_Node__"
   ]
  },
  {
   "cell_type": "markdown",
   "metadata": {},
   "source": [
    "# The Node Transformer\n",
    "\n",
    "The node transformer is an structured way to modify code.  [__greentreesnakes__](https://greentreesnakes.readthedocs.io/) is a great document for understanding the Python ast."
   ]
  },
  {
   "cell_type": "code",
   "execution_count": 1,
   "metadata": {},
   "outputs": [],
   "source": [
    "    import ast, abc, doctest, types, unittest\n",
    "    import os\n",
    "    os.environ['PATH'] = ';'.join([os.environ['PATH'], \"C:/Program Files (x86)/Graphviz2.38/bin\"])"
   ]
  },
  {
   "cell_type": "markdown",
   "metadata": {},
   "source": [
    "The NodeTransformer will takes two attributes:\n",
    "\n",
    "* A condition that must be satisfied to trigger the replacement.\n",
    "* A formatable string that can be replaced with the desired source.\n",
    "\n",
    "This class is to be reused as a base class.\n",
    "\n",
    "    >>> class NewTransformer(StrTokenTransformerMeta): ..."
   ]
  },
  {
   "cell_type": "code",
   "execution_count": 2,
   "metadata": {},
   "outputs": [],
   "source": [
    "    class StrTokenTransformerMeta(ast.NodeTransformer, metaclass=abc.ABCMeta):\n",
    "        @abc.abstractstaticmethod\n",
    "        def condition(self, callable: str) -> bool:\n",
    "            \"\"\"A callable that tests a string condition.\"\"\"\n",
    "            raise NotImplemented()\n",
    "            \n",
    "        @abc.abstractproperty\n",
    "        def replacement(self, str) -> str:\n",
    "            \"\"\"A block string to replace a condition with.\"\"\"\n",
    "            raise NotImplemented()\n",
    "            \n",
    "        "
   ]
  },
  {
   "cell_type": "markdown",
   "metadata": {},
   "source": [
    "> `abstractproperty` is not required, but it doesn't hurt.  If this is confusing, just know we can't create a new `StrTokenTransformerMeta` class without the `condition` or `replacement` attributes existing and being `staticmethod` and `abstractproperty`, respectively."
   ]
  },
  {
   "cell_type": "markdown",
   "metadata": {},
   "source": [
    "`StrTokenTransformer` defines import `NodeTransformer` attributes."
   ]
  },
  {
   "cell_type": "code",
   "execution_count": 3,
   "metadata": {},
   "outputs": [],
   "source": [
    "    class StrTokenTransformer(StrTokenTransformerMeta):\n",
    "        def generic_visit(self, node): return node\n",
    "        \n",
    "        def visit_Expr(self, node):\n",
    "            if isinstance(node.value, ast.Str):\n",
    "                str = node.value.s\n",
    "                if self.condition(str):\n",
    "                    return ast.parse(self.replace(str)).body[0]\n",
    "            return node\n",
    "        \n",
    "        def visit_Module(self, node): return super().generic_visit(node)\n",
    "        \n",
    "        def replace(self, str):\n",
    "            \"\"\"Validate the source, before continuing.\"\"\"\n",
    "            self.validate()\n",
    "            quotes = '\"\"\"'\n",
    "            if quotes in str: quotes = \"'''\"\n",
    "            return self.replacement.format(\n",
    "                quotes + '{}' + quotes).format(str)\n",
    "            \n",
    "        def validate(self):\n",
    "            \"\"\"Validate that the replacement string is Python.\"\"\"\n",
    "            try: ast.parse(self.replacement)\n",
    "            except: raise StrTokenTransformerException(self.replacement)\n",
    "                "
   ]
  },
  {
   "cell_type": "markdown",
   "metadata": {},
   "source": [
    "It is a good practice to define our own exceptions."
   ]
  },
  {
   "cell_type": "code",
   "execution_count": 4,
   "metadata": {},
   "outputs": [],
   "source": [
    "    class StrTokenTransformerException(BaseException): ..."
   ]
  },
  {
   "cell_type": "markdown",
   "metadata": {},
   "source": [
    "## A graphviz replacement\n",
    "\n",
    "When a string starts with __graph__ or __digraph__ show a [__graphviz__]() repr."
   ]
  },
  {
   "cell_type": "code",
   "execution_count": 5,
   "metadata": {},
   "outputs": [],
   "source": [
    "    if False: import graphviz\n",
    "    class GraphViz(StrTokenTransformer):\n",
    "        replacement = \"\"\"__import__('graphviz').Source({})\"\"\"\n",
    "        condition = staticmethod(lambda str: str.startswith('graph') or str.startswith('digraph'))"
   ]
  },
  {
   "cell_type": "markdown",
   "metadata": {},
   "source": [
    "> The graphviz syntax looks extra boss with [Fira-Code]()."
   ]
  },
  {
   "cell_type": "markdown",
   "metadata": {},
   "source": [
    "## A yaml replacement"
   ]
  },
  {
   "cell_type": "code",
   "execution_count": 6,
   "metadata": {},
   "outputs": [],
   "source": [
    "    class YamlDefinition(StrTokenTransformer):\n",
    "        replacement = \"\"\"globals().update(\n",
    "            __import__('collections').ChainMap(*reversed(list(\n",
    "                __import__('yaml').safe_load_all(\n",
    "                    __import__('io').StringIO({}))))))\"\"\"\n",
    "        condition = staticmethod(lambda str: str.startswith('---\\n'))"
   ]
  },
  {
   "cell_type": "markdown",
   "metadata": {},
   "source": [
    "## An Iframe replacement."
   ]
  },
  {
   "cell_type": "code",
   "execution_count": 7,
   "metadata": {},
   "outputs": [],
   "source": [
    "    class IframeDisplay(StrTokenTransformer):\n",
    "        replacement = \"\"\"__import__('IPython').display.display(\n",
    "            __import__('IPython').display.IFrame(\n",
    "                {}, 600, 400))\"\"\"\n",
    "        condition = staticmethod(lambda str: str.startswith('http:') or str.startswith('https:'))"
   ]
  },
  {
   "cell_type": "markdown",
   "metadata": {},
   "source": [
    "## A tester"
   ]
  },
  {
   "cell_type": "code",
   "execution_count": 8,
   "metadata": {},
   "outputs": [],
   "source": [
    "    class DoctestString(StrTokenTransformer):\n",
    "        replacement = \"\"\"__import__('doctest').testmod(\n",
    "            __import__('types').ModuleType('test', {}), globs=vars(__import__(__name__)))\"\"\"\n",
    "        condition = staticmethod(lambda str: any(line.lstrip().startswith('>>> ') for line in str.splitlines()))"
   ]
  },
  {
   "cell_type": "markdown",
   "metadata": {},
   "source": [
    "## An IPython extension"
   ]
  },
  {
   "cell_type": "code",
   "execution_count": 9,
   "metadata": {},
   "outputs": [],
   "source": [
    "    def load_ipython_extension(ip=None):\n",
    "        ip = ip or __import__('IPython').get_ipython()\n",
    "        ip.ast_transformers = [GraphViz(), YamlDefinition(), IframeDisplay(), DoctestString()]\n",
    "        \n",
    "    load = load_ipython_extension"
   ]
  },
  {
   "cell_type": "markdown",
   "metadata": {},
   "source": [
    "## Usage\n",
    "\n",
    "    >> __import__('__String_Node_Transformer').load()"
   ]
  },
  {
   "cell_type": "code",
   "execution_count": 10,
   "metadata": {},
   "outputs": [],
   "source": [
    "    Ø = __name__ == '__main__'\n",
    "    Ø and load_ipython_extension()"
   ]
  },
  {
   "cell_type": "markdown",
   "metadata": {},
   "source": [
    "### GraphViz Example"
   ]
  },
  {
   "cell_type": "code",
   "execution_count": 12,
   "metadata": {},
   "outputs": [
    {
     "data": {
      "image/svg+xml": [
       "<?xml version=\"1.0\" encoding=\"UTF-8\" standalone=\"no\"?>\r\n",
       "<!DOCTYPE svg PUBLIC \"-//W3C//DTD SVG 1.1//EN\"\r\n",
       " \"http://www.w3.org/Graphics/SVG/1.1/DTD/svg11.dtd\">\r\n",
       "<!-- Generated by graphviz version 2.38.0 (20140413.2041)\r\n",
       " -->\r\n",
       "<!-- Title: %3 Pages: 1 -->\r\n",
       "<svg width=\"242pt\" height=\"67pt\"\r\n",
       " viewBox=\"0.00 0.00 242.00 67.00\" xmlns=\"http://www.w3.org/2000/svg\" xmlns:xlink=\"http://www.w3.org/1999/xlink\">\r\n",
       "<g id=\"graph0\" class=\"graph\" transform=\"scale(1 1) rotate(0) translate(4 63)\">\r\n",
       "<title>%3</title>\r\n",
       "<polygon fill=\"white\" stroke=\"none\" points=\"-4,4 -4,-63 238,-63 238,4 -4,4\"/>\r\n",
       "<!-- A -->\r\n",
       "<g id=\"node1\" class=\"node\"><title>A</title>\r\n",
       "<ellipse fill=\"none\" stroke=\"black\" cx=\"27\" cy=\"-18\" rx=\"27\" ry=\"18\"/>\r\n",
       "<text text-anchor=\"middle\" x=\"27\" y=\"-14.3\" font-family=\"Times New Roman,serif\" font-size=\"14.00\">A</text>\r\n",
       "</g>\r\n",
       "<!-- B -->\r\n",
       "<g id=\"node2\" class=\"node\"><title>B</title>\r\n",
       "<ellipse fill=\"none\" stroke=\"black\" cx=\"117\" cy=\"-41\" rx=\"27\" ry=\"18\"/>\r\n",
       "<text text-anchor=\"middle\" x=\"117\" y=\"-37.3\" font-family=\"Times New Roman,serif\" font-size=\"14.00\">B</text>\r\n",
       "</g>\r\n",
       "<!-- A&#45;&gt;B -->\r\n",
       "<g id=\"edge1\" class=\"edge\"><title>A&#45;&gt;B</title>\r\n",
       "<path fill=\"none\" stroke=\"black\" d=\"M52.5129,-24.4068C61.5717,-26.7744 72.0115,-29.503 81.775,-32.0548\"/>\r\n",
       "<polygon fill=\"black\" stroke=\"black\" points=\"81.0585,-35.4851 91.6186,-34.6276 82.8286,-28.7126 81.0585,-35.4851\"/>\r\n",
       "</g>\r\n",
       "<!-- C -->\r\n",
       "<g id=\"node3\" class=\"node\"><title>C</title>\r\n",
       "<ellipse fill=\"none\" stroke=\"black\" cx=\"207\" cy=\"-18\" rx=\"27\" ry=\"18\"/>\r\n",
       "<text text-anchor=\"middle\" x=\"207\" y=\"-14.3\" font-family=\"Times New Roman,serif\" font-size=\"14.00\">C</text>\r\n",
       "</g>\r\n",
       "<!-- B&#45;&gt;C -->\r\n",
       "<g id=\"edge2\" class=\"edge\"><title>B&#45;&gt;C</title>\r\n",
       "<path fill=\"none\" stroke=\"black\" d=\"M142.513,-34.5932C151.572,-32.2256 162.012,-29.497 171.775,-26.9452\"/>\r\n",
       "<polygon fill=\"black\" stroke=\"black\" points=\"172.829,-30.2874 181.619,-24.3724 171.058,-23.5149 172.829,-30.2874\"/>\r\n",
       "</g>\r\n",
       "<!-- C&#45;&gt;A -->\r\n",
       "<g id=\"edge3\" class=\"edge\"><title>C&#45;&gt;A</title>\r\n",
       "<path fill=\"none\" stroke=\"black\" d=\"M180.075,-15.9538C168.974,-15.1744 155.859,-14.3821 144,-14 120.012,-13.227 113.988,-13.227 90,-14 81.5692,-14.2717 72.5035,-14.7506 63.9776,-15.2849\"/>\r\n",
       "<polygon fill=\"black\" stroke=\"black\" points=\"63.6701,-11.7975 53.9246,-15.9538 64.1349,-18.7821 63.6701,-11.7975\"/>\r\n",
       "</g>\r\n",
       "</g>\r\n",
       "</svg>\r\n"
      ],
      "text/plain": [
       "<graphviz.files.Source at 0x29c674df198>"
      ]
     },
     "execution_count": 12,
     "metadata": {},
     "output_type": "execute_result"
    }
   ],
   "source": [
    "    \"\"\"digraph {rankdir=\"LR\" A->B->C->A}\"\"\""
   ]
  },
  {
   "cell_type": "markdown",
   "metadata": {},
   "source": [
    "### Yaml Example"
   ]
  },
  {
   "cell_type": "code",
   "execution_count": 13,
   "metadata": {},
   "outputs": [],
   "source": [
    "    \"\"\"---\n",
    "    foo: 42\n",
    "    ---\n",
    "    foo: 100\"\"\"\n",
    "    if Ø: assert foo is 100, \"\"\"The transformer is likely not loaded.\"\"\""
   ]
  },
  {
   "cell_type": "markdown",
   "metadata": {},
   "source": [
    "### Doctesting"
   ]
  },
  {
   "cell_type": "code",
   "execution_count": 14,
   "metadata": {},
   "outputs": [
    {
     "data": {
      "text/plain": [
       "TestResults(failed=0, attempted=1)"
      ]
     },
     "execution_count": 14,
     "metadata": {},
     "output_type": "execute_result"
    }
   ],
   "source": [
    "    \"\"\">>> 1\n",
    "    1\"\"\""
   ]
  },
  {
   "cell_type": "markdown",
   "metadata": {},
   "source": [
    "# What other replacements could you imagine?"
   ]
  }
 ],
 "metadata": {
  "kernelspec": {
   "display_name": "Python 3",
   "language": "python",
   "name": "python3"
  },
  "language_info": {
   "codemirror_mode": {
    "name": "ipython",
    "version": 3
   },
   "file_extension": ".py",
   "mimetype": "text/x-python",
   "name": "python",
   "nbconvert_exporter": "python",
   "pygments_lexer": "ipython3",
   "version": "3.6.5"
  }
 },
 "nbformat": 4,
 "nbformat_minor": 2
}
