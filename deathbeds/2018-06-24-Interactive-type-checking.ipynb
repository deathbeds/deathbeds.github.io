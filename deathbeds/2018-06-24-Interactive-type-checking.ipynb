{
 "cells": [
  {
   "cell_type": "markdown",
   "metadata": {},
   "source": [
    "# Interactive type checking\n",
    "\n",
    "In [a previous notebook about type checking](2018-06-20-Interactive-type-checking-with-datashape.ipynb) we successfully explored interactive type checking with numerical data using [`blaze/datashape`](https://datashape.readthedocs.io/).  In the demonstrations:\n",
    "\n",
    "* Too much focus was placed on mapping generic types across input and output types.\n",
    "* There was no consideration of actual Python types.\n",
    "* _It was incomplete._\n",
    "\n",
    "There are increasingly frequent discussions around typing [numpy](https://twitter.com/dabeaz/status/1010112644819439616) [arrays](https://docs.google.com/document/d/1vpMse4c6DrWH5rq2tQSx3qwP_m_0lyn-Ij4WHqQqRHY/mobilebasic#) or the [stub files](https://github.com/numpy/numpy-stubs).\n",
    "\n",
    "In [`dabeaz/typemap`](https://github.com/dabeaz/typemap#faq) there is a comment cautioning:\n",
    "\n",
    "> However, keep in mind that good type annotations should be hard to type.\n",
    "\n",
    "\n",
    "Mypy is a static type checker, it does not know anything about run time events.  There are cool tools like [`dropbox/pyannotate`](http://mypy-lang.blogspot.com/2017/11/dropbox-releases-pyannotate-auto.html) and [`instagram/monkeytype`](https://github.com/Instagram/MonkeyType) that will infer types from run times events.\n",
    "\n",
    "In addition to numpy types, can we __interactively__ validate complex numerical types, json and xml schemas, and other conditional logic?\n",
    "\n",
    "> Static typing is valuable to large applications across many members.  However, for small projects, typing can be a distraction while interactively computing.  Can we have both though?"
   ]
  },
  {
   "cell_type": "code",
   "execution_count": 1,
   "metadata": {},
   "outputs": [],
   "source": [
    "    from datashape import dshape, DataShape, validate, TypeVar\n",
    "    from inspect import getfullargspec\n",
    "    from functools import wraps\n",
    "    from toolz.curried import excepts, flip\n",
    "    from IPython import get\n",
    "    import numpy as np"
   ]
  },
  {
   "cell_type": "markdown",
   "metadata": {},
   "source": [
    "## Interactive typing use cases.\n",
    "\n",
    "Consider two common operations like the `dot` production and `mat`rix`mul`tiplication.  In both of these operations, a user expects an output shape based on the inputs and operations."
   ]
  },
  {
   "cell_type": "code",
   "execution_count": 2,
   "metadata": {},
   "outputs": [],
   "source": [
    "    def dot(\n",
    "        x: dshape(\"N * float64\"),\n",
    "        y: dshape(\"N * float64\"),\n",
    "      ) -> float:\n",
    "        return sum(xᵢ * yᵢ for xᵢ, yᵢ in zip(x, y))"
   ]
  },
  {
   "cell_type": "markdown",
   "metadata": {},
   "source": [
    "### [`datashape`](https://datashape.readthedocs.io/) provides a grammar for expressing complex multi-dimensional numerical types.  `dshape` is used to defined the expected input and output shapes."
   ]
  },
  {
   "cell_type": "code",
   "execution_count": 40,
   "metadata": {},
   "outputs": [],
   "source": [
    "    def matmul(\n",
    "        x: dshape(\"J * K * float64\"),\n",
    "        y: dshape(\"K * L * float64\"),\n",
    "    ) -> dshape(\"J * L * float64\"):\n",
    "        return x @ y"
   ]
  },
  {
   "cell_type": "markdown",
   "metadata": {},
   "source": [
    "# Generics\n",
    "\n",
    "[Generics](https://mypy.readthedocs.io/en/latest/generics.html) are parameterized types, `datashape` expresses them as `TypeVar`.  `TypeVar` are created by `datashape.dshape` which converts the `datashape` text format to a `TypeVar`.  For example, the statement below describes a $[MxN]$ matrix composed of 8-bit integers.\n",
    "\n"
   ]
  },
  {
   "cell_type": "code",
   "execution_count": 4,
   "metadata": {},
   "outputs": [],
   "source": [
    "    sample = dshape(\"M*N*int8\")"
   ]
  },
  {
   "cell_type": "markdown",
   "metadata": {},
   "source": [
    "The `datashape.validate` functions can be used to check the consistency."
   ]
  },
  {
   "cell_type": "code",
   "execution_count": 5,
   "metadata": {},
   "outputs": [],
   "source": [
    "    assert validate(sample, np.ones((10,10), dtype='int8')) is None"
   ]
  },
  {
   "cell_type": "markdown",
   "metadata": {},
   "source": [
    "# Discovery\n",
    "\n",
    "`datashape.discover` discovers the datashape from python and numpy objects.  The discovery system is extensible using [multipledispatch](https://github.com/mrocklin/multipledispatch)\n",
    "methods.  Our discover method needs to be patched for finding string types better."
   ]
  },
  {
   "cell_type": "code",
   "execution_count": 6,
   "metadata": {},
   "outputs": [],
   "source": [
    "    def discover(object): \n",
    "        from datashape import discover\n",
    "        return dshape('string') if isinstance(object, str) else discover(object)"
   ]
  },
  {
   "cell_type": "markdown",
   "metadata": {},
   "source": [
    "# Checking arguments.\n",
    "\n",
    "For a set of annotations, the named arguments values should validate againsted Python or Datashape types."
   ]
  },
  {
   "cell_type": "code",
   "execution_count": 7,
   "metadata": {},
   "outputs": [],
   "source": [
    "    def check_args(annotations, names, args, generic=None):\n",
    "        \"\"\"interactively check annotations.\"\"\"\n",
    "        if generic is None:\n",
    "            generic = {}\n",
    "        for name, value in zip(names, args):\n",
    "            annotation = annotations.get(name)\n",
    "            if isinstance(annotation, type):\n",
    "                if not isinstance(value, annotation):\n",
    "                    raise IncompatibleDataTypes(\n",
    "                        f\"\"\"{name} expects {annotation}, but recieved {type(value)}\"\"\"\n",
    "                    )\n",
    "            elif isinstance(annotation, DataShape):\n",
    "                annotation = update_generic_annotation(generic, annotation, value)\n",
    "                if not validate(annotation, value):\n",
    "                    raise IncompatibleDataTypes(\n",
    "                        f\"\"\"{name} expects {annotation}, but recieved {discover(value)}\"\"\"\n",
    "                    )\n",
    "            elif callable(annotation):\n",
    "                \"\"\"Just for kicks let's put a callable here.\"\"\"\n",
    "                if not annotation(value):\n",
    "                    raise IncompatibleDataTypes(f\"\"\"The {name} value does not satisfy {annotation}.\"\"\")\n",
    "        return generic"
   ]
  },
  {
   "cell_type": "code",
   "execution_count": 8,
   "metadata": {},
   "outputs": [],
   "source": [
    "    class IncompatibleDataTypes(BaseException): ..."
   ]
  },
  {
   "cell_type": "markdown",
   "metadata": {},
   "source": [
    "`update_generic_annotation` will catch the first the shape or type of the first instance it encounters.  Afterwards, that type is mapped to every other instance of the same `TypeVar`"
   ]
  },
  {
   "cell_type": "code",
   "execution_count": 9,
   "metadata": {},
   "outputs": [],
   "source": [
    "    def update_generic_annotation(generic, annotation, value):\n",
    "        from datashape.coretypes import CType\n",
    "        if isinstance(annotation, DataShape):\n",
    "            if annotation.composite:\n",
    "                discovered, new_parameters = discover(value), []\n",
    "                parameters, actuals = annotation.info(), discovered.info()\n",
    "                \n",
    "                # The ctype condition is for standard types 'int', 'string' dshapes.\n",
    "                if actuals[0] is CType:  actuals = actuals[0], [actuals[1][0]]\n",
    "                if discovered[0] is CType: parameters = parameters[0], [parameters[1][0]]\n",
    "                    \n",
    "                for parameter, actual in zip(parameters[1], actuals[1]):\n",
    "                    if isinstance(parameter, TypeVar):\n",
    "                        if parameter not in generic:\n",
    "                            generic[parameter] = actual\n",
    "                        parameter = generic[parameter]\n",
    "                    new_parameters.append(parameter)\n",
    "\n",
    "                if len(parameters) != len(actuals):\n",
    "                    print(parameters, actuals)\n",
    "                    return annotation\n",
    "\n",
    "                annotation = DataShape(*new_parameters)\n",
    "        return annotation"
   ]
  },
  {
   "cell_type": "markdown",
   "metadata": {},
   "source": [
    "> This approach does not allow for global generics to be defined."
   ]
  },
  {
   "cell_type": "markdown",
   "metadata": {},
   "source": [
    "## The `itypecheck` decorator\n",
    "\n",
    "For this example, the functions are tested using a decorator, but this eventually could be closer to the runtime events using the `sys.profile`."
   ]
  },
  {
   "cell_type": "code",
   "execution_count": 41,
   "metadata": {},
   "outputs": [],
   "source": [
    "    def itypecheck(callable):\n",
    "        spec = getfullargspec(callable)\n",
    "\n",
    "        @wraps(callable)\n",
    "        def check(*args, **kwargs):\n",
    "            generic = check_args(spec.annotations, spec.args, args)\n",
    "            result = callable(*args)\n",
    "            check_args(spec.annotations, [\"return\"], [result], generic)\n",
    "            return result\n",
    "\n",
    "        return check\n"
   ]
  },
  {
   "cell_type": "markdown",
   "metadata": {},
   "source": [
    "## Basic interactive Python type checking"
   ]
  },
  {
   "cell_type": "markdown",
   "metadata": {},
   "source": [
    "> Sometimes we will test for incompatible types.  These cases are flagged by `__exception__`"
   ]
  },
  {
   "cell_type": "code",
   "execution_count": 42,
   "metadata": {},
   "outputs": [],
   "source": [
    "    __exception__ = flip(excepts(IncompatibleDataTypes))(print)"
   ]
  },
  {
   "cell_type": "code",
   "execution_count": 44,
   "metadata": {},
   "outputs": [],
   "source": [
    "    @itypecheck\n",
    "    def to_string(x: int) -> str: \n",
    "        return x"
   ]
  },
  {
   "cell_type": "markdown",
   "metadata": {},
   "source": [
    "The type checker catches a failure in this function because it returns the wrong type"
   ]
  },
  {
   "cell_type": "code",
   "execution_count": 45,
   "metadata": {},
   "outputs": [
    {
     "name": "stdout",
     "output_type": "stream",
     "text": [
      "return expects <class 'str'>, but recieved <class 'int'>\n"
     ]
    }
   ],
   "source": [
    "    __exception__(to_string)(20)"
   ]
  },
  {
   "cell_type": "markdown",
   "metadata": {},
   "source": [
    "We can fix this by returning a string."
   ]
  },
  {
   "cell_type": "code",
   "execution_count": 46,
   "metadata": {},
   "outputs": [
    {
     "data": {
      "text/plain": [
       "'20'"
      ]
     },
     "execution_count": 46,
     "metadata": {},
     "output_type": "execute_result"
    }
   ],
   "source": [
    "    @itypecheck\n",
    "    def to_string(x: int) -> str: return f\"{x}\"\n",
    "\n",
    "    to_string(20)"
   ]
  },
  {
   "cell_type": "markdown",
   "metadata": {},
   "source": [
    "The datashape equivalent"
   ]
  },
  {
   "cell_type": "code",
   "execution_count": 47,
   "metadata": {},
   "outputs": [
    {
     "data": {
      "text/plain": [
       "'20'"
      ]
     },
     "execution_count": 47,
     "metadata": {},
     "output_type": "execute_result"
    }
   ],
   "source": [
    "    @itypecheck\n",
    "    def to_string(x: dshape('int')) -> dshape('string'): \n",
    "        return f\"{x}\"\n",
    "\n",
    "    to_string(20)"
   ]
  },
  {
   "cell_type": "markdown",
   "metadata": {},
   "source": [
    "### Simple generic types"
   ]
  },
  {
   "cell_type": "code",
   "execution_count": 48,
   "metadata": {},
   "outputs": [
    {
     "name": "stdout",
     "output_type": "stream",
     "text": [
      "return expects int64, but recieved string\n"
     ]
    }
   ],
   "source": [
    "    @itypecheck\n",
    "    def f_(x: dshape(\"2*V\"))->dshape('V'):\n",
    "        return str(x[0])\n",
    "\n",
    "    __exception__(f_)([10, 20])"
   ]
  },
  {
   "cell_type": "code",
   "execution_count": 49,
   "metadata": {},
   "outputs": [
    {
     "data": {
      "text/plain": [
       "10"
      ]
     },
     "execution_count": 49,
     "metadata": {},
     "output_type": "execute_result"
    }
   ],
   "source": [
    "    @itypecheck\n",
    "    def f(x: dshape(\"2*V\"))->dshape('V'):\n",
    "        return x[0]\n",
    "\n",
    "    def _generic_type_checking(): f([10, 20])"
   ]
  },
  {
   "cell_type": "markdown",
   "metadata": {},
   "source": [
    "## Numerical Examples.\n",
    "\n",
    "The real goal is type check generically sized numerical types.  Our original functions work without type checking."
   ]
  },
  {
   "cell_type": "code",
   "execution_count": 52,
   "metadata": {},
   "outputs": [
    {
     "data": {
      "text/plain": [
       "200"
      ]
     },
     "execution_count": 52,
     "metadata": {},
     "output_type": "execute_result"
    }
   ],
   "source": [
    "    dot(np.array([10]), np.array([20], dtype=int))"
   ]
  },
  {
   "cell_type": "markdown",
   "metadata": {},
   "source": [
    "What happens when the `datashape` interactive type checking is added?"
   ]
  },
  {
   "cell_type": "markdown",
   "metadata": {},
   "source": [
    "### Dot Product"
   ]
  },
  {
   "cell_type": "code",
   "execution_count": 19,
   "metadata": {},
   "outputs": [],
   "source": [
    "    _dot = itypecheck(dot)"
   ]
  },
  {
   "cell_type": "code",
   "execution_count": 53,
   "metadata": {},
   "outputs": [
    {
     "name": "stdout",
     "output_type": "stream",
     "text": [
      "x expects 1 * float64, but recieved 1 * int64\n"
     ]
    }
   ],
   "source": [
    "    __exception__(_dot)(np.array([10]), np.array([20], dtype=int))"
   ]
  },
  {
   "cell_type": "code",
   "execution_count": 54,
   "metadata": {},
   "outputs": [
    {
     "data": {
      "text/plain": [
       "200.0"
      ]
     },
     "execution_count": 54,
     "metadata": {},
     "output_type": "execute_result"
    }
   ],
   "source": [
    "    itypecheck(dot)(np.array([10.]), np.array([20.]))"
   ]
  },
  {
   "cell_type": "markdown",
   "metadata": {},
   "source": [
    "### Matrix Multiplication"
   ]
  },
  {
   "cell_type": "code",
   "execution_count": 55,
   "metadata": {},
   "outputs": [],
   "source": [
    "    _matmul = itypecheck(matmul)"
   ]
  },
  {
   "cell_type": "code",
   "execution_count": 56,
   "metadata": {},
   "outputs": [
    {
     "data": {
      "text/plain": [
       "array([[ 3.,  3.,  3.],\n",
       "       [ 3.,  3.,  3.],\n",
       "       [ 3.,  3.,  3.],\n",
       "       [ 3.,  3.,  3.],\n",
       "       [ 3.,  3.,  3.]])"
      ]
     },
     "execution_count": 56,
     "metadata": {},
     "output_type": "execute_result"
    }
   ],
   "source": [
    "    _matmul(np.ones((5, 3)), np.ones((3, 3)))"
   ]
  },
  {
   "cell_type": "markdown",
   "metadata": {},
   "source": [
    "`itypecheck` will catch mismatched types ..."
   ]
  },
  {
   "cell_type": "code",
   "execution_count": 57,
   "metadata": {},
   "outputs": [
    {
     "name": "stdout",
     "output_type": "stream",
     "text": [
      "y expects 3 * 3 * float64, but recieved 3 * 3 * int64\n"
     ]
    }
   ],
   "source": [
    "    __exception__(_matmul)(np.ones((5, 3)), np.ones((3, 3), dtype='int'))"
   ]
  },
  {
   "cell_type": "markdown",
   "metadata": {},
   "source": [
    "and sizes ..."
   ]
  },
  {
   "cell_type": "code",
   "execution_count": 58,
   "metadata": {},
   "outputs": [
    {
     "name": "stdout",
     "output_type": "stream",
     "text": [
      "y expects 3 * 3 * float64, but recieved 5 * 3 * float64\n"
     ]
    }
   ],
   "source": [
    "    __exception__(_matmul)(np.ones((5, 3)), np.ones((5, 3)))"
   ]
  },
  {
   "cell_type": "markdown",
   "metadata": {},
   "source": [
    "That provide useful tracebacks to the author."
   ]
  },
  {
   "cell_type": "markdown",
   "metadata": {},
   "source": [
    "### Did you know numpy did this?"
   ]
  },
  {
   "cell_type": "markdown",
   "metadata": {},
   "source": [
    "Consider the interesting case of numpy automatically converting int32 values into int64 in the function above."
   ]
  },
  {
   "cell_type": "code",
   "execution_count": 59,
   "metadata": {},
   "outputs": [],
   "source": [
    "    @itypecheck\n",
    "    def dot_multiply(x: dshape('M*T'), y: dshape('M*T')) -> dshape('M*int'):\n",
    "        return np.multiply(x, y)"
   ]
  },
  {
   "cell_type": "code",
   "execution_count": 61,
   "metadata": {},
   "outputs": [
    {
     "name": "stdout",
     "output_type": "stream",
     "text": [
      "return expects 10 * int32, but recieved 10 * int64\n"
     ]
    }
   ],
   "source": [
    "    __exception__(dot_multiply)(np.arange(10), np.arange(10))"
   ]
  },
  {
   "cell_type": "markdown",
   "metadata": {},
   "source": [
    "### Answering a [twitter question](https://twitter.com/dabeaz/status/1010112644819439616)\n",
    "\n",
    "> Suppose I write a function:\n",
    "\n",
    ">     def vec3(x:float, y:float, z:float):\n",
    ">          return numpy.array((x,y,z))\n",
    "\n",
    "> I now use this to make \"instances\" of 3D vectors, which get passed around and used throughout my code.\n",
    "> How would I type hint all of that?"
   ]
  },
  {
   "cell_type": "code",
   "execution_count": 63,
   "metadata": {},
   "outputs": [],
   "source": [
    "@itypecheck\n",
    "def vec3(x:float, y:float, z:float)->dshape('3*float64'):\n",
    "     return np.array((x,y,z))"
   ]
  },
  {
   "cell_type": "markdown",
   "metadata": {},
   "source": [
    "* This works"
   ]
  },
  {
   "cell_type": "code",
   "execution_count": 64,
   "metadata": {},
   "outputs": [
    {
     "data": {
      "text/plain": [
       "array([ 1.,  2.,  3.])"
      ]
     },
     "execution_count": 64,
     "metadata": {},
     "output_type": "execute_result"
    }
   ],
   "source": [
    "    vec3(1., 2., 3.)"
   ]
  },
  {
   "cell_type": "markdown",
   "metadata": {},
   "source": [
    "* This doesn't work because the input type is wrong."
   ]
  },
  {
   "cell_type": "code",
   "execution_count": 65,
   "metadata": {},
   "outputs": [
    {
     "name": "stdout",
     "output_type": "stream",
     "text": [
      "z expects <class 'float'>, but recieved <class 'int'>\n"
     ]
    }
   ],
   "source": [
    "    __exception__(vec3)(1., 2., 3)"
   ]
  },
  {
   "cell_type": "markdown",
   "metadata": {},
   "source": [
    "Clearly some magical things happen in numerical computing and type checking could catch some unexpected behaviors."
   ]
  },
  {
   "cell_type": "markdown",
   "metadata": {},
   "source": [
    "## Discussions\n",
    "\n",
    "* What is the best way to overload the types?\n",
    "* Interactive type checking (type checking with a run time) could check other conditions like json schema, [marshmallow](https://github.com/marshmallow-code/marshmallow), traitlets, symmetry.\n",
    "* Should data output payloads be checked?  What is matplotlib inline should not be on?\n",
    "* How can parity be acheived with static checkers ([`python/mypy`](https://github.com/python/mypy), [`facebook/pyre-check`](https://pyre-check.org/))to use subsets of interactive type checking.\n",
    "* Type checking numpy supersets like astropy and dataframes.\n",
    "* Is there a more pythonic API to representing datashape?  Would this allow globally scoped generics.  An API closer to what is suggested in [Ideas for array shape typing in Python](https://docs.google.com/document/d/1vpMse4c6DrWH5rq2tQSx3qwP_m_0lyn-Ij4WHqQqRHY/mobilebasic#)\n",
    "* Can this be part of the profiler automatically?"
   ]
  },
  {
   "cell_type": "code",
   "execution_count": 1,
   "metadata": {},
   "outputs": [
    {
     "data": {
      "text/html": [
       "<div id=\"disqus_thread\"></div>\n",
       "<script type=\"text/javascript\">\n",
       "    /* * * CONFIGURATION VARIABLES * * */\n",
       "    // Required: on line below, replace text in quotes with your forum shortname\n",
       "    var disqus_shortname = 'tonyfast';\n",
       "\n",
       "    /* * * DON'T EDIT BELOW THIS LINE * * */\n",
       "    (function() {\n",
       "        var dsq = document.createElement('script'); dsq.type = 'text/javascript'; dsq.async = true;\n",
       "        dsq.src = '//' + disqus_shortname + '.disqus.com/embed.js';\n",
       "        (document.getElementsByTagName('head')[0] || document.getElementsByTagName('body')[0]).appendChild(dsq);\n",
       "    })();\n",
       "</script>\n",
       "<noscript>Please enable JavaScript to view the <a href=\"https://disqus.com/?ref_noscript\" rel=\"nofollow\">comments powered by Disqus.</a></noscript>"
      ],
      "text/plain": [
       "<IPython.core.display.HTML object>"
      ]
     },
     "metadata": {},
     "output_type": "display_data"
    }
   ],
   "source": [
    "    from . import disqus"
   ]
  },
  {
   "cell_type": "code",
   "execution_count": null,
   "metadata": {},
   "outputs": [],
   "source": []
  }
 ],
 "metadata": {
  "kernelspec": {
   "display_name": "Python 3",
   "language": "python",
   "name": "python3"
  },
  "language_info": {
   "codemirror_mode": {
    "name": "ipython",
    "version": 3
   },
   "file_extension": ".py",
   "mimetype": "text/x-python",
   "name": "python",
   "nbconvert_exporter": "python",
   "pygments_lexer": "ipython3",
   "version": "3.6.5"
  }
 },
 "nbformat": 4,
 "nbformat_minor": 2
}
