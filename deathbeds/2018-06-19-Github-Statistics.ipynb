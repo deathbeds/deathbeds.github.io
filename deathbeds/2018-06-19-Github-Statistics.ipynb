{
 "cells": [
  {
   "cell_type": "markdown",
   "metadata": {},
   "source": [
    "# Github statistics API\n",
    "\n",
    "    >>> import __Github_Statistics as ghstats\n",
    "    >>> assert isinstance(ghstats.main('bokeh/bokeh'), DataFrame)"
   ]
  },
  {
   "cell_type": "markdown",
   "metadata": {},
   "source": [
    "## Waiting for statistics to compute\n",
    "\n",
    "http://developer.github.com/v3/repos/statistics/"
   ]
  },
  {
   "cell_type": "code",
   "execution_count": 1,
   "metadata": {},
   "outputs": [],
   "source": [
    "    from pandas import DataFrame, Series, to_datetime, concat\n",
    "    import requests, shelve, time\n",
    "    from matplotlib.pyplot import gca, gcf"
   ]
  },
  {
   "cell_type": "markdown",
   "metadata": {},
   "source": [
    "## The 202 request"
   ]
  },
  {
   "cell_type": "code",
   "execution_count": 2,
   "metadata": {},
   "outputs": [],
   "source": [
    "    def get_202(url: str) -> object:\n",
    "        \"\"\"Requests a url that may need to compute a result. Cache the results on disk in shelve.\n",
    "\n",
    "        > get_202(\"https://api.github.com/repos/pandas-dev/pandas/stats/commit_activity\")\n",
    "        > get_202(\"https://api.github.com/repos/pandas-dev/pandas/stats/code_frequency\")\n",
    "        \"\"\"\n",
    "        with shelve.open('activity') as db:\n",
    "            if url not in db:\n",
    "                response = requests.get(url)\n",
    "                if response.status_code == 202:\n",
    "                    return time.sleep(2) or get_202(url)\n",
    "\n",
    "                db[url] = response.json()\n",
    "\n",
    "            return db[url]"
   ]
  },
  {
   "cell_type": "code",
   "execution_count": 3,
   "metadata": {},
   "outputs": [
    {
     "data": {
      "text/html": [
       "<style>\n",
       ".jp-Notebook {\n",
       "    display: grid;\n",
       "}\n",
       ".jp-MarkdownCell.jp-mod-selected {\n",
       "    border-style: solid;\n",
       "    border-width: 18px 3px 18px 3px;\n",
       "}\n",
       "\n",
       ".jp-mod-selected .jp-outputArea {\n",
       "    border-style: solid;\n",
       "    border-width: 6px 6px 6px 6px;\n",
       "}\n",
       "\n",
       ".jp-CodeCell.jp-mod-selected {\n",
       "    border-style: solid;\n",
       "    border-width: 3px 18px 3px 18px;\n",
       "}\n",
       "\n",
       ".jp-Cell {\n",
       "    display: inline-grid;\n",
       "    grid-template-columns: 10% 40% 40% 10%;\n",
       "    grid-template-rows: auto auto;\n",
       "}\n",
       "\n",
       ".jp-MarkdownCell .jp-Cell-inputWrapper {\n",
       "    grid-column-start: 1;\n",
       "    grid-column-end: 4;\n",
       "    grid-row-start: 1;\n",
       "    grid-row-end: 1;\n",
       "}\n",
       "\n",
       ".jp-CodeCell.jp-mod-selected .jp-Cell-inputWrapper {\n",
       "    grid-column-start: 2;\n",
       "    grid-column-end: 4;\n",
       "    grid-row-start: 1;\n",
       "    grid-row-end: 1;\n",
       "}\n",
       "\n",
       ".jp-CodeCell.jp-mod-selected .jp-Cell-outputWrapper {\n",
       "    grid-column-start: 1;\n",
       "    grid-column-end: 5;\n",
       "    grid-row-start: 2;\n",
       "    grid-row-end: 2;\n",
       "}\n",
       "\n",
       ".jp-CodeCell .jp-Cell-inputWrapper {\n",
       "    grid-column-start: 2;\n",
       "    grid-column-end: 5;\n",
       "    grid-row-start: 1;\n",
       "    grid-row-end: 1;\n",
       "}\n",
       ".jp-CodeCell .jp-Cell-outputWrapper {\n",
       "    grid-column-start: 2;\n",
       "    grid-column-end: 5;\n",
       "    grid-row-start: 2;\n",
       "    grid-row-end: 2;\n",
       "}\n",
       "</style>"
      ],
      "text/plain": [
       "<IPython.core.display.HTML object>"
      ]
     },
     "metadata": {},
     "output_type": "display_data"
    }
   ],
   "source": [
    "    import _developer"
   ]
  },
  {
   "cell_type": "markdown",
   "metadata": {},
   "source": [
    "Interactively develop this project using pandas as an example."
   ]
  },
  {
   "cell_type": "code",
   "execution_count": 4,
   "metadata": {},
   "outputs": [
    {
     "data": {
      "text/plain": [
       "'pandas-dev/pandas'"
      ]
     },
     "execution_count": 4,
     "metadata": {},
     "output_type": "execute_result"
    }
   ],
   "source": [
    "    project='pandas-dev/pandas'; project"
   ]
  },
  {
   "cell_type": "markdown",
   "metadata": {},
   "source": [
    "# Commit activity."
   ]
  },
  {
   "cell_type": "code",
   "execution_count": 5,
   "metadata": {},
   "outputs": [],
   "source": [
    "    DAYS = \"Sun Mon Tues Wed Thu Fri Sat\".split()"
   ]
  },
  {
   "cell_type": "markdown",
   "metadata": {},
   "source": [
    "Tidy the daily commit activity."
   ]
  },
  {
   "cell_type": "code",
   "execution_count": 6,
   "metadata": {},
   "outputs": [],
   "source": [
    "    def format_weekly_commits(value):\n",
    "        return DataFrame(value).pipe(\n",
    "            lambda df: DataFrame(\n",
    "                df.days.apply(Series).values, columns=DAYS, index=to_datetime(df.week, unit='s')))"
   ]
  },
  {
   "cell_type": "code",
   "execution_count": 7,
   "metadata": {},
   "outputs": [],
   "source": [
    "    def get_weekly_commits(project=project):\n",
    "        return format_weekly_commits(\n",
    "            get_202(f'https://api.github.com/repos/{project}/stats/commit_activity'))"
   ]
  },
  {
   "cell_type": "markdown",
   "metadata": {},
   "source": [
    "## Code Frequency"
   ]
  },
  {
   "cell_type": "markdown",
   "metadata": {},
   "source": [
    "Code frequency is the number of weekly additions and subtractions of code to a projects. "
   ]
  },
  {
   "cell_type": "code",
   "execution_count": 8,
   "metadata": {},
   "outputs": [],
   "source": [
    "    def format_weekly_frequency(value):\n",
    "        df = DataFrame(value, columns=\"week + -\".split())\n",
    "        df['week'] = to_datetime(df['week'], unit='s')\n",
    "        return df.set_index('week').set_index('+ -'.split(), append=True)"
   ]
  },
  {
   "cell_type": "code",
   "execution_count": 9,
   "metadata": {},
   "outputs": [],
   "source": [
    "    def get_weekly_frequency(project=project):\n",
    "        return format_weekly_frequency(\n",
    "            get_202(f'https://api.github.com/repos/{project}/stats/code_frequency'))"
   ]
  },
  {
   "cell_type": "markdown",
   "metadata": {},
   "source": [
    "### Combine the commits with "
   ]
  },
  {
   "cell_type": "code",
   "execution_count": 10,
   "metadata": {},
   "outputs": [],
   "source": [
    "    def get_one(project=project):\n",
    "        df = get_weekly_commits(project)\n",
    "        return df.join(get_weekly_frequency(project))"
   ]
  },
  {
   "cell_type": "markdown",
   "metadata": {},
   "source": [
    "# The _main_ weekly dataframe\n",
    "\n",
    "\n",
    "\n",
    "    >>> main('pandas-dev/pandas')"
   ]
  },
  {
   "cell_type": "code",
   "execution_count": 11,
   "metadata": {},
   "outputs": [],
   "source": [
    "    def main(*projects):\n",
    "        \"\"\"Get the weekly commit\"\"\"\n",
    "        return concat({object: get_one(object)\n",
    "                       for object in projects})"
   ]
  },
  {
   "cell_type": "code",
   "execution_count": 12,
   "metadata": {},
   "outputs": [],
   "source": [
    "    if __name__ == '__main__':\n",
    "        %matplotlib inline\n",
    "        df = main(project, 'bokeh/bokeh')\n",
    "        df = df.apply(Series.describe, axis=1)\n",
    "        "
   ]
  },
  {
   "cell_type": "markdown",
   "metadata": {},
   "source": [
    "Visualize the code additions and subtractions over the past ~1year."
   ]
  },
  {
   "cell_type": "code",
   "execution_count": 13,
   "metadata": {},
   "outputs": [
    {
     "data": {
      "image/png": "[encoded data removed]",
      "text/plain": [
       "<matplotlib.figure.Figure at 0x11d5ecb00>"
      ]
     },
     "metadata": {},
     "output_type": "display_data"
    },
    {
     "data": {
      "image/png": "[encoded data removed]",
      "text/plain": [
       "<matplotlib.figure.Figure at 0x11f65ba90>"
      ]
     },
     "metadata": {},
     "output_type": "display_data"
    }
   ],
   "source": [
    "    if __name__ == '__main__':\n",
    "        for project in df.index.get_level_values(0).unique():\n",
    "            df.loc[project].index.to_frame()['+ -'.split()].abs().plot()\n",
    "            gca().set_title(project)"
   ]
  },
  {
   "cell_type": "markdown",
   "metadata": {},
   "source": [
    "### [Developer] Test the module."
   ]
  },
  {
   "cell_type": "code",
   "execution_count": 14,
   "metadata": {},
   "outputs": [
    {
     "name": "stdout",
     "output_type": "stream",
     "text": [
      "🤑🤑🤑\n"
     ]
    }
   ],
   "source": [
    "    if __name__ == '__main__':\n",
    "        __import__('doctest').testmod(__import__('__Github_Statistics')), print(\"🤑🤑🤑\")"
   ]
  }
 ],
 "metadata": {
  "kernelspec": {
   "display_name": "p6",
   "language": "python",
   "name": "other-env"
  },
  "language_info": {
   "codemirror_mode": {
    "name": "ipython",
    "version": 3
   },
   "file_extension": ".py",
   "mimetype": "text/x-python",
   "name": "python",
   "nbconvert_exporter": "python",
   "pygments_lexer": "ipython3",
   "version": "3.6.3"
  }
 },
 "nbformat": 4,
 "nbformat_minor": 2
}
