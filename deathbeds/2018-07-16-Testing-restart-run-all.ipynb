{
 "cells": [
  {
   "cell_type": "markdown",
   "metadata": {},
   "source": [
    "# Testing the __Restart & Run All__-ability of Notebooks\n",
    "\n",
    "We should consider two conditions for notebooks:\n",
    "\n",
    "1. Those that have formal tests.        \n",
    "2. Those that don't.\n",
    "\n",
    " If no errors are raised during test collection then we know the document will __restart and run all__. `pytest` returns a `SystemError` code of `5` if no tests are found. _It is jarring even though there was no actual failure._\n",
    "\n",
    "This notebook will use a `pytest` plugin discussed in [Call \"--collect-only\" programmatically](https://github.com/pytest-dev/pytest/issues/2039).  Our plugin will not run `pytest` if no tests are found.\n",
    "\n",
    "## Usage \n",
    "\n",
    "This notebook exports a CLI to \"__smart test__\" notebooks.\n",
    "\n",
    "    ipython -m deathbeds.2018-07-16-Testing-restart-run-all 2018-07-16-Testing-restart-run-all.ipynb\n",
    "    \n",
    "[`2018-07-15-Pytest-watchmedo`](2018-07-15-Pytest-watchmedo)  creates a file watcher from this post.    "
   ]
  },
  {
   "cell_type": "code",
   "execution_count": 1,
   "metadata": {},
   "outputs": [],
   "source": [
    "    import pytest, sys\n",
    "    from dataclasses import dataclass, field"
   ]
  },
  {
   "cell_type": "markdown",
   "metadata": {},
   "source": [
    "## A plugin class for pytest \n",
    "\n",
    "... to store found tests on an object.  This is based of an issue on [`pytest-dev`](https://github.com/pytest-dev/pytest/issues/2039)"
   ]
  },
  {
   "cell_type": "code",
   "execution_count": 2,
   "metadata": {},
   "outputs": [],
   "source": [
    "    @dataclass(unsafe_hash=True)\n",
    "    class TestCollection:\n",
    "        tests: tuple = field(default_factory=tuple)\n",
    "        def pytest_collection_modifyitems(self, items):\n",
    "            for item in items:  self.tests += item.nodeid,"
   ]
  },
  {
   "cell_type": "markdown",
   "metadata": {},
   "source": [
    "`collect_tests` will allow us to measure the numbers of tests that are found."
   ]
  },
  {
   "cell_type": "code",
   "execution_count": 3,
   "metadata": {},
   "outputs": [],
   "source": [
    "    def collect_tests(filename):\n",
    "        object = TestCollection()\n",
    "        pytest.main(['--collect-only', filename], plugins=[object])\n",
    "        return object.tests"
   ]
  },
  {
   "cell_type": "code",
   "execution_count": 5,
   "metadata": {},
   "outputs": [],
   "source": [
    "    def test_collection(): \n",
    "        __file__ = globals().get('__file__', \"2018-07-16-Smart-testing-pytest-nbconvert.ipynb\")\n",
    "        collect_tests(__file__)"
   ]
  },
  {
   "cell_type": "markdown",
   "metadata": {},
   "source": [
    "`smart_test` will make will not run `pytest` if no tests were collected.\n",
    "\n",
    "    >>> with __import__('IPython').utils.capture.capture_output():\n",
    "    ...     assert not smart_test('2018-07-16-Testing-restart-run-all.ipynb')"
   ]
  },
  {
   "cell_type": "code",
   "execution_count": 6,
   "metadata": {},
   "outputs": [],
   "source": [
    "    def smart_test(filename):\n",
    "        collect_tests(filename) and pytest.main([filename])"
   ]
  },
  {
   "cell_type": "markdown",
   "metadata": {},
   "source": [
    "## The `__main__` context\n",
    "\n",
    "The __main__ context is used as a CLI or doctest depending on the caller."
   ]
  },
  {
   "cell_type": "code",
   "execution_count": 7,
   "metadata": {},
   "outputs": [
    {
     "name": "stdout",
     "output_type": "stream",
     "text": [
      "TestResults(failed=0, attempted=1)\n"
     ]
    }
   ],
   "source": [
    "    def _restart_and_run_all_ability():\n",
    "        if sys.argv[0].endswith(__file__): smart_test(sys.argv[1])\n",
    "        else:\n",
    "            from deathbeds import _018_07_16_Testing_restart_run_all\n",
    "            print(__import__('doctest').testmod(_018_07_16_Testing_restart_run_all))"
   ]
  }
 ],
 "metadata": {
  "kernelspec": {
   "display_name": "Python 3",
   "language": "python",
   "name": "python3"
  },
  "language_info": {
   "codemirror_mode": {
    "name": "ipython",
    "version": 3
   },
   "file_extension": ".py",
   "mimetype": "text/x-python",
   "name": "python",
   "nbconvert_exporter": "python",
   "pygments_lexer": "ipython3",
   "version": "3.6.5"
  }
 },
 "nbformat": 4,
 "nbformat_minor": 2
}
