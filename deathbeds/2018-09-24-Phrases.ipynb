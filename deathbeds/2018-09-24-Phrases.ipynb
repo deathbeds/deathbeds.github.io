{
 "cells": [
  {
   "cell_type": "markdown",
   "metadata": {},
   "source": [
    "http://blog.plataformatec.com.br/2011/03/cognitive-load-and-the-importance-of-naming/"
   ]
  },
  {
   "cell_type": "markdown",
   "metadata": {},
   "source": [
    "A tendency of science is to describe increasingly complex ideas in more compact terms.  Eventually devolving into an alphabet soup of acronyms where creativity meets its darkest and lowest tendencies.\n",
    "\n",
    "But, naming is hard right?  Or rather naming is unnatural.\n",
    "\n",
    "On a computer, in the throws of creativity, the programming environment should elevate this activity.  Translating `phrases` into valid code may stymie or distract from the creative process.\n",
    "\n",
    "One way to reduce cognitive load on naming is name things less.  _Personally, I have found that functional programming significantly reduces naming._\n",
    "\n",
    "Another to name things is easier is to make the translation of natural language into names easier.  The naming system much naturally evolve with the work.\n",
    "\n",
    "For this reason, this blog post considers `Phrase`s.  `Phrase`s are modules created from strings meant to manage the state of a `Phrase`.  `Phrase`s treat natural language statements as python objects.  They have str, repr, and markdown displays.  Representing natural language as a unified code object will allow its changes to be captured in the revision of code over time."
   ]
  },
  {
   "cell_type": "code",
   "execution_count": 92,
   "metadata": {},
   "outputs": [],
   "source": [
    "%reload_ext deathbeds.__Custom_display_formatting\n",
    "import IPython, abc, types, sys, importlib.machinery, types, abc, string, jinja2, stringcase\n",
    "ip = get_ipython()"
   ]
  },
  {
   "cell_type": "markdown",
   "metadata": {},
   "source": [
    "A `Phrase` is a `types.ModuleType` the represents the state of a string typically expressed in natural language.  A `Phrase` has no inheritence, but may maintain state. \n",
    "\n",
    "* The phrase is converted to a sentence.\n",
    "* Installed as a `sys.modules` key.\n",
    "* Installed into __main__ so that the phrases appear with tab completion."
   ]
  },
  {
   "cell_type": "code",
   "execution_count": 121,
   "metadata": {},
   "outputs": [],
   "source": [
    "class Phrase(types.ModuleType):    \n",
    "    def __init__(self, name, doc=None, **dict):\n",
    "        super().__init__(to_sentence(name), doc)\n",
    "        # Assign the phrase to main so it recieves valid code prediction.\n",
    "        setattr(__import__('__main__'), self.__name__, self)\n",
    "        self.__dict__.update(dict)  "
   ]
  },
  {
   "cell_type": "markdown",
   "metadata": {},
   "source": [
    "`types.ModuleType` was chosen because it provides an isolated namespace and the import system is a canonical way to access `Phrase` strings."
   ]
  },
  {
   "cell_type": "markdown",
   "metadata": {},
   "source": [
    "A `Phrase` has a custom `__call__` method that is syntactic sugar for updating the state of a module."
   ]
  },
  {
   "cell_type": "code",
   "execution_count": 122,
   "metadata": {},
   "outputs": [],
   "source": [
    "def __call__(self, doc=None, **objects):         \n",
    "    \"\"\"Set the docstring or update the module attributes\n",
    "    >>> Phrase()\"\"\"\n",
    "    doc and objects.update(__doc__=doc)\n",
    "    return self.__dict__.update(objects) or self\n",
    "Phrase.__call__ = __call__"
   ]
  },
  {
   "cell_type": "markdown",
   "metadata": {},
   "source": [
    "For extra flare, lets use the rshift operator to update the docstring."
   ]
  },
  {
   "cell_type": "code",
   "execution_count": 144,
   "metadata": {},
   "outputs": [],
   "source": [
    "def __rshift__(self, object):\n",
    "    if isinstance(object, dict): self.__dict__.update(object)\n",
    "    if isinstance(object, str): self.__doc__ = object\n",
    "    return self\n",
    "\n",
    "Phrase.__rshift__ = __rshift__"
   ]
  },
  {
   "cell_type": "markdown",
   "metadata": {},
   "source": [
    "The `Phrase.__name__` is the string representation which is generally a natural language string."
   ]
  },
  {
   "cell_type": "code",
   "execution_count": 145,
   "metadata": {},
   "outputs": [],
   "source": [
    "Phrase.__str__ = lambda self: self.__name__"
   ]
  },
  {
   "cell_type": "markdown",
   "metadata": {},
   "source": [
    "The `repr` provides a deeper representation and fallbacks to `Phrase.__name__`."
   ]
  },
  {
   "cell_type": "code",
   "execution_count": 146,
   "metadata": {},
   "outputs": [],
   "source": [
    "Phrase.__repr__ = lambda self: self.__doc__ or self.__name__"
   ]
  },
  {
   "cell_type": "markdown",
   "metadata": {},
   "source": [
    "Phrase.__doc__ and Phrase.__name__ supply an interactive markdown repr for easy reuse."
   ]
  },
  {
   "cell_type": "code",
   "execution_count": 147,
   "metadata": {},
   "outputs": [],
   "source": [
    "Phrase._repr_markdown_ = lambda self: self.__doc__ or f\"__{str(self)}__\""
   ]
  },
  {
   "cell_type": "markdown",
   "metadata": {},
   "source": [
    "There should be a means to combine `Phrases`.  _At this point, Phrases need to get used._"
   ]
  },
  {
   "cell_type": "code",
   "execution_count": 152,
   "metadata": {},
   "outputs": [],
   "source": [
    "Phrase.__and__ = lambda self, object: Phrases((self, object))"
   ]
  },
  {
   "cell_type": "code",
   "execution_count": 153,
   "metadata": {},
   "outputs": [],
   "source": [
    "class Phrases(__import__('collections').UserList):\n",
    "    def __str__(self): return ''.join(\n",
    "        ('' if data is self[0] else \n",
    "         ', ' if data is not self[-1] else\n",
    "         ' and ') + str(data) for data in self)\n",
    "    \n",
    "    @property\n",
    "    def __doc__(self): return '\\n\\n---\\n\\n'.join(object._repr_markdown_() for object in self)\n",
    "\n",
    "    _repr_markdown_ = Phrase._repr_markdown_\n",
    "    "
   ]
  },
  {
   "cell_type": "code",
   "execution_count": 154,
   "metadata": {},
   "outputs": [],
   "source": [
    "def to_sentence(string):\n",
    "    lower, string = string[0].islower(), stringcase.sentencecase(string)\n",
    "    return [str.upper, str.lower][lower](string[0]) + string[1:]"
   ]
  },
  {
   "cell_type": "markdown",
   "metadata": {},
   "source": [
    "## Importing phrases.\n",
    "\n",
    "`Phrases` are __objects with views defined by a string__.  I ❤️ hacking the import system.  For `Phrase`s  we will rely on the `__import__` function to load phrases as strings."
   ]
  },
  {
   "cell_type": "markdown",
   "metadata": {},
   "source": [
    "`PhrasesBase` is a stateless contextmanager to \"discover\" a `importlib.machinery.ModuleSpec` the will become a `Phrase` module."
   ]
  },
  {
   "cell_type": "code",
   "execution_count": 37,
   "metadata": {},
   "outputs": [],
   "source": [
    "class PhrasesBase(abc.ABCMeta):\n",
    "    def __enter__(cls): sys.meta_path.append(phrases)\n",
    "    def __exit__(cls, *x): sys.meta_path = [x for x in sys.meta_path if not issubclass(x, phrases)]\n",
    "    def find_spec(cls, name, *args, **kwargs): return importlib.machinery.ModuleSpec(name, phrases)"
   ]
  },
  {
   "cell_type": "markdown",
   "metadata": {},
   "source": [
    "`phrases` is a contextmanager to `__import__` the `Phrase`."
   ]
  },
  {
   "cell_type": "code",
   "execution_count": 157,
   "metadata": {},
   "outputs": [],
   "source": [
    "class phrases(metaclass=PhrasesBase):\n",
    "    create_module = staticmethod(lambda spec: Phrase(spec.name, globals=False))\n",
    "    exec_module = staticmethod(lambda module: module)\n",
    "    is_package = staticmethod(lambda _: True)"
   ]
  },
  {
   "cell_type": "code",
   "execution_count": 158,
   "metadata": {},
   "outputs": [],
   "source": [
    "def test_importing_with_ipython_syntax():\n",
    "    with phrases:\n",
    "        ;__import__ This experiment\n",
    "        ;str was\n",
    "        ;__import__ a success"
   ]
  },
  {
   "cell_type": "markdown",
   "metadata": {},
   "source": [
    "Templating should be added."
   ]
  },
  {
   "cell_type": "code",
   "execution_count": 15,
   "metadata": {},
   "outputs": [
    {
     "data": {
      "text/plain": [
       "{'{{}}': jinja2.environment.Template,\n",
       " '{}': <method 'format' of 'str' objects>,\n",
       " '%': <slot wrapper '__mod__' of 'str' objects>,\n",
       " '$': string.Template}"
      ]
     },
     "execution_count": 15,
     "metadata": {},
     "output_type": "execute_result"
    }
   ],
   "source": [
    "{\n",
    "    '{{}}': jinja2.Template,\n",
    "    '{}': str.format,\n",
    "    '%': str.__mod__,\n",
    "    '$': string.Template\n",
    "}"
   ]
  },
  {
   "cell_type": "code",
   "execution_count": null,
   "metadata": {},
   "outputs": [],
   "source": []
  }
 ],
 "metadata": {
  "kernelspec": {
   "display_name": "p6",
   "language": "python",
   "name": "other-env"
  },
  "language_info": {
   "codemirror_mode": {
    "name": "ipython",
    "version": 3
   },
   "file_extension": ".py",
   "mimetype": "text/x-python",
   "name": "python",
   "nbconvert_exporter": "python",
   "pygments_lexer": "ipython3",
   "version": "3.6.3"
  }
 },
 "nbformat": 4,
 "nbformat_minor": 2
}
