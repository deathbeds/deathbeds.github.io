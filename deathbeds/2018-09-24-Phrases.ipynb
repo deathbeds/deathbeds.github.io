{
 "cells": [
  {
   "cell_type": "markdown",
   "metadata": {},
   "source": [
    "http://blog.plataformatec.com.br/2011/03/cognitive-load-and-the-importance-of-naming/"
   ]
  },
  {
   "cell_type": "markdown",
   "metadata": {},
   "source": [
    "A tendency of science is to describe increasingly complex ideas in more compact terms.  Eventually devolving into an alphabet soup of acronyms where creativity meets its darkest and lowest tendencies.\n",
    "\n",
    "But, naming is hard right?  Or rather naming is unnatural.\n",
    "\n",
    "On a computer, in the throws of creativity, the programming environment should elevate this activity.  Translating `phrases` into valid code may stymie or distract from the creative process.\n",
    "\n",
    "One way to reduce cognitive load on naming is name things less.  _Personally, I have found that functional programming significantly reduces naming._\n",
    "\n",
    "Another to name things is easier is to make the translation of natural language into names easier.  The naming system much naturally evolve with the work.\n",
    "\n",
    "For this reason, this blog post considers `Phrase`s.  `Phrase`s are modules created from strings meant to manage the state of a `Phrase`.  `Phrase`s treat natural language statements as python objects.  They have str, repr, and markdown displays.  Representing natural language as a unified code object will allow its changes to be captured in the revision of code over time."
   ]
  },
  {
   "cell_type": "code",
   "execution_count": 92,
   "metadata": {},
   "outputs": [],
   "source": [
    "%reload_ext deathbeds.__Custom_display_formatting\n",
    "import IPython, abc, types, sys, importlib.machinery, types, abc, string, jinja2, stringcase\n",
    "ip = get_ipython()"
   ]
  },
  {
   "cell_type": "markdown",
   "metadata": {},
   "source": [
    "Use modules because they include a namespace and they can be references as strings."
   ]
  },
  {
   "cell_type": "markdown",
   "metadata": {},
   "source": [
    "A phrase a has a string representation + multi rich representations.\n",
    "\n",
    "The string representation maybe placed in other strings\n",
    "\n",
    "The display may be placed in other displays\n",
    "\n",
    "strings may be displays"
   ]
  },
  {
   "cell_type": "markdown",
   "metadata": {},
   "source": [
    "A `Phrase` is a sourceless module that create a name space for a collection of words.  These words are natural language phrases accessed by the import system.  A `Phrase` has no inheritence, but may maintain state. \n",
    "\n",
    "The `__doc__` is the default repr"
   ]
  },
  {
   "cell_type": "markdown",
   "metadata": {},
   "source": [
    "String make it eaasier to create unique names."
   ]
  },
  {
   "cell_type": "markdown",
   "metadata": {},
   "source": [
    "A `Phrase` is a `types.ModuleType` the represents the state of a string typically expressed in natural language.\n",
    "\n",
    "* The phrase is converted to a sentence.\n",
    "* Installed as a `sys.modules` key.\n",
    "* Installed into __main__ so that the phrases appear with tab completion."
   ]
  },
  {
   "cell_type": "code",
   "execution_count": 96,
   "metadata": {},
   "outputs": [],
   "source": [
    "class Phrase(types.ModuleType):    \n",
    "    def __init__(self, name, doc=None, *, globals=True, **dict):\n",
    "        super().__init__(to_sentence(name), doc)\n",
    "        # Make the module importable if the __import__ system isn't handling this.\n",
    "        if globals: sys.modules[self.__name__] = self\n",
    "        # Assign the phrase to main so it recieves valid code prediction.\n",
    "        setattr(__import__('__main__'), self.__name__, self)\n",
    "        self.__dict__.update(dict)  "
   ]
  },
  {
   "cell_type": "markdown",
   "metadata": {},
   "source": [
    "A `Phrase` has a custom `__call__` method that is syntactic sugar for updating the state of a module."
   ]
  },
  {
   "cell_type": "code",
   "execution_count": 97,
   "metadata": {},
   "outputs": [],
   "source": [
    "def __call__(self, doc=None, **objects):         \n",
    "    \"\"\"Set the docstring or update the module attributes\"\"\"\n",
    "    doc and objects.update(__doc__=doc)\n",
    "    return self.__dict__.update(objects) or self\n",
    "Phrase.__call__ = __call__"
   ]
  },
  {
   "cell_type": "code",
   "execution_count": 80,
   "metadata": {},
   "outputs": [],
   "source": [
    "Phrase.__str__ = lambda self: self.__name__"
   ]
  },
  {
   "cell_type": "code",
   "execution_count": 81,
   "metadata": {},
   "outputs": [],
   "source": [
    "Phrase.__repr__ = lambda self: self.__doc__ or self.__name__"
   ]
  },
  {
   "cell_type": "code",
   "execution_count": 78,
   "metadata": {},
   "outputs": [],
   "source": [
    "Phrase._repr_markdown_ = lambda self: self.__doc__ or f\"__{str(self)}__\""
   ]
  },
  {
   "cell_type": "code",
   "execution_count": 36,
   "metadata": {},
   "outputs": [],
   "source": [
    "def to_sentence(string):\n",
    "    lower, string = string[0].islower(), stringcase.sentencecase(string)\n",
    "    return [str.upper, str.lower][lower](string[0]) + string[1:]"
   ]
  },
  {
   "cell_type": "code",
   "execution_count": 37,
   "metadata": {},
   "outputs": [],
   "source": [
    "class PhrasesBase(abc.ABCMeta):\n",
    "    def __enter__(cls): sys.meta_path.append(phrases)\n",
    "    def __exit__(cls, *x): sys.meta_path = [x for x in sys.meta_path if not issubclass(x, phrases)]\n",
    "    def find_spec(cls, name, *args, **kwargs): return importlib.machinery.ModuleSpec(name, phrases)"
   ]
  },
  {
   "cell_type": "code",
   "execution_count": 38,
   "metadata": {},
   "outputs": [],
   "source": [
    "class phrases(metaclass=PhrasesBase):\n",
    "    create_module = staticmethod(lambda spec: Phrase(spec.name, globals=False))\n",
    "    exec_module = staticmethod(lambda module: module)\n",
    "    is_package = staticmethod(lambda _: True)"
   ]
  },
  {
   "cell_type": "markdown",
   "metadata": {},
   "source": [
    "string, markdown, rich display"
   ]
  },
  {
   "cell_type": "code",
   "execution_count": 44,
   "metadata": {},
   "outputs": [
    {
     "data": {
      "text/plain": [
       "('graph { a  b}',)"
      ]
     },
     "execution_count": 44,
     "metadata": {},
     "output_type": "execute_result"
    }
   ],
   "source": [
    "str(__import__('graph { a  b}')),"
   ]
  },
  {
   "cell_type": "code",
   "execution_count": 57,
   "metadata": {},
   "outputs": [],
   "source": [
    "with phrases:\n",
    "    ;__import__ This experiment\n",
    "    ;str was\n",
    "    ;__import__ a success"
   ]
  },
  {
   "cell_type": "code",
   "execution_count": 64,
   "metadata": {},
   "outputs": [
    {
     "data": {
      "text/markdown": [
       "__a success__"
      ],
      "text/plain": [
       "a success"
      ]
     },
     "execution_count": 64,
     "metadata": {},
     "output_type": "execute_result"
    }
   ],
   "source": [
    ";__import__ a success"
   ]
  },
  {
   "cell_type": "code",
   "execution_count": 59,
   "metadata": {},
   "outputs": [
    {
     "data": {
      "text/plain": [
       "'This experiment'"
      ]
     },
     "execution_count": 59,
     "metadata": {},
     "output_type": "execute_result"
    }
   ],
   "source": [
    "'This experiment'"
   ]
  },
  {
   "cell_type": "code",
   "execution_count": null,
   "metadata": {},
   "outputs": [],
   "source": [
    "a s"
   ]
  },
  {
   "cell_type": "code",
   "execution_count": 40,
   "metadata": {},
   "outputs": [
    {
     "data": {
      "text/html": [
       "<?xml version=\"1.0\" encoding=\"UTF-8\" standalone=\"no\"?>\n",
       "<!DOCTYPE svg PUBLIC \"-//W3C//DTD SVG 1.1//EN\"\n",
       " \"http://www.w3.org/Graphics/SVG/1.1/DTD/svg11.dtd\">\n",
       "<!-- Generated by graphviz version 2.38.0 (20140413.2041)\n",
       " -->\n",
       "<!-- Title: %3 Pages: 1 -->\n",
       "<svg width=\"134pt\" height=\"44pt\"\n",
       " viewBox=\"0.00 0.00 134.00 44.00\" xmlns=\"http://www.w3.org/2000/svg\" xmlns:xlink=\"http://www.w3.org/1999/xlink\">\n",
       "<g id=\"graph0\" class=\"graph\" transform=\"scale(1 1) rotate(0) translate(4 40)\">\n",
       "<title>%3</title>\n",
       "<polygon fill=\"white\" stroke=\"none\" points=\"-4,4 -4,-40 130,-40 130,4 -4,4\"/>\n",
       "<!-- a -->\n",
       "<g id=\"node1\" class=\"node\"><title>a</title>\n",
       "<ellipse fill=\"none\" stroke=\"black\" cx=\"27\" cy=\"-18\" rx=\"27\" ry=\"18\"/>\n",
       "<text text-anchor=\"middle\" x=\"27\" y=\"-13.8\" font-family=\"Times,serif\" font-size=\"14.00\">a</text>\n",
       "</g>\n",
       "<!-- b -->\n",
       "<g id=\"node2\" class=\"node\"><title>b</title>\n",
       "<ellipse fill=\"none\" stroke=\"black\" cx=\"99\" cy=\"-18\" rx=\"27\" ry=\"18\"/>\n",
       "<text text-anchor=\"middle\" x=\"99\" y=\"-13.8\" font-family=\"Times,serif\" font-size=\"14.00\">b</text>\n",
       "</g>\n",
       "</g>\n",
       "</svg>\n"
      ],
      "text/plain": [
       "'graph { a  b}'"
      ]
     },
     "execution_count": 40,
     "metadata": {},
     "output_type": "execute_result"
    }
   ],
   "source": [
    "str(Phrase('graph {A B}'))"
   ]
  },
  {
   "cell_type": "code",
   "execution_count": 6,
   "metadata": {},
   "outputs": [
    {
     "data": {
      "text/markdown": [
       "- A"
      ],
      "text/plain": [
       "- A"
      ]
     },
     "execution_count": 6,
     "metadata": {},
     "output_type": "execute_result"
    }
   ],
   "source": [
    "(Phrase('test me out', '- A', a=1))"
   ]
  },
  {
   "cell_type": "markdown",
   "metadata": {},
   "source": [
    "`Phrase`s turn words into display and objects that are accessed by the __import__ system.  Since they have invalid python names they should not conflict with existing tools."
   ]
  },
  {
   "cell_type": "markdown",
   "metadata": {},
   "source": [
    "They can be used with some IPython syntactic sugar."
   ]
  },
  {
   "cell_type": "code",
   "execution_count": 56,
   "metadata": {},
   "outputs": [],
   "source": [
    "with phrases:\n",
    "    ;__import__  This is a test"
   ]
  },
  {
   "cell_type": "code",
   "execution_count": null,
   "metadata": {},
   "outputs": [],
   "source": [
    "Thidd"
   ]
  },
  {
   "cell_type": "markdown",
   "metadata": {},
   "source": [
    "Templating should be added"
   ]
  },
  {
   "cell_type": "code",
   "execution_count": 15,
   "metadata": {},
   "outputs": [
    {
     "data": {
      "text/plain": [
       "{'{{}}': jinja2.environment.Template,\n",
       " '{}': <method 'format' of 'str' objects>,\n",
       " '%': <slot wrapper '__mod__' of 'str' objects>,\n",
       " '$': string.Template}"
      ]
     },
     "execution_count": 15,
     "metadata": {},
     "output_type": "execute_result"
    }
   ],
   "source": [
    "{\n",
    "    '{{}}': jinja2.Template,\n",
    "    '{}': str.format,\n",
    "    '%': str.__mod__,\n",
    "    '$': string.Template\n",
    "}"
   ]
  },
  {
   "cell_type": "code",
   "execution_count": null,
   "metadata": {},
   "outputs": [],
   "source": []
  }
 ],
 "metadata": {
  "kernelspec": {
   "display_name": "p6",
   "language": "python",
   "name": "other-env"
  },
  "language_info": {
   "codemirror_mode": {
    "name": "ipython",
    "version": 3
   },
   "file_extension": ".py",
   "mimetype": "text/x-python",
   "name": "python",
   "nbconvert_exporter": "python",
   "pygments_lexer": "ipython3",
   "version": "3.6.3"
  }
 },
 "nbformat": 4,
 "nbformat_minor": 2
}
