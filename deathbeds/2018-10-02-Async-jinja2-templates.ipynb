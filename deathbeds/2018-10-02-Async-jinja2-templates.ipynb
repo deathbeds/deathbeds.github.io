{
 "cells": [
  {
   "cell_type": "markdown",
   "metadata": {},
   "source": [
    "A very simple example using asynchronous `jinja2` templates.  The [`jinja2.Template.render_async`](http://jinja.pocoo.org/docs/2.10/api/#jinja2.Template.render_async) \n",
    "requires that __async__ mode is enabled."
   ]
  },
  {
   "cell_type": "code",
   "execution_count": 1,
   "metadata": {},
   "outputs": [],
   "source": [
    "    import jinja2, asyncio, functools, typing, warnings"
   ]
  },
  {
   "cell_type": "markdown",
   "metadata": {},
   "source": [
    "With `functools.partial(jinja2.Template, enable_async=True)` a `jinja2.Template` becomes `typing.Awaitable`.  `atemplate` using __enable_async__."
   ]
  },
  {
   "cell_type": "code",
   "execution_count": 2,
   "metadata": {},
   "outputs": [],
   "source": [
    "    atemplate = jinja2.Template(\"This is a template for {{a}} and {{b}}\", enable_async=True)"
   ]
  },
  {
   "cell_type": "code",
   "execution_count": 3,
   "metadata": {},
   "outputs": [],
   "source": [
    "    with warnings.catch_warnings(record=True): \n",
    "        assert isinstance(atemplate.render_async(), typing.Awaitable)"
   ]
  },
  {
   "cell_type": "markdown",
   "metadata": {},
   "source": [
    "Now `atemplate` may be using with __await__"
   ]
  },
  {
   "cell_type": "code",
   "execution_count": 4,
   "metadata": {},
   "outputs": [
    {
     "data": {
      "text/plain": [
       "'This is a template for 10 and 20'"
      ]
     },
     "execution_count": 4,
     "metadata": {},
     "output_type": "execute_result"
    }
   ],
   "source": [
    "    await atemplate.render_async(a=10, b=20)"
   ]
  },
  {
   "cell_type": "markdown",
   "metadata": {},
   "source": [
    "or `asyncio.gather`"
   ]
  },
  {
   "cell_type": "code",
   "execution_count": 5,
   "metadata": {},
   "outputs": [
    {
     "data": {
      "text/plain": [
       "['This is a template for 10 and 20']"
      ]
     },
     "execution_count": 5,
     "metadata": {},
     "output_type": "execute_result"
    }
   ],
   "source": [
    "    await asyncio.gather(atemplate.render_async(a=10, b=20))"
   ]
  },
  {
   "cell_type": "markdown",
   "metadata": {},
   "source": [
    "These next example for a normal `jinja2.Template` demonstrates that __enable_async__ is required for asynchronous evaluation."
   ]
  },
  {
   "cell_type": "code",
   "execution_count": 6,
   "metadata": {},
   "outputs": [],
   "source": [
    "    try:\n",
    "        await jinja2.Template(\"This is a template for {{a}} and {{b}}\").render_async(a=10, b=90)\n",
    "        assert False\n",
    "    except RuntimeError: assert True"
   ]
  }
 ],
 "metadata": {
  "kernelspec": {
   "display_name": "Python 3",
   "language": "python",
   "name": "python3"
  },
  "language_info": {
   "codemirror_mode": {
    "name": "ipython",
    "version": 3
   },
   "file_extension": ".py",
   "mimetype": "text/x-python",
   "name": "python",
   "nbconvert_exporter": "python",
   "pygments_lexer": "ipython3",
   "version": "3.6.6"
  }
 },
 "nbformat": 4,
 "nbformat_minor": 2
}
