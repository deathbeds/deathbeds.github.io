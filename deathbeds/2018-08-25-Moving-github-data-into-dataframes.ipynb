{
 "cells": [
  {
   "cell_type": "markdown",
   "metadata": {},
   "source": [
    "# Downloading issues and pull requests.\n",
    "\n",
    "This document provides a basis for researching Github data locally.  It uses the a repository's metadata to access the Github Issues and Pull Requests."
   ]
  },
  {
   "cell_type": "code",
   "execution_count": 1,
   "metadata": {},
   "outputs": [],
   "source": [
    "    import pandas; import requests; from functools import partial\n",
    "    from requests_cache import install_cache\n",
    "    install_cache('github-data')"
   ]
  },
  {
   "cell_type": "code",
   "execution_count": 19,
   "metadata": {},
   "outputs": [],
   "source": [
    "    def get(url, **params):\n",
    "        import os\n",
    "        if os.environ.get('GITHUB'):\n",
    "            params['access_token']=os.environ.get('GITHUB')\n",
    "        return requests.get(\n",
    "            url +  ('?' + '&'.join(map('='.join, params.items())) if params else ''),\n",
    "            params=params\n",
    "        )"
   ]
  },
  {
   "cell_type": "code",
   "execution_count": 20,
   "metadata": {},
   "outputs": [],
   "source": [
    "    info = lambda x, **params: pandas.Series(get(\"https://api.github.com/repos/{}\".format(x), **params).json())"
   ]
  },
  {
   "cell_type": "code",
   "execution_count": 21,
   "metadata": {},
   "outputs": [],
   "source": [
    "    events = lambda action, x, **params: pandas.DataFrame(get(\n",
    "        info(x).loc[f'{action}_url'].format(**{'/number': ''}), **params).json())"
   ]
  },
  {
   "cell_type": "code",
   "execution_count": 22,
   "metadata": {},
   "outputs": [],
   "source": [
    "    def pulls(\n",
    "        project: str, \n",
    "        iter: int=3, \n",
    "        state: ('open', 'closed', 'all')='closed'\n",
    "    ) -> iter:\n",
    "        \"\"\"Download the pull requests over {iter} pages for specific state of\n",
    "        pull request\"\"\"\n",
    "        for i in range(1, iter):\n",
    "            result = events('pulls', project, state=state, page=str(i))\n",
    "            yield result\n",
    "            if len(result) < 30: break\n"
   ]
  },
  {
   "cell_type": "code",
   "execution_count": 23,
   "metadata": {},
   "outputs": [],
   "source": [
    "    def issues(\n",
    "        project: str, \n",
    "        iter: int=3, \n",
    "        state: ('open', 'closed', 'all')='closed'\n",
    "    ) -> iter:\n",
    "        \"\"\"Download the pull requests over {iter} pages for specific state of\n",
    "        pull request\"\"\"\n",
    "        for i in range(1, iter):\n",
    "            result = events('issues', project, state=state, page=str(i))\n",
    "            yield result\n",
    "            if len(result) < 30: break\n"
   ]
  },
  {
   "cell_type": "code",
   "execution_count": 4,
   "metadata": {},
   "outputs": [],
   "source": [
    "    def test_jupyterlab(): \n",
    "        assert len(pandas.concat(list(pulls('jupyterlab/jupyterlab'))))"
   ]
  },
  {
   "cell_type": "code",
   "execution_count": null,
   "metadata": {},
   "outputs": [],
   "source": [
    "    if __name__ == '__main__':\n",
    "        !ipython -m pytest -- 2018-08-25-Moving-github-data-into-dataframes.ipynb"
   ]
  },
  {
   "cell_type": "code",
   "execution_count": null,
   "metadata": {},
   "outputs": [],
   "source": []
  }
 ],
 "metadata": {
  "kernelspec": {
   "display_name": "Python 3",
   "language": "python",
   "name": "python3"
  },
  "language_info": {
   "codemirror_mode": {
    "name": "ipython",
    "version": 3
   },
   "file_extension": ".py",
   "mimetype": "text/x-python",
   "name": "python",
   "nbconvert_exporter": "python",
   "pygments_lexer": "ipython3",
   "version": "3.6.5"
  }
 },
 "nbformat": 4,
 "nbformat_minor": 2
}
