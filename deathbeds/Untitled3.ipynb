{
 "cells": [
  {
   "cell_type": "markdown",
   "metadata": {},
   "source": [
    "# Don't touch the `forbiddenfruit`\n",
    "\n",
    "Otherwise your strings may just turn in markdown reprs."
   ]
  },
  {
   "cell_type": "code",
   "execution_count": 1,
   "metadata": {},
   "outputs": [
    {
     "name": "stdout",
     "output_type": "stream",
     "text": [
      "Collecting forbiddenfruit\n",
      "  Downloading https://files.pythonhosted.org/packages/47/98/ae486fc43ed8a53273c3ec960d52c7623ba1cde57a8bb4a2c6140d6b0675/forbiddenfruit-0.1.2.tar.gz\n",
      "Building wheels for collected packages: forbiddenfruit\n",
      "  Running setup.py bdist_wheel for forbiddenfruit: started\n",
      "  Running setup.py bdist_wheel for forbiddenfruit: finished with status 'error'\n",
      "  Complete output from command C:\\Anaconda3\\python.exe -u -c \"import setuptools, tokenize;__file__='C:\\\\Users\\\\DEATHB~1\\\\AppData\\\\Local\\\\Temp\\\\pip-install-2_838sua\\\\forbiddenfruit\\\\setup.py';f=getattr(tokenize, 'open', open)(__file__);code=f.read().replace('\\r\\n', '\\n');f.close();exec(compile(code, __file__, 'exec'))\" bdist_wheel -d C:\\Users\\DEATHB~1\\AppData\\Local\\Temp\\pip-wheel-fohapaed --python-tag cp36:\n",
      "  running bdist_wheel\n",
      "  running build\n",
      "  running build_py\n",
      "  creating build\n",
      "  creating build\\lib.win-amd64-3.6\n",
      "  creating build\\lib.win-amd64-3.6\\forbiddenfruit\n",
      "  copying forbiddenfruit\\__init__.py -> build\\lib.win-amd64-3.6\\forbiddenfruit\n",
      "  running build_ext\n",
      "  building 'ffruit' extension\n",
      "  error: Microsoft Visual C++ 14.0 is required. Get it with \"Microsoft Visual C++ Build Tools\": http://landinghub.visualstudio.com/visual-cpp-build-tools\n",
      "  \n",
      "  ----------------------------------------\n",
      "  Running setup.py clean for forbiddenfruit\n",
      "Failed to build forbiddenfruit\n",
      "Installing collected packages: forbiddenfruit\n",
      "  Running setup.py install for forbiddenfruit: started\n",
      "    Running setup.py install for forbiddenfruit: finished with status 'error'\n",
      "    Complete output from command C:\\Anaconda3\\python.exe -u -c \"import setuptools, tokenize;__file__='C:\\\\Users\\\\DEATHB~1\\\\AppData\\\\Local\\\\Temp\\\\pip-install-2_838sua\\\\forbiddenfruit\\\\setup.py';f=getattr(tokenize, 'open', open)(__file__);code=f.read().replace('\\r\\n', '\\n');f.close();exec(compile(code, __file__, 'exec'))\" install --record C:\\Users\\DEATHB~1\\AppData\\Local\\Temp\\pip-record-gxaivi7_\\install-record.txt --single-version-externally-managed --compile:\n",
      "    running install\n",
      "    running build\n",
      "    running build_py\n",
      "    creating build\n",
      "    creating build\\lib.win-amd64-3.6\n",
      "    creating build\\lib.win-amd64-3.6\\forbiddenfruit\n",
      "    copying forbiddenfruit\\__init__.py -> build\\lib.win-amd64-3.6\\forbiddenfruit\n",
      "    running build_ext\n",
      "    building 'ffruit' extension\n",
      "    error: Microsoft Visual C++ 14.0 is required. Get it with \"Microsoft Visual C++ Build Tools\": http://landinghub.visualstudio.com/visual-cpp-build-tools\n",
      "    \n",
      "    ----------------------------------------\n"
     ]
    },
    {
     "name": "stderr",
     "output_type": "stream",
     "text": [
      "  Failed building wheel for forbiddenfruit\n",
      "Command \"C:\\Anaconda3\\python.exe -u -c \"import setuptools, tokenize;__file__='C:\\\\Users\\\\DEATHB~1\\\\AppData\\\\Local\\\\Temp\\\\pip-install-2_838sua\\\\forbiddenfruit\\\\setup.py';f=getattr(tokenize, 'open', open)(__file__);code=f.read().replace('\\r\\n', '\\n');f.close();exec(compile(code, __file__, 'exec'))\" install --record C:\\Users\\DEATHB~1\\AppData\\Local\\Temp\\pip-record-gxaivi7_\\install-record.txt --single-version-externally-managed --compile\" failed with error code 1 in C:\\Users\\DEATHB~1\\AppData\\Local\\Temp\\pip-install-2_838sua\\forbiddenfruit\\\n"
     ]
    }
   ],
   "source": [
    "!pip install forbiddenfruit"
   ]
  },
  {
   "cell_type": "code",
   "execution_count": null,
   "metadata": {},
   "outputs": [],
   "source": [
    "\n",
    "from forbiddenfruit import curse\n",
    ">>> def words_of_wisdom(self):\n",
    "...     return self * \"blah \"\n",
    ">>> curse(int, \"words_of_wisdom\", words_of_wisdom)\n",
    ">>> assert (2).words_of_wisdom() == \"blah blah \""
   ]
  }
 ],
 "metadata": {
  "kernelspec": {
   "display_name": "Python 3",
   "language": "python",
   "name": "python3"
  },
  "language_info": {
   "codemirror_mode": {
    "name": "ipython",
    "version": 3
   },
   "file_extension": ".py",
   "mimetype": "text/x-python",
   "name": "python",
   "nbconvert_exporter": "python",
   "pygments_lexer": "ipython3",
   "version": "3.6.5"
  }
 },
 "nbformat": 4,
 "nbformat_minor": 2
}
