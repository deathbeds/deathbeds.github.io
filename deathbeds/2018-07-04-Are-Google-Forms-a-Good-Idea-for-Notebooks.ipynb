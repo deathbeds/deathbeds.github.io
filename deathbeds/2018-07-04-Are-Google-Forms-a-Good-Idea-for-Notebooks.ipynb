{
 "cells": [
  {
   "cell_type": "markdown",
   "metadata": {},
   "source": [
    "# Are Google Forms a Good Idea for Notebooks?"
   ]
  },
  {
   "cell_type": "code",
   "execution_count": 19,
   "metadata": {},
   "outputs": [
    {
     "name": "stdout",
     "output_type": "stream",
     "text": [
      "The deathbeds.__HTML_Flexbox extension is already loaded. To reload it, use:\n",
      "  %reload_ext deathbeds.__HTML_Flexbox\n"
     ]
    }
   ],
   "source": [
    "    import pandas as pd; from IPython import get_ipython\n",
    "    %reload_ext deathbeds\n",
    "    __all__ = 'google_form_frame',"
   ]
  },
  {
   "cell_type": "markdown",
   "metadata": {},
   "source": [
    "# Go answer this form"
   ]
  },
  {
   "cell_type": "code",
   "execution_count": 2,
   "metadata": {},
   "outputs": [
    {
     "data": {
      "text/html": [
       "\n",
       "        <iframe\n",
       "            width=\"100%\"\n",
       "            height=\"450\"\n",
       "            src=\"https://docs.google.com/forms/d/e/1FAIpQLScIkeGeVDoFbwX8QK-Pz-tpnOpe7M_pfSFfEk2itSUl5VoyfA/viewform\"\n",
       "            frameborder=\"0\"\n",
       "            allowfullscreen\n",
       "        ></iframe>\n",
       "        "
      ],
      "text/plain": [
       "<IPython.lib.display.IFrame at 0x22388d0aa90>"
      ]
     },
     "metadata": {},
     "output_type": "display_data"
    }
   ],
   "source": [
    "    \"\"\"https://docs.google.com/forms/d/e/1FAIpQLScIkeGeVDoFbwX8QK-Pz-tpnOpe7M_pfSFfEk2itSUl5VoyfA/viewform\"\"\""
   ]
  },
  {
   "cell_type": "markdown",
   "metadata": {},
   "source": [
    "> If you have a kernel up for this notebook, then you may immediately see your response appended to the form results with pandas."
   ]
  },
  {
   "cell_type": "markdown",
   "metadata": {},
   "source": [
    "# That can be a `pandas.DataFrame`"
   ]
  },
  {
   "cell_type": "markdown",
   "metadata": {},
   "source": [
    "* using the url to the corresponding Google spreadsheet."
   ]
  },
  {
   "cell_type": "code",
   "execution_count": 20,
   "metadata": {},
   "outputs": [],
   "source": [
    "    _sheet_prefix = \"\"\"https://docs.google.com/spreadsheets/d\"\"\""
   ]
  },
  {
   "cell_type": "markdown",
   "metadata": {},
   "source": [
    "Provide the google sheet url or id to convert it into a pandas dataframe."
   ]
  },
  {
   "cell_type": "code",
   "execution_count": 26,
   "metadata": {},
   "outputs": [],
   "source": [
    "    def google_sheet_frame(str: str) -> pd.DataFrame: return pd.read_excel(\n",
    "        f\"{'' if str.startswith('http') else _sheet_prefix}/{str}/export?format=xlsx\")"
   ]
  },
  {
   "cell_type": "code",
   "execution_count": 22,
   "metadata": {},
   "outputs": [],
   "source": [
    "    sheet = \"\"\"1_8bNuPcm0TCrcq53b9uc6_N-Bi8k0xDztbI_vqdilGY\"\"\""
   ]
  },
  {
   "cell_type": "code",
   "execution_count": 25,
   "metadata": {},
   "outputs": [
    {
     "data": {
      "text/html": [
       "<div>\n",
       "<style scoped>\n",
       "    .dataframe tbody tr th:only-of-type {\n",
       "        vertical-align: middle;\n",
       "    }\n",
       "\n",
       "    .dataframe tbody tr th {\n",
       "        vertical-align: top;\n",
       "    }\n",
       "\n",
       "    .dataframe thead th {\n",
       "        text-align: right;\n",
       "    }\n",
       "</style>\n",
       "<table border=\"1\" class=\"dataframe\">\n",
       "  <thead>\n",
       "    <tr style=\"text-align: right;\">\n",
       "      <th></th>\n",
       "      <th>Timestamp</th>\n",
       "      <th>Are forms good for Notebooks?</th>\n",
       "    </tr>\n",
       "  </thead>\n",
       "  <tbody>\n",
       "    <tr>\n",
       "      <th>0</th>\n",
       "      <td>2018-07-04 09:30:45.431</td>\n",
       "      <td>Strongly Agree</td>\n",
       "    </tr>\n",
       "    <tr>\n",
       "      <th>1</th>\n",
       "      <td>2018-07-04 09:43:38.921</td>\n",
       "      <td>Strongly Agree</td>\n",
       "    </tr>\n",
       "    <tr>\n",
       "      <th>2</th>\n",
       "      <td>2018-07-04 09:44:36.360</td>\n",
       "      <td>Disagree</td>\n",
       "    </tr>\n",
       "    <tr>\n",
       "      <th>3</th>\n",
       "      <td>2018-07-04 10:12:54.089</td>\n",
       "      <td>Neutral</td>\n",
       "    </tr>\n",
       "    <tr>\n",
       "      <th>4</th>\n",
       "      <td>2018-07-04 12:41:19.771</td>\n",
       "      <td>Agree</td>\n",
       "    </tr>\n",
       "    <tr>\n",
       "      <th>5</th>\n",
       "      <td>2018-07-04 12:43:16.432</td>\n",
       "      <td>Strongly Disagree</td>\n",
       "    </tr>\n",
       "    <tr>\n",
       "      <th>6</th>\n",
       "      <td>2018-07-11 16:26:05.077</td>\n",
       "      <td>Disagree</td>\n",
       "    </tr>\n",
       "    <tr>\n",
       "      <th>7</th>\n",
       "      <td>2018-07-11 16:26:23.245</td>\n",
       "      <td>Disagree</td>\n",
       "    </tr>\n",
       "  </tbody>\n",
       "</table>\n",
       "</div>"
      ],
      "text/plain": [
       "                Timestamp Are forms good for Notebooks?\n",
       "0 2018-07-04 09:30:45.431                Strongly Agree\n",
       "1 2018-07-04 09:43:38.921                Strongly Agree\n",
       "2 2018-07-04 09:44:36.360                      Disagree\n",
       "3 2018-07-04 10:12:54.089                       Neutral\n",
       "4 2018-07-04 12:41:19.771                         Agree\n",
       "5 2018-07-04 12:43:16.432             Strongly Disagree\n",
       "6 2018-07-11 16:26:05.077                      Disagree\n",
       "7 2018-07-11 16:26:23.245                      Disagree"
      ]
     },
     "execution_count": 25,
     "metadata": {},
     "output_type": "execute_result"
    }
   ],
   "source": [
    "    __name__ == '__main__' and google_sheet_frame(sheet)\n",
    "    "
   ]
  },
  {
   "cell_type": "code",
   "execution_count": 24,
   "metadata": {},
   "outputs": [],
   "source": [
    "    def _visualize_sampled_form_data():\n",
    "        %matplotlib agg\n",
    "        df = google_sheet_frame(sheet).set_index('Timestamp')\n",
    "        df['Are forms good for Notebooks?'].value_counts().plot.pie();\n",
    "        return pd.get_dummies(df['Are forms good for Notebooks?']).describe()"
   ]
  }
 ],
 "metadata": {
  "kernelspec": {
   "display_name": "Python 3",
   "language": "python",
   "name": "python3"
  },
  "language_info": {
   "codemirror_mode": {
    "name": "ipython",
    "version": 3
   },
   "file_extension": ".py",
   "mimetype": "text/x-python",
   "name": "python",
   "nbconvert_exporter": "python",
   "pygments_lexer": "ipython3",
   "version": "3.6.5"
  }
 },
 "nbformat": 4,
 "nbformat_minor": 2
}
