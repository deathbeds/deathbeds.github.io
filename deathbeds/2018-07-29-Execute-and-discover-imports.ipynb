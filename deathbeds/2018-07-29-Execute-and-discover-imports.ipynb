{
 "cells": [
  {
   "cell_type": "markdown",
   "metadata": {},
   "source": [
    "# Collect dependencies using `nbconvert`\n",
    "\n",
    "The document creates an `nbconvert.preprocessor.execute` that will capture the current environment at the end of the execution."
   ]
  },
  {
   "cell_type": "code",
   "execution_count": 7,
   "metadata": {},
   "outputs": [],
   "source": [
    "    from pathlib import Path; import functools, io, nbconvert, ast, json, sys"
   ]
  },
  {
   "cell_type": "code",
   "execution_count": 8,
   "metadata": {},
   "outputs": [],
   "source": [
    "    def get_imports_from_display(display): return display[0]['data']['text/plain']"
   ]
  },
  {
   "cell_type": "code",
   "execution_count": 8,
   "metadata": {},
   "outputs": [],
   "source": [
    "    def import_to_env(str):\n",
    "        from yaml import safe_load\n",
    "        with io.StringIO(str) as s:\n",
    "            return {'environment': {\n",
    "                'dependencies': safe_load(s), 'channels': ['conda-forge', 'defaults'],}}"
   ]
  },
  {
   "cell_type": "code",
   "execution_count": 9,
   "metadata": {},
   "outputs": [],
   "source": [
    "    mappings = dict(\n",
    "        PIL='pillow',\n",
    "        skimage='scikit-image', \n",
    "        yaml= 'pyyaml',\n",
    "        delegator='delegator.py',\n",
    "        pidgin=\"git+https://github.com/deathbeds/pidgin\",\n",
    "        importnb=\"git+https://github.com/deathbeds/importnb\",\n",
    "        depfinder=\"git+https://github.com/deathbeds/depfinder@ipython-code-transform\",\n",
    "        **{'cv2.cv2': 'opencv-python', });\n",
    "    mappings.update(prompt_toolkit='prompt-toolkit==1.0.15')\n",
    "    nah = 'sphinxcontrib', 'pkg_resources', 'dateutil', 'storemagic', 'OpenSSL', 'socks', 'gmpy2', 'blib2to3', 'deathbeds';\n",
    "    special = \"cv2.cv2\",;"
   ]
  },
  {
   "cell_type": "markdown",
   "metadata": {},
   "source": [
    "We desire to to find the current dependencies for a running kernel state.\n",
    "\n",
    "> The last line will return the code in the current cell."
   ]
  },
  {
   "cell_type": "code",
   "execution_count": 21,
   "metadata": {},
   "outputs": [],
   "source": [
    "    def paths(): \n",
    "        from pandas import Series\n",
    "        return Series(sys.path, sys.path).apply(\n",
    "            lambda object: Series([\n",
    "                relative_to(object, site)\n",
    "                for site in __import__('site').getsitepackages()], __import__('site').getsitepackages())\n",
    "        )[__import__('site').getsitepackages()[1:]].dropna()"
   ]
  },
  {
   "cell_type": "code",
   "execution_count": 22,
   "metadata": {},
   "outputs": [],
   "source": [
    "    def relative_to(object, site):\n",
    "        from toolz.curried import excepts\n",
    "        return excepts(BaseException, lambda x: Path(x).relative_to(site),lambda e: None)(object)"
   ]
  },
  {
   "cell_type": "code",
   "execution_count": 23,
   "metadata": {},
   "outputs": [],
   "source": [
    "    def modules(site_packages): \n",
    "        from pandas import Series\n",
    "        return Series(sys.modules).pipe(\n",
    "            lambda s: s[s.apply(lambda x: '.' not in x.__name__)]\n",
    "        ).apply(\n",
    "            lambda x: getattr(x, '__file__', None)\n",
    "        ).dropna().apply(\n",
    "            lambda x: Series([relative_to(x, object) for object in site_packages.index])\n",
    "        ).dropna(how='all').pipe(lambda df: df[df.index.map(lambda x: not x.startswith('_') and ('.' not in x))])"
   ]
  },
  {
   "cell_type": "code",
   "execution_count": 24,
   "metadata": {},
   "outputs": [],
   "source": [
    "    def requirements():\n",
    "        import sys, copy\n",
    "        requirements = \"\"\n",
    "        sys_modules = copy.copy(sys.modules)\n",
    "        from pandas import Series\n",
    "        from toolz.curried import excepts\n",
    "        \n",
    "        site_packages = paths()\n",
    "\n",
    "        packages_names = modules(paths())\n",
    "        return packages_names.index.tolist()"
   ]
  },
  {
   "cell_type": "code",
   "execution_count": 25,
   "metadata": {},
   "outputs": [],
   "source": [
    "    class RequiresPreprocessor(nbconvert.preprocessors.execute.ExecutePreprocessor):\n",
    "        def preprocess_cell(self, cell, resources, cell_index):\n",
    "            from nbformat.v4 import new_code_cell\n",
    "            cell, resources = super().preprocess_cell(cell, resources, cell_index)\n",
    "            if cell_index == len(self.nb.cells)-1:\n",
    "                reply, display = self.run_cell(new_code_cell(\n",
    "                    \"\"\"__import__('importlib').import_module('deathbeds.2018_07_29_Execute_and_discover_imports').requirements()\"\"\"\n",
    "                ))\n",
    "                self.nb['metadata'].update(\n",
    "                    import_to_env(get_imports_from_display(display))\n",
    "                )\n",
    "                self.nb['metadata']['environment'].update(name=resources['metadata'].get('name', 'sure'))\n",
    "                print(resources)\n",
    "            return cell, resources"
   ]
  },
  {
   "cell_type": "code",
   "execution_count": 26,
   "metadata": {},
   "outputs": [],
   "source": [
    "    def _test_exporter():\n",
    "        from nbconvert.exporters import NotebookExporter; import json\n",
    "        exporter = NotebookExporter(preprocessors=[RequiresPreprocessor(enabled=True)])\n",
    "    \n",
    "        nb, _ = exporter.from_filename(\"2018-07-29-Execute-and-discover-imports.ipynb\")\n",
    "    \n",
    "        assert json.loads(nb)['metadata']['environment']['dependencies']"
   ]
  },
  {
   "cell_type": "markdown",
   "metadata": {},
   "source": [
    "The default config file name for nbconvert is `jupyter_nbconvert_config.py`."
   ]
  },
  {
   "cell_type": "markdown",
   "metadata": {},
   "source": [
    "    %%file jupyter_nbconvert_config.py\n",
    "    with __import__('importnb').Notebook():\n",
    "        from deathbeds.__Execute_and_discover_imports import RequiresPreprocessor\n",
    "    c.Exporter.preprocessors = [RequiresPreprocessor()]"
   ]
  },
  {
   "cell_type": "markdown",
   "metadata": {},
   "source": [
    "    !jupyter nbconvert --to notebook 2018-07-29-Execute-and-discover-imports.ipynb"
   ]
  }
 ],
 "metadata": {
  "environment": {
   "channels": [
    "conda-forge",
    "defaults"
   ],
   "dependencies": [
    "encodings",
    "codecs",
    "io",
    "abc",
    "site",
    "os",
    "stat",
    "ntpath",
    "genericpath",
    "sysconfig",
    "types",
    "functools",
    "collections",
    "operator",
    "keyword",
    "heapq",
    "reprlib",
    "weakref",
    "importlib",
    "warnings",
    "contextlib",
    "runpy",
    "pkgutil",
    "ipykernel",
    "json",
    "re",
    "enum",
    "sre_compile",
    "sre_parse",
    "sre_constants",
    "copyreg",
    "subprocess",
    "signal",
    "threading",
    "traceback",
    "linecache",
    "tokenize",
    "token",
    "IPython",
    "copy",
    "glob",
    "fnmatch",
    "posixpath",
    "logging",
    "string",
    "shutil",
    "bz2",
    "lzma",
    "traitlets",
    "inspect",
    "ast",
    "dis",
    "opcode",
    "six",
    "struct",
    "ipython_genutils",
    "locale",
    "platform",
    "decorator",
    "argparse",
    "textwrap",
    "gettext",
    "random",
    "hashlib",
    "bisect",
    "pprint",
    "pydoc",
    "urllib",
    "bdb",
    "pygments",
    "pdb",
    "cmd",
    "code",
    "codeop",
    "ctypes",
    "shlex",
    "tempfile",
    "pathlib",
    "getopt",
    "mimetypes",
    "getpass",
    "datetime",
    "pickleshare",
    "pickle",
    "backcall",
    "sqlite3",
    "html",
    "typing",
    "prompt-toolkit==1.0.15",
    "wcwidth",
    "unicodedata",
    "simplegeneric",
    "jedi",
    "parso",
    "difflib",
    "socket",
    "selectors",
    "select",
    "queue",
    "pydoc_data",
    "filecmp",
    "distutils",
    "timeit",
    "cProfile",
    "profile",
    "optparse",
    "pstats",
    "imp",
    "jupyter_client",
    "zmq",
    "jupyter_core",
    "uuid",
    "tornado",
    "numbers",
    "colorama",
    "concurrent",
    "multiprocessing",
    "asyncio",
    "ssl",
    "ipaddress",
    "base64",
    "hmac",
    "calendar",
    "decimal",
    "git+https://github.com/deathbeds/importnb",
    "zipfile",
    "plistlib",
    "xml",
    "pyexpat",
    "email",
    "quopri",
    "win32com",
    "win32api",
    "pywintypes",
    "http",
    "uu",
    "nturl2path",
    "black",
    "appdirs",
    "attr",
    "click",
    "toml",
    "ipywidgets",
    "nbconvert",
    "entrypoints",
    "configparser",
    "nbformat",
    "jsonschema",
    "requests",
    "urllib3",
    "chardet",
    "cryptography",
    "asn1crypto",
    "stringprep",
    "idna",
    "cgi",
    "certifi",
    "jinja2",
    "markupsafe",
    "mistune",
    "pandocfilters",
    "testpath",
    "notebook",
    "tarfile",
    "webbrowser",
    "gzip",
    "csv",
    "pyyaml"
   ],
   "name": "2018-07-29-Execute-and-discover-imports"
  },
  "kernelspec": {
   "display_name": "Python 3",
   "language": "python",
   "name": "python3"
  },
  "language_info": {
   "codemirror_mode": {
    "name": "ipython",
    "version": 3
   },
   "file_extension": ".py",
   "mimetype": "text/x-python",
   "name": "python",
   "nbconvert_exporter": "python",
   "pygments_lexer": "ipython3",
   "version": "3.6.5"
  }
 },
 "nbformat": 4,
 "nbformat_minor": 2
}
