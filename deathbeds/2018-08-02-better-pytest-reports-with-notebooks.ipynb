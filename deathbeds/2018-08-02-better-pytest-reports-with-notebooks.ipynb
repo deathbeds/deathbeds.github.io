{
 "cells": [
  {
   "cell_type": "markdown",
   "metadata": {},
   "source": [
    "`importnb` returns shitty errors when we run pytest.  They are hard to read, and sometimes even impossible.  Using our new importer that returns the proper source is better for testing because it gives expected pytest tracebacks on an error"
   ]
  },
  {
   "cell_type": "markdown",
   "metadata": {},
   "source": [
    "* Reuse our [proper source importer](2018-07-26-Importing-notebooks-with-proper-source.ipynb)."
   ]
  },
  {
   "cell_type": "code",
   "execution_count": 1,
   "metadata": {},
   "outputs": [],
   "source": [
    "    if __name__ == '__main__': \n",
    "        %reload_ext deathbeds.__proper_source"
   ]
  },
  {
   "cell_type": "markdown",
   "metadata": {},
   "source": [
    "* and allow `pytest` to collect notebooks as was shown in [__testing notebooks posts__](2018-07-31-Testing-notebooks.ipynb)"
   ]
  },
  {
   "cell_type": "code",
   "execution_count": 2,
   "metadata": {},
   "outputs": [],
   "source": [
    "    import pytest\n",
    "    def pytest_collect_file(parent, path):\n",
    "        if path.ext == \".ipynb\": return pytest.Module(path, parent)"
   ]
  },
  {
   "cell_type": "code",
   "execution_count": 3,
   "metadata": {},
   "outputs": [],
   "source": [
    "    def test_thing():\n",
    "        \"\"\"test_thing is test that fails.\"\"\"\n",
    "        assert False"
   ]
  },
  {
   "cell_type": "markdown",
   "metadata": {},
   "source": [
    "* `pytest` will return the same traceback expected from any old python module."
   ]
  },
  {
   "cell_type": "code",
   "execution_count": 4,
   "metadata": {},
   "outputs": [
    {
     "name": "stdout",
     "output_type": "stream",
     "text": [
      "============================= test session starts =============================\n",
      "platform win32 -- Python 3.6.5, pytest-3.5.1, py-1.5.3, pluggy-0.6.0\n",
      "rootdir: C:\\Users\\deathbeds\\deathbeds.github.io, inifile: tox.ini\n",
      "plugins: testmon-0.9.12, remotedata-0.2.1, openfiles-0.3.0, localserver-0.4.1, doctestplus-0.1.3, arraydiff-0.2, hypothesis-3.66.16\n",
      "collected 1 item\n",
      "\n",
      "2018-08-02-better-pytest-reports-with-notebooks.ipynb .                  [100%]\n",
      "\n",
      "========================== 1 passed in 0.45 seconds ===========================\n"
     ]
    }
   ],
   "source": [
    "    def _run_pytest_example(): pytest.main('-p no:pytest-importnb 2018-08-02-better-pytest-reports-with-notebooks.ipynb'.split(), [__import__(__name__)])\n",
    "    __name__ == '__main__' and _run_pytest_example()"
   ]
  },
  {
   "cell_type": "code",
   "execution_count": null,
   "metadata": {},
   "outputs": [],
   "source": []
  }
 ],
 "metadata": {
  "kernelspec": {
   "display_name": "Python 3",
   "language": "python",
   "name": "python3"
  },
  "language_info": {
   "codemirror_mode": {
    "name": "ipython",
    "version": 3
   },
   "file_extension": ".py",
   "mimetype": "text/x-python",
   "name": "python",
   "nbconvert_exporter": "python",
   "pygments_lexer": "ipython3",
   "version": "3.6.5"
  }
 },
 "nbformat": 4,
 "nbformat_minor": 2
}
