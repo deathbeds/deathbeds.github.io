{
 "cells": [
  {
   "cell_type": "code",
   "execution_count": 3,
   "metadata": {},
   "outputs": [],
   "source": [
    "from . import __style__\n",
    "\n",
    "from IPython.utils.capture import capture_output\n",
    "\n",
    "def load_ipython_extension(ip):\n",
    "    from IPython import get_ipython\n",
    "    with capture_output():\n",
    "        # %load_ext deathbeds.__Notebooks_as_Tidy_DX \n",
    "        %load_ext deathbeds.__blacken_the_interactive_black_formatter\n",
    "        %load_ext deathbeds.__Emojis_in_code_cells\n",
    "        %load_ext deathbeds.__String_Node_Transformer\n",
    "        %load_ext deathbeds.__HTML_Flexbox\n",
    "    import poser\n",
    "    get_ipython().user_ns.update({x: getattr(poser, x) for x in poser.__all__})\n",
    "    \n",
    "    "
   ]
  }
 ],
 "metadata": {
  "kernelspec": {
   "display_name": "Python 3",
   "language": "python",
   "name": "python3"
  },
  "language_info": {
   "codemirror_mode": {
    "name": "ipython",
    "version": 3
   },
   "file_extension": ".py",
   "mimetype": "text/x-python",
   "name": "python",
   "nbconvert_exporter": "python",
   "pygments_lexer": "ipython3",
   "version": "3.6.5"
  }
 },
 "nbformat": 4,
 "nbformat_minor": 2
}
