{
 "cells": [
  {
   "cell_type": "markdown",
   "metadata": {},
   "source": [
    "# A dead simple markdown transformer for code cells\n",
    "\n",
    "Previous implementations used python_line_transforms to transform the code.  With that approach a lot of effort was required to make sure that any other transformers were executed in the proper order.\n",
    "\n",
    "In this experiment, the markdown transformer is baked directly in the `input_transform_manager`.\n",
    "\n",
    "    %reload_ext deathbeds.__Markdown_code_cells"
   ]
  },
  {
   "cell_type": "code",
   "execution_count": 1,
   "metadata": {},
   "outputs": [],
   "source": [
    "    from CommonMark import Parser\n",
    "    from CommonMark.render.renderer import Renderer\n",
    "    from textwrap import indent, dedent\n",
    "    from IPython.display import display, Markdown\n",
    "    from IPython.core.inputtransformer import InputTransformer\n",
    "    from importnb import Interactive\n",
    "    from collections import UserList\n",
    "    from abc import abstractmethod, ABCMeta"
   ]
  },
  {
   "cell_type": "markdown",
   "metadata": {},
   "source": [
    "* Create a custom CommonMark renderer for code only.  It maintains the lines and positions of the original source to give better error messages."
   ]
  },
  {
   "cell_type": "markdown",
   "metadata": {},
   "source": [
    "* The commonmark renderer only catches code cells\n",
    "\n",
    "    > There is an interesting discussion to be had about the role of inline cells."
   ]
  },
  {
   "cell_type": "code",
   "execution_count": 2,
   "metadata": {},
   "outputs": [],
   "source": [
    "    class CodeRenderer(Renderer):\n",
    "        def code_block(self, node, entering):\n",
    "            while len(self.buf.splitlines()) <  node.sourcepos[0][0]-1:\n",
    "                self.out(\"\\n\")\n",
    "            self.out(indent(node.literal, ' '*(\n",
    "                node.sourcepos[0][1])))\n",
    "            \n",
    "        def __call__(self, str):\n",
    "            return self.render(Parser().parse(str))\n",
    "\n",
    "    def render(str): \n",
    "        return dedent(CodeRenderer().render(Parser().parse(str)))"
   ]
  },
  {
   "cell_type": "code",
   "execution_count": 3,
   "metadata": {},
   "outputs": [],
   "source": [
    "    class CallableTransformer(InputTransformer, UserList, metaclass=ABCMeta):\n",
    "        \"\"\"Define a __call__ method define a callable transformer.\"\"\"\n",
    "        \n",
    "        push = UserList.append\n",
    "\n",
    "        def reset(self, str = \"\"):\n",
    "            while self.data: str += self.data.pop(0) + '\\n'\n",
    "            return self(str)\n",
    "        \n",
    "        @abstractmethod\n",
    "        def __call__(self, str): raise NotImplemented()\n",
    "            \n",
    "        "
   ]
  },
  {
   "cell_type": "markdown",
   "metadata": {},
   "source": [
    "* The `Literate` Callable transformer will concatenate block code in a contigious code block."
   ]
  },
  {
   "cell_type": "code",
   "execution_count": 4,
   "metadata": {},
   "outputs": [],
   "source": [
    "    class Literate(CallableTransformer):\n",
    "        def __call__(self, str):\n",
    "            if str.split('\\n', 1)[0].strip(): display(Markdown(str))\n",
    "            return render(str)"
   ]
  },
  {
   "cell_type": "markdown",
   "metadata": {},
   "source": [
    "* Append a physical line transform to the input transform manager.  This is only available in the interactive context."
   ]
  },
  {
   "cell_type": "code",
   "execution_count": 5,
   "metadata": {},
   "outputs": [],
   "source": [
    "    def load_ipython_extension(ip=None):\n",
    "        ip = ip or get_ipython()\n",
    "        if not any(isinstance(object, Literate) \n",
    "                   for object in ip.input_transformer_manager.physical_line_transforms):\n",
    "            ip.input_transformer_manager.physical_line_transforms.insert(0, Literate())\n",
    "            \n",
    "    def unload_ipython_extension(ip=None):\n",
    "        ip.input_transformer_manager.physical_line_transforms = list(\n",
    "            object for object in ip.input_transformer_manager.physical_line_transforms\n",
    "            if not isinstance(object, Literate)\n",
    "        )"
   ]
  },
  {
   "cell_type": "markdown",
   "metadata": {},
   "source": [
    "## Importing Markdown style files\n",
    "\n",
    "If documents can be composed using Markdown forward syntax then they should be importable.  The extension `.md.ipynb` will identify markdown forward notebooks.\n",
    "\n",
    "        if __name__ == '__main__':\n",
    "            with MarkdownImporter(shell=False):\n",
    "                import Untitled1 as nb"
   ]
  },
  {
   "cell_type": "code",
   "execution_count": 6,
   "metadata": {},
   "outputs": [],
   "source": [
    "    class MarkdownImporter(Interactive):\n",
    "        extensions = '.md.ipynb',\n",
    "        def format(self, str): return super().format(render(str))"
   ]
  },
  {
   "cell_type": "markdown",
   "metadata": {},
   "source": [
    "* Test the Markdown Splitter"
   ]
  },
  {
   "cell_type": "code",
   "execution_count": 7,
   "metadata": {},
   "outputs": [],
   "source": [
    "    if __name__ == '__main__':\n",
    "        with MarkdownImporter():\n",
    "            %load_ext deathbeds.__String_Node_Transformer\n",
    "            import deathbeds.__Markdown_code_cells\n",
    "            %load_ext deathbeds.__Markdown_code_cells"
   ]
  },
  {
   "cell_type": "markdown",
   "metadata": {},
   "source": [
    "## Thoughts ?\n",
    "\n",
    "> * The Markdown transformer must be a physical_line_transform because they come first; as long as the class is an inputtransformer class things will work.\n",
    "> * This transformer should work with a template transformer.\n",
    "\n"
   ]
  },
  {
   "cell_type": "code",
   "execution_count": 9,
   "metadata": {},
   "outputs": [],
   "source": [
    "    \n",
    "    if __name__ == '__main__': import disqus"
   ]
  }
 ],
 "metadata": {
  "kernelspec": {
   "display_name": "p6",
   "language": "python",
   "name": "other-env"
  },
  "language_info": {
   "codemirror_mode": {
    "name": "ipython",
    "version": 3
   },
   "file_extension": ".py",
   "mimetype": "text/x-python",
   "name": "python",
   "nbconvert_exporter": "python",
   "pygments_lexer": "ipython3",
   "version": "3.6.3"
  }
 },
 "nbformat": 4,
 "nbformat_minor": 2
}
