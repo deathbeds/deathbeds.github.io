{
 "cells": [
  {
   "cell_type": "markdown",
   "metadata": {},
   "source": [
    "# A dead simple markdown transformer for code cells\n",
    "\n",
    "Previous implementations used python_line_transforms to transform the code.  With that approach a lot of effort was required to make sure that any other transformers were executed in the proper order.\n",
    "\n",
    "In this experiment, the markdown transformer is baked directly in the `input_transform_manager`.\n",
    "\n",
    "    %reload_ext deathbeds.__Markdown_code_cells"
   ]
  },
  {
   "cell_type": "code",
   "execution_count": 1,
   "metadata": {},
   "outputs": [],
   "source": [
    "    from CommonMark import Parser\n",
    "    from CommonMark.render.renderer import Renderer\n",
    "    from textwrap import indent, dedent\n",
    "    from IPython.display import display, Markdown\n",
    "    from IPython.core.inputsplitter import IPythonInputSplitter"
   ]
  },
  {
   "cell_type": "markdown",
   "metadata": {},
   "source": [
    "* Create a custom CommonMark renderer for code only.  It maintains the lines and positions of the original source to give better error messages."
   ]
  },
  {
   "cell_type": "markdown",
   "metadata": {},
   "source": [
    "* The commonmark renderer only catches code cells\n",
    "\n",
    "    > There is an interesting discussion to be had about the role of inline cells."
   ]
  },
  {
   "cell_type": "code",
   "execution_count": 2,
   "metadata": {},
   "outputs": [],
   "source": [
    "    class CodeRenderer(Renderer):\n",
    "        def code_block(self, node, entering):\n",
    "            while len(self.buf.splitlines()) <  node.sourcepos[0][0]-1:\n",
    "                self.out(\"\\n\")\n",
    "            self.out(indent(node.literal, ' '*(\n",
    "                node.sourcepos[0][1])))\n",
    "            \n",
    "        def __call__(self, str):\n",
    "            return self.render(Parser().parse(str))\n",
    "\n",
    "    def render(str): return CodeRenderer().render(Parser().parse(str))\n",
    "\n",
    "    "
   ]
  },
  {
   "cell_type": "code",
   "execution_count": 3,
   "metadata": {},
   "outputs": [],
   "source": [
    "    class MarkdownSplitter(IPythonInputSplitter):\n",
    "        def transform_cell(self, str):\n",
    "            if str.split('\\n')[0].strip():\n",
    "                display(Markdown(str))\n",
    "            return super().transform_cell(dedent(render(str)))"
   ]
  },
  {
   "cell_type": "markdown",
   "metadata": {},
   "source": [
    "* Export the splitter as an IPython extension for reusability."
   ]
  },
  {
   "cell_type": "code",
   "execution_count": 4,
   "metadata": {},
   "outputs": [],
   "source": [
    "    def load_ipython_extension(ip=None):\n",
    "        ip = ip or get_ipython()\n",
    "        ip.input_transformer_manager = MarkdownSplitter(\n",
    "            physical_line_transforms=ip.input_transformer_manager.physical_line_transforms,\n",
    "            logical_line_transforms=ip.input_transformer_manager.logical_line_transforms,\n",
    "            python_line_transforms=ip.input_transformer_manager.python_line_transforms,\n",
    "        )"
   ]
  },
  {
   "cell_type": "markdown",
   "metadata": {},
   "source": [
    "* Test the Markdown Splitter"
   ]
  },
  {
   "cell_type": "code",
   "execution_count": 5,
   "metadata": {},
   "outputs": [],
   "source": [
    "    if __name__ == '__main__':\n",
    "        %load_ext deathbeds.__String_Node_Transformer\n",
    "        %load_ext deathbeds.__Markdown_code_cells\n",
    "        # This doesn't work if the node transformer comes afterwards because of shell=True\n",
    "        # I don't think importnb should have shell as a default import state."
   ]
  },
  {
   "cell_type": "markdown",
   "metadata": {},
   "source": [
    "# testing\n",
    "\n",
    "        \"\"\"http://nbviewer.jupyter.org\"\"\";"
   ]
  },
  {
   "cell_type": "code",
   "execution_count": 6,
   "metadata": {},
   "outputs": [
    {
     "data": {
      "text/html": [
       "<div id=\"disqus_thread\"></div>\n",
       "<script type=\"text/javascript\">\n",
       "    /* * * CONFIGURATION VARIABLES * * */\n",
       "    // Required: on line below, replace text in quotes with your forum shortname\n",
       "    var disqus_shortname = 'tonyfast';\n",
       "\n",
       "    /* * * DON'T EDIT BELOW THIS LINE * * */\n",
       "    (function() {\n",
       "        var dsq = document.createElement('script'); dsq.type = 'text/javascript'; dsq.async = true;\n",
       "        dsq.src = '//' + disqus_shortname + '.disqus.com/embed.js';\n",
       "        (document.getElementsByTagName('head')[0] || document.getElementsByTagName('body')[0]).appendChild(dsq);\n",
       "    })();\n",
       "</script>\n",
       "<noscript>Please enable JavaScript to view the <a href=\"https://disqus.com/?ref_noscript\" rel=\"nofollow\">comments powered by Disqus.</a></noscript>"
      ],
      "text/plain": [
       "<IPython.core.display.HTML object>"
      ]
     },
     "metadata": {},
     "output_type": "display_data"
    }
   ],
   "source": [
    "    \n",
    "    if __name__ == '__main__': import disqus"
   ]
  }
 ],
 "metadata": {
  "kernelspec": {
   "display_name": "Python 3",
   "language": "python",
   "name": "python3"
  },
  "language_info": {
   "codemirror_mode": {
    "name": "ipython",
    "version": 3
   },
   "file_extension": ".py",
   "mimetype": "text/x-python",
   "name": "python",
   "nbconvert_exporter": "python",
   "pygments_lexer": "ipython3",
   "version": "3.6.5"
  }
 },
 "nbformat": 4,
 "nbformat_minor": 2
}
