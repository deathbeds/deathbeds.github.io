{
 "cells": [
  {
   "cell_type": "markdown",
   "metadata": {},
   "source": [
    "# Reusing `importlib`, `nbconvert`, and `nbformat` to import notebooks"
   ]
  },
  {
   "cell_type": "code",
   "execution_count": 1,
   "metadata": {},
   "outputs": [],
   "source": [
    "    from importlib.machinery import SourceFileLoader, FileFinder\n",
    "    from importlib.util import decode_source\n",
    "    import sys, inspect\n",
    "    from nbconvert.exporters.python import PythonExporter\n",
    "    from nbformat.v4 import reads"
   ]
  },
  {
   "cell_type": "markdown",
   "metadata": {},
   "source": [
    "## Adding new loader details to an existing FileFinder"
   ]
  },
  {
   "cell_type": "code",
   "execution_count": 12,
   "metadata": {},
   "outputs": [],
   "source": [
    "    def find_finder():\n",
    "        for i, hook in enumerate(sys.path_hooks):\n",
    "            try:\n",
    "                if issubclass(inspect.getclosurevars(hook).nonlocals['cls'], FileFinder\n",
    "                             ):return i, hook\n",
    "            except: ..."
   ]
  },
  {
   "cell_type": "markdown",
   "metadata": {},
   "source": [
    "## The Notebook Source File Loader"
   ]
  },
  {
   "cell_type": "code",
   "execution_count": 13,
   "metadata": {},
   "outputs": [],
   "source": [
    "    class NotebookLoader(SourceFileLoader):\n",
    "        def source_to_code(self, data, path=None):\n",
    "            return compile(PythonExporter().from_notebook_node(\n",
    "                reads(decode_source(data))\n",
    "            )[0], path, 'exec')"
   ]
  },
  {
   "cell_type": "markdown",
   "metadata": {},
   "source": [
    "* Using the existing machinery for the SourceFileLoader means that we will created cached version of the import notebook source code.\n",
    "* Moreover, reload will work."
   ]
  },
  {
   "cell_type": "code",
   "execution_count": 14,
   "metadata": {},
   "outputs": [],
   "source": [
    "    Ø = __name__ == '__main__'"
   ]
  },
  {
   "cell_type": "code",
   "execution_count": 15,
   "metadata": {},
   "outputs": [],
   "source": [
    "    if Ø:\n",
    "        sys.path_hooks[1] = FileFinder.path_hook(\n",
    "             (NotebookLoader, ('.ipynb',)),*(\n",
    "                 object for object in inspect.getclosurevars(find_finder()[1]).nonlocals['loader_details']\n",
    "                 if not any(map('.ipynb'.__eq__, object[1]))))"
   ]
  },
  {
   "cell_type": "markdown",
   "metadata": {},
   "source": [
    "* Clear the cache or enter a debugging nightmaare."
   ]
  },
  {
   "cell_type": "code",
   "execution_count": 6,
   "metadata": {},
   "outputs": [],
   "source": [
    "    if Ø: sys.path_importer_cache.clear()"
   ]
  },
  {
   "cell_type": "markdown",
   "metadata": {},
   "source": [
    "* Check the brakes on some wonky settings."
   ]
  },
  {
   "cell_type": "code",
   "execution_count": 7,
   "metadata": {},
   "outputs": [],
   "source": [
    "    if Ø:\n",
    "        ip = get_ipython()\n",
    "        ip.ast_transformers = []"
   ]
  },
  {
   "cell_type": "code",
   "execution_count": 9,
   "metadata": {},
   "outputs": [],
   "source": [
    "    if Ø:\n",
    "        import foobar\n",
    "        assert isinstance(foobar.__loader__, NotebookLoader), \"Some other thing is loaded.\""
   ]
  },
  {
   "cell_type": "markdown",
   "metadata": {},
   "source": [
    "Show it creates a cached copy."
   ]
  },
  {
   "cell_type": "code",
   "execution_count": 9,
   "metadata": {},
   "outputs": [],
   "source": []
  },
  {
   "cell_type": "code",
   "execution_count": null,
   "metadata": {},
   "outputs": [],
   "source": []
  }
 ],
 "metadata": {
  "kernelspec": {
   "display_name": "Python 3",
   "language": "python",
   "name": "python3"
  },
  "language_info": {
   "codemirror_mode": {
    "name": "ipython",
    "version": 3
   },
   "file_extension": ".py",
   "mimetype": "text/x-python",
   "name": "python",
   "nbconvert_exporter": "python",
   "pygments_lexer": "ipython3",
   "version": "3.6.5"
  }
 },
 "nbformat": 4,
 "nbformat_minor": 2
}
