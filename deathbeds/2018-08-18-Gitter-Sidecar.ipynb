{
 "cells": [
  {
   "cell_type": "markdown",
   "metadata": {},
   "source": [
    "# [`jupyter-widgets/sidecar`](https://github.com/jupyter-widgets/jupyterlab-sidecar)\n",
    "\n",
    "`jupyter-widgets/jupyterlab-sidecar` is a really cool widget that creates a rightmost drawer in jupyter with the display underneath.\n",
    "\n",
    "![](https://user-images.githubusercontent.com/4236275/44286094-d5e01900-a235-11e8-8b95-8529f683196b.png)\n"
   ]
  },
  {
   "cell_type": "code",
   "execution_count": 1,
   "metadata": {},
   "outputs": [],
   "source": [
    "from IPython.display import display, HTML, IFrame\n",
    "from sidecar import Sidecar"
   ]
  },
  {
   "cell_type": "code",
   "execution_count": 2,
   "metadata": {},
   "outputs": [],
   "source": [
    "    def show_iframe(url):\n",
    "        sc = Sidecar(title=f\"{url} Gitter\")\n",
    "        with sc: display(IFrame(url, \"100%\", \"100%\"))"
   ]
  },
  {
   "cell_type": "code",
   "execution_count": 3,
   "metadata": {},
   "outputs": [],
   "source": [
    "    def show_gitter(name): show_iframe(f\"https://gitter.im/{name}/Lobby\")"
   ]
  },
  {
   "cell_type": "code",
   "execution_count": 3,
   "metadata": {},
   "outputs": [],
   "source": [
    "    def _widget_sidecar_demonstation(): show_gitter('atl-jugheads')"
   ]
  },
  {
   "cell_type": "markdown",
   "metadata": {},
   "source": [
    "Use the [HTML flexbox shorthand](2018-08-16-HTML-Flexbox.ipynb)  with the sidecar."
   ]
  },
  {
   "cell_type": "code",
   "execution_count": 13,
   "metadata": {},
   "outputs": [],
   "source": [
    "    def _string_node_transformer():\n",
    "        %reload_ext deathbeds.__HTML_Flexbox\n",
    "        with Sidecar():\n",
    "            \"\"\"\n",
    "        - a\n",
    "        - a\n",
    "        \"\"\""
   ]
  }
 ],
 "metadata": {
  "kernelspec": {
   "display_name": "Python 3",
   "language": "python",
   "name": "python3"
  },
  "language_info": {
   "codemirror_mode": {
    "name": "ipython",
    "version": 3
   },
   "file_extension": ".py",
   "mimetype": "text/x-python",
   "name": "python",
   "nbconvert_exporter": "python",
   "pygments_lexer": "ipython3",
   "version": "3.6.5"
  }
 },
 "nbformat": 4,
 "nbformat_minor": 2
}
