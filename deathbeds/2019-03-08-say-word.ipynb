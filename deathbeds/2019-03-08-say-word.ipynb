{
 "cells": [
  {
   "cell_type": "code",
   "execution_count": 1,
   "metadata": {},
   "outputs": [],
   "source": [
    "    import docx, importnb, contextlib, io\n",
    "    %reload_ext pidgin"
   ]
  },
  {
   "cell_type": "code",
   "execution_count": 2,
   "metadata": {},
   "outputs": [
    {
     "data": {
      "text/html": [
       "<p>What if word documents could be imported?  Modern conventions indicate code objects in mono spaced fonts.  Using \n",
       "<a href=\"https://github.com/deathbeds/importnb\"><code>importnb</code></a> and <a href=\"https://python-docx.readthedocs.io\"><code>docx</code></a>, we will import a simple <a href=\"https://docs.google.com/document/d/1P9q7tksIzacV5ogNDUXr5KVxRHCPI5_0PTGR8FKftXw/edit?usp=sharing\"><strong>Word</strong> document</a>\n",
       "created in Google Drive as a python module</p>\n"
      ],
      "text/plain": [
       "<IPython.core.display.HTML object>"
      ]
     },
     "metadata": {},
     "output_type": "display_data"
    }
   ],
   "source": [
    "What if word documents could be imported?  Modern conventions indicate code objects in mono spaced fonts.  Using \n",
    "[`importnb`][importnb-gh] and [`docx`][python-docx], we will import a simple [__Word__ document][word document]\n",
    "created in Google Drive as a python module\n",
    "\n",
    "[python-docx]: https://python-docx.readthedocs.io\n",
    "[importnb-gh]: https://github.com/deathbeds/importnb\n",
    "[word document]: https://docs.google.com/document/d/1P9q7tksIzacV5ogNDUXr5KVxRHCPI5_0PTGR8FKftXw/edit?usp=sharing"
   ]
  },
  {
   "cell_type": "code",
   "execution_count": 3,
   "metadata": {},
   "outputs": [
    {
     "data": {
      "text/html": [
       "<pre><code>def get_monospace_signifiers(doc): \n",
       "</code></pre>\n",
       "<p><code>get_monospace_signifiers</code> interates through paragraphs to <code>get_monospaced_text</code>.</p>\n",
       "<pre><code>    return list(filter(bool, map(get_monospaced_text, doc.paragraphs)))\n",
       "\n",
       "def get_monospaced_text(paragraph):\n",
       "</code></pre>\n",
       "<p><code>get_monospaced_text</code> extracts chunks of monospaced code within a paragraph.</p>\n",
       "<pre><code>    if paragraph.runs:\n",
       "        return '\\n'.join(run.text for run in paragraph.runs if run.font.name and ('mono' in run.font.name.lower()))\n",
       "</code></pre>\n"
      ],
      "text/plain": [
       "<IPython.core.display.HTML object>"
      ]
     },
     "metadata": {},
     "output_type": "display_data"
    }
   ],
   "source": [
    "    def get_monospace_signifiers(doc): \n",
    "`get_monospace_signifiers` interates through paragraphs to `get_monospaced_text`.\n",
    "        \n",
    "        return list(filter(bool, map(get_monospaced_text, doc.paragraphs)))\n",
    "\n",
    "    def get_monospaced_text(paragraph):\n",
    "`get_monospaced_text` extracts chunks of monospaced code within a paragraph.\n",
    "    \n",
    "        if paragraph.runs:\n",
    "            return '\\n'.join(run.text for run in paragraph.runs if run.font.name and ('mono' in run.font.name.lower()))"
   ]
  },
  {
   "cell_type": "code",
   "execution_count": 4,
   "metadata": {},
   "outputs": [
    {
     "data": {
      "text/html": [
       "<pre><code>class DocLoader(importnb.loader.Notebook):\n",
       "</code></pre>\n",
       "<p><code>DocLoader</code> is <code>contextlib.contextmanager</code> that modifies finders and loaders to import Word documents with\n",
       "custom <code>DocLoader.get_data</code> methods.</p>\n",
       "<pre><code>    extensions = '.docx',\n",
       "    def get_data(self, path):return '\\n'.join(get_monospace_signifiers(docx.Document(self.path)))\n",
       "    get_source = get_data\n",
       "</code></pre>\n"
      ],
      "text/plain": [
       "<IPython.core.display.HTML object>"
      ]
     },
     "metadata": {},
     "output_type": "display_data"
    }
   ],
   "source": [
    "    class DocLoader(importnb.loader.Notebook):\n",
    "`DocLoader` is `contextlib.contextmanager` that modifies finders and loaders to import Word documents with\n",
    "custom `DocLoader.get_data` methods.\n",
    "        \n",
    "        extensions = '.docx',\n",
    "        def get_data(self, path):return '\\n'.join(get_monospace_signifiers(docx.Document(self.path)))\n",
    "        get_source = get_data"
   ]
  },
  {
   "cell_type": "code",
   "execution_count": 5,
   "metadata": {},
   "outputs": [
    {
     "data": {
      "text/html": [
       "<p>If <code>DocLoader</code> works for <strong>aprogram.docx</strong> then something should be printed based on the code in our test word document.\n",
       "Specifically, we test that $42$ is printed.</p>\n",
       "<pre><code>&gt;&gt;&gt; out.getvalue()\n",
       "'42\\n'\n",
       "</code></pre>\n",
       "<pre><code>out = io.StringIO()\n",
       "with DocLoader(position=0), contextlib.redirect_stdout(out):\n",
       "    import aprogram as from_docx\n",
       "</code></pre>\n",
       "<p>The module file attribute has a docx extension.</p>\n",
       "<pre><code>&gt;&gt;&gt; from_docx.__file__\n",
       "'.../aprogram.docx'\n",
       "</code></pre>\n",
       "<p>... and our importer assigns f and foo for <code>from_docx</code>.</p>\n",
       "<pre><code>&gt;&gt;&gt; assert from_docx.f and from_docx.foo == 6\n",
       "</code></pre>\n"
      ],
      "text/plain": [
       "<IPython.core.display.HTML object>"
      ]
     },
     "metadata": {},
     "output_type": "display_data"
    }
   ],
   "source": [
    "If `DocLoader` works for __aprogram.docx__ then something should be printed based on the code in our test word document.\n",
    "Specifically, we test that $42$ is printed.\n",
    ">>> out.getvalue()\n",
    "'42\\n'\n",
    "    \n",
    "    out = io.StringIO()\n",
    "    with DocLoader(position=0), contextlib.redirect_stdout(out):\n",
    "        import aprogram as from_docx\n",
    "\n",
    "The module file attribute has a docx extension.\n",
    ">>> from_docx.__file__\n",
    "'.../aprogram.docx'\n",
    "\n",
    "... and our importer assigns f and foo for `from_docx`.\n",
    ">>> assert from_docx.f and from_docx.foo == 6"
   ]
  }
 ],
 "metadata": {
  "kernelspec": {
   "display_name": "p6",
   "language": "python",
   "name": "p6"
  },
  "language_info": {
   "codemirror_mode": {
    "name": "ipython",
    "version": 3
   },
   "file_extension": ".py",
   "mimetype": "text/x-python",
   "name": "python",
   "nbconvert_exporter": "python",
   "pygments_lexer": "ipython3",
   "version": "3.6.8"
  }
 },
 "nbformat": 4,
 "nbformat_minor": 2
}
