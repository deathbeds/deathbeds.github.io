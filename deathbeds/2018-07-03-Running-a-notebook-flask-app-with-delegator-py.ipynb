{
 "cells": [
  {
   "cell_type": "markdown",
   "metadata": {},
   "source": [
    "# Running a flask application in the notebook with [`delegator.py`](https://github.com/kennethreitz/delegator.py)"
   ]
  },
  {
   "cell_type": "code",
   "execution_count": 1,
   "metadata": {},
   "outputs": [],
   "source": [
    "    from flask import Flask\n",
    "    app = Flask(__name__)"
   ]
  },
  {
   "cell_type": "markdown",
   "metadata": {},
   "source": [
    "We can only develop these functions interactively if the decorator does not affect the function behavior."
   ]
  },
  {
   "cell_type": "code",
   "execution_count": 2,
   "metadata": {},
   "outputs": [],
   "source": [
    "    @app.route('/user/<username>')\n",
    "    def show_user_profile(username):\n",
    "        # show the user profile for that user\n",
    "        return 'User %s' % username"
   ]
  },
  {
   "cell_type": "markdown",
   "metadata": {},
   "source": [
    "The function works as expected."
   ]
  },
  {
   "cell_type": "code",
   "execution_count": 3,
   "metadata": {},
   "outputs": [],
   "source": [
    "    assert show_user_profile('test') == 'User test'"
   ]
  },
  {
   "cell_type": "markdown",
   "metadata": {},
   "source": [
    "## Run the flask web app as a web service."
   ]
  },
  {
   "cell_type": "code",
   "execution_count": 4,
   "metadata": {},
   "outputs": [],
   "source": [
    "    Ø = __name__ == '__main__'\n",
    "    Ⅎ = '__file__' in globals()"
   ]
  },
  {
   "cell_type": "code",
   "execution_count": 5,
   "metadata": {},
   "outputs": [],
   "source": [
    "    if Ø and Ⅎ:\n",
    "        app.run()\n",
    "        raise SystemExit()"
   ]
  },
  {
   "cell_type": "markdown",
   "metadata": {},
   "source": [
    "> The program will have exited if it was run as `__main__`."
   ]
  },
  {
   "cell_type": "markdown",
   "metadata": {},
   "source": [
    "## Run the flask web app interactively.\n",
    "\n",
    "Use [`delegator.py` - _Subprocesses for humans_](https://github.com/kennethreitz/delegator.py) to run this notebook as an application with [`importnb`](https://github.com/deathbeds/importnb)."
   ]
  },
  {
   "cell_type": "code",
   "execution_count": 6,
   "metadata": {},
   "outputs": [],
   "source": [
    "    import delegator\n",
    "    if Ø and not Ⅎ:\n",
    "        running = delegator.run(\n",
    "            'ipython -m importnb 2018-07-03-Running-a-notebook-flask-app-with-delegator-py.ipynb', block=False)"
   ]
  },
  {
   "cell_type": "markdown",
   "metadata": {},
   "source": [
    "### Test the connection"
   ]
  },
  {
   "cell_type": "code",
   "execution_count": 7,
   "metadata": {},
   "outputs": [],
   "source": [
    "    if Ø and not Ⅎ:\n",
    "        __import__('time').sleep(1)\n",
    "        assert __import__('requests').get(\"http://127.0.0.1:5000/user/test\").text  == 'User test'"
   ]
  },
  {
   "cell_type": "markdown",
   "metadata": {},
   "source": [
    "## Close the connection"
   ]
  },
  {
   "cell_type": "code",
   "execution_count": 8,
   "metadata": {},
   "outputs": [],
   "source": [
    "    if Ø and not Ⅎ: running.kill()"
   ]
  },
  {
   "cell_type": "markdown",
   "metadata": {},
   "source": [
    "### Test the closed connection"
   ]
  },
  {
   "cell_type": "code",
   "execution_count": null,
   "metadata": {},
   "outputs": [],
   "source": [
    "    if Ø and not Ⅎ:\n",
    "        __import__('time').sleep(.5)\n",
    "        try:\n",
    "            assert not __import__('requests').get(\"http://127.0.0.1:5000/user/test\"), \"\"\"The connection is still open.\"\"\"\n",
    "        except __import__('requests').ConnectionError: ..."
   ]
  },
  {
   "cell_type": "markdown",
   "metadata": {},
   "source": [
    "## Future Work\n",
    "\n",
    "This should work with other web frameworks like [`hug`](https://github.com/timothycrosley/hug); `django` may be a tougher ask."
   ]
  },
  {
   "cell_type": "code",
   "execution_count": 10,
   "metadata": {},
   "outputs": [
    {
     "data": {
      "text/html": [
       " <div id=\"disqus_thread\"></div>\n",
       " <script type=\"text/javascript\">\n",
       "     /* * * CONFIGURATION VARIABLES * * */\n",
       "     // Required: on line below, replace text in quotes with your forum shortname\n",
       "     var disqus_shortname = 'tonyfast';\n",
       "\n",
       "     /* * * DON'T EDIT BELOW THIS LINE * * */\n",
       "     (function() {\n",
       "         var dsq = document.createElement('script'); dsq.type = 'text/javascript'; dsq.async = true;\n",
       "         dsq.src = '//' + disqus_shortname + '.disqus.com/embed.js';\n",
       "         (document.getElementsByTagName('head')[0] || document.getElementsByTagName('body')[0]).appendChild(dsq);\n",
       "     })();\n",
       " </script>\n",
       " <noscript>Please enable JavaScript to view the <a href=\"https://disqus.com/?ref_noscript\" rel=\"nofollow\">comments powered by Disqus.</a></noscript>"
      ],
      "text/plain": [
       "<IPython.core.display.HTML object>"
      ]
     },
     "metadata": {},
     "output_type": "display_data"
    }
   ],
   "source": [
    "    if Ø: from . import disqus"
   ]
  },
  {
   "cell_type": "code",
   "execution_count": null,
   "metadata": {},
   "outputs": [],
   "source": []
  }
 ],
 "metadata": {
  "kernelspec": {
   "display_name": "p6",
   "language": "python",
   "name": "other-env"
  },
  "language_info": {
   "codemirror_mode": {
    "name": "ipython",
    "version": 3
   },
   "file_extension": ".py",
   "mimetype": "text/x-python",
   "name": "python",
   "nbconvert_exporter": "python",
   "pygments_lexer": "ipython3",
   "version": "3.6.3"
  }
 },
 "nbformat": 4,
 "nbformat_minor": 2
}
