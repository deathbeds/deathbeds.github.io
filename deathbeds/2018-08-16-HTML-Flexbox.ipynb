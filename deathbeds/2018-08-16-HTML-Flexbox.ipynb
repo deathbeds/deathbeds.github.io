{
 "cells": [
  {
   "cell_type": "markdown",
   "metadata": {},
   "source": [
    "# More control over flexbox"
   ]
  },
  {
   "cell_type": "markdown",
   "metadata": {},
   "source": [
    "The original flexbox doesn't embed trivially because of widgets.  This notebook creates the basic infrastructure to compose html representations of rich display objects in flexboxes.\n",
    "\n",
    "![](https://user-images.githubusercontent.com/4236275/44235733-8a1b6a00-a178-11e8-8d68-7ee9f5c2d4e7.png)"
   ]
  },
  {
   "cell_type": "code",
   "execution_count": 1,
   "metadata": {},
   "outputs": [],
   "source": [
    "    %reload_ext importnb\n",
    "    from IPython.display import *\n",
    "    import mimetypes\n",
    "    from graphviz import Source\n",
    "    from mistune import markdown\n",
    "    from dataclasses import dataclass"
   ]
  },
  {
   "cell_type": "markdown",
   "metadata": {},
   "source": [
    "## Functions for creating display objects."
   ]
  },
  {
   "cell_type": "code",
   "execution_count": 2,
   "metadata": {},
   "outputs": [],
   "source": [
    "    def html(type, src_=None, **kwargs): \n",
    "        kwargs['width'], kwargs['height'] = kwargs.get('width', 500), kwargs.get('height', 450)\n",
    "        return IFrame(kwargs.pop('src', src_), **kwargs)\n",
    "\n",
    "    def image(type, url_=None, **kwargs): \n",
    "        assert type.startswith('image')\n",
    "        if kwargs.get('url', url_): kwargs['url'] = kwargs.get('url', url_)\n",
    "        if 'svg' in type: return HTML(**kwargs)\n",
    "        return Image(**kwargs)   \n",
    "\n",
    "    def youtube(type, id_=None, **kwargs): \n",
    "        if kwargs.get('id', id_): kwargs['id'] = kwargs.get('id', id_)\n",
    "        return YouTubeVideo(**kwargs)\n",
    "\n",
    "    def other(type, str, **kwargs):\n",
    "        if str.split()[0] in {'graph', 'digraph'}: return HTML(Source(str, format='svg')._repr_svg_())\n",
    "        return HTML(markdown(str, escape=False))"
   ]
  },
  {
   "cell_type": "markdown",
   "metadata": {},
   "source": [
    "`object_to_display` will infer the mimetypes that must be displayed."
   ]
  },
  {
   "cell_type": "code",
   "execution_count": 3,
   "metadata": {},
   "outputs": [],
   "source": [
    "    def object_to_display(object):\n",
    "        if not isinstance(object, dict): \n",
    "            type = mimetypes.guess_type(object)[0]\n",
    "        else: type, object = next(iter(object.items()))\n",
    "        \n",
    "\n",
    "        if isinstance(object, dict): arg = None\n",
    "        else: arg, object = object, {}\n",
    "        if type:\n",
    "            if any(object in type for object in ('html', 'pdf')): return html(type, arg, **object)\n",
    "            elif 'image' in type: return image(type, arg, **object)    \n",
    "            elif ('youtube' in type) or ('youtube' in object): return youtube(type, arg, **object)        \n",
    "        return other(type, arg, **object)"
   ]
  },
  {
   "cell_type": "markdown",
   "metadata": {},
   "source": [
    "* The display objects have reprs that provide the html source information."
   ]
  },
  {
   "cell_type": "code",
   "execution_count": 4,
   "metadata": {},
   "outputs": [],
   "source": [
    "    def display_to_string(object): \n",
    "        try:\n",
    "            html = object._repr_html_()\n",
    "            if html: return object._repr_html_()\n",
    "        except: return f\"\"\"<img src=\"data:image/{object.format};base64,{getattr(object, '_repr_'+object.format+'_')()}\"/>\n",
    "        \"\"\" if isinstance(object, Image)  else \"\""
   ]
  },
  {
   "cell_type": "code",
   "execution_count": 5,
   "metadata": {},
   "outputs": [],
   "source": [
    "    class inverse(__import__('abc').ABCMeta):\n",
    "        def __invert__(cls): return cls is Column and Row or Column \n",
    "\n",
    "    @dataclass\n",
    "    class Column(metaclass=inverse):\n",
    "        content: None = None\n",
    "        \n",
    "        def _repr_html_(self, order=0): \n",
    "            if isinstance(self.content, list):\n",
    "                return self.block.format(''.join(\n",
    "                    (~type(self))(object)._repr_html_() for object in self.content))\n",
    "            if isinstance(self.content, dict):\n",
    "                order = self.content.pop('order', order)\n",
    "            return \"\"\"<div class=\"flexed-item\" style=\"order: {};\">{}</div>\"\"\".format(order, display_to_string(object_to_display(self.content)))\n",
    "        \n",
    "        def __invert__(self): return (~type(self))(**vars(self))\n",
    "    \n",
    "            \n",
    "        @property\n",
    "        def block(self): return f\"\"\"<div class=\"flexed-container flexed-{type(self).__name__.lower()}\">{\"{}\"}</div>\"\"\"\n",
    "        \n",
    "        \n",
    "    @dataclass\n",
    "    class Row(Column): ...\n",
    "        "
   ]
  },
  {
   "cell_type": "code",
   "execution_count": 6,
   "metadata": {},
   "outputs": [],
   "source": [
    "    from IPython import get_ipython"
   ]
  },
  {
   "cell_type": "code",
   "execution_count": 7,
   "metadata": {},
   "outputs": [
    {
     "data": {
      "text/html": [
       "\n",
       "<style>\n",
       ".flexed-container {display: flex; margin: 1em}\n",
       ".flexed-container.flexed-row {flex-direction: row;}\n",
       ".flexed-container.flexed-column {flex-direction: column;}\n",
       ".flexed-container iframe {min-width: 350px;}\n",
       ".flexed-item {order: 0; margin: !em}\n",
       "</style>"
      ],
      "text/plain": [
       "<IPython.core.display.HTML object>"
      ]
     },
     "metadata": {},
     "output_type": "display_data"
    }
   ],
   "source": [
    "    display(HTML(\"\"\"\n",
    "    <style>\n",
    "    .flexed-container {display: flex; margin: 1em}\n",
    "    .flexed-container.flexed-row {flex-direction: row;}\n",
    "    .flexed-container.flexed-column {flex-direction: column;}\n",
    "    .flexed-container iframe {min-width: 350px;}\n",
    "    .flexed-item {order: 0; margin: !em}\n",
    "    </style>\"\"\"))"
   ]
  },
  {
   "cell_type": "code",
   "execution_count": 8,
   "metadata": {},
   "outputs": [],
   "source": [
    "    from pytest import fixture"
   ]
  },
  {
   "cell_type": "code",
   "execution_count": 9,
   "metadata": {},
   "outputs": [
    {
     "data": {
      "text/html": [
       "<style>\n",
       ".jp-RenderedHTMLCommon pre code {\n",
       "    text-decoration: line-through wavy;\n",
       "}\n",
       ".jp-RenderedHTMLCommon pre code:hover {\n",
       "    text-decoration: none;\n",
       "    \n",
       "}\n",
       ".jp-Placeholder-content .jp-MoreHorizIcon {\n",
       "    background-size: 32px;\n",
       "}\n",
       "\n",
       "@import url(\"https://cdn.jsdelivr.net/npm/firacode@1.205.0/distr/fira_code.css\")\n",
       "\n",
       ".CodeMirror * {\n",
       "  font-family: 'Fira Code' !important; \n",
       "  font-variant-ligatures: initial !important;\n",
       "}\n",
       "\n",
       ".cm-string {\n",
       "    font-variant-ligatures: none;\n",
       "}\n",
       "</style><style>\n",
       ".jp-mod-presentationMode .jp-SideBar,\n",
       ".jp-mod-presentationMode #jp-top-panel {\n",
       "    opacity: 0.0;\n",
       "    transition: all 0.2s;\n",
       "}\n",
       ".jp-mod-presentationMode .jp-SideBar:hover,\n",
       ".jp-mod-presentationMode #jp-top-panel:hover {\n",
       "    opacity: 0.9;\n",
       "    transition: all 0.2s;\n",
       "}\n",
       "\n",
       "</style><style>\n",
       ".jp-mod-presentationMode.jp-ApplicationShell,\n",
       ".jp-mod-presentationMode .p-TabBar-content{\n",
       "    background-color: var(--jp-layout-color0);\n",
       "}\n",
       "</style><style>\n",
       ".jp-mod-presentationMode .p-DockPanel-widget,\n",
       ".jp-mod-presentationMode #jp-left-stack{\n",
       "    border-color: transparent;\n",
       "}\n",
       ".jp-mod-presentationMode .jp-Toolbar-item,\n",
       ".jp-mod-presentationMode .jp-Toolbar {\n",
       "    opacity: 0.1;\n",
       "    transition: all 0.2s;\n",
       "}\n",
       ".jp-mod-presentationMode .jp-Toolbar-item:hover,\n",
       ".jp-mod-presentationMode .jp-Toolbar:hover {\n",
       "    opacity: 0.9;\n",
       "    transition: all 0.2s;\n",
       "}\n",
       "\n",
       "</style><style>\n",
       ".jp-mod-presentationMode .jp-OutputPrompt,\n",
       ".jp-mod-presentationMode .jp-InputPrompt {\n",
       "    max-width: 2rem !important;\n",
       "    transition: all 0.2s;\n",
       "}\n",
       ".jp-mod-presentationMode .jp-Cell.jp-mod-selected .jp-OutputPrompt,\n",
       ".jp-mod-presentationMode .jp-Cell.jp-mod-selected .jp-InputPrompt,\n",
       ".jp-mod-presentationMode .jp-Cell:hover .jp-OutputPrompt,\n",
       ".jp-mod-presentationMode .jp-Cell:hover .jp-InputPrompt {\n",
       "    max-width: 10rem !important;\n",
       "    transition: all 0.2s;\n",
       "}\n",
       "\n",
       ".jp-mod-presentationMode .jp-Cell {\n",
       "    margin-bottom: 5rem;\n",
       "}\n",
       "\n",
       ".jp-mod-presentationMode hr {\n",
       "    opacity: 0.1;\n",
       "}\n",
       "</style>\n",
       "    <style>\n",
       "    .jp-TableOfContents-content h1, \n",
       "    .jp-TableOfContents-content h2 {\n",
       "        margin-bottom: var(--jp-ui-font-size0)\n",
       "    }\n",
       "    </style>\n",
       "    \n",
       "    <style>\n",
       "    .jp-mod-presentationMode {\n",
       "        --jp-content-heading-line-height: 1.25 !important;\n",
       "    }\n",
       "    </style>\n",
       "    "
      ],
      "text/plain": [
       "<IPython.core.display.HTML object>"
      ]
     },
     "metadata": {},
     "output_type": "display_data"
    }
   ],
   "source": [
    "    from deathbeds.__Flexbox_Transformer import FlexBoxTransformer as PreviousTransformer\n",
    "\n",
    "    class FlexBoxTransformer(PreviousTransformer):\n",
    "        condition = staticmethod(lambda str: str.lstrip().startswith('- ') or str.lstrip().startswith('['))\n",
    "        replacement = \"\"\"__import__('IPython').display.display(\n",
    "        __import__('importlib').import_module('deathbeds.2018-08-16-HTML-Flexbox').Row(__import__('yaml').safe_load({}))\n",
    "        )\"\"\"\n",
    "    def load_ipython_extension(ip): ip.ast_transformers.append(FlexBoxTransformer())\n",
    "    def unload_ipython_extension(ip): ip.ast_transformers = [object for object in ip.ast_transformers if isinstance(object, FlexBoxTransformer)]\n",
    "    @fixture\n",
    "    def ip(): ip = __import__('IPython').get_ipython(); load_ipython_extension(ip); yield ip; unload_ipython_extension(ip)"
   ]
  },
  {
   "cell_type": "code",
   "execution_count": 10,
   "metadata": {},
   "outputs": [],
   "source": [
    "    class example: \n",
    "        \"\"\"\n",
    "        - <img src=\"data/IMG-0762.JPG\" width=\"200\"/>\n",
    "        - - <img src=\"data/IMG-0762.JPG\" width=\"200\"/>\n",
    "          - <img src=\"data/IMG-0762.JPG\" width=\"200\"/>\n",
    "        - - Test\n",
    "          - graph {layout=circo a--b--c--a}\n",
    "          - Test\n",
    "          - <img src=\"data/IMG-0762.JPG\" width=\"200\"/>\n",
    "        - <img src=\"data/IMG-0762.JPG\" width=\"400\"/>\n",
    "        \"\"\"; \"\"\"\n",
    "        - data/IMG-0762.JPG\n",
    "        \"\"\""
   ]
  },
  {
   "cell_type": "code",
   "execution_count": 11,
   "metadata": {},
   "outputs": [
    {
     "data": {
      "text/plain": [
       "'\\n    - <img src=\"data/IMG-0762.JPG\" width=\"200\"/>\\n    - - <img src=\"data/IMG-0762.JPG\" width=\"200\"/>\\n      - <img src=\"data/IMG-0762.JPG\" width=\"200\"/>\\n    - - Test\\n      - graph {layout=circo a--b--c--a}\\n      - Test\\n      - <img src=\"data/IMG-0762.JPG\" width=\"200\"/>\\n    - <img src=\"data/IMG-0762.JPG\" width=\"400\"/>\\n    '"
      ]
     },
     "execution_count": 11,
     "metadata": {},
     "output_type": "execute_result"
    }
   ],
   "source": [
    "F\"{example.__doc__}\""
   ]
  },
  {
   "cell_type": "code",
   "execution_count": 12,
   "metadata": {},
   "outputs": [],
   "source": [
    "    def _autoflexing(ip):\n",
    "        import yaml , io\n",
    "        ip.run_cell(\"\"\"'''{}'''\"\"\".format(example.__doc__))"
   ]
  },
  {
   "cell_type": "code",
   "execution_count": null,
   "metadata": {},
   "outputs": [],
   "source": []
  },
  {
   "cell_type": "code",
   "execution_count": null,
   "metadata": {},
   "outputs": [],
   "source": []
  }
 ],
 "metadata": {
  "kernelspec": {
   "display_name": "Python 3",
   "language": "python",
   "name": "python3"
  },
  "language_info": {
   "codemirror_mode": {
    "name": "ipython",
    "version": 3
   },
   "file_extension": ".py",
   "mimetype": "text/x-python",
   "name": "python",
   "nbconvert_exporter": "python",
   "pygments_lexer": "ipython3",
   "version": "3.6.6"
  }
 },
 "nbformat": 4,
 "nbformat_minor": 2
}
