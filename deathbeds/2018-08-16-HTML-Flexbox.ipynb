{
 "cells": [
  {
   "cell_type": "markdown",
   "metadata": {},
   "source": [
    "# More control over flexbox"
   ]
  },
  {
   "cell_type": "markdown",
   "metadata": {},
   "source": [
    "The original flexbox doesn't embed trivially because of widgets.  This notebook creates the basic infrastructure to compose html representations of rich display objects in flexboxes.\n",
    "\n",
    "![](https://user-images.githubusercontent.com/4236275/44235733-8a1b6a00-a178-11e8-8d68-7ee9f5c2d4e7.png)"
   ]
  },
  {
   "cell_type": "code",
   "execution_count": null,
   "metadata": {},
   "outputs": [],
   "source": [
    "    from IPython.display import *\n",
    "    import mimetypes\n",
    "    from graphviz import Source\n",
    "    from mistune import markdown\n",
    "    from dataclasses import dataclass"
   ]
  },
  {
   "cell_type": "markdown",
   "metadata": {},
   "source": [
    "## Functions for creating display objects."
   ]
  },
  {
   "cell_type": "code",
   "execution_count": null,
   "metadata": {},
   "outputs": [],
   "source": [
    "    html_shortcuts = 'nbviewer', 'wiki'"
   ]
  },
  {
   "cell_type": "code",
   "execution_count": null,
   "metadata": {},
   "outputs": [],
   "source": [
    "    def html(type, src_=None, **kwargs): \n",
    "        kwargs['width'], kwargs['height'] = kwargs.get('width', 500), kwargs.get('height', 450)\n",
    "        return IFrame(kwargs.pop('src', src_), **kwargs)\n",
    "\n",
    "    def image(type, url_=None, **kwargs): \n",
    "        assert type.startswith('image')\n",
    "        if kwargs.get('url', url_): kwargs['url'] = kwargs.get('url', url_)\n",
    "        if 'svg' in type: return HTML(**kwargs)\n",
    "        return Image(**kwargs)   \n",
    "\n",
    "    def youtube(type, id_=None, **kwargs): \n",
    "        if kwargs.get('id', id_): kwargs['id'] = kwargs.get('id', id_)\n",
    "        return YouTubeVideo(**kwargs)\n",
    "\n",
    "    def other(type, str, **kwargs):\n",
    "        if str.split()[0] in {'graph', 'digraph'}: return HTML(Source(str, format='svg')._repr_svg_())\n",
    "        return HTML(markdown(str, escape=False))"
   ]
  },
  {
   "cell_type": "markdown",
   "metadata": {},
   "source": [
    "`object_to_display` will infer the mimetypes that must be displayed."
   ]
  },
  {
   "cell_type": "code",
   "execution_count": null,
   "metadata": {},
   "outputs": [],
   "source": [
    "    def object_to_display(object):\n",
    "        if not isinstance(object, dict): \n",
    "            type = mimetypes.guess_type(object)[0]\n",
    "            if not type: \n",
    "                for shortcut in html_shortcuts: \n",
    "                    if shortcut in object: type = 'text/html'\n",
    "\n",
    "        else: type, object = next(iter(object.items()))\n",
    "        \n",
    "\n",
    "        if isinstance(object, dict): arg = None\n",
    "        else: arg, object = object, {}\n",
    "        if type:\n",
    "            if any(object in type for object in ('html', 'pdf')): return html(type, arg, **object)\n",
    "            elif 'image' in type: return image(type, arg, **object)    \n",
    "            elif ('youtube' in type) or ('youtube' in object): return youtube(type, arg, **object)        \n",
    "        return other(type, arg, **object)"
   ]
  },
  {
   "cell_type": "markdown",
   "metadata": {},
   "source": [
    "* The display objects have reprs that provide the html source information."
   ]
  },
  {
   "cell_type": "code",
   "execution_count": null,
   "metadata": {},
   "outputs": [],
   "source": [
    "    def display_to_string(object): \n",
    "        try:\n",
    "            html = object._repr_html_()\n",
    "            if html: return object._repr_html_()\n",
    "        except: return f\"\"\"<img src=\"data:image/{object.format};base64,{getattr(object, '_repr_'+object.format+'_')()}\"/>\n",
    "        \"\"\" if isinstance(object, Image)  else \"\""
   ]
  },
  {
   "cell_type": "code",
   "execution_count": null,
   "metadata": {},
   "outputs": [],
   "source": [
    "    class inverse(__import__('abc').ABCMeta):\n",
    "        def __invert__(cls): return cls is Column and Row or Column \n",
    "\n",
    "    @dataclass\n",
    "    class Column(metaclass=inverse):\n",
    "        content: None = None\n",
    "        \n",
    "        def _repr_html_(self, order=0): \n",
    "            if isinstance(self.content, list):\n",
    "                return self.block.format(''.join(\n",
    "                    (~type(self))(object)._repr_html_() for object in self.content))\n",
    "            if isinstance(self.content, dict):\n",
    "                order = self.content.pop('order', order)\n",
    "            return \"\"\"<div class=\"flexed-item\" style=\"order: {};\">{}</div>\"\"\".format(order, display_to_string(object_to_display(self.content)))\n",
    "        \n",
    "        def __invert__(self): return (~type(self))(**vars(self))\n",
    "    \n",
    "            \n",
    "        @property\n",
    "        def block(self): return f\"\"\"<div class=\"flexed-container flexed-{type(self).__name__.lower()}\">{\"{}\"}</div>\"\"\"\n",
    "        \n",
    "        \n",
    "    @dataclass\n",
    "    class Row(Column): ...\n",
    "        "
   ]
  },
  {
   "cell_type": "code",
   "execution_count": null,
   "metadata": {},
   "outputs": [],
   "source": [
    "    from IPython import get_ipython"
   ]
  },
  {
   "cell_type": "code",
   "execution_count": null,
   "metadata": {},
   "outputs": [],
   "source": [
    "    display(HTML(\"\"\"\n",
    "    <style>\n",
    "    .flexed-container {display: flex; margin: 30px;}\n",
    "    .flexed-container.flexed-row {flex-direction: row;}\n",
    "    .flexed-container.flexed-column {flex-direction: column;}\n",
    "    .flexed-container iframe {min-width: 350px;}\n",
    "    .flexed-item {order: 0; margin: 20px;}\n",
    "    </style>\"\"\"))"
   ]
  },
  {
   "cell_type": "code",
   "execution_count": null,
   "metadata": {},
   "outputs": [],
   "source": [
    "    from pytest import fixture"
   ]
  },
  {
   "cell_type": "code",
   "execution_count": 9,
   "metadata": {},
   "outputs": [
    {
     "data": {
      "text/html": [
       "<style>\n",
       ".jp-RenderedHTMLCommon pre code {\n",
       "    opacity: 0.25;\n",
       "}\n",
       ".jp-RenderedHTMLCommon pre code:hover {\n",
       "    transition: opacity 0.2s;\n",
       "    opacity: 1;\n",
       "    \n",
       "}\n",
       ".jp-Placeholder-content .jp-MoreHorizIcon {\n",
       "    background-size: 32px;\n",
       "}\n",
       "\n",
       "@import url(\"https://cdn.jsdelivr.net/npm/firacode@1.205.0/distr/fira_code.css\")\n",
       "\n",
       ".CodeMirror * {\n",
       "  font-family: 'Fira Code' !important; \n",
       "  font-variant-ligatures: initial !important;\n",
       "}\n",
       "\n",
       ".cm-string {\n",
       "    font-variant-ligatures: none;\n",
       "}\n",
       "</style><style>\n",
       ".jp-mod-presentationMode .jp-SideBar,\n",
       ".jp-mod-presentationMode #jp-top-panel {\n",
       "    opacity: 0.0;\n",
       "    transition: all 0.2s;\n",
       "}\n",
       ".jp-mod-presentationMode .jp-SideBar:hover,\n",
       ".jp-mod-presentationMode #jp-top-panel:hover {\n",
       "    opacity: 0.9;\n",
       "    transition: all 0.2s;\n",
       "}\n",
       "\n",
       "</style><style>\n",
       ".jp-mod-presentationMode.jp-ApplicationShell,\n",
       ".jp-mod-presentationMode .p-TabBar-content{\n",
       "    background-color: var(--jp-layout-color0);\n",
       "}\n",
       "</style><style>\n",
       ".jp-mod-presentationMode .p-DockPanel-widget,\n",
       ".jp-mod-presentationMode #jp-left-stack{\n",
       "    border-color: transparent;\n",
       "}\n",
       ".jp-mod-presentationMode .jp-Toolbar-item,\n",
       ".jp-mod-presentationMode .jp-Toolbar {\n",
       "    opacity: 0.1;\n",
       "    transition: all 0.2s;\n",
       "}\n",
       ".jp-mod-presentationMode .jp-Toolbar-item:hover,\n",
       ".jp-mod-presentationMode .jp-Toolbar:hover {\n",
       "    opacity: 0.9;\n",
       "    transition: all 0.2s;\n",
       "}\n",
       "\n",
       "</style><style>\n",
       ".jp-mod-presentationMode .jp-OutputPrompt,\n",
       ".jp-mod-presentationMode .jp-InputPrompt {\n",
       "    max-width: 2rem !important;\n",
       "    transition: all 0.2s;\n",
       "}\n",
       ".jp-mod-presentationMode .jp-Cell.jp-mod-selected .jp-OutputPrompt,\n",
       ".jp-mod-presentationMode .jp-Cell.jp-mod-selected .jp-InputPrompt,\n",
       ".jp-mod-presentationMode .jp-Cell:hover .jp-OutputPrompt,\n",
       ".jp-mod-presentationMode .jp-Cell:hover .jp-InputPrompt {\n",
       "    max-width: 10rem !important;\n",
       "    transition: all 0.2s;\n",
       "}\n",
       "\n",
       ".jp-mod-presentationMode .jp-Cell {\n",
       "    margin-bottom: 5rem;\n",
       "}\n",
       "\n",
       ".jp-mod-presentationMode hr {\n",
       "    opacity: 0.1;\n",
       "}\n",
       "</style>\n",
       "    <style>\n",
       "    .jp-TableOfContents-content h1, \n",
       "    .jp-TableOfContents-content h2 {\n",
       "        margin-bottom: var(--jp-ui-font-size0)\n",
       "    }\n",
       "    </style>\n",
       "    \n",
       "    <style>\n",
       "    .jp-mod-presentationMode {\n",
       "        --jp-content-heading-line-height: 1.25 !important;\n",
       "    }\n",
       "    </style>\n",
       "    "
      ],
      "text/plain": [
       "<IPython.core.display.HTML object>"
      ]
     },
     "metadata": {},
     "output_type": "display_data"
    }
   ],
   "source": [
    "    from deathbeds.__Flexbox_Transformer import FlexBoxTransformer as PreviousTransformer\n",
    "\n",
    "    class FlexBoxTransformer(PreviousTransformer):\n",
    "        condition = staticmethod(lambda str: str.lstrip().startswith('- ') or str.lstrip().startswith('['))\n",
    "        replacement = \"\"\"__import__('IPython').display.display(\n",
    "        __import__('importlib').import_module('deathbeds.2018-08-16-HTML-Flexbox').Row(__import__('yaml').safe_load({}))\n",
    "        )\"\"\"\n",
    "    def load_ipython_extension(ip): ip.ast_transformers.append(FlexBoxTransformer())\n",
    "    def unload_ipython_extension(ip): ip.ast_transformers = [object for object in ip.ast_transformers if isinstance(object, FlexBoxTransformer)]\n",
    "    @fixture\n",
    "    def ip(): ip = __import__('IPython').get_ipython(); load_ipython_extension(ip); yield ip; unload_ipython_extension(ip)"
   ]
  },
  {
   "cell_type": "code",
   "execution_count": 26,
   "metadata": {},
   "outputs": [],
   "source": [
    "    class example: \n",
    "        \"\"\"\n",
    "        - <img src=\"data/IMG-0762.JPG\" width=\"200\"/>\n",
    "\n",
    "        - - <img src=\"data/IMG-0762.JPG\" width=\"200\"/>\n",
    "          - <img src=\"data/IMG-0762.JPG\" width=\"200\"/>\n",
    "        - - Test\n",
    "          - graph {layout=circo a--b--c--a}\n",
    "          - Test\n",
    "          - <img src=\"data/IMG-0762.JPG\" width=\"200\"/>\n",
    "        - <img src=\"data/IMG-0762.JPG\" width=\"400\"/>\n",
    "        \"\"\"; \"\"\"\n",
    "        - data/IMG-0762.JPG\n",
    "        \"\"\""
   ]
  },
  {
   "cell_type": "code",
   "execution_count": 27,
   "metadata": {},
   "outputs": [
    {
     "data": {
      "text/html": [
       "<div class=\"flexed-container flexed-row\"><div class=\"flexed-item\" style=\"order: 0;\"><p><img src=\"data/IMG-0762.JPG\" width=\"200\"/></p>\n",
       "</div><div class=\"flexed-container flexed-column\"><div class=\"flexed-item\" style=\"order: 0;\"><p><img src=\"data/IMG-0762.JPG\" width=\"200\"/></p>\n",
       "</div><div class=\"flexed-item\" style=\"order: 0;\"><p><img src=\"data/IMG-0762.JPG\" width=\"200\"/></p>\n",
       "</div></div><div class=\"flexed-container flexed-column\"><div class=\"flexed-item\" style=\"order: 0;\"><p>Test</p>\n",
       "</div><div class=\"flexed-item\" style=\"order: 0;\"><?xml version=\"1.0\" encoding=\"UTF-8\" standalone=\"no\"?>\r\n",
       "<!DOCTYPE svg PUBLIC \"-//W3C//DTD SVG 1.1//EN\"\r\n",
       " \"http://www.w3.org/Graphics/SVG/1.1/DTD/svg11.dtd\">\r\n",
       "<!-- Generated by graphviz version 2.38.0 (20140413.2041)\r\n",
       " -->\r\n",
       "<!-- Title: %3 Pages: 1 -->\r\n",
       "<svg width=\"152pt\" height=\"148pt\"\r\n",
       " viewBox=\"0.00 0.00 152.24 148.20\" xmlns=\"http://www.w3.org/2000/svg\" xmlns:xlink=\"http://www.w3.org/1999/xlink\">\r\n",
       "<g id=\"graph0\" class=\"graph\" transform=\"scale(1 1) rotate(0) translate(4 144.201)\">\r\n",
       "<title>%3</title>\r\n",
       "<polygon fill=\"white\" stroke=\"none\" points=\"-4,4 -4,-144.201 148.241,-144.201 148.241,4 -4,4\"/>\r\n",
       "<!-- a -->\r\n",
       "<g id=\"node1\" class=\"node\"><title>a</title>\r\n",
       "<ellipse fill=\"none\" stroke=\"black\" cx=\"27\" cy=\"-18\" rx=\"27\" ry=\"18\"/>\r\n",
       "<text text-anchor=\"middle\" x=\"27\" y=\"-14.3\" font-family=\"Times New Roman,serif\" font-size=\"14.00\">a</text>\r\n",
       "</g>\r\n",
       "<!-- b -->\r\n",
       "<g id=\"node2\" class=\"node\"><title>b</title>\r\n",
       "<ellipse fill=\"none\" stroke=\"black\" cx=\"27\" cy=\"-122.201\" rx=\"27\" ry=\"18\"/>\r\n",
       "<text text-anchor=\"middle\" x=\"27\" y=\"-118.501\" font-family=\"Times New Roman,serif\" font-size=\"14.00\">b</text>\r\n",
       "</g>\r\n",
       "<!-- a&#45;&#45;b -->\r\n",
       "<g id=\"edge1\" class=\"edge\"><title>a&#45;&#45;b</title>\r\n",
       "<path fill=\"none\" stroke=\"black\" d=\"M27,-36.1505C27,-55.1593 27,-84.8474 27,-103.909\"/>\r\n",
       "</g>\r\n",
       "<!-- c -->\r\n",
       "<g id=\"node3\" class=\"node\"><title>c</title>\r\n",
       "<ellipse fill=\"none\" stroke=\"black\" cx=\"117.241\" cy=\"-70.1006\" rx=\"27\" ry=\"18\"/>\r\n",
       "<text text-anchor=\"middle\" x=\"117.241\" y=\"-66.4006\" font-family=\"Times New Roman,serif\" font-size=\"14.00\">c</text>\r\n",
       "</g>\r\n",
       "<!-- b&#45;&#45;c -->\r\n",
       "<g id=\"edge2\" class=\"edge\"><title>b&#45;&#45;c</title>\r\n",
       "<path fill=\"none\" stroke=\"black\" d=\"M47.477,-110.379C62.1415,-101.912 81.8157,-90.5533 96.5325,-82.0566\"/>\r\n",
       "</g>\r\n",
       "<!-- c&#45;&#45;a -->\r\n",
       "<g id=\"edge3\" class=\"edge\"><title>c&#45;&#45;a</title>\r\n",
       "<path fill=\"none\" stroke=\"black\" d=\"M96.7638,-58.2782C82.0993,-49.8116 62.4252,-38.4527 47.7084,-29.956\"/>\r\n",
       "</g>\r\n",
       "</g>\r\n",
       "</svg>\r\n",
       "</div><div class=\"flexed-item\" style=\"order: 0;\"><p>Test</p>\n",
       "</div><div class=\"flexed-item\" style=\"order: 0;\"><p><img src=\"data/IMG-0762.JPG\" width=\"200\"/></p>\n",
       "</div></div><div class=\"flexed-item\" style=\"order: 0;\"><p><img src=\"data/IMG-0762.JPG\" width=\"400\"/></p>\n",
       "</div></div>"
      ],
      "text/plain": [
       "Row(content=['<img src=\"data/IMG-0762.JPG\" width=\"200\"/>', ['<img src=\"data/IMG-0762.JPG\" width=\"200\"/>', '<img src=\"data/IMG-0762.JPG\" width=\"200\"/>'], ['Test', 'graph {layout=circo a--b--c--a}', 'Test', '<img src=\"data/IMG-0762.JPG\" width=\"200\"/>'], '<img src=\"data/IMG-0762.JPG\" width=\"400\"/>'])"
      ]
     },
     "metadata": {},
     "output_type": "display_data"
    }
   ],
   "source": [
    "F\"{example.__doc__}\""
   ]
  },
  {
   "cell_type": "code",
   "execution_count": 10,
   "metadata": {},
   "outputs": [],
   "source": [
    "    def _autoflexing(ip):\n",
    "        import yaml , io\n",
    "        ip.run_cell(\"\"\"'''{}'''\"\"\".format(example.__doc__))"
   ]
  }
 ],
 "metadata": {
  "kernelspec": {
   "display_name": "Python 3",
   "language": "python",
   "name": "python3"
  },
  "language_info": {
   "codemirror_mode": {
    "name": "ipython",
    "version": 3
   },
   "file_extension": ".py",
   "mimetype": "text/x-python",
   "name": "python",
   "nbconvert_exporter": "python",
   "pygments_lexer": "ipython3",
   "version": "3.6.5"
  }
 },
 "nbformat": 4,
 "nbformat_minor": 2
}
