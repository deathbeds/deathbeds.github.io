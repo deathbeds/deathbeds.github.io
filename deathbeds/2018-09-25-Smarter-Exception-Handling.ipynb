{
 "cells": [
  {
   "cell_type": "markdown",
   "metadata": {},
   "source": [
    "This notebook is another 🔪 at an api to handle custom exceptions.  This one does some smart healing.  When a module name is used, but is not found then that object is imported."
   ]
  },
  {
   "cell_type": "code",
   "execution_count": 60,
   "metadata": {},
   "outputs": [],
   "source": [
    "from deathbeds.__SyntaxError_Fallbacks import fallback\n",
    "import traceback, abc, fnmatch, contextlib\n",
    "ip = get_ipython()"
   ]
  },
  {
   "cell_type": "markdown",
   "metadata": {},
   "source": [
    "`swap_exception` will temporarily permit a custom exception after it is raised."
   ]
  },
  {
   "cell_type": "code",
   "execution_count": 61,
   "metadata": {},
   "outputs": [],
   "source": [
    "@contextmanager\n",
    "def swap_exception(Exception):\n",
    "    ip.custom_exceptions = tuple(x for x in ip.custom_exceptions if not issubclass(x, Exception)); yield\n",
    "    ip.custom_exceptions += (Exception,)"
   ]
  },
  {
   "cell_type": "markdown",
   "metadata": {},
   "source": [
    "`BaseExceptions` are a stateless object oriented handling different exceptions.  Each of the\n",
    "`ip.custom_exceptions`  must be handled by a single object."
   ]
  },
  {
   "cell_type": "code",
   "execution_count": 62,
   "metadata": {},
   "outputs": [],
   "source": [
    "class BaseExceptions(abc.ABCMeta):\n",
    "    def __call__(self, ip, type, Exception, tb, **kwargs):\n",
    "        excepts = getattr(self, type.__name__, None)\n",
    "        if excepts:\n",
    "            with swap_exception(type):\n",
    "                return getattr(self, type.__name__)(ip, type, Exception, tb, **kwargs)\n",
    "            "
   ]
  },
  {
   "cell_type": "markdown",
   "metadata": {},
   "source": [
    "`Exceptions` uses `Exception` attributes names to define customized behaviors.\n",
    "\n",
    "When a `NameError` is raised we try to __import__ that name.\n",
    "When an `AttributeError` while trying to access an attrbute we __import__ that too."
   ]
  },
  {
   "cell_type": "code",
   "execution_count": 63,
   "metadata": {},
   "outputs": [],
   "source": [
    "class Exceptions(metaclass=BaseExceptions): \n",
    "    def NameError(ip, type, Exception, tb, **kwargs):\n",
    "        msg = Exception.args[0]\n",
    "        pat = \"name '*' is not defined\"\n",
    "        if fnmatch.fnmatch(msg, pat):\n",
    "            left, right = pat.split('*')\n",
    "            result = ip.run_cell(f\"import {msg[len(left):-len(right)]}\", store_history=False)\n",
    "            if not any((result.error_in_exec, result.error_before_exec)):\n",
    "                result = ip.run_cell(In[-1])\n",
    "        return traceback.format_exception_only(type, Exception)\n",
    "    \n",
    "    \n",
    "    def AttributeError(ip, type, Exception, tb, **kwargs):\n",
    "        msg = Exception.args[0]\n",
    "        pat = \"module '*' has no attribute '*'\"\n",
    "        if fnmatch.fnmatch(msg, pat):\n",
    "            left, middle, right = pat.split('*')\n",
    "            mstart = msg.index(middle)\n",
    "            mend = mstart + len(middle)\n",
    "            result = ip.run_cell(f\"import {msg[len(left):mstart]}.{msg[mend:-len(right)]}\", store_history=False)\n",
    "            if not any((result.error_in_exec, result.error_before_exec)):\n",
    "                result = ip.run_cell(In[-1])\n",
    "        return traceback.format_exception_only(type, Exception)"
   ]
  },
  {
   "cell_type": "markdown",
   "metadata": {},
   "source": [
    "`fallback` reuses our markdown transformer `Exception`."
   ]
  },
  {
   "cell_type": "code",
   "execution_count": 64,
   "metadata": {},
   "outputs": [],
   "source": [
    "Exceptions.SyntaxError = fallback"
   ]
  },
  {
   "cell_type": "markdown",
   "metadata": {},
   "source": [
    "Loading the extensions."
   ]
  },
  {
   "cell_type": "code",
   "execution_count": 65,
   "metadata": {},
   "outputs": [],
   "source": [
    "def load_ipython_extension(ip):\n",
    "    ip.set_custom_exc(\n",
    "        tuple(getattr(__builtin__, x) for x in dir(Exceptions) \n",
    "              if x not in dir(abc.ABC)), Exceptions)\n",
    "def unload_ipython_extension(ip): ip.set_custom_exc(tuple(), Exception)"
   ]
  },
  {
   "cell_type": "code",
   "execution_count": 66,
   "metadata": {},
   "outputs": [],
   "source": [
    "def test_the_extension():\n",
    "    eval(\"\"\"IPython, sklearn.preprocessing, requests, collections\"\"\")"
   ]
  }
 ],
 "metadata": {
  "kernelspec": {
   "display_name": "Python 3",
   "language": "python",
   "name": "python3"
  },
  "language_info": {
   "codemirror_mode": {
    "name": "ipython",
    "version": 3
   },
   "file_extension": ".py",
   "mimetype": "text/x-python",
   "name": "python",
   "nbconvert_exporter": "python",
   "pygments_lexer": "ipython3",
   "version": "3.6.6"
  }
 },
 "nbformat": 4,
 "nbformat_minor": 2
}
