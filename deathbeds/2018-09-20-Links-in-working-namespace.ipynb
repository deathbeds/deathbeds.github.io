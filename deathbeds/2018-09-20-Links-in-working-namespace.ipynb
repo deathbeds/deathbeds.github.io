{
 "cells": [
  {
   "cell_type": "markdown",
   "metadata": {},
   "source": [
    "## Making links more reusable\n",
    "\n",
    "Each time a string is encountered that is a link assign the link in the `globals` namespace.  The links are not valid variable names so they will be difficult to misuse.  The IPython tab completion with return the link names.\n",
    "\n",
    "    %reload_ext deathbeds.__Links_in_working_namespace"
   ]
  },
  {
   "cell_type": "code",
   "execution_count": 147,
   "metadata": {},
   "outputs": [],
   "source": [
    "import ast, IPython, CommonMark; ip = IPython.get_ipython()"
   ]
  },
  {
   "cell_type": "markdown",
   "metadata": {},
   "source": [
    "Each string that is a link will be assigned to the interactive `IPython` namespace."
   ]
  },
  {
   "cell_type": "code",
   "execution_count": 149,
   "metadata": {},
   "outputs": [],
   "source": [
    "class GlobalLinks(ast.NodeTransformer):\n",
    "    def visit_Str(self, node):\n",
    "        if 'http' in node.s:\n",
    "            for link in node.s.split('http')[1:]:\n",
    "                link = ('http'+link).split()[0].rstrip(')')\n",
    "                __import__('IPython').get_ipython().user_ns[link] = link                \n",
    "        LinkExtract().render(CommonMark.Parser().parse(node.s))\n",
    "        return node"
   ]
  },
  {
   "cell_type": "markdown",
   "metadata": {},
   "source": [
    "We can add methods that introspect the Markdown to discover deeper linking."
   ]
  },
  {
   "cell_type": "code",
   "execution_count": 150,
   "metadata": {},
   "outputs": [],
   "source": [
    "class LinkExtract(CommonMark.render.renderer.Renderer):\n",
    "    def link(self, node, entering):\n",
    "        if entering:\n",
    "            ns = __import__('IPython').get_ipython().user_ns\n",
    "            ns[node.destination] = node.destination\n",
    "            \n",
    "            if node.title:\n",
    "                ns[node.title] = node.destination"
   ]
  },
  {
   "cell_type": "markdown",
   "metadata": {},
   "source": [
    "Load the extensions."
   ]
  },
  {
   "cell_type": "code",
   "execution_count": 151,
   "metadata": {},
   "outputs": [],
   "source": [
    "def load_ipython_extension(ip):\n",
    "    ip.ast_transformers = [GlobalLinks()] + (unload_ipython_extension(ip) or ip.ast_transformers)\n",
    "    \n",
    "def unload_ipython_extension(ip):\n",
    "     ip.ast_transformers = [object for object in ip.ast_transformers if not isinstance(object, GlobalLinks)]\n",
    "\n",
    "__name__ == '__main__' and load_ipython_extension(get_ipython())"
   ]
  }
 ],
 "metadata": {
  "kernelspec": {
   "display_name": "p6",
   "language": "python",
   "name": "other-env"
  },
  "language_info": {
   "codemirror_mode": {
    "name": "ipython",
    "version": 3
   },
   "file_extension": ".py",
   "mimetype": "text/x-python",
   "name": "python",
   "nbconvert_exporter": "python",
   "pygments_lexer": "ipython3",
   "version": "3.6.3"
  }
 },
 "nbformat": 4,
 "nbformat_minor": 2
}
