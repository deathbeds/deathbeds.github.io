{
 "cells": [
  {
   "cell_type": "markdown",
   "metadata": {},
   "source": [
    "Converting raw `html` to `vdom`."
   ]
  },
  {
   "cell_type": "code",
   "execution_count": 2,
   "metadata": {},
   "outputs": [],
   "source": [
    "import html, vdom.svg, functools, inspect"
   ]
  },
  {
   "cell_type": "markdown",
   "metadata": {},
   "source": [
    "`dom` are a collection or existing `vdom` tags; if we can't find a tag then we make our won `vdom.createComponent`."
   ]
  },
  {
   "cell_type": "code",
   "execution_count": 158,
   "metadata": {},
   "outputs": [],
   "source": [
    "dom = {**vars(vdom), **vars(vdom.svg)}"
   ]
  },
  {
   "cell_type": "markdown",
   "metadata": {},
   "source": [
    "`get_tag` will return the `'tag_name'` inside of a `functools.partial`."
   ]
  },
  {
   "cell_type": "code",
   "execution_count": 159,
   "metadata": {},
   "outputs": [],
   "source": [
    "def get_tag(partial):\n",
    "    if not callable(partial): return None\n",
    "    def get_func(f): return get_func(f.func) if hasattr(f, 'func') else f\n",
    "    return inspect.getclosurevars(get_func(partial)).nonlocals['tag_name']"
   ]
  },
  {
   "cell_type": "code",
   "execution_count": 162,
   "metadata": {},
   "outputs": [],
   "source": [
    "from html.parser import HTMLParser\n",
    "\n",
    "class vdomParser(HTMLParser):\n",
    "    @property\n",
    "    def feed(self, wrapper=vdom.div):\n",
    "        setattr(self, 'buf', getattr(self, 'buf', [wrapper]))\n",
    "        return super().feed\n",
    "    \n",
    "    def flush(self, *final):\n",
    "        while self.buf: final=[self.buf.pop()(*final)]\n",
    "        return final[0]\n",
    "\n",
    "    def __call__(self, str, wrapper=vdom.div):\n",
    "        self.buf = [wrapper]\n",
    "        return self.feed(str) or self.flush()\n",
    "    \n",
    "    def handle_starttag(self, tag, attrs): \n",
    "        self.buf.append(functools.partial(dom.get(tag, vdom.create_component(tag)), **dict(attrs)))\n",
    "\n",
    "    def handle_endtag(self, tag):\n",
    "        object = self.buf.pop()\n",
    "        if not self.buf: \n",
    "            object = functools.partial(object, F\"</{tag}>\")\n",
    "        elif tag == get_tag(object): \n",
    "            object = functools.partial(self.buf.pop(), object())\n",
    "        else: \n",
    "            object = functools.partial(object, dom.get(tag, vdom.create_component(tag))())\n",
    "            \n",
    "        self.buf.append(object)         \n",
    "        \n",
    "    def handle_data(self, data):\n",
    "        if callable(self.buf[-1]):  data = functools.partial(self.buf.pop(), data)\n",
    "        self.buf.append(data)\n",
    "\n",
    "parser = vdomParser()"
   ]
  },
  {
   "cell_type": "code",
   "execution_count": 146,
   "metadata": {},
   "outputs": [],
   "source": [
    "    sample = vdom.div(\n",
    "        vdom.h1(vdom.code('vdom'), ' is sweet.'),\n",
    "        vdom.p('I don''t think there is a raw ', vdom.code('html'), ' object to ', vdom.code('vdom'), ' yet.'),\n",
    "        vdom.p('This post attempts to think about how that is possible')\n",
    "    )"
   ]
  },
  {
   "cell_type": "code",
   "execution_count": 148,
   "metadata": {},
   "outputs": [],
   "source": [
    "    def test_transform():\n",
    "        assert parser(\n",
    "            sample._repr_html_()\n",
    "        ).children[0]._repr_html_() == sample._repr_html_()\n",
    "    __name__ == '__main__'  and test_transform()"
   ]
  },
  {
   "cell_type": "code",
   "execution_count": 152,
   "metadata": {},
   "outputs": [],
   "source": [
    "    def test_others():\n",
    "        parser(\"<h1>testing</p></h1>\")"
   ]
  },
  {
   "cell_type": "code",
   "execution_count": 175,
   "metadata": {},
   "outputs": [],
   "source": [
    "    def test_graphviz(): \n",
    "        import graphviz\n",
    "        vdomParser()(graphviz.Source('graph {A}')._repr_svg_())"
   ]
  },
  {
   "cell_type": "code",
   "execution_count": 176,
   "metadata": {},
   "outputs": [
    {
     "name": "stdout",
     "output_type": "stream",
     "text": [
      "============================= test session starts =============================\n",
      "platform win32 -- Python 3.6.6, pytest-3.5.1, py-1.5.3, pluggy-0.6.0\n",
      "Matplotlib: 2.2.2\n",
      "Freetype: 2.8.1\n",
      "rootdir: C:\\Users\\deathbeds\\deathbeds.github.io\\deathbeds, inifile: tox.ini\n",
      "plugins: xonsh-0.8.1, xdist-1.22.5, testmon-0.9.12, remotedata-0.2.1, parallel-0.0.2, openfiles-0.3.0, mpl-0.9, localserver-0.4.1, forked-0.2, doctestplus-0.1.3, arraydiff-0.2, hypothesis-3.66.16, importnb-0.5.0\n",
      "collected 3 items\n",
      "\n",
      "2018-11-01-vdom-from-raw-html.ipynb ...                                  [100%]\n",
      "\n",
      "========================== 3 passed in 0.38 seconds ===========================\n"
     ]
    }
   ],
   "source": [
    "    if __name__ == '__main__':\n",
    "        !ipython -m pytest -- 2018-11-01-vdom-from-raw-html.ipynb"
   ]
  },
  {
   "cell_type": "code",
   "execution_count": null,
   "metadata": {},
   "outputs": [],
   "source": []
  }
 ],
 "metadata": {
  "kernelspec": {
   "display_name": "Python 3",
   "language": "python",
   "name": "python3"
  },
  "language_info": {
   "codemirror_mode": {
    "name": "ipython",
    "version": 3
   },
   "file_extension": ".py",
   "mimetype": "text/x-python",
   "name": "python",
   "nbconvert_exporter": "python",
   "pygments_lexer": "ipython3",
   "version": "3.6.6"
  }
 },
 "nbformat": 4,
 "nbformat_minor": 2
}
