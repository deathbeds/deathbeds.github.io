{
 "cells": [
  {
   "cell_type": "markdown",
   "metadata": {},
   "source": [
    "Converting raw `html` to `vdom`."
   ]
  },
  {
   "cell_type": "code",
   "execution_count": 2,
   "metadata": {},
   "outputs": [],
   "source": [
    "import html, vdom.svg, functools, inspect"
   ]
  },
  {
   "cell_type": "markdown",
   "metadata": {},
   "source": [
    "`dom` are a collection or existing `vdom` tags; if we can't find a tag then we make our won `vdom.createComponent`."
   ]
  },
  {
   "cell_type": "code",
   "execution_count": 3,
   "metadata": {},
   "outputs": [],
   "source": [
    "dom = {**vars(vdom.svg), **vars(vdom)}"
   ]
  },
  {
   "cell_type": "markdown",
   "metadata": {},
   "source": [
    "`get_tag` will return the `'tag_name'` inside of a `functools.partial`."
   ]
  },
  {
   "cell_type": "code",
   "execution_count": 4,
   "metadata": {},
   "outputs": [],
   "source": [
    "def get_tag(partial):\n",
    "    if not callable(partial): return None\n",
    "    def get_func(f): return get_func(f.func) if hasattr(f, 'func') else f\n",
    "    return inspect.getclosurevars(get_func(partial)).nonlocals['tag_name']"
   ]
  },
  {
   "cell_type": "code",
   "execution_count": 11,
   "metadata": {},
   "outputs": [],
   "source": [
    "from html.parser import HTMLParser\n",
    "\n",
    "class vdomParser(HTMLParser):\n",
    "    def feed(self, str, tag=None):\n",
    "        self.buf, self.final, leftover = [], [], []\n",
    "        super().feed(str)\n",
    "        while self.buf: leftover=[self.buf.pop()(*leftover)]\n",
    "        leftover and self.final.append(*leftover)    \n",
    "        if len(self.final) == 1:\n",
    "            return self.final[0]\n",
    "        return (tag or vdom.div)(*self.final)\n",
    "    \n",
    "    def handle_starttag(self, tag, attrs):\n",
    "        self.buf.append(functools.partial(dom.get(tag, vdom.create_component(tag)), **dict(attrs)))\n",
    "\n",
    "    def handle_endtag(self, tag):\n",
    "        if self.buf:\n",
    "            object = self.buf.pop()\n",
    "            if tag == get_tag(object):\n",
    "                if self.buf: \n",
    "                    self.buf[-1] = functools.partial(self.buf[-1], object())\n",
    "                else: \n",
    "                    self.final.append(object())\n",
    "            else:\n",
    "                self.buf.append(functools.partial(object, dom.get(tag, vdom.create_component(tag))()))\n",
    "        else: self.final.append(F\"</{tag}>\")\n",
    "        \n",
    "\n",
    "    def handle_data(self, data):\n",
    "        if self.buf: \n",
    "            if callable(self.buf[-1]): self.buf[-1] = functools.partial(self.buf[-1], data)\n",
    "            else: self.buf.append(data)\n",
    "        else: self.final.append(data)\n",
    "\n",
    "parser = vdomParser()"
   ]
  },
  {
   "cell_type": "code",
   "execution_count": 6,
   "metadata": {},
   "outputs": [],
   "source": [
    "    sample = vdom.div(\n",
    "        vdom.h1(vdom.code('vdom'), ' is sweet.'),\n",
    "        vdom.p('I don''t think there is a raw ', vdom.code('html'), ' object to ', vdom.code('vdom'), ' yet.'),\n",
    "        vdom.p('This post attempts to think about how that is possible')\n",
    "    )"
   ]
  },
  {
   "cell_type": "code",
   "execution_count": 7,
   "metadata": {},
   "outputs": [],
   "source": [
    "    def test_transform():\n",
    "        assert parser.feed(\n",
    "            sample._repr_html_()\n",
    "        )._repr_html_() == sample._repr_html_()"
   ]
  },
  {
   "cell_type": "code",
   "execution_count": 8,
   "metadata": {},
   "outputs": [],
   "source": [
    "    def test_others():\n",
    "        parser.feed(\"<h1>testing</p></h1>\")"
   ]
  },
  {
   "cell_type": "code",
   "execution_count": 10,
   "metadata": {},
   "outputs": [
    {
     "name": "stdout",
     "output_type": "stream",
     "text": [
      "============================= test session starts =============================\n",
      "platform win32 -- Python 3.6.6, pytest-3.5.1, py-1.5.3, pluggy-0.6.0\n",
      "Matplotlib: 2.2.2\n",
      "Freetype: 2.8.1\n",
      "rootdir: C:\\Users\\deathbeds\\deathbeds.github.io\\deathbeds, inifile: tox.ini\n",
      "plugins: xonsh-0.8.1, xdist-1.22.5, testmon-0.9.12, remotedata-0.2.1, parallel-0.0.2, openfiles-0.3.0, mpl-0.9, localserver-0.4.1, forked-0.2, doctestplus-0.1.3, arraydiff-0.2, hypothesis-3.66.16, importnb-0.5.0\n",
      "collected 2 items\n",
      "\n",
      "2018-11-01-vdom-from-raw-html.ipynb F.                                   [100%]\n",
      "\n",
      "================================== FAILURES ===================================\n",
      "_______________________________ test_transform ________________________________\n",
      "\n",
      "    def test_transform():\n",
      "        assert parser.feed(\n",
      "            sample._repr_html_()\n",
      ">       )._repr_html_() == sample._repr_html_()\n",
      "E       AssertionError\n",
      "\n",
      "2018-11-01-vdom-from-raw-html.ipynb:125: AssertionError\n",
      "===================== 1 failed, 1 passed in 0.60 seconds ======================\n",
      "---------------------------------------------------------------------------\n",
      "SystemExit                                Traceback (most recent call last)\n",
      "C:\\Anaconda3\\lib\\runpy.py in run_module(mod_name, init_globals, run_name, alter_sys)\n",
      "    203         run_name = mod_name\n",
      "    204     if alter_sys:\n",
      "--> 205         return _run_module_code(code, init_globals, run_name, mod_spec)\n",
      "    206     else:\n",
      "    207         # Leave the sys module alone\n",
      "\n",
      "C:\\Anaconda3\\lib\\runpy.py in _run_module_code(code, init_globals, mod_name, mod_spec, pkg_name, script_name)\n",
      "     94         mod_globals = temp_module.module.__dict__\n",
      "     95         _run_code(code, mod_globals, init_globals,\n",
      "---> 96                   mod_name, mod_spec, pkg_name, script_name)\n",
      "     97     # Copy the globals of the temporary module, as they\n",
      "     98     # may be cleared when the temporary module goes away\n",
      "\n",
      "C:\\Anaconda3\\lib\\runpy.py in _run_code(code, run_globals, init_globals, mod_name, mod_spec, pkg_name, script_name)\n",
      "     83                        __package__ = pkg_name,\n",
      "     84                        __spec__ = mod_spec)\n",
      "---> 85     exec(code, run_globals)\n",
      "     86     return run_globals\n",
      "     87 \n",
      "\n",
      "C:\\Anaconda3\\lib\\site-packages\\pytest.py in <module>\n",
      "     72     # we trigger the below \"else\" condition by the following import\n",
      "     73     import pytest\n",
      "---> 74     raise SystemExit(pytest.main())\n",
      "     75 else:\n",
      "     76 \n",
      "\n",
      "SystemExit: 1\n"
     ]
    },
    {
     "name": "stderr",
     "output_type": "stream",
     "text": [
      "C:\\Anaconda3\\lib\\site-packages\\IPython\\core\\interactiveshell.py:2788: UserWarning: Unknown failure executing module: <pytest>\n",
      "  warn('Unknown failure executing module: <%s>' % mod_name)\n"
     ]
    }
   ],
   "source": [
    "    if __name__ == '__main__':\n",
    "        !ipython -m pytest -- 2018-11-01-vdom-from-raw-html.ipynb"
   ]
  },
  {
   "cell_type": "code",
   "execution_count": null,
   "metadata": {},
   "outputs": [],
   "source": []
  }
 ],
 "metadata": {
  "kernelspec": {
   "display_name": "Python 3",
   "language": "python",
   "name": "python3"
  },
  "language_info": {
   "codemirror_mode": {
    "name": "ipython",
    "version": 3
   },
   "file_extension": ".py",
   "mimetype": "text/x-python",
   "name": "python",
   "nbconvert_exporter": "python",
   "pygments_lexer": "ipython3",
   "version": "3.6.6"
  }
 },
 "nbformat": 4,
 "nbformat_minor": 2
}
