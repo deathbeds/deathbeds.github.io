{
 "cells": [
  {
   "cell_type": "markdown",
   "metadata": {},
   "source": [
    "        %reload_ext deathbeds.__SyntaxError__\n",
    "        \n",
    "## Both\n",
    "\n",
    "* Are `nbformat` cells & have `metadata` _have a schema_.\n",
    "* Accept text input\n",
    "* Contain block code\n",
    "* Create rich displays\n",
    "* Are salient to the document\n",
    "\n",
    "    "
   ]
  },
  {
   "cell_type": "markdown",
   "metadata": {},
   "source": [
    "For reusability, it is important that code works.  A computational essay should promote a \n",
    "deeper entanglement between code types."
   ]
  },
  {
   "cell_type": "markdown",
   "metadata": {},
   "source": [
    "## Markdown\n",
    "\n",
    "* Rich display replaces the input cell.\n",
    "* There are no syntax errors.\n",
    "* Does not run code.\n",
    "* `#` means something \n",
    "* In command mode, `M` toggles to `Markdown` cells \n",
    "* Supplements the contents of `Code` cells.\n",
    "\n",
    "\n",
    "## Code\n",
    "\n",
    "* Rich display shows after the input cell.\n",
    "* May raise `SyntaxError` or `IndentationError` that indicate bad inputs.\n",
    "* Runs code.\n",
    "* `#` means something _un_important\n",
    "* In command mode, `Y` toggles to `Code` cells\n",
    "* Supplements the contents of `Markdown` cells."
   ]
  },
  {
   "cell_type": "code",
   "execution_count": 1,
   "metadata": {},
   "outputs": [
    {
     "data": {
      "text/html": [
       "<style>\n",
       ".jp-mod-presentationMode {\n",
       "    --jp-notebook-padding: 0;\n",
       "}\n",
       ".jp-RenderedHTMLCommon pre code {\n",
       "    opacity: 0.25;\n",
       "}\n",
       ".jp-Placeholder-content .jp-MoreHorizIcon {\n",
       "    background-size: 32px;\n",
       "}\n",
       "</style><style>\n",
       ".jp-mod-presentationMode .jp-SideBar,\n",
       ".jp-mod-presentationMode #jp-top-panel {\n",
       "    opacity: 0.0;\n",
       "    transition: all 0.2s;\n",
       "}\n",
       ".jp-mod-presentationMode .jp-SideBar:hover,\n",
       ".jp-mod-presentationMode #jp-top-panel:hover {\n",
       "    opacity: 0.9;\n",
       "    transition: all 0.2s;\n",
       "}</style><style>\n",
       ".jp-mod-presentationMode.jp-ApplicationShell,\n",
       ".jp-mod-presentationMode .p-TabBar-content{\n",
       "    background-color: var(--jp-layout-color0);\n",
       "}\n",
       "</style><style>\n",
       ".jp-mod-presentationMode .p-DockPanel-widget,\n",
       ".jp-mod-presentationMode #jp-left-stack{\n",
       "    border-color: transparent;\n",
       "}\n",
       ".jp-mod-presentationMode .jp-Toolbar-item,\n",
       ".jp-mod-presentationMode .jp-Toolbar {\n",
       "    opacity: 0.1;\n",
       "    transition: all 0.2s;\n",
       "}\n",
       ".jp-mod-presentationMode .jp-Toolbar-item:hover,\n",
       ".jp-mod-presentationMode .jp-Toolbar:hover {\n",
       "    opacity: 0.9;\n",
       "    transition: all 0.2s;\n",
       "}\n",
       "\n",
       ".jp-mod-presentationMode .jp-InputArea {\n",
       "    flex-direction: column;\n",
       "}\n",
       "\n",
       "</style><style>\n",
       ".jp-mod-presentationMode .jp-Notebook .jp-Cell .jp-InputPrompt, \n",
       ".jp-mod-presentationMode .jp-Notebook .jp-Cell .jp-OutputPrompt {\n",
       "    flex: 0 0 2rem !important;\n",
       "    opacity: 0;\n",
       "}\n",
       ".jp-mod-presentationMode .jp-Notebook .jp-Cell.jp-mod-active .jp-OutputPrompt,\n",
       ".jp-mod-presentationMode .jp-Notebook .jp-Cell.jp-mod-active .jp-OutputPrompt {\n",
       "    opacity: 0.5;\n",
       "}\n",
       ".jp-mod-presentationMode .jp-Notebook .jp-Cell .jp-InputPrompt, \n",
       ".jp-mod-presentationMode .jp-Notebook .jp-Cell .jp-OutputPrompt\n",
       "\n",
       ".jp-mod-presentationMode hr {\n",
       "    opacity: 0.1;\n",
       "}\n",
       "</style>\n",
       "    <style>\n",
       "    .jp-TableOfContents-content h1, \n",
       "    .jp-TableOfContents-content h2 {\n",
       "        margin-bottom: var(--jp-ui-font-size0);\n",
       "    }\n",
       "    </style>\n",
       "    \n",
       "    <style>\n",
       "    .jp-mod-presentationMode {\n",
       "        --jp-content-heading-line-height: 1.25 !important;\n",
       "    }\n",
       "    </style>\n",
       "    \n",
       "    <style>\n",
       "    .jp-mod-presentationMode #jp-main-status-bar {\n",
       "        opacity: 0.06;\n",
       "        transition: all 0.2s;\n",
       "    }\n",
       "    .jp-mod-presentationMode #jp-main-status-bar:hover {\n",
       "        opacity: 0.8;\n",
       "        transition: all 0.2s;\n",
       "    }\n",
       "    </style>\n",
       "    "
      ],
      "text/plain": [
       "<IPython.core.display.HTML object>"
      ]
     },
     "metadata": {},
     "output_type": "display_data"
    }
   ],
   "source": [
    "    from deathbeds.__Markdown_code_cells import CallableTransformer, CodeRenderer\n",
    "    import ast; from textwrap import dedent; import fnmatch"
   ]
  },
  {
   "cell_type": "markdown",
   "metadata": {},
   "source": [
    "## Markdown documents\n",
    "\n",
    "### Code Blocks\n",
    "\n",
    "On [2018-07-06-Markdown-code-cells.ipynb](2018-07-06-Markdown-code-cells.ipynb) we discussed making runnable Markdown code cells.  This document only consider the block code.  The current \n",
    "`CodeRenderer` we use is able to created block code for us."
   ]
  },
  {
   "cell_type": "code",
   "execution_count": 2,
   "metadata": {},
   "outputs": [],
   "source": [
    "    class InlineCodeCellMagicException(SyntaxError): ...\n",
    "    class NoMarkdownCodeException(SyntaxError):..."
   ]
  },
  {
   "cell_type": "markdown",
   "metadata": {},
   "source": [
    "# Inline code\n",
    "\n",
    "Inline code is evaluated after block code."
   ]
  },
  {
   "cell_type": "code",
   "execution_count": 3,
   "metadata": {},
   "outputs": [],
   "source": [
    "    class Register:\n",
    "        def __enter__(self): get_ipython().input_transformer_manager.physical_line_transforms = [self] + self.__exit__()\n",
    "\n",
    "        def __exit__(self, *_, **__):\n",
    "            get_ipython().input_transformer_manager.physical_line_transforms = [\n",
    "                object for object in get_ipython().input_transformer_manager.physical_line_transforms\n",
    "                if not isinstance(object, type(self))]\n",
    "            return get_ipython().input_transformer_manager.physical_line_transforms\n"
   ]
  },
  {
   "cell_type": "code",
   "execution_count": 13,
   "metadata": {},
   "outputs": [],
   "source": [
    "    class SyntaxErrorTransform(ast.NodeTransformer, CodeRenderer, CallableTransformer, Register):\n",
    "        def code(self, node, entering):  self.nodes.append(node)\n",
    "\n",
    "        def __call__(self, str):\n",
    "            self.nodes = []\n",
    "            current, lines, str = 0, str.splitlines(), CodeRenderer.__call__(self, str)\n",
    "                        \n",
    "            if str.lstrip().startswith('%%') and self.nodes: \n",
    "                raise InlineCodeCellMagicException(\"\"\"Inline code may not be mixed with cell magics.\"\"\") from Exception                \n",
    "            if lines and not (str.strip() or self.nodes): raise NoMarkdownCodeException(\n",
    "                'No code object found in the markdown.') from Exception\n",
    "\n",
    "            str = (str or '\\n').splitlines()\n",
    "            \n",
    "            while \"\"\"Increment the lines until there are enough of them.\n",
    "            \"\"\" and (len(str) < len(lines)): str.append(\"\")\n",
    "\n",
    "            for node in self.nodes:\n",
    "                for current in range(current, len(lines)):\n",
    "                    if fnmatch.fnmatch(lines[current], f\"*`{node.literal}`*\"): break\n",
    "                if str[current].endswith('\\\\'): str[current] = str[current].rstrip('\\\\') + node.literal\n",
    "                elif str[current]: str[current] += ';' + node.literal\n",
    "                else: str[current] = node.literal\n",
    "            return dedent('\\n'.join(str))"
   ]
  },
  {
   "cell_type": "code",
   "execution_count": 15,
   "metadata": {},
   "outputs": [],
   "source": [
    "    errors = SyntaxError, IndentationError"
   ]
  },
  {
   "cell_type": "markdown",
   "metadata": {},
   "source": [
    "`markdown_trap` temporarily replaces the input transformers to accept Markdown as source code when the `errors` are trigger."
   ]
  },
  {
   "cell_type": "code",
   "execution_count": 1,
   "metadata": {},
   "outputs": [],
   "source": [
    "    def markdown_trap(self, Exception, object, traceback, **dict):\n",
    "        unload_ipython_extension(self)\n",
    "        with SyntaxErrorTransform(): self.run_cell(In[-1]), load_ipython_extension(self)"
   ]
  },
  {
   "cell_type": "code",
   "execution_count": 16,
   "metadata": {},
   "outputs": [],
   "source": [
    "    def load_ipython_extension(ip): ip.set_custom_exc(errors, markdown_trap)\n",
    "    def unload_ipython_extension(ip):  ip.set_custom_exc(tuple(), None)"
   ]
  },
  {
   "cell_type": "code",
   "execution_count": 17,
   "metadata": {},
   "outputs": [],
   "source": [
    "__name__ == '__main__' and load_ipython_extension(get_ipython())"
   ]
  },
  {
   "cell_type": "markdown",
   "metadata": {},
   "source": [
    "A key to literate computing is to ease the transition be authoring human and computer readable documnets."
   ]
  },
  {
   "cell_type": "markdown",
   "metadata": {},
   "source": [
    "The `range(\\` starts at `0,\\` and ends at `10)` ."
   ]
  },
  {
   "cell_type": "markdown",
   "metadata": {},
   "source": [
    "## Advantages of literate code cells"
   ]
  },
  {
   "cell_type": "code",
   "execution_count": null,
   "metadata": {},
   "outputs": [],
   "source": []
  },
  {
   "cell_type": "code",
   "execution_count": null,
   "metadata": {},
   "outputs": [],
   "source": []
  }
 ],
 "metadata": {
  "kernelspec": {
   "display_name": "Python 3",
   "language": "python",
   "name": "python3"
  },
  "language_info": {
   "codemirror_mode": {
    "name": "ipython",
    "version": 3
   },
   "file_extension": ".py",
   "mimetype": "text/x-python",
   "name": "python",
   "nbconvert_exporter": "python",
   "pygments_lexer": "ipython3",
   "version": "3.6.6"
  }
 },
 "nbformat": 4,
 "nbformat_minor": 2
}
