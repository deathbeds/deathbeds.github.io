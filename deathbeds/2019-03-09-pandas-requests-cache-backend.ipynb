{
 "cells": [
  {
   "cell_type": "markdown",
   "metadata": {},
   "source": [
    "Patching `pandas` to use `requests_cache`."
   ]
  },
  {
   "cell_type": "code",
   "execution_count": 1,
   "metadata": {},
   "outputs": [],
   "source": [
    "    import requests, types, contextlib, requests_cache, pandas"
   ]
  },
  {
   "cell_type": "code",
   "execution_count": 2,
   "metadata": {},
   "outputs": [],
   "source": [
    "    def _urlopen(filepath_or_buffer):\n",
    "        response = requests.get(filepath_or_buffer)\n",
    "        response.compression = None\n",
    "        response.headers['Content-Encoding'] = None\n",
    "        read = lambda self: self.content\n",
    "        response.read = types.MethodType(read, response)\n",
    "        return response"
   ]
  },
  {
   "cell_type": "code",
   "execution_count": 3,
   "metadata": {},
   "outputs": [],
   "source": [
    "    @contextlib.contextmanager\n",
    "    def cache(name=None):\n",
    "        name and requests_cache.install_cache(name)\n",
    "        urlopen = pandas.io.common._urlopen\n",
    "        pandas.io.html.urlopen = pandas.io.common._urlopen = _urlopen\n",
    "        yield\n",
    "        pandas.io.html.urlopen = pandas.io.common._urlopen = urlopen\n",
    "        "
   ]
  },
  {
   "cell_type": "code",
   "execution_count": 4,
   "metadata": {},
   "outputs": [],
   "source": [
    "    !rm data.sqlite"
   ]
  },
  {
   "cell_type": "code",
   "execution_count": 5,
   "metadata": {},
   "outputs": [
    {
     "name": "stdout",
     "output_type": "stream",
     "text": [
      "CPU times: user 237 ms, sys: 43.6 ms, total: 281 ms\n",
      "Wall time: 705 ms\n"
     ]
    }
   ],
   "source": [
    "    %%time\n",
    "    df = pandas.read_json(\"http://api.github.com/repos/deathbeds/pidgin/commits?page=1\", typ=pandas.Series)\n",
    "    dfs = pandas.read_html('https://en.wikipedia.org/wiki/Thermodynamics')"
   ]
  },
  {
   "cell_type": "code",
   "execution_count": 6,
   "metadata": {},
   "outputs": [
    {
     "name": "stdout",
     "output_type": "stream",
     "text": [
      "CPU times: user 33.8 ms, sys: 8.31 ms, total: 42.1 ms\n",
      "Wall time: 228 ms\n"
     ]
    }
   ],
   "source": [
    "    %%time\n",
    "    with cache('data'):\n",
    "        df = pandas.read_json(\"http://api.github.com/repos/deathbeds/pidgin/commits?page=1\")"
   ]
  },
  {
   "cell_type": "code",
   "execution_count": 7,
   "metadata": {},
   "outputs": [
    {
     "name": "stdout",
     "output_type": "stream",
     "text": [
      "CPU times: user 44.4 ms, sys: 5.62 ms, total: 50.1 ms\n",
      "Wall time: 52.3 ms\n"
     ]
    }
   ],
   "source": [
    "    %%time\n",
    "    with cache('data'):\n",
    "        df = pandas.read_json(\"http://api.github.com/repos/deathbeds/pidgin/commits?page=1\")"
   ]
  },
  {
   "cell_type": "code",
   "execution_count": 8,
   "metadata": {},
   "outputs": [
    {
     "name": "stdout",
     "output_type": "stream",
     "text": [
      "CPU times: user 421 ms, sys: 8.41 ms, total: 429 ms\n",
      "Wall time: 578 ms\n"
     ]
    }
   ],
   "source": [
    "    %%time\n",
    "    with cache('data'):\n",
    "        dfs = pandas.read_html('https://en.wikipedia.org/wiki/Thermodynamics', flavor=None)"
   ]
  },
  {
   "cell_type": "code",
   "execution_count": 9,
   "metadata": {},
   "outputs": [
    {
     "name": "stdout",
     "output_type": "stream",
     "text": [
      "CPU times: user 403 ms, sys: 7.27 ms, total: 410 ms\n",
      "Wall time: 411 ms\n"
     ]
    }
   ],
   "source": [
    "    %%time\n",
    "    with cache('data'):\n",
    "        dfs = pandas.read_html('https://en.wikipedia.org/wiki/Thermodynamics', flavor=None)"
   ]
  },
  {
   "cell_type": "code",
   "execution_count": 10,
   "metadata": {},
   "outputs": [
    {
     "name": "stdout",
     "output_type": "stream",
     "text": [
      "CPU times: user 17.7 ms, sys: 3.06 ms, total: 20.7 ms\n",
      "Wall time: 49.4 ms\n"
     ]
    }
   ],
   "source": [
    "    %%time\n",
    "    with cache('data'):\n",
    "        dfs = pandas.read_csv('https://raw.githubusercontent.com/uiuc-cse/data-fa14/gh-pages/data/iris.csv')"
   ]
  },
  {
   "cell_type": "code",
   "execution_count": 11,
   "metadata": {},
   "outputs": [
    {
     "name": "stdout",
     "output_type": "stream",
     "text": [
      "CPU times: user 7.19 ms, sys: 1.42 ms, total: 8.61 ms\n",
      "Wall time: 9.09 ms\n"
     ]
    }
   ],
   "source": [
    "    %%time\n",
    "    with cache('data'):\n",
    "        dfs = pandas.read_csv('https://raw.githubusercontent.com/uiuc-cse/data-fa14/gh-pages/data/iris.csv')"
   ]
  }
 ],
 "metadata": {
  "kernelspec": {
   "display_name": "p6",
   "language": "python",
   "name": "p6"
  },
  "language_info": {
   "codemirror_mode": {
    "name": "ipython",
    "version": 3
   },
   "file_extension": ".py",
   "mimetype": "text/x-python",
   "name": "python",
   "nbconvert_exporter": "python",
   "pygments_lexer": "ipython3",
   "version": "3.6.8"
  }
 },
 "nbformat": 4,
 "nbformat_minor": 2
}
