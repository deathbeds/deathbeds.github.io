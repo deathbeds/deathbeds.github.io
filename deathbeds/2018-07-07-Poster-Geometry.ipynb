{
 "cells": [
  {
   "cell_type": "markdown",
   "metadata": {},
   "source": [
    "# How might we use art as input to solid modeling?"
   ]
  },
  {
   "cell_type": "markdown",
   "metadata": {},
   "source": [
    "## Back at CAD\n",
    "In a previous post, we looked at some (not so) basics of using solid modeling with `cadquery`, and got a useful widget."
   ]
  },
  {
   "cell_type": "code",
   "execution_count": 1,
   "metadata": {},
   "outputs": [
    {
     "data": {
      "text/html": [
       "<style>\n",
       ".jp-mod-presentationMode {\n",
       "    --jp-notebook-padding: 0;\n",
       "}\n",
       ".jp-RenderedHTMLCommon pre code {\n",
       "    opacity: 0.25;\n",
       "}\n",
       ".jp-Placeholder-content .jp-MoreHorizIcon {\n",
       "    background-size: 32px;\n",
       "}\n",
       "</style><style>\n",
       ".jp-mod-presentationMode .jp-SideBar,\n",
       ".jp-mod-presentationMode #jp-top-panel {\n",
       "    opacity: 0.0;\n",
       "    transition: all 0.2s;\n",
       "}\n",
       ".jp-mod-presentationMode .jp-SideBar:hover,\n",
       ".jp-mod-presentationMode #jp-top-panel:hover {\n",
       "    opacity: 0.9;\n",
       "    transition: all 0.2s;\n",
       "}</style><style>\n",
       ".jp-mod-presentationMode.jp-ApplicationShell,\n",
       ".jp-mod-presentationMode .p-TabBar-content{\n",
       "    background-color: var(--jp-layout-color0);\n",
       "}\n",
       "</style><style>\n",
       ".jp-mod-presentationMode .p-DockPanel-widget,\n",
       ".jp-mod-presentationMode #jp-left-stack{\n",
       "    border-color: transparent;\n",
       "}\n",
       ".jp-mod-presentationMode .jp-Toolbar-item,\n",
       ".jp-mod-presentationMode .jp-Toolbar {\n",
       "    opacity: 0.1;\n",
       "    transition: all 0.2s;\n",
       "}\n",
       ".jp-mod-presentationMode .jp-Toolbar-item:hover,\n",
       ".jp-mod-presentationMode .jp-Toolbar:hover {\n",
       "    opacity: 0.9;\n",
       "    transition: all 0.2s;\n",
       "}\n",
       "\n",
       ".jp-mod-presentationMode .jp-InputArea {\n",
       "    flex-direction: column;\n",
       "}\n",
       "\n",
       "</style><style>\n",
       ".jp-mod-presentationMode .jp-Notebook .jp-Cell .jp-InputPrompt, \n",
       ".jp-mod-presentationMode .jp-Notebook .jp-Cell .jp-OutputPrompt {\n",
       "    flex: 0 0 2rem !important;\n",
       "    opacity: 0;\n",
       "}\n",
       ".jp-mod-presentationMode .jp-Notebook .jp-Cell.jp-mod-active .jp-OutputPrompt,\n",
       ".jp-mod-presentationMode .jp-Notebook .jp-Cell.jp-mod-active .jp-OutputPrompt {\n",
       "    opacity: 0.5;\n",
       "}\n",
       ".jp-mod-presentationMode .jp-Notebook .jp-Cell .jp-InputPrompt, \n",
       ".jp-mod-presentationMode .jp-Notebook .jp-Cell .jp-OutputPrompt\n",
       "\n",
       ".jp-mod-presentationMode hr {\n",
       "    opacity: 0.1;\n",
       "}\n",
       "</style>\n",
       "    <style>\n",
       "    .jp-TableOfContents-content h1, \n",
       "    .jp-TableOfContents-content h2 {\n",
       "        margin-bottom: var(--jp-ui-font-size0);\n",
       "    }\n",
       "    </style>\n",
       "    \n",
       "    <style>\n",
       "    .jp-mod-presentationMode {\n",
       "        --jp-content-heading-line-height: 1.25 !important;\n",
       "    }\n",
       "    </style>\n",
       "    \n",
       "    <style>\n",
       "    .jp-mod-presentationMode #jp-main-status-bar {\n",
       "        opacity: 0.06;\n",
       "        transition: all 0.2s;\n",
       "    }\n",
       "    .jp-mod-presentationMode #jp-main-status-bar:hover {\n",
       "        opacity: 0.8;\n",
       "        transition: all 0.2s;\n",
       "    }\n",
       "    </style>\n",
       "    "
      ],
      "text/plain": [
       "<IPython.core.display.HTML object>"
      ]
     },
     "metadata": {},
     "output_type": "display_data"
    }
   ],
   "source": [
    "%reload_ext importnb\n",
    "import pandas as pd\n",
    "import cadquery as cq\n",
    "from importnb import Notebook\n",
    "from IPython.display import SVG\n",
    "from svgpathtools import real, imag, svg2paths\n",
    "from lxml import etree as et\n",
    "from deathbeds import __Revisiting_cadquery_and_ipywidgets_part_1 as CAD"
   ]
  },
  {
   "cell_type": "markdown",
   "metadata": {},
   "source": [
    "## Load up some art\n",
    "Inkscape is a powerful UI to master for all kinds of vector image work. It exports a particular dialect of SVG, which is in the XML family."
   ]
  },
  {
   "cell_type": "code",
   "execution_count": 2,
   "metadata": {},
   "outputs": [
    {
     "data": {
      "image/svg+xml": [
       "<svg height=\"8.5in\" id=\"svg8\" inkscape:version=\"0.92.3 (2405546, 2018-03-11)\" sodipodi:docname=\"drawing.svg\" version=\"1.1\" viewBox=\"0 0 279.40001 215.9\" width=\"11in\" xmlns=\"http://www.w3.org/2000/svg\" xmlns:cc=\"http://creativecommons.org/ns#\" xmlns:dc=\"http://purl.org/dc/elements/1.1/\" xmlns:inkscape=\"http://www.inkscape.org/namespaces/inkscape\" xmlns:rdf=\"http://www.w3.org/1999/02/22-rdf-syntax-ns#\" xmlns:sodipodi=\"http://sodipodi.sourceforge.net/DTD/sodipodi-0.dtd\" xmlns:svg=\"http://www.w3.org/2000/svg\">\n",
       "  <defs id=\"defs2\"/>\n",
       "  <sodipodi:namedview bordercolor=\"#666666\" borderopacity=\"1.0\" id=\"base\" inkscape:current-layer=\"layer1\" inkscape:cx=\"438.20382\" inkscape:cy=\"376.05312\" inkscape:document-units=\"in\" inkscape:pageopacity=\"0.0\" inkscape:pageshadow=\"2\" inkscape:window-height=\"1671\" inkscape:window-maximized=\"1\" inkscape:window-width=\"3200\" inkscape:window-x=\"0\" inkscape:window-y=\"55\" inkscape:zoom=\"1.224125\" pagecolor=\"#ffffff\" showgrid=\"false\" units=\"in\"/>\n",
       "  <metadata id=\"metadata5\">\n",
       "    <rdf:RDF>\n",
       "      <cc:Work rdf:about=\"\">\n",
       "        <dc:format>image/svg+xml</dc:format>\n",
       "        <dc:type rdf:resource=\"http://purl.org/dc/dcmitype/StillImage\"/>\n",
       "        <dc:title/>\n",
       "      </cc:Work>\n",
       "    </rdf:RDF>\n",
       "  </metadata>\n",
       "  <g id=\"layer1\" inkscape:groupmode=\"layer\" inkscape:label=\"Layer 1\" transform=\"translate(0,-81.099997)\">\n",
       "    <g id=\"g830\" transform=\"translate(-11.381489,-1.3852211)\">\n",
       "      <path d=\"m 26.145092,205.9855 q -0.877195,0 -1.475282,-0.59808 -0.598088,-0.59809 -0.598088,-1.47529 v -26.99367 q 0,-0.91707 0.598088,-1.47528 0.598087,-0.59809 1.475282,-0.59809 h 7.21692 q 4.505592,0 8.014371,1.99362 3.508779,1.99363 5.462531,5.54228 1.953752,3.50878 1.953752,8.01437 0,4.50559 -1.953752,8.05424 -1.953752,3.54866 -5.462531,5.54228 -3.508779,1.99362 -8.014371,1.99362 z m 7.21692,-3.66826 q 3.309417,0 5.901129,-1.51516 2.631584,-1.51515 4.066994,-4.22648 1.475282,-2.75121 1.475282,-6.18024 0,-3.42903 -1.475282,-6.14036 -1.43541,-2.71133 -4.066994,-4.22649 -2.591712,-1.51515 -5.901129,-1.51515 h -5.143551 v 23.80388 z\" id=\"path859\" inkscape:connector-curvature=\"0\" style=\"font-style:normal;font-variant:normal;font-weight:bold;font-stretch:normal;font-size:39.87248993px;line-height:44.30245209px;font-family:Comfortaa;-inkscape-font-specification:'Comfortaa, Bold';font-variant-ligatures:normal;font-variant-caps:normal;font-variant-numeric:normal;font-feature-settings:normal;text-align:center;letter-spacing:0px;word-spacing:0px;writing-mode:lr-tb;text-anchor:middle;fill:#000000;fill-opacity:1;stroke:none;stroke-width:0.26458335px;stroke-linecap:butt;stroke-linejoin:miter;stroke-opacity:1\"/>\n",
       "      <path d=\"m 57.37335,205.9855 q -0.877195,0 -1.475282,-0.59808 -0.598088,-0.59809 -0.598088,-1.47529 v -26.99367 q 0,-0.91707 0.598088,-1.47528 0.598087,-0.59809 1.475282,-0.59809 h 18.022365 q 0.917068,0 1.475282,0.55821 0.558215,0.51835 0.558215,1.39554 0,0.83732 -0.558215,1.35567 -0.558214,0.51834 -1.475282,0.51834 H 59.446719 v 9.68901 h 11.443405 q 0.877195,0 1.43541,0.55822 0.598087,0.51834 0.598087,1.35566 0,0.83733 -0.598087,1.39554 -0.558215,0.51834 -1.43541,0.51834 H 59.446719 v 9.96813 h 15.948996 q 0.917068,0 1.475282,0.51834 0.558215,0.51834 0.558215,1.35566 0,0.8772 -0.558215,1.43541 -0.558214,0.51834 -1.475282,0.51834 z\" id=\"path861\" inkscape:connector-curvature=\"0\" style=\"font-style:normal;font-variant:normal;font-weight:bold;font-stretch:normal;font-size:39.87248993px;line-height:44.30245209px;font-family:Comfortaa;-inkscape-font-specification:'Comfortaa, Bold';font-variant-ligatures:normal;font-variant-caps:normal;font-variant-numeric:normal;font-feature-settings:normal;text-align:center;letter-spacing:0px;word-spacing:0px;writing-mode:lr-tb;text-anchor:middle;fill:#000000;fill-opacity:1;stroke:none;stroke-width:0.26458335px;stroke-linecap:butt;stroke-linejoin:miter;stroke-opacity:1\"/>\n",
       "      <path d=\"m 106.46511,203.07481 q 0.19936,0.51834 0.19936,0.8772 0,0.83732 -0.59809,1.43541 -0.59809,0.59808 -1.47528,0.59808 -0.59809,0 -1.1563,-0.31898 -0.51835,-0.35885 -0.75758,-0.95694 l -2.23286,-5.58214 H 86.130136 l -2.272732,5.58214 q -0.279108,0.59809 -0.79745,0.95694 -0.518343,0.31898 -1.11643,0.31898 -0.877195,0 -1.475282,-0.59808 -0.558215,-0.63796 -0.558215,-1.47529 0,-0.39872 0.199363,-0.91706 l 11.204169,-26.75444 q 0.598088,-1.39554 1.953752,-1.39554 1.43541,0 1.953752,1.39554 z M 87.525673,195.6984 h 11.523149 l -5.701766,-14.1946 z\" id=\"path863\" inkscape:connector-curvature=\"0\" style=\"font-style:normal;font-variant:normal;font-weight:bold;font-stretch:normal;font-size:39.87248993px;line-height:44.30245209px;font-family:Comfortaa;-inkscape-font-specification:'Comfortaa, Bold';font-variant-ligatures:normal;font-variant-caps:normal;font-variant-numeric:normal;font-feature-settings:normal;text-align:center;letter-spacing:0px;word-spacing:0px;writing-mode:lr-tb;text-anchor:middle;fill:#000000;fill-opacity:1;stroke:none;stroke-width:0.26458335px;stroke-linecap:butt;stroke-linejoin:miter;stroke-opacity:1\"/>\n",
       "      <path d=\"m 127.8785,174.84509 q 0.83732,0 1.35567,0.55821 0.55821,0.51835 0.55821,1.35567 0,0.83732 -0.55821,1.39554 -0.51835,0.51834 -1.35567,0.51834 h -8.57258 v 25.23928 q 0,0.8772 -0.59809,1.47529 -0.59809,0.59808 -1.47528,0.59808 -0.8772,0 -1.47529,-0.59808 -0.59808,-0.59809 -0.59808,-1.47529 v -25.23928 h -8.61246 q -0.83732,0 -1.39554,-0.51834 -0.51834,-0.55822 -0.51834,-1.39554 0,-0.83732 0.51834,-1.35567 0.55822,-0.55821 1.39554,-0.55821 z\" id=\"path865\" inkscape:connector-curvature=\"0\" style=\"font-style:normal;font-variant:normal;font-weight:bold;font-stretch:normal;font-size:39.87248993px;line-height:44.30245209px;font-family:Comfortaa;-inkscape-font-specification:'Comfortaa, Bold';font-variant-ligatures:normal;font-variant-caps:normal;font-variant-numeric:normal;font-feature-settings:normal;text-align:center;letter-spacing:0px;word-spacing:0px;writing-mode:lr-tb;text-anchor:middle;fill:#000000;fill-opacity:1;stroke:none;stroke-width:0.26458335px;stroke-linecap:butt;stroke-linejoin:miter;stroke-opacity:1\"/>\n",
       "      <path d=\"m 136.41745,205.9855 q -0.8772,0 -1.47529,-0.59808 -0.59808,-0.59809 -0.59808,-1.47529 v -26.99367 q 0,-0.91707 0.59808,-1.47528 0.59809,-0.59809 1.47529,-0.59809 0.91706,0 1.47528,0.59809 0.59809,0.55821 0.59809,1.47528 v 11.4434 h 18.50083 v -11.4434 q 0,-0.91707 0.59809,-1.47528 0.59809,-0.59809 1.47528,-0.59809 0.87719,0 1.43541,0.59809 0.59809,0.55821 0.59809,1.47528 v 26.99367 q 0,0.91707 -0.59809,1.51516 -0.55822,0.55821 -1.43541,0.55821 -0.87719,0 -1.47528,-0.59808 -0.59809,-0.59809 -0.59809,-1.47529 v -11.882 h -18.50083 v 11.882 q 0,0.8772 -0.59809,1.47529 -0.55822,0.59808 -1.47528,0.59808 z\" id=\"path867\" inkscape:connector-curvature=\"0\" style=\"font-style:normal;font-variant:normal;font-weight:bold;font-stretch:normal;font-size:39.87248993px;line-height:44.30245209px;font-family:Comfortaa;-inkscape-font-specification:'Comfortaa, Bold';font-variant-ligatures:normal;font-variant-caps:normal;font-variant-numeric:normal;font-feature-settings:normal;text-align:center;letter-spacing:0px;word-spacing:0px;writing-mode:lr-tb;text-anchor:middle;fill:#000000;fill-opacity:1;stroke:none;stroke-width:0.26458335px;stroke-linecap:butt;stroke-linejoin:miter;stroke-opacity:1\"/>\n",
       "      <path d=\"m 171.15013,205.9855 q -0.8772,0 -1.47529,-0.59808 -0.59808,-0.59809 -0.59808,-1.47529 v -26.99367 q 0,-0.91707 0.59808,-1.47528 0.59809,-0.59809 1.47529,-0.59809 h 9.52952 q 2.67146,0 4.74483,1.07656 2.07337,1.03668 3.22967,2.95056 1.19617,1.87401 1.19617,4.26636 0,1.95375 -1.07655,3.50878 -1.03669,1.55502 -2.87082,2.51196 2.71133,0.63796 4.26635,2.55184 1.55503,1.91388 1.55503,4.86445 0,2.71133 -1.31579,4.86444 -1.27592,2.15311 -3.6284,3.34929 -2.3126,1.19617 -5.26317,1.19617 z m 9.52952,-18.34134 q 2.35248,0 3.74802,-1.1563 1.43541,-1.15631 1.43541,-3.34929 0,-2.19299 -1.43541,-3.30942 -1.39554,-1.1563 -3.74802,-1.1563 h -7.45615 v 8.97131 z m 0.83732,14.51359 q 2.79108,0 4.5056,-1.43541 1.71451,-1.47529 1.71451,-4.14674 0,-2.4721 -1.71451,-3.78789 -1.67465,-1.31579 -4.5056,-1.31579 h -8.29347 v 10.68583 z\" id=\"path869\" inkscape:connector-curvature=\"0\" style=\"font-style:normal;font-variant:normal;font-weight:bold;font-stretch:normal;font-size:39.87248993px;line-height:44.30245209px;font-family:Comfortaa;-inkscape-font-specification:'Comfortaa, Bold';font-variant-ligatures:normal;font-variant-caps:normal;font-variant-numeric:normal;font-feature-settings:normal;text-align:center;letter-spacing:0px;word-spacing:0px;writing-mode:lr-tb;text-anchor:middle;fill:#000000;fill-opacity:1;stroke:none;stroke-width:0.26458335px;stroke-linecap:butt;stroke-linejoin:miter;stroke-opacity:1\"/>\n",
       "      <path d=\"m 199.96423,205.9855 q -0.8772,0 -1.47528,-0.59808 -0.59809,-0.59809 -0.59809,-1.47529 v -26.99367 q 0,-0.91707 0.59809,-1.47528 0.59808,-0.59809 1.47528,-0.59809 h 18.02236 q 0.91707,0 1.47529,0.55821 0.55821,0.51835 0.55821,1.39554 0,0.83732 -0.55821,1.35567 -0.55822,0.51834 -1.47529,0.51834 H 202.0376 v 9.68901 h 11.4434 q 0.8772,0 1.43541,0.55822 0.59809,0.51834 0.59809,1.35566 0,0.83733 -0.59809,1.39554 -0.55821,0.51834 -1.43541,0.51834 h -11.4434 v 9.96813 h 15.94899 q 0.91707,0 1.47529,0.51834 0.55821,0.51834 0.55821,1.35566 0,0.8772 -0.55821,1.43541 -0.55822,0.51834 -1.47529,0.51834 z\" id=\"path871\" inkscape:connector-curvature=\"0\" style=\"font-style:normal;font-variant:normal;font-weight:bold;font-stretch:normal;font-size:39.87248993px;line-height:44.30245209px;font-family:Comfortaa;-inkscape-font-specification:'Comfortaa, Bold';font-variant-ligatures:normal;font-variant-caps:normal;font-variant-numeric:normal;font-feature-settings:normal;text-align:center;letter-spacing:0px;word-spacing:0px;writing-mode:lr-tb;text-anchor:middle;fill:#000000;fill-opacity:1;stroke:none;stroke-width:0.26458335px;stroke-linecap:butt;stroke-linejoin:miter;stroke-opacity:1\"/>\n",
       "      <path d=\"m 227.84382,205.9855 q -0.87719,0 -1.47528,-0.59808 -0.59809,-0.59809 -0.59809,-1.47529 v -26.99367 q 0,-0.91707 0.59809,-1.47528 0.59809,-0.59809 1.47528,-0.59809 h 7.21692 q 4.50559,0 8.01437,1.99362 3.50878,1.99363 5.46253,5.54228 1.95376,3.50878 1.95376,8.01437 0,4.50559 -1.95376,8.05424 -1.95375,3.54866 -5.46253,5.54228 -3.50878,1.99362 -8.01437,1.99362 z m 7.21692,-3.66826 q 3.30942,0 5.90113,-1.51516 2.63159,-1.51515 4.067,-4.22648 1.47528,-2.75121 1.47528,-6.18024 0,-3.42903 -1.47528,-6.14036 -1.43541,-2.71133 -4.067,-4.22649 -2.59171,-1.51515 -5.90113,-1.51515 h -5.14355 v 23.80388 z\" id=\"path873\" inkscape:connector-curvature=\"0\" style=\"font-style:normal;font-variant:normal;font-weight:bold;font-stretch:normal;font-size:39.87248993px;line-height:44.30245209px;font-family:Comfortaa;-inkscape-font-specification:'Comfortaa, Bold';font-variant-ligatures:normal;font-variant-caps:normal;font-variant-numeric:normal;font-feature-settings:normal;text-align:center;letter-spacing:0px;word-spacing:0px;writing-mode:lr-tb;text-anchor:middle;fill:#000000;fill-opacity:1;stroke:none;stroke-width:0.26458335px;stroke-linecap:butt;stroke-linejoin:miter;stroke-opacity:1\"/>\n",
       "      <path d=\"m 266.88709,206.38423 q -3.86764,0 -7.05743,-1.75439 -3.14993,-1.75439 -4.34611,-4.58534 -0.19936,-0.47847 -0.19936,-0.79745 0,-0.59808 0.4386,-1.03668 0.4386,-0.47847 1.19617,-0.63796 0.11962,-0.0399 0.39873,-0.0399 0.63796,0 1.19617,0.39872 0.59809,0.35885 0.8772,0.99681 0.7177,1.55503 2.83095,2.63159 2.11324,1.07655 4.66508,1.07655 2.99043,0 5.0638,-1.35566 2.07337,-1.39554 2.07337,-3.78789 0,-2.27273 -1.75439,-3.86763 -1.75439,-1.63477 -5.34291,-1.99362 -4.94419,-0.47847 -7.77514,-2.87082 -2.83094,-2.43222 -2.83094,-6.06062 0,-2.55184 1.43541,-4.38597 1.47528,-1.87401 3.98725,-2.83095 2.55183,-0.99681 5.70176,-0.99681 3.42904,0 5.78151,1.39553 2.35248,1.39554 3.98725,3.98725 0.47847,0.75758 0.47847,1.43541 0,0.8772 -0.79745,1.43541 -0.4386,0.27911 -1.03668,0.27911 -0.59809,0 -1.11643,-0.27911 -0.51835,-0.31898 -0.79745,-0.83732 -1.07656,-1.79426 -2.71133,-2.71133 -1.5949,-0.95694 -4.067,-0.95694 -3.03031,0 -4.90431,1.19618 -1.87401,1.1563 -1.87401,3.38916 0,2.07337 1.67465,3.4689 1.67464,1.39554 5.98087,1.83414 4.7847,0.47847 7.41628,2.91069 2.63159,2.39235 2.63159,6.33973 0,2.87082 -1.55503,4.94419 -1.55503,2.03349 -4.14674,3.07018 -2.55184,0.99681 -5.5024,0.99681 z\" id=\"path875\" inkscape:connector-curvature=\"0\" style=\"font-style:normal;font-variant:normal;font-weight:bold;font-stretch:normal;font-size:39.87248993px;line-height:44.30245209px;font-family:Comfortaa;-inkscape-font-specification:'Comfortaa, Bold';font-variant-ligatures:normal;font-variant-caps:normal;font-variant-numeric:normal;font-feature-settings:normal;text-align:center;letter-spacing:0px;word-spacing:0px;writing-mode:lr-tb;text-anchor:middle;fill:#000000;fill-opacity:1;stroke:none;stroke-width:0.26458335px;stroke-linecap:butt;stroke-linejoin:miter;stroke-opacity:1\"/>\n",
       "    </g>\n",
       "  </g>\n",
       "</svg>"
      ],
      "text/plain": [
       "<IPython.core.display.SVG object>"
      ]
     },
     "metadata": {},
     "output_type": "display_data"
    }
   ],
   "source": [
    "if __name__ == \"__main__\":\n",
    "    SVG_PATH = \"data/drawing.svg\"\n",
    "    HEIGHT = 0.05\n",
    "    display(SVG(SVG_PATH))"
   ]
  },
  {
   "cell_type": "markdown",
   "metadata": {},
   "source": [
    "## Just a little XML\n",
    "We don't want to spend too much time here, but there's some good metadata in the `<svg>` tag itself, which is the `root` of the XML tree."
   ]
  },
  {
   "cell_type": "code",
   "execution_count": 3,
   "metadata": {},
   "outputs": [
    {
     "data": {
      "text/plain": [
       "{'width': '11in', 'height': '8.5in', 'viewBox': '0 0 279.40001 215.9', 'version': '1.1', 'id': 'svg8', '{http://www.inkscape.org/namespaces/inkscape}version': '0.92.3 (2405546, 2018-03-11)', '{http://sodipodi.sourceforge.net/DTD/sodipodi-0.dtd}docname': 'drawing.svg'}"
      ]
     },
     "metadata": {},
     "output_type": "display_data"
    }
   ],
   "source": [
    "if __name__ == \"__main__\":\n",
    "    tree = et.parse(SVG_PATH)\n",
    "    display(tree.getroot().attrib)"
   ]
  },
  {
   "cell_type": "markdown",
   "metadata": {},
   "source": [
    "The `viewbox` is the dimensions in... _something_. But it's the something everything else is defined in. There is more work to be done here looking at the `width` and `height` attributes, and what might be able to parse them into `cadquery`-native units."
   ]
  },
  {
   "cell_type": "code",
   "execution_count": 4,
   "metadata": {},
   "outputs": [],
   "source": [
    "def get_dimensions_from_xml(tree):\n",
    "    viewbox = tree.xpath(\"@viewBox\")\n",
    "    if viewbox:\n",
    "        return list(map(float, tree.xpath(\"@viewBox\")[0].split(\" \")))[2:]\n",
    "    return list(map(float, [tree.xpath(\"@width\")[0], tree.xpath(\"@height\")[0]]))"
   ]
  },
  {
   "cell_type": "markdown",
   "metadata": {},
   "source": [
    "Recall the `cadquery.Workplane`, the base API for `cadquery`. We looked at its high-level functions, like `box` and `toSvg` for making, well, boxes and SVGs."
   ]
  },
  {
   "cell_type": "code",
   "execution_count": 5,
   "metadata": {},
   "outputs": [
    {
     "data": {
      "image/svg+xml": [
       "<svg height=\"240.0\" width=\"800.0\" xmlns=\"http://www.w3.org/2000/svg\" xmlns:svg=\"http://www.w3.org/2000/svg\">\n",
       "    <g fill=\"none\" stroke-width=\"1.2786999032863726\" transform=\"scale(0.78204432285473, -0.78204432285473)   translate(387.60525652151716,-140.65698936150096)\">\n",
       "       <!-- hidden lines -->\n",
       "       <g fill=\"none\" stroke=\"rgb(160, 160, 160)\" stroke-dasharray=\"1.2786999032863726,1.2786999032863726\">\n",
       "\t\t\t<path d=\" M 131.849 -96.3077 L 131.865 -96.3173 \"/>\n",
       "\t\t\t<path d=\" M 131.849 -96.3077 L 131.849 115.083 \"/>\n",
       "\t\t\t<path d=\" M -131.865 -115.073 L 131.849 -96.3077 \"/>\n",
       "\n",
       "       </g>\n",
       "\n",
       "       <!-- solid lines -->\n",
       "       <g fill=\"none\" stroke=\"rgb(0, 0, 0)\">\n",
       "\t\t\t<path d=\" M -131.865 -115.073 L -131.849 -115.083 \"/>\n",
       "\t\t\t<path d=\" M -131.849 -115.083 L -131.849 96.3077 \"/>\n",
       "\t\t\t<path d=\" M -131.865 96.3173 L -131.849 96.3077 \"/>\n",
       "\t\t\t<path d=\" M -131.865 -115.073 L -131.865 96.3173 \"/>\n",
       "\t\t\t<path d=\" M 131.865 -96.3173 L 131.865 115.073 \"/>\n",
       "\t\t\t<path d=\" M 131.849 115.083 L 131.865 115.073 \"/>\n",
       "\t\t\t<path d=\" M -131.849 -115.083 L 131.865 -96.3173 \"/>\n",
       "\t\t\t<path d=\" M -131.865 96.3173 L 131.849 115.083 \"/>\n",
       "\t\t\t<path d=\" M -131.849 96.3077 L 131.865 115.073 \"/>\n",
       "\n",
       "       </g>\n",
       "    </g>\n",
       "</svg>"
      ],
      "text/plain": [
       "<IPython.core.display.SVG object>"
      ]
     },
     "metadata": {},
     "output_type": "display_data"
    }
   ],
   "source": [
    "if __name__ == \"__main__\":\n",
    "    stage = cq.Workplane(\"XY\").box(*get_dimensions_from_xml(tree) + [HEIGHT])\n",
    "    display(SVG(stage.toSvg()))"
   ]
  },
  {
   "cell_type": "markdown",
   "metadata": {},
   "source": [
    "We can have an interactive look at the contents:"
   ]
  },
  {
   "cell_type": "code",
   "execution_count": 6,
   "metadata": {},
   "outputs": [
    {
     "data": {
      "application/vnd.jupyter.widget-view+json": {
       "model_id": "81ec493c5c18405db42fa7aedbf2fdc7",
       "version_major": 2,
       "version_minor": 0
      },
      "text/plain": [
       "THREECAD(children=(Renderer(camera=PerspectiveCamera(position=(30.0, 30.0, 30.0), quaternion=(0.0, 0.0, 0.0, 1…"
      ]
     },
     "metadata": {},
     "output_type": "display_data"
    }
   ],
   "source": [
    "with Notebook():\n",
    "    import __06__Revisiting_cadquery_and_ipywidgets__2 as CAD2\n",
    "if __name__ == \"__main__\":\n",
    "    cad = CAD2.THREECAD()\n",
    "    display(cad)"
   ]
  },
  {
   "cell_type": "markdown",
   "metadata": {},
   "source": [
    "Nothing much there, yet! Let's put our stage in."
   ]
  },
  {
   "cell_type": "code",
   "execution_count": 7,
   "metadata": {},
   "outputs": [
    {
     "data": {
      "application/vnd.jupyter.widget-view+json": {
       "model_id": "81ec493c5c18405db42fa7aedbf2fdc7",
       "version_major": 2,
       "version_minor": 0
      },
      "text/plain": [
       "THREECAD(children=(Renderer(camera=PerspectiveCamera(position=(30.0, 30.0, 30.0), quaternion=(0.0, 0.0, 0.0, 1…"
      ]
     },
     "metadata": {},
     "output_type": "display_data"
    }
   ],
   "source": [
    "if __name__ == \"__main__\":\n",
    "    display(cad)\n",
    "    cad.part = stage"
   ]
  },
  {
   "cell_type": "markdown",
   "metadata": {},
   "source": [
    "Oooh, that's pretty bad. I can't even tell what I'm looking at. Maybe we can fix the camera angle to be more comfortable."
   ]
  },
  {
   "cell_type": "markdown",
   "metadata": {},
   "source": [
    "## Just a Little Math\n",
    "This is the golden ratio:\n",
    "$$ \\varphi ={\\frac {1+{\\sqrt {5}}}{2}}=1.6180339887\\ldots . $$\n",
    "It (and its inverse) are useful numbers when laying things out."
   ]
  },
  {
   "cell_type": "code",
   "execution_count": 8,
   "metadata": {},
   "outputs": [
    {
     "data": {
      "text/plain": [
       "0.6180339887498948"
      ]
     },
     "execution_count": 8,
     "metadata": {},
     "output_type": "execute_result"
    }
   ],
   "source": [
    "ϕ = (1 + pd.np.sqrt(5)) / 2\n",
    "1 / ϕ"
   ]
  },
  {
   "cell_type": "markdown",
   "metadata": {},
   "source": [
    "Let's use this to make a jaunty camera angle that scales well to whatever we might throw at it."
   ]
  },
  {
   "cell_type": "code",
   "execution_count": 9,
   "metadata": {},
   "outputs": [],
   "source": [
    "def look_at_part(cad):\n",
    "    bb = cad.part.findSolid().BoundingBox()\n",
    "    cad.renderer.width = 800\n",
    "    cad.renderer.height = cad.renderer.width / ϕ \n",
    "    cad.camera.aspect = ϕ\n",
    "    cad.camera.position = [bb.xmax / ϕ, bb.ymax / ϕ, bb.DiagonalLength / ϕ]\n",
    "    cad.camera.zoom = ϕ / 2 \n",
    "    cad.camera.lookAt(bb.center.toTuple())\n",
    "    cad.renderer.render(cad.scene, cad.camera)"
   ]
  },
  {
   "cell_type": "code",
   "execution_count": 10,
   "metadata": {},
   "outputs": [
    {
     "data": {
      "application/vnd.jupyter.widget-view+json": {
       "model_id": "81ec493c5c18405db42fa7aedbf2fdc7",
       "version_major": 2,
       "version_minor": 0
      },
      "text/plain": [
       "THREECAD(children=(Renderer(camera=PerspectiveCamera(aspect=1.618033988749895, position=(86.33935131853025, 66…"
      ]
     },
     "metadata": {},
     "output_type": "display_data"
    }
   ],
   "source": [
    "if __name__ == \"__main__\":\n",
    "    look_at_part(cad)\n",
    "    display(cad)"
   ]
  },
  {
   "cell_type": "markdown",
   "metadata": {},
   "source": [
    "## Not better\n",
    "Right, we actually want to put something on the board. While `cadquery` and `svg` both support complex lines, `svg2paths` makes it easy to do a sampling along the `points` of each path so we can easily control the level of detail."
   ]
  },
  {
   "cell_type": "code",
   "execution_count": 11,
   "metadata": {},
   "outputs": [],
   "source": [
    "def get_coordinates_from_svg_paths(svg_file, max_points=100, offset_x=-150.0, offset_y=200.0):\n",
    "    paths, attributes = svg2paths(svg_file)\n",
    "    all_points = []\n",
    "    step = 1 / max_points\n",
    "    samples = pd.np.arange(0, 1 + step, step)\n",
    "\n",
    "    for letter in paths:\n",
    "        for subpath in letter.continuous_subpaths():\n",
    "            points = list(map(subpath.point, samples))\n",
    "            all_points.append([[real(p) + offset_x, -imag(p) + offset_y] for p in points])\n",
    "    return all_points"
   ]
  },
  {
   "cell_type": "markdown",
   "metadata": {},
   "source": [
    "Then, with each path, we'll want to `extrude` it."
   ]
  },
  {
   "cell_type": "code",
   "execution_count": 12,
   "metadata": {},
   "outputs": [],
   "source": [
    "def extrude_path(part, points, depth=1):\n",
    "    wire = part.moveTo(*points[0])\n",
    "    for point in points[1:]:\n",
    "        wire = wire.lineTo(*point)\n",
    "    wire = wire.close().wire()\n",
    "    wire.extrude(depth)\n",
    "    return wire"
   ]
  },
  {
   "cell_type": "markdown",
   "metadata": {},
   "source": [
    "## Right, so actually building something from a drawing\n",
    "Let's make a reusable function for extruding some points from a face. In the future, we could look at `cut`."
   ]
  },
  {
   "cell_type": "code",
   "execution_count": 13,
   "metadata": {},
   "outputs": [],
   "source": [
    "def make_a_poster_from_an_svg(svg, cad=None, stage=None, callback=None, height=1):\n",
    "    tree = et.parse(svg)\n",
    "\n",
    "    if cad is None:\n",
    "        cad = CAD2.THREECAD()\n",
    "        display(cad)\n",
    "\n",
    "    if stage is None:\n",
    "        dimensions = get_dimensions_from_xml(tree)\n",
    "        stage = cq.Workplane(\"XY\").box(*dimensions, height)\n",
    "    \n",
    "    cad.part = stage\n",
    "\n",
    "    if callback is None:\n",
    "        def _callback(path, i):\n",
    "            cad.part = extrude_path(stage, path, i + 5)\n",
    "\n",
    "        callback = _callback\n",
    "    \n",
    "    paths = get_coordinates_from_svg_paths(svg)\n",
    "    for i, path in enumerate(paths):\n",
    "        callback(path, i)\n",
    "    return cad"
   ]
  },
  {
   "cell_type": "code",
   "execution_count": 14,
   "metadata": {},
   "outputs": [
    {
     "data": {
      "application/vnd.jupyter.widget-view+json": {
       "model_id": "81ec493c5c18405db42fa7aedbf2fdc7",
       "version_major": 2,
       "version_minor": 0
      },
      "text/plain": [
       "THREECAD(children=(Renderer(camera=PerspectiveCamera(aspect=1.618033988749895, position=(86.33935131853025, 66…"
      ]
     },
     "metadata": {},
     "output_type": "display_data"
    }
   ],
   "source": [
    "if __name__ == \"__main__\":\n",
    "    display(cad)\n",
    "    stage = make_a_poster_from_an_svg(SVG_PATH, cad=cad).part"
   ]
  },
  {
   "cell_type": "markdown",
   "metadata": {},
   "source": [
    "## Do a little dance\n",
    "The tesselation gets pretty expensive with fine meshes and lots of geometry actions. But the rendering performance is still snappy enough to support decent animation."
   ]
  },
  {
   "cell_type": "code",
   "execution_count": 15,
   "metadata": {},
   "outputs": [],
   "source": [
    "if __name__ == \"__main__\":\n",
    "    for i in range(300):\n",
    "        cad.mesh.rotateY(0.025)\n",
    "        __import__(\"time\").sleep(1 / 32)"
   ]
  },
  {
   "cell_type": "markdown",
   "metadata": {},
   "source": [
    "## More?\n",
    "The resulting geometry is still mutable, so we can pass it right back in to the poster maker."
   ]
  },
  {
   "cell_type": "code",
   "execution_count": 17,
   "metadata": {},
   "outputs": [],
   "source": [
    "if __name__ == \"__main__\":\n",
    "    def _callback(path, i):\n",
    "        cad.part = extrude_path(stage, path, (i * i) + 5)\n",
    "        look_at_part(cad)\n",
    "        \n",
    "    make_a_poster_from_an_svg(\"./data/jupyter-logo.svg\", cad=cad, stage=stage, callback=_callback)"
   ]
  },
  {
   "cell_type": "markdown",
   "metadata": {},
   "source": [
    "## Future Explorations\n",
    "- [ ] What else does `svgpathtools` hold that would be cool?\n",
    "- [ ] What about watching a live-updated Inkscape SVG file?\n",
    "- [ ] What about looking at path colors/gradients, edges, and alternate topologies to get more interesting effects?\n",
    "- [ ] So can you 3D print from the notebook yet?"
   ]
  }
 ],
 "metadata": {
  "kernelspec": {
   "display_name": "Python 3",
   "language": "python",
   "name": "python3"
  },
  "language_info": {
   "codemirror_mode": {
    "name": "ipython",
    "version": 3
   },
   "file_extension": ".py",
   "mimetype": "text/x-python",
   "name": "python",
   "nbconvert_exporter": "python",
   "pygments_lexer": "ipython3",
   "version": "3.6.6"
  }
 },
 "nbformat": 4,
 "nbformat_minor": 2
}
