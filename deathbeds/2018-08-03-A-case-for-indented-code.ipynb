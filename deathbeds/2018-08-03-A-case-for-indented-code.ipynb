{
 "cells": [
  {
   "cell_type": "markdown",
   "metadata": {},
   "source": [
    "# A Case for Indenting Code in the notebooks\n",
    "\n",
    "The notebook has [a few cell types](https://ipython.org/ipython-doc/3/notebook/nbformat.html#cell-types):\n",
    "\n",
    "1. Markdown\n",
    "2. Code \n",
    "3. Raw\n",
    "\n",
    "Markdown cells and code cells are the most commonly used cell types in the notebook; raw cells less so.  Considering markdown and code cells only, an author has a binary choice to either __render__ or __execute__ code, respectively.  Another interpretation would ask \"is the code on or off?\"\n",
    "\n",
    "This discussion makes the case for using indented code cells as we commonly do at [deathbeds](https://github.com/deathbeds/deathbeds.github.io).  Indenting code cells can improve the interactive computing process while copy, pasting, and duplicaitng cells.\n",
    "\n",
    "> Also, indenting code cells is reminiscent of [literate coffeescript](http://www.coffeescriptlove.com/2013/02/literate-coffeescript.html) which `deathbeds` has always appreciated."
   ]
  },
  {
   "cell_type": "markdown",
   "metadata": {},
   "source": [
    "## Parity between code and markdown\n",
    "\n",
    "A code cell with beginning with an indent is valid code."
   ]
  },
  {
   "cell_type": "code",
   "execution_count": 4,
   "metadata": {},
   "outputs": [
    {
     "data": {
      "text/plain": [
       "'this is valid code'"
      ]
     },
     "execution_count": 4,
     "metadata": {},
     "output_type": "execute_result"
    }
   ],
   "source": [
    "    \"this is valid code\""
   ]
  },
  {
   "cell_type": "markdown",
   "metadata": {},
   "source": [
    "If the code cell were converted to a markdown cell then it would render as the block code shown below."
   ]
  },
  {
   "cell_type": "markdown",
   "metadata": {},
   "source": [
    "    \"this is valid code\""
   ]
  },
  {
   "cell_type": "markdown",
   "metadata": {},
   "source": [
    "However, if the indent were ignored the code rendered as markdown would become shown as paragraph element that is hard to read as a code object."
   ]
  },
  {
   "cell_type": "markdown",
   "metadata": {},
   "source": [
    "\"this is valid code\""
   ]
  },
  {
   "cell_type": "markdown",
   "metadata": {},
   "source": [
    "## Wrap up\n",
    "\n",
    "It doesn't hurt to indent code cells.  So we will consistently attempt to do that."
   ]
  }
 ],
 "metadata": {
  "kernelspec": {
   "display_name": "Python 3",
   "language": "python",
   "name": "python3"
  },
  "language_info": {
   "codemirror_mode": {
    "name": "ipython",
    "version": 3
   },
   "file_extension": ".py",
   "mimetype": "text/x-python",
   "name": "python",
   "nbconvert_exporter": "python",
   "pygments_lexer": "ipython3",
   "version": "3.6.5"
  }
 },
 "nbformat": 4,
 "nbformat_minor": 2
}
