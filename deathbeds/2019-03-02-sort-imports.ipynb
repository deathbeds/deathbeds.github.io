{
 "cells": [
  {
   "cell_type": "markdown",
   "metadata": {},
   "source": [
    "`isort` as a utility for `IPython`"
   ]
  },
  {
   "cell_type": "code",
   "execution_count": 1,
   "metadata": {},
   "outputs": [],
   "source": [
    "    import isort.main, IPython"
   ]
  },
  {
   "cell_type": "markdown",
   "metadata": {},
   "source": [
    "The `ISort` magic"
   ]
  },
  {
   "cell_type": "code",
   "execution_count": 2,
   "metadata": {},
   "outputs": [],
   "source": [
    "    @IPython.core.magics.magics_class\n",
    "    class ISort(IPython.core.magics.Magics):\n",
    "        @IPython.core.magic.cell_magic\n",
    "        def isort(self, line, cell):\n",
    "            self.shell.set_next_input(isort.SortImports(file_contents=cell, **isort.main.parse_args(line.split())).output, replace=True)"
   ]
  },
  {
   "cell_type": "markdown",
   "metadata": {},
   "source": [
    "Register the `ISort` magic."
   ]
  },
  {
   "cell_type": "code",
   "execution_count": 3,
   "metadata": {},
   "outputs": [],
   "source": [
    "    def load_ipython_extension(shell): shell.register_magics(ISort)\n",
    "    if __name__ == '__main__':\n",
    "        load_ipython_extension(get_ipython())"
   ]
  },
  {
   "cell_type": "markdown",
   "metadata": {},
   "source": [
    "Create a configuration file for `isort` to access"
   ]
  },
  {
   "cell_type": "code",
   "execution_count": 4,
   "metadata": {},
   "outputs": [
    {
     "name": "stdout",
     "output_type": "stream",
     "text": [
      "Writing .isort.cfg\n"
     ]
    }
   ],
   "source": [
    "    %%file .isort.cfg\n",
    "    [settings]\n",
    "    import_heading_stdlib=Standard Library"
   ]
  },
  {
   "cell_type": "markdown",
   "metadata": {},
   "source": [
    "Run `isort` without arguments and replace the sorted imports."
   ]
  },
  {
   "cell_type": "code",
   "execution_count": 5,
   "metadata": {},
   "outputs": [],
   "source": [
    "    %%isort\n",
    "    import os\n",
    "    import sys\n",
    "    import IPython\n",
    "    from foo import (AAAAAA, BBBBBB, XCCCCCCC)"
   ]
  },
  {
   "cell_type": "markdown",
   "metadata": {},
   "source": [
    "Run `isort` with arguments and replace imports."
   ]
  },
  {
   "cell_type": "code",
   "execution_count": 7,
   "metadata": {},
   "outputs": [],
   "source": [
    "    %%isort line_length=100 multi_line_output=1\n",
    "    import os\n",
    "    import sys\n",
    "    import IPython\n",
    "    from foo import (AAAAAA, BBBBBB, XCCCCCCC)"
   ]
  },
  {
   "cell_type": "code",
   "execution_count": null,
   "metadata": {},
   "outputs": [],
   "source": []
  }
 ],
 "metadata": {
  "kernelspec": {
   "display_name": "Python 3",
   "language": "python",
   "name": "python3"
  },
  "language_info": {
   "codemirror_mode": {
    "name": "ipython",
    "version": 3
   },
   "file_extension": ".py",
   "mimetype": "text/x-python",
   "name": "python",
   "nbconvert_exporter": "python",
   "pygments_lexer": "ipython3",
   "version": "3.6.8"
  }
 },
 "nbformat": 4,
 "nbformat_minor": 2
}
