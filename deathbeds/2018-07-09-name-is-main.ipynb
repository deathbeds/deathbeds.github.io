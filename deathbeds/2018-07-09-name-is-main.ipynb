{
 "cells": [
  {
   "cell_type": "markdown",
   "metadata": {},
   "source": [
    "# `__name__ == '__main__'`  is important\n",
    "\n",
    "In most Python applications, [`__name__ == '__main__'`](https://docs.python.org/3/library/__main__.html) indicates a running python program.  In an interactive notebook, it means you are doing the business."
   ]
  },
  {
   "cell_type": "markdown",
   "metadata": {},
   "source": [
    "Often our post will contain syntax like..."
   ]
  },
  {
   "cell_type": "code",
   "execution_count": 2,
   "metadata": {},
   "outputs": [],
   "source": [
    "    Ø = __name__ == '__main__'"
   ]
  },
  {
   "cell_type": "markdown",
   "metadata": {},
   "source": [
    "Now Ø can be used to decide if a notebook is being imported or executed interactively.  If Ø is `False`, then an author can assume that the notebook is being imported.  When a notebook is imported we can also assume that a file object is available."
   ]
  },
  {
   "cell_type": "markdown",
   "metadata": {},
   "source": [
    "## Applications\n",
    "\n",
    "The main condition is important is situations like interactive testing or running command line applications."
   ]
  },
  {
   "cell_type": "markdown",
   "metadata": {},
   "source": [
    "### Testing\n",
    "\n",
    "A common use case of the main condition is to interactively test notebooks.  For example, abiding by the pytest condition we can validate that a notebook as a module have the `__file__` attribute and the correct extension."
   ]
  },
  {
   "cell_type": "code",
   "execution_count": 3,
   "metadata": {},
   "outputs": [],
   "source": [
    "    def test_importing():\n",
    "        import deathbeds.__name_is_main\n",
    "        assert deathbeds.__name_is_main.__file__.endswith('.ipynb')"
   ]
  },
  {
   "cell_type": "markdown",
   "metadata": {},
   "source": [
    "In the `__main__` context, the `__file__` attribute will be unavailable.  We test this with doctest using the reserved [`__test__`](https://docs.python.org/3/library/doctest.html#which-docstrings-are-examined) attribute."
   ]
  },
  {
   "cell_type": "code",
   "execution_count": 4,
   "metadata": {},
   "outputs": [],
   "source": [
    "    __test__ = {\n",
    "       'import':\"\"\"\n",
    "    >>> assert not hasattr(__import__('__main__'), '__file__')\n",
    "    \"\"\"}"
   ]
  },
  {
   "cell_type": "code",
   "execution_count": 5,
   "metadata": {},
   "outputs": [
    {
     "name": "stdout",
     "output_type": "stream",
     "text": [
      "============================= test session starts =============================\n",
      "platform win32 -- Python 3.6.5, pytest-3.5.1, py-1.5.3, pluggy-0.6.0\n",
      "rootdir: C:\\Users\\deathbeds\\deathbeds.github.io, inifile:\n",
      "plugins: remotedata-0.2.1, openfiles-0.3.0, doctestplus-0.1.3, arraydiff-0.2, importnb-0.3.2\n",
      "collected 1 item\n",
      "\n",
      "2018-07-09-name-is-main.ipynb .                                          [100%]\n",
      "\n",
      "========================== 1 passed in 0.24 seconds ===========================\n",
      "TestResults(failed=0, attempted=1)\n"
     ]
    }
   ],
   "source": [
    "    if Ø:\n",
    "        __import__('pytest').main(\"2018-07-09-name-is-main.ipynb\".split())\n",
    "        print(__import__('doctest').testmod())"
   ]
  },
  {
   "cell_type": "markdown",
   "metadata": {},
   "source": [
    "## Design Considerations\n",
    "\n",
    "There is no specific reason for the choice of the Ø character except that it is not commonly written by an author.  It is a pretty glyph is the best reason we can provide.  Perhaps we will choose another character in the future."
   ]
  },
  {
   "cell_type": "code",
   "execution_count": 6,
   "metadata": {},
   "outputs": [
    {
     "data": {
      "text/html": [
       "<div id=\"disqus_thread\"></div>\n",
       "<script type=\"text/javascript\">\n",
       "    /* * * CONFIGURATION VARIABLES * * */\n",
       "    // Required: on line below, replace text in quotes with your forum shortname\n",
       "    var disqus_shortname = 'tonyfast';\n",
       "\n",
       "    /* * * DON'T EDIT BELOW THIS LINE * * */\n",
       "    (function() {\n",
       "        var dsq = document.createElement('script'); dsq.type = 'text/javascript'; dsq.async = true;\n",
       "        dsq.src = '//' + disqus_shortname + '.disqus.com/embed.js';\n",
       "        (document.getElementsByTagName('head')[0] || document.getElementsByTagName('body')[0]).appendChild(dsq);\n",
       "    })();\n",
       "</script>\n",
       "<noscript>Please enable JavaScript to view the <a href=\"https://disqus.com/?ref_noscript\" rel=\"nofollow\">comments powered by Disqus.</a></noscript>"
      ],
      "text/plain": [
       "<IPython.core.display.HTML object>"
      ]
     },
     "metadata": {},
     "output_type": "display_data"
    }
   ],
   "source": [
    "    if Ø: import disqus"
   ]
  }
 ],
 "metadata": {
  "kernelspec": {
   "display_name": "Python 3",
   "language": "python",
   "name": "python3"
  },
  "language_info": {
   "codemirror_mode": {
    "name": "ipython",
    "version": 3
   },
   "file_extension": ".py",
   "mimetype": "text/x-python",
   "name": "python",
   "nbconvert_exporter": "python",
   "pygments_lexer": "ipython3",
   "version": "3.6.5"
  }
 },
 "nbformat": 4,
 "nbformat_minor": 2
}
