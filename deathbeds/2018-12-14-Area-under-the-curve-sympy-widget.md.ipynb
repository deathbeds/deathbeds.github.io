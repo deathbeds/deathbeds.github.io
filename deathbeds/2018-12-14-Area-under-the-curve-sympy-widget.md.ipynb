{
 "cells": [
  {
   "cell_type": "markdown",
   "metadata": {},
   "source": [
    "# Make an `ipywidgets` with `sympy`\n",
    "\n",
    "In this example we will explore integration.   The widget that shows the area under a curve and evaluate the integral.\n",
    "\n",
    "The steps:\n",
    "\n",
    "1. pick an equation\n",
    "2. create the widgets\n",
    "3. Add observable behaviors to the widgets\n",
    "4. Are there some simple styles to add?\n",
    "5. Make the tool reusable."
   ]
  },
  {
   "cell_type": "code",
   "execution_count": 1,
   "metadata": {},
   "outputs": [],
   "source": [
    "    %reload_ext pidgin\n",
    "    %matplotlib agg"
   ]
  },
  {
   "cell_type": "code",
   "execution_count": 2,
   "metadata": {},
   "outputs": [
    {
     "data": {
      "text/html": [
       "<h1>Make an <code>ipywidgets</code> with <code>sympy</code></h1>\n",
       "<pre><code>from sympy import *\n",
       "import ipywidgets, sympy, matplotlib.pyplot, numpy as np\n",
       "</code></pre>\n",
       "<p>Provide $LatEx$ representations for <code>sympy</code> expressions.</p>\n",
       "<pre><code>init_printing()\n",
       "</code></pre>\n",
       "<p>For some folks this may not be necessary.</p>\n",
       "<pre><code>%matplotlib agg\n",
       "\n",
       "ip = get_ipython()\n",
       "\n",
       "import IPython, io\n",
       "</code></pre>\n"
      ],
      "text/markdown": [
       "# Make an `ipywidgets` with `sympy`\n",
       "\n",
       "    from sympy import *\n",
       "    import ipywidgets, sympy, matplotlib.pyplot, numpy as np\n",
       "    \n",
       "Provide $LatEx$ representations for `sympy` expressions.\n",
       "    \n",
       "    init_printing()\n",
       "\n",
       "For some folks this may not be necessary.\n",
       "    \n",
       "    %matplotlib agg\n",
       "\n",
       "    ip = get_ipython()\n",
       "\n",
       "    import IPython, io"
      ],
      "text/plain": [
       "'# Make an `ipywidgets` with `sympy`\\n\\n    from sympy import *\\n    import ipywidgets, sympy, matplotlib.pyplot, numpy as np\\n    \\nProvide $LatEx$ representations for `sympy` expressions.\\n    \\n    init_printing()\\n\\nFor some folks this may not be necessary.\\n    \\n    %matplotlib agg\\n\\n    ip = get_ipython()\\n\\n    import IPython, io'"
      ]
     },
     "metadata": {},
     "output_type": "display_data"
    }
   ],
   "source": [
    "# Make an `ipywidgets` with `sympy`\n",
    "\n",
    "    from sympy import *\n",
    "    import ipywidgets, sympy, matplotlib.pyplot, numpy as np\n",
    "    \n",
    "Provide $LatEx$ representations for `sympy` expressions.\n",
    "    \n",
    "    init_printing()\n",
    "\n",
    "For some folks this may not be necessary.\n",
    "    \n",
    "    %matplotlib agg\n",
    "\n",
    "    ip = get_ipython()\n",
    "\n",
    "    import IPython, io"
   ]
  },
  {
   "cell_type": "code",
   "execution_count": 9,
   "metadata": {},
   "outputs": [],
   "source": [
    "    ip = get_ipython()"
   ]
  },
  {
   "cell_type": "code",
   "execution_count": 16,
   "metadata": {},
   "outputs": [
    {
     "name": "stdout",
     "output_type": "stream",
     "text": [
      "\n",
      "    def f():\n",
      "        \"\"\"This is a markdown line\"\"\"\n",
      "\n",
      "        print('this is code')\n",
      "\n"
     ]
    }
   ],
   "source": [
    "    print(ip.input_transformer_manager.transform_cell(\"\"\"\n",
    "        def f():\n",
    "    This is a markdown line\n",
    "    \n",
    "            print('this is code')\n",
    "    \"\"\"))"
   ]
  },
  {
   "cell_type": "code",
   "execution_count": 3,
   "metadata": {},
   "outputs": [
    {
     "data": {
      "text/html": [
       "<img src=\"data:image/png;base64,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\"/>"
      ],
      "text/plain": [
       "<sympy.plotting.plot.Plot object at 0x0000029F10986F98>"
      ]
     },
     "execution_count": 3,
     "metadata": {},
     "output_type": "execute_result"
    },
    {
     "data": {
      "text/html": [
       "<p>Our example equation <code>f</code> came from the <a href=\"https://docs.sympy.org/latest/modules/integrals/integrals.html\"><code>sympy</code> docs</a>.</p>\n",
       "<pre><code>x = symbols('x')\n",
       "f = x**2 + x + 1\n",
       "\n",
       "a, b = symbols('a b') \n",
       "g = Integral(f, (x, a, b))\n",
       "</code></pre>\n",
       "<p><code>f</code> is $x^{2} + x + 1$ and its integral between <code>a</code> and <code>b</code> is $\\int_{a}^{b} \\left(x^{2} + x + 1\\right)\\, dx$.</p>\n",
       "<pre><code>plot(f, (x, -10, 10))\n",
       "</code></pre>\n"
      ],
      "text/markdown": [
       "Our example equation `f` came from the [`sympy` docs](https://docs.sympy.org/latest/modules/integrals/integrals.html).\n",
       "    \n",
       "    x = symbols('x')\n",
       "    f = x**2 + x + 1\n",
       "\n",
       "    a, b = symbols('a b') \n",
       "    g = Integral(f, (x, a, b))\n",
       "\n",
       "`f` is {{f}} and its integral between `a` and `b` is {{g}}.\n",
       "\n",
       "    plot(f, (x, -10, 10))"
      ],
      "text/plain": [
       "\"Our example equation `f` came from the [`sympy` docs](https://docs.sympy.org/latest/modules/integrals/integrals.html).\\n    \\n    x = symbols('x')\\n    f = x**2 + x + 1\\n\\n    a, b = symbols('a b') \\n    g = Integral(f, (x, a, b))\\n\\n`f` is {{f}} and its integral between `a` and `b` is {{g}}.\\n\\n    plot(f, (x, -10, 10))\""
      ]
     },
     "metadata": {},
     "output_type": "display_data"
    }
   ],
   "source": [
    "Our example equation `f` came from the [`sympy` docs](https://docs.sympy.org/latest/modules/integrals/integrals.html).\n",
    "    \n",
    "    x = symbols('x')\n",
    "    f = x**2 + x + 1\n",
    "\n",
    "    a, b = symbols('a b') \n",
    "    g = Integral(f, (x, a, b))\n",
    "\n",
    "`f` is {{f}} and its integral between `a` and `b` is {{g}}.\n",
    "\n",
    "    plot(f, (x, -10, 10))"
   ]
  },
  {
   "cell_type": "code",
   "execution_count": 4,
   "metadata": {},
   "outputs": [
    {
     "data": {
      "text/html": [
       "<h2>Widgets</h2>\n",
       "<p>Provide the limits</p>\n",
       "<pre><code>limits = ipywidgets.FloatRangeSlider(min=-100, max=100)\n",
       "limits.value = -30, 70\n",
       "α, β = limits.value\n",
       "</code></pre>\n",
       "<p>A place to show the area under the curve.</p>\n",
       "<pre><code>area = ipywidgets.FloatText(g.subs({a: α, b: β}).integrate((x, α, β)))\n",
       "area.style.description_width = '200px'\n",
       "</code></pre>\n",
       "<p>A place for the plot view.</p>\n",
       "<pre><code>output = ipywidgets.Output()\n",
       "\n",
       "app = ipywidgets.VBox([limits, area, output])\n",
       "</code></pre>\n"
      ],
      "text/markdown": [
       "## Widgets\n",
       "\n",
       "Provide the limits \n",
       "    \n",
       "    limits = ipywidgets.FloatRangeSlider(min=-100, max=100)\n",
       "    limits.value = -30, 70\n",
       "    α, β = limits.value\n",
       "    \n",
       "A place to show the area under the curve.\n",
       "    \n",
       "    area = ipywidgets.FloatText(g.subs({a: α, b: β}).integrate((x, α, β)))\n",
       "    area.style.description_width = '200px'\n",
       "    \n",
       "A place for the plot view.\n",
       "    \n",
       "    output = ipywidgets.Output()\n",
       "\n",
       "    app = ipywidgets.VBox([limits, area, output])"
      ],
      "text/plain": [
       "\"## Widgets\\n\\nProvide the limits \\n    \\n    limits = ipywidgets.FloatRangeSlider(min=-100, max=100)\\n    limits.value = -30, 70\\n    α, β = limits.value\\n    \\nA place to show the area under the curve.\\n    \\n    area = ipywidgets.FloatText(g.subs({a: α, b: β}).integrate((x, α, β)))\\n    area.style.description_width = '200px'\\n    \\nA place for the plot view.\\n    \\n    output = ipywidgets.Output()\\n\\n    app = ipywidgets.VBox([limits, area, output])\""
      ]
     },
     "metadata": {},
     "output_type": "display_data"
    }
   ],
   "source": [
    "## Widgets\n",
    "\n",
    "Provide the limits \n",
    "    \n",
    "    limits = ipywidgets.FloatRangeSlider(min=-100, max=100)\n",
    "    limits.value = -30, 70\n",
    "    α, β = limits.value\n",
    "    \n",
    "A place to show the area under the curve.\n",
    "    \n",
    "    area = ipywidgets.FloatText(g.subs({a: α, b: β}).integrate((x, α, β)))\n",
    "    area.style.description_width = '200px'\n",
    "    \n",
    "A place for the plot view.\n",
    "    \n",
    "    output = ipywidgets.Output()\n",
    "\n",
    "    app = ipywidgets.VBox([limits, area, output])"
   ]
  },
  {
   "cell_type": "code",
   "execution_count": 5,
   "metadata": {},
   "outputs": [
    {
     "data": {
      "text/html": [
       "<p>Set a default <code>IPython</code> display for the notebook as a module so <code>__import__(__name__)</code> is our display.</p>\n",
       "<pre><code>def _ipython_display_(): IPython.display.display(app)\n",
       "</code></pre>\n"
      ],
      "text/markdown": [
       "Set a default `IPython` display for the notebook as a module so `__import__(__name__) ` is our display.\n",
       "    \n",
       "    def _ipython_display_(): IPython.display.display(app)"
      ],
      "text/plain": [
       "'Set a default `IPython` display for the notebook as a module so `__import__(__name__) ` is our display.\\n    \\n    def _ipython_display_(): IPython.display.display(app)'"
      ]
     },
     "metadata": {},
     "output_type": "display_data"
    }
   ],
   "source": [
    "Set a default `IPython` display for the notebook as a module so `__import__(__name__) ` is our display.\n",
    "    \n",
    "    def _ipython_display_(): IPython.display.display(app)"
   ]
  },
  {
   "cell_type": "code",
   "execution_count": 17,
   "metadata": {},
   "outputs": [
    {
     "data": {
      "text/html": [
       "<pre><code>class SymPyDocs:\n",
       "</code></pre>\n",
       "<ul>\n",
       "<li><a href=\"#\">A link</a></li>\n",
       "<li><a href=\"#\">Another link</a></li>\n",
       "</ul>\n"
      ],
      "text/markdown": [
       "    class SymPyDocs:\n",
       "* [A link](#)\n",
       "* [Another link](#)"
      ],
      "text/plain": [
       "'    class SymPyDocs:\\n* [A link](#)\\n* [Another link](#)'"
      ]
     },
     "metadata": {},
     "output_type": "display_data"
    }
   ],
   "source": [
    "    class SymPyDocs:\n",
    "* [A link](#)\n",
    "* [Another link](#)"
   ]
  },
  {
   "cell_type": "code",
   "execution_count": 19,
   "metadata": {},
   "outputs": [
    {
     "name": "stdout",
     "output_type": "stream",
     "text": [
      "* [A link](#)\n",
      "* [Another link](#)\n"
     ]
    }
   ],
   "source": [
    "    SymPyDocs.__doc__"
   ]
  },
  {
   "cell_type": "code",
   "execution_count": 6,
   "metadata": {},
   "outputs": [
    {
     "data": {
      "text/html": [
       "<pre><code>def update_app(change):\n",
       "</code></pre>\n",
       "<p>Get the limits of the integration</p>\n",
       "<pre><code>    α, β = limits.value \n",
       "</code></pre>\n",
       "<p>Set the <strong>xx</strong> values.</p>\n",
       "<pre><code>    xx = np.linspace(α, β, 101)\n",
       "</code></pre>\n",
       "<p>Plot the <code>sympy</code> function with the fill between.</p>\n",
       "<pre><code>    p = plot(f, (x, limits.min, limits.max))\n",
       "    p._backend.plt.fill_between(xx, lambdify(x, f)(xx))\n",
       "</code></pre>\n",
       "<p>Move the matplotlib image into the ipython display</p>\n",
       "<pre><code>    area.description = ip.display_formatter.format(g.subs({a: α, b: β}))[0]['text/latex']\n",
       "\n",
       "    area.value = g.subs({a: α, b: β}).integrate((x, α, β))\n",
       "\n",
       "    img = io.BytesIO()\n",
       "    p._backend.fig.savefig(img)\n",
       "    output.clear_output(True)\n",
       "    with output: \n",
       "        IPython.display.display(IPython.display.Image(data=img.getvalue()))\n",
       "\n",
       "limits.observe(update_app)\n",
       "</code></pre>\n"
      ],
      "text/markdown": [
       "    def update_app(change):\n",
       "Get the limits of the integration\n",
       "\n",
       "        α, β = limits.value \n",
       "\n",
       "Set the __xx__ values.\n",
       "\n",
       "        xx = np.linspace(α, β, 101)\n",
       "    \n",
       "Plot the `sympy` function with the fill between.\n",
       "\n",
       "        p = plot(f, (x, limits.min, limits.max))\n",
       "        p._backend.plt.fill_between(xx, lambdify(x, f)(xx))\n",
       "        \n",
       "Move the matplotlib image into the ipython display\n",
       "        \n",
       "        area.description = ip.display_formatter.format(g.subs({a: α, b: β}))[0]['text/latex']\n",
       "        \n",
       "        area.value = g.subs({a: α, b: β}).integrate((x, α, β))\n",
       "        \n",
       "        img = io.BytesIO()\n",
       "        p._backend.fig.savefig(img)\n",
       "        output.clear_output(True)\n",
       "        with output: \n",
       "            IPython.display.display(IPython.display.Image(data=img.getvalue()))\n",
       "\n",
       "    limits.observe(update_app)"
      ],
      "text/plain": [
       "\"    def update_app(change):\\nGet the limits of the integration\\n\\n        α, β = limits.value \\n\\nSet the __xx__ values.\\n\\n        xx = np.linspace(α, β, 101)\\n    \\nPlot the `sympy` function with the fill between.\\n\\n        p = plot(f, (x, limits.min, limits.max))\\n        p._backend.plt.fill_between(xx, lambdify(x, f)(xx))\\n        \\nMove the matplotlib image into the ipython display\\n        \\n        area.description = ip.display_formatter.format(g.subs({a: α, b: β}))[0]['text/latex']\\n        \\n        area.value = g.subs({a: α, b: β}).integrate((x, α, β))\\n        \\n        img = io.BytesIO()\\n        p._backend.fig.savefig(img)\\n        output.clear_output(True)\\n        with output: \\n            IPython.display.display(IPython.display.Image(data=img.getvalue()))\\n\\n    limits.observe(update_app)\""
      ]
     },
     "metadata": {},
     "output_type": "display_data"
    }
   ],
   "source": [
    "    def update_app(change):\n",
    "Get the limits of the integration\n",
    "\n",
    "        α, β = limits.value \n",
    "\n",
    "Set the __xx__ values.\n",
    "\n",
    "        xx = np.linspace(α, β, 101)\n",
    "    \n",
    "Plot the `sympy` function with the fill between.\n",
    "\n",
    "        p = plot(f, (x, limits.min, limits.max))\n",
    "        p._backend.plt.fill_between(xx, lambdify(x, f)(xx))\n",
    "        \n",
    "Move the matplotlib image into the ipython display\n",
    "        \n",
    "        area.description = ip.display_formatter.format(g.subs({a: α, b: β}))[0]['text/latex']\n",
    "        \n",
    "        area.value = g.subs({a: α, b: β}).integrate((x, α, β))\n",
    "        \n",
    "        img = io.BytesIO()\n",
    "        p._backend.fig.savefig(img)\n",
    "        output.clear_output(True)\n",
    "        with output: \n",
    "            IPython.display.display(IPython.display.Image(data=img.getvalue()))\n",
    "\n",
    "    limits.observe(update_app)"
   ]
  },
  {
   "cell_type": "code",
   "execution_count": 7,
   "metadata": {},
   "outputs": [
    {
     "data": {
      "text/html": [
       "<style>\n",
       "label.widget-label {\n",
       "    height: 4em !important;\n",
       "}\n",
       "</style>"
      ],
      "text/markdown": [
       "<style>\n",
       "label.widget-label {\n",
       "    height: 4em !important;\n",
       "}\n",
       "</style>\n"
      ],
      "text/plain": [
       "'<style>\\nlabel.widget-label {\\n    height: 4em !important;\\n}\\n</style>\\n'"
      ]
     },
     "metadata": {},
     "output_type": "display_data"
    }
   ],
   "source": [
    "<style>\n",
    "label.widget-label {\n",
    "    height: 4em !important;\n",
    "}\n",
    "</style>\n"
   ]
  },
  {
   "cell_type": "code",
   "execution_count": 8,
   "metadata": {},
   "outputs": [
    {
     "data": {
      "application/vnd.jupyter.widget-view+json": {
       "model_id": "3a84aa37d35e4ef1965ac3fdd4229220",
       "version_major": 2,
       "version_minor": 0
      },
      "text/plain": [
       "VBox(children=(FloatRangeSlider(value=(-30.0, 70.0), min=-100.0), FloatText(value=12543333.333333332, style=De…"
      ]
     },
     "metadata": {},
     "output_type": "display_data"
    }
   ],
   "source": [
    "    __import__(__name__)"
   ]
  },
  {
   "cell_type": "code",
   "execution_count": null,
   "metadata": {},
   "outputs": [],
   "source": []
  },
  {
   "cell_type": "code",
   "execution_count": null,
   "metadata": {},
   "outputs": [],
   "source": []
  }
 ],
 "metadata": {
  "kernelspec": {
   "display_name": "Python 3",
   "language": "python",
   "name": "python3"
  },
  "language_info": {
   "codemirror_mode": {
    "name": "ipython",
    "version": 3
   },
   "file_extension": ".py",
   "mimetype": "text/x-python",
   "name": "python",
   "nbconvert_exporter": "python",
   "pygments_lexer": "ipython3",
   "version": "3.6.6"
  }
 },
 "nbformat": 4,
 "nbformat_minor": 2
}
