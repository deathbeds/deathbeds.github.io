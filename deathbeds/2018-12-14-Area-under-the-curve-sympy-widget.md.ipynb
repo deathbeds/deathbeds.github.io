{
 "cells": [
  {
   "cell_type": "markdown",
   "metadata": {},
   "source": [
    "# Make an `ipywidgets` with `sympy`\n",
    "\n",
    "In this example we will explore integration.   The widget that shows the area under a curve and evaluate the integral.\n",
    "\n",
    "The steps:\n",
    "\n",
    "1. pick an equation\n",
    "2. create the widgets\n",
    "3. Add observable behaviors to the widgets\n",
    "4. Are there some simple styles to add?\n",
    "5. Make the tool reusable."
   ]
  },
  {
   "cell_type": "code",
   "execution_count": 1,
   "metadata": {},
   "outputs": [],
   "source": [
    "    %reload_ext pidgin\n",
    "    %matplotlib agg"
   ]
  },
  {
   "cell_type": "code",
   "execution_count": 19,
   "metadata": {},
   "outputs": [
    {
     "data": {
      "text/html": [
       "<h1>Make an <code>ipywidgets</code> with <code>sympy</code></h1>\n",
       "<pre><code>from sympy import *\n",
       "import ipywidgets, sympy, matplotlib.pyplot, numpy as np, IPython, io\n",
       "</code></pre>\n",
       "<p>Provide $LatEx$ representations for <code>sympy</code> expressions.</p>\n",
       "<pre><code>init_printing()\n",
       "</code></pre>\n",
       "<p>For some folks this may not be necessary.</p>\n",
       "<pre><code>ip = get_ipython()\n",
       "</code></pre>\n"
      ],
      "text/markdown": [
       "# Make an `ipywidgets` with `sympy`\n",
       "\n",
       "    from sympy import *\n",
       "    import ipywidgets, sympy, matplotlib.pyplot, numpy as np, IPython, io\n",
       "    \n",
       "Provide $LatEx$ representations for `sympy` expressions.\n",
       "    \n",
       "    init_printing()\n",
       "\n",
       "For some folks this may not be necessary.\n",
       "    \n",
       "    ip = get_ipython()\n"
      ],
      "text/plain": [
       "'# Make an `ipywidgets` with `sympy`\\n\\n    from sympy import *\\n    import ipywidgets, sympy, matplotlib.pyplot, numpy as np, IPython, io\\n    \\nProvide $LatEx$ representations for `sympy` expressions.\\n    \\n    init_printing()\\n\\nFor some folks this may not be necessary.\\n    \\n    ip = get_ipython()\\n'"
      ]
     },
     "metadata": {},
     "output_type": "display_data"
    }
   ],
   "source": [
    "# Make an `ipywidgets` with `sympy`\n",
    "\n",
    "    from sympy import *\n",
    "    import ipywidgets, sympy, matplotlib.pyplot, numpy as np, IPython, io\n",
    "    \n",
    "Provide $LatEx$ representations for `sympy` expressions.\n",
    "    \n",
    "    init_printing()\n",
    "\n",
    "For some folks this may not be necessary.\n",
    "    \n",
    "    ip = get_ipython()\n"
   ]
  },
  {
   "cell_type": "code",
   "execution_count": 22,
   "metadata": {},
   "outputs": [
    {
     "data": {
      "text/html": [
       "<img src=\"data:image/png;base64,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\"/>"
      ],
      "text/plain": [
       "<sympy.plotting.plot.Plot object at 0x0000025D0A3BDD30>"
      ]
     },
     "execution_count": 22,
     "metadata": {},
     "output_type": "execute_result"
    },
    {
     "data": {
      "text/html": [
       "<p>Our example equation <code>f</code> came from the <a href=\"https://docs.sympy.org/latest/modules/integrals/integrals.html\"><code>sympy</code> docs</a>.</p>\n",
       "<pre><code>x = symbols('x')\n",
       "f = x**2 + x + 1\n",
       "\n",
       "a, b = symbols('a b') \n",
       "g = Integral(f, (x, a, b))\n",
       "</code></pre>\n",
       "<p><code>f</code> is $x^{2} + x + 1$ and its integral between <code>a</code> and <code>b</code> is $\\int_{a}^{b} \\left(x^{2} + x + 1\\right)\\, dx$.</p>\n",
       "<pre><code>plot(f, (x, -10, 10))\n",
       "</code></pre>\n"
      ],
      "text/markdown": [
       "Our example equation `f` came from the [`sympy` docs](https://docs.sympy.org/latest/modules/integrals/integrals.html).\n",
       "    \n",
       "    x = symbols('x')\n",
       "    f = x**2 + x + 1\n",
       "\n",
       "    a, b = symbols('a b') \n",
       "    g = Integral(f, (x, a, b))\n",
       "\n",
       "`f` is {{f}} and its integral between `a` and `b` is {{g}}.\n",
       "\n",
       "    plot(f, (x, -10, 10))"
      ],
      "text/plain": [
       "\"Our example equation `f` came from the [`sympy` docs](https://docs.sympy.org/latest/modules/integrals/integrals.html).\\n    \\n    x = symbols('x')\\n    f = x**2 + x + 1\\n\\n    a, b = symbols('a b') \\n    g = Integral(f, (x, a, b))\\n\\n`f` is {{f}} and its integral between `a` and `b` is {{g}}.\\n\\n    plot(f, (x, -10, 10))\""
      ]
     },
     "metadata": {},
     "output_type": "display_data"
    }
   ],
   "source": [
    "Our example equation `f` came from the [`sympy` docs](https://docs.sympy.org/latest/modules/integrals/integrals.html).\n",
    "    \n",
    "    x = symbols('x')\n",
    "    f = x**2 + x + 1\n",
    "\n",
    "    a, b = symbols('a b') \n",
    "    g = Integral(f, (x, a, b))\n",
    "\n",
    "`f` is {{f}} and its integral between `a` and `b` is {{g}}.\n",
    "\n",
    "    plot(f, (x, -10, 10))"
   ]
  },
  {
   "cell_type": "code",
   "execution_count": 23,
   "metadata": {},
   "outputs": [
    {
     "data": {
      "text/html": [
       "<h2>Widgets</h2>\n",
       "<p>Provide the limits</p>\n",
       "<pre><code>limits = ipywidgets.FloatRangeSlider(min=-100, max=100)\n",
       "limits.value = -30, 70\n",
       "α, β = limits.value\n",
       "</code></pre>\n",
       "<p>A place to show the area under the curve.</p>\n",
       "<pre><code>area = ipywidgets.FloatText(g.subs({a: α, b: β}).integrate((x, α, β)))\n",
       "area.style.description_width = '200px'\n",
       "</code></pre>\n",
       "<p>A place for the plot view.</p>\n",
       "<pre><code>output = ipywidgets.Output()\n",
       "\n",
       "app = ipywidgets.VBox([limits, area, output])\n",
       "</code></pre>\n"
      ],
      "text/markdown": [
       "## Widgets\n",
       "\n",
       "Provide the limits \n",
       "    \n",
       "    limits = ipywidgets.FloatRangeSlider(min=-100, max=100)\n",
       "    limits.value = -30, 70\n",
       "    α, β = limits.value\n",
       "    \n",
       "A place to show the area under the curve.\n",
       "    \n",
       "    area = ipywidgets.FloatText(g.subs({a: α, b: β}).integrate((x, α, β)))\n",
       "    area.style.description_width = '200px'\n",
       "    \n",
       "A place for the plot view.\n",
       "    \n",
       "    output = ipywidgets.Output()\n",
       "\n",
       "    app = ipywidgets.VBox([limits, area, output])"
      ],
      "text/plain": [
       "\"## Widgets\\n\\nProvide the limits \\n    \\n    limits = ipywidgets.FloatRangeSlider(min=-100, max=100)\\n    limits.value = -30, 70\\n    α, β = limits.value\\n    \\nA place to show the area under the curve.\\n    \\n    area = ipywidgets.FloatText(g.subs({a: α, b: β}).integrate((x, α, β)))\\n    area.style.description_width = '200px'\\n    \\nA place for the plot view.\\n    \\n    output = ipywidgets.Output()\\n\\n    app = ipywidgets.VBox([limits, area, output])\""
      ]
     },
     "metadata": {},
     "output_type": "display_data"
    }
   ],
   "source": [
    "## Widgets\n",
    "\n",
    "Provide the limits \n",
    "    \n",
    "    limits = ipywidgets.FloatRangeSlider(min=-100, max=100)\n",
    "    limits.value = -30, 70\n",
    "    α, β = limits.value\n",
    "    \n",
    "A place to show the area under the curve.\n",
    "    \n",
    "    area = ipywidgets.FloatText(g.subs({a: α, b: β}).integrate((x, α, β)))\n",
    "    area.style.description_width = '200px'\n",
    "    \n",
    "A place for the plot view.\n",
    "    \n",
    "    output = ipywidgets.Output()\n",
    "\n",
    "    app = ipywidgets.VBox([limits, area, output])"
   ]
  },
  {
   "cell_type": "code",
   "execution_count": 24,
   "metadata": {},
   "outputs": [
    {
     "data": {
      "text/html": [
       "<p>Set a default <code>IPython</code> display for the notebook as a module so <code>__import__(__name__)</code> is our display.</p>\n",
       "<pre><code>def _ipython_display_(): IPython.display.display(app)\n",
       "</code></pre>\n"
      ],
      "text/markdown": [
       "Set a default `IPython` display for the notebook as a module so `__import__(__name__) ` is our display.\n",
       "    \n",
       "    def _ipython_display_(): IPython.display.display(app)"
      ],
      "text/plain": [
       "'Set a default `IPython` display for the notebook as a module so `__import__(__name__) ` is our display.\\n    \\n    def _ipython_display_(): IPython.display.display(app)'"
      ]
     },
     "metadata": {},
     "output_type": "display_data"
    }
   ],
   "source": [
    "Set a default `IPython` display for the notebook as a module so `__import__(__name__) ` is our display.\n",
    "    \n",
    "    def _ipython_display_(): IPython.display.display(app)"
   ]
  },
  {
   "cell_type": "code",
   "execution_count": 29,
   "metadata": {},
   "outputs": [
    {
     "data": {
      "text/html": [
       "<pre><code>def update_app(change):\n",
       "</code></pre>\n",
       "<p>Get the limits of the integration</p>\n",
       "<pre><code>    α, β = limits.value \n",
       "</code></pre>\n",
       "<p>Set the <strong>xx</strong> values.</p>\n",
       "<pre><code>    xx = np.linspace(α, β, 101)\n",
       "</code></pre>\n",
       "<p>Plot the <code>sympy</code> function with the fill between.</p>\n",
       "<pre><code>    p = plot(f, (x, limits.min, limits.max))\n",
       "    p._backend.plt.fill_between(xx, lambdify(x, f)(xx))\n",
       "</code></pre>\n",
       "<p>Move the matplotlib image into the ipython display</p>\n",
       "<pre><code>    area.description = ip.display_formatter.format(g.subs({a: α, b: β}))[0]['text/latex']\n",
       "\n",
       "    area.value = g.subs({a: α, b: β}).integrate((x, α, β))\n",
       "\n",
       "    img = io.BytesIO()\n",
       "    p._backend.fig.savefig(img)\n",
       "    output.clear_output(True)\n",
       "    with output: \n",
       "        IPython.display.display(IPython.display.Image(data=img.getvalue()))\n",
       "\n",
       "limits.observe(update_app); update_app({})\n",
       "</code></pre>\n"
      ],
      "text/markdown": [
       "    def update_app(change):\n",
       "Get the limits of the integration\n",
       "\n",
       "        α, β = limits.value \n",
       "\n",
       "Set the __xx__ values.\n",
       "\n",
       "        xx = np.linspace(α, β, 101)\n",
       "    \n",
       "Plot the `sympy` function with the fill between.\n",
       "\n",
       "        p = plot(f, (x, limits.min, limits.max))\n",
       "        p._backend.plt.fill_between(xx, lambdify(x, f)(xx))\n",
       "        \n",
       "Move the matplotlib image into the ipython display\n",
       "        \n",
       "        area.description = ip.display_formatter.format(g.subs({a: α, b: β}))[0]['text/latex']\n",
       "        \n",
       "        area.value = g.subs({a: α, b: β}).integrate((x, α, β))\n",
       "        \n",
       "        img = io.BytesIO()\n",
       "        p._backend.fig.savefig(img)\n",
       "        output.clear_output(True)\n",
       "        with output: \n",
       "            IPython.display.display(IPython.display.Image(data=img.getvalue()))\n",
       "\n",
       "    limits.observe(update_app); update_app({})"
      ],
      "text/plain": [
       "\"    def update_app(change):\\nGet the limits of the integration\\n\\n        α, β = limits.value \\n\\nSet the __xx__ values.\\n\\n        xx = np.linspace(α, β, 101)\\n    \\nPlot the `sympy` function with the fill between.\\n\\n        p = plot(f, (x, limits.min, limits.max))\\n        p._backend.plt.fill_between(xx, lambdify(x, f)(xx))\\n        \\nMove the matplotlib image into the ipython display\\n        \\n        area.description = ip.display_formatter.format(g.subs({a: α, b: β}))[0]['text/latex']\\n        \\n        area.value = g.subs({a: α, b: β}).integrate((x, α, β))\\n        \\n        img = io.BytesIO()\\n        p._backend.fig.savefig(img)\\n        output.clear_output(True)\\n        with output: \\n            IPython.display.display(IPython.display.Image(data=img.getvalue()))\\n\\n    limits.observe(update_app); update_app({})\""
      ]
     },
     "metadata": {},
     "output_type": "display_data"
    }
   ],
   "source": [
    "    def update_app(change):\n",
    "Get the limits of the integration\n",
    "\n",
    "        α, β = limits.value \n",
    "\n",
    "Set the __xx__ values.\n",
    "\n",
    "        xx = np.linspace(α, β, 101)\n",
    "    \n",
    "Plot the `sympy` function with the fill between.\n",
    "\n",
    "        p = plot(f, (x, limits.min, limits.max))\n",
    "        p._backend.plt.fill_between(xx, lambdify(x, f)(xx))\n",
    "        \n",
    "Move the matplotlib image into the ipython display\n",
    "        \n",
    "        area.description = ip.display_formatter.format(g.subs({a: α, b: β}))[0]['text/latex']\n",
    "        \n",
    "        area.value = g.subs({a: α, b: β}).integrate((x, α, β))\n",
    "        \n",
    "        img = io.BytesIO()\n",
    "        p._backend.fig.savefig(img)\n",
    "        output.clear_output(True)\n",
    "        with output: \n",
    "            IPython.display.display(IPython.display.Image(data=img.getvalue()))\n",
    "\n",
    "    limits.observe(update_app); update_app({})"
   ]
  },
  {
   "cell_type": "code",
   "execution_count": 30,
   "metadata": {},
   "outputs": [
    {
     "data": {
      "text/html": [
       "<style>\n",
       "label.widget-label {\n",
       "    height: 4em !important;\n",
       "}\n",
       "</style>"
      ],
      "text/markdown": [
       "<style>\n",
       "label.widget-label {\n",
       "    height: 4em !important;\n",
       "}\n",
       "</style>\n"
      ],
      "text/plain": [
       "'<style>\\nlabel.widget-label {\\n    height: 4em !important;\\n}\\n</style>\\n'"
      ]
     },
     "metadata": {},
     "output_type": "display_data"
    }
   ],
   "source": [
    "<style>\n",
    "label.widget-label {\n",
    "    height: 4em !important;\n",
    "}\n",
    "</style>\n"
   ]
  },
  {
   "cell_type": "code",
   "execution_count": 31,
   "metadata": {},
   "outputs": [
    {
     "data": {
      "application/vnd.jupyter.widget-view+json": {
       "model_id": "0fa42875eaf44032b83c6d141c6bf474",
       "version_major": 2,
       "version_minor": 0
      },
      "text/plain": [
       "VBox(children=(FloatRangeSlider(value=(-30.0, 70.1), min=-100.0), FloatText(value=12605706.980533328, descript…"
      ]
     },
     "metadata": {},
     "output_type": "display_data"
    }
   ],
   "source": [
    "    __import__(__name__)"
   ]
  },
  {
   "cell_type": "code",
   "execution_count": null,
   "metadata": {},
   "outputs": [],
   "source": []
  },
  {
   "cell_type": "code",
   "execution_count": null,
   "metadata": {},
   "outputs": [],
   "source": []
  }
 ],
 "metadata": {
  "kernelspec": {
   "display_name": "Python 3",
   "language": "python",
   "name": "python3"
  },
  "language_info": {
   "codemirror_mode": {
    "name": "ipython",
    "version": 3
   },
   "file_extension": ".py",
   "mimetype": "text/x-python",
   "name": "python",
   "nbconvert_exporter": "python",
   "pygments_lexer": "ipython3",
   "version": "3.6.6"
  }
 },
 "nbformat": 4,
 "nbformat_minor": 2
}
