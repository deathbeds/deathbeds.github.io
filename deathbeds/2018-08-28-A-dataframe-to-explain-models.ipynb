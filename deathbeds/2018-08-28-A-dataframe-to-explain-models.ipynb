{
 "cells": [
  {
   "cell_type": "markdown",
   "metadata": {},
   "source": [
    "# Explain models on tidy data with `lime` and `sklearn`"
   ]
  },
  {
   "cell_type": "code",
   "execution_count": 179,
   "metadata": {},
   "outputs": [],
   "source": [
    "import pandas, sklearn.base, sklearn.pipeline\n",
    "from toolz.curried import *"
   ]
  },
  {
   "cell_type": "code",
   "execution_count": 180,
   "metadata": {},
   "outputs": [],
   "source": [
    "class DataFrameMixin(pandas.DataFrame):\n",
    "    \"\"\"Combine a DataFrame and BaseEstimator\n",
    "    \"\"\"\n",
    "    _series = pandas.Series\n",
    "\n",
    "    def __dir__(self):\n",
    "        return concatv(super().__dir__(), self._metadata)\n",
    "\n",
    "    @property\n",
    "    def _constructor(self): return self.__class__\n",
    "\n",
    "    @property\n",
    "    def _constructor_expanddim(self): return self.__class__\n",
    "\n",
    "    @property\n",
    "    def _constructor_sliced(self): return self._series    "
   ]
  },
  {
   "cell_type": "code",
   "execution_count": 183,
   "metadata": {},
   "outputs": [],
   "source": [
    "import sklearn.ensemble, sklearn.pipeline\n",
    "from copy import copy"
   ]
  },
  {
   "cell_type": "code",
   "execution_count": 185,
   "metadata": {},
   "outputs": [],
   "source": [
    "def create_combo(object, **dict):\n",
    "    if isiterable(object):\n",
    "        object = list(object)\n",
    "        for i, model in enumerate(object):\n",
    "            if not isinstance(model, tuple):\n",
    "                object[i] = str(i), model    \n",
    "\n",
    "        if all(isinstance(object, sklearn.base.ClassifierMixin) for i, object in models):\n",
    "            object = sklearn.ensemble.VotingClassifier(object)\n",
    "\n",
    "        if all(isinstance(object, sklearn.base.TransformerMixin) for i, object in models):\n",
    "            object = sklearn.pipeline.Pipeline(object)\n",
    "    object.set_params(**dict)\n",
    "    return object"
   ]
  },
  {
   "cell_type": "code",
   "execution_count": 195,
   "metadata": {},
   "outputs": [],
   "source": [
    "class FramePipe(DataFrameMixin):\n",
    "    _metadata = pandas.DataFrame._metadata + ['model']\n",
    "    def __init__(self, data=None, index=None, columns=None, dtype=None, copy=False, steps=None, memory=None, model=None, **dict):\n",
    "        super().__init__(data=data, index=index, columns=columns, dtype=dtype, copy=copy)\n",
    "        self.model = None\n",
    "        model and self.steps(model, **dict)\n",
    "        \n",
    "    \n",
    "    def fit(self, object=None, **dict):\n",
    "        object and self.steps(object, **dict)\n",
    "        if isinstance(self.index, pandas.RangeIndex): \n",
    "            return self.pipe(self.model.fit)\n",
    "        return self.pipe(self.model.fit, self.index)\n",
    "    \n",
    "    def fold(self, n): \n",
    "        for fold in sklearn.model_selection.KFold(n).split(self.values, self.index):\n",
    "            df = pandas.concat({'train': self.iloc[fold[0]], 'test': self.iloc[fold[1]]})\n",
    "            yield FramePipe(df.values, df.index, model=self.model)\n",
    "        \n",
    "    \n",
    "    def predict(self): return self.pipe(self.model.predict)\n",
    "    \n",
    "    def predict_proba(self, *args, **kwargs): return self.pipe(self.model.predict_proba, *args, **kwargs)\n",
    "    def predict_log_proba(self, *args, **kwargs): return self.pipe(self.model.predict_proba, *args, **kwargs)\n",
    "\n",
    "    def transform(self): return self.pipe(self.model.transform)\n",
    "\n",
    "    def pipe(self, func, *tuple, **dict):\n",
    "        result = super().pipe(func, *tuple, **dict)\n",
    "        if result is None or isinstance(result, sklearn.base.BaseEstimator):\n",
    "            return self\n",
    "        if getattr(result, '__len__', lambda: None)() == len(self) and not isinstance(result, pandas.DataFrame):\n",
    "            return type(self)(result, index=self.index)\n",
    "        return result\n",
    "    \n",
    "    def steps(self, object=None, **dict):\n",
    "        self.model = object and create_combo(object)\n",
    "        dict and self.model.set_params(**dict)\n",
    "        return self\n",
    "    \n",
    "    def __copy__(self, deep=True):\n",
    "        model = copy(self.model)\n",
    "        self = self.copy(deep=deep).steps(model)\n",
    "        return self\n",
    "    \n",
    "    def __finalize__(self, other=None, method=None,):\n",
    "        if method == 'merge': other = other.left\n",
    "        if method == 'concat': other = other.objs[0]\n",
    "        self.model = self.model or other.model\n",
    "        return self\n",
    "    \n",
    "    def set_params(self, **dict):\n",
    "        self.model.set_params(**dict)\n",
    "        return self\n",
    "    \n",
    "    def get_params(self):\n",
    "        return self.model.get_params()\n",
    "        \n",
    "    def explain(self, id=None):\n",
    "        if id:\n",
    "            explain = LimeTabularExplainer(self.values, 'classification', feature_names=self.columns)\n",
    "            explain.explain_instance(\n",
    "                self.iloc[id,:], self.model.predict_proba\n",
    "            ).show_in_notebook(show_all=False)\n",
    "        else:\n",
    "            model = sklearn.tree.DecisionTreeClassifier()\n",
    "            from graphviz import Source\n",
    "            return Source(sklearn.tree.export_graphviz(model.fit(df, df.predict().values), None))\n",
    "        "
   ]
  },
  {
   "cell_type": "code",
   "execution_count": 198,
   "metadata": {},
   "outputs": [],
   "source": [
    "def _lda():\n",
    "    from sklearn.datasets import load_iris\n",
    "\n",
    "    data = load_iris()\n",
    "\n",
    "    from sklearn.discriminant_analysis import LinearDiscriminantAnalysis\n",
    "\n",
    "    df = FramePipe(\n",
    "        data['data'], list(map(data['target_names'].__getitem__, data['target'])),\n",
    "        data['feature_names']\n",
    "    )\n",
    "\n",
    "    train = next(df.steps(LinearDiscriminantAnalysis(n_components=4)).fold(4))\n",
    "    train.loc['train'].fit().sample(3).predict()\n",
    "    df.explain()\n",
    "    df.explain(1)"
   ]
  },
  {
   "cell_type": "code",
   "execution_count": null,
   "metadata": {},
   "outputs": [],
   "source": [
    "if __name__ == '__main__':\n",
    "    !ipython -m pytest -- 2018-08-28-A-dataframe-to-explain-models.ipynb"
   ]
  },
  {
   "cell_type": "code",
   "execution_count": null,
   "metadata": {},
   "outputs": [],
   "source": []
  }
 ],
 "metadata": {
  "kernelspec": {
   "display_name": "p6",
   "language": "python",
   "name": "other-env"
  },
  "language_info": {
   "codemirror_mode": {
    "name": "ipython",
    "version": 3
   },
   "file_extension": ".py",
   "mimetype": "text/x-python",
   "name": "python",
   "nbconvert_exporter": "python",
   "pygments_lexer": "ipython3",
   "version": "3.6.3"
  },
  "varInspector": {
   "cols": {
    "lenName": 16,
    "lenType": 16,
    "lenVar": 40
   },
   "kernels_config": {
    "python": {
     "delete_cmd_postfix": "",
     "delete_cmd_prefix": "del ",
     "library": "var_list.py",
     "varRefreshCmd": "print(var_dic_list())"
    },
    "r": {
     "delete_cmd_postfix": ") ",
     "delete_cmd_prefix": "rm(",
     "library": "var_list.r",
     "varRefreshCmd": "cat(var_dic_list()) "
    }
   },
   "types_to_exclude": [
    "module",
    "function",
    "builtin_function_or_method",
    "instance",
    "_Feature"
   ],
   "window_display": false
  }
 },
 "nbformat": 4,
 "nbformat_minor": 2
}
