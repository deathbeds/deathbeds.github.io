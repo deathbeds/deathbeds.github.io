{
 "cells": [
  {
   "cell_type": "markdown",
   "metadata": {},
   "source": [
    "# Summarizing notebooks with `gensim` and `spacy`.\n",
    "\n",
    "Incrementally summarize a notebook or document by modifying the TextRank parameters.\n",
    "\n",
    "> The code cells should likely be removed, but the proof of concept here works."
   ]
  },
  {
   "cell_type": "code",
   "execution_count": 13,
   "metadata": {},
   "outputs": [],
   "source": [
    "    import spacy\n",
    "    import gensim.summarization.summarizer\n",
    "    import nbconvert\n",
    "    from pathlib import Path\n",
    "    from IPython.display import Markdown\n",
    "    __all__ = 'summarize',"
   ]
  },
  {
   "cell_type": "code",
   "execution_count": 16,
   "metadata": {},
   "outputs": [],
   "source": [
    "    class summarize:\n",
    "        def __init__(self, object, **dict): \n",
    "            self.object = object\n",
    "            object = getattr(object, '__file__', object)\n",
    "            if Path(object).exists():\n",
    "                object = nbconvert.MarkdownExporter().from_filename(object)[0]\n",
    "            self.summary = gensim.summarization.summarizer.summarize(object, **dict)\n",
    "                \n",
    "        def _repr_markdown_(self): return self.summary"
   ]
  },
  {
   "cell_type": "code",
   "execution_count": 49,
   "metadata": {},
   "outputs": [],
   "source": [
    "    def _test_summary():\n",
    "        from importnb import Notebook\n",
    "        with Notebook():\n",
    "            from deathbeds import __testing_notebooks\n",
    "        return summarize(__testing_notebooks)"
   ]
  },
  {
   "cell_type": "code",
   "execution_count": 50,
   "metadata": {},
   "outputs": [
    {
     "data": {
      "application/vnd.jupyter.widget-view+json": {
       "model_id": "e13b1fc24fca4c088fe364c3dc75a699",
       "version_major": 2,
       "version_minor": 0
      },
      "text/plain": [
       "interactive(children=(FloatSlider(value=0.0, description='ratio', max=1.0, step=0.025), Output()), _dom_classe…"
      ]
     },
     "metadata": {},
     "output_type": "display_data"
    }
   ],
   "source": [
    "    if __name__ == '__main__':\n",
    "        from ipywidgets import interact\n",
    "        from IPython.display import display\n",
    "        from deathbeds import __testing_notebooks\n",
    "        \n",
    "        interact(lambda ratio=(0, 1, .025): display(summarize(__testing_notebooks, ratio=ratio)))"
   ]
  },
  {
   "cell_type": "code",
   "execution_count": 51,
   "metadata": {},
   "outputs": [
    {
     "name": "stdout",
     "output_type": "stream",
     "text": [
      "============================= test session starts =============================\n",
      "platform win32 -- Python 3.6.5, pytest-3.5.1, py-1.5.3, pluggy-0.6.0\n",
      "Matplotlib: 2.2.2\n",
      "Freetype: 2.8.1\n",
      "rootdir: C:\\Users\\deathbeds\\deathbeds.github.io\\deathbeds, inifile: ../tox.ini\n",
      "plugins: xdist-1.22.5, testmon-0.9.12, remotedata-0.2.1, parallel-0.0.2, openfiles-0.3.0, mpl-0.9, localserver-0.4.1, forked-0.2, doctestplus-0.1.3, arraydiff-0.2, hypothesis-3.66.16, importnb-0.5.0\n",
      "collected 1 item\n",
      "\n",
      "2018-08-25-Summarizing-notebooks-with-gensim.ipynb .                     [100%]\n",
      "\n",
      "========================== 1 passed in 7.75 seconds ===========================\n"
     ]
    }
   ],
   "source": [
    "    if __name__ == '__main__':\n",
    "        !python -m pytest -c ../tox.ini 2018-08-25-Summarizing-notebooks-with-gensim.ipynb"
   ]
  },
  {
   "cell_type": "code",
   "execution_count": null,
   "metadata": {},
   "outputs": [],
   "source": []
  },
  {
   "cell_type": "code",
   "execution_count": null,
   "metadata": {},
   "outputs": [],
   "source": []
  }
 ],
 "metadata": {
  "kernelspec": {
   "display_name": "Python 3",
   "language": "python",
   "name": "python3"
  },
  "language_info": {
   "name": ""
  }
 },
 "nbformat": 4,
 "nbformat_minor": 2
}
