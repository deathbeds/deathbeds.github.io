{
 "cells": [
  {
   "cell_type": "code",
   "execution_count": 15,
   "metadata": {},
   "outputs": [],
   "source": [
    "import ipykernel.ipkernel"
   ]
  },
  {
   "cell_type": "code",
   "execution_count": 18,
   "metadata": {},
   "outputs": [],
   "source": [
    "from deathbeds.__Literate_Markdown_Kernel import LiterateKernel as Kernel"
   ]
  },
  {
   "cell_type": "code",
   "execution_count": 32,
   "metadata": {},
   "outputs": [],
   "source": [
    "from IPython.utils.tokenutil import token_at_cursor, line_at_cursor"
   ]
  },
  {
   "cell_type": "code",
   "execution_count": 5,
   "metadata": {},
   "outputs": [
    {
     "ename": "NameError",
     "evalue": "name 'Kernel' is not defined",
     "output_type": "error",
     "traceback": [
      "\u001b[1;31m---------------------------------------------------------------------------\u001b[0m",
      "\u001b[1;31mNameError\u001b[0m                                 Traceback (most recent call last)",
      "\u001b[1;32m<ipython-input-5-3253454d8def>\u001b[0m in \u001b[0;36m<module>\u001b[1;34m()\u001b[0m\n\u001b[1;32m----> 1\u001b[1;33m \u001b[1;32mclass\u001b[0m \u001b[0mLiterateKernel\u001b[0m\u001b[1;33m(\u001b[0m\u001b[0mKernel\u001b[0m\u001b[1;33m)\u001b[0m\u001b[1;33m:\u001b[0m\u001b[1;33m\u001b[0m\u001b[0m\n\u001b[0m\u001b[0;32m      2\u001b[0m     \u001b[1;32mdef\u001b[0m \u001b[0mdo_inspect\u001b[0m\u001b[1;33m(\u001b[0m\u001b[0mself\u001b[0m\u001b[1;33m,\u001b[0m \u001b[0mcode\u001b[0m\u001b[1;33m,\u001b[0m \u001b[0mcursor_pos\u001b[0m\u001b[1;33m,\u001b[0m \u001b[0mdetail_level\u001b[0m\u001b[1;33m=\u001b[0m\u001b[1;36m0\u001b[0m\u001b[1;33m)\u001b[0m\u001b[1;33m:\u001b[0m\u001b[1;33m\u001b[0m\u001b[0m\n\u001b[0;32m      3\u001b[0m         \u001b[0mname\u001b[0m \u001b[1;33m=\u001b[0m \u001b[0mtoken_at_cursor\u001b[0m\u001b[1;33m(\u001b[0m\u001b[0mcode\u001b[0m\u001b[1;33m,\u001b[0m \u001b[0mcursor_pos\u001b[0m\u001b[1;33m)\u001b[0m\u001b[1;33m\u001b[0m\u001b[0m\n\u001b[0;32m      4\u001b[0m         \u001b[0mreply_content\u001b[0m \u001b[1;33m=\u001b[0m \u001b[1;33m{\u001b[0m\u001b[1;34m'status'\u001b[0m \u001b[1;33m:\u001b[0m \u001b[1;34m'ok'\u001b[0m\u001b[1;33m}\u001b[0m\u001b[1;33m\u001b[0m\u001b[0m\n\u001b[0;32m      5\u001b[0m         \u001b[0mreply_content\u001b[0m\u001b[1;33m[\u001b[0m\u001b[1;34m'metadata'\u001b[0m\u001b[1;33m]\u001b[0m \u001b[1;33m=\u001b[0m \u001b[1;33m{\u001b[0m\u001b[1;33m}\u001b[0m\u001b[1;33m\u001b[0m\u001b[0m\n",
      "\u001b[1;31mNameError\u001b[0m: name 'Kernel' is not defined"
     ]
    }
   ],
   "source": [
    "class LiterateKernel(Kernel):\n",
    "    def do_inspect(self, code, cursor_pos, detail_level=0):\n",
    "        name = token_at_cursor(code, cursor_pos)\n",
    "        reply_content = {'status' : 'ok'}\n",
    "        reply_content['metadata'] = {}\n",
    "        reply_content['found'] = True\n",
    "        try:\n",
    "            reply_content['data'] = self.shell.object_inspect_mime(name, detail_level=2)\n",
    "        except KeyError: \n",
    "            reply_content['data'] = {}\n",
    "        \n",
    "        display = self.shell.display_formatter.format(\n",
    "            self.shell.user_ns.get(name, None))[0].get('text/html', None)\n",
    "        \n",
    "        if display:\n",
    "            reply_content['data']['text/html'] = display\n",
    "        \n",
    "        if not reply_content['data'].get('text/html', None):\n",
    "            reply_content['data'] = {'text/markdown': code}\n",
    "        return reply_content        "
   ]
  },
  {
   "cell_type": "code",
   "execution_count": 45,
   "metadata": {},
   "outputs": [],
   "source": [
    "import json; from pathlib import Path"
   ]
  },
  {
   "cell_type": "code",
   "execution_count": 39,
   "metadata": {},
   "outputs": [],
   "source": [
    "with __import__('importlib_resources').path('deathbeds', 'literate_kernel.py') as file: \n",
    "    kernel_json = Path(file).parent / 'literate' / 'kernel.json'\n",
    "    kernel_json.parent.mkdir(parents=True, exist_ok=True)\n",
    "    \n",
    "\n",
    "    kernel_json.write_text(json.dumps({\n",
    "         \"argv\": \"python -m deathbeds.literate_kernel -f {connection_file}\".split(),\n",
    "         \"display_name\": \"literate\", \"name\": \"literate\", \"language\": \"python\"}))\n",
    "\n",
    "\n",
    "    Path(file).write_text(\"\"\"\n",
    "with __import__('importnb').Notebook():\n",
    "    from deathbeds.__Inspecting_Literate_Kernel import LiterateKernel\n",
    "\n",
    "if __name__ == '__main__':\n",
    "    from ipykernel.kernelapp import IPKernelApp\n",
    "    IPKernelApp.launch_instance(kernel_class=LiterateKernel)\"\"\");\n"
   ]
  },
  {
   "cell_type": "code",
   "execution_count": null,
   "metadata": {},
   "outputs": [],
   "source": []
  }
 ],
 "metadata": {
  "kernelspec": {
   "display_name": "Python 3",
   "language": "python",
   "name": "python3"
  },
  "language_info": {
   "codemirror_mode": {
    "name": "ipython",
    "version": 3
   },
   "file_extension": ".py",
   "mimetype": "text/x-python",
   "name": "python",
   "nbconvert_exporter": "python",
   "pygments_lexer": "ipython3",
   "version": "3.6.6"
  }
 },
 "nbformat": 4,
 "nbformat_minor": 2
}
