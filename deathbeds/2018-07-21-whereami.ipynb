{
 "cells": [
  {
   "cell_type": "markdown",
   "metadata": {},
   "source": [
    "# Constants to discover where a statement is executed from\n",
    "\n",
    "I hate the `__name__ == '__main__'`, it throws people off.  Like Y the F R U doing that.\n",
    "\n",
    "This notebook creates exports three objects that will tell if:\n",
    "\n",
    "* If the statement was called from a `__main__` module.\n",
    "* If the statement was called interactively.\n",
    "* If the statement was called on an imported object."
   ]
  },
  {
   "cell_type": "code",
   "execution_count": 1,
   "metadata": {},
   "outputs": [],
   "source": [
    "    __all__ = 'MAIN', 'INTERACTIVE', 'IMPORTED'"
   ]
  },
  {
   "cell_type": "code",
   "execution_count": 2,
   "metadata": {},
   "outputs": [],
   "source": [
    "    from inspect import currentframe, getouterframes\n",
    "    from pathlib import Path"
   ]
  },
  {
   "cell_type": "markdown",
   "metadata": {},
   "source": [
    "The name of the file provides a baseline for comparing call frames."
   ]
  },
  {
   "cell_type": "code",
   "execution_count": 3,
   "metadata": {},
   "outputs": [],
   "source": [
    "    FILE = globals().get('__file__', None)"
   ]
  },
  {
   "cell_type": "markdown",
   "metadata": {},
   "source": [
    "Get the current frame and retreive the first frame called outside of this module."
   ]
  },
  {
   "cell_type": "code",
   "execution_count": 4,
   "metadata": {},
   "outputs": [],
   "source": [
    "    class state:\n",
    "        \"\"\"Base class for the state objects.\"\"\"\n",
    "        def __bool__(self): \n",
    "            global FILE\n",
    "            for frame in getouterframes(currentframe()):\n",
    "                frame = frame.frame\n",
    "                file = frame.f_globals.get('__file__', None)\n",
    "                if file != FILE or FILE is None:\n",
    "                    return frame.f_globals.get('__name__'), file, frame"
   ]
  },
  {
   "cell_type": "markdown",
   "metadata": {},
   "source": [
    "## Is the module being run from the command line as an application?"
   ]
  },
  {
   "cell_type": "code",
   "execution_count": 5,
   "metadata": {},
   "outputs": [],
   "source": [
    "class main(state):\n",
    "    \"\"\"Use MAIN to discover if a statement is invoked as a __main__ program.\n",
    "    \n",
    "    replaces\n",
    "    \n",
    "        __name__ == '__main__' and __import__('sys').argv == __file__\n",
    "    \"\"\"\n",
    "    def __bool__(self):\n",
    "        name, file, frame = super().__bool__()\n",
    "        return name == '__main__' and file == __import__('sys').argv[0]\n",
    "    \n",
    "MAIN = main()"
   ]
  },
  {
   "cell_type": "markdown",
   "metadata": {},
   "source": [
    "## Is the code executed by IPython or Jupyter?"
   ]
  },
  {
   "cell_type": "code",
   "execution_count": 6,
   "metadata": {},
   "outputs": [],
   "source": [
    "class interactive(state):\n",
    "    \"\"\"Use INTERACTIVE to discover if a statement is invoked from IPython or Jupyter.\n",
    "    \n",
    "    replaces\n",
    "        \n",
    "        __name__ == '__main__' and globals().get('__file__', None) == None\n",
    "    \"\"\"\n",
    "    def __bool__(self):\n",
    "        name, file, frame = super().__bool__()\n",
    "        return name == '__main__' and file is None\n",
    "    \n",
    "INTERACTIVE = interactive()"
   ]
  },
  {
   "cell_type": "markdown",
   "metadata": {},
   "source": [
    "## Is the module simply being imported?"
   ]
  },
  {
   "cell_type": "code",
   "execution_count": 7,
   "metadata": {},
   "outputs": [],
   "source": [
    "class imported(state):\n",
    "    \"\"\"Use IMPORTED to discover if a statement is invoked as an imported module.\n",
    "    \n",
    "    replaces: \n",
    "    \n",
    "        __name__ != '__main__'\n",
    "    \"\"\"\n",
    "    def __bool__(self):\n",
    "        name, file, frame = super().__bool__()\n",
    "        return name != '__main__'\n",
    "    \n",
    "IMPORTED = imported()"
   ]
  },
  {
   "cell_type": "markdown",
   "metadata": {},
   "source": [
    "# Developer"
   ]
  },
  {
   "cell_type": "code",
   "execution_count": 8,
   "metadata": {},
   "outputs": [],
   "source": [
    "    def test_imported():\n",
    "        assert IMPORTED, \"the logic is borked.\""
   ]
  },
  {
   "cell_type": "code",
   "execution_count": 9,
   "metadata": {},
   "outputs": [
    {
     "name": "stdout",
     "output_type": "stream",
     "text": [
      "============================= test session starts =============================\n",
      "platform win32 -- Python 3.6.5, pytest-3.5.1, py-1.5.3, pluggy-0.6.0\n",
      "rootdir: C:\\Users\\deathbeds\\deathbeds.github.io\\deathbeds, inifile: tox.ini\n",
      "plugins: testmon-0.9.12, remotedata-0.2.1, openfiles-0.3.0, doctestplus-0.1.3, arraydiff-0.2, importnb-0.4.1, hypothesis-3.66.1\n",
      "collected 1 item\n",
      "\n",
      "2018-07-21-whereami.ipynb .\n",
      "\n",
      "========================== 1 passed in 0.33 seconds ===========================\n"
     ]
    }
   ],
   "source": [
    "    if INTERACTIVE:\n",
    "        __import__('pytest').main(\"-s 2018-07-21-whereami.ipynb\".split())"
   ]
  },
  {
   "cell_type": "code",
   "execution_count": null,
   "metadata": {},
   "outputs": [],
   "source": []
  }
 ],
 "metadata": {
  "kernelspec": {
   "display_name": "Python 3",
   "language": "python",
   "name": "python3"
  },
  "language_info": {
   "codemirror_mode": {
    "name": "ipython",
    "version": 3
   },
   "file_extension": ".py",
   "mimetype": "text/x-python",
   "name": "python",
   "nbconvert_exporter": "python",
   "pygments_lexer": "ipython3",
   "version": "3.6.5"
  }
 },
 "nbformat": 4,
 "nbformat_minor": 2
}
