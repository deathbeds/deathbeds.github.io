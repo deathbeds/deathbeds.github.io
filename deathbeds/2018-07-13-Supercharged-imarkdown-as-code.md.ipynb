{
 "cells": [
  {
   "cell_type": "markdown",
   "metadata": {},
   "source": [
    "# What to do with inline code blocks in Markdown\n",
    "\n",
    "We've wanted to experiment with the IPython inspector for a while.  Rather than\n",
    "change the way we predict objects, this post uses the default inspection view to augmented rendering of Markdown forward code.\n",
    "\n",
    "\n",
    "\n",
    "Recently, some posts have been introduced as changes to `pidgin` which provides some literate computing extensions for the Jupyter notebook.  It effectively combines the previous posts on [String Transformers](2018-06-19-String-Node-Transformer.ipynb), [Markdown Code Cells](2018-07-06-Markdown-code-cells.ipynb), and [Jinja Templated Cells](2018-07-07-A-Jinja2-Templating-Transformer.md.ipynb)."
   ]
  },
  {
   "cell_type": "code",
   "execution_count": 1,
   "metadata": {},
   "outputs": [],
   "source": [
    "    from . import (\n",
    "        __String_Node_Transformer, __Markdown_code_cells, \n",
    "        __Jinja2_Templating_Transformer)"
   ]
  },
  {
   "cell_type": "code",
   "execution_count": 2,
   "metadata": {},
   "outputs": [],
   "source": [
    "    from CommonMark import Parser\n",
    "    from pidgin.markdown import MarkdownTransformer, MarkdownImporter, CodeRenderer\n",
    "    from CommonMark.render.html import HtmlRenderer\n",
    "    import ast\n",
    "    from tqdm import tqdm\n",
    "    from IPython.display import display, HTML\n",
    "    from IPython import get_ipython\n",
    "    from IPython.core.oinspect import Inspector\n",
    "    from IPython.utils.capture import capture_output\n",
    "    inspector = Inspector(scheme='NoColor')"
   ]
  },
  {
   "cell_type": "markdown",
   "metadata": {},
   "source": [
    "* Assign a special css styles to the rendered inline code blocks."
   ]
  },
  {
   "cell_type": "code",
   "execution_count": 3,
   "metadata": {},
   "outputs": [
    {
     "data": {
      "text/html": [
       "\n",
       "<style>\n",
       ".inspectable {display: inline;}\n",
       ".inspectable code {\n",
       "    display: inline-block;\n",
       "    text-decoration: underline;}\n",
       ".inspectable:hover code {text-decoration: overline;}\n",
       ".inspectable .inspect {\n",
       "    display: none;\n",
       "    border-style: solid;\n",
       "    border-width: 5px;}\n",
       ".inspectable:hover .inspect {display: block;}</style>"
      ],
      "text/plain": [
       "<IPython.core.display.HTML object>"
      ]
     },
     "metadata": {},
     "output_type": "display_data"
    }
   ],
   "source": [
    "    style = \"\"\"\n",
    "    <style>\n",
    "    .inspectable {display: inline;}\n",
    "    .inspectable code {\n",
    "        display: inline-block;\n",
    "        text-decoration: underline;}\n",
    "    .inspectable:hover code {text-decoration: overline;}\n",
    "    .inspectable .inspect {\n",
    "        display: none;\n",
    "        border-style: solid;\n",
    "        border-width: 5px;}\n",
    "    .inspectable:hover .inspect {display: block;}</style>\"\"\"\n",
    "    display(HTML(style))"
   ]
  },
  {
   "cell_type": "markdown",
   "metadata": {},
   "source": [
    "* A custom renderer for inline code cells that evaluates code."
   ]
  },
  {
   "cell_type": "code",
   "execution_count": 4,
   "metadata": {},
   "outputs": [],
   "source": [
    "    class IMarkdownRenderer(HtmlRenderer):\n",
    "        def code(self, node, entering):\n",
    "            print(node)\n",
    "            with capture_output(stderr=True, stdout=False) as out:\n",
    "                module = ast.parse(node.literal)\n",
    "                for object in tqdm(module.body, node.literal):\n",
    "                    if object is module.body[-1] and isinstance(module.body[-1], ast.Expr):\n",
    "                        code = compile(ast.Expression(object.value), '<inspected>', 'eval')\n",
    "                    else:\n",
    "                        code = compile(ast.Module([object]), '<inspected>', 'exec')\n",
    "                    object = eval(code, get_ipython().user_ns)\n",
    "                if object is not None:\n",
    "                    display(object)\n",
    "\n",
    "            if out.outputs and 'text/html' in  out.outputs[0].data:\n",
    "                overlay = out.outputs[0].data['text/html']\n",
    "            elif object is not None:\n",
    "                overlay = inspector._get_info(object, node.literal)['text/html']\n",
    "            else: \n",
    "                overlay = \"\"\n",
    "\n",
    "            begin, end = self.buf.rsplit('>', 1)\n",
    "\n",
    "            self.buf = begin + ' style=\"display: inline-block\">' + end\n",
    "            self.tag('div', (('class', 'inspectable'),))\n",
    "            super().code(node, entering)\n",
    "            self.tag('div', (('class', 'inspect'),))\n",
    "            self.tag('pre'), self.tag('code')\n",
    "            self.out(out.stderr.splitlines()[-1])\n",
    "            self.tag('/code'), self.tag('/pre')\n",
    "\n",
    "            if overlay: self.lit(overlay), self.tag('br', selfclosing=True)\n",
    "            self.tag('/div'), self.tag('/div')\n",
    "            return"
   ]
  },
  {
   "cell_type": "code",
   "execution_count": 5,
   "metadata": {},
   "outputs": [],
   "source": [
    "    class InteractiveRenderer(CodeRenderer):\n",
    "        def repr(self, str): return HTML(self.render(Parser().parse(str)))\n"
   ]
  },
  {
   "cell_type": "markdown",
   "metadata": {},
   "source": [
    "* Create a transformer and importer"
   ]
  },
  {
   "cell_type": "code",
   "execution_count": 6,
   "metadata": {},
   "outputs": [],
   "source": [
    "    class IMarkdownTransformer(MarkdownTransformer): \n",
    "        renderer = staticmethod(InteractiveRenderer())\n",
    "\n",
    "    class IMarkdownImporter(MarkdownImporter):\n",
    "        extensions = '.i.md.ipynb',\n",
    "        renderer = IMarkdownTransformer.renderer"
   ]
  },
  {
   "cell_type": "code",
   "execution_count": 8,
   "metadata": {},
   "outputs": [],
   "source": [
    "    def load_ipython_extension(ip=None):\n",
    "        ip = ip or get_ipython()\n",
    "        unload_ipython_extension(ip)\n",
    "        ip.input_transformer_manager.physical_line_transforms.insert(0, IMarkdownTransformer())            \n",
    "    def unload_ipython_extension(ip=None):\n",
    "        ip = ip or get_ipython()\n",
    "        ip.input_transformer_manager.physical_line_transforms = list(\n",
    "            object for object in ip.input_transformer_manager.physical_line_transforms\n",
    "            if not isinstance(object, (MarkdownTransformer, IMarkdownTransformer))\n",
    "        )"
   ]
  },
  {
   "cell_type": "markdown",
   "metadata": {},
   "source": [
    "# Results"
   ]
  },
  {
   "cell_type": "code",
   "execution_count": 9,
   "metadata": {},
   "outputs": [],
   "source": [
    "    if __name__ == '__main__': load_ipython_extension()"
   ]
  },
  {
   "cell_type": "code",
   "execution_count": 10,
   "metadata": {
    "scrolled": false
   },
   "outputs": [
    {
     "data": {
      "text/markdown": [
       "## What is special now; `import pandas, pidgin`?\n",
       "---\n",
       "    if __name__ == '__main__':\n",
       "\n",
       "The `pidgin.markdown` module allow code cells to be markdown and the block code is concatenated into a single code execution.\n",
       "The inline code elements are meaningless by these conventions.\n",
       "\n",
       "> It has been nagging me for a while what to do with inline code in Markdown.  \n",
       "\n",
       "## Interactive Markdown\n",
       "\n",
       "In interactive markdown, inline code cells have augmented views.  Like the author would share what \n",
       "the current state of the `globals().keys()` are.  If the notebook will restart and run all then these\n",
       "outputs can be encoded into documents.\n",
       "\n",
       "Usually there is and data.  When there is data with `import pandas as pd;pd`\n",
       "and create a `pd.DataFrame`.  The quickest way to do so is with the `pd.util.testing` module; \n",
       "`df = pd.util.testing.makeDataFrame(); df` and has the following properties. \n",
       "\n",
       "        # df.describe()\n",
       "        ...\n"
      ],
      "text/plain": [
       "<IPython.core.display.Markdown object>"
      ]
     },
     "metadata": {},
     "output_type": "display_data"
    }
   ],
   "source": [
    "## What is special now; `import pandas, pidgin`?\n",
    "---\n",
    "    if __name__ == '__main__':\n",
    "\n",
    "The `pidgin.markdown` module allow code cells to be markdown and the block code is concatenated into a single code execution.\n",
    "The inline code elements are meaningless by these conventions.\n",
    "\n",
    "> It has been nagging me for a while what to do with inline code in Markdown.  \n",
    "\n",
    "## Interactive Markdown\n",
    "\n",
    "In interactive markdown, inline code cells have augmented views.  Like the author would share what \n",
    "the current state of the `globals().keys()` are.  If the notebook will restart and run all then these\n",
    "outputs can be encoded into documents.\n",
    "\n",
    "Usually there is and data.  When there is data with `import pandas as pd;pd`\n",
    "and create a `pd.DataFrame`.  The quickest way to do so is with the `pd.util.testing` module; \n",
    "`df = pd.util.testing.makeDataFrame(); df` and has the following properties. \n",
    "\n",
    "        # df.describe()\n",
    "        ..."
   ]
  }
 ],
 "metadata": {
  "kernelspec": {
   "display_name": "p6",
   "language": "python",
   "name": "other-env"
  },
  "language_info": {
   "codemirror_mode": {
    "name": "ipython",
    "version": 3
   },
   "file_extension": ".py",
   "mimetype": "text/x-python",
   "name": "python",
   "nbconvert_exporter": "python",
   "pygments_lexer": "ipython3",
   "version": "3.6.3"
  },
  "varInspector": {
   "cols": {
    "lenName": 16,
    "lenType": 16,
    "lenVar": 40
   },
   "kernels_config": {
    "python": {
     "delete_cmd_postfix": "",
     "delete_cmd_prefix": "del ",
     "library": "var_list.py",
     "varRefreshCmd": "print(var_dic_list())"
    },
    "r": {
     "delete_cmd_postfix": ") ",
     "delete_cmd_prefix": "rm(",
     "library": "var_list.r",
     "varRefreshCmd": "cat(var_dic_list()) "
    }
   },
   "types_to_exclude": [
    "module",
    "function",
    "builtin_function_or_method",
    "instance",
    "_Feature"
   ],
   "window_display": false
  }
 },
 "nbformat": 4,
 "nbformat_minor": 2
}
