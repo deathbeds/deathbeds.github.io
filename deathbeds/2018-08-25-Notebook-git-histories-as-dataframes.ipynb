{
 "cells": [
  {
   "cell_type": "markdown",
   "metadata": {},
   "source": [
    "## Notebook revisions as tidy data.\n",
    "\n",
    "This notebook creates a convience function that loads the revision history of a jupyter notebook into a `pandas.DataFrame`."
   ]
  },
  {
   "cell_type": "code",
   "execution_count": 191,
   "metadata": {},
   "outputs": [],
   "source": [
    "    from git import *\n",
    "    from pandas import Series, read_json, to_datetime, concat"
   ]
  },
  {
   "cell_type": "markdown",
   "metadata": {},
   "source": [
    "`expand` transforms `gitpython` objects into `pandas.Series` objects."
   ]
  },
  {
   "cell_type": "code",
   "execution_count": 229,
   "metadata": {},
   "outputs": [],
   "source": [
    "    def expand(x): Series({\n",
    "        object: getattr(x, object) \n",
    "        for object in dir(x) \n",
    "        if (object not in {'data_stream'}) and object[0].islower()\n",
    "        and not callable(getattr(x, object))})"
   ]
  },
  {
   "cell_type": "markdown",
   "metadata": {},
   "source": [
    "    assert isinstance(Blob.data_stream, property)\n",
    "    \n",
    "We ignore the `data_stream` property because it the files contents of the revision, but it may not be executed twice.  _It took an unfortunate amount of time to discover this."
   ]
  },
  {
   "cell_type": "markdown",
   "metadata": {},
   "source": [
    "`get_history` will return a formatted pandas dataframe."
   ]
  },
  {
   "cell_type": "code",
   "execution_count": 213,
   "metadata": {},
   "outputs": [],
   "source": [
    "        def get_history(repo, path)->'DataFrame':\n",
    "            df = concat([\n",
    "                expand(c.tree / path).append(Series(\n",
    "                    [c, c.tree/path], ['commit', 'blob']\n",
    "                ))\n",
    "                for c in Repo(repo).iter_commits(paths=path)], axis=1).T\n",
    "\n",
    "            df = df.blob.apply(lambda x: read_json(x.data_stream, typ='Series')).join(df)\n",
    "            df = df.commit.apply(expand).join(df, lsuffix='_')\n",
    "            df = df.cells.apply(Series).stack().apply(Series).pipe(\n",
    "                lambda df_: df_.reset_index(-1, drop=True).join(df, rsuffix='_').set_index(df_.index))\n",
    "            df.index = df.index.rename('id', 1)\n",
    "            df.committed_datetime = df.committed_datetime.pipe(to_datetime, utc=True)\n",
    "            return df.reset_index(0, drop=True).set_index(\n",
    "                'committed_datetime', append=True).reorder_levels((1,0))"
   ]
  },
  {
   "cell_type": "markdown",
   "metadata": {},
   "source": [
    "The test below operates on a file in the `deathbeds` project.  We assure that the notebook components are expanded.  A dataframe is returned to be reused in an interactive session."
   ]
  },
  {
   "cell_type": "code",
   "execution_count": 214,
   "metadata": {},
   "outputs": [],
   "source": [
    "    def _test_deathbeds(): \n",
    "        df = get_history('..', 'deathbeds/2018-06-19-String-Node-Transformer.ipynb')\n",
    "        assert all(x in df.columns for x in {'cells', 'metadata'}), \"\"\"The dataframe didn't expand correctly\"\"\"\n",
    "        return df"
   ]
  },
  {
   "cell_type": "markdown",
   "metadata": {},
   "source": [
    "## A Sample view."
   ]
  },
  {
   "cell_type": "code",
   "execution_count": 220,
   "metadata": {},
   "outputs": [
    {
     "data": {
      "text/html": [
       "<div>\n",
       "<style scoped>\n",
       "    .dataframe tbody tr th:only-of-type {\n",
       "        vertical-align: middle;\n",
       "    }\n",
       "\n",
       "    .dataframe tbody tr th {\n",
       "        vertical-align: top;\n",
       "    }\n",
       "\n",
       "    .dataframe thead th {\n",
       "        text-align: right;\n",
       "    }\n",
       "</style>\n",
       "<table border=\"1\" class=\"dataframe\">\n",
       "  <thead>\n",
       "    <tr style=\"text-align: right;\">\n",
       "      <th></th>\n",
       "      <th></th>\n",
       "      <th>cell_type</th>\n",
       "      <th>metadata</th>\n",
       "      <th>source</th>\n",
       "      <th>execution_count</th>\n",
       "      <th>outputs</th>\n",
       "      <th>author</th>\n",
       "      <th>author_tz_offset</th>\n",
       "      <th>authored_date</th>\n",
       "      <th>authored_datetime</th>\n",
       "      <th>binsha_</th>\n",
       "      <th>...</th>\n",
       "      <th>link_mode</th>\n",
       "      <th>mime_type</th>\n",
       "      <th>mode</th>\n",
       "      <th>name</th>\n",
       "      <th>path</th>\n",
       "      <th>repo</th>\n",
       "      <th>size</th>\n",
       "      <th>type</th>\n",
       "      <th>commit</th>\n",
       "      <th>blob</th>\n",
       "    </tr>\n",
       "    <tr>\n",
       "      <th>committed_datetime</th>\n",
       "      <th>id</th>\n",
       "      <th></th>\n",
       "      <th></th>\n",
       "      <th></th>\n",
       "      <th></th>\n",
       "      <th></th>\n",
       "      <th></th>\n",
       "      <th></th>\n",
       "      <th></th>\n",
       "      <th></th>\n",
       "      <th></th>\n",
       "      <th></th>\n",
       "      <th></th>\n",
       "      <th></th>\n",
       "      <th></th>\n",
       "      <th></th>\n",
       "      <th></th>\n",
       "      <th></th>\n",
       "      <th></th>\n",
       "      <th></th>\n",
       "      <th></th>\n",
       "      <th></th>\n",
       "    </tr>\n",
       "  </thead>\n",
       "  <tbody>\n",
       "    <tr>\n",
       "      <th>2018-08-14 03:45:00+00:00</th>\n",
       "      <th>23</th>\n",
       "      <td>markdown</td>\n",
       "      <td>{}</td>\n",
       "      <td>[### GraphViz Example]</td>\n",
       "      <td>NaN</td>\n",
       "      <td>NaN</td>\n",
       "      <td>tonyfast</td>\n",
       "      <td>14400</td>\n",
       "      <td>1534218300</td>\n",
       "      <td>2018-08-13 23:45:00-04:00</td>\n",
       "      <td>b'|\\xa0\\xdds;0\\x93\\xf9;\\xce\\xae\\x8fe\\xd1`$I\\xf...</td>\n",
       "      <td>...</td>\n",
       "      <td>40960</td>\n",
       "      <td>text/plain</td>\n",
       "      <td>33188</td>\n",
       "      <td>2018-06-19-String-Node-Transformer.ipynb</td>\n",
       "      <td>deathbeds/2018-06-19-String-Node-Transformer.i...</td>\n",
       "      <td>&lt;git.Repo \"C:\\Users\\deathbeds\\deathbeds.github...</td>\n",
       "      <td>9790</td>\n",
       "      <td>blob</td>\n",
       "      <td>7ca0dd733b3093f93bceae8f65d1602449f532b8</td>\n",
       "      <td>c18d13b6aa860ee437584d049547022b7f168dac</td>\n",
       "    </tr>\n",
       "    <tr>\n",
       "      <th>2018-08-19 17:50:19+00:00</th>\n",
       "      <th>18</th>\n",
       "      <td>code</td>\n",
       "      <td>{}</td>\n",
       "      <td>[    class DoctestString(StrTokenTransformer):...</td>\n",
       "      <td>9.0</td>\n",
       "      <td>[]</td>\n",
       "      <td>Tony Fast</td>\n",
       "      <td>14400</td>\n",
       "      <td>1534701019</td>\n",
       "      <td>2018-08-19 13:50:19-04:00</td>\n",
       "      <td>b'\\xdd\\x0e\\xbc\\xc7V\\xb1d\\xb1\\xa1\\xf0b3\\xb4\\x1a...</td>\n",
       "      <td>...</td>\n",
       "      <td>40960</td>\n",
       "      <td>text/plain</td>\n",
       "      <td>33188</td>\n",
       "      <td>2018-06-19-String-Node-Transformer.ipynb</td>\n",
       "      <td>deathbeds/2018-06-19-String-Node-Transformer.i...</td>\n",
       "      <td>&lt;git.Repo \"C:\\Users\\deathbeds\\deathbeds.github...</td>\n",
       "      <td>10276</td>\n",
       "      <td>blob</td>\n",
       "      <td>dd0ebcc756b164b1a1f06233b41a18cbb67bf7d3</td>\n",
       "      <td>c5ee562d54227081b260dfe0f089f02dcf827236</td>\n",
       "    </tr>\n",
       "    <tr>\n",
       "      <th>2018-08-18 00:23:08+00:00</th>\n",
       "      <th>29</th>\n",
       "      <td>markdown</td>\n",
       "      <td>{}</td>\n",
       "      <td>[# What other replacements could you imagine?]</td>\n",
       "      <td>NaN</td>\n",
       "      <td>NaN</td>\n",
       "      <td>Tony Fast</td>\n",
       "      <td>14400</td>\n",
       "      <td>1534551788</td>\n",
       "      <td>2018-08-17 20:23:08-04:00</td>\n",
       "      <td>b'\\xbf\\x05\\xd3c\\xb2\\x8b&lt;a@\\x85\\x1f}\\xc1\\xc7\\x9...</td>\n",
       "      <td>...</td>\n",
       "      <td>40960</td>\n",
       "      <td>text/plain</td>\n",
       "      <td>33188</td>\n",
       "      <td>2018-06-19-String-Node-Transformer.ipynb</td>\n",
       "      <td>deathbeds/2018-06-19-String-Node-Transformer.i...</td>\n",
       "      <td>&lt;git.Repo \"C:\\Users\\deathbeds\\deathbeds.github...</td>\n",
       "      <td>10293</td>\n",
       "      <td>blob</td>\n",
       "      <td>bf05d363b28b3c6140851f7dc1c79a7491e5fb67</td>\n",
       "      <td>7b8bdc1b59a42b82b512d2ed7adaed585176d419</td>\n",
       "    </tr>\n",
       "  </tbody>\n",
       "</table>\n",
       "<p>3 rows × 48 columns</p>\n",
       "</div>"
      ],
      "text/plain": [
       "                             cell_type metadata  \\\n",
       "committed_datetime        id                      \n",
       "2018-08-14 03:45:00+00:00 23  markdown       {}   \n",
       "2018-08-19 17:50:19+00:00 18      code       {}   \n",
       "2018-08-18 00:23:08+00:00 29  markdown       {}   \n",
       "\n",
       "                                                                         source  \\\n",
       "committed_datetime        id                                                      \n",
       "2018-08-14 03:45:00+00:00 23                             [### GraphViz Example]   \n",
       "2018-08-19 17:50:19+00:00 18  [    class DoctestString(StrTokenTransformer):...   \n",
       "2018-08-18 00:23:08+00:00 29     [# What other replacements could you imagine?]   \n",
       "\n",
       "                              execution_count outputs     author  \\\n",
       "committed_datetime        id                                       \n",
       "2018-08-14 03:45:00+00:00 23              NaN     NaN   tonyfast   \n",
       "2018-08-19 17:50:19+00:00 18              9.0      []  Tony Fast   \n",
       "2018-08-18 00:23:08+00:00 29              NaN     NaN  Tony Fast   \n",
       "\n",
       "                              author_tz_offset  authored_date  \\\n",
       "committed_datetime        id                                    \n",
       "2018-08-14 03:45:00+00:00 23             14400     1534218300   \n",
       "2018-08-19 17:50:19+00:00 18             14400     1534701019   \n",
       "2018-08-18 00:23:08+00:00 29             14400     1534551788   \n",
       "\n",
       "                                      authored_datetime  \\\n",
       "committed_datetime        id                              \n",
       "2018-08-14 03:45:00+00:00 23  2018-08-13 23:45:00-04:00   \n",
       "2018-08-19 17:50:19+00:00 18  2018-08-19 13:50:19-04:00   \n",
       "2018-08-18 00:23:08+00:00 29  2018-08-17 20:23:08-04:00   \n",
       "\n",
       "                                                                        binsha_  \\\n",
       "committed_datetime        id                                                      \n",
       "2018-08-14 03:45:00+00:00 23  b'|\\xa0\\xdds;0\\x93\\xf9;\\xce\\xae\\x8fe\\xd1`$I\\xf...   \n",
       "2018-08-19 17:50:19+00:00 18  b'\\xdd\\x0e\\xbc\\xc7V\\xb1d\\xb1\\xa1\\xf0b3\\xb4\\x1a...   \n",
       "2018-08-18 00:23:08+00:00 29  b'\\xbf\\x05\\xd3c\\xb2\\x8b<a@\\x85\\x1f}\\xc1\\xc7\\x9...   \n",
       "\n",
       "                                                ...                     \\\n",
       "committed_datetime        id                    ...                      \n",
       "2018-08-14 03:45:00+00:00 23                    ...                      \n",
       "2018-08-19 17:50:19+00:00 18                    ...                      \n",
       "2018-08-18 00:23:08+00:00 29                    ...                      \n",
       "\n",
       "                              link_mode   mime_type   mode  \\\n",
       "committed_datetime        id                                 \n",
       "2018-08-14 03:45:00+00:00 23      40960  text/plain  33188   \n",
       "2018-08-19 17:50:19+00:00 18      40960  text/plain  33188   \n",
       "2018-08-18 00:23:08+00:00 29      40960  text/plain  33188   \n",
       "\n",
       "                                                                  name  \\\n",
       "committed_datetime        id                                             \n",
       "2018-08-14 03:45:00+00:00 23  2018-06-19-String-Node-Transformer.ipynb   \n",
       "2018-08-19 17:50:19+00:00 18  2018-06-19-String-Node-Transformer.ipynb   \n",
       "2018-08-18 00:23:08+00:00 29  2018-06-19-String-Node-Transformer.ipynb   \n",
       "\n",
       "                                                                           path  \\\n",
       "committed_datetime        id                                                      \n",
       "2018-08-14 03:45:00+00:00 23  deathbeds/2018-06-19-String-Node-Transformer.i...   \n",
       "2018-08-19 17:50:19+00:00 18  deathbeds/2018-06-19-String-Node-Transformer.i...   \n",
       "2018-08-18 00:23:08+00:00 29  deathbeds/2018-06-19-String-Node-Transformer.i...   \n",
       "\n",
       "                                                                           repo  \\\n",
       "committed_datetime        id                                                      \n",
       "2018-08-14 03:45:00+00:00 23  <git.Repo \"C:\\Users\\deathbeds\\deathbeds.github...   \n",
       "2018-08-19 17:50:19+00:00 18  <git.Repo \"C:\\Users\\deathbeds\\deathbeds.github...   \n",
       "2018-08-18 00:23:08+00:00 29  <git.Repo \"C:\\Users\\deathbeds\\deathbeds.github...   \n",
       "\n",
       "                               size  type  \\\n",
       "committed_datetime        id                \n",
       "2018-08-14 03:45:00+00:00 23   9790  blob   \n",
       "2018-08-19 17:50:19+00:00 18  10276  blob   \n",
       "2018-08-18 00:23:08+00:00 29  10293  blob   \n",
       "\n",
       "                                                                commit  \\\n",
       "committed_datetime        id                                             \n",
       "2018-08-14 03:45:00+00:00 23  7ca0dd733b3093f93bceae8f65d1602449f532b8   \n",
       "2018-08-19 17:50:19+00:00 18  dd0ebcc756b164b1a1f06233b41a18cbb67bf7d3   \n",
       "2018-08-18 00:23:08+00:00 29  bf05d363b28b3c6140851f7dc1c79a7491e5fb67   \n",
       "\n",
       "                                                                  blob  \n",
       "committed_datetime        id                                            \n",
       "2018-08-14 03:45:00+00:00 23  c18d13b6aa860ee437584d049547022b7f168dac  \n",
       "2018-08-19 17:50:19+00:00 18  c5ee562d54227081b260dfe0f089f02dcf827236  \n",
       "2018-08-18 00:23:08+00:00 29  7b8bdc1b59a42b82b512d2ed7adaed585176d419  \n",
       "\n",
       "[3 rows x 48 columns]"
      ]
     },
     "execution_count": 220,
     "metadata": {},
     "output_type": "execute_result"
    }
   ],
   "source": [
    "    Ø = __name__ == '__main__'\n",
    "    df = Ø and _test_deathbeds()    \n",
    "    Ø and df.sample(3)"
   ]
  },
  {
   "cell_type": "markdown",
   "metadata": {},
   "source": [
    "The dataframe contains the following columns."
   ]
  },
  {
   "cell_type": "code",
   "execution_count": 223,
   "metadata": {},
   "outputs": [
    {
     "data": {
      "text/markdown": [
       "`cell_type` `metadata` `source` `execution_count` `outputs` `author` `author_tz_offset` `authored_date` `authored_datetime` `binsha_` `committed_date` `committer` `committer_tz_offset` `conf_encoding` `default_encoding` `encoding` `env_author_date` `env_committer_date` `gpgsig` `hexsha_` `message` `name_rev` `parents` `repo_` `size_` `stats` `summary` `tree` `type_` `cells` `metadata_` `nbformat` `nbformat_minor` `abspath` `binsha` `executable_mode` `file_mode` `hexsha` `link_mode` `mime_type` `mode` `name` `path` `repo` `size` `type` `commit` `blob`"
      ],
      "text/plain": [
       "<IPython.core.display.Markdown object>"
      ]
     },
     "execution_count": 223,
     "metadata": {},
     "output_type": "execute_result"
    }
   ],
   "source": [
    "    Ø and __import__(\"IPython\").display.Markdown(' '.join(f\"`{x}`\" for x in df.columns ))"
   ]
  },
  {
   "cell_type": "markdown",
   "metadata": {},
   "source": [
    "## Developer"
   ]
  },
  {
   "cell_type": "code",
   "execution_count": 228,
   "metadata": {},
   "outputs": [
    {
     "name": "stdout",
     "output_type": "stream",
     "text": [
      "============================= test session starts =============================\n",
      "platform win32 -- Python 3.6.5, pytest-3.5.1, py-1.5.3, pluggy-0.6.0\n",
      "Matplotlib: 2.2.2\n",
      "Freetype: 2.8.1\n",
      "rootdir: C:\\Users\\deathbeds\\deathbeds.github.io\\deathbeds, inifile: ../tox.ini\n",
      "plugins: xdist-1.22.5, testmon-0.9.12, remotedata-0.2.1, parallel-0.0.2, openfiles-0.3.0, mpl-0.9, localserver-0.4.1, forked-0.2, doctestplus-0.1.3, arraydiff-0.2, hypothesis-3.66.16, importnb-0.5.0\n",
      "collected 1 item\n",
      "\n",
      "2018-08-25-Notebook-git-histories-as-dataframes.ipynb .                  [100%]\n",
      "\n",
      "========================== 1 passed in 23.25 seconds ==========================\n"
     ]
    }
   ],
   "source": [
    "    if __name__ == '__main__':\n",
    "        !ipython -m pytest -- -c ../tox.ini 2018-08-25-Notebook-git-histories-as-dataframes.ipynb"
   ]
  }
 ],
 "metadata": {
  "kernelspec": {
   "display_name": "Python 3",
   "language": "python",
   "name": "python3"
  },
  "language_info": {
   "codemirror_mode": {
    "name": "ipython",
    "version": 3
   },
   "file_extension": ".py",
   "mimetype": "text/x-python",
   "name": "python",
   "nbconvert_exporter": "python",
   "pygments_lexer": "ipython3",
   "version": "3.6.5"
  }
 },
 "nbformat": 4,
 "nbformat_minor": 2
}
