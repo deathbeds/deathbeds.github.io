{
 "cells": [
  {
   "cell_type": "markdown",
   "metadata": {},
   "source": [
    "# Downloading issues and pull requests.\n",
    "\n",
    "This document provides a basis for researching Github data locally.  It uses the a repository's metadata to access the Github Issues and Pull Requests."
   ]
  },
  {
   "cell_type": "code",
   "execution_count": 46,
   "metadata": {},
   "outputs": [],
   "source": [
    "    import pandas; import requests; from functools import partial\n",
    "    from requests_cache import install_cache\n",
    "    install_cache('github-data')"
   ]
  },
  {
   "cell_type": "code",
   "execution_count": 47,
   "metadata": {},
   "outputs": [],
   "source": [
    "    info = lambda x, **params: pandas.Series(requests.get(\"https://api.github.com/repos/{}\".format(x), params=params).json())"
   ]
  },
  {
   "cell_type": "code",
   "execution_count": 48,
   "metadata": {},
   "outputs": [],
   "source": [
    "    events = lambda action, x, **params: pandas.DataFrame(requests.get(\n",
    "        info(x, **params).loc[f'{action}_url'].format(**{'/number': ''})).json())"
   ]
  },
  {
   "cell_type": "code",
   "execution_count": 1,
   "metadata": {},
   "outputs": [],
   "source": [
    "    def pulls(\n",
    "        project: str, \n",
    "        iter: int=2, \n",
    "        state: ('open', 'closed', 'all')='closed'\n",
    "    ) -> iter:\n",
    "        \"\"\"Download the pull requests over {iter} pages for specific state of\n",
    "        pull request\"\"\"\n",
    "        for i in range(1, iter):\n",
    "            result = events('pulls', project, state=state, page=i)\n",
    "            yield result\n",
    "            if len(result) < 30: break\n"
   ]
  },
  {
   "cell_type": "code",
   "execution_count": 2,
   "metadata": {},
   "outputs": [],
   "source": [
    "    def test_jupyterlab(): \n",
    "        assert len(pandas.concat(list(pulls('jupyterlab/jupyterlab'))))"
   ]
  },
  {
   "cell_type": "code",
   "execution_count": 4,
   "metadata": {},
   "outputs": [
    {
     "name": "stdout",
     "output_type": "stream",
     "text": [
      "============================= test session starts =============================\n",
      "platform win32 -- Python 3.6.5, pytest-3.5.1, py-1.5.3, pluggy-0.6.0\n",
      "Matplotlib: 2.2.2\n",
      "Freetype: 2.8.1\n",
      "rootdir: C:\\Users\\deathbeds\\deathbeds.github.io\\deathbeds, inifile: tox.ini\n",
      "plugins: xdist-1.22.5, testmon-0.9.12, remotedata-0.2.1, parallel-0.0.2, openfiles-0.3.0, mpl-0.9, localserver-0.4.1, forked-0.2, doctestplus-0.1.3, arraydiff-0.2, hypothesis-3.66.16, importnb-0.5.0\n",
      "collected 1 item\n",
      "\n",
      "2018-08-25-Moving-github-data-into-dataframes.ipynb .                    [100%]\n",
      "\n",
      "========================== 1 passed in 9.00 seconds ===========================\n"
     ]
    }
   ],
   "source": [
    "    if __name__ == '__main__':\n",
    "        !ipython -m pytest -- 2018-08-25-Moving-github-data-into-dataframes.ipynb"
   ]
  }
 ],
 "metadata": {
  "kernelspec": {
   "display_name": "Python 3",
   "language": "python",
   "name": "python3"
  },
  "language_info": {
   "codemirror_mode": {
    "name": "ipython",
    "version": 3
   },
   "file_extension": ".py",
   "mimetype": "text/x-python",
   "name": "python",
   "nbconvert_exporter": "python",
   "pygments_lexer": "ipython3",
   "version": "3.6.5"
  }
 },
 "nbformat": 4,
 "nbformat_minor": 2
}
