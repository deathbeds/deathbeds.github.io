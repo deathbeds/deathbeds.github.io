{
 "cells": [
  {
   "cell_type": "markdown",
   "metadata": {},
   "source": [
    "# `black` formatter for the notebook\n",
    "\n",
    "[`black`](https://github.com/ambv/black) is the newly popular, uncompromising formatter for Python.  When writing computational essays, the structure and format of code objects are important for readability.  \n",
    "\n",
    "This notebook demonstrates the ability to format code cells with `black` interactively and with nbconvert."
   ]
  },
  {
   "cell_type": "code",
   "execution_count": 116,
   "metadata": {},
   "outputs": [],
   "source": [
    "    __all__ = 'Blacken', 'load_ipython_extension'"
   ]
  },
  {
   "cell_type": "markdown",
   "metadata": {},
   "source": [
    "    %reload_ext deathbeds.__blacken__"
   ]
  },
  {
   "cell_type": "markdown",
   "metadata": {},
   "source": [
    "The `%%blacken` magic will help interactively format code for sharing in a post or demostration."
   ]
  },
  {
   "cell_type": "markdown",
   "metadata": {},
   "source": [
    "* See the needlessly vulgar example below."
   ]
  },
  {
   "cell_type": "markdown",
   "metadata": {},
   "source": [
    "    %%blacken 100\n",
    "    def some_long_ass_function(\n",
    "                        with_=\"some\"\n",
    "            , fucked=\"up\"     , *, parameters=None\n",
    "    ):..."
   ]
  },
  {
   "cell_type": "markdown",
   "metadata": {},
   "source": [
    "* becomes"
   ]
  },
  {
   "cell_type": "markdown",
   "metadata": {},
   "source": [
    "    def some_long_ass_function(with_=\"some\", fucked=\"up\", *, parameters=None):\n",
    "        ...\n"
   ]
  },
  {
   "cell_type": "markdown",
   "metadata": {},
   "source": [
    "* and `ctrl+z` can be used to recover the original statement."
   ]
  },
  {
   "cell_type": "code",
   "execution_count": 117,
   "metadata": {},
   "outputs": [],
   "source": [
    "    from ast import literal_eval\n",
    "    from IPython import get_ipython\n",
    "    from textwrap import dedent, indent\n",
    "\n",
    "    WIDTH = 80"
   ]
  },
  {
   "cell_type": "code",
   "execution_count": 118,
   "metadata": {},
   "outputs": [],
   "source": [
    "    def blacken(line, str):\n",
    "        ip = get_ipython()\n",
    "        global WIDTH\n",
    "        import black\n",
    "        str = black.format_str(str, line and literal_eval(line) or WIDTH)\n",
    "        if ip:\n",
    "            ip.set_next_input(str, replace=True)\n",
    "            return\n",
    "        return str\n"
   ]
  },
  {
   "cell_type": "markdown",
   "metadata": {},
   "source": [
    "* Create the IPython extension."
   ]
  },
  {
   "cell_type": "code",
   "execution_count": 119,
   "metadata": {},
   "outputs": [],
   "source": [
    "    def load_ipython_extension(ip):\n",
    "        ip.register_magic_function(blacken, 'cell')"
   ]
  },
  {
   "cell_type": "markdown",
   "metadata": {},
   "source": [
    "* Test the extension"
   ]
  },
  {
   "cell_type": "code",
   "execution_count": 120,
   "metadata": {},
   "outputs": [],
   "source": [
    "    if __name__ == '__main__':\n",
    "        load_ipython_extension(get_ipython())"
   ]
  },
  {
   "cell_type": "markdown",
   "metadata": {},
   "source": [
    "## A `nbconvert` black preprocessor"
   ]
  },
  {
   "cell_type": "code",
   "execution_count": 121,
   "metadata": {},
   "outputs": [],
   "source": [
    "    from nbconvert.preprocessors import Preprocessor\n",
    "    from traitlets import Integer"
   ]
  },
  {
   "cell_type": "code",
   "execution_count": 122,
   "metadata": {},
   "outputs": [],
   "source": [
    "    class Blacken(Preprocessor):\n",
    "        width = Integer(default_value=WIDTH)\n",
    "        def preprocess_cell(self, cell, resources=None, *args, **kwargs):\n",
    "            if cell['cell_type'] == 'code':\n",
    "                source = ''.join(cell['source'])\n",
    "                indents = len(source) - len(source.lstrip())\n",
    "                cell['source'] = indent(\n",
    "                    blacken(\n",
    "                        str(self.width), dedent(source)\n",
    "                    ), ' '*indents\n",
    "                )\n",
    "\n",
    "            return cell, resources"
   ]
  },
  {
   "cell_type": "markdown",
   "metadata": {},
   "source": [
    "## Use a configuration file for the nbconvert settings.\n",
    "\n",
    "> I think we have to manually __import__ `importnb`.\n",
    "\n",
    "Initialize the Blacken Preprocessor and append it to the available preprocessors."
   ]
  },
  {
   "cell_type": "markdown",
   "metadata": {},
   "source": [
    "    %%file config_blacken.py\n",
    "    with __import__('importnb').Notebook():\n",
    "        from deathbeds import __blacken__\n",
    "    c.Exporter.preprocessors.append(__blacken__.Blacken())"
   ]
  },
  {
   "cell_type": "markdown",
   "metadata": {},
   "source": [
    "## `nbconvert` usage"
   ]
  },
  {
   "cell_type": "code",
   "execution_count": 123,
   "metadata": {},
   "outputs": [
    {
     "name": "stderr",
     "output_type": "stream",
     "text": [
      "[NbConvertApp] Converting notebook 2018-07-04-blacken-the-interactive-black-formatter.ipynb to notebook\n",
      "[NbConvertApp] Writing 6634 bytes to 2018-07-04-blacken-the-interactive-black-formatter.nbconvert.ipynb\n"
     ]
    }
   ],
   "source": [
    "    if __name__ == '__main__':\n",
    "        get_ipython().system(\"\"\"\n",
    "        \n",
    "        \n",
    "        jupyter nbconvert --config config_blacken.py --to notebook 2018-07-04-blacken-the-interactive-black-formatter.ipynb\n",
    "        \n",
    "        \n",
    "        \n",
    "        \"\"\".strip())"
   ]
  },
  {
   "cell_type": "code",
   "execution_count": 124,
   "metadata": {},
   "outputs": [],
   "source": [
    "    if __name__ == '__main__': import disqus"
   ]
  }
 ],
 "metadata": {
  "kernelspec": {
   "display_name": "Python 3",
   "language": "python",
   "name": "python3"
  },
  "language_info": {
   "codemirror_mode": {
    "name": "ipython",
    "version": 3
   },
   "file_extension": ".py",
   "mimetype": "text/x-python",
   "name": "python",
   "nbconvert_exporter": "python",
   "pygments_lexer": "ipython3",
   "version": "3.6.5"
  },
  "varInspector": {
   "cols": {
    "lenName": 16,
    "lenType": 16,
    "lenVar": 40
   },
   "kernels_config": {
    "python": {
     "delete_cmd_postfix": "",
     "delete_cmd_prefix": "del ",
     "library": "var_list.py",
     "varRefreshCmd": "print(var_dic_list())"
    },
    "r": {
     "delete_cmd_postfix": ") ",
     "delete_cmd_prefix": "rm(",
     "library": "var_list.r",
     "varRefreshCmd": "cat(var_dic_list()) "
    }
   },
   "types_to_exclude": [
    "module",
    "function",
    "builtin_function_or_method",
    "instance",
    "_Feature"
   ],
   "window_display": false
  }
 },
 "nbformat": 4,
 "nbformat_minor": 2
}
