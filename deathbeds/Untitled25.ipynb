{
 "cells": [
  {
   "cell_type": "markdown",
   "metadata": {},
   "source": [
    "> From this perspective, we therefore refer to the worfklow exposed by these kinds of computational notebooks (not just IPython, but also Sage, Mathematica and others), as \"literate computing\": it is the weaving of a narrative directly into a live computation, __interleaving text with code and results to construct a complete piece__ that relies equally on the textual explanations and the computational components.\n",
    "\n",
    "[Fernando Perez - __\"Literate computing\" and computational reproducibility: IPython in the age of data-driven journalism__](http://blog.fperez.org/2013/04/literate-computing-and-computational.html)"
   ]
  },
  {
   "cell_type": "markdown",
   "metadata": {},
   "source": [
    "> By coining the phrase “literate programming,” I am imposing a moral commitment on everyone who hears the term; surely nobody wants to admit writing an illiterate program.\n",
    "\n",
    ">> - [Donald Knuth](https://en.wikipedia.org/wiki/Donald_Knuth) - [Literate Programming](http://roxygen.org/knuth-literate-programming.pdf)\n",
    "\n"
   ]
  },
  {
   "cell_type": "markdown",
   "metadata": {},
   "source": [
    "# Literate Computing\n",
    "\n",
    "Literate computing is the act of creating computable documents to share with both humans and computers.\n",
    "\n",
    "* Literate Computing ≠ Literate Programming\n",
    "* Literate Programming ⊆ Literate Computing\n",
    "* Literate Computing = Literate Programming ∪ Interactive Computing"
   ]
  },
  {
   "cell_type": "code",
   "execution_count": 102,
   "metadata": {},
   "outputs": [
    {
     "data": {
      "text/html": [
       "<iframe style=\"height: 400px; width: 100%\" src=\"https://yihui.name/en/2018/09/notebook-war/\"></iframe>"
      ],
      "text/plain": [
       "'https://yihui.name/en/2018/09/notebook-war/'"
      ]
     },
     "execution_count": 102,
     "metadata": {},
     "output_type": "execute_result"
    }
   ],
   "source": [
    "https://yihui.name/en/2018/09/notebook-war/"
   ]
  },
  {
   "cell_type": "markdown",
   "metadata": {},
   "source": [
    "Many users choose notebooks as a way to communicate, and the avante garde is transitioning from word processors and slide shows to unified notebook workflows.  As these changes happen, more notebook users are have to communicate with real-world data with all the caveats. \n",
    "\n",
    "> I feel a major difference between the R culture and Python culture is that Python users seem to create code more often, whereas R users often use code. There seems to be a strong atmosphere of software engineering in the Python world: in the beginning was the custom class (with methods). For R users, in the beginning was the data.\n",
    ">> [Yihui Xie - The First Notebook War](https://yihui.name/en/2018/09/notebook-war/)"
   ]
  },
  {
   "cell_type": "code",
   "execution_count": 96,
   "metadata": {},
   "outputs": [],
   "source": [
    "from matplotlib_venn import venn2, venn3\n"
   ]
  },
  {
   "cell_type": "code",
   "execution_count": 97,
   "metadata": {},
   "outputs": [
    {
     "data": {
      "text/plain": [
       "<function matplotlib_venn._venn2.venn2(subsets, set_labels=('A', 'B'), set_colors=('r', 'g'), alpha=0.4, normalize_to=1.0, ax=None, subset_label_formatter=None)>"
      ]
     },
     "execution_count": 97,
     "metadata": {},
     "output_type": "execute_result"
    }
   ],
   "source": [
    "venn2()"
   ]
  },
  {
   "cell_type": "code",
   "execution_count": 93,
   "metadata": {},
   "outputs": [
    {
     "data": {
      "text/markdown": [],
      "text/plain": [
       "<IPython.core.display.Markdown object>"
      ]
     },
     "metadata": {},
     "output_type": "display_data"
    },
    {
     "data": {
      "text/markdown": [
       "Literate computing is a more natural style of compute.\n"
      ],
      "text/plain": [
       "<IPython.core.display.Markdown object>"
      ]
     },
     "metadata": {},
     "output_type": "display_data"
    },
    {
     "name": "stderr",
     "output_type": "stream",
     "text": [
      "sys:1: NoMarkdownCodeWarning: Cannot interpret Markdown cells with no block or inline code objects.\n"
     ]
    },
    {
     "data": {
      "text/markdown": [],
      "text/plain": [
       "<IPython.core.display.Markdown object>"
      ]
     },
     "metadata": {},
     "output_type": "display_data"
    },
    {
     "ename": "SyntaxError",
     "evalue": "invalid syntax (<ipython-input-93-dc7604d4c644>, line 1)",
     "output_type": "error",
     "traceback": [
      "\u001b[1;36m  File \u001b[1;32m\"<ipython-input-93-dc7604d4c644>\"\u001b[1;36m, line \u001b[1;32m1\u001b[0m\n\u001b[1;33m    Literate computing is a more natural style of compute.\u001b[0m\n\u001b[1;37m                     ^\u001b[0m\n\u001b[1;31mSyntaxError\u001b[0m\u001b[1;31m:\u001b[0m invalid syntax\n"
     ]
    }
   ],
   "source": [
    "Literate computing is a more natural style of compute."
   ]
  },
  {
   "cell_type": "code",
   "execution_count": 90,
   "metadata": {},
   "outputs": [
    {
     "data": {
      "text/html": [
       "<?xml version=\"1.0\" encoding=\"UTF-8\" standalone=\"no\"?>\r\n",
       "<!DOCTYPE svg PUBLIC \"-//W3C//DTD SVG 1.1//EN\"\r\n",
       " \"http://www.w3.org/Graphics/SVG/1.1/DTD/svg11.dtd\">\r\n",
       "<!-- Generated by graphviz version 2.38.0 (20140413.2041)\r\n",
       " -->\r\n",
       "<!-- Title: %3 Pages: 1 -->\r\n",
       "<svg width=\"291pt\" height=\"67pt\"\r\n",
       " viewBox=\"0.00 0.00 290.58 67.00\" xmlns=\"http://www.w3.org/2000/svg\" xmlns:xlink=\"http://www.w3.org/1999/xlink\">\r\n",
       "<g id=\"graph0\" class=\"graph\" transform=\"scale(1 1) rotate(0) translate(4 63)\">\r\n",
       "<title>%3</title>\r\n",
       "<polygon fill=\"white\" stroke=\"none\" points=\"-4,4 -4,-63 286.581,-63 286.581,4 -4,4\"/>\r\n",
       "<!-- input -->\r\n",
       "<g id=\"node1\" class=\"node\"><title>input</title>\r\n",
       "<ellipse fill=\"none\" stroke=\"black\" cx=\"28.5975\" cy=\"-18\" rx=\"28.6953\" ry=\"18\"/>\r\n",
       "<text text-anchor=\"middle\" x=\"28.5975\" y=\"-14.3\" font-family=\"Times New Roman,serif\" font-size=\"14.00\">input</text>\r\n",
       "</g>\r\n",
       "<!-- compute -->\r\n",
       "<g id=\"node2\" class=\"node\"><title>compute</title>\r\n",
       "<ellipse fill=\"none\" stroke=\"black\" cx=\"135.441\" cy=\"-41\" rx=\"42.4939\" ry=\"18\"/>\r\n",
       "<text text-anchor=\"middle\" x=\"135.441\" y=\"-37.3\" font-family=\"Times New Roman,serif\" font-size=\"14.00\">compute</text>\r\n",
       "</g>\r\n",
       "<!-- input&#45;&gt;compute -->\r\n",
       "<g id=\"edge1\" class=\"edge\"><title>input&#45;&gt;compute</title>\r\n",
       "<path fill=\"none\" stroke=\"black\" d=\"M55.7835,-23.7445C65.4424,-25.8634 76.7023,-28.3336 87.6329,-30.7315\"/>\r\n",
       "<polygon fill=\"black\" stroke=\"black\" points=\"87.0056,-34.177 97.5233,-32.9012 88.5056,-27.3396 87.0056,-34.177\"/>\r\n",
       "</g>\r\n",
       "<!-- output -->\r\n",
       "<g id=\"node3\" class=\"node\"><title>output</title>\r\n",
       "<ellipse fill=\"none\" stroke=\"black\" cx=\"248.134\" cy=\"-18\" rx=\"34.394\" ry=\"18\"/>\r\n",
       "<text text-anchor=\"middle\" x=\"248.134\" y=\"-14.3\" font-family=\"Times New Roman,serif\" font-size=\"14.00\">output</text>\r\n",
       "</g>\r\n",
       "<!-- compute&#45;&gt;output -->\r\n",
       "<g id=\"edge2\" class=\"edge\"><title>compute&#45;&gt;output</title>\r\n",
       "<path fill=\"none\" stroke=\"black\" d=\"M173.608,-33.2773C183.984,-31.1214 195.319,-28.7662 205.914,-26.5648\"/>\r\n",
       "<polygon fill=\"black\" stroke=\"black\" points=\"206.711,-29.9741 215.79,-24.5128 205.287,-23.1204 206.711,-29.9741\"/>\r\n",
       "</g>\r\n",
       "<!-- output&#45;&gt;input -->\r\n",
       "<g id=\"edge3\" class=\"edge\"><title>output&#45;&gt;input</title>\r\n",
       "<path fill=\"none\" stroke=\"black\" d=\"M213.946,-15.6988C202.468,-15.0064 189.518,-14.3404 177.687,-14 140.151,-12.9199 130.729,-12.8208 93.1949,-14 84.7834,-14.2643 75.7553,-14.7247 67.2198,-15.2413\"/>\r\n",
       "<polygon fill=\"black\" stroke=\"black\" points=\"66.8821,-11.7557 57.1272,-15.89 67.3311,-18.7413 66.8821,-11.7557\"/>\r\n",
       "</g>\r\n",
       "</g>\r\n",
       "</svg>\r\n"
      ],
      "text/plain": [
       "'digraph {rankdir=LR input->compute->output->input}'"
      ]
     },
     "execution_count": 90,
     "metadata": {},
     "output_type": "execute_result"
    }
   ],
   "source": [
    "    repl = \"digraph {rankdir=LR input->compute->output->input}\"; repl"
   ]
  },
  {
   "cell_type": "code",
   "execution_count": 92,
   "metadata": {},
   "outputs": [
    {
     "data": {
      "text/html": [
       "<?xml version=\"1.0\" encoding=\"UTF-8\" standalone=\"no\"?>\r\n",
       "<!DOCTYPE svg PUBLIC \"-//W3C//DTD SVG 1.1//EN\"\r\n",
       " \"http://www.w3.org/Graphics/SVG/1.1/DTD/svg11.dtd\">\r\n",
       "<!-- Generated by graphviz version 2.38.0 (20140413.2041)\r\n",
       " -->\r\n",
       "<!-- Title: %3 Pages: 1 -->\r\n",
       "<svg width=\"523pt\" height=\"153pt\"\r\n",
       " viewBox=\"0.00 0.00 522.67 153.00\" xmlns=\"http://www.w3.org/2000/svg\" xmlns:xlink=\"http://www.w3.org/1999/xlink\">\r\n",
       "<g id=\"graph0\" class=\"graph\" transform=\"scale(1 1) rotate(0) translate(4 149)\">\r\n",
       "<title>%3</title>\r\n",
       "<polygon fill=\"white\" stroke=\"none\" points=\"-4,4 -4,-149 518.67,-149 518.67,4 -4,4\"/>\r\n",
       "<g id=\"clust1\" class=\"cluster\"><title>clusterc</title>\r\n",
       "<polygon fill=\"none\" stroke=\"black\" points=\"8,-8 8,-137 290.784,-137 290.784,-8 8,-8\"/>\r\n",
       "<text text-anchor=\"middle\" x=\"149.392\" y=\"-121.8\" font-family=\"Times New Roman,serif\" font-size=\"14.00\">literate computing</text>\r\n",
       "</g>\r\n",
       "<!-- data -->\r\n",
       "<g id=\"node1\" class=\"node\"><title>data</title>\r\n",
       "<ellipse fill=\"none\" stroke=\"black\" cx=\"43\" cy=\"-61\" rx=\"27\" ry=\"18\"/>\r\n",
       "<text text-anchor=\"middle\" x=\"43\" y=\"-57.3\" font-family=\"Times New Roman,serif\" font-size=\"14.00\">data</text>\r\n",
       "</g>\r\n",
       "<!-- interactive computing -->\r\n",
       "<g id=\"node2\" class=\"node\"><title>interactive computing</title>\r\n",
       "<ellipse fill=\"none\" stroke=\"black\" cx=\"194.392\" cy=\"-88\" rx=\"88.2844\" ry=\"18\"/>\r\n",
       "<text text-anchor=\"middle\" x=\"194.392\" y=\"-84.3\" font-family=\"Times New Roman,serif\" font-size=\"14.00\">interactive computing</text>\r\n",
       "</g>\r\n",
       "<!-- data&#45;&gt;interactive computing -->\r\n",
       "<g id=\"edge1\" class=\"edge\"><title>data&#45;&gt;interactive computing</title>\r\n",
       "<path fill=\"none\" stroke=\"black\" d=\"M70.0221,-60.4362C88.0818,-62.3929 112.865,-66.429 135.483,-70.9377\"/>\r\n",
       "<polygon fill=\"black\" stroke=\"black\" points=\"134.853,-74.3814 145.353,-72.9652 136.262,-67.5246 134.853,-74.3814\"/>\r\n",
       "</g>\r\n",
       "<!-- literate programming -->\r\n",
       "<g id=\"node3\" class=\"node\"><title>literate programming</title>\r\n",
       "<ellipse fill=\"none\" stroke=\"black\" cx=\"194.392\" cy=\"-34\" rx=\"85.2851\" ry=\"18\"/>\r\n",
       "<text text-anchor=\"middle\" x=\"194.392\" y=\"-30.3\" font-family=\"Times New Roman,serif\" font-size=\"14.00\">literate programming</text>\r\n",
       "</g>\r\n",
       "<!-- data&#45;&gt;literate programming -->\r\n",
       "<g id=\"edge3\" class=\"edge\"><title>data&#45;&gt;literate programming</title>\r\n",
       "<path fill=\"none\" stroke=\"black\" d=\"M66.3655,-51.9754C77.344,-49.0742 91.3533,-45.982 106.035,-43.1252\"/>\r\n",
       "<polygon fill=\"black\" stroke=\"black\" points=\"107.101,-46.4858 116.277,-41.1903 105.801,-39.6075 107.101,-46.4858\"/>\r\n",
       "</g>\r\n",
       "<!-- interactive computing&#45;&gt;data -->\r\n",
       "<g id=\"edge2\" class=\"edge\"><title>interactive computing&#45;&gt;data</title>\r\n",
       "<path fill=\"none\" stroke=\"black\" d=\"M113.964,-80.3827C100.564,-77.8925 87.3678,-75.1485 76.1099,-72.4641\"/>\r\n",
       "<polygon fill=\"black\" stroke=\"black\" points=\"76.9162,-69.0581 66.3655,-70.0246 75.2161,-75.8485 76.9162,-69.0581\"/>\r\n",
       "</g>\r\n",
       "<!-- machines -->\r\n",
       "<g id=\"node4\" class=\"node\"><title>machines</title>\r\n",
       "<ellipse fill=\"none\" stroke=\"black\" cx=\"362.98\" cy=\"-88\" rx=\"44.393\" ry=\"18\"/>\r\n",
       "<text text-anchor=\"middle\" x=\"362.98\" y=\"-84.3\" font-family=\"Times New Roman,serif\" font-size=\"14.00\">machines</text>\r\n",
       "</g>\r\n",
       "<!-- interactive computing&#45;&gt;machines -->\r\n",
       "<g id=\"edge5\" class=\"edge\"><title>interactive computing&#45;&gt;machines</title>\r\n",
       "<path fill=\"none\" stroke=\"black\" d=\"M283.077,-88C291.785,-88 300.429,-88 308.627,-88\"/>\r\n",
       "<polygon fill=\"black\" stroke=\"black\" points=\"308.743,-91.5001 318.743,-88 308.743,-84.5001 308.743,-91.5001\"/>\r\n",
       "</g>\r\n",
       "<!-- literate programming&#45;&gt;data -->\r\n",
       "<g id=\"edge4\" class=\"edge\"><title>literate programming&#45;&gt;data</title>\r\n",
       "<path fill=\"none\" stroke=\"black\" d=\"M145.957,-48.9066C124.654,-53.4363 99.922,-57.7542 80.152,-60.3438\"/>\r\n",
       "<polygon fill=\"black\" stroke=\"black\" points=\"79.5319,-56.8931 70.0221,-61.5638 80.3689,-63.8429 79.5319,-56.8931\"/>\r\n",
       "</g>\r\n",
       "<!-- literate programming&#45;&gt;machines -->\r\n",
       "<g id=\"edge6\" class=\"edge\"><title>literate programming&#45;&gt;machines</title>\r\n",
       "<path fill=\"none\" stroke=\"black\" d=\"M248.122,-48.0434C262.067,-51.9973 277.057,-56.4637 290.784,-61 300.669,-64.2664 311.209,-68.0781 321.067,-71.7906\"/>\r\n",
       "<polygon fill=\"black\" stroke=\"black\" points=\"320.056,-75.1511 330.647,-75.4462 322.552,-68.611 320.056,-75.1511\"/>\r\n",
       "</g>\r\n",
       "<!-- people -->\r\n",
       "<g id=\"node5\" class=\"node\"><title>people</title>\r\n",
       "<ellipse fill=\"none\" stroke=\"black\" cx=\"362.98\" cy=\"-34\" rx=\"35.194\" ry=\"18\"/>\r\n",
       "<text text-anchor=\"middle\" x=\"362.98\" y=\"-30.3\" font-family=\"Times New Roman,serif\" font-size=\"14.00\">people</text>\r\n",
       "</g>\r\n",
       "<!-- literate programming&#45;&gt;people -->\r\n",
       "<g id=\"edge7\" class=\"edge\"><title>literate programming&#45;&gt;people</title>\r\n",
       "<path fill=\"none\" stroke=\"black\" d=\"M279.662,-34C292.638,-34 305.581,-34 317.234,-34\"/>\r\n",
       "<polygon fill=\"black\" stroke=\"black\" points=\"317.536,-37.5001 327.536,-34 317.536,-30.5001 317.536,-37.5001\"/>\r\n",
       "</g>\r\n",
       "<!-- 🙉🙈🙊 -->\r\n",
       "<g id=\"node6\" class=\"node\"><title>🙉🙈🙊</title>\r\n",
       "<ellipse fill=\"none\" stroke=\"black\" cx=\"478.923\" cy=\"-61\" rx=\"35.9954\" ry=\"18\"/>\r\n",
       "<text text-anchor=\"middle\" x=\"478.923\" y=\"-57.3\" font-family=\"Times New Roman,serif\" font-size=\"14.00\">🙉🙈🙊</text>\r\n",
       "</g>\r\n",
       "<!-- machines&#45;&gt;🙉🙈🙊 -->\r\n",
       "<g id=\"edge8\" class=\"edge\"><title>machines&#45;&gt;🙉🙈🙊</title>\r\n",
       "<path fill=\"none\" stroke=\"black\" d=\"M401.605,-79.0844C412.623,-76.4736 424.736,-73.6032 436.003,-70.9334\"/>\r\n",
       "<polygon fill=\"black\" stroke=\"black\" points=\"437.134,-74.2625 446.057,-68.551 435.52,-67.4512 437.134,-74.2625\"/>\r\n",
       "</g>\r\n",
       "<!-- people&#45;&gt;🙉🙈🙊 -->\r\n",
       "<g id=\"edge9\" class=\"edge\"><title>people&#45;&gt;🙉🙈🙊</title>\r\n",
       "<path fill=\"none\" stroke=\"black\" d=\"M395.116,-41.3779C407.718,-44.364 422.459,-47.8571 435.983,-51.0618\"/>\r\n",
       "<polygon fill=\"black\" stroke=\"black\" points=\"435.495,-54.543 446.032,-53.4431 437.109,-47.7316 435.495,-54.543\"/>\r\n",
       "</g>\r\n",
       "</g>\r\n",
       "</svg>\r\n"
      ],
      "text/plain": [
       "'digraph {rankdir=\"LR\"; subgraph clusterc{ label=\"literate computing\"; data->\"interactive computing\" ->data -> \"literate programming\" ->data} {\"interactive computing\" \"literate programming\"} -> machines \"literate programming\" -> people {machines people} -> 🙉🙈🙊} '"
      ]
     },
     "execution_count": 92,
     "metadata": {},
     "output_type": "execute_result"
    }
   ],
   "source": [
    "    digraph {rankdir=\"LR\"; subgraph clusterc{ label=\"literate computing\"; data->\"interactive computing\" ->data -> \"literate programming\" ->data} {\"interactive computing\" \"literate programming\"} -> machines \"literate programming\" -> people {machines people} -> 🙉🙈🙊} "
   ]
  },
  {
   "cell_type": "code",
   "execution_count": 85,
   "metadata": {},
   "outputs": [
    {
     "data": {
      "text/markdown": [],
      "text/plain": [
       "<IPython.core.display.Markdown object>"
      ]
     },
     "metadata": {},
     "output_type": "display_data"
    },
    {
     "data": {
      "text/markdown": [
       "[Literate Programming](https://en.wikipedia.org/wiki/Literate_programming) is a style of programming that considers \n",
       "both the human readability and computability of a computational document.  In literate programming, there are\n",
       "two stages: __tangling__ & __weaving__.\n",
       "    \n",
       "__Tangling__ refers to extracting computable objects from source.  This is similar to the Markdown\n",
       "forward coding approach we have discussed extensively in other posts.\n",
       "\n",
       "Markdown is chosen because it is language agnostic and could supply an existing grammar to a\n",
       "multi-kernel interface.\n",
       "\n",
       "__Weaving__ transforms the source and computable objects into views.  \n"
      ],
      "text/plain": [
       "<IPython.core.display.Markdown object>"
      ]
     },
     "metadata": {},
     "output_type": "display_data"
    },
    {
     "name": "stderr",
     "output_type": "stream",
     "text": [
      "sys:1: NoMarkdownCodeWarning: Cannot interpret Markdown cells with no block or inline code objects.\n"
     ]
    },
    {
     "data": {
      "text/markdown": [],
      "text/plain": [
       "<IPython.core.display.Markdown object>"
      ]
     },
     "metadata": {},
     "output_type": "display_data"
    },
    {
     "ename": "SyntaxError",
     "evalue": "invalid syntax (<ipython-input-85-5b64d9dd6ca3>, line 1)",
     "output_type": "error",
     "traceback": [
      "\u001b[1;36m  File \u001b[1;32m\"<ipython-input-85-5b64d9dd6ca3>\"\u001b[1;36m, line \u001b[1;32m1\u001b[0m\n\u001b[1;33m    [Literate Programming](https://en.wikipedia.org/wiki/Literate_programming) is a style of programming that considers\u001b[0m\n\u001b[1;37m                        ^\u001b[0m\n\u001b[1;31mSyntaxError\u001b[0m\u001b[1;31m:\u001b[0m invalid syntax\n"
     ]
    }
   ],
   "source": [
    "[Literate Programming](https://en.wikipedia.org/wiki/Literate_programming) is a style of programming that considers \n",
    "both the human readability and computability of a computational document.  In literate programming, there are\n",
    "two stages: __tangling__ & __weaving__.\n",
    "    \n",
    "__Tangling__ refers to extracting computable objects from source.  This is similar to the Markdown\n",
    "forward coding approach we have discussed extensively in other posts.\n",
    "\n",
    "Markdown is chosen because it is language agnostic and could supply an existing grammar to a\n",
    "multi-kernel interface.\n",
    "\n",
    "__Weaving__ transforms the source and computable objects into views.  "
   ]
  },
  {
   "cell_type": "code",
   "execution_count": 86,
   "metadata": {},
   "outputs": [],
   "source": [
    "import sys, IPython; ip = get_ipython()\n"
   ]
  },
  {
   "cell_type": "code",
   "execution_count": 87,
   "metadata": {},
   "outputs": [
    {
     "data": {
      "text/html": [
       "<?xml version=\"1.0\" encoding=\"UTF-8\" standalone=\"no\"?>\r\n",
       "<!DOCTYPE svg PUBLIC \"-//W3C//DTD SVG 1.1//EN\"\r\n",
       " \"http://www.w3.org/Graphics/SVG/1.1/DTD/svg11.dtd\">\r\n",
       "<!-- Generated by graphviz version 2.38.0 (20140413.2041)\r\n",
       " -->\r\n",
       "<!-- Title: %3 Pages: 1 -->\r\n",
       "<svg width=\"1271pt\" height=\"219pt\"\r\n",
       " viewBox=\"0.00 0.00 1271.21 219.13\" xmlns=\"http://www.w3.org/2000/svg\" xmlns:xlink=\"http://www.w3.org/1999/xlink\">\r\n",
       "<g id=\"graph0\" class=\"graph\" transform=\"scale(1 1) rotate(0) translate(4 215.129)\">\r\n",
       "<title>%3</title>\r\n",
       "<polygon fill=\"white\" stroke=\"none\" points=\"-4,4 -4,-215.129 1267.21,-215.129 1267.21,4 -4,4\"/>\r\n",
       "<g id=\"clust1\" class=\"cluster\"><title>cluster_tangle</title>\r\n",
       "<polygon fill=\"none\" stroke=\"black\" points=\"141.491,-62 141.491,-137 866.038,-137 866.038,-62 141.491,-62\"/>\r\n",
       "<text text-anchor=\"middle\" x=\"503.765\" y=\"-121.8\" font-family=\"Times New Roman,serif\" font-size=\"14.00\">Tangle</text>\r\n",
       "</g>\r\n",
       "<g id=\"clust4\" class=\"cluster\"><title>cluster_output</title>\r\n",
       "<polygon fill=\"none\" stroke=\"black\" points=\"886.038,-8 886.038,-191 1037.23,-191 1037.23,-8 886.038,-8\"/>\r\n",
       "<text text-anchor=\"middle\" x=\"961.632\" y=\"-175.8\" font-family=\"Times New Roman,serif\" font-size=\"14.00\">Output</text>\r\n",
       "</g>\r\n",
       "<g id=\"clust3\" class=\"cluster\"><title>cluster_input</title>\r\n",
       "<polygon fill=\"none\" stroke=\"black\" points=\"8,-62 8,-137 121.491,-137 121.491,-62 8,-62\"/>\r\n",
       "<text text-anchor=\"middle\" x=\"64.7457\" y=\"-121.8\" font-family=\"Times New Roman,serif\" font-size=\"14.00\">Input</text>\r\n",
       "</g>\r\n",
       "<g id=\"clust2\" class=\"cluster\"><title>cluster_weave</title>\r\n",
       "<polygon fill=\"none\" stroke=\"black\" points=\"1057.23,-8 1057.23,-191 1255.21,-191 1255.21,-8 1057.23,-8\"/>\r\n",
       "<text text-anchor=\"middle\" x=\"1156.22\" y=\"-175.8\" font-family=\"Times New Roman,serif\" font-size=\"14.00\">Weave</text>\r\n",
       "</g>\r\n",
       "<!-- ip.input_transformer_manager -->\r\n",
       "<g id=\"node1\" class=\"node\"><title>ip.input_transformer_manager</title>\r\n",
       "<ellipse fill=\"none\" stroke=\"black\" cx=\"269.731\" cy=\"-88\" rx=\"120.479\" ry=\"18\"/>\r\n",
       "<text text-anchor=\"middle\" x=\"269.731\" y=\"-84.3\" font-family=\"Times New Roman,serif\" font-size=\"14.00\">ip.input_transformer_manager</text>\r\n",
       "</g>\r\n",
       "<!-- ip.ast_transformers -->\r\n",
       "<g id=\"node2\" class=\"node\"><title>ip.ast_transformers</title>\r\n",
       "<ellipse fill=\"none\" stroke=\"black\" cx=\"507.213\" cy=\"-88\" rx=\"81.4863\" ry=\"18\"/>\r\n",
       "<text text-anchor=\"middle\" x=\"507.213\" y=\"-84.3\" font-family=\"Times New Roman,serif\" font-size=\"14.00\">ip.ast_transformers</text>\r\n",
       "</g>\r\n",
       "<!-- ip.input_transformer_manager&#45;&gt;ip.ast_transformers -->\r\n",
       "<g id=\"edge1\" class=\"edge\"><title>ip.input_transformer_manager&#45;&gt;ip.ast_transformers</title>\r\n",
       "<path fill=\"none\" stroke=\"black\" d=\"M390.196,-88C398.776,-88 407.343,-88 415.716,-88\"/>\r\n",
       "<polygon fill=\"black\" stroke=\"black\" points=\"415.82,-91.5001 425.82,-88 415.82,-84.5001 415.82,-91.5001\"/>\r\n",
       "</g>\r\n",
       "<!-- ip.compile -->\r\n",
       "<g id=\"node3\" class=\"node\"><title>ip.compile</title>\r\n",
       "<ellipse fill=\"none\" stroke=\"black\" cx=\"673.201\" cy=\"-88\" rx=\"48.9926\" ry=\"18\"/>\r\n",
       "<text text-anchor=\"middle\" x=\"673.201\" y=\"-84.3\" font-family=\"Times New Roman,serif\" font-size=\"14.00\">ip.compile</text>\r\n",
       "</g>\r\n",
       "<!-- ip.ast_transformers&#45;&gt;ip.compile -->\r\n",
       "<g id=\"edge2\" class=\"edge\"><title>ip.ast_transformers&#45;&gt;ip.compile</title>\r\n",
       "<path fill=\"none\" stroke=\"black\" d=\"M588.766,-88C597.309,-88 605.873,-88 614.086,-88\"/>\r\n",
       "<polygon fill=\"black\" stroke=\"black\" points=\"614.275,-91.5001 624.275,-88 614.275,-84.5001 614.275,-91.5001\"/>\r\n",
       "</g>\r\n",
       "<!-- ip.runcode -->\r\n",
       "<g id=\"node4\" class=\"node\"><title>ip.runcode</title>\r\n",
       "<ellipse fill=\"none\" stroke=\"black\" cx=\"807.993\" cy=\"-88\" rx=\"50.0912\" ry=\"18\"/>\r\n",
       "<text text-anchor=\"middle\" x=\"807.993\" y=\"-84.3\" font-family=\"Times New Roman,serif\" font-size=\"14.00\">ip.runcode</text>\r\n",
       "</g>\r\n",
       "<!-- ip.compile&#45;&gt;ip.runcode -->\r\n",
       "<g id=\"edge3\" class=\"edge\"><title>ip.compile&#45;&gt;ip.runcode</title>\r\n",
       "<path fill=\"none\" stroke=\"black\" d=\"M722.142,-88C730.381,-88 739.032,-88 747.53,-88\"/>\r\n",
       "<polygon fill=\"black\" stroke=\"black\" points=\"747.782,-91.5001 757.782,-88 747.782,-84.5001 747.782,-91.5001\"/>\r\n",
       "</g>\r\n",
       "<!-- ip.custom_exceptions -->\r\n",
       "<g id=\"node7\" class=\"node\"><title>ip.custom_exceptions</title>\r\n",
       "<ellipse fill=\"none\" stroke=\"black\" cx=\"1156.22\" cy=\"-142\" rx=\"90.9839\" ry=\"18\"/>\r\n",
       "<text text-anchor=\"middle\" x=\"1156.22\" y=\"-138.3\" font-family=\"Times New Roman,serif\" font-size=\"14.00\">ip.custom_exceptions</text>\r\n",
       "</g>\r\n",
       "<!-- ip.runcode&#45;&gt;ip.custom_exceptions -->\r\n",
       "<g id=\"edge6\" class=\"edge\"><title>ip.runcode&#45;&gt;ip.custom_exceptions</title>\r\n",
       "<path fill=\"none\" stroke=\"black\" d=\"M815.812,-106.148C826.431,-131.45 849.569,-176.32 886.038,-195 961.978,-233.898 1063.44,-192.406 1117.53,-163.984\"/>\r\n",
       "<polygon fill=\"black\" stroke=\"black\" points=\"1119.28,-167.019 1126.43,-159.201 1115.96,-160.854 1119.28,-167.019\"/>\r\n",
       "</g>\r\n",
       "<!-- IPython.display -->\r\n",
       "<g id=\"node11\" class=\"node\"><title>IPython.display</title>\r\n",
       "<ellipse fill=\"none\" stroke=\"black\" cx=\"961.632\" cy=\"-34\" rx=\"67.6881\" ry=\"18\"/>\r\n",
       "<text text-anchor=\"middle\" x=\"961.632\" y=\"-30.3\" font-family=\"Times New Roman,serif\" font-size=\"14.00\">IPython.display</text>\r\n",
       "</g>\r\n",
       "<!-- ip.runcode&#45;&gt;IPython.display -->\r\n",
       "<g id=\"edge5\" class=\"edge\"><title>ip.runcode&#45;&gt;IPython.display</title>\r\n",
       "<path fill=\"none\" stroke=\"black\" d=\"M844.163,-75.4756C863.978,-68.4191 889.053,-59.4898 910.857,-51.7253\"/>\r\n",
       "<polygon fill=\"black\" stroke=\"black\" points=\"912.048,-55.0166 920.294,-48.3646 909.699,-48.4222 912.048,-55.0166\"/>\r\n",
       "</g>\r\n",
       "<!-- ip.display_formatter -->\r\n",
       "<g id=\"node5\" class=\"node\"><title>ip.display_formatter</title>\r\n",
       "<ellipse fill=\"none\" stroke=\"black\" cx=\"1156.22\" cy=\"-88\" rx=\"83.6854\" ry=\"18\"/>\r\n",
       "<text text-anchor=\"middle\" x=\"1156.22\" y=\"-84.3\" font-family=\"Times New Roman,serif\" font-size=\"14.00\">ip.display_formatter</text>\r\n",
       "</g>\r\n",
       "<!-- _repr_*_ -->\r\n",
       "<g id=\"node6\" class=\"node\"><title>_repr_*_</title>\r\n",
       "<ellipse fill=\"none\" stroke=\"black\" cx=\"1156.22\" cy=\"-34\" rx=\"44.393\" ry=\"18\"/>\r\n",
       "<text text-anchor=\"middle\" x=\"1156.22\" y=\"-30.3\" font-family=\"Times New Roman,serif\" font-size=\"14.00\">_repr_*_</text>\r\n",
       "</g>\r\n",
       "<!-- ip.run_cell -->\r\n",
       "<g id=\"node8\" class=\"node\"><title>ip.run_cell</title>\r\n",
       "<ellipse fill=\"none\" stroke=\"black\" cx=\"64.7457\" cy=\"-88\" rx=\"48.9926\" ry=\"18\"/>\r\n",
       "<text text-anchor=\"middle\" x=\"64.7457\" y=\"-84.3\" font-family=\"Times New Roman,serif\" font-size=\"14.00\">ip.run_cell</text>\r\n",
       "</g>\r\n",
       "<!-- ip.run_cell&#45;&gt;ip.input_transformer_manager -->\r\n",
       "<g id=\"edge4\" class=\"edge\"><title>ip.run_cell&#45;&gt;ip.input_transformer_manager</title>\r\n",
       "<path fill=\"none\" stroke=\"black\" d=\"M121.272,-88C127.023,-88 133.024,-88 139.174,-88\"/>\r\n",
       "<polygon fill=\"black\" stroke=\"black\" points=\"131.492,-91.5004 141.491,-88 131.491,-84.5004 131.492,-91.5004\"/>\r\n",
       "</g>\r\n",
       "<!-- sys.stdout -->\r\n",
       "<g id=\"node9\" class=\"node\"><title>sys.stdout</title>\r\n",
       "<ellipse fill=\"none\" stroke=\"black\" cx=\"961.632\" cy=\"-142\" rx=\"48.1917\" ry=\"18\"/>\r\n",
       "<text text-anchor=\"middle\" x=\"961.632\" y=\"-138.3\" font-family=\"Times New Roman,serif\" font-size=\"14.00\">sys.stdout</text>\r\n",
       "</g>\r\n",
       "<!-- sys.stderr -->\r\n",
       "<g id=\"node10\" class=\"node\"><title>sys.stderr</title>\r\n",
       "<ellipse fill=\"none\" stroke=\"black\" cx=\"961.632\" cy=\"-88\" rx=\"46.2923\" ry=\"18\"/>\r\n",
       "<text text-anchor=\"middle\" x=\"961.632\" y=\"-84.3\" font-family=\"Times New Roman,serif\" font-size=\"14.00\">sys.stderr</text>\r\n",
       "</g>\r\n",
       "<!-- IPython.display&#45;&gt;ip.display_formatter -->\r\n",
       "<g id=\"edge7\" class=\"edge\"><title>IPython.display&#45;&gt;ip.display_formatter</title>\r\n",
       "<path fill=\"none\" stroke=\"black\" d=\"M1008.32,-47.1311C1023.83,-51.5664 1041.28,-56.5263 1057.23,-61 1069.16,-64.3466 1081.92,-67.889 1094.15,-71.2678\"/>\r\n",
       "<polygon fill=\"black\" stroke=\"black\" points=\"1093.26,-74.6512 1103.83,-73.9357 1095.12,-67.9031 1093.26,-74.6512\"/>\r\n",
       "</g>\r\n",
       "<!-- IPython.display&#45;&gt;_repr_*_ -->\r\n",
       "<g id=\"edge8\" class=\"edge\"><title>IPython.display&#45;&gt;_repr_*_</title>\r\n",
       "<path fill=\"none\" stroke=\"black\" d=\"M1029.45,-34C1052.99,-34 1079.13,-34 1101.46,-34\"/>\r\n",
       "<polygon fill=\"black\" stroke=\"black\" points=\"1101.75,-37.5001 1111.75,-34 1101.75,-30.5001 1101.75,-37.5001\"/>\r\n",
       "</g>\r\n",
       "</g>\r\n",
       "</svg>\r\n"
      ],
      "text/plain": [
       "'digraph {\\n    rankdir=LR compound=true\\n    subgraph cluster_tangle{label=Tangle \"ip.input_transformer_manager\" -> \"ip.ast_transformers\" -> \"ip.compile\" -> \"ip.runcode\"}\\n    subgraph cluster_weave{label=Weave \"ip.display_formatter\" \"_repr_*_\" \"ip.custom_exceptions\"}\\n    subgraph cluster_input{label=Input \"ip.run_cell\"}\\n    subgraph cluster_output{label=Output \"sys.stdout\" \"sys.stderr\" \"IPython.display\"}\\n    \"ip.run_cell\"->\"ip.input_transformer_manager\" [ltail=cluster_input lhead=cluster_tangle]\\n    \"ip.runcode\" -> \"IPython.display\" \\n    \"ip.runcode\" -> \"ip.custom_exceptions\"\\n    \"IPython.display\" -> {\"ip.display_formatter\" \"_repr_*_\"} \\n}'"
      ]
     },
     "execution_count": 87,
     "metadata": {},
     "output_type": "execute_result"
    }
   ],
   "source": [
    "digraph {\n",
    "    rankdir=LR compound=true\n",
    "    subgraph cluster_tangle{label=Tangle \"ip.input_transformer_manager\" -> \"ip.ast_transformers\" -> \"ip.compile\" -> \"ip.runcode\"}\n",
    "    subgraph cluster_weave{label=Weave \"ip.display_formatter\" \"_repr_*_\" \"ip.custom_exceptions\"}\n",
    "    subgraph cluster_input{label=Input \"ip.run_cell\"}\n",
    "    subgraph cluster_output{label=Output \"sys.stdout\" \"sys.stderr\" \"IPython.display\"}\n",
    "    \"ip.run_cell\"->\"ip.input_transformer_manager\" [ltail=cluster_input lhead=cluster_tangle]\n",
    "    \"ip.runcode\" -> \"IPython.display\" \n",
    "    \"ip.runcode\" -> \"ip.custom_exceptions\"\n",
    "    \"IPython.display\" -> {\"ip.display_formatter\" \"_repr_*_\"} \n",
    "}"
   ]
  },
  {
   "cell_type": "code",
   "execution_count": null,
   "metadata": {},
   "outputs": [],
   "source": []
  }
 ],
 "metadata": {
  "kernelspec": {
   "display_name": "Python 3",
   "language": "python",
   "name": "python3"
  },
  "language_info": {
   "codemirror_mode": {
    "name": "ipython",
    "version": 3
   },
   "file_extension": ".py",
   "mimetype": "text/x-python",
   "name": "python",
   "nbconvert_exporter": "python",
   "pygments_lexer": "ipython3",
   "version": "3.6.6"
  }
 },
 "nbformat": 4,
 "nbformat_minor": 2
}
