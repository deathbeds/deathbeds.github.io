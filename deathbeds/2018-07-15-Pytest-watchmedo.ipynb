{
 "cells": [
  {
   "cell_type": "markdown",
   "metadata": {},
   "source": [
    "# Watch me do tricks\n",
    "\n",
    "[`watchdog`](https://github.com/gorakhargosh/watchdog) is file watcher for Python that works on windows and mac.  In this notebook, we will create a file watcher tool to incrementally test our blog posts.  "
   ]
  },
  {
   "cell_type": "markdown",
   "metadata": {},
   "source": [
    "    !pip install watchdog"
   ]
  },
  {
   "cell_type": "markdown",
   "metadata": {},
   "source": [
    "> In a future post we will explore [`pytest-watch`](https://github.com/joeyespo/pytest-watch) and [`pytest-testmon`](https://github.com/tarpas/pytest-testmon).\n",
    "\n",
    "> This same thing could likely be acheived with a [__post save hook__](http://jupyter-notebook.readthedocs.io/en/stable/extending/savehooks.html#file-save-hooks)."
   ]
  },
  {
   "cell_type": "code",
   "execution_count": 2,
   "metadata": {},
   "outputs": [],
   "source": [
    "    from IPython import get_ipython"
   ]
  },
  {
   "cell_type": "code",
   "execution_count": 3,
   "metadata": {},
   "outputs": [],
   "source": [
    "import nbconvert"
   ]
  },
  {
   "cell_type": "markdown",
   "metadata": {},
   "source": [
    "Watchdog contains a CLI called [`watchmedo`](https://github.com/gorakhargosh/watchdog#shell-utilities). It requires a `yaml` file to describe the watcher patterns.  We will run tests on each notebook when they are saved.  With this approach we can run different commands like:\n",
    "\n",
    "* nbconvert to execute the notebook that changed\n",
    "\n",
    "    If the notebook does not __restart and run all__ the `--execute` flag with return `nbconvert.preprocessors.execute.CellExecutionError`"
   ]
  },
  {
   "cell_type": "code",
   "execution_count": 4,
   "metadata": {},
   "outputs": [],
   "source": [
    "    shell_command = \"\"\"jupyter nbconvert --execute --stdout --to markdown ${watch_src_path}\"\"\"\n",
    "    "
   ]
  },
  {
   "cell_type": "markdown",
   "metadata": {},
   "source": [
    "* the `importnb` extension would test the changed notebook in the `__main__` context & show the output in the terminal. "
   ]
  },
  {
   "cell_type": "code",
   "execution_count": 5,
   "metadata": {},
   "outputs": [],
   "source": [
    "    shell_command = \"\"\"pytest --main -s ${watch_src_path}\"\"\""
   ]
  },
  {
   "cell_type": "markdown",
   "metadata": {},
   "source": [
    "* we will use code from [`2018-07-16-Smart-testing-pytest-nbconvert.ipynb`](2018-07-16-Smart-testing-pytest-nbconvert.ipynb)"
   ]
  },
  {
   "cell_type": "code",
   "execution_count": null,
   "metadata": {},
   "outputs": [],
   "source": [
    "    shell_command"
   ]
  },
  {
   "cell_type": "code",
   "execution_count": 4,
   "metadata": {},
   "outputs": [
    {
     "name": "stdout",
     "output_type": "stream",
     "text": [
      "Overwriting tricks.yaml\n"
     ]
    }
   ],
   "source": [
    "    \n",
    "    tricks:\n",
    "    - watchdog.tricks.ShellCommandTrick:\n",
    "        patterns: ['*.ipynb']\n",
    "        drop_during_process: yes \n",
    "        ignore_patterns: ['*-checkpoint.ipynb', '*~*.ipynb']\n",
    "        # shell_command: ipython -m pytest -- --main -s ${watch_src_path}\n",
    "        shell_command: >\n",
    "            \n"
   ]
  },
  {
   "cell_type": "markdown",
   "metadata": {},
   "source": []
  },
  {
   "cell_type": "code",
   "execution_count": 2,
   "metadata": {},
   "outputs": [
    {
     "name": "stdout",
     "output_type": "stream",
     "text": [
      "True\n"
     ]
    }
   ],
   "source": [
    "    print('pytest' not in __import__('sys').modules) "
   ]
  },
  {
   "cell_type": "code",
   "execution_count": null,
   "metadata": {},
   "outputs": [],
   "source": []
  }
 ],
 "metadata": {
  "kernelspec": {
   "display_name": "Python 3",
   "language": "python",
   "name": "python3"
  },
  "language_info": {
   "codemirror_mode": {
    "name": "ipython",
    "version": 3
   },
   "file_extension": ".py",
   "mimetype": "text/x-python",
   "name": "python",
   "nbconvert_exporter": "python",
   "pygments_lexer": "ipython3",
   "version": "3.6.5"
  }
 },
 "nbformat": 4,
 "nbformat_minor": 2
}
