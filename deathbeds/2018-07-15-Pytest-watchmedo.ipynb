{
 "cells": [
  {
   "cell_type": "markdown",
   "metadata": {},
   "source": [
    "# Watch me do tricks\n",
    "\n",
    "[`watchdog`](https://github.com/gorakhargosh/watchdog) is file watcher for Python that works on windows and mac.  In this notebook, we will create a file watcher tool to incrementally test our blog posts.  \n",
    "\n",
    "## usage\n",
    "\n",
    "    watchmedo tricks tricks.yaml"
   ]
  },
  {
   "cell_type": "markdown",
   "metadata": {},
   "source": [
    "    !pip install watchdog"
   ]
  },
  {
   "cell_type": "markdown",
   "metadata": {},
   "source": [
    "> In a future post we will explore [`pytest-watch`](https://github.com/joeyespo/pytest-watch) and [`pytest-testmon`](https://github.com/tarpas/pytest-testmon).\n",
    "\n",
    "> This same thing could likely be acheived with a [__post save hook__](http://jupyter-notebook.readthedocs.io/en/stable/extending/savehooks.html#file-save-hooks)."
   ]
  },
  {
   "cell_type": "code",
   "execution_count": 1,
   "metadata": {},
   "outputs": [],
   "source": [
    "    command = None\n",
    "    file = 'tricks.yaml'"
   ]
  },
  {
   "cell_type": "code",
   "execution_count": 2,
   "metadata": {},
   "outputs": [],
   "source": [
    "    from IPython import get_ipython"
   ]
  },
  {
   "cell_type": "markdown",
   "metadata": {},
   "source": [
    "Watchdog contains a CLI called [`watchmedo`](https://github.com/gorakhargosh/watchdog#shell-utilities). It requires a `yaml` file to describe the watcher patterns.  We will run tests on each notebook when they are saved.  With this approach we can run different commands like:\n",
    "\n",
    "* nbconvert to execute the notebook that changed\n",
    "\n",
    "    If the notebook does not __restart and run all__ the `--execute` flag with return `nbconvert.preprocessors.execute.CellExecutionError`\n",
    "\n",
    "        command = \"\"\"jupyter nbconvert --execute --stdout --to markdown ${watch_src_path}\"\"\"\n",
    "\n",
    "* the `importnb` extension would test the changed notebook in the `__main__` context & show the output in the terminal. \n",
    "\n",
    "        command = \"\"\"pytest --main -s ${watch_src_path}\"\"\"\n",
    "\n",
    "* we will use code from [`2018-07-16-Smart-testing-pytest-nbconvert.ipynb`](2018-07-16-Smart-testing-pytest-nbconvert.ipynb)\n",
    "\n",
    "        command = \"\"\"ipython -m deathbeds.2018-07-16-Testing-restart-run-all ${watch_src_path}\"\"\""
   ]
  },
  {
   "cell_type": "markdown",
   "metadata": {},
   "source": [
    "## The `watchmedo` configuration file"
   ]
  },
  {
   "cell_type": "code",
   "execution_count": 3,
   "metadata": {},
   "outputs": [
    {
     "name": "stdout",
     "output_type": "stream",
     "text": [
      "watchmedo tricks tricks.yaml\n"
     ]
    }
   ],
   "source": [
    "    config = __import__(\"pathlib\").Path(file)\n",
    "    config.write_text(f\"\"\"tricks:\n",
    "    - watchdog.tricks.ShellCommandTrick:\n",
    "        patterns: ['*.ipynb']\n",
    "        drop_during_process: yes \n",
    "        ignore_patterns: ['*-checkpoint.ipynb', '*~*.ipynb']\n",
    "        shell_command: {command}\"\"\") and print(f\"watchmedo tricks {file}\")"
   ]
  },
  {
   "cell_type": "code",
   "execution_count": 6,
   "metadata": {},
   "outputs": [],
   "source": [
    "    def _write_watcher_file_for_notebooks():\n",
    "        !ipython -m deathbeds.2018-07-15-Pytest-watchmedo --  --file example.yaml --command echo"
   ]
  },
  {
   "cell_type": "code",
   "execution_count": null,
   "metadata": {},
   "outputs": [],
   "source": []
  }
 ],
 "metadata": {
  "kernelspec": {
   "display_name": "Python 3",
   "language": "python",
   "name": "python3"
  },
  "language_info": {
   "codemirror_mode": {
    "name": "ipython",
    "version": 3
   },
   "file_extension": ".py",
   "mimetype": "text/x-python",
   "name": "python",
   "nbconvert_exporter": "python",
   "pygments_lexer": "ipython3",
   "version": "3.6.5"
  }
 },
 "nbformat": 4,
 "nbformat_minor": 2
}
