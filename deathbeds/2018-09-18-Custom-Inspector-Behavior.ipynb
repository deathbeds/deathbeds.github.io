{
 "cells": [
  {
   "cell_type": "markdown",
   "metadata": {},
   "source": [
    "# Replacing the standard inspector behavior in an existing IPython kernel.\n",
    "\n",
    "![](https://user-images.githubusercontent.com/4236275/45722098-d8a59500-bb78-11e8-9f9a-806c30f91743.png)"
   ]
  },
  {
   "cell_type": "code",
   "execution_count": 21,
   "metadata": {},
   "outputs": [],
   "source": [
    "import IPython, ipykernel, inspect\n",
    "self = ip = IPython.get_ipython()\n"
   ]
  },
  {
   "cell_type": "markdown",
   "metadata": {},
   "source": [
    "The standard `ipykernel` uses two methods from the shell to compose the return message for inspection.  `self.object_inspect` is used to determine if a inspection exists then `self.object_inspect_text` returns the actual `ipykernel.ipkernel.IPythonKernel.do_inspect` message body."
   ]
  },
  {
   "cell_type": "code",
   "execution_count": 29,
   "metadata": {},
   "outputs": [
    {
     "name": "stdout",
     "output_type": "stream",
     "text": [
      "    def do_inspect(self, code, cursor_pos, detail_level=0):\n",
      "        name = token_at_cursor(code, cursor_pos)\n",
      "        info = self.shell.object_inspect(name)\n",
      "\n",
      "        reply_content = {'status' : 'ok'}\n",
      "        reply_content['data'] = data = {}\n",
      "        reply_content['metadata'] = {}\n",
      "        reply_content['found'] = info['found']\n",
      "        if info['found']:\n",
      "            info_text = self.shell.object_inspect_text(\n",
      "                name,\n",
      "                detail_level=detail_level,\n",
      "            )\n",
      "            data['text/plain'] = info_text\n",
      "\n",
      "        return reply_content\n",
      "\n"
     ]
    }
   ],
   "source": [
    "print(inspect.getsource(ipykernel.ipkernel.IPythonKernel.do_inspect))"
   ]
  },
  {
   "cell_type": "markdown",
   "metadata": {},
   "source": [
    "`object_inspect` must always return a found result and `object_inspect_text` will return out custom inspection results."
   ]
  },
  {
   "cell_type": "code",
   "execution_count": 37,
   "metadata": {},
   "outputs": [],
   "source": [
    "def object_inspect(oname, detail_level=0):\n",
    "    return IPython.core.oinspect.object_info(found=True)\n",
    "\n",
    "def object_inspect_text(oname, detail_level=0):\n",
    "    try: return old_object_inspect_text(oname, detail_level=0)\n",
    "    except KeyError: return f\"The inspector can do anything with `{oname}`.\""
   ]
  },
  {
   "cell_type": "markdown",
   "metadata": {},
   "source": [
    "Replace running IPython inspectors with these new functions."
   ]
  },
  {
   "cell_type": "code",
   "execution_count": 38,
   "metadata": {},
   "outputs": [],
   "source": [
    "def load_ipython_extension(ip):\n",
    "    global old_object_inspect, old_object_inspect_text\n",
    "    ip.object_inspect, ip.object_inspect_text = object_inspect, object_inspect_text\n",
    "def unload_ipython_extension(ip):\n",
    "    global old_object_inspect, old_object_inspect_text\n",
    "    ip.object_inspect, ip.object_inspect_text = old_object_inspect, old_object_inspect_text\n",
    "__name__ == '__main__' and load_ipython_extension(get_ipython())"
   ]
  }
 ],
 "metadata": {
  "kernelspec": {
   "display_name": "p6",
   "language": "python",
   "name": "other-env"
  },
  "language_info": {
   "codemirror_mode": {
    "name": "ipython",
    "version": 3
   },
   "file_extension": ".py",
   "mimetype": "text/x-python",
   "name": "python",
   "nbconvert_exporter": "python",
   "pygments_lexer": "ipython3",
   "version": "3.6.3"
  }
 },
 "nbformat": 4,
 "nbformat_minor": 2
}
