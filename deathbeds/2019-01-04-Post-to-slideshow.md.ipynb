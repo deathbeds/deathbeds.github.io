{
 "cells": [
  {
   "cell_type": "markdown",
   "metadata": {},
   "source": [
    "This document discusses automatically generating presentations from notebooks.  The __reveal.js__ view of a notebook provides an alternative interface to view as slides and in a sorted layout view.  \n",
    "\n",
    "# Interpretting notebooks as presentations."
   ]
  },
  {
   "cell_type": "code",
   "execution_count": 8,
   "metadata": {},
   "outputs": [
    {
     "ename": "IndentationError",
     "evalue": "expected an indented block (<ipython-input-8-29feb61f8d8c>, line 4)",
     "output_type": "error",
     "traceback": [
      "\u001b[1;36m  File \u001b[1;32m\"<ipython-input-8-29feb61f8d8c>\"\u001b[1;36m, line \u001b[1;32m4\u001b[0m\n\u001b[1;33m    get_ipython().run_line_magic('reload_ext', 'pidgin')\u001b[0m\n\u001b[1;37m              ^\u001b[0m\n\u001b[1;31mIndentationError\u001b[0m\u001b[1;31m:\u001b[0m expected an indented block\n"
     ]
    }
   ],
   "source": [
    "    import IPython; get_ipython = IPython.get_ipython\n",
    "    ip = get_ipython()\n",
    "    if ip:\n",
    "        %reload_ext pidgin"
   ]
  },
  {
   "cell_type": "code",
   "execution_count": 19,
   "metadata": {},
   "outputs": [
    {
     "data": {
      "text/html": [
       "<h2>Converting a notebook to a presentation.</h2>\n",
       "<p>The <code><span style=\"border-bottom: 1px dotted gray;\" title=\"Init signature: nbconvert.SlidesExporter(*args, **kwargs)&#013;Docstring:      Exports HTML slides with reveal.js&#013;Init docstring:&#013;Public constructor&#013;&#013;Parameters&#013;----------&#013;config : config&#013;    User configuration instance.&#013;extra_loaders : list[of Jinja Loaders]&#013;    ordered list of Jinja loader to find templates. Will be tried in order&#013;    before the default FileSystem ones.&#013;template : str (optional, kw arg)&#013;    Template to use when exporting.&#013;File:           c:\\anaconda3\\lib\\site-packages\\nbconvert\\exporters\\slides.py&#013;Type:           MetaHasTraits\">nbconvert.SlidesExporter</span>\n",
       "</code> exports <code><span style=\"border-bottom: 1px dotted gray;\" title=\"Type:        module&#013;String form: &lt;module &#x27;nbformat&#x27; from &#x27;C:\\\\Anaconda3\\\\lib\\\\site-packages\\\\nbformat\\\\__init__.py&#x27;&gt;&#013;File:        c:\\anaconda3\\lib\\site-packages\\nbformat\\__init__.py&#013;Docstring:  &#013;The Jupyter notebook format&#013;&#013;Use this module to read or write notebook files as particular nbformat versions.\">nbformat</span>\n",
       "</code> documents as presentations;\n",
       "<code><span style=\"\" title=\"\">assert</span> <span style=\"border-bottom: 1px dotted gray;\" title=\"Signature: issubclass(cls, class_or_tuple, /)&#013;Docstring:&#013;Return whether &#x27;cls&#x27; is a derived from another class or is the same class.&#013;&#013;A tuple, as in ``issubclass(x, (A, B, ...))``, may be given as the target to&#013;check against. This is equivalent to ``issubclass(x, A) or issubclass(x, B)&#013;or ...`` etc.&#013;Type:      builtin_function_or_method\">issubclass</span>(<span style=\"border-bottom: 1px dotted gray;\" title=\"Init signature: nbconvert.SlidesExporter(*args, **kwargs)&#013;Docstring:      Exports HTML slides with reveal.js&#013;Init docstring:&#013;Public constructor&#013;&#013;Parameters&#013;----------&#013;config : config&#013;    User configuration instance.&#013;extra_loaders : list[of Jinja Loaders]&#013;    ordered list of Jinja loader to find templates. Will be tried in order&#013;    before the default FileSystem ones.&#013;template : str (optional, kw arg)&#013;    Template to use when exporting.&#013;File:           c:\\anaconda3\\lib\\site-packages\\nbconvert\\exporters\\slides.py&#013;Type:           MetaHasTraits\">nbconvert.SlidesExporter</span>, <span style=\"border-bottom: 1px dotted gray;\" title=\"Init signature: nbconvert.HTMLExporter(*args, **kwargs)&#013;Docstring:     &#013;Exports a basic HTML document.  This exporter assists with the export of&#013;HTML.  Inherit from it if you are writing your own HTML template and need&#013;custom preprocessors/filters.  If you don&#x27;t need custom preprocessors/&#013;filters, just change the &#x27;template_file&#x27; config option.&#013;Init docstring:&#013;Public constructor&#013;&#013;Parameters&#013;----------&#013;config : config&#013;    User configuration instance.&#013;extra_loaders : list[of Jinja Loaders]&#013;    ordered list of Jinja loader to find templates. Will be tried in order&#013;    before the default FileSystem ones.&#013;template : str (optional, kw arg)&#013;    Template to use when exporting.&#013;File:           c:\\anaconda3\\lib\\site-packages\\nbconvert\\exporters\\html.py&#013;Type:           MetaHasTraits\">nbconvert.HTMLExporter</span>)\n",
       "</code>.</p>\n",
       "<code style=\"white-space: pre;\" title=\"\">import <span style=\"border-bottom: 1px dotted gray;\" title=\"Type:        module&#013;String form: &lt;module &#x27;nbconvert&#x27; from &#x27;C:\\\\Anaconda3\\\\lib\\\\site-packages\\\\nbconvert\\\\__init__.py&#x27;&gt;&#013;File:        c:\\anaconda3\\lib\\site-packages\\nbconvert\\__init__.py&#013;Docstring:   Utilities for converting notebooks to and from different formats.\">nbconvert</span>, <span style=\"border-bottom: 1px dotted gray;\" title=\"Type:        module&#013;String form: &lt;module &#x27;nbformat&#x27; from &#x27;C:\\\\Anaconda3\\\\lib\\\\site-packages\\\\nbformat\\\\__init__.py&#x27;&gt;&#013;File:        c:\\anaconda3\\lib\\site-packages\\nbformat\\__init__.py&#013;Docstring:  &#013;The Jupyter notebook format&#013;&#013;Use this module to read or write notebook files as particular nbformat versions.\">nbformat</span>, <span style=\"border-bottom: 1px dotted gray;\" title=\"Type:        module&#013;String form: &lt;module &#x27;traitlets&#x27; from &#x27;C:\\\\Anaconda3\\\\lib\\\\site-packages\\\\traitlets\\\\__init__.py&#x27;&gt;&#013;File:        c:\\anaconda3\\lib\\site-packages\\traitlets\\__init__.py&#013;Docstring:   &lt;no docstring&gt;\">traitlets</span>\n",
       "</code>"
      ],
      "text/markdown": [
       "## Converting a notebook to a presentation.\n",
       "\n",
       "The `nbconvert.SlidesExporter` exports `nbformat` documents as presentations;\n",
       "`assert issubclass(nbconvert.SlidesExporter, nbconvert.HTMLExporter)`.\n",
       "    \n",
       "    import nbconvert, nbformat, traitlets"
      ],
      "text/plain": [
       "'## Converting a notebook to a presentation.\\n\\nThe `nbconvert.SlidesExporter` exports `nbformat` documents as presentations;\\n`assert issubclass(nbconvert.SlidesExporter, nbconvert.HTMLExporter)`.\\n    \\n    import nbconvert, nbformat, traitlets'"
      ]
     },
     "metadata": {},
     "output_type": "display_data"
    }
   ],
   "source": [
    "## Converting a notebook to a presentation.\n",
    "\n",
    "The `nbconvert.SlidesExporter` exports `nbformat` documents as presentations;\n",
    "`assert issubclass(nbconvert.SlidesExporter, nbconvert.HTMLExporter)`.\n",
    "    \n",
    "    import nbconvert, nbformat, traitlets"
   ]
  },
  {
   "cell_type": "code",
   "execution_count": 20,
   "metadata": {},
   "outputs": [
    {
     "data": {
      "text/html": [
       "<h3>Slide show metadata.</h3>\n",
       "<p><code><span style=\"border-bottom: 1px dotted gray;\" title=\"Init signature: nbconvert.SlidesExporter(*args, **kwargs)&#013;Docstring:      Exports HTML slides with reveal.js&#013;Init docstring:&#013;Public constructor&#013;&#013;Parameters&#013;----------&#013;config : config&#013;    User configuration instance.&#013;extra_loaders : list[of Jinja Loaders]&#013;    ordered list of Jinja loader to find templates. Will be tried in order&#013;    before the default FileSystem ones.&#013;template : str (optional, kw arg)&#013;    Template to use when exporting.&#013;File:           c:\\anaconda3\\lib\\site-packages\\nbconvert\\exporters\\slides.py&#013;Type:           MetaHasTraits\">nbconvert.SlidesExporter</span>\n",
       "</code> uses cell metadata to create <code>\"slide subslide fragment\"\n",
       "</code> <code>\"slide_type\"\n",
       "</code>s.</p>\n",
       "<code style=\"white-space: pre;\" title=\"\"><span style=\"\" title=\"\">def</span> add_slide_metadata(<span style=\"\" title=\"\">cell</span>):\n",
       "</code><p><code><span style=\"border-bottom: 1px dotted gray;\" title=\"Signature: add_slide_metadata(cell)&#013;Docstring: &lt;no docstring&gt;&#013;File:      c:\\users\\deathbeds\\&lt;ipython-input-20-31d2dc2c1dd8&gt;&#013;Type:      function\">add_slide_metadata</span>\n",
       "</code> adds <code>\"slideshow\"\n",
       "</code> data to a <strong>cell</strong> using the headers and horizontal rules as delimiters.</p>\n",
       "<code style=\"white-space: pre;\" title=\"\">    <span style=\"\" title=\"\">source</span> = ''.<span style=\"border-bottom: 1px dotted gray;\" title=\"Signature:       join(leftkey=&#x27;__no__default__&#x27;, leftseq=&#x27;__no__default__&#x27;, rightkey=&#x27;__no__default__&#x27;, rightseq=&#x27;__no__default__&#x27;, left_default=&#x27;__no__default__&#x27;, right_default=&#x27;__no__default__&#x27;)&#013;Call signature:  join(*args, **kwargs)&#013;Type:            curry&#013;String form:     &lt;function join at 0x000001A8E916A950&gt;&#013;File:            c:\\anaconda3\\lib\\site-packages\\toolz\\functoolz.py&#013;Docstring:      &#013;Join two sequences on common attributes&#013;&#013;This is a semi-streaming operation.  The LEFT sequence is fully evaluated&#013;and placed into memory.  The RIGHT sequence is evaluated lazily and so can&#013;be arbitrarily large.&#013;&#013;&gt;&gt;&gt; friends = [(&#x27;Alice&#x27;, &#x27;Edith&#x27;),&#013;...            (&#x27;Alice&#x27;, &#x27;Zhao&#x27;),&#013;...            (&#x27;Edith&#x27;, &#x27;Alice&#x27;),&#013;...            (&#x27;Zhao&#x27;, &#x27;Alice&#x27;),&#013;...            (&#x27;Zhao&#x27;, &#x27;Edith&#x27;)]&#013;&#013;&gt;&gt;&gt; cities = [(&#x27;Alice&#x27;, &#x27;NYC&#x27;),&#013;...           (&#x27;Alice&#x27;, &#x27;Chicago&#x27;),&#013;...           (&#x27;Dan&#x27;, &#x27;Syndey&#x27;),&#013;...           (&#x27;Edith&#x27;, &#x27;Paris&#x27;),&#013;...           (&#x27;Edith&#x27;, &#x27;Berlin&#x27;),&#013;...           (&#x27;Zhao&#x27;, &#x27;Shanghai&#x27;)]&#013;&#013;&gt;&gt;&gt; # Vacation opportunities&#013;&gt;&gt;&gt; # In what cities do people have friends?&#013;&gt;&gt;&gt; result = join(second, friends,&#013;...               first, cities)&#013;&gt;&gt;&gt; for ((a, b), (c, d)) in sorted(unique(result)):&#013;...     print((a, d))&#013;(&#x27;Alice&#x27;, &#x27;Berlin&#x27;)&#013;(&#x27;Alice&#x27;, &#x27;Paris&#x27;)&#013;(&#x27;Alice&#x27;, &#x27;Shanghai&#x27;)&#013;(&#x27;Edith&#x27;, &#x27;Chicago&#x27;)&#013;(&#x27;Edith&#x27;, &#x27;NYC&#x27;)&#013;(&#x27;Zhao&#x27;, &#x27;Chicago&#x27;)&#013;(&#x27;Zhao&#x27;, &#x27;NYC&#x27;)&#013;(&#x27;Zhao&#x27;, &#x27;Berlin&#x27;)&#013;(&#x27;Zhao&#x27;, &#x27;Paris&#x27;)&#013;&#013;Specify outer joins with keyword arguments ``left_default`` and/or&#013;``right_default``.  Here is a full outer join in which unmatched elements&#013;are paired with None.&#013;&#013;&gt;&gt;&gt; identity = lambda x: x&#013;&gt;&gt;&gt; list(join(identity, [1, 2, 3],&#013;...           identity, [2, 3, 4],&#013;...           left_default=None, right_default=None))&#013;[(2, 2), (3, 3), (None, 4), (1, None)]&#013;&#013;Usually the key arguments are callables to be applied to the sequences.  If&#013;the keys are not obviously callable then it is assumed that indexing was&#013;intended, e.g. the following is a legal change&#013;&#013;&gt;&gt;&gt; # result = join(second, friends, first, cities)&#013;&gt;&gt;&gt; result = join(1, friends, 0, cities)  # doctest: +SKIP&#013;Class docstring:&#013;Curry a callable function&#013;&#013;Enables partial application of arguments through calling a function with an&#013;incomplete set of arguments.&#013;&#013;&gt;&gt;&gt; def mul(x, y):&#013;...     return x * y&#013;&gt;&gt;&gt; mul = curry(mul)&#013;&#013;&gt;&gt;&gt; double = mul(2)&#013;&gt;&gt;&gt; double(10)&#013;20&#013;&#013;Also supports keyword arguments&#013;&#013;&gt;&gt;&gt; @curry                  # Can use curry as a decorator&#013;... def f(x, y, a=10):&#013;...     return a * (x + y)&#013;&#013;&gt;&gt;&gt; add = f(a=1)&#013;&gt;&gt;&gt; add(2, 3)&#013;5&#013;&#013;See Also:&#013;    toolz.curried - namespace of curried functions&#013;                    https://toolz.readthedocs.io/en/latest/curry.html\">join</span>(<span style=\"\" title=\"\">cell</span>['source'])\n",
       "    <span style=\"border-bottom: 1px dotted gray;\" title=\"Init signature: type(self, /, *args, **kwargs)&#013;Docstring:     &#013;type(object_or_name, bases, dict)&#013;type(object) -&gt; the object&#x27;s type&#013;type(name, bases, dict) -&gt; a new type&#013;Type:           type\">type</span> = <span style=\"\" title=\"\">F</span>\"- slide slide subslide fragment fragment fragment\".<span style=\"\" title=\"\">split</span>(\n",
       "    )[<span style=\"border-bottom: 1px dotted gray;\" title=\"Docstring:&#013;max(iterable, *[, default=obj, key=func]) -&gt; value&#013;max(arg1, arg2, *args, *[, key=func]) -&gt; value&#013;&#013;With a single iterable argument, return its biggest item. The&#013;default keyword-only argument specifies an object to return if&#013;the provided iterable is empty.&#013;With two or more arguments, return the largest argument.&#013;Type:      builtin_function_or_method\">max</span>(<span style=\"\" title=\"\">get_levels</span>(<span style=\"\" title=\"\">source</span>) or [0])]\n",
       "</code><p><code>\"slideshow\"\n",
       "</code> is a keyword specific to the <code><span style=\"border-bottom: 1px dotted gray;\" title=\"Init signature: nbconvert.SlidesExporter(*args, **kwargs)&#013;Docstring:      Exports HTML slides with reveal.js&#013;Init docstring:&#013;Public constructor&#013;&#013;Parameters&#013;----------&#013;config : config&#013;    User configuration instance.&#013;extra_loaders : list[of Jinja Loaders]&#013;    ordered list of Jinja loader to find templates. Will be tried in order&#013;    before the default FileSystem ones.&#013;template : str (optional, kw arg)&#013;    Template to use when exporting.&#013;File:           c:\\anaconda3\\lib\\site-packages\\nbconvert\\exporters\\slides.py&#013;Type:           MetaHasTraits\">nbconvert.SlidesExporter</span>\n",
       "</code>, we only update the metadata \n",
       "if the keywords don't exist.</p>\n",
       "<code style=\"white-space: pre;\" title=\"\">    <span style=\"\" title=\"\">cell.metadata</span>['slideshow'] = <span style=\"\" title=\"\">cell.metadata.get</span>('slideshow', {})\n",
       "    <span style=\"\" title=\"\">cell.metadata</span>['slideshow'].<span style=\"\" title=\"\">update</span>(<span style=\"\" title=\"\">slide_type</span>=<span style=\"\" title=\"\">cell.metadata</span>['slideshow'].<span style=\"border-bottom: 1px dotted gray;\" title=\"Signature:       get(ind=&#x27;__no__default__&#x27;, seq=&#x27;__no__default__&#x27;, default=&#x27;__no__default__&#x27;)&#013;Call signature:  get(*args, **kwargs)&#013;Type:            curry&#013;String form:     &lt;function get at 0x000001A8E916A158&gt;&#013;File:            c:\\anaconda3\\lib\\site-packages\\toolz\\functoolz.py&#013;Docstring:      &#013;Get element in a sequence or dict&#013;&#013;Provides standard indexing&#013;&#013;&gt;&gt;&gt; get(1, &#x27;ABC&#x27;)       # Same as &#x27;ABC&#x27;[1]&#013;&#x27;B&#x27;&#013;&#013;Pass a list to get multiple values&#013;&#013;&gt;&gt;&gt; get([1, 2], &#x27;ABC&#x27;)  # (&#x27;ABC&#x27;[1], &#x27;ABC&#x27;[2])&#013;(&#x27;B&#x27;, &#x27;C&#x27;)&#013;&#013;Works on any value that supports indexing/getitem&#013;For example here we see that it works with dictionaries&#013;&#013;&gt;&gt;&gt; phonebook = {&#x27;Alice&#x27;:  &#x27;555-1234&#x27;,&#013;...              &#x27;Bob&#x27;:    &#x27;555-5678&#x27;,&#013;...              &#x27;Charlie&#x27;:&#x27;555-9999&#x27;}&#013;&gt;&gt;&gt; get(&#x27;Alice&#x27;, phonebook)&#013;&#x27;555-1234&#x27;&#013;&#013;&gt;&gt;&gt; get([&#x27;Alice&#x27;, &#x27;Bob&#x27;], phonebook)&#013;(&#x27;555-1234&#x27;, &#x27;555-5678&#x27;)&#013;&#013;Provide a default for missing values&#013;&#013;&gt;&gt;&gt; get([&#x27;Alice&#x27;, &#x27;Dennis&#x27;], phonebook, None)&#013;(&#x27;555-1234&#x27;, None)&#013;&#013;See Also:&#013;    pluck&#013;Class docstring:&#013;Curry a callable function&#013;&#013;Enables partial application of arguments through calling a function with an&#013;incomplete set of arguments.&#013;&#013;&gt;&gt;&gt; def mul(x, y):&#013;...     return x * y&#013;&gt;&gt;&gt; mul = curry(mul)&#013;&#013;&gt;&gt;&gt; double = mul(2)&#013;&gt;&gt;&gt; double(10)&#013;20&#013;&#013;Also supports keyword arguments&#013;&#013;&gt;&gt;&gt; @curry                  # Can use curry as a decorator&#013;... def f(x, y, a=10):&#013;...     return a * (x + y)&#013;&#013;&gt;&gt;&gt; add = f(a=1)&#013;&gt;&gt;&gt; add(2, 3)&#013;5&#013;&#013;See Also:&#013;    toolz.curried - namespace of curried functions&#013;                    https://toolz.readthedocs.io/en/latest/curry.html\">get</span>(\n",
       "        'slide_type', <span style=\"border-bottom: 1px dotted gray;\" title=\"Init signature: type(self, /, *args, **kwargs)&#013;Docstring:     &#013;type(object_or_name, bases, dict)&#013;type(object) -&gt; the object&#x27;s type&#013;type(name, bases, dict) -&gt; a new type&#013;Type:           type\">type</span>\n",
       "    ))\n",
       "    <span style=\"\" title=\"\">return</span> <span style=\"\" title=\"\">cell</span>\n",
       "</code>"
      ],
      "text/markdown": [
       "### Slide show metadata.\n",
       "\n",
       "`nbconvert.SlidesExporter` uses cell metadata to create `\"slide subslide fragment\"` `\"slide_type\"`s.\n",
       "\n",
       "    def add_slide_metadata(cell):\n",
       "`add_slide_metadata` adds `\"slideshow\"` data to a __cell__ using the headers and horizontal rules as delimiters.\n",
       "\n",
       "        source = ''.join(cell['source'])\n",
       "        type = F\"- slide slide subslide fragment fragment fragment\".split(\n",
       "        )[max(get_levels(source) or [0])]\n",
       "`\"slideshow\"` is a keyword specific to the `nbconvert.SlidesExporter`, we only update the metadata \n",
       "if the keywords don't exist.\n",
       "\n",
       "        cell.metadata['slideshow'] = cell.metadata.get('slideshow', {})\n",
       "        cell.metadata['slideshow'].update(slide_type=cell.metadata['slideshow'].get(\n",
       "            'slide_type', type\n",
       "        ))\n",
       "        return cell"
      ],
      "text/plain": [
       "'### Slide show metadata.\\n\\n`nbconvert.SlidesExporter` uses cell metadata to create `\"slide subslide fragment\"` `\"slide_type\"`s.\\n\\n    def add_slide_metadata(cell):\\n`add_slide_metadata` adds `\"slideshow\"` data to a __cell__ using the headers and horizontal rules as delimiters.\\n\\n        source = \\'\\'.join(cell[\\'source\\'])\\n        type = F\"- slide slide subslide fragment fragment fragment\".split(\\n        )[max(get_levels(source) or [0])]\\n`\"slideshow\"` is a keyword specific to the `nbconvert.SlidesExporter`, we only update the metadata \\nif the keywords don\\'t exist.\\n\\n        cell.metadata[\\'slideshow\\'] = cell.metadata.get(\\'slideshow\\', {})\\n        cell.metadata[\\'slideshow\\'].update(slide_type=cell.metadata[\\'slideshow\\'].get(\\n            \\'slide_type\\', type\\n        ))\\n        return cell'"
      ]
     },
     "metadata": {},
     "output_type": "display_data"
    }
   ],
   "source": [
    "### Slide show metadata.\n",
    "\n",
    "`nbconvert.SlidesExporter` uses cell metadata to create `\"slide subslide fragment\"` `\"slide_type\"`s.\n",
    "\n",
    "    def add_slide_metadata(cell):\n",
    "`add_slide_metadata` adds `\"slideshow\"` data to a __cell__ using the headers and horizontal rules as delimiters.\n",
    "\n",
    "        source = ''.join(cell['source'])\n",
    "        type = F\"- slide slide subslide fragment fragment fragment\".split(\n",
    "        )[max(get_levels(source) or [0])]\n",
    "`\"slideshow\"` is a keyword specific to the `nbconvert.SlidesExporter`, we only update the metadata \n",
    "if the keywords don't exist.\n",
    "\n",
    "        cell.metadata['slideshow'] = cell.metadata.get('slideshow', {})\n",
    "        cell.metadata['slideshow'].update(slide_type=cell.metadata['slideshow'].get(\n",
    "            'slide_type', type\n",
    "        ))\n",
    "        return cell"
   ]
  },
  {
   "cell_type": "code",
   "execution_count": 21,
   "metadata": {},
   "outputs": [
    {
     "data": {
      "text/html": [
       "<h3>Extracting a table of contents with <code><span style=\"border-bottom: 1px dotted gray;\" title=\"Type:        module&#013;String form: &lt;module &#x27;mistune&#x27; from &#x27;C:\\\\Anaconda3\\\\lib\\\\site-packages\\\\mistune.cp36-win_amd64.pyd&#x27;&gt;&#013;File:        c:\\anaconda3\\lib\\site-packages\\mistune.cp36-win_amd64.pyd&#013;Docstring:  &#013;mistune&#013;~~~~~~~&#013;&#013;The fastest markdown parser in pure Python with renderer feature.&#013;&#013;:copyright: (c) 2014 - 2017 by Hsiaoming Yang.\">mistune</span>\n",
       "</code></h3>\n",
       "<code style=\"white-space: pre;\" title=\"\">import <span style=\"border-bottom: 1px dotted gray;\" title=\"Type:        module&#013;String form: &lt;module &#x27;mistune&#x27; from &#x27;C:\\\\Anaconda3\\\\lib\\\\site-packages\\\\mistune.cp36-win_amd64.pyd&#x27;&gt;&#013;File:        c:\\anaconda3\\lib\\site-packages\\mistune.cp36-win_amd64.pyd&#013;Docstring:  &#013;mistune&#013;~~~~~~~&#013;&#013;The fastest markdown parser in pure Python with renderer feature.&#013;&#013;:copyright: (c) 2014 - 2017 by Hsiaoming Yang.\">mistune</span>\n",
       "<span style=\"\" title=\"\">class</span> HeadingRenderer(<span style=\"border-bottom: 1px dotted gray;\" title=\"Init signature: mistune.Renderer(**kwargs)&#013;Docstring:     &#013;The default HTML renderer for rendering Markdown.&#013;    &#013;File:           c:\\anaconda3\\lib\\site-packages\\mistune.cp36-win_amd64.pyd&#013;Type:           type\">mistune.Renderer</span>):\n",
       "    <span style=\"\" title=\"\">levels</span> = None\n",
       "    <span style=\"\" title=\"\">def</span> header(self, <span style=\"\" title=\"\">text</span>, <span style=\"\" title=\"\">level</span>, <span style=\"\" title=\"\">raw</span>=None):\n",
       "        self.<span style=\"\" title=\"\">levels</span> = (self.<span style=\"\" title=\"\">levels</span> or <span style=\"border-bottom: 1px dotted gray;\" title=\"Init signature: set(self, /, *args, **kwargs)&#013;Docstring:     &#013;set() -&gt; new empty set object&#013;set(iterable) -&gt; new set object&#013;&#013;Build an unordered collection of unique elements.&#013;Type:           type\">set</span>())\n",
       "        self.<span style=\"\" title=\"\">levels.add</span>(<span style=\"\" title=\"\">level</span>)\n",
       "        <span style=\"\" title=\"\">return</span> <span style=\"\" title=\"\">text</span>\n",
       "</code>"
      ],
      "text/markdown": [
       "### Extracting a table of contents with `mistune`\n",
       "\n",
       "    import mistune\n",
       "    class HeadingRenderer(mistune.Renderer):\n",
       "        levels = None\n",
       "        def header(self, text, level, raw=None):\n",
       "            self.levels = (self.levels or set())\n",
       "            self.levels.add(level)\n",
       "            return text"
      ],
      "text/plain": [
       "'### Extracting a table of contents with `mistune`\\n\\n    import mistune\\n    class HeadingRenderer(mistune.Renderer):\\n        levels = None\\n        def header(self, text, level, raw=None):\\n            self.levels = (self.levels or set())\\n            self.levels.add(level)\\n            return text'"
      ]
     },
     "metadata": {},
     "output_type": "display_data"
    }
   ],
   "source": [
    "### Extracting a table of contents with `mistune`\n",
    "\n",
    "    import mistune\n",
    "    class HeadingRenderer(mistune.Renderer):\n",
    "        levels = None\n",
    "        def header(self, text, level, raw=None):\n",
    "            self.levels = (self.levels or set())\n",
    "            self.levels.add(level)\n",
    "            return text"
   ]
  },
  {
   "cell_type": "code",
   "execution_count": 22,
   "metadata": {},
   "outputs": [
    {
     "data": {
      "text/html": [
       "<code style=\"white-space: pre;\" title=\"\"><span style=\"\" title=\"\">def</span> get_levels(<span style=\"\" title=\"\">text</span>):\n",
       "</code><code style=\"white-space: pre;\" title=\"\">>>> <span style=\"\" title=\"\">assert</span> <span style=\"border-bottom: 1px dotted gray;\" title=\"Signature: get_levels(text)&#013;Docstring: &lt;no docstring&gt;&#013;File:      c:\\users\\deathbeds\\&lt;ipython-input-22-f069c97b163a&gt;&#013;Type:      function\">get_levels</span>(\"# asdf\\\\n## asdfadf\") == {1, 2}\n",
       "</code><code style=\"white-space: pre;\" title=\"\">    <span style=\"\" title=\"\">renderer</span> = <span style=\"border-bottom: 1px dotted gray;\" title=\"Init signature: HeadingRenderer(**kwargs)&#013;Docstring:     &#013;The default HTML renderer for rendering Markdown.&#013;    &#013;Type:           type\">HeadingRenderer</span>()\n",
       "    <span style=\"border-bottom: 1px dotted gray;\" title=\"Init signature: mistune.Markdown(renderer=None, inline=None, block=None, **kwargs)&#013;Docstring:     &#013;The Markdown parser.&#013;&#013;:param renderer: An instance of ``Renderer``.&#013;:param inline: An inline lexer class or instance.&#013;:param block: A block lexer class or instance.&#013;File:           c:\\anaconda3\\lib\\site-packages\\mistune.cp36-win_amd64.pyd&#013;Type:           type\">mistune.Markdown</span>(<span style=\"\" title=\"\">renderer</span>=<span style=\"\" title=\"\">renderer</span>).<span style=\"\" title=\"\">render</span>(<span style=\"\" title=\"\">text</span>)\n",
       "\n",
       "    <span style=\"\" title=\"\">return</span> <span style=\"\" title=\"\">renderer.levels</span>\n",
       "</code>"
      ],
      "text/markdown": [
       "    def get_levels(text):\n",
       "```\n",
       ">>> assert get_levels(\"# asdf\\\\n## asdfadf\") == {1, 2}\n",
       "```\n",
       "\n",
       "        renderer = HeadingRenderer()\n",
       "        mistune.Markdown(renderer=renderer).render(text)\n",
       "\n",
       "        return renderer.levels"
      ],
      "text/plain": [
       "'    def get_levels(text):\\n```\\n>>> assert get_levels(\"# asdf\\\\\\\\n## asdfadf\") == {1, 2}\\n```\\n\\n        renderer = HeadingRenderer()\\n        mistune.Markdown(renderer=renderer).render(text)\\n\\n        return renderer.levels'"
      ]
     },
     "metadata": {},
     "output_type": "display_data"
    }
   ],
   "source": [
    "    def get_levels(text):\n",
    "```\n",
    ">>> assert get_levels(\"# asdf\\\\n## asdfadf\") == {1, 2}\n",
    "```\n",
    "\n",
    "        renderer = HeadingRenderer()\n",
    "        mistune.Markdown(renderer=renderer).render(text)\n",
    "\n",
    "        return renderer.levels"
   ]
  },
  {
   "cell_type": "code",
   "execution_count": 23,
   "metadata": {},
   "outputs": [
    {
     "data": {
      "text/html": [
       "<h3>Adding the metadata</h3>\n",
       "<p>Take image of the metadata.</p>\n",
       "<code style=\"white-space: pre;\" title=\"\"><span style=\"\" title=\"\">def</span> add_slide_data(<span style=\"\" title=\"\">cell</span>):\n",
       "    <span style=\"\" title=\"\">source</span> = ''.<span style=\"border-bottom: 1px dotted gray;\" title=\"Signature:       join(leftkey=&#x27;__no__default__&#x27;, leftseq=&#x27;__no__default__&#x27;, rightkey=&#x27;__no__default__&#x27;, rightseq=&#x27;__no__default__&#x27;, left_default=&#x27;__no__default__&#x27;, right_default=&#x27;__no__default__&#x27;)&#013;Call signature:  join(*args, **kwargs)&#013;Type:            curry&#013;String form:     &lt;function join at 0x000001A8E916A950&gt;&#013;File:            c:\\anaconda3\\lib\\site-packages\\toolz\\functoolz.py&#013;Docstring:      &#013;Join two sequences on common attributes&#013;&#013;This is a semi-streaming operation.  The LEFT sequence is fully evaluated&#013;and placed into memory.  The RIGHT sequence is evaluated lazily and so can&#013;be arbitrarily large.&#013;&#013;&gt;&gt;&gt; friends = [(&#x27;Alice&#x27;, &#x27;Edith&#x27;),&#013;...            (&#x27;Alice&#x27;, &#x27;Zhao&#x27;),&#013;...            (&#x27;Edith&#x27;, &#x27;Alice&#x27;),&#013;...            (&#x27;Zhao&#x27;, &#x27;Alice&#x27;),&#013;...            (&#x27;Zhao&#x27;, &#x27;Edith&#x27;)]&#013;&#013;&gt;&gt;&gt; cities = [(&#x27;Alice&#x27;, &#x27;NYC&#x27;),&#013;...           (&#x27;Alice&#x27;, &#x27;Chicago&#x27;),&#013;...           (&#x27;Dan&#x27;, &#x27;Syndey&#x27;),&#013;...           (&#x27;Edith&#x27;, &#x27;Paris&#x27;),&#013;...           (&#x27;Edith&#x27;, &#x27;Berlin&#x27;),&#013;...           (&#x27;Zhao&#x27;, &#x27;Shanghai&#x27;)]&#013;&#013;&gt;&gt;&gt; # Vacation opportunities&#013;&gt;&gt;&gt; # In what cities do people have friends?&#013;&gt;&gt;&gt; result = join(second, friends,&#013;...               first, cities)&#013;&gt;&gt;&gt; for ((a, b), (c, d)) in sorted(unique(result)):&#013;...     print((a, d))&#013;(&#x27;Alice&#x27;, &#x27;Berlin&#x27;)&#013;(&#x27;Alice&#x27;, &#x27;Paris&#x27;)&#013;(&#x27;Alice&#x27;, &#x27;Shanghai&#x27;)&#013;(&#x27;Edith&#x27;, &#x27;Chicago&#x27;)&#013;(&#x27;Edith&#x27;, &#x27;NYC&#x27;)&#013;(&#x27;Zhao&#x27;, &#x27;Chicago&#x27;)&#013;(&#x27;Zhao&#x27;, &#x27;NYC&#x27;)&#013;(&#x27;Zhao&#x27;, &#x27;Berlin&#x27;)&#013;(&#x27;Zhao&#x27;, &#x27;Paris&#x27;)&#013;&#013;Specify outer joins with keyword arguments ``left_default`` and/or&#013;``right_default``.  Here is a full outer join in which unmatched elements&#013;are paired with None.&#013;&#013;&gt;&gt;&gt; identity = lambda x: x&#013;&gt;&gt;&gt; list(join(identity, [1, 2, 3],&#013;...           identity, [2, 3, 4],&#013;...           left_default=None, right_default=None))&#013;[(2, 2), (3, 3), (None, 4), (1, None)]&#013;&#013;Usually the key arguments are callables to be applied to the sequences.  If&#013;the keys are not obviously callable then it is assumed that indexing was&#013;intended, e.g. the following is a legal change&#013;&#013;&gt;&gt;&gt; # result = join(second, friends, first, cities)&#013;&gt;&gt;&gt; result = join(1, friends, 0, cities)  # doctest: +SKIP&#013;Class docstring:&#013;Curry a callable function&#013;&#013;Enables partial application of arguments through calling a function with an&#013;incomplete set of arguments.&#013;&#013;&gt;&gt;&gt; def mul(x, y):&#013;...     return x * y&#013;&gt;&gt;&gt; mul = curry(mul)&#013;&#013;&gt;&gt;&gt; double = mul(2)&#013;&gt;&gt;&gt; double(10)&#013;20&#013;&#013;Also supports keyword arguments&#013;&#013;&gt;&gt;&gt; @curry                  # Can use curry as a decorator&#013;... def f(x, y, a=10):&#013;...     return a * (x + y)&#013;&#013;&gt;&gt;&gt; add = f(a=1)&#013;&gt;&gt;&gt; add(2, 3)&#013;5&#013;&#013;See Also:&#013;    toolz.curried - namespace of curried functions&#013;                    https://toolz.readthedocs.io/en/latest/curry.html\">join</span>(<span style=\"\" title=\"\">cell</span>['source'])\n",
       "    <span style=\"border-bottom: 1px dotted gray;\" title=\"Init signature: type(self, /, *args, **kwargs)&#013;Docstring:     &#013;type(object_or_name, bases, dict)&#013;type(object) -&gt; the object&#x27;s type&#013;type(name, bases, dict) -&gt; a new type&#013;Type:           type\">type</span> = <span style=\"\" title=\"\">F</span>\"subslide slide slide subslide fragment fragment fragment\".<span style=\"\" title=\"\">split</span>(\n",
       "    )[<span style=\"border-bottom: 1px dotted gray;\" title=\"Docstring:&#013;max(iterable, *[, default=obj, key=func]) -&gt; value&#013;max(arg1, arg2, *args, *[, key=func]) -&gt; value&#013;&#013;With a single iterable argument, return its biggest item. The&#013;default keyword-only argument specifies an object to return if&#013;the provided iterable is empty.&#013;With two or more arguments, return the largest argument.&#013;Type:      builtin_function_or_method\">max</span>(<span style=\"border-bottom: 1px dotted gray;\" title=\"Signature: get_levels(text)&#013;Docstring: &lt;no docstring&gt;&#013;File:      c:\\users\\deathbeds\\&lt;ipython-input-22-f069c97b163a&gt;&#013;Type:      function\">get_levels</span>(<span style=\"\" title=\"\">source</span>) or [0])]\n",
       "    <span style=\"\" title=\"\">cell.metadata</span>['slideshow'] = <span style=\"\" title=\"\">cell.metadata.get</span>('slideshow', {})\n",
       "    <span style=\"\" title=\"\">cell.metadata</span>['slideshow'].<span style=\"\" title=\"\">update</span>(<span style=\"\" title=\"\">slide_type</span>=<span style=\"\" title=\"\">cell.metadata</span>['slideshow'].<span style=\"border-bottom: 1px dotted gray;\" title=\"Signature:       get(ind=&#x27;__no__default__&#x27;, seq=&#x27;__no__default__&#x27;, default=&#x27;__no__default__&#x27;)&#013;Call signature:  get(*args, **kwargs)&#013;Type:            curry&#013;String form:     &lt;function get at 0x000001A8E916A158&gt;&#013;File:            c:\\anaconda3\\lib\\site-packages\\toolz\\functoolz.py&#013;Docstring:      &#013;Get element in a sequence or dict&#013;&#013;Provides standard indexing&#013;&#013;&gt;&gt;&gt; get(1, &#x27;ABC&#x27;)       # Same as &#x27;ABC&#x27;[1]&#013;&#x27;B&#x27;&#013;&#013;Pass a list to get multiple values&#013;&#013;&gt;&gt;&gt; get([1, 2], &#x27;ABC&#x27;)  # (&#x27;ABC&#x27;[1], &#x27;ABC&#x27;[2])&#013;(&#x27;B&#x27;, &#x27;C&#x27;)&#013;&#013;Works on any value that supports indexing/getitem&#013;For example here we see that it works with dictionaries&#013;&#013;&gt;&gt;&gt; phonebook = {&#x27;Alice&#x27;:  &#x27;555-1234&#x27;,&#013;...              &#x27;Bob&#x27;:    &#x27;555-5678&#x27;,&#013;...              &#x27;Charlie&#x27;:&#x27;555-9999&#x27;}&#013;&gt;&gt;&gt; get(&#x27;Alice&#x27;, phonebook)&#013;&#x27;555-1234&#x27;&#013;&#013;&gt;&gt;&gt; get([&#x27;Alice&#x27;, &#x27;Bob&#x27;], phonebook)&#013;(&#x27;555-1234&#x27;, &#x27;555-5678&#x27;)&#013;&#013;Provide a default for missing values&#013;&#013;&gt;&gt;&gt; get([&#x27;Alice&#x27;, &#x27;Dennis&#x27;], phonebook, None)&#013;(&#x27;555-1234&#x27;, None)&#013;&#013;See Also:&#013;    pluck&#013;Class docstring:&#013;Curry a callable function&#013;&#013;Enables partial application of arguments through calling a function with an&#013;incomplete set of arguments.&#013;&#013;&gt;&gt;&gt; def mul(x, y):&#013;...     return x * y&#013;&gt;&gt;&gt; mul = curry(mul)&#013;&#013;&gt;&gt;&gt; double = mul(2)&#013;&gt;&gt;&gt; double(10)&#013;20&#013;&#013;Also supports keyword arguments&#013;&#013;&gt;&gt;&gt; @curry                  # Can use curry as a decorator&#013;... def f(x, y, a=10):&#013;...     return a * (x + y)&#013;&#013;&gt;&gt;&gt; add = f(a=1)&#013;&gt;&gt;&gt; add(2, 3)&#013;5&#013;&#013;See Also:&#013;    toolz.curried - namespace of curried functions&#013;                    https://toolz.readthedocs.io/en/latest/curry.html\">get</span>('slide_type', <span style=\"border-bottom: 1px dotted gray;\" title=\"Init signature: type(self, /, *args, **kwargs)&#013;Docstring:     &#013;type(object_or_name, bases, dict)&#013;type(object) -&gt; the object&#x27;s type&#013;type(name, bases, dict) -&gt; a new type&#013;Type:           type\">type</span>))\n",
       "    <span style=\"\" title=\"\">return</span> <span style=\"\" title=\"\">cell</span>\n",
       "</code>"
      ],
      "text/markdown": [
       "### Adding the metadata\n",
       "\n",
       "Take image of the metadata.\n",
       "\n",
       "    def add_slide_data(cell):\n",
       "        source = ''.join(cell['source'])\n",
       "        type = F\"subslide slide slide subslide fragment fragment fragment\".split(\n",
       "        )[max(get_levels(source) or [0])]\n",
       "        cell.metadata['slideshow'] = cell.metadata.get('slideshow', {})\n",
       "        cell.metadata['slideshow'].update(slide_type=cell.metadata['slideshow'].get('slide_type', type))\n",
       "        return cell"
      ],
      "text/plain": [
       "'### Adding the metadata\\n\\nTake image of the metadata.\\n\\n    def add_slide_data(cell):\\n        source = \\'\\'.join(cell[\\'source\\'])\\n        type = F\"subslide slide slide subslide fragment fragment fragment\".split(\\n        )[max(get_levels(source) or [0])]\\n        cell.metadata[\\'slideshow\\'] = cell.metadata.get(\\'slideshow\\', {})\\n        cell.metadata[\\'slideshow\\'].update(slide_type=cell.metadata[\\'slideshow\\'].get(\\'slide_type\\', type))\\n        return cell'"
      ]
     },
     "metadata": {},
     "output_type": "display_data"
    }
   ],
   "source": [
    "### Adding the metadata\n",
    "\n",
    "Take image of the metadata.\n",
    "\n",
    "    def add_slide_data(cell):\n",
    "        source = ''.join(cell['source'])\n",
    "        type = F\"subslide slide slide subslide fragment fragment fragment\".split(\n",
    "        )[max(get_levels(source) or [0])]\n",
    "        cell.metadata['slideshow'] = cell.metadata.get('slideshow', {})\n",
    "        cell.metadata['slideshow'].update(slide_type=cell.metadata['slideshow'].get('slide_type', type))\n",
    "        return cell"
   ]
  },
  {
   "cell_type": "code",
   "execution_count": 24,
   "metadata": {},
   "outputs": [
    {
     "data": {
      "text/html": [
       "<h3>An <code><span style=\"border-bottom: 1px dotted gray;\" title=\"Init signature: nbconvert.preprocessors.Preprocessor(*args, **kwargs)&#013;Docstring:     &#013;A configurable preprocessor&#013;&#013;Inherit from this class if you wish to have configurability for your&#013;preprocessor.&#013;&#013;Any configurable traitlets this class exposed will be configurable in&#013;profiles using c.SubClassName.attribute = value&#013;&#013;you can overwrite :meth:`preprocess_cell` to apply a transformation&#013;independently on each cell or :meth:`preprocess` if you prefer your own&#013;logic. See corresponding docstring for information.&#013;&#013;Disabled by default and can be enabled via the config by&#013;    &#x27;c.YourPreprocessorName.enabled = True&#x27;&#013;Init docstring:&#013;Public constructor&#013;&#013;Parameters&#013;----------&#013;config : Config&#013;    Configuration file structure&#013;`**kw`&#013;    Additional keyword arguments passed to parent&#013;File:           c:\\anaconda3\\lib\\site-packages\\nbconvert\\preprocessors\\base.py&#013;Type:           MetaHasTraits\">nbconvert.preprocessors.Preprocessor</span>\n",
       "</code></h3>\n",
       "<code style=\"white-space: pre;\" title=\"\"><span style=\"\" title=\"\">class</span> AutomaticallyPresent(<span style=\"border-bottom: 1px dotted gray;\" title=\"Init signature: nbconvert.preprocessors.Preprocessor(*args, **kwargs)&#013;Docstring:     &#013;A configurable preprocessor&#013;&#013;Inherit from this class if you wish to have configurability for your&#013;preprocessor.&#013;&#013;Any configurable traitlets this class exposed will be configurable in&#013;profiles using c.SubClassName.attribute = value&#013;&#013;you can overwrite :meth:`preprocess_cell` to apply a transformation&#013;independently on each cell or :meth:`preprocess` if you prefer your own&#013;logic. See corresponding docstring for information.&#013;&#013;Disabled by default and can be enabled via the config by&#013;    &#x27;c.YourPreprocessorName.enabled = True&#x27;&#013;Init docstring:&#013;Public constructor&#013;&#013;Parameters&#013;----------&#013;config : Config&#013;    Configuration file structure&#013;`**kw`&#013;    Additional keyword arguments passed to parent&#013;File:           c:\\anaconda3\\lib\\site-packages\\nbconvert\\preprocessors\\base.py&#013;Type:           MetaHasTraits\">nbconvert.preprocessors.Preprocessor</span>):\n",
       "</code><code style=\"white-space: pre;\" title=\"\">>>> <span style=\"\" title=\"\">assert</span> <span style=\"border-bottom: 1px dotted gray;\" title=\"Init signature: nbconvert.SlidesExporter(*args, **kwargs)&#013;Docstring:      Exports HTML slides with reveal.js&#013;Init docstring:&#013;Public constructor&#013;&#013;Parameters&#013;----------&#013;config : config&#013;    User configuration instance.&#013;extra_loaders : list[of Jinja Loaders]&#013;    ordered list of Jinja loader to find templates. Will be tried in order&#013;    before the default FileSystem ones.&#013;template : str (optional, kw arg)&#013;    Template to use when exporting.&#013;File:           c:\\anaconda3\\lib\\site-packages\\nbconvert\\exporters\\slides.py&#013;Type:           MetaHasTraits\">nbconvert.SlidesExporter</span>(<span style=\"\" title=\"\">preprocessors</span>=[<span style=\"border-bottom: 1px dotted gray;\" title=\"Init signature: AutomaticallyPresent(*args, **kwargs)&#013;Docstring:     &#013;A configurable preprocessor&#013;&#013;Inherit from this class if you wish to have configurability for your&#013;preprocessor.&#013;&#013;Any configurable traitlets this class exposed will be configurable in&#013;profiles using c.SubClassName.attribute = value&#013;&#013;you can overwrite :meth:`preprocess_cell` to apply a transformation&#013;independently on each cell or :meth:`preprocess` if you prefer your own&#013;logic. See corresponding docstring for information.&#013;&#013;Disabled by default and can be enabled via the config by&#013;    &#x27;c.YourPreprocessorName.enabled = True&#x27;&#013;Init docstring:&#013;Public constructor&#013;&#013;Parameters&#013;----------&#013;config : Config&#013;    Configuration file structure&#013;`**kw`&#013;    Additional keyword arguments passed to parent&#013;File:           c:\\anaconda3\\lib\\site-packages\\traitlets\\traitlets.py&#013;Type:           MetaHasTraits\">AutomaticallyPresent</span>()]).<span style=\"\" title=\"\">from_filename</span>(\n",
       "...    <span style=\"border-bottom: 1px dotted gray;\" title=\"Signature: globals()&#013;Docstring:&#013;Return the dictionary containing the current scope&#x27;s global variables.&#013;&#013;NOTE: Updates to this dictionary *will* affect name lookups in the current&#013;global scope and vice-versa.&#013;Type:      builtin_function_or_method\">globals</span>().<span style=\"border-bottom: 1px dotted gray;\" title=\"Signature:       get(ind=&#x27;__no__default__&#x27;, seq=&#x27;__no__default__&#x27;, default=&#x27;__no__default__&#x27;)&#013;Call signature:  get(*args, **kwargs)&#013;Type:            curry&#013;String form:     &lt;function get at 0x000001A8E916A158&gt;&#013;File:            c:\\anaconda3\\lib\\site-packages\\toolz\\functoolz.py&#013;Docstring:      &#013;Get element in a sequence or dict&#013;&#013;Provides standard indexing&#013;&#013;&gt;&gt;&gt; get(1, &#x27;ABC&#x27;)       # Same as &#x27;ABC&#x27;[1]&#013;&#x27;B&#x27;&#013;&#013;Pass a list to get multiple values&#013;&#013;&gt;&gt;&gt; get([1, 2], &#x27;ABC&#x27;)  # (&#x27;ABC&#x27;[1], &#x27;ABC&#x27;[2])&#013;(&#x27;B&#x27;, &#x27;C&#x27;)&#013;&#013;Works on any value that supports indexing/getitem&#013;For example here we see that it works with dictionaries&#013;&#013;&gt;&gt;&gt; phonebook = {&#x27;Alice&#x27;:  &#x27;555-1234&#x27;,&#013;...              &#x27;Bob&#x27;:    &#x27;555-5678&#x27;,&#013;...              &#x27;Charlie&#x27;:&#x27;555-9999&#x27;}&#013;&gt;&gt;&gt; get(&#x27;Alice&#x27;, phonebook)&#013;&#x27;555-1234&#x27;&#013;&#013;&gt;&gt;&gt; get([&#x27;Alice&#x27;, &#x27;Bob&#x27;], phonebook)&#013;(&#x27;555-1234&#x27;, &#x27;555-5678&#x27;)&#013;&#013;Provide a default for missing values&#013;&#013;&gt;&gt;&gt; get([&#x27;Alice&#x27;, &#x27;Dennis&#x27;], phonebook, None)&#013;(&#x27;555-1234&#x27;, None)&#013;&#013;See Also:&#013;    pluck&#013;Class docstring:&#013;Curry a callable function&#013;&#013;Enables partial application of arguments through calling a function with an&#013;incomplete set of arguments.&#013;&#013;&gt;&gt;&gt; def mul(x, y):&#013;...     return x * y&#013;&gt;&gt;&gt; mul = curry(mul)&#013;&#013;&gt;&gt;&gt; double = mul(2)&#013;&gt;&gt;&gt; double(10)&#013;20&#013;&#013;Also supports keyword arguments&#013;&#013;&gt;&gt;&gt; @curry                  # Can use curry as a decorator&#013;... def f(x, y, a=10):&#013;...     return a * (x + y)&#013;&#013;&gt;&gt;&gt; add = f(a=1)&#013;&gt;&gt;&gt; add(2, 3)&#013;5&#013;&#013;See Also:&#013;    toolz.curried - namespace of curried functions&#013;                    https://toolz.readthedocs.io/en/latest/curry.html\">get</span>('__file__', 'Untitled104.ipynb'))[0]\n",
       "</code><code style=\"white-space: pre;\" title=\"\">    <span style=\"\" title=\"\">def</span> preprocess_cell(self, <span style=\"\" title=\"\">cell</span>, <span style=\"\" title=\"\">resources</span>, <span style=\"\" title=\"\">index</span>):\n",
       "        <span style=\"\" title=\"\">if</span> 'source' not in <span style=\"\" title=\"\">cell</span>: <span style=\"\" title=\"\">return</span> <span style=\"\" title=\"\">cell</span>, <span style=\"\" title=\"\">resources</span>\n",
       "\n",
       "        <span style=\"\" title=\"\">if</span> <span style=\"\" title=\"\">cell</span>['cell_type'] == 'code':\n",
       "            self.<span style=\"\" title=\"\">is_pidgin</span> = self.<span style=\"\" title=\"\">is_pidgin</span> or (\n",
       "                'load_ext pidgin' in ''.<span style=\"border-bottom: 1px dotted gray;\" title=\"Signature:       join(leftkey=&#x27;__no__default__&#x27;, leftseq=&#x27;__no__default__&#x27;, rightkey=&#x27;__no__default__&#x27;, rightseq=&#x27;__no__default__&#x27;, left_default=&#x27;__no__default__&#x27;, right_default=&#x27;__no__default__&#x27;)&#013;Call signature:  join(*args, **kwargs)&#013;Type:            curry&#013;String form:     &lt;function join at 0x000001A8E916A950&gt;&#013;File:            c:\\anaconda3\\lib\\site-packages\\toolz\\functoolz.py&#013;Docstring:      &#013;Join two sequences on common attributes&#013;&#013;This is a semi-streaming operation.  The LEFT sequence is fully evaluated&#013;and placed into memory.  The RIGHT sequence is evaluated lazily and so can&#013;be arbitrarily large.&#013;&#013;&gt;&gt;&gt; friends = [(&#x27;Alice&#x27;, &#x27;Edith&#x27;),&#013;...            (&#x27;Alice&#x27;, &#x27;Zhao&#x27;),&#013;...            (&#x27;Edith&#x27;, &#x27;Alice&#x27;),&#013;...            (&#x27;Zhao&#x27;, &#x27;Alice&#x27;),&#013;...            (&#x27;Zhao&#x27;, &#x27;Edith&#x27;)]&#013;&#013;&gt;&gt;&gt; cities = [(&#x27;Alice&#x27;, &#x27;NYC&#x27;),&#013;...           (&#x27;Alice&#x27;, &#x27;Chicago&#x27;),&#013;...           (&#x27;Dan&#x27;, &#x27;Syndey&#x27;),&#013;...           (&#x27;Edith&#x27;, &#x27;Paris&#x27;),&#013;...           (&#x27;Edith&#x27;, &#x27;Berlin&#x27;),&#013;...           (&#x27;Zhao&#x27;, &#x27;Shanghai&#x27;)]&#013;&#013;&gt;&gt;&gt; # Vacation opportunities&#013;&gt;&gt;&gt; # In what cities do people have friends?&#013;&gt;&gt;&gt; result = join(second, friends,&#013;...               first, cities)&#013;&gt;&gt;&gt; for ((a, b), (c, d)) in sorted(unique(result)):&#013;...     print((a, d))&#013;(&#x27;Alice&#x27;, &#x27;Berlin&#x27;)&#013;(&#x27;Alice&#x27;, &#x27;Paris&#x27;)&#013;(&#x27;Alice&#x27;, &#x27;Shanghai&#x27;)&#013;(&#x27;Edith&#x27;, &#x27;Chicago&#x27;)&#013;(&#x27;Edith&#x27;, &#x27;NYC&#x27;)&#013;(&#x27;Zhao&#x27;, &#x27;Chicago&#x27;)&#013;(&#x27;Zhao&#x27;, &#x27;NYC&#x27;)&#013;(&#x27;Zhao&#x27;, &#x27;Berlin&#x27;)&#013;(&#x27;Zhao&#x27;, &#x27;Paris&#x27;)&#013;&#013;Specify outer joins with keyword arguments ``left_default`` and/or&#013;``right_default``.  Here is a full outer join in which unmatched elements&#013;are paired with None.&#013;&#013;&gt;&gt;&gt; identity = lambda x: x&#013;&gt;&gt;&gt; list(join(identity, [1, 2, 3],&#013;...           identity, [2, 3, 4],&#013;...           left_default=None, right_default=None))&#013;[(2, 2), (3, 3), (None, 4), (1, None)]&#013;&#013;Usually the key arguments are callables to be applied to the sequences.  If&#013;the keys are not obviously callable then it is assumed that indexing was&#013;intended, e.g. the following is a legal change&#013;&#013;&gt;&gt;&gt; # result = join(second, friends, first, cities)&#013;&gt;&gt;&gt; result = join(1, friends, 0, cities)  # doctest: +SKIP&#013;Class docstring:&#013;Curry a callable function&#013;&#013;Enables partial application of arguments through calling a function with an&#013;incomplete set of arguments.&#013;&#013;&gt;&gt;&gt; def mul(x, y):&#013;...     return x * y&#013;&gt;&gt;&gt; mul = curry(mul)&#013;&#013;&gt;&gt;&gt; double = mul(2)&#013;&gt;&gt;&gt; double(10)&#013;20&#013;&#013;Also supports keyword arguments&#013;&#013;&gt;&gt;&gt; @curry                  # Can use curry as a decorator&#013;... def f(x, y, a=10):&#013;...     return a * (x + y)&#013;&#013;&gt;&gt;&gt; add = f(a=1)&#013;&gt;&gt;&gt; add(2, 3)&#013;5&#013;&#013;See Also:&#013;    toolz.curried - namespace of curried functions&#013;                    https://toolz.readthedocs.io/en/latest/curry.html\">join</span>(<span style=\"\" title=\"\">cell</span>['source']))\n",
       "\n",
       "        <span style=\"\" title=\"\">if</span> <span style=\"\" title=\"\">cell</span>['cell_type'] in (['markdown'] + (\n",
       "            self.<span style=\"\" title=\"\">is_pidgin</span> and ['code'] or []\n",
       "        )):\n",
       "            <span style=\"\" title=\"\">if</span> (<span style=\"\" title=\"\">cell</span>['cell_type'] == 'markdown') or ('outputs' in <span style=\"\" title=\"\">cell</span>) and <span style=\"\" title=\"\">cell</span>['outputs']:\n",
       "                <span style=\"\" title=\"\">cell</span> = <span style=\"border-bottom: 1px dotted gray;\" title=\"Signature: add_slide_data(cell)&#013;Docstring: &lt;no docstring&gt;&#013;File:      c:\\users\\deathbeds\\&lt;ipython-input-23-3da51fa63a08&gt;&#013;Type:      function\">add_slide_data</span>(<span style=\"\" title=\"\">cell</span>)\n",
       "\n",
       "        <span style=\"\" title=\"\">return</span> <span style=\"\" title=\"\">cell</span>, <span style=\"\" title=\"\">resources</span>\n",
       "\n",
       "    <span style=\"\" title=\"\">def</span> preprocess(self, <span style=\"\" title=\"\">nb</span>, <span style=\"\" title=\"\">resources</span>):\n",
       "        self.<span style=\"\" title=\"\">last_heading</span> = None\n",
       "        self.<span style=\"\" title=\"\">is_pidgin</span> = False\n",
       "        <span style=\"\" title=\"\">nb</span>, <span style=\"\" title=\"\">resources</span> = <span style=\"border-bottom: 1px dotted gray;\" title=\"Init signature: super(self, /, *args, **kwargs)&#013;Docstring:     &#013;super() -&gt; same as super(__class__, &lt;first argument&gt;)&#013;super(type) -&gt; unbound super object&#013;super(type, obj) -&gt; bound super object; requires isinstance(obj, type)&#013;super(type, type2) -&gt; bound super object; requires issubclass(type2, type)&#013;Typical use to call a cooperative superclass method:&#013;class C(B):&#013;    def meth(self, arg):&#013;        super().meth(arg)&#013;This works for class methods too:&#013;class C(B):&#013;    @classmethod&#013;    def cmeth(cls, arg):&#013;        super().cmeth(arg)&#013;Type:           type\">super</span>().<span style=\"\" title=\"\">preprocess</span>(<span style=\"\" title=\"\">nb</span>, <span style=\"\" title=\"\">resources</span>)\n",
       "        <span style=\"\" title=\"\">return</span> <span style=\"border-bottom: 1px dotted gray;\" title=\"Signature: nbconvert.exporters.slides.prepare(nb)&#013;Docstring: Add some convenience metadata on cells for the slide template.&#013;File:      c:\\anaconda3\\lib\\site-packages\\nbconvert\\exporters\\slides.py&#013;Type:      function\">nbconvert.exporters.slides.prepare</span>(<span style=\"\" title=\"\">nb</span>), <span style=\"\" title=\"\">resources</span>\n",
       "</code>"
      ],
      "text/markdown": [
       "### An `nbconvert.preprocessors.Preprocessor`\n",
       "    \n",
       "    class AutomaticallyPresent(nbconvert.preprocessors.Preprocessor):\n",
       "```\n",
       ">>> assert nbconvert.SlidesExporter(preprocessors=[AutomaticallyPresent()]).from_filename(\n",
       "...    globals().get('__file__', 'Untitled104.ipynb'))[0]\n",
       "```\n",
       "\n",
       "        def preprocess_cell(self, cell, resources, index):\n",
       "            if 'source' not in cell: return cell, resources\n",
       "            \n",
       "            if cell['cell_type'] == 'code':\n",
       "                self.is_pidgin = self.is_pidgin or (\n",
       "                    'load_ext pidgin' in ''.join(cell['source']))\n",
       "               \n",
       "            if cell['cell_type'] in (['markdown'] + (\n",
       "                self.is_pidgin and ['code'] or []\n",
       "            )):\n",
       "                if (cell['cell_type'] == 'markdown') or ('outputs' in cell) and cell['outputs']:\n",
       "                    cell = add_slide_data(cell)\n",
       "                \n",
       "            return cell, resources\n",
       "        \n",
       "        def preprocess(self, nb, resources):\n",
       "            self.last_heading = None\n",
       "            self.is_pidgin = False\n",
       "            nb, resources = super().preprocess(nb, resources)\n",
       "            return nbconvert.exporters.slides.prepare(nb), resources\n"
      ],
      "text/plain": [
       "\"### An `nbconvert.preprocessors.Preprocessor`\\n    \\n    class AutomaticallyPresent(nbconvert.preprocessors.Preprocessor):\\n```\\n>>> assert nbconvert.SlidesExporter(preprocessors=[AutomaticallyPresent()]).from_filename(\\n...    globals().get('__file__', 'Untitled104.ipynb'))[0]\\n```\\n\\n        def preprocess_cell(self, cell, resources, index):\\n            if 'source' not in cell: return cell, resources\\n            \\n            if cell['cell_type'] == 'code':\\n                self.is_pidgin = self.is_pidgin or (\\n                    'load_ext pidgin' in ''.join(cell['source']))\\n               \\n            if cell['cell_type'] in (['markdown'] + (\\n                self.is_pidgin and ['code'] or []\\n            )):\\n                if (cell['cell_type'] == 'markdown') or ('outputs' in cell) and cell['outputs']:\\n                    cell = add_slide_data(cell)\\n                \\n            return cell, resources\\n        \\n        def preprocess(self, nb, resources):\\n            self.last_heading = None\\n            self.is_pidgin = False\\n            nb, resources = super().preprocess(nb, resources)\\n            return nbconvert.exporters.slides.prepare(nb), resources\\n\""
      ]
     },
     "metadata": {},
     "output_type": "display_data"
    }
   ],
   "source": [
    "### An `nbconvert.preprocessors.Preprocessor`\n",
    "    \n",
    "    class AutomaticallyPresent(nbconvert.preprocessors.Preprocessor):\n",
    "```\n",
    ">>> assert nbconvert.SlidesExporter(preprocessors=[AutomaticallyPresent()]).from_filename(\n",
    "...    globals().get('__file__', 'Untitled104.ipynb'))[0]\n",
    "```\n",
    "\n",
    "        def preprocess_cell(self, cell, resources, index):\n",
    "            if 'source' not in cell: return cell, resources\n",
    "            \n",
    "            if cell['cell_type'] == 'code':\n",
    "                self.is_pidgin = self.is_pidgin or (\n",
    "                    'load_ext pidgin' in ''.join(cell['source']))\n",
    "               \n",
    "            if cell['cell_type'] in (['markdown'] + (\n",
    "                self.is_pidgin and ['code'] or []\n",
    "            )):\n",
    "                if (cell['cell_type'] == 'markdown') or ('outputs' in cell) and cell['outputs']:\n",
    "                    cell = add_slide_data(cell)\n",
    "                \n",
    "            return cell, resources\n",
    "        \n",
    "        def preprocess(self, nb, resources):\n",
    "            self.last_heading = None\n",
    "            self.is_pidgin = False\n",
    "            nb, resources = super().preprocess(nb, resources)\n",
    "            return nbconvert.exporters.slides.prepare(nb), resources\n"
   ]
  },
  {
   "cell_type": "markdown",
   "metadata": {},
   "source": [
    "## Automatically adding the metadata."
   ]
  },
  {
   "cell_type": "code",
   "execution_count": 42,
   "metadata": {},
   "outputs": [],
   "source": [
    "    def _repr_html_(include=None, exclude=None):\n",
    "        import vdom.svg\n",
    "        exporter = nbconvert.SlidesExporter(\n",
    "            preprocessors=[AutomaticallyPresent()],\n",
    "            reveal_scroll=True,\n",
    "            exclude_input=True,\n",
    "        )\n",
    "        return vdom.svg.iframe(\n",
    "            srcdoc=exporter.from_filename('Untitled104.ipynb')[0],\n",
    "            width=\"100%\", height=\"500px\",\n",
    "            **{\"class\": \"pdg-Frame\"}\n",
    "        )._repr_html_()"
   ]
  },
  {
   "cell_type": "code",
   "execution_count": 43,
   "metadata": {},
   "outputs": [],
   "source": [
    "    import pygments"
   ]
  },
  {
   "cell_type": "markdown",
   "metadata": {},
   "source": [
    "    __import__(__name__)"
   ]
  }
 ],
 "metadata": {
  "kernelspec": {
   "display_name": "Python 3",
   "language": "python",
   "name": "python3"
  },
  "language_info": {
   "codemirror_mode": {
    "name": "ipython",
    "version": 3
   },
   "file_extension": ".py",
   "mimetype": "text/x-python",
   "name": "python",
   "nbconvert_exporter": "python",
   "pygments_lexer": "ipython3",
   "version": "3.6.6"
  },
  "reveal": {
   "scroll": true
  }
 },
 "nbformat": 4,
 "nbformat_minor": 2
}
