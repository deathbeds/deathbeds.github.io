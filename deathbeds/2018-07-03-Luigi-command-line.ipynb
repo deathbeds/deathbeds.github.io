{
 "cells": [
  {
   "cell_type": "markdown",
   "metadata": {},
   "source": [
    "# Using `importnb` with Luigi\n",
    "\n",
    "[`luigi`][luigi] is a very reliable task scheduling tool in Python. [`luigi`][luigi] has provides a [command line interface](/en/stable/running_luigi.html). \n",
    "\n",
    "It may be common for a data science to interactively develop an algorithm in the notebook.  When the `importnb-install` has been applied, notebooks can be imported as modules.  \n",
    "\n",
    "This notebook shows how [`luigi`][luigi] can be used with a notebook module for a very simple example.\n",
    "\n",
    "[luigi]: https://luigi.readthedocs.io/"
   ]
  },
  {
   "cell_type": "code",
   "execution_count": 5,
   "metadata": {},
   "outputs": [],
   "source": [
    "import luigi\n",
    "\n",
    "class MyTask(luigi.Task):\n",
    "    x = luigi.IntParameter()\n",
    "    y = luigi.IntParameter(default=45)\n",
    "\n",
    "    def run(self):\n",
    "        print(self.x + self.y)"
   ]
  },
  {
   "cell_type": "markdown",
   "metadata": {},
   "source": [
    "* Run this notebook as module using `luigi`'s command line interface."
   ]
  },
  {
   "cell_type": "code",
   "execution_count": 8,
   "metadata": {},
   "outputs": [
    {
     "name": "stdout",
     "output_type": "stream",
     "text": [
      "DEBUG: Checking if MyTask(x=100, y=45) is complete\n",
      "/Users/tonyfast/anaconda/envs/p6/lib/python3.6/site-packages/luigi/worker.py:346: UserWarning: Task MyTask(x=100, y=45) without outputs has no custom complete() method\n",
      "  is_complete = task.complete()\n",
      "INFO: Informed scheduler that task   MyTask_100_45_98a6d68a8b   has status   PENDING\n",
      "INFO: Done scheduling tasks\n",
      "INFO: Running Worker with 1 processes\n",
      "DEBUG: Asking scheduler for work...\n",
      "DEBUG: Pending tasks: 1\n",
      "INFO: [pid 19479] Worker Worker(salt=172344101, workers=1, host=Admins-MacBook-Pro.local, username=tonyfast, pid=19479) running   MyTask(x=100, y=45)\n",
      "\u001b]0;IPython: deathbeds.github.io/deathbeds\u0007145\n",
      "INFO: [pid 19479] Worker Worker(salt=172344101, workers=1, host=Admins-MacBook-Pro.local, username=tonyfast, pid=19479) done      MyTask(x=100, y=45)\n",
      "DEBUG: 1 running tasks, waiting for next task to finish\n",
      "INFO: Informed scheduler that task   MyTask_100_45_98a6d68a8b   has status   DONE\n",
      "DEBUG: Asking scheduler for work...\n",
      "DEBUG: Done\n",
      "DEBUG: There are no more tasks to run at this time\n",
      "INFO: Worker Worker(salt=172344101, workers=1, host=Admins-MacBook-Pro.local, username=tonyfast, pid=19479) was stopped. Shutting down Keep-Alive thread\n",
      "INFO: \n",
      "===== Luigi Execution Summary =====\n",
      "\n",
      "Scheduled 1 tasks of which:\n",
      "* 1 ran successfully:\n",
      "    - 1 MyTask(x=100, y=45)\n",
      "\n",
      "This progress looks :) because there were no failed tasks or missing external dependencies\n",
      "\n",
      "===== Luigi Execution Summary =====\n",
      "\n"
     ]
    }
   ],
   "source": [
    "if __name__ == '__main__':\n",
    "    !ipython -m luigi -- --module __Luigi__ MyTask --x 100 --local-scheduler"
   ]
  },
  {
   "cell_type": "markdown",
   "metadata": {},
   "source": [
    "> The `:)` can be so satisfying on a bad day at the keyboard."
   ]
  },
  {
   "cell_type": "code",
   "execution_count": 9,
   "metadata": {},
   "outputs": [
    {
     "data": {
      "text/html": [
       "<div id=\"disqus_thread\"></div>\n",
       "<script type=\"text/javascript\">\n",
       "    /* * * CONFIGURATION VARIABLES * * */\n",
       "    // Required: on line below, replace text in quotes with your forum shortname\n",
       "    var disqus_shortname = 'tonyfast';\n",
       "\n",
       "    /* * * DON'T EDIT BELOW THIS LINE * * */\n",
       "    (function() {\n",
       "        var dsq = document.createElement('script'); dsq.type = 'text/javascript'; dsq.async = true;\n",
       "        dsq.src = '//' + disqus_shortname + '.disqus.com/embed.js';\n",
       "        (document.getElementsByTagName('head')[0] || document.getElementsByTagName('body')[0]).appendChild(dsq);\n",
       "    })();\n",
       "</script>\n",
       "<noscript>Please enable JavaScript to view the <a href=\"https://disqus.com/?ref_noscript\" rel=\"nofollow\">comments powered by Disqus.</a></noscript>"
      ],
      "text/plain": [
       "<IPython.core.display.HTML object>"
      ]
     },
     "metadata": {},
     "output_type": "display_data"
    }
   ],
   "source": [
    "    if __name__ == '__main__': import disqus"
   ]
  }
 ],
 "metadata": {
  "kernelspec": {
   "display_name": "p6",
   "language": "python",
   "name": "other-env"
  },
  "language_info": {
   "codemirror_mode": {
    "name": "ipython",
    "version": 3
   },
   "file_extension": ".py",
   "mimetype": "text/x-python",
   "name": "python",
   "nbconvert_exporter": "python",
   "pygments_lexer": "ipython3",
   "version": "3.6.3"
  }
 },
 "nbformat": 4,
 "nbformat_minor": 2
}
