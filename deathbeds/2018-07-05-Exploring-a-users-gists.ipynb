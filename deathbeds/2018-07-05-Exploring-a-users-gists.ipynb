{
 "cells": [
  {
   "cell_type": "markdown",
   "metadata": {},
   "source": [
    "# Downloading Gist data from the Github API"
   ]
  },
  {
   "cell_type": "code",
   "execution_count": 1,
   "metadata": {},
   "outputs": [],
   "source": [
    "    from toolz.curried import *\n",
    "    from pandas import Series, DataFrame, concat, get_dummies, TimeGrouper"
   ]
  },
  {
   "cell_type": "markdown",
   "metadata": {},
   "source": [
    "cache the `pandas.read_json` function because that is how we will download the results.  Be aware, resetting `read_json` will clear the cache."
   ]
  },
  {
   "cell_type": "code",
   "execution_count": 10,
   "metadata": {},
   "outputs": [],
   "source": [
    "    read_json = memoize(__import__('pandas').read_json)"
   ]
  },
  {
   "cell_type": "markdown",
   "metadata": {},
   "source": [
    "Begin downloading the data through the Github user information."
   ]
  },
  {
   "cell_type": "code",
   "execution_count": 11,
   "metadata": {},
   "outputs": [],
   "source": [
    "    def get_info(user = 'tonyfast'):\n",
    "        return concat({user: \n",
    "                       read_json(f\"\"\"https://api.github.com/users/{user}\"\"\", typ='series')\n",
    "                      }).unstack()\n"
   ]
  },
  {
   "cell_type": "markdown",
   "metadata": {},
   "source": [
    "From the info we can determine the location and quantity of the user's gists."
   ]
  },
  {
   "cell_type": "code",
   "execution_count": null,
   "metadata": {},
   "outputs": [],
   "source": [
    "    def get_gists(info, max=3):\n",
    "        gist_page_url = info.loc[\"gists_url\"].format(**{\"/gist_id\": \"?page={}\"}).format\n",
    "\n",
    "        return (\n",
    "            concat(\n",
    "                [\n",
    "                    read_json(gist_page_url(object))\n",
    "                    for object in range(1, min(max, (info.loc[\"public_gists\"] // 30) + 1))\n",
    "                ]\n",
    "            )\n",
    "            .pipe(\n",
    "                lambda df: df[\"files\"]\n",
    "                .apply(compose(Series, list, dict.values))\n",
    "                .stack()\n",
    "                .apply(Series)\n",
    "                .reset_index(-1, drop=True)\n",
    "                .join(df)\n",
    "            )\n",
    "            .pipe(do(cleanse)).pipe(convert_to_feather, f\"{info.name}_gists.feather\")\n",
    "        )\n",
    "\n",
    "\n",
    "    def cleanse(df):\n",
    "        \"\"\"files and owner are dict's that cannot be serialized by feather\"\"\"\n",
    "        del df[\"files\"], df[\"owner\"]\n"
   ]
  },
  {
   "cell_type": "markdown",
   "metadata": {},
   "source": [
    "Storing the data in [feather](https://github.com/wesm/feather) makes it more reusable."
   ]
  },
  {
   "cell_type": "code",
   "execution_count": null,
   "metadata": {},
   "outputs": [],
   "source": [
    "    def convert_to_feather(df, dest):\n",
    "        import feather\n",
    "        feather.write_dataframe(df, dest)\n",
    "        return feather.read_dataframe(dest)"
   ]
  },
  {
   "cell_type": "markdown",
   "metadata": {},
   "source": [
    "## The `main` function"
   ]
  },
  {
   "cell_type": "code",
   "execution_count": 14,
   "metadata": {},
   "outputs": [],
   "source": [
    "    def main(user=\"tonyfast\", max=3):\n",
    "        return get_gists(get_info(user).loc[user], max)"
   ]
  },
  {
   "cell_type": "markdown",
   "metadata": {},
   "source": [
    "Demonstrate the functions use."
   ]
  },
  {
   "cell_type": "code",
   "execution_count": 23,
   "metadata": {},
   "outputs": [
    {
     "data": {
      "text/html": [
       "<div>\n",
       "<style scoped>\n",
       "    .dataframe tbody tr th:only-of-type {\n",
       "        vertical-align: middle;\n",
       "    }\n",
       "\n",
       "    .dataframe tbody tr th {\n",
       "        vertical-align: top;\n",
       "    }\n",
       "\n",
       "    .dataframe thead th {\n",
       "        text-align: right;\n",
       "    }\n",
       "</style>\n",
       "<table border=\"1\" class=\"dataframe\">\n",
       "  <thead>\n",
       "    <tr style=\"text-align: right;\">\n",
       "      <th></th>\n",
       "      <th>filename</th>\n",
       "      <th>type</th>\n",
       "      <th>language</th>\n",
       "      <th>raw_url</th>\n",
       "      <th>size</th>\n",
       "      <th>comments</th>\n",
       "      <th>comments_url</th>\n",
       "      <th>commits_url</th>\n",
       "      <th>created_at</th>\n",
       "      <th>description</th>\n",
       "      <th>...</th>\n",
       "      <th>git_pull_url</th>\n",
       "      <th>git_push_url</th>\n",
       "      <th>html_url</th>\n",
       "      <th>id</th>\n",
       "      <th>node_id</th>\n",
       "      <th>public</th>\n",
       "      <th>truncated</th>\n",
       "      <th>updated_at</th>\n",
       "      <th>url</th>\n",
       "      <th>user</th>\n",
       "    </tr>\n",
       "  </thead>\n",
       "  <tbody>\n",
       "    <tr>\n",
       "      <th>2554</th>\n",
       "      <td>Untitled279.ipynb</td>\n",
       "      <td>text/plain</td>\n",
       "      <td>Jupyter Notebook</td>\n",
       "      <td>https://gist.githubusercontent.com/tonyfast/a4...</td>\n",
       "      <td>1928</td>\n",
       "      <td>0</td>\n",
       "      <td>https://api.github.com/gists/748a91e1769d24979...</td>\n",
       "      <td>https://api.github.com/gists/748a91e1769d24979...</td>\n",
       "      <td>2015-12-29 13:51:19</td>\n",
       "      <td>Underlay an svg element as a &lt;div&gt; background</td>\n",
       "      <td>...</td>\n",
       "      <td>https://gist.github.com/748a91e1769d24979393.git</td>\n",
       "      <td>https://gist.github.com/748a91e1769d24979393.git</td>\n",
       "      <td>https://gist.github.com/748a91e1769d24979393</td>\n",
       "      <td>748a91e1769d24979393</td>\n",
       "      <td>MDQ6R2lzdDc0OGE5MWUxNzY5ZDI0OTc5Mzkz</td>\n",
       "      <td>True</td>\n",
       "      <td>False</td>\n",
       "      <td>2015-12-29 13:51:19</td>\n",
       "      <td>https://api.github.com/gists/748a91e1769d24979393</td>\n",
       "      <td>NaN</td>\n",
       "    </tr>\n",
       "    <tr>\n",
       "      <th>8969</th>\n",
       "      <td>Untitled144.ipynb</td>\n",
       "      <td>text/plain</td>\n",
       "      <td>Jupyter Notebook</td>\n",
       "      <td>https://gist.githubusercontent.com/tonyfast/0c...</td>\n",
       "      <td>3753</td>\n",
       "      <td>0</td>\n",
       "      <td>https://api.github.com/gists/b0125d860d5ffe74d...</td>\n",
       "      <td>https://api.github.com/gists/b0125d860d5ffe74d...</td>\n",
       "      <td>2016-02-03 17:58:58</td>\n",
       "      <td>A simple dropdown widget</td>\n",
       "      <td>...</td>\n",
       "      <td>https://gist.github.com/b0125d860d5ffe74dbdb.git</td>\n",
       "      <td>https://gist.github.com/b0125d860d5ffe74dbdb.git</td>\n",
       "      <td>https://gist.github.com/b0125d860d5ffe74dbdb</td>\n",
       "      <td>b0125d860d5ffe74dbdb</td>\n",
       "      <td>MDQ6R2lzdGIwMTI1ZDg2MGQ1ZmZlNzRkYmRi</td>\n",
       "      <td>True</td>\n",
       "      <td>False</td>\n",
       "      <td>2016-02-03 17:58:59</td>\n",
       "      <td>https://api.github.com/gists/b0125d860d5ffe74dbdb</td>\n",
       "      <td>NaN</td>\n",
       "    </tr>\n",
       "  </tbody>\n",
       "</table>\n",
       "<p>2 rows × 21 columns</p>\n",
       "</div>"
      ],
      "text/plain": [
       "               filename        type          language  \\\n",
       "2554  Untitled279.ipynb  text/plain  Jupyter Notebook   \n",
       "8969  Untitled144.ipynb  text/plain  Jupyter Notebook   \n",
       "\n",
       "                                                raw_url  size  comments  \\\n",
       "2554  https://gist.githubusercontent.com/tonyfast/a4...  1928         0   \n",
       "8969  https://gist.githubusercontent.com/tonyfast/0c...  3753         0   \n",
       "\n",
       "                                           comments_url  \\\n",
       "2554  https://api.github.com/gists/748a91e1769d24979...   \n",
       "8969  https://api.github.com/gists/b0125d860d5ffe74d...   \n",
       "\n",
       "                                            commits_url          created_at  \\\n",
       "2554  https://api.github.com/gists/748a91e1769d24979... 2015-12-29 13:51:19   \n",
       "8969  https://api.github.com/gists/b0125d860d5ffe74d... 2016-02-03 17:58:58   \n",
       "\n",
       "                                        description ...   \\\n",
       "2554  Underlay an svg element as a <div> background ...    \n",
       "8969                       A simple dropdown widget ...    \n",
       "\n",
       "                                          git_pull_url  \\\n",
       "2554  https://gist.github.com/748a91e1769d24979393.git   \n",
       "8969  https://gist.github.com/b0125d860d5ffe74dbdb.git   \n",
       "\n",
       "                                          git_push_url  \\\n",
       "2554  https://gist.github.com/748a91e1769d24979393.git   \n",
       "8969  https://gist.github.com/b0125d860d5ffe74dbdb.git   \n",
       "\n",
       "                                          html_url                    id  \\\n",
       "2554  https://gist.github.com/748a91e1769d24979393  748a91e1769d24979393   \n",
       "8969  https://gist.github.com/b0125d860d5ffe74dbdb  b0125d860d5ffe74dbdb   \n",
       "\n",
       "                                   node_id public  truncated  \\\n",
       "2554  MDQ6R2lzdDc0OGE5MWUxNzY5ZDI0OTc5Mzkz   True      False   \n",
       "8969  MDQ6R2lzdGIwMTI1ZDg2MGQ1ZmZlNzRkYmRi   True      False   \n",
       "\n",
       "              updated_at                                                url  \\\n",
       "2554 2015-12-29 13:51:19  https://api.github.com/gists/748a91e1769d24979393   \n",
       "8969 2016-02-03 17:58:59  https://api.github.com/gists/b0125d860d5ffe74dbdb   \n",
       "\n",
       "     user  \n",
       "2554  NaN  \n",
       "8969  NaN  \n",
       "\n",
       "[2 rows x 21 columns]"
      ]
     },
     "metadata": {},
     "output_type": "display_data"
    },
    {
     "data": {
      "image/png": "[encoded data removed]",
      "text/plain": [
       "<Figure size 432x288 with 1 Axes>"
      ]
     },
     "metadata": {},
     "output_type": "display_data"
    }
   ],
   "source": [
    "    if 0: \n",
    "        df = main(max= 1000)\n",
    "        %matplotlib inline\n",
    "        df.set_index('created_at').language.pipe(get_dummies).describe().sort_values('mean', axis=1, ascending=False).loc['mean'].plot.pie()\n",
    "        __import__(\"IPython\").display.display(df.sample(2))"
   ]
  },
  {
   "cell_type": "code",
   "execution_count": null,
   "metadata": {},
   "outputs": [],
   "source": []
  }
 ],
 "metadata": {
  "kernelspec": {
   "display_name": "Python 3",
   "language": "python",
   "name": "python3"
  },
  "language_info": {
   "codemirror_mode": {
    "name": "ipython",
    "version": 3
   },
   "file_extension": ".py",
   "mimetype": "text/x-python",
   "name": "python",
   "nbconvert_exporter": "python",
   "pygments_lexer": "ipython3",
   "version": "3.6.5"
  }
 },
 "nbformat": 4,
 "nbformat_minor": 2
}
