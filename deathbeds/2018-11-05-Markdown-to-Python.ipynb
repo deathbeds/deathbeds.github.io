{
 "cells": [
  {
   "cell_type": "code",
   "execution_count": 1,
   "metadata": {},
   "outputs": [],
   "source": [
    "import mistletoe"
   ]
  },
  {
   "cell_type": "code",
   "execution_count": 2,
   "metadata": {},
   "outputs": [],
   "source": [
    "def flatten(doc, nodes=None):\n",
    "    nodes = nodes or []\n",
    "    if hasattr(doc, 'children'): \n",
    "        for object in doc.children:\n",
    "            if isinstance(object, (mistletoe.block_token.List, mistletoe.block_token.ListItem)):\n",
    "                nodes.extend(flatten(object))\n",
    "            else: nodes.append(object)\n",
    "    else: nodes.append(doc)\n",
    "    return nodes"
   ]
  },
  {
   "cell_type": "code",
   "execution_count": 3,
   "metadata": {},
   "outputs": [],
   "source": [
    "def quote(str, punc=''):\n",
    "    str, leading_ws = ''.join(str), []\n",
    "    lines = str.splitlines(True)\n",
    "    _ = '\"\"\"'\n",
    "    if _ in str: _ = \"'''\"\n",
    "    if not str.strip(): _ = punc = ''\n",
    "    while lines and not lines[0]: leading_ws.append(lines.pop())\n",
    "    str = ''.join(lines)\n",
    "    end = len(str.rstrip())\n",
    "    str, ending_ws = str[:end], str[end:]\n",
    "    if str and str.endswith(_[0]): str += ' '                    \n",
    "    return F\"{''.join(leading_ws)}{_}{str}{_}{punc}{ending_ws}\""
   ]
  },
  {
   "cell_type": "code",
   "execution_count": 4,
   "metadata": {},
   "outputs": [],
   "source": [
    "import textwrap"
   ]
  },
  {
   "cell_type": "code",
   "execution_count": 5,
   "metadata": {},
   "outputs": [],
   "source": [
    "def markdown_to_python(s):\n",
    "    final, buffer, min_indent = [], [], 0\n",
    "    original = list(str.rstrip() for str in s.splitlines())\n",
    "    types = mistletoe.block_token._token_types\n",
    "    mistletoe.block_token._token_types = [mistletoe.block_token.List, mistletoe.block_token.BlockCode, mistletoe.block_token.Paragraph]\n",
    "    mistletoe.block_token._token_types = types\n",
    "    \n",
    "    nodes = flatten(mistletoe.Document('\\n'.join(original))) \n",
    "    length = len(nodes)\n",
    "    last_token = mistletoe.block_token.BlockCode([])\n",
    "    if not isinstance(nodes[-1], mistletoe.block_token.BlockCode): \n",
    "        nodes += [last_token]\n",
    "        assert nodes[-1] is last_token\n",
    "    while nodes:\n",
    "        node, block = nodes.pop(0), []\n",
    "        for child in node.children:\n",
    "            for line in map(str.strip, getattr(child, 'content', '').splitlines()):\n",
    "                if line:\n",
    "                    while original and (not block or (line not in block[-1])):  \n",
    "                        block.append(original.pop(0).rstrip())\n",
    "\n",
    "        if isinstance(node, mistletoe.block_token.BlockCode):\n",
    "            while buffer and not buffer[0]:  final.append(buffer.pop(0))\n",
    "\n",
    "            body = '\\n'.join(buffer)\n",
    "\n",
    "            last_line = get_first_line(reversed(final))\n",
    "            prior_indent = get_line_indent(last_line)\n",
    "            \n",
    "            definition, returns = last_line.rstrip().endswith(':'), last_line.lstrip().startswith('return')\n",
    "\n",
    "            this_indent = get_line_indent(get_first_line(block))\n",
    "            \n",
    "            if body.strip() and not min_indent: min_indent = this_indent\n",
    "                \n",
    "            indent = max(min_indent, (returns and min or max)(prior_indent, this_indent))\n",
    "            \n",
    "            if definition and prior_indent == indent: indent += 4\n",
    "\n",
    "            buffer = final.extend(\n",
    "                textwrap.indent(quote('\\n'.join(buffer)) + (\n",
    "                    ';' if length > 1 and not nodes else ''), ' '*indent).splitlines() + block) or []\n",
    "        else:  buffer.extend(block)\n",
    "    return textwrap.dedent('\\n'.join(final))"
   ]
  },
  {
   "cell_type": "code",
   "execution_count": 7,
   "metadata": {},
   "outputs": [],
   "source": [
    "def get_first_line(lines, line=''):\n",
    "    for line in lines or ['']: \n",
    "        if line.strip(): break\n",
    "    return line\n",
    "\n",
    "def get_line_indent(line):  return len(line) - len(line.lstrip())"
   ]
  },
  {
   "cell_type": "code",
   "execution_count": 58,
   "metadata": {},
   "outputs": [],
   "source": [
    "    import ast, textwrap"
   ]
  },
  {
   "cell_type": "code",
   "execution_count": 59,
   "metadata": {},
   "outputs": [],
   "source": [
    "    def is_markdown(str): return ast.literal_eval(markdown_to_python(str).strip()) == str.strip()"
   ]
  },
  {
   "cell_type": "code",
   "execution_count": 60,
   "metadata": {},
   "outputs": [],
   "source": [
    "    def is_source(str): \n",
    "        try: return markdown_to_python(str).strip() == textwrap.dedent(str).strip()\n",
    "        except: return False"
   ]
  },
  {
   "cell_type": "code",
   "execution_count": null,
   "metadata": {},
   "outputs": [],
   "source": []
  }
 ],
 "metadata": {
  "kernelspec": {
   "display_name": "Python 3",
   "language": "python",
   "name": "python3"
  },
  "language_info": {
   "codemirror_mode": {
    "name": "ipython",
    "version": 3
   },
   "file_extension": ".py",
   "mimetype": "text/x-python",
   "name": "python",
   "nbconvert_exporter": "python",
   "pygments_lexer": "ipython3",
   "version": "3.6.6"
  }
 },
 "nbformat": 4,
 "nbformat_minor": 2
}
