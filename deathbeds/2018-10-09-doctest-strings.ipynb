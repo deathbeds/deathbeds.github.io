{
 "cells": [
  {
   "cell_type": "markdown",
   "metadata": {},
   "source": [
    "`doctest` a string.  `doctest`ing will be useful AGAIN.  I swear!\n",
    "\n",
    "This notebook demonstrates the pattern necessary to `doctest` strings."
   ]
  },
  {
   "cell_type": "code",
   "execution_count": 17,
   "metadata": {},
   "outputs": [],
   "source": [
    "    string = \"\"\"This is my test.\n",
    "    \n",
    "    >>> print\n",
    "    print\n",
    "    \n",
    "    There is other stuff, but this is my test.\n",
    "    \n",
    "    >>> 10\n",
    "    \"\"\""
   ]
  },
  {
   "cell_type": "code",
   "execution_count": 2,
   "metadata": {},
   "outputs": [],
   "source": [
    "    import doctest"
   ]
  },
  {
   "cell_type": "markdown",
   "metadata": {},
   "source": [
    "Create the test"
   ]
  },
  {
   "cell_type": "code",
   "execution_count": 10,
   "metadata": {},
   "outputs": [],
   "source": [
    "    tests = doctest.DocTest(\n",
    "        examples=doctest.DocTestParser().get_examples(string),\n",
    "        globs=vars(__import__(__name__)), \n",
    "        name=__name__, \n",
    "        filename=__name__, \n",
    "        lineno=1, \n",
    "        docstring=string)"
   ]
  },
  {
   "cell_type": "markdown",
   "metadata": {},
   "source": [
    "Run the test."
   ]
  },
  {
   "cell_type": "code",
   "execution_count": 16,
   "metadata": {},
   "outputs": [
    {
     "name": "stdout",
     "output_type": "stream",
     "text": [
      "**********************************************************************\n",
      "File \"__main__\", line 4, in __main__\n",
      "Failed example:\n",
      "    print\n",
      "Expected:\n",
      "    print\n",
      "Got:\n",
      "    <built-in function print>\n",
      "**********************************************************************\n",
      "File \"__main__\", line 9, in __main__\n",
      "Failed example:\n",
      "    10\n",
      "Expected nothing\n",
      "Got:\n",
      "    10\n"
     ]
    }
   ],
   "source": [
    "    runner = doctest.DocTestRunner().run(tests)"
   ]
  },
  {
   "cell_type": "code",
   "execution_count": null,
   "metadata": {},
   "outputs": [],
   "source": []
  }
 ],
 "metadata": {
  "kernelspec": {
   "display_name": "Python 3",
   "language": "python",
   "name": "python3"
  },
  "language_info": {
   "codemirror_mode": {
    "name": "ipython",
    "version": 3
   },
   "file_extension": ".py",
   "mimetype": "text/x-python",
   "name": "python",
   "nbconvert_exporter": "python",
   "pygments_lexer": "ipython3",
   "version": "3.6.6"
  }
 },
 "nbformat": 4,
 "nbformat_minor": 2
}
