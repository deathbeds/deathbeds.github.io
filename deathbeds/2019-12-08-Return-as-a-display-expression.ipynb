{
 "cells": [
  {
   "cell_type": "markdown",
   "metadata": {},
   "source": [
    "Use `return` outside of a function or class as a display expression."
   ]
  },
  {
   "cell_type": "code",
   "execution_count": 1,
   "metadata": {},
   "outputs": [],
   "source": [
    "    import ast\n",
    "    class ReturnDisplay(ast.NodeTransformer):\n",
    "        def visit_FunctionDef(self, node): return node\n",
    "        visit_ClassDef = visit_FunctionDef\n",
    "        def visit_Return(self, node): return ast.Expr(\n",
    "            ast.Call(\n",
    "                func=ast.parse(\n",
    "                    '__import__(\"IPython\").display.display', mode='eval'\n",
    "                ).body, \n",
    "                args=node.value.elts if isinstance(node.value, ast.Tuple) else [node.value], \n",
    "                keywords=[]))"
   ]
  },
  {
   "cell_type": "code",
   "execution_count": 2,
   "metadata": {},
   "outputs": [],
   "source": [
    "    def load_ipython_extension(ip):\n",
    "        ip.ast_transformers.append(ReturnDisplay())\n",
    "    def unload_ipython_extension(ip):\n",
    "        ip.ast_transformers = [x for x in ip.ast_transformers if not isinstance(x, ReturnDisplay)]\n",
    "    if __name__ == \"__main__\":\n",
    "        get_ipython().ast_transformers = []\n",
    "        load_ipython_extension(get_ipython())"
   ]
  },
  {
   "cell_type": "code",
   "execution_count": null,
   "metadata": {},
   "outputs": [],
   "source": []
  }
 ],
 "metadata": {
  "kernelspec": {
   "display_name": "Python 3",
   "language": "python",
   "name": "python3"
  },
  "language_info": {
   "codemirror_mode": {
    "name": "ipython",
    "version": 3
   },
   "file_extension": ".py",
   "mimetype": "text/x-python",
   "name": "python",
   "nbconvert_exporter": "python",
   "pygments_lexer": "ipython3",
   "version": "3.6.6"
  }
 },
 "nbformat": 4,
 "nbformat_minor": 2
}
