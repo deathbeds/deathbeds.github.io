{
 "cells": [
  {
   "cell_type": "markdown",
   "metadata": {},
   "source": [
    "# A timeline of `deathbeds` works"
   ]
  },
  {
   "cell_type": "code",
   "execution_count": 15,
   "metadata": {},
   "outputs": [],
   "source": [
    "from jinja2 import Template"
   ]
  },
  {
   "cell_type": "code",
   "execution_count": 16,
   "metadata": {},
   "outputs": [],
   "source": [
    "from IPython.display import HTML, display"
   ]
  },
  {
   "cell_type": "code",
   "execution_count": 17,
   "metadata": {},
   "outputs": [],
   "source": [
    "sheet_id = \"1Ffjucc5gnS2PLr5TCmECyfsXttm8ya0bT7nYAYZJkcc\"\n",
    "width = \"100%\"\n",
    "height = 650\n",
    "name = \"timeline\"\n",
    "_id = \"timeline-embed\"\n",
    "font = \"Default\"\n",
    "initial_zoom = 2"
   ]
  },
  {
   "cell_type": "code",
   "execution_count": 18,
   "metadata": {},
   "outputs": [],
   "source": [
    "embed = Template(\"\"\"\n",
    "<iframe \n",
    "    src=\"https://cdn.knightlab.com/libs/timeline3/latest/embed/index.html?source={{ sheet_id }}&font={{ font }}&lang=en&initial_zoom={{ initial_zoom }}&height={{ height }}\" width=\"{{ width }}\" height=\"{{ height }}\" \n",
    "    webkitallowfullscreen \n",
    "    mozallowfullscreen \n",
    "    allowfullscreen \n",
    "    frameborder=\"0\"></iframe>\n",
    "\"\"\")"
   ]
  },
  {
   "cell_type": "code",
   "execution_count": 19,
   "metadata": {},
   "outputs": [
    {
     "data": {
      "text/html": [
       "\n",
       "<iframe \n",
       "    src=\"https://cdn.knightlab.com/libs/timeline3/latest/embed/index.html?source=1Ffjucc5gnS2PLr5TCmECyfsXttm8ya0bT7nYAYZJkcc&font=Default&lang=en&initial_zoom=2&height=650\" width=\"100%\" height=\"650\" \n",
       "    webkitallowfullscreen \n",
       "    mozallowfullscreen \n",
       "    allowfullscreen \n",
       "    frameborder=\"0\"></iframe>"
      ],
      "text/plain": [
       "<IPython.core.display.HTML object>"
      ]
     },
     "metadata": {},
     "output_type": "display_data"
    }
   ],
   "source": [
    "display(HTML(embed.render(dict(sheet_id=sheet_id, \n",
    "                       width=width, \n",
    "                       height=height, \n",
    "                       name=name, \n",
    "                       id=_id, \n",
    "                       font=font,\n",
    "                       initial_zoom=initial_zoom))))"
   ]
  },
  {
   "cell_type": "code",
   "execution_count": null,
   "metadata": {},
   "outputs": [],
   "source": []
  }
 ],
 "metadata": {
  "kernelspec": {
   "display_name": "p6",
   "language": "python",
   "name": "other-env"
  },
  "language_info": {
   "codemirror_mode": {
    "name": "ipython",
    "version": 3
   },
   "file_extension": ".py",
   "mimetype": "text/x-python",
   "name": "python",
   "nbconvert_exporter": "python",
   "pygments_lexer": "ipython3",
   "version": "3.6.3"
  }
 },
 "nbformat": 4,
 "nbformat_minor": 2
}
