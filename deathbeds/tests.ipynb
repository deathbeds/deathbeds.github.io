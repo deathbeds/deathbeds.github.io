{
 "cells": [
  {
   "cell_type": "markdown",
   "metadata": {},
   "source": [
    "# Deathbeds tests\n",
    "\n",
    "Update the local `tricks.yml` to run this.\n",
    "```bash\n",
    "ipython -m deathbeds.2018-07-02-Watch-Testing -- --commands \"'ipython -m tests'\"\n",
    "\n",
    "```"
   ]
  },
  {
   "cell_type": "code",
   "execution_count": 3,
   "metadata": {},
   "outputs": [],
   "source": [
    "import deathbeds\n",
    "from pathlib import Path\n",
    "from IPython.utils.capture import capture_output\n",
    "import os"
   ]
  },
  {
   "cell_type": "code",
   "execution_count": 4,
   "metadata": {},
   "outputs": [],
   "source": [
    "pattern = '''[0-9]*.ipynb'''\n",
    "root = Path(deathbeds.__file__).parent"
   ]
  },
  {
   "cell_type": "code",
   "execution_count": 5,
   "metadata": {},
   "outputs": [],
   "source": [
    "md_list = lambda str: __import__('IPython').display.Markdown(\n",
    "    ''.join(\n",
    "        f\"\"\"* [{str}]({str})\n",
    "\"\"\" for str in str.splitlines()\n",
    "    )\n",
    ")"
   ]
  },
  {
   "cell_type": "code",
   "execution_count": 6,
   "metadata": {},
   "outputs": [],
   "source": [
    "from deathbeds import __Markdown_code_cells"
   ]
  },
  {
   "cell_type": "code",
   "execution_count": 9,
   "metadata": {},
   "outputs": [],
   "source": [
    "skip = \"\"\"2018-07-20-Literate-Markdown-Kernel.ipynb\n",
    "2018-07-06-Revisiting-cadquery-and-ipywidgets-part-1.ipynb\n",
    "2018-07-17-Extracting-a-blog-roll-for-deathbeds.ipynb\n",
    "2018-07-13-Supercharged-imarkdown-as-code.md.ipynb\n",
    "\"\"\""
   ]
  },
  {
   "cell_type": "code",
   "execution_count": 10,
   "metadata": {},
   "outputs": [
    {
     "data": {
      "text/markdown": [
       "* [2018-07-20-Literate-Markdown-Kernel.ipynb](2018-07-20-Literate-Markdown-Kernel.ipynb)\n",
       "* [2018-07-06-Revisiting-cadquery-and-ipywidgets-part-1.ipynb](2018-07-06-Revisiting-cadquery-and-ipywidgets-part-1.ipynb)\n",
       "* [2018-07-17-Extracting-a-blog-roll-for-deathbeds.ipynb](2018-07-17-Extracting-a-blog-roll-for-deathbeds.ipynb)\n"
      ],
      "text/plain": [
       "<IPython.core.display.Markdown object>"
      ]
     },
     "execution_count": 10,
     "metadata": {},
     "output_type": "execute_result"
    }
   ],
   "source": [
    "md_list(skip)"
   ]
  },
  {
   "cell_type": "code",
   "execution_count": 15,
   "metadata": {},
   "outputs": [],
   "source": [
    "from deathbeds import __Markdown_code_cells"
   ]
  },
  {
   "cell_type": "code",
   "execution_count": 17,
   "metadata": {},
   "outputs": [],
   "source": [
    "with __Markdown_code_cells.MarkdownImporter(): __import__('deathbeds.2018-07-13-Supercharged-imarkdown-as-code')"
   ]
  },
  {
   "cell_type": "code",
   "execution_count": 18,
   "metadata": {},
   "outputs": [
    {
     "data": {
      "text/markdown": [
       "* [2018-06-19-Github-Statistics.ipynb](2018-06-19-Github-Statistics.ipynb)\n",
       "* [2018-06-19-String-Node-Transformer.ipynb](2018-06-19-String-Node-Transformer.ipynb)\n",
       "* [2018-06-20-Interactive-type-checking-with-datashape.ipynb](2018-06-20-Interactive-type-checking-with-datashape.ipynb)\n",
       "* [2018-06-22-Show-all-outputs-in-widget.ipynb](2018-06-22-Show-all-outputs-in-widget.ipynb)\n",
       "* [2018-06-23-Emojis-in-matplotlib.ipynb](2018-06-23-Emojis-in-matplotlib.ipynb)\n",
       "* [2018-07-06-Markdown-code-cells.ipynb](2018-07-06-Markdown-code-cells.ipynb)\n",
       "* [2018-07-12-A-Literate-Noteboo.ipynb](2018-07-12-A-Literate-Noteboo.ipynb)\n",
       "* [2018-07-15-click-arguments-from-a-notebook.ipynb](2018-07-15-click-arguments-from-a-notebook.ipynb)\n",
       "* [2018-07-15-Pytest-watchmedo.ipynb](2018-07-15-Pytest-watchmedo.ipynb)\n",
       "* [2018-07-16-Testing-restart-run-all.ipynb](2018-07-16-Testing-restart-run-all.ipynb)\n",
       "* [2018-07-21-whereami.ipynb](2018-07-21-whereami.ipynb)\n",
       "* [2018-07-26-Importing-notebooks-with-proper-source.ipynb](2018-07-26-Importing-notebooks-with-proper-source.ipynb)\n",
       "* [2018-07-29-Execute-and-discover-imports.ipynb](2018-07-29-Execute-and-discover-imports.ipynb)\n",
       "* [2018-07-30-Markdown-cells-as-docstrings.ipynb](2018-07-30-Markdown-cells-as-docstrings.ipynb)\n",
       "* [2018-07-31-Testing-notebooks.ipynb](2018-07-31-Testing-notebooks.ipynb)\n",
       "* [2018-08-02-better-pytest-reports-with-notebooks.ipynb](2018-08-02-better-pytest-reports-with-notebooks.ipynb)\n",
       "* [2018-08-02-qr-codes-are-magic.ipynb](2018-08-02-qr-codes-are-magic.ipynb)\n",
       "* [2018-08-03-A-case-for-indented-code.ipynb](2018-08-03-A-case-for-indented-code.ipynb)\n",
       "* [2018-08-03-Using-click-interactively.ipynb](2018-08-03-Using-click-interactively.ipynb)\n",
       "* [2018-08-04-Notebooks-as-Tidy-DX.ipynb](2018-08-04-Notebooks-as-Tidy-DX.ipynb)\n",
       "* [2018-08-13-Flexbox-Transformer.ipynb](2018-08-13-Flexbox-Transformer.ipynb)\n",
       "* [2018-08-14-Benchmarking-imports.ipynb](2018-08-14-Benchmarking-imports.ipynb)\n"
      ],
      "text/plain": [
       "<IPython.core.display.Markdown object>"
      ]
     },
     "execution_count": 18,
     "metadata": {},
     "output_type": "execute_result"
    }
   ],
   "source": [
    "notebooks = \"\"\"2018-06-19-Github-Statistics.ipynb\n",
    "2018-06-19-String-Node-Transformer.ipynb\n",
    "2018-06-20-Interactive-type-checking-with-datashape.ipynb\n",
    "2018-06-22-Show-all-outputs-in-widget.ipynb\n",
    "2018-06-23-Emojis-in-matplotlib.ipynb\n",
    "2018-07-06-Markdown-code-cells.ipynb\n",
    "2018-07-15-click-arguments-from-a-notebook.ipynb\n",
    "2018-07-15-Pytest-watchmedo.ipynb\n",
    "2018-07-16-Testing-restart-run-all.ipynb\n",
    "2018-07-21-whereami.ipynb\n",
    "2018-07-26-Importing-notebooks-with-proper-source.ipynb\n",
    "2018-07-29-Execute-and-discover-imports.ipynb\n",
    "2018-07-30-Markdown-cells-as-docstrings.ipynb\n",
    "2018-07-31-Testing-notebooks.ipynb\n",
    "2018-08-02-better-pytest-reports-with-notebooks.ipynb\n",
    "2018-08-02-qr-codes-are-magic.ipynb\n",
    "2018-08-03-A-case-for-indented-code.ipynb\n",
    "2018-08-03-Using-click-interactively.ipynb\n",
    "2018-08-04-Notebooks-as-Tidy-DX.ipynb\n",
    "2018-08-13-Flexbox-Transformer.ipynb\n",
    "2018-08-14-Benchmarking-imports.ipynb\n",
    "\"\"\"; md_list(notebooks)"
   ]
  },
  {
   "cell_type": "code",
   "execution_count": 12,
   "metadata": {},
   "outputs": [],
   "source": [
    "try: notebooks += __import__('cv2') and \\\n",
    "    \"\"\"2018-06-20-OpenCV-and-a-Widget.ipynb\\n\"\"\"\n",
    "except:..."
   ]
  },
  {
   "cell_type": "code",
   "execution_count": 13,
   "metadata": {},
   "outputs": [],
   "source": [
    "opts = __import__('sys').argv[1:] if globals().get('__file__', None) else '--last-failed'.split() \n",
    "opts += \"-c ../tox.ini --verbose\".split()"
   ]
  },
  {
   "cell_type": "code",
   "execution_count": 14,
   "metadata": {},
   "outputs": [
    {
     "name": "stdout",
     "output_type": "stream",
     "text": [
      "============================= test session starts =============================\n",
      "platform win32 -- Python 3.6.5, pytest-3.5.1, py-1.5.3, pluggy-0.6.0 -- C:\\Anaconda3\\python.exe\n",
      "cachedir: .pytest_cache\n",
      "rootdir: C:\\Users\\deathbeds\\deathbeds.github.io\\deathbeds, inifile: ../tox.ini\n",
      "plugins: testmon-0.9.12, remotedata-0.2.1, openfiles-0.3.0, localserver-0.4.1, doctestplus-0.1.3, arraydiff-0.2, hypothesis-3.66.16, importnb-0.5.0\n",
      "collecting ... collected 31 items / 1 errors\n",
      "run-last-failure: run all (no recorded failures)\n",
      "\n",
      "=================================== ERRORS ====================================\n",
      "_____ ERROR collecting 2018-07-13-Supercharged-imarkdown-as-code.md.ipynb _____\n",
      "ImportError while importing test module 'C:\\Users\\deathbeds\\deathbeds.github.io\\deathbeds\\2018-07-13-Supercharged-imarkdown-as-code.md.ipynb'.\n",
      "Hint: make sure your test modules/packages have valid Python names.\n",
      "Traceback:\n",
      "ModuleNotFoundError: No module named 'deathbeds.2018-07-13-Supercharged-imarkdown-as-code.md'; 'deathbeds.2018-07-13-Supercharged-imarkdown-as-code' is not a package\n",
      "============================== warnings summary ===============================\n",
      "2018-07-16-Testing-restart-run-all.ipynb::TestCollection\n",
      "  cannot collect test class 'TestCollection' because it has a __init__ constructor\n",
      "\n",
      "-- Docs: http://doc.pytest.org/en/latest/warnings.html\n",
      "!!!!!!!!!!!!!!!!!!! Interrupted: 1 errors during collection !!!!!!!!!!!!!!!!!!!\n",
      "==================== 1 warnings, 1 error in 16.71 seconds =====================\n"
     ]
    }
   ],
   "source": [
    "if __name__ == '__main__':\n",
    "    import pytest\n",
    "    cwd = os.getcwd()\n",
    "    try:\n",
    "        os.chdir(str(root))\n",
    "        with capture_output(False, False): pytest.main(\n",
    "            list(filter(bool, notebooks.splitlines())) + opts,\n",
    "            [__Markdown_code_cells]\n",
    "        )\n",
    "    finally: os.chdir(cwd)"
   ]
  },
  {
   "cell_type": "code",
   "execution_count": null,
   "metadata": {},
   "outputs": [],
   "source": []
  }
 ],
 "metadata": {
  "kernelspec": {
   "display_name": "Python 3",
   "language": "python",
   "name": "python3"
  },
  "language_info": {
   "codemirror_mode": {
    "name": "ipython",
    "version": 3
   },
   "file_extension": ".py",
   "mimetype": "text/x-python",
   "name": "python",
   "nbconvert_exporter": "python",
   "pygments_lexer": "ipython3",
   "version": "3.6.5"
  }
 },
 "nbformat": 4,
 "nbformat_minor": 2
}
