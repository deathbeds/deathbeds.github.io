{
 "cells": [
  {
   "cell_type": "markdown",
   "metadata": {},
   "source": [
    "# Deathbeds tests\n",
    "\n",
    "Update the local `tricks.yml` to run this.\n",
    "```bash\n",
    "ipython -m deathbeds.2018-07-02-Watch-Testing -- --commands \"'ipython -m tests'\"\n",
    "\n",
    "```"
   ]
  },
  {
   "cell_type": "code",
   "execution_count": 16,
   "metadata": {},
   "outputs": [],
   "source": [
    "import deathbeds\n",
    "from pathlib import Path\n",
    "from IPython.utils.capture import capture_output\n",
    "import os, sys"
   ]
  },
  {
   "cell_type": "code",
   "execution_count": 17,
   "metadata": {},
   "outputs": [],
   "source": [
    "pattern = '''[0-9]*.ipynb'''\n",
    "root = Path(deathbeds.__file__).parent"
   ]
  },
  {
   "cell_type": "code",
   "execution_count": 4,
   "metadata": {},
   "outputs": [],
   "source": [
    "md_list = lambda str: __import__('IPython').display.Markdown(\n",
    "    ''.join(\n",
    "        f\"\"\"* [{str}]({str})\n",
    "\"\"\" for str in str.splitlines()\n",
    "    )\n",
    ")"
   ]
  },
  {
   "cell_type": "code",
   "execution_count": 5,
   "metadata": {},
   "outputs": [],
   "source": [
    "from deathbeds import __Markdown_code_cells"
   ]
  },
  {
   "cell_type": "code",
   "execution_count": 6,
   "metadata": {},
   "outputs": [],
   "source": [
    "skip = \"\"\"2018-07-20-Literate-Markdown-Kernel.ipynb\n",
    "2018-07-06-Revisiting-cadquery-and-ipywidgets-part-1.ipynb\n",
    "2018-07-17-Extracting-a-blog-roll-for-deathbeds.ipynb\n",
    "2018-07-13-Supercharged-imarkdown-as-code.md.ipynb\n",
    "\"\"\""
   ]
  },
  {
   "cell_type": "code",
   "execution_count": 7,
   "metadata": {},
   "outputs": [
    {
     "data": {
      "text/markdown": [
       "* [2018-07-20-Literate-Markdown-Kernel.ipynb](2018-07-20-Literate-Markdown-Kernel.ipynb)\n",
       "* [2018-07-06-Revisiting-cadquery-and-ipywidgets-part-1.ipynb](2018-07-06-Revisiting-cadquery-and-ipywidgets-part-1.ipynb)\n",
       "* [2018-07-17-Extracting-a-blog-roll-for-deathbeds.ipynb](2018-07-17-Extracting-a-blog-roll-for-deathbeds.ipynb)\n",
       "* [2018-07-13-Supercharged-imarkdown-as-code.md.ipynb](2018-07-13-Supercharged-imarkdown-as-code.md.ipynb)\n"
      ],
      "text/plain": [
       "<IPython.core.display.Markdown object>"
      ]
     },
     "execution_count": 7,
     "metadata": {},
     "output_type": "execute_result"
    }
   ],
   "source": [
    "md_list(skip)"
   ]
  },
  {
   "cell_type": "code",
   "execution_count": 8,
   "metadata": {},
   "outputs": [],
   "source": [
    "from deathbeds import __Markdown_code_cells"
   ]
  },
  {
   "cell_type": "code",
   "execution_count": 9,
   "metadata": {},
   "outputs": [
    {
     "data": {
      "text/html": [
       "\n",
       "<style>\n",
       ".inspectable {display: inline;}\n",
       ".inspectable code {\n",
       "    display: inline-block;\n",
       "    text-decoration: underline;}\n",
       ".inspectable:hover code {text-decoration: overline;}\n",
       ".inspectable .inspect {\n",
       "    display: none;\n",
       "    border-style: solid;\n",
       "    border-width: 5px;}\n",
       ".inspectable:hover .inspect {display: block;}</style>"
      ],
      "text/plain": [
       "<IPython.core.display.HTML object>"
      ]
     },
     "metadata": {},
     "output_type": "display_data"
    }
   ],
   "source": [
    "with __Markdown_code_cells.MarkdownImporter(): __import__('deathbeds.2018-07-13-Supercharged-imarkdown-as-code')"
   ]
  },
  {
   "cell_type": "code",
   "execution_count": 10,
   "metadata": {},
   "outputs": [
    {
     "data": {
      "text/markdown": [
       "* [2018-06-19-Github-Statistics.ipynb](2018-06-19-Github-Statistics.ipynb)\n",
       "* [2018-06-19-String-Node-Transformer.ipynb](2018-06-19-String-Node-Transformer.ipynb)\n",
       "* [2018-06-20-Interactive-type-checking-with-datashape.ipynb](2018-06-20-Interactive-type-checking-with-datashape.ipynb)\n",
       "* [2018-06-22-Show-all-outputs-in-widget.ipynb](2018-06-22-Show-all-outputs-in-widget.ipynb)\n",
       "* [2018-06-23-Emojis-in-matplotlib.ipynb](2018-06-23-Emojis-in-matplotlib.ipynb)\n",
       "* [2018-07-06-Markdown-code-cells.ipynb](2018-07-06-Markdown-code-cells.ipynb)\n",
       "* [2018-07-15-click-arguments-from-a-notebook.ipynb](2018-07-15-click-arguments-from-a-notebook.ipynb)\n",
       "* [2018-07-15-Pytest-watchmedo.ipynb](2018-07-15-Pytest-watchmedo.ipynb)\n",
       "* [2018-07-16-Testing-restart-run-all.ipynb](2018-07-16-Testing-restart-run-all.ipynb)\n",
       "* [2018-07-21-whereami.ipynb](2018-07-21-whereami.ipynb)\n",
       "* [2018-07-26-Importing-notebooks-with-proper-source.ipynb](2018-07-26-Importing-notebooks-with-proper-source.ipynb)\n",
       "* [2018-07-29-Execute-and-discover-imports.ipynb](2018-07-29-Execute-and-discover-imports.ipynb)\n",
       "* [2018-07-30-Markdown-cells-as-docstrings.ipynb](2018-07-30-Markdown-cells-as-docstrings.ipynb)\n",
       "* [2018-07-31-Testing-notebooks.ipynb](2018-07-31-Testing-notebooks.ipynb)\n",
       "* [2018-08-02-better-pytest-reports-with-notebooks.ipynb](2018-08-02-better-pytest-reports-with-notebooks.ipynb)\n",
       "* [2018-08-02-qr-codes-are-magic.ipynb](2018-08-02-qr-codes-are-magic.ipynb)\n",
       "* [2018-08-03-A-case-for-indented-code.ipynb](2018-08-03-A-case-for-indented-code.ipynb)\n",
       "* [2018-08-03-Using-click-interactively.ipynb](2018-08-03-Using-click-interactively.ipynb)\n",
       "* [2018-08-04-Notebooks-as-Tidy-DX.ipynb](2018-08-04-Notebooks-as-Tidy-DX.ipynb)\n",
       "* [2018-08-13-Flexbox-Transformer.ipynb](2018-08-13-Flexbox-Transformer.ipynb)\n",
       "* [2018-08-14-Benchmarking-imports.ipynb](2018-08-14-Benchmarking-imports.ipynb)\n",
       "* [2018-08-16-HTML-Flexbox.ipynb](2018-08-16-HTML-Flexbox.ipynb)\n"
      ],
      "text/plain": [
       "<IPython.core.display.Markdown object>"
      ]
     },
     "execution_count": 10,
     "metadata": {},
     "output_type": "execute_result"
    }
   ],
   "source": [
    "notebooks = \"\"\"2018-06-19-Github-Statistics.ipynb\n",
    "2018-06-19-String-Node-Transformer.ipynb\n",
    "2018-06-20-Interactive-type-checking-with-datashape.ipynb\n",
    "2018-06-22-Show-all-outputs-in-widget.ipynb\n",
    "2018-06-23-Emojis-in-matplotlib.ipynb\n",
    "2018-07-06-Markdown-code-cells.ipynb\n",
    "2018-07-15-click-arguments-from-a-notebook.ipynb\n",
    "2018-07-15-Pytest-watchmedo.ipynb\n",
    "2018-07-16-Testing-restart-run-all.ipynb\n",
    "2018-07-21-whereami.ipynb\n",
    "2018-07-26-Importing-notebooks-with-proper-source.ipynb\n",
    "2018-07-29-Execute-and-discover-imports.ipynb\n",
    "2018-07-30-Markdown-cells-as-docstrings.ipynb\n",
    "2018-07-31-Testing-notebooks.ipynb\n",
    "2018-08-02-better-pytest-reports-with-notebooks.ipynb\n",
    "2018-08-02-qr-codes-are-magic.ipynb\n",
    "2018-08-03-A-case-for-indented-code.ipynb\n",
    "2018-08-03-Using-click-interactively.ipynb\n",
    "2018-08-04-Notebooks-as-Tidy-DX.ipynb\n",
    "2018-08-13-Flexbox-Transformer.ipynb\n",
    "2018-08-14-Benchmarking-imports.ipynb\n",
    "2018-08-16-HTML-Flexbox.ipynb\n",
    "\"\"\"; md_list(notebooks)"
   ]
  },
  {
   "cell_type": "code",
   "execution_count": 11,
   "metadata": {},
   "outputs": [],
   "source": [
    "try: notebooks += __import__('cv2') and \\\n",
    "    \"\"\"2018-06-20-OpenCV-and-a-Widget.ipynb\\n\"\"\"\n",
    "except:..."
   ]
  },
  {
   "cell_type": "code",
   "execution_count": 12,
   "metadata": {},
   "outputs": [],
   "source": [
    "opts = __import__('sys').argv[1:] if globals().get('__file__', None) else '--last-failed'.split() \n",
    "opts += \"-c ../tox.ini --verbose\".split()"
   ]
  },
  {
   "cell_type": "code",
   "execution_count": 15,
   "metadata": {},
   "outputs": [
    {
     "ename": "NameError",
     "evalue": "name 'sys' is not defined",
     "output_type": "error",
     "traceback": [
      "\u001b[1;31m---------------------------------------------------------------------------\u001b[0m",
      "\u001b[1;31mNameError\u001b[0m                                 Traceback (most recent call last)",
      "\u001b[1;32m<ipython-input-15-31bb2dd77635>\u001b[0m in \u001b[0;36m<module>\u001b[1;34m()\u001b[0m\n\u001b[0;32m      1\u001b[0m \u001b[1;32mif\u001b[0m \u001b[0m__name__\u001b[0m \u001b[1;33m==\u001b[0m \u001b[1;34m'__main__'\u001b[0m\u001b[1;33m:\u001b[0m\u001b[1;33m\u001b[0m\u001b[0m\n\u001b[1;32m----> 2\u001b[1;33m     \u001b[1;32mif\u001b[0m \u001b[0mPath\u001b[0m\u001b[1;33m(\u001b[0m\u001b[0msys\u001b[0m\u001b[1;33m.\u001b[0m\u001b[0margv\u001b[0m\u001b[1;33m[\u001b[0m\u001b[1;33m-\u001b[0m\u001b[1;36m1\u001b[0m\u001b[1;33m]\u001b[0m\u001b[1;33m)\u001b[0m\u001b[1;33m.\u001b[0m\u001b[0mstem\u001b[0m \u001b[1;32min\u001b[0m \u001b[0mnotebooks\u001b[0m\u001b[1;33m:\u001b[0m\u001b[1;33m\u001b[0m\u001b[0m\n\u001b[0m\u001b[0;32m      3\u001b[0m         \u001b[0mopts\u001b[0m \u001b[1;33m=\u001b[0m \u001b[0msys\u001b[0m\u001b[1;33m.\u001b[0m\u001b[0margv\u001b[0m\u001b[1;33m[\u001b[0m\u001b[1;36m1\u001b[0m\u001b[1;33m:\u001b[0m\u001b[1;33m]\u001b[0m \u001b[1;33m+\u001b[0m \u001b[0mlist\u001b[0m\u001b[1;33m(\u001b[0m\u001b[0mopts\u001b[0m\u001b[1;33m)\u001b[0m\u001b[1;33m\u001b[0m\u001b[0m\n\u001b[0;32m      4\u001b[0m     \u001b[1;32melse\u001b[0m\u001b[1;33m:\u001b[0m\u001b[1;33m\u001b[0m\u001b[0m\n\u001b[0;32m      5\u001b[0m         \u001b[0mopts\u001b[0m \u001b[1;33m=\u001b[0m \u001b[0mlist\u001b[0m\u001b[1;33m(\u001b[0m\u001b[0mfilter\u001b[0m\u001b[1;33m(\u001b[0m\u001b[0mbool\u001b[0m\u001b[1;33m,\u001b[0m \u001b[0mnotebooks\u001b[0m\u001b[1;33m.\u001b[0m\u001b[0msplitlines\u001b[0m\u001b[1;33m(\u001b[0m\u001b[1;33m)\u001b[0m\u001b[1;33m)\u001b[0m\u001b[1;33m)\u001b[0m \u001b[1;33m+\u001b[0m \u001b[0mopts\u001b[0m\u001b[1;33m\u001b[0m\u001b[0m\n",
      "\u001b[1;31mNameError\u001b[0m: name 'sys' is not defined"
     ]
    }
   ],
   "source": [
    "if __name__ == '__main__':\n",
    "    if Path(sys.argv[-1]).name in notebooks:\n",
    "        opts = sys.argv[1:] + list(opts)\n",
    "    else:\n",
    "        opts = list(filter(bool, notebooks.splitlines())) + opts\n",
    "    import pytest\n",
    "    cwd = os.getcwd()\n",
    "    try:\n",
    "        os.chdir(str(root))\n",
    "        with capture_output(False, False): raise SystemExit(pytest.main(\n",
    "            opts, [__Markdown_code_cells]))\n",
    "\n",
    "    finally: os.chdir(cwd)"
   ]
  },
  {
   "cell_type": "code",
   "execution_count": null,
   "metadata": {},
   "outputs": [],
   "source": []
  }
 ],
 "metadata": {
  "kernelspec": {
   "display_name": "Python 3",
   "language": "python",
   "name": "python3"
  },
  "language_info": {
   "codemirror_mode": {
    "name": "ipython",
    "version": 3
   },
   "file_extension": ".py",
   "mimetype": "text/x-python",
   "name": "python",
   "nbconvert_exporter": "python",
   "pygments_lexer": "ipython3",
   "version": "3.6.5"
  }
 },
 "nbformat": 4,
 "nbformat_minor": 2
}
