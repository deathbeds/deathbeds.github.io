{
 "cells": [
  {
   "cell_type": "markdown",
   "metadata": {},
   "source": [
    "# Deathbeds tests\n",
    "\n",
    "Update the local `tricks.yml` to run this.\n",
    "```bash\n",
    "ipython -m deathbeds.2018-07-02-Watch-Testing -- --commands \"'ipython -m tests'\"\n",
    "\n",
    "```"
   ]
  },
  {
   "cell_type": "code",
   "execution_count": 1,
   "metadata": {},
   "outputs": [],
   "source": [
    "import deathbeds\n",
    "from pathlib import Path\n",
    "from IPython.utils.capture import capture_output\n",
    "import os"
   ]
  },
  {
   "cell_type": "code",
   "execution_count": 2,
   "metadata": {},
   "outputs": [],
   "source": [
    "pattern = '''[0-9]*.ipynb'''\n",
    "root = Path(deathbeds.__file__).parent"
   ]
  },
  {
   "cell_type": "code",
   "execution_count": 3,
   "metadata": {},
   "outputs": [],
   "source": [
    "md_list = lambda str: __import__('IPython').display.Markdown(\n",
    "    ''.join(\n",
    "        f\"\"\"* [{str}]({str})\n",
    "\"\"\" for str in str.splitlines()\n",
    "    )\n",
    ")"
   ]
  },
  {
   "cell_type": "code",
   "execution_count": 4,
   "metadata": {},
   "outputs": [],
   "source": [
    "from deathbeds import __Markdown_code_cells"
   ]
  },
  {
   "cell_type": "code",
   "execution_count": 5,
   "metadata": {},
   "outputs": [],
   "source": [
    "skip = \"\"\"2018-07-20-Literate-Markdown-Kernel.ipynb\n",
    "2018-07-06-Revisiting-cadquery-and-ipywidgets-part-1.ipynb\n",
    "2018-07-17-Extracting-a-blog-roll-for-deathbeds.ipynb\n",
    "2018-07-13-Supercharged-imarkdown-as-code.md.ipynb\n",
    "\"\"\""
   ]
  },
  {
   "cell_type": "code",
   "execution_count": 6,
   "metadata": {},
   "outputs": [
    {
     "data": {
      "text/markdown": [
       "* [2018-07-20-Literate-Markdown-Kernel.ipynb](2018-07-20-Literate-Markdown-Kernel.ipynb)\n",
       "* [2018-07-06-Revisiting-cadquery-and-ipywidgets-part-1.ipynb](2018-07-06-Revisiting-cadquery-and-ipywidgets-part-1.ipynb)\n",
       "* [2018-07-17-Extracting-a-blog-roll-for-deathbeds.ipynb](2018-07-17-Extracting-a-blog-roll-for-deathbeds.ipynb)\n",
       "* [2018-07-13-Supercharged-imarkdown-as-code.md.ipynb](2018-07-13-Supercharged-imarkdown-as-code.md.ipynb)\n"
      ],
      "text/plain": [
       "<IPython.core.display.Markdown object>"
      ]
     },
     "execution_count": 6,
     "metadata": {},
     "output_type": "execute_result"
    }
   ],
   "source": [
    "md_list(skip)"
   ]
  },
  {
   "cell_type": "code",
   "execution_count": 7,
   "metadata": {},
   "outputs": [],
   "source": [
    "from deathbeds import __Markdown_code_cells"
   ]
  },
  {
   "cell_type": "code",
   "execution_count": 8,
   "metadata": {},
   "outputs": [
    {
     "data": {
      "text/html": [
       "\n",
       "<style>\n",
       ".inspectable {display: inline;}\n",
       ".inspectable code {\n",
       "    display: inline-block;\n",
       "    text-decoration: underline;}\n",
       ".inspectable:hover code {text-decoration: overline;}\n",
       ".inspectable .inspect {\n",
       "    display: none;\n",
       "    border-style: solid;\n",
       "    border-width: 5px;}\n",
       ".inspectable:hover .inspect {display: block;}</style>"
      ],
      "text/plain": [
       "<IPython.core.display.HTML object>"
      ]
     },
     "metadata": {},
     "output_type": "display_data"
    }
   ],
   "source": [
    "with __Markdown_code_cells.MarkdownImporter(): __import__('deathbeds.2018-07-13-Supercharged-imarkdown-as-code')"
   ]
  },
  {
   "cell_type": "code",
   "execution_count": 9,
   "metadata": {},
   "outputs": [
    {
     "data": {
      "text/markdown": [
       "* [2018-06-19-Github-Statistics.ipynb](2018-06-19-Github-Statistics.ipynb)\n",
       "* [2018-06-19-String-Node-Transformer.ipynb](2018-06-19-String-Node-Transformer.ipynb)\n",
       "* [2018-06-20-Interactive-type-checking-with-datashape.ipynb](2018-06-20-Interactive-type-checking-with-datashape.ipynb)\n",
       "* [2018-06-22-Show-all-outputs-in-widget.ipynb](2018-06-22-Show-all-outputs-in-widget.ipynb)\n",
       "* [2018-06-23-Emojis-in-matplotlib.ipynb](2018-06-23-Emojis-in-matplotlib.ipynb)\n",
       "* [2018-07-06-Markdown-code-cells.ipynb](2018-07-06-Markdown-code-cells.ipynb)\n",
       "* [2018-07-15-click-arguments-from-a-notebook.ipynb](2018-07-15-click-arguments-from-a-notebook.ipynb)\n",
       "* [2018-07-15-Pytest-watchmedo.ipynb](2018-07-15-Pytest-watchmedo.ipynb)\n",
       "* [2018-07-16-Testing-restart-run-all.ipynb](2018-07-16-Testing-restart-run-all.ipynb)\n",
       "* [2018-07-21-whereami.ipynb](2018-07-21-whereami.ipynb)\n",
       "* [2018-07-26-Importing-notebooks-with-proper-source.ipynb](2018-07-26-Importing-notebooks-with-proper-source.ipynb)\n",
       "* [2018-07-29-Execute-and-discover-imports.ipynb](2018-07-29-Execute-and-discover-imports.ipynb)\n",
       "* [2018-07-30-Markdown-cells-as-docstrings.ipynb](2018-07-30-Markdown-cells-as-docstrings.ipynb)\n",
       "* [2018-07-31-Testing-notebooks.ipynb](2018-07-31-Testing-notebooks.ipynb)\n",
       "* [2018-08-02-better-pytest-reports-with-notebooks.ipynb](2018-08-02-better-pytest-reports-with-notebooks.ipynb)\n",
       "* [2018-08-02-qr-codes-are-magic.ipynb](2018-08-02-qr-codes-are-magic.ipynb)\n",
       "* [2018-08-03-A-case-for-indented-code.ipynb](2018-08-03-A-case-for-indented-code.ipynb)\n",
       "* [2018-08-03-Using-click-interactively.ipynb](2018-08-03-Using-click-interactively.ipynb)\n",
       "* [2018-08-04-Notebooks-as-Tidy-DX.ipynb](2018-08-04-Notebooks-as-Tidy-DX.ipynb)\n",
       "* [2018-08-13-Flexbox-Transformer.ipynb](2018-08-13-Flexbox-Transformer.ipynb)\n",
       "* [2018-08-14-Benchmarking-imports.ipynb](2018-08-14-Benchmarking-imports.ipynb)\n"
      ],
      "text/plain": [
       "<IPython.core.display.Markdown object>"
      ]
     },
     "execution_count": 9,
     "metadata": {},
     "output_type": "execute_result"
    }
   ],
   "source": [
    "notebooks = \"\"\"2018-06-19-Github-Statistics.ipynb\n",
    "2018-06-19-String-Node-Transformer.ipynb\n",
    "2018-06-20-Interactive-type-checking-with-datashape.ipynb\n",
    "2018-06-22-Show-all-outputs-in-widget.ipynb\n",
    "2018-06-23-Emojis-in-matplotlib.ipynb\n",
    "2018-07-06-Markdown-code-cells.ipynb\n",
    "2018-07-15-click-arguments-from-a-notebook.ipynb\n",
    "2018-07-15-Pytest-watchmedo.ipynb\n",
    "2018-07-16-Testing-restart-run-all.ipynb\n",
    "2018-07-21-whereami.ipynb\n",
    "2018-07-26-Importing-notebooks-with-proper-source.ipynb\n",
    "2018-07-29-Execute-and-discover-imports.ipynb\n",
    "2018-07-30-Markdown-cells-as-docstrings.ipynb\n",
    "2018-07-31-Testing-notebooks.ipynb\n",
    "2018-08-02-better-pytest-reports-with-notebooks.ipynb\n",
    "2018-08-02-qr-codes-are-magic.ipynb\n",
    "2018-08-03-A-case-for-indented-code.ipynb\n",
    "2018-08-03-Using-click-interactively.ipynb\n",
    "2018-08-04-Notebooks-as-Tidy-DX.ipynb\n",
    "2018-08-13-Flexbox-Transformer.ipynb\n",
    "2018-08-14-Benchmarking-imports.ipynb\n",
    "\"\"\"; md_list(notebooks)"
   ]
  },
  {
   "cell_type": "code",
   "execution_count": 10,
   "metadata": {},
   "outputs": [],
   "source": [
    "try: notebooks += __import__('cv2') and \\\n",
    "    \"\"\"2018-06-20-OpenCV-and-a-Widget.ipynb\\n\"\"\"\n",
    "except:..."
   ]
  },
  {
   "cell_type": "code",
   "execution_count": 12,
   "metadata": {},
   "outputs": [],
   "source": [
    "opts = __import__('sys').argv[1:] if globals().get('__file__', None) else '--last-failed'.split() \n",
    "opts += \"-c ../tox.ini --verbose\".split()"
   ]
  },
  {
   "cell_type": "code",
   "execution_count": 15,
   "metadata": {},
   "outputs": [
    {
     "name": "stdout",
     "output_type": "stream",
     "text": [
      "============================= test session starts =============================\n",
      "platform win32 -- Python 3.6.5, pytest-3.5.1, py-1.5.3, pluggy-0.6.0 -- C:\\Anaconda3\\python.exe\n",
      "cachedir: .pytest_cache\n",
      "rootdir: C:\\Users\\deathbeds\\deathbeds.github.io\\deathbeds, inifile: ../tox.ini\n",
      "plugins: xdist-1.22.5, testmon-0.9.12, remotedata-0.2.1, parallel-0.0.2, openfiles-0.3.0, localserver-0.4.1, forked-0.2, doctestplus-0.1.3, arraydiff-0.2, hypothesis-3.66.16, importnb-0.5.0\n",
      "gw0 I / gw1 I / gw2 I / gw3 I\n",
      "INTERNALERROR> Traceback (most recent call last):\n",
      "INTERNALERROR>   File \"C:\\Anaconda3\\lib\\site-packages\\_pytest\\main.py\", line 105, in wrap_session\n",
      "INTERNALERROR>     config.hook.pytest_sessionstart(session=session)\n",
      "INTERNALERROR>   File \"C:\\Anaconda3\\lib\\site-packages\\pluggy\\__init__.py\", line 617, in __call__\n",
      "INTERNALERROR>     return self._hookexec(self, self._nonwrappers + self._wrappers, kwargs)\n",
      "INTERNALERROR>   File \"C:\\Anaconda3\\lib\\site-packages\\pluggy\\__init__.py\", line 222, in _hookexec\n",
      "INTERNALERROR>     return self._inner_hookexec(hook, methods, kwargs)\n",
      "INTERNALERROR>   File \"C:\\Anaconda3\\lib\\site-packages\\pluggy\\__init__.py\", line 216, in <lambda>\n",
      "INTERNALERROR>     firstresult=hook.spec_opts.get('firstresult'),\n",
      "INTERNALERROR>   File \"C:\\Anaconda3\\lib\\site-packages\\pluggy\\callers.py\", line 201, in _multicall\n",
      "INTERNALERROR>     return outcome.get_result()\n",
      "INTERNALERROR>   File \"C:\\Anaconda3\\lib\\site-packages\\pluggy\\callers.py\", line 76, in get_result\n",
      "INTERNALERROR>     raise ex[1].with_traceback(ex[2])\n",
      "INTERNALERROR>   File \"C:\\Anaconda3\\lib\\site-packages\\pluggy\\callers.py\", line 180, in _multicall\n",
      "INTERNALERROR>     res = hook_impl.function(*args)\n",
      "INTERNALERROR>   File \"C:\\Anaconda3\\lib\\site-packages\\xdist\\dsession.py\", line 81, in pytest_sessionstart\n",
      "INTERNALERROR>     nodes = self.nodemanager.setup_nodes(putevent=self.queue.put)\n",
      "INTERNALERROR>   File \"C:\\Anaconda3\\lib\\site-packages\\xdist\\workermanage.py\", line 67, in setup_nodes\n",
      "INTERNALERROR>     nodes.append(self.setup_node(spec, putevent))\n",
      "INTERNALERROR>   File \"C:\\Anaconda3\\lib\\site-packages\\xdist\\workermanage.py\", line 72, in setup_node\n",
      "INTERNALERROR>     self.config.hook.pytest_xdist_newgateway(gateway=gw)\n",
      "INTERNALERROR>   File \"C:\\Anaconda3\\lib\\site-packages\\pluggy\\__init__.py\", line 617, in __call__\n",
      "INTERNALERROR>     return self._hookexec(self, self._nonwrappers + self._wrappers, kwargs)\n",
      "INTERNALERROR>   File \"C:\\Anaconda3\\lib\\site-packages\\pluggy\\__init__.py\", line 222, in _hookexec\n",
      "INTERNALERROR>     return self._inner_hookexec(hook, methods, kwargs)\n",
      "INTERNALERROR>   File \"C:\\Anaconda3\\lib\\site-packages\\pluggy\\__init__.py\", line 216, in <lambda>\n",
      "INTERNALERROR>     firstresult=hook.spec_opts.get('firstresult'),\n",
      "INTERNALERROR>   File \"C:\\Anaconda3\\lib\\site-packages\\pluggy\\callers.py\", line 201, in _multicall\n",
      "INTERNALERROR>     return outcome.get_result()\n",
      "INTERNALERROR>   File \"C:\\Anaconda3\\lib\\site-packages\\pluggy\\callers.py\", line 76, in get_result\n",
      "INTERNALERROR>     raise ex[1].with_traceback(ex[2])\n",
      "INTERNALERROR>   File \"C:\\Anaconda3\\lib\\site-packages\\pluggy\\callers.py\", line 180, in _multicall\n",
      "INTERNALERROR>     res = hook_impl.function(*args)\n",
      "INTERNALERROR>   File \"C:\\Anaconda3\\lib\\site-packages\\xdist\\dsession.py\", line 359, in pytest_xdist_newgateway\n",
      "INTERNALERROR>     rinfo = gateway._rinfo()\n",
      "INTERNALERROR>   File \"C:\\Anaconda3\\lib\\site-packages\\execnet\\gateway.py\", line 79, in _rinfo\n",
      "INTERNALERROR>     ch = self.remote_exec(rinfo_source)\n",
      "INTERNALERROR>   File \"C:\\Anaconda3\\lib\\site-packages\\execnet\\gateway.py\", line 119, in remote_exec\n",
      "INTERNALERROR>     source = _source_of_function(source)\n",
      "INTERNALERROR>   File \"C:\\Anaconda3\\lib\\site-packages\\execnet\\gateway.py\", line 216, in _source_of_function\n",
      "INTERNALERROR>     used_globals,\n",
      "INTERNALERROR> ValueError: (\"the use of non-builtin globals isn't supported\", ['dict'])\n"
     ]
    },
    {
     "ename": "SystemExit",
     "evalue": "3",
     "output_type": "error",
     "traceback": [
      "An exception has occurred, use %tb to see the full traceback.\n",
      "\u001b[1;31mSystemExit\u001b[0m\u001b[1;31m:\u001b[0m 3\n"
     ]
    },
    {
     "name": "stderr",
     "output_type": "stream",
     "text": [
      "C:\\Anaconda3\\lib\\site-packages\\IPython\\core\\interactiveshell.py:2971: UserWarning: To exit: use 'exit', 'quit', or Ctrl-D.\n",
      "  warn(\"To exit: use 'exit', 'quit', or Ctrl-D.\", stacklevel=1)\n"
     ]
    }
   ],
   "source": [
    "if __name__ == '__main__':\n",
    "    import pytest\n",
    "    cwd = os.getcwd()\n",
    "    try:\n",
    "        os.chdir(str(root))\n",
    "        with capture_output(False, False): raise SystemExit(pytest.main(\n",
    "            list(filter(bool, notebooks.splitlines())) + opts,\n",
    "            [__Markdown_code_cells]))\n",
    "\n",
    "    finally: os.chdir(cwd)"
   ]
  },
  {
   "cell_type": "code",
   "execution_count": null,
   "metadata": {},
   "outputs": [],
   "source": []
  }
 ],
 "metadata": {
  "kernelspec": {
   "display_name": "Python 3",
   "language": "python",
   "name": "python3"
  },
  "language_info": {
   "codemirror_mode": {
    "name": "ipython",
    "version": 3
   },
   "file_extension": ".py",
   "mimetype": "text/x-python",
   "name": "python",
   "nbconvert_exporter": "python",
   "pygments_lexer": "ipython3",
   "version": "3.6.5"
  }
 },
 "nbformat": 4,
 "nbformat_minor": 2
}
