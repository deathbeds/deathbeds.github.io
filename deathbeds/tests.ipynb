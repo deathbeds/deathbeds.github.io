{
 "cells": [
  {
   "cell_type": "markdown",
   "metadata": {},
   "source": [
    "# Deathbeds tests\n",
    "\n",
    "Update the local `tricks.yml` to run this.\n",
    "```bash\n",
    "ipython -m deathbeds.2018-07-02-Watch-Testing -- --commands \"'ipython -m tests'\"\n",
    "\n",
    "```"
   ]
  },
  {
   "cell_type": "code",
   "execution_count": 22,
   "metadata": {},
   "outputs": [],
   "source": [
    "import deathbeds\n",
    "from pathlib import Path\n",
    "from IPython.utils.capture import capture_output\n",
    "from IPython import get_ipython\n",
    "import os, sys"
   ]
  },
  {
   "cell_type": "code",
   "execution_count": 39,
   "metadata": {},
   "outputs": [
    {
     "data": {
      "text/plain": [
       "'C:\\\\Users\\\\deathbeds\\\\deathbeds.github.io\\\\deathbeds'"
      ]
     },
     "execution_count": 39,
     "metadata": {},
     "output_type": "execute_result"
    }
   ],
   "source": [
    "pattern = '''[0-9]*.ipynb'''\n",
    "root = Path(deathbeds.__file__).parent\n",
    "cwd = os.getcwd()"
   ]
  },
  {
   "cell_type": "code",
   "execution_count": 24,
   "metadata": {},
   "outputs": [],
   "source": [
    "md_list = lambda str: __import__('IPython').display.Markdown(\n",
    "    ''.join(\n",
    "        f\"\"\"* [{str}]({str})\n",
    "\"\"\" for str in str.splitlines()\n",
    "    )\n",
    ")"
   ]
  },
  {
   "cell_type": "code",
   "execution_count": 25,
   "metadata": {},
   "outputs": [],
   "source": [
    "from deathbeds import __Markdown_code_cells"
   ]
  },
  {
   "cell_type": "code",
   "execution_count": 26,
   "metadata": {},
   "outputs": [],
   "source": [
    "skip = \"\"\"2018-07-20-Literate-Markdown-Kernel.ipynb\n",
    "2018-07-06-Revisiting-cadquery-and-ipywidgets-part-1.ipynb\n",
    "2018-07-17-Extracting-a-blog-roll-for-deathbeds.ipynb\n",
    "2018-07-13-Supercharged-imarkdown-as-code.md.ipynb\n",
    "\"\"\""
   ]
  },
  {
   "cell_type": "code",
   "execution_count": 27,
   "metadata": {},
   "outputs": [
    {
     "data": {
      "text/markdown": [
       "* [2018-07-20-Literate-Markdown-Kernel.ipynb](2018-07-20-Literate-Markdown-Kernel.ipynb)\n",
       "* [2018-07-06-Revisiting-cadquery-and-ipywidgets-part-1.ipynb](2018-07-06-Revisiting-cadquery-and-ipywidgets-part-1.ipynb)\n",
       "* [2018-07-17-Extracting-a-blog-roll-for-deathbeds.ipynb](2018-07-17-Extracting-a-blog-roll-for-deathbeds.ipynb)\n",
       "* [2018-07-13-Supercharged-imarkdown-as-code.md.ipynb](2018-07-13-Supercharged-imarkdown-as-code.md.ipynb)\n"
      ],
      "text/plain": [
       "<IPython.core.display.Markdown object>"
      ]
     },
     "execution_count": 27,
     "metadata": {},
     "output_type": "execute_result"
    }
   ],
   "source": [
    "md_list(skip)"
   ]
  },
  {
   "cell_type": "code",
   "execution_count": 28,
   "metadata": {},
   "outputs": [],
   "source": [
    "from deathbeds import __Markdown_code_cells"
   ]
  },
  {
   "cell_type": "code",
   "execution_count": 29,
   "metadata": {},
   "outputs": [],
   "source": [
    "with __Markdown_code_cells.MarkdownImporter(): __import__('deathbeds.2018-07-13-Supercharged-imarkdown-as-code')"
   ]
  },
  {
   "cell_type": "code",
   "execution_count": 55,
   "metadata": {},
   "outputs": [],
   "source": [
    "from contextlib import redirect_stdout"
   ]
  },
  {
   "cell_type": "code",
   "execution_count": 60,
   "metadata": {},
   "outputs": [
    {
     "name": "stdout",
     "output_type": "stream",
     "text": [
      "Collecting delegator.py\n",
      "  Downloading https://files.pythonhosted.org/packages/f8/65/5e934900286a82fe9d7b6dd2f2888d2fab0f18eb96c75515c41a4286204e/delegator.py-0.1.0-py3-none-any.whl\n",
      "Collecting pexpect>=4.1.0 (from delegator.py)\n",
      "  Downloading https://files.pythonhosted.org/packages/89/e6/b5a1de8b0cc4e07ca1b305a4fcc3f9806025c1b651ea302646341222f88b/pexpect-4.6.0-py2.py3-none-any.whl (57kB)\n",
      "Collecting ptyprocess>=0.5 (from pexpect>=4.1.0->delegator.py)\n",
      "  Downloading https://files.pythonhosted.org/packages/d1/29/605c2cc68a9992d18dada28206eeada56ea4bd07a239669da41674648b6f/ptyprocess-0.6.0-py2.py3-none-any.whl\n",
      "Installing collected packages: ptyprocess, pexpect, delegator.py\n",
      "Successfully installed delegator.py-0.1.0 pexpect-4.6.0 ptyprocess-0.6.0\n"
     ]
    },
    {
     "name": "stderr",
     "output_type": "stream",
     "text": [
      "You are using pip version 10.0.1, however version 18.0 is available.\n",
      "You should consider upgrading via the 'python -m pip install --upgrade pip' command.\n"
     ]
    }
   ],
   "source": [
    "!pip install delegator.py"
   ]
  },
  {
   "cell_type": "code",
   "execution_count": 61,
   "metadata": {},
   "outputs": [],
   "source": [
    "from delegator import run"
   ]
  },
  {
   "cell_type": "code",
   "execution_count": 72,
   "metadata": {},
   "outputs": [
    {
     "name": "stdout",
     "output_type": "stream",
     "text": [
      "2018-06-19-Github-Statistics.ipynb\n",
      "2018-06-19-String-Node-Transformer.ipynb\n",
      "2018-06-20-Interactive-type-checking-with-datashape.ipynb\n",
      "2018-06-20-OpenCV-and-a-Widget.ipynb\n",
      "2018-06-22-Show-all-outputs-in-widget.ipynb\n",
      "2018-06-23-Emojis-in-matplotlib.ipynb\n",
      "2018-06-23-Image-segmentation-on-flourishes.ipynb\n",
      "2018-06-24-Interactive-type-checking.ipynb\n",
      "2018-07-02-Pandas-Pixels--DataFrames-as-Images.ipynb\n",
      "2018-07-02-Type-code-cells-by-defaul.ipynb\n",
      "2018-07-02-Watch-Testing.ipynb\n",
      "2018-07-03-Custom-IPython-Completer-for-Indented-Code.ipynb\n",
      "2018-07-03-Deathbeds-dependencies.ipynb\n",
      "2018-07-03-Luigi-command-line.ipynb\n",
      "2018-07-03-Running-a-notebook-flask-app-with-delegator-py.ipynb\n",
      "2018-07-04-Are-Google-Forms-a-Good-Idea-for-Notebooks.ipynb\n",
      "2018-07-04-Deathbeds-startup.ipynb\n",
      "2018-07-04-blacken-the-interactive-black-formatter.ipynb\n",
      "2018-07-05-Exploring-a-users-gists.ipynb\n",
      "2018-07-05-Tracing-edges-of-image-text.ipynb\n",
      "2018-07-06-Markdown-code-cells.ipynb\n",
      "2018-07-07-A-Jinja2-Templating-Transformer.md.ipynb\n",
      "2018-07-08-The-simplest-path-hook-importer-for-a-notebook.ipynb\n",
      "2018-07-09-IPython-reprs.ipynb\n",
      "2018-07-09-Shaply-sympy-gasket.ipynb\n",
      "2018-07-09-name-is-main.ipynb\n",
      "2018-07-10-Fuzzy-importing-files-with-weird-characters.ipynb\n",
      "2018-07-10-Using-math-as-a-grid.ipynb\n",
      "2018-07-15-Pytest-watchmedo.ipynb\n",
      "2018-07-15-click-arguments-from-a-notebook.ipynb\n",
      "2018-07-16-Testing-restart-run-all.ipynb\n",
      "2018-07-21-whereami.ipynb\n",
      "2018-07-26-Importing-notebooks-with-proper-source.ipynb\n",
      "2018-07-26-Parameterize-modules.ipynb\n",
      "2018-07-29-Execute-and-discover-imports.ipynb\n",
      "2018-07-30-Markdown-cells-as-docstrings.ipynb\n",
      "2018-07-31-Testing-notebooks.ipynb\n",
      "2018-08-02-better-pytest-reports-with-notebooks.ipynb\n",
      "2018-08-02-qr-codes-are-magic.ipynb\n",
      "2018-08-03-A-case-for-indented-code.ipynb\n",
      "2018-08-03-Using-click-interactively.ipynb\n",
      "2018-08-04-Emojis-in-code-cells.ipynb\n",
      "2018-08-04-Notebooks-as-Tidy-DX.ipynb\n",
      "2018-08-13-Flexbox-Transformer.ipynb\n",
      "2018-08-14-Benchmarking-imports.ipynb\n",
      "2018-08-16-HTML-Flexbox.ipynb\n",
      "2018-08-17-Lines-of-code.ipynb 99\n"
     ]
    }
   ],
   "source": [
    "os.chdir(root)\n",
    "notebooks = '\\n'.join(object  for object in run('git ls-files [0-9]*.ipynb').out.splitlines() if object not in skip)\n",
    "os.chdir(cwd)\n",
    "print(notebooks, 99)"
   ]
  },
  {
   "cell_type": "code",
   "execution_count": 73,
   "metadata": {},
   "outputs": [],
   "source": [
    "try: notebooks += __import__('cv2') and \\\n",
    "    \"\"\"2018-06-20-OpenCV-and-a-Widget.ipynb\\n\"\"\"\n",
    "except:..."
   ]
  },
  {
   "cell_type": "code",
   "execution_count": 38,
   "metadata": {},
   "outputs": [
    {
     "data": {
      "text/plain": [
       "['--last-failed', '-c', '../tox.ini', '--verbose']"
      ]
     },
     "execution_count": 38,
     "metadata": {},
     "output_type": "execute_result"
    }
   ],
   "source": [
    "opts = __import__('sys').argv[1:] if globals().get('__file__', None) else '--last-failed'.split() \n",
    "opts += \"-c ../tox.ini --verbose\".split()"
   ]
  },
  {
   "cell_type": "code",
   "execution_count": 51,
   "metadata": {},
   "outputs": [
    {
     "name": "stdout",
     "output_type": "stream",
     "text": [
      "False\n",
      "['2018-06-19-Github-Statistics.ipynb', '2018-06-19-String-Node-Transformer.ipynb', '2018-06-20-Interactive-type-checking-with-datashape.ipynb', '2018-06-20-OpenCV-and-a-Widget.ipynb', '2018-06-22-Show-all-outputs-in-widget.ipynb', '2018-06-23-Emojis-in-matplotlib.ipynb', '2018-06-23-Image-segmentation-on-flourishes.ipynb', '2018-06-24-Interactive-type-checking.ipynb', '2018-07-02-Pandas-Pixels--DataFrames-as-Images.ipynb', '2018-07-02-Type-code-cells-by-defaul.ipynb', '2018-07-02-Watch-Testing.ipynb', '2018-07-03-Custom-IPython-Completer-for-Indented-Code.ipynb', '2018-07-03-Deathbeds-dependencies.ipynb', '2018-07-03-Luigi-command-line.ipynb', '2018-07-03-Running-a-notebook-flask-app-with-delegator-py.ipynb', '2018-07-04-Are-Google-Forms-a-Good-Idea-for-Notebooks.ipynb', '2018-07-04-Deathbeds-startup.ipynb', '2018-07-04-blacken-the-interactive-black-formatter.ipynb', '2018-07-05-Exploring-a-users-gists.ipynb', '2018-07-05-Tracing-edges-of-image-text.ipynb', '2018-07-06-Markdown-code-cells.ipynb', '2018-07-07-A-Jinja2-Templating-Transformer.md.ipynb', '2018-07-08-The-simplest-path-hook-importer-for-a-notebook.ipynb', '2018-07-09-IPython-reprs.ipynb', '2018-07-09-Shaply-sympy-gasket.ipynb', '2018-07-09-name-is-main.ipynb', '2018-07-10-Fuzzy-importing-files-with-weird-characters.ipynb', '2018-07-10-Using-math-as-a-grid.ipynb', '2018-07-15-Pytest-watchmedo.ipynb', '2018-07-15-click-arguments-from-a-notebook.ipynb', '2018-07-16-Testing-restart-run-all.ipynb', '2018-07-21-whereami.ipynb', '2018-07-26-Importing-notebooks-with-proper-source.ipynb', '2018-07-26-Parameterize-modules.ipynb', '2018-07-29-Execute-and-discover-imports.ipynb', '2018-07-30-Markdown-cells-as-docstrings.ipynb', '2018-07-31-Testing-notebooks.ipynb', '2018-08-02-better-pytest-reports-with-notebooks.ipynb', '2018-08-02-qr-codes-are-magic.ipynb', '2018-08-03-A-case-for-indented-code.ipynb', '2018-08-03-Using-click-interactively.ipynb', '2018-08-04-Emojis-in-code-cells.ipynb', '2018-08-04-Notebooks-as-Tidy-DX.ipynb', '2018-08-13-Flexbox-Transformer.ipynb', '2018-08-14-Benchmarking-imports.ipynb', '2018-08-16-HTML-Flexbox.ipynb', '2018-08-17-Lines-of-code.ipynb', '2018-06-19-Github-Statistics.ipynb', '2018-06-19-String-Node-Transformer.ipynb', '2018-06-20-Interactive-type-checking-with-datashape.ipynb', '2018-06-20-OpenCV-and-a-Widget.ipynb', '2018-06-22-Show-all-outputs-in-widget.ipynb', '2018-06-23-Emojis-in-matplotlib.ipynb', '2018-06-23-Image-segmentation-on-flourishes.ipynb', '2018-06-24-Interactive-type-checking.ipynb', '2018-07-02-Pandas-Pixels--DataFrames-as-Images.ipynb', '2018-07-02-Type-code-cells-by-defaul.ipynb', '2018-07-02-Watch-Testing.ipynb', '2018-07-03-Custom-IPython-Completer-for-Indented-Code.ipynb', '2018-07-03-Deathbeds-dependencies.ipynb', '2018-07-03-Luigi-command-line.ipynb', '2018-07-03-Running-a-notebook-flask-app-with-delegator-py.ipynb', '2018-07-04-Are-Google-Forms-a-Good-Idea-for-Notebooks.ipynb', '2018-07-04-Deathbeds-startup.ipynb', '2018-07-04-blacken-the-interactive-black-formatter.ipynb', '2018-07-05-Exploring-a-users-gists.ipynb', '2018-07-05-Tracing-edges-of-image-text.ipynb', '2018-07-06-Markdown-code-cells.ipynb', '2018-07-07-A-Jinja2-Templating-Transformer.md.ipynb', '2018-07-08-The-simplest-path-hook-importer-for-a-notebook.ipynb', '2018-07-09-IPython-reprs.ipynb', '2018-07-09-Shaply-sympy-gasket.ipynb', '2018-07-09-name-is-main.ipynb', '2018-07-10-Fuzzy-importing-files-with-weird-characters.ipynb', '2018-07-10-Using-math-as-a-grid.ipynb', '2018-07-15-Pytest-watchmedo.ipynb', '2018-07-15-click-arguments-from-a-notebook.ipynb', '2018-07-16-Testing-restart-run-all.ipynb', '2018-07-21-whereami.ipynb', '2018-07-26-Importing-notebooks-with-proper-source.ipynb', '2018-07-26-Parameterize-modules.ipynb', '2018-07-29-Execute-and-discover-imports.ipynb', '2018-07-30-Markdown-cells-as-docstrings.ipynb', '2018-07-31-Testing-notebooks.ipynb', '2018-08-02-better-pytest-reports-with-notebooks.ipynb', '2018-08-02-qr-codes-are-magic.ipynb', '2018-08-03-A-case-for-indented-code.ipynb', '2018-08-03-Using-click-interactively.ipynb', '2018-08-04-Emojis-in-code-cells.ipynb', '2018-08-04-Notebooks-as-Tidy-DX.ipynb', '2018-08-13-Flexbox-Transformer.ipynb', '2018-08-14-Benchmarking-imports.ipynb', '2018-08-16-HTML-Flexbox.ipynb', '2018-08-17-Lines-of-code.ipynb', '2018-06-19-Github-Statistics.ipynb', '2018-06-19-String-Node-Transformer.ipynb', '2018-06-20-Interactive-type-checking-with-datashape.ipynb', '2018-06-20-OpenCV-and-a-Widget.ipynb', '2018-06-22-Show-all-outputs-in-widget.ipynb', '2018-06-23-Emojis-in-matplotlib.ipynb', '2018-06-23-Image-segmentation-on-flourishes.ipynb', '2018-06-24-Interactive-type-checking.ipynb', '2018-07-02-Pandas-Pixels--DataFrames-as-Images.ipynb', '2018-07-02-Type-code-cells-by-defaul.ipynb', '2018-07-02-Watch-Testing.ipynb', '2018-07-03-Custom-IPython-Completer-for-Indented-Code.ipynb', '2018-07-03-Deathbeds-dependencies.ipynb', '2018-07-03-Luigi-command-line.ipynb', '2018-07-03-Running-a-notebook-flask-app-with-delegator-py.ipynb', '2018-07-04-Are-Google-Forms-a-Good-Idea-for-Notebooks.ipynb', '2018-07-04-Deathbeds-startup.ipynb', '2018-07-04-blacken-the-interactive-black-formatter.ipynb', '2018-07-05-Exploring-a-users-gists.ipynb', '2018-07-05-Tracing-edges-of-image-text.ipynb', '2018-07-06-Markdown-code-cells.ipynb', '2018-07-07-A-Jinja2-Templating-Transformer.md.ipynb', '2018-07-08-The-simplest-path-hook-importer-for-a-notebook.ipynb', '2018-07-09-IPython-reprs.ipynb', '2018-07-09-Shaply-sympy-gasket.ipynb', '2018-07-09-name-is-main.ipynb', '2018-07-10-Fuzzy-importing-files-with-weird-characters.ipynb', '2018-07-10-Using-math-as-a-grid.ipynb', '2018-07-15-Pytest-watchmedo.ipynb', '2018-07-15-click-arguments-from-a-notebook.ipynb', '2018-07-16-Testing-restart-run-all.ipynb', '2018-07-21-whereami.ipynb', '2018-07-26-Importing-notebooks-with-proper-source.ipynb', '2018-07-26-Parameterize-modules.ipynb', '2018-07-29-Execute-and-discover-imports.ipynb', '2018-07-30-Markdown-cells-as-docstrings.ipynb', '2018-07-31-Testing-notebooks.ipynb', '2018-08-02-better-pytest-reports-with-notebooks.ipynb', '2018-08-02-qr-codes-are-magic.ipynb', '2018-08-03-A-case-for-indented-code.ipynb', '2018-08-03-Using-click-interactively.ipynb', '2018-08-04-Emojis-in-code-cells.ipynb', '2018-08-04-Notebooks-as-Tidy-DX.ipynb', '2018-08-13-Flexbox-Transformer.ipynb', '2018-08-14-Benchmarking-imports.ipynb', '2018-08-16-HTML-Flexbox.ipynb', '2018-08-17-Lines-of-code.ipynb', '2018-06-19-Github-Statistics.ipynb', '2018-06-19-String-Node-Transformer.ipynb', '2018-06-20-Interactive-type-checking-with-datashape.ipynb', '2018-06-20-OpenCV-and-a-Widget.ipynb', '2018-06-22-Show-all-outputs-in-widget.ipynb', '2018-06-23-Emojis-in-matplotlib.ipynb', '2018-06-23-Image-segmentation-on-flourishes.ipynb', '2018-06-24-Interactive-type-checking.ipynb', '2018-07-02-Pandas-Pixels--DataFrames-as-Images.ipynb', '2018-07-02-Type-code-cells-by-defaul.ipynb', '2018-07-02-Watch-Testing.ipynb', '2018-07-03-Custom-IPython-Completer-for-Indented-Code.ipynb', '2018-07-03-Deathbeds-dependencies.ipynb', '2018-07-03-Luigi-command-line.ipynb', '2018-07-03-Running-a-notebook-flask-app-with-delegator-py.ipynb', '2018-07-04-Are-Google-Forms-a-Good-Idea-for-Notebooks.ipynb', '2018-07-04-Deathbeds-startup.ipynb', '2018-07-04-blacken-the-interactive-black-formatter.ipynb', '2018-07-05-Exploring-a-users-gists.ipynb', '2018-07-05-Tracing-edges-of-image-text.ipynb', '2018-07-06-Markdown-code-cells.ipynb', '2018-07-07-A-Jinja2-Templating-Transformer.md.ipynb', '2018-07-08-The-simplest-path-hook-importer-for-a-notebook.ipynb', '2018-07-09-IPython-reprs.ipynb', '2018-07-09-Shaply-sympy-gasket.ipynb', '2018-07-09-name-is-main.ipynb', '2018-07-10-Fuzzy-importing-files-with-weird-characters.ipynb', '2018-07-10-Using-math-as-a-grid.ipynb', '2018-07-15-Pytest-watchmedo.ipynb', '2018-07-15-click-arguments-from-a-notebook.ipynb', '2018-07-16-Testing-restart-run-all.ipynb', '2018-07-21-whereami.ipynb', '2018-07-26-Importing-notebooks-with-proper-source.ipynb', '2018-07-26-Parameterize-modules.ipynb', '2018-07-29-Execute-and-discover-imports.ipynb', '2018-07-30-Markdown-cells-as-docstrings.ipynb', '2018-07-31-Testing-notebooks.ipynb', '2018-08-02-better-pytest-reports-with-notebooks.ipynb', '2018-08-02-qr-codes-are-magic.ipynb', '2018-08-03-A-case-for-indented-code.ipynb', '2018-08-03-Using-click-interactively.ipynb', '2018-08-04-Emojis-in-code-cells.ipynb', '2018-08-04-Notebooks-as-Tidy-DX.ipynb', '2018-08-13-Flexbox-Transformer.ipynb', '2018-08-14-Benchmarking-imports.ipynb', '2018-08-16-HTML-Flexbox.ipynb', '2018-08-17-Lines-of-code.ipynb', '2018-06-19-Github-Statistics.ipynb', '2018-06-19-String-Node-Transformer.ipynb', '2018-06-20-Interactive-type-checking-with-datashape.ipynb', '2018-06-20-OpenCV-and-a-Widget.ipynb', '2018-06-22-Show-all-outputs-in-widget.ipynb', '2018-06-23-Emojis-in-matplotlib.ipynb', '2018-06-23-Image-segmentation-on-flourishes.ipynb', '2018-06-24-Interactive-type-checking.ipynb', '2018-07-02-Pandas-Pixels--DataFrames-as-Images.ipynb', '2018-07-02-Type-code-cells-by-defaul.ipynb', '2018-07-02-Watch-Testing.ipynb', '2018-07-03-Custom-IPython-Completer-for-Indented-Code.ipynb', '2018-07-03-Deathbeds-dependencies.ipynb', '2018-07-03-Luigi-command-line.ipynb', '2018-07-03-Running-a-notebook-flask-app-with-delegator-py.ipynb', '2018-07-04-Are-Google-Forms-a-Good-Idea-for-Notebooks.ipynb', '2018-07-04-Deathbeds-startup.ipynb', '2018-07-04-blacken-the-interactive-black-formatter.ipynb', '2018-07-05-Exploring-a-users-gists.ipynb', '2018-07-05-Tracing-edges-of-image-text.ipynb', '2018-07-06-Markdown-code-cells.ipynb', '2018-07-07-A-Jinja2-Templating-Transformer.md.ipynb', '2018-07-08-The-simplest-path-hook-importer-for-a-notebook.ipynb', '2018-07-09-IPython-reprs.ipynb', '2018-07-09-Shaply-sympy-gasket.ipynb', '2018-07-09-name-is-main.ipynb', '2018-07-10-Fuzzy-importing-files-with-weird-characters.ipynb', '2018-07-10-Using-math-as-a-grid.ipynb', '2018-07-15-Pytest-watchmedo.ipynb', '2018-07-15-click-arguments-from-a-notebook.ipynb', '2018-07-16-Testing-restart-run-all.ipynb', '2018-07-21-whereami.ipynb', '2018-07-26-Importing-notebooks-with-proper-source.ipynb', '2018-07-26-Parameterize-modules.ipynb', '2018-07-29-Execute-and-discover-imports.ipynb', '2018-07-30-Markdown-cells-as-docstrings.ipynb', '2018-07-31-Testing-notebooks.ipynb', '2018-08-02-better-pytest-reports-with-notebooks.ipynb', '2018-08-02-qr-codes-are-magic.ipynb', '2018-08-03-A-case-for-indented-code.ipynb', '2018-08-03-Using-click-interactively.ipynb', '2018-08-04-Emojis-in-code-cells.ipynb', '2018-08-04-Notebooks-as-Tidy-DX.ipynb', '2018-08-13-Flexbox-Transformer.ipynb', '2018-08-14-Benchmarking-imports.ipynb', '2018-08-16-HTML-Flexbox.ipynb', '2018-08-17-Lines-of-code.ipynb', '2018-06-19-Github-Statistics.ipynb', '2018-06-19-String-Node-Transformer.ipynb', '2018-06-20-Interactive-type-checking-with-datashape.ipynb', '2018-06-20-OpenCV-and-a-Widget.ipynb', '2018-06-22-Show-all-outputs-in-widget.ipynb', '2018-06-23-Emojis-in-matplotlib.ipynb', '2018-06-23-Image-segmentation-on-flourishes.ipynb', '2018-06-24-Interactive-type-checking.ipynb', '2018-07-02-Pandas-Pixels--DataFrames-as-Images.ipynb', '2018-07-02-Type-code-cells-by-defaul.ipynb', '2018-07-02-Watch-Testing.ipynb', '2018-07-03-Custom-IPython-Completer-for-Indented-Code.ipynb', '2018-07-03-Deathbeds-dependencies.ipynb', '2018-07-03-Luigi-command-line.ipynb', '2018-07-03-Running-a-notebook-flask-app-with-delegator-py.ipynb', '2018-07-04-Are-Google-Forms-a-Good-Idea-for-Notebooks.ipynb', '2018-07-04-Deathbeds-startup.ipynb', '2018-07-04-blacken-the-interactive-black-formatter.ipynb', '2018-07-05-Exploring-a-users-gists.ipynb', '2018-07-05-Tracing-edges-of-image-text.ipynb', '2018-07-06-Markdown-code-cells.ipynb', '2018-07-07-A-Jinja2-Templating-Transformer.md.ipynb', '2018-07-08-The-simplest-path-hook-importer-for-a-notebook.ipynb', '2018-07-09-IPython-reprs.ipynb', '2018-07-09-Shaply-sympy-gasket.ipynb', '2018-07-09-name-is-main.ipynb', '2018-07-10-Fuzzy-importing-files-with-weird-characters.ipynb', '2018-07-10-Using-math-as-a-grid.ipynb', '2018-07-15-Pytest-watchmedo.ipynb', '2018-07-15-click-arguments-from-a-notebook.ipynb', '2018-07-16-Testing-restart-run-all.ipynb', '2018-07-21-whereami.ipynb', '2018-07-26-Importing-notebooks-with-proper-source.ipynb', '2018-07-26-Parameterize-modules.ipynb', '2018-07-29-Execute-and-discover-imports.ipynb', '2018-07-30-Markdown-cells-as-docstrings.ipynb', '2018-07-31-Testing-notebooks.ipynb', '2018-08-02-better-pytest-reports-with-notebooks.ipynb', '2018-08-02-qr-codes-are-magic.ipynb', '2018-08-03-A-case-for-indented-code.ipynb', '2018-08-03-Using-click-interactively.ipynb', '2018-08-04-Emojis-in-code-cells.ipynb', '2018-08-04-Notebooks-as-Tidy-DX.ipynb', '2018-08-13-Flexbox-Transformer.ipynb', '2018-08-14-Benchmarking-imports.ipynb', '2018-08-16-HTML-Flexbox.ipynb', '2018-08-17-Lines-of-code.ipynb', '2018-06-19-Github-Statistics.ipynb', '2018-06-19-String-Node-Transformer.ipynb', '2018-06-20-Interactive-type-checking-with-datashape.ipynb', '2018-06-20-OpenCV-and-a-Widget.ipynb', '2018-06-22-Show-all-outputs-in-widget.ipynb', '2018-06-23-Emojis-in-matplotlib.ipynb', '2018-06-23-Image-segmentation-on-flourishes.ipynb', '2018-06-24-Interactive-type-checking.ipynb', '2018-07-02-Pandas-Pixels--DataFrames-as-Images.ipynb', '2018-07-02-Type-code-cells-by-defaul.ipynb', '2018-07-02-Watch-Testing.ipynb', '2018-07-03-Custom-IPython-Completer-for-Indented-Code.ipynb', '2018-07-03-Deathbeds-dependencies.ipynb', '2018-07-03-Luigi-command-line.ipynb', '2018-07-03-Running-a-notebook-flask-app-with-delegator-py.ipynb', '2018-07-04-Are-Google-Forms-a-Good-Idea-for-Notebooks.ipynb', '2018-07-04-Deathbeds-startup.ipynb', '2018-07-04-blacken-the-interactive-black-formatter.ipynb', '2018-07-05-Exploring-a-users-gists.ipynb', '2018-07-05-Tracing-edges-of-image-text.ipynb', '2018-07-06-Markdown-code-cells.ipynb', '2018-07-07-A-Jinja2-Templating-Transformer.md.ipynb', '2018-07-08-The-simplest-path-hook-importer-for-a-notebook.ipynb', '2018-07-09-IPython-reprs.ipynb', '2018-07-09-Shaply-sympy-gasket.ipynb', '2018-07-09-name-is-main.ipynb', '2018-07-10-Fuzzy-importing-files-with-weird-characters.ipynb', '2018-07-10-Using-math-as-a-grid.ipynb', '2018-07-15-Pytest-watchmedo.ipynb', '2018-07-15-click-arguments-from-a-notebook.ipynb', '2018-07-16-Testing-restart-run-all.ipynb', '2018-07-21-whereami.ipynb', '2018-07-26-Importing-notebooks-with-proper-source.ipynb', '2018-07-26-Parameterize-modules.ipynb', '2018-07-29-Execute-and-discover-imports.ipynb', '2018-07-30-Markdown-cells-as-docstrings.ipynb', '2018-07-31-Testing-notebooks.ipynb', '2018-08-02-better-pytest-reports-with-notebooks.ipynb', '2018-08-02-qr-codes-are-magic.ipynb', '2018-08-03-A-case-for-indented-code.ipynb', '2018-08-03-Using-click-interactively.ipynb', '2018-08-04-Emojis-in-code-cells.ipynb', '2018-08-04-Notebooks-as-Tidy-DX.ipynb', '2018-08-13-Flexbox-Transformer.ipynb', '2018-08-14-Benchmarking-imports.ipynb', '2018-08-16-HTML-Flexbox.ipynb', '2018-08-17-Lines-of-code.ipynb', '--last-failed', '-c', '../tox.ini', '--verbose', '2018-06-19-Github-Statistics.ipynb', '2018-06-19-String-Node-Transformer.ipynb', '2018-06-20-Interactive-type-checking-with-datashape.ipynb', '2018-06-20-OpenCV-and-a-Widget.ipynb', '2018-06-22-Show-all-outputs-in-widget.ipynb', '2018-06-23-Emojis-in-matplotlib.ipynb', '2018-06-23-Image-segmentation-on-flourishes.ipynb', '2018-06-24-Interactive-type-checking.ipynb', '2018-07-02-Pandas-Pixels--DataFrames-as-Images.ipynb', '2018-07-02-Type-code-cells-by-defaul.ipynb', '2018-07-02-Watch-Testing.ipynb', '2018-07-03-Custom-IPython-Completer-for-Indented-Code.ipynb', '2018-07-03-Deathbeds-dependencies.ipynb', '2018-07-03-Luigi-command-line.ipynb', '2018-07-03-Running-a-notebook-flask-app-with-delegator-py.ipynb', '2018-07-04-Are-Google-Forms-a-Good-Idea-for-Notebooks.ipynb', '2018-07-04-Deathbeds-startup.ipynb', '2018-07-04-blacken-the-interactive-black-formatter.ipynb', '2018-07-05-Exploring-a-users-gists.ipynb', '2018-07-05-Tracing-edges-of-image-text.ipynb', '2018-07-06-Markdown-code-cells.ipynb', '2018-07-07-A-Jinja2-Templating-Transformer.md.ipynb', '2018-07-08-The-simplest-path-hook-importer-for-a-notebook.ipynb', '2018-07-09-IPython-reprs.ipynb', '2018-07-09-Shaply-sympy-gasket.ipynb', '2018-07-09-name-is-main.ipynb', '2018-07-10-Fuzzy-importing-files-with-weird-characters.ipynb', '2018-07-10-Using-math-as-a-grid.ipynb', '2018-07-15-Pytest-watchmedo.ipynb', '2018-07-15-click-arguments-from-a-notebook.ipynb', '2018-07-16-Testing-restart-run-all.ipynb', '2018-07-21-whereami.ipynb', '2018-07-26-Importing-notebooks-with-proper-source.ipynb', '2018-07-26-Parameterize-modules.ipynb', '2018-07-29-Execute-and-discover-imports.ipynb', '2018-07-30-Markdown-cells-as-docstrings.ipynb', '2018-07-31-Testing-notebooks.ipynb', '2018-08-02-better-pytest-reports-with-notebooks.ipynb', '2018-08-02-qr-codes-are-magic.ipynb', '2018-08-03-A-case-for-indented-code.ipynb', '2018-08-03-Using-click-interactively.ipynb', '2018-08-04-Emojis-in-code-cells.ipynb', '2018-08-04-Notebooks-as-Tidy-DX.ipynb', '2018-08-13-Flexbox-Transformer.ipynb', '2018-08-14-Benchmarking-imports.ipynb', '2018-08-16-HTML-Flexbox.ipynb', '2018-08-17-Lines-of-code.ipynb'] ['C:\\\\Anaconda3\\\\lib\\\\site-packages\\\\ipykernel_launcher.py', '-f', 'C:\\\\Users\\\\deathbeds\\\\AppData\\\\Roaming\\\\jupyter\\\\runtime\\\\kernel-26eb5ae1-baa1-4d15-9026-df8c9b46cfd8.json']\n",
      "============================= test session starts =============================\n",
      "platform win32 -- Python 3.6.5, pytest-3.5.1, py-1.5.3, pluggy-0.6.0 -- C:\\Anaconda3\\python.exe\n",
      "cachedir: .pytest_cache\n",
      "rootdir: C:\\Users\\deathbeds\\deathbeds.github.io\\deathbeds, inifile: ../tox.ini\n",
      "plugins: xdist-1.22.5, testmon-0.9.12, remotedata-0.2.1, parallel-0.0.2, openfiles-0.3.0, localserver-0.4.1, forked-0.2, doctestplus-0.1.3, arraydiff-0.2, hypothesis-3.66.16, importnb-0.5.0\n",
      "collecting ... run-last-failure: run all (no recorded failures)\n",
      "INTERNALERROR> Traceback (most recent call last):\n",
      "INTERNALERROR>   File \"C:\\Anaconda3\\lib\\site-packages\\_pytest\\main.py\", line 107, in wrap_session\n",
      "INTERNALERROR>     session.exitstatus = doit(config, session) or 0\n",
      "INTERNALERROR>   File \"C:\\Anaconda3\\lib\\site-packages\\_pytest\\main.py\", line 144, in _main\n",
      "INTERNALERROR>     config.hook.pytest_collection(session=session)\n",
      "INTERNALERROR>   File \"C:\\Anaconda3\\lib\\site-packages\\pluggy\\__init__.py\", line 617, in __call__\n",
      "INTERNALERROR>     return self._hookexec(self, self._nonwrappers + self._wrappers, kwargs)\n",
      "INTERNALERROR>   File \"C:\\Anaconda3\\lib\\site-packages\\pluggy\\__init__.py\", line 222, in _hookexec\n",
      "INTERNALERROR>     return self._inner_hookexec(hook, methods, kwargs)\n",
      "INTERNALERROR>   File \"C:\\Anaconda3\\lib\\site-packages\\pluggy\\__init__.py\", line 216, in <lambda>\n",
      "INTERNALERROR>     firstresult=hook.spec_opts.get('firstresult'),\n",
      "INTERNALERROR>   File \"C:\\Anaconda3\\lib\\site-packages\\pluggy\\callers.py\", line 201, in _multicall\n",
      "INTERNALERROR>     return outcome.get_result()\n",
      "INTERNALERROR>   File \"C:\\Anaconda3\\lib\\site-packages\\pluggy\\callers.py\", line 76, in get_result\n",
      "INTERNALERROR>     raise ex[1].with_traceback(ex[2])\n",
      "INTERNALERROR>   File \"C:\\Anaconda3\\lib\\site-packages\\pluggy\\callers.py\", line 180, in _multicall\n",
      "INTERNALERROR>     res = hook_impl.function(*args)\n",
      "INTERNALERROR>   File \"C:\\Anaconda3\\lib\\site-packages\\_pytest\\main.py\", line 154, in pytest_collection\n",
      "INTERNALERROR>     return session.perform_collect()\n",
      "INTERNALERROR>   File \"C:\\Anaconda3\\lib\\site-packages\\_pytest\\main.py\", line 351, in perform_collect\n",
      "INTERNALERROR>     items = self._perform_collect(args, genitems)\n",
      "INTERNALERROR>   File \"C:\\Anaconda3\\lib\\site-packages\\_pytest\\main.py\", line 388, in _perform_collect\n",
      "INTERNALERROR>     self.items.extend(self.genitems(node))\n",
      "INTERNALERROR>   File \"C:\\Anaconda3\\lib\\site-packages\\_pytest\\main.py\", line 529, in genitems\n",
      "INTERNALERROR>     rep = collect_one_node(node)\n",
      "INTERNALERROR>   File \"C:\\Anaconda3\\lib\\site-packages\\_pytest\\runner.py\", line 518, in collect_one_node\n",
      "INTERNALERROR>     rep = ihook.pytest_make_collect_report(collector=collector)\n",
      "INTERNALERROR>   File \"C:\\Anaconda3\\lib\\site-packages\\pluggy\\__init__.py\", line 617, in __call__\n",
      "INTERNALERROR>     return self._hookexec(self, self._nonwrappers + self._wrappers, kwargs)\n",
      "INTERNALERROR>   File \"C:\\Anaconda3\\lib\\site-packages\\pluggy\\__init__.py\", line 222, in _hookexec\n",
      "INTERNALERROR>     return self._inner_hookexec(hook, methods, kwargs)\n",
      "INTERNALERROR>   File \"C:\\Anaconda3\\lib\\site-packages\\pluggy\\__init__.py\", line 216, in <lambda>\n",
      "INTERNALERROR>     firstresult=hook.spec_opts.get('firstresult'),\n",
      "INTERNALERROR>   File \"C:\\Anaconda3\\lib\\site-packages\\pluggy\\callers.py\", line 196, in _multicall\n",
      "INTERNALERROR>     gen.send(outcome)\n",
      "INTERNALERROR>   File \"C:\\Anaconda3\\lib\\site-packages\\_pytest\\capture.py\", line 136, in pytest_make_collect_report\n",
      "INTERNALERROR>     rep = outcome.get_result()\n",
      "INTERNALERROR>   File \"C:\\Anaconda3\\lib\\site-packages\\pluggy\\callers.py\", line 76, in get_result\n",
      "INTERNALERROR>     raise ex[1].with_traceback(ex[2])\n",
      "INTERNALERROR>   File \"C:\\Anaconda3\\lib\\site-packages\\pluggy\\callers.py\", line 180, in _multicall\n",
      "INTERNALERROR>     res = hook_impl.function(*args)\n",
      "INTERNALERROR>   File \"C:\\Anaconda3\\lib\\site-packages\\_pytest\\runner.py\", line 398, in pytest_make_collect_report\n",
      "INTERNALERROR>     errorinfo = collector.repr_failure(call.excinfo)\n",
      "INTERNALERROR>   File \"C:\\Anaconda3\\lib\\site-packages\\_pytest\\nodes.py\", line 274, in repr_failure\n",
      "INTERNALERROR>     return self._repr_failure_py(excinfo, style=\"short\")\n",
      "INTERNALERROR>   File \"C:\\Anaconda3\\lib\\site-packages\\_pytest\\nodes.py\", line 250, in _repr_failure_py\n",
      "INTERNALERROR>     style=style, tbfilter=tbfilter)\n",
      "INTERNALERROR>   File \"C:\\Anaconda3\\lib\\site-packages\\_pytest\\_code\\code.py\", line 437, in getrepr\n",
      "INTERNALERROR>     return fmt.repr_excinfo(self)\n",
      "INTERNALERROR>   File \"C:\\Anaconda3\\lib\\site-packages\\_pytest\\_code\\code.py\", line 671, in repr_excinfo\n",
      "INTERNALERROR>     reprtraceback = self.repr_traceback(excinfo)\n",
      "INTERNALERROR>   File \"C:\\Anaconda3\\lib\\site-packages\\_pytest\\_code\\code.py\", line 623, in repr_traceback\n",
      "INTERNALERROR>     reprentry = self.repr_traceback_entry(entry, einfo)\n",
      "INTERNALERROR>   File \"C:\\Anaconda3\\lib\\site-packages\\_pytest\\_code\\code.py\", line 583, in repr_traceback_entry\n",
      "INTERNALERROR>     s = self.get_source(source, line_index, excinfo, short=short)\n",
      "INTERNALERROR>   File \"C:\\Anaconda3\\lib\\site-packages\\_pytest\\_code\\code.py\", line 519, in get_source\n",
      "INTERNALERROR>     lines.append(space_prefix + source.lines[line_index].strip())\n",
      "INTERNALERROR> IndexError: list index out of range\n",
      "\n",
      "==================== 12 warnings, 5 error in 3.79 seconds =====================\n"
     ]
    },
    {
     "ename": "SystemExit",
     "evalue": "3",
     "output_type": "error",
     "traceback": [
      "An exception has occurred, use %tb to see the full traceback.\n",
      "\u001b[1;31mSystemExit\u001b[0m\u001b[1;31m:\u001b[0m 3\n"
     ]
    },
    {
     "name": "stderr",
     "output_type": "stream",
     "text": [
      "C:\\Anaconda3\\lib\\site-packages\\IPython\\core\\interactiveshell.py:2971: UserWarning: To exit: use 'exit', 'quit', or Ctrl-D.\n",
      "  warn(\"To exit: use 'exit', 'quit', or Ctrl-D.\", stacklevel=1)\n"
     ]
    }
   ],
   "source": [
    "if __name__ == '__main__':\n",
    "    print(Path(sys.argv[-1]).name in notebooks.splitlines(0))\n",
    "    if (Path(sys.argv[-1]).name in notebooks.splitlines()):\n",
    "        opts = sys.argv[1:] + list(opts)\n",
    "    else:\n",
    "        opts += notebooks.splitlines() \n",
    "        \n",
    "    print(opts, sys.argv)\n",
    "    \n",
    "    import pytest\n",
    "    try:\n",
    "        os.chdir(str(root))\n",
    "        with capture_output(False, False): raise SystemExit(\n",
    "            pytest.main(\n",
    "            opts, [__Markdown_code_cells]))\n",
    "\n",
    "    finally: os.chdir(cwd)"
   ]
  },
  {
   "cell_type": "code",
   "execution_count": null,
   "metadata": {},
   "outputs": [],
   "source": []
  }
 ],
 "metadata": {
  "kernelspec": {
   "display_name": "Python 3",
   "language": "python",
   "name": "python3"
  },
  "language_info": {
   "codemirror_mode": {
    "name": "ipython",
    "version": 3
   },
   "file_extension": ".py",
   "mimetype": "text/x-python",
   "name": "python",
   "nbconvert_exporter": "python",
   "pygments_lexer": "ipython3",
   "version": "3.6.5"
  }
 },
 "nbformat": 4,
 "nbformat_minor": 2
}
