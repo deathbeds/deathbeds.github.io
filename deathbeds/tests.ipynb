{
 "cells": [
  {
   "cell_type": "markdown",
   "metadata": {},
   "source": [
    "# Deathbeds tests\n",
    "\n",
    "Update the local `tricks.yml` to run this.\n",
    "```bash\n",
    "ipython -m deathbeds.2018-07-02-Watch-Testing -- --commands \"'ipython -m tests'\"\n",
    "\n",
    "```"
   ]
  },
  {
   "cell_type": "code",
   "execution_count": 22,
   "metadata": {},
   "outputs": [],
   "source": [
    "import deathbeds\n",
    "from pathlib import Path\n",
    "from IPython.utils.capture import capture_output\n",
    "from IPython import get_ipython\n",
    "import os, sys"
   ]
  },
  {
   "cell_type": "code",
   "execution_count": 79,
   "metadata": {},
   "outputs": [
    {
     "data": {
      "text/plain": [
       "'C:\\\\Users\\\\deathbeds\\\\deathbeds.github.io\\\\deathbeds'"
      ]
     },
     "execution_count": 79,
     "metadata": {},
     "output_type": "execute_result"
    }
   ],
   "source": [
    "pattern = '''[0-9]*.ipynb'''\n",
    "root = Path(deathbeds.__file__).parent\n",
    "cwd = os.getcwd()"
   ]
  },
  {
   "cell_type": "code",
   "execution_count": 80,
   "metadata": {},
   "outputs": [
    {
     "data": {
      "text/plain": [
       "<function __main__.<lambda>(str)>"
      ]
     },
     "execution_count": 80,
     "metadata": {},
     "output_type": "execute_result"
    }
   ],
   "source": [
    "md_list = lambda str: __import__('IPython').display.Markdown(''.join(f\"\"\"* [{str}]({str}) \"\"\" for str in str.splitlines()))"
   ]
  },
  {
   "cell_type": "code",
   "execution_count": 83,
   "metadata": {},
   "outputs": [
    {
     "data": {
      "text/plain": [
       "'2018-07-20-Literate-Markdown-Kernel.ipynb\\n2018-07-06-Revisiting-cadquery-and-ipywidgets-part-1.ipynb\\n2018-07-17-Extracting-a-blog-roll-for-deathbeds.ipynb\\n2018-07-13-Supercharged-imarkdown-as-code.md.ipynb\\n'"
      ]
     },
     "execution_count": 83,
     "metadata": {},
     "output_type": "execute_result"
    }
   ],
   "source": [
    "skip = \"\"\"2018-07-20-Literate-Markdown-Kernel.ipynb\n",
    "2018-07-06-Revisiting-cadquery-and-ipywidgets-part-1.ipynb\n",
    "2018-07-17-Extracting-a-blog-roll-for-deathbeds.ipynb\n",
    "2018-07-13-Supercharged-imarkdown-as-code.md.ipynb\n",
    "\"\"\""
   ]
  },
  {
   "cell_type": "code",
   "execution_count": 91,
   "metadata": {},
   "outputs": [],
   "source": [
    "from deathbeds import __Markdown_code_cells"
   ]
  },
  {
   "cell_type": "code",
   "execution_count": 92,
   "metadata": {},
   "outputs": [],
   "source": [
    "with __Markdown_code_cells.MarkdownImporter(): __import__('deathbeds.2018-07-13-Supercharged-imarkdown-as-code')"
   ]
  },
  {
   "cell_type": "markdown",
   "metadata": {},
   "source": [
    "# Load the testable files from the git tracker."
   ]
  },
  {
   "cell_type": "code",
   "execution_count": 85,
   "metadata": {},
   "outputs": [],
   "source": [
    "os.chdir(root)\n",
    "notebooks = '\\n'.join(object  for object in __import__('delegator').run('git ls-files [0-9]*.ipynb').out.splitlines() if object not in skip)\n",
    "os.chdir(cwd)"
   ]
  },
  {
   "cell_type": "code",
   "execution_count": 93,
   "metadata": {},
   "outputs": [],
   "source": [
    "try:  import cv2 \n",
    "except: notebooks = notebooks.replace(\"\"\"2018-06-20-OpenCV-and-a-Widget.ipynb\\n\"\"\", \"\")\n",
    "\"\"\"pwd doesn't work on windows.\"\"\"\n",
    "try:  import luigi \n",
    "except: notebooks = notebooks.replace(\"\"\"2018-07-03-Luigi-command-line.ipynb\\n\"\"\", \"\")"
   ]
  },
  {
   "cell_type": "code",
   "execution_count": 94,
   "metadata": {},
   "outputs": [
    {
     "data": {
      "text/plain": [
       "['--last-failed', '-c', '../tox.ini', '--verbose']"
      ]
     },
     "execution_count": 94,
     "metadata": {},
     "output_type": "execute_result"
    }
   ],
   "source": [
    "opts = __import__('sys').argv[1:] if globals().get('__file__', None) else '--last-failed'.split() \n",
    "opts += \"-c ../tox.ini --doctest-modules --mpl --verbose\".split()"
   ]
  },
  {
   "cell_type": "code",
   "execution_count": 134,
   "metadata": {},
   "outputs": [
    {
     "name": "stdout",
     "output_type": "stream",
     "text": [
      "False\n",
      "============================= test session starts =============================\n",
      "platform win32 -- Python 3.6.5, pytest-3.5.1, py-1.5.3, pluggy-0.6.0 -- C:\\Anaconda3\\python.exe\n",
      "cachedir: .pytest_cache\n",
      "rootdir: C:\\Users\\deathbeds\\deathbeds.github.io\\deathbeds, inifile: ../tox.ini\n",
      "plugins: xdist-1.22.5, testmon-0.9.12, remotedata-0.2.1, parallel-0.0.2, openfiles-0.3.0, localserver-0.4.1, forked-0.2, doctestplus-0.1.3, arraydiff-0.2, hypothesis-3.66.16, importnb-0.5.0\n",
      "collecting ... run-last-failure: run all (no recorded failures)\n",
      "INTERNALERROR> Traceback (most recent call last):\n",
      "INTERNALERROR>   File \"C:\\Anaconda3\\lib\\site-packages\\_pytest\\main.py\", line 107, in wrap_session\n",
      "INTERNALERROR>     session.exitstatus = doit(config, session) or 0\n",
      "INTERNALERROR>   File \"C:\\Anaconda3\\lib\\site-packages\\_pytest\\main.py\", line 144, in _main\n",
      "INTERNALERROR>     config.hook.pytest_collection(session=session)\n",
      "INTERNALERROR>   File \"C:\\Anaconda3\\lib\\site-packages\\pluggy\\__init__.py\", line 617, in __call__\n",
      "INTERNALERROR>     return self._hookexec(self, self._nonwrappers + self._wrappers, kwargs)\n",
      "INTERNALERROR>   File \"C:\\Anaconda3\\lib\\site-packages\\pluggy\\__init__.py\", line 222, in _hookexec\n",
      "INTERNALERROR>     return self._inner_hookexec(hook, methods, kwargs)\n",
      "INTERNALERROR>   File \"C:\\Anaconda3\\lib\\site-packages\\pluggy\\__init__.py\", line 216, in <lambda>\n",
      "INTERNALERROR>     firstresult=hook.spec_opts.get('firstresult'),\n",
      "INTERNALERROR>   File \"C:\\Anaconda3\\lib\\site-packages\\pluggy\\callers.py\", line 201, in _multicall\n",
      "INTERNALERROR>     return outcome.get_result()\n",
      "INTERNALERROR>   File \"C:\\Anaconda3\\lib\\site-packages\\pluggy\\callers.py\", line 76, in get_result\n",
      "INTERNALERROR>     raise ex[1].with_traceback(ex[2])\n",
      "INTERNALERROR>   File \"C:\\Anaconda3\\lib\\site-packages\\pluggy\\callers.py\", line 180, in _multicall\n",
      "INTERNALERROR>     res = hook_impl.function(*args)\n",
      "INTERNALERROR>   File \"C:\\Anaconda3\\lib\\site-packages\\_pytest\\main.py\", line 154, in pytest_collection\n",
      "INTERNALERROR>     return session.perform_collect()\n",
      "INTERNALERROR>   File \"C:\\Anaconda3\\lib\\site-packages\\_pytest\\main.py\", line 351, in perform_collect\n",
      "INTERNALERROR>     items = self._perform_collect(args, genitems)\n",
      "INTERNALERROR>   File \"C:\\Anaconda3\\lib\\site-packages\\_pytest\\main.py\", line 388, in _perform_collect\n",
      "INTERNALERROR>     self.items.extend(self.genitems(node))\n",
      "INTERNALERROR>   File \"C:\\Anaconda3\\lib\\site-packages\\_pytest\\main.py\", line 529, in genitems\n",
      "INTERNALERROR>     rep = collect_one_node(node)\n",
      "INTERNALERROR>   File \"C:\\Anaconda3\\lib\\site-packages\\_pytest\\runner.py\", line 518, in collect_one_node\n",
      "INTERNALERROR>     rep = ihook.pytest_make_collect_report(collector=collector)\n",
      "INTERNALERROR>   File \"C:\\Anaconda3\\lib\\site-packages\\pluggy\\__init__.py\", line 617, in __call__\n",
      "INTERNALERROR>     return self._hookexec(self, self._nonwrappers + self._wrappers, kwargs)\n",
      "INTERNALERROR>   File \"C:\\Anaconda3\\lib\\site-packages\\pluggy\\__init__.py\", line 222, in _hookexec\n",
      "INTERNALERROR>     return self._inner_hookexec(hook, methods, kwargs)\n",
      "INTERNALERROR>   File \"C:\\Anaconda3\\lib\\site-packages\\pluggy\\__init__.py\", line 216, in <lambda>\n",
      "INTERNALERROR>     firstresult=hook.spec_opts.get('firstresult'),\n",
      "INTERNALERROR>   File \"C:\\Anaconda3\\lib\\site-packages\\pluggy\\callers.py\", line 196, in _multicall\n",
      "INTERNALERROR>     gen.send(outcome)\n",
      "INTERNALERROR>   File \"C:\\Anaconda3\\lib\\site-packages\\_pytest\\capture.py\", line 136, in pytest_make_collect_report\n",
      "INTERNALERROR>     rep = outcome.get_result()\n",
      "INTERNALERROR>   File \"C:\\Anaconda3\\lib\\site-packages\\pluggy\\callers.py\", line 76, in get_result\n",
      "INTERNALERROR>     raise ex[1].with_traceback(ex[2])\n",
      "INTERNALERROR>   File \"C:\\Anaconda3\\lib\\site-packages\\pluggy\\callers.py\", line 180, in _multicall\n",
      "INTERNALERROR>     res = hook_impl.function(*args)\n",
      "INTERNALERROR>   File \"C:\\Anaconda3\\lib\\site-packages\\_pytest\\runner.py\", line 398, in pytest_make_collect_report\n",
      "INTERNALERROR>     errorinfo = collector.repr_failure(call.excinfo)\n",
      "INTERNALERROR>   File \"C:\\Anaconda3\\lib\\site-packages\\_pytest\\nodes.py\", line 274, in repr_failure\n",
      "INTERNALERROR>     return self._repr_failure_py(excinfo, style=\"short\")\n",
      "INTERNALERROR>   File \"C:\\Anaconda3\\lib\\site-packages\\_pytest\\nodes.py\", line 250, in _repr_failure_py\n",
      "INTERNALERROR>     style=style, tbfilter=tbfilter)\n",
      "INTERNALERROR>   File \"C:\\Anaconda3\\lib\\site-packages\\_pytest\\_code\\code.py\", line 437, in getrepr\n",
      "INTERNALERROR>     return fmt.repr_excinfo(self)\n",
      "INTERNALERROR>   File \"C:\\Anaconda3\\lib\\site-packages\\_pytest\\_code\\code.py\", line 671, in repr_excinfo\n",
      "INTERNALERROR>     reprtraceback = self.repr_traceback(excinfo)\n",
      "INTERNALERROR>   File \"C:\\Anaconda3\\lib\\site-packages\\_pytest\\_code\\code.py\", line 623, in repr_traceback\n",
      "INTERNALERROR>     reprentry = self.repr_traceback_entry(entry, einfo)\n",
      "INTERNALERROR>   File \"C:\\Anaconda3\\lib\\site-packages\\_pytest\\_code\\code.py\", line 583, in repr_traceback_entry\n",
      "INTERNALERROR>     s = self.get_source(source, line_index, excinfo, short=short)\n",
      "INTERNALERROR>   File \"C:\\Anaconda3\\lib\\site-packages\\_pytest\\_code\\code.py\", line 519, in get_source\n",
      "INTERNALERROR>     lines.append(space_prefix + source.lines[line_index].strip())\n",
      "INTERNALERROR> IndexError: list index out of range\n",
      "\n",
      "==================== 12 warnings, 2 error in 6.61 seconds =====================\n"
     ]
    },
    {
     "ename": "SystemExit",
     "evalue": "3",
     "output_type": "error",
     "traceback": [
      "An exception has occurred, use %tb to see the full traceback.\n",
      "\u001b[1;31mSystemExit\u001b[0m\u001b[1;31m:\u001b[0m 3\n"
     ]
    },
    {
     "name": "stderr",
     "output_type": "stream",
     "text": [
      "C:\\Anaconda3\\lib\\site-packages\\IPython\\core\\interactiveshell.py:2971: UserWarning: To exit: use 'exit', 'quit', or Ctrl-D.\n",
      "  warn(\"To exit: use 'exit', 'quit', or Ctrl-D.\", stacklevel=1)\n"
     ]
    }
   ],
   "source": [
    "if __name__ == '__main__':\n",
    "    print(Path(sys.argv[-1]).name in notebooks.splitlines(0))\n",
    "    if (Path(sys.argv[-1]).name in notebooks.splitlines()):\n",
    "        opts += sys.argv[1:]\n",
    "    else:\n",
    "        opts += notebooks.splitlines() \n",
    "        \n",
    "    try:\n",
    "        os.chdir(str(root))\n",
    "        with capture_output(False, False): raise SystemExit(\n",
    "        __import__('pytest').main(\n",
    "            opts, [__Markdown_code_cells]))\n",
    "    finally: os.chdir(cwd)"
   ]
  },
  {
   "cell_type": "code",
   "execution_count": null,
   "metadata": {},
   "outputs": [],
   "source": []
  }
 ],
 "metadata": {
  "kernelspec": {
   "display_name": "Python 3",
   "language": "python",
   "name": "python3"
  },
  "language_info": {
   "codemirror_mode": {
    "name": "ipython",
    "version": 3
   },
   "file_extension": ".py",
   "mimetype": "text/x-python",
   "name": "python",
   "nbconvert_exporter": "python",
   "pygments_lexer": "ipython3",
   "version": "3.6.5"
  }
 },
 "nbformat": 4,
 "nbformat_minor": 2
}
