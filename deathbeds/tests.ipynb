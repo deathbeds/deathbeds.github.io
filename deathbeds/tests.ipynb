{
 "cells": [
  {
   "cell_type": "markdown",
   "metadata": {},
   "source": [
    "# Deathbeds tests\n",
    "\n",
    "Update the local `tricks.yml` to run this.\n",
    "```bash\n",
    "ipython -m deathbeds.2018-07-02-Watch-Testing -- --commands \"'ipython -m tests'\"\n",
    "\n",
    "```"
   ]
  },
  {
   "cell_type": "code",
   "execution_count": 1,
   "metadata": {},
   "outputs": [],
   "source": [
    "import deathbeds\n",
    "from pathlib import Path\n",
    "from IPython.utils.capture import capture_output\n",
    "import os"
   ]
  },
  {
   "cell_type": "code",
   "execution_count": 2,
   "metadata": {},
   "outputs": [],
   "source": [
    "pattern = '''[0-9]*.ipynb'''\n",
    "root = Path(deathbeds.__file__).parent"
   ]
  },
  {
   "cell_type": "code",
   "execution_count": 3,
   "metadata": {},
   "outputs": [],
   "source": [
    "notebooks = \"\"\"2018-06-19-Github-Statistics.ipynb\n",
    "2018-06-19-String-Node-Transformer.ipynb\n",
    "2018-06-20-Interactive-type-checking-with-datashape.ipynb\n",
    "2018-06-22-Show-all-outputs-in-widget.ipynb\n",
    "2018-06-23-Emojis-in-matplotlib.ipynb\n",
    "2018-07-30-Markdown-cells-as-docstrings.ipynb\n",
    "2018-07-31-Testing-notebooks.ipynb\n",
    "2018-08-02-better-pytest-reports-with-notebooks.ipynb\n",
    "2018-08-02-qr-codes-are-magic.ipynb\n",
    "2018-08-03-A-case-for-indented-code.ipynb\n",
    "2018-08-03-Using-click-interactively.ipynb\n",
    "2018-08-04-Notebooks-as-Tidy-DX.ipynb\n",
    "2018-08-13-Flexbox-Transformer.ipynb\n",
    "2018-08-14-Benchmarking-imports.ipynb\n",
    "\"\"\""
   ]
  },
  {
   "cell_type": "code",
   "execution_count": 4,
   "metadata": {},
   "outputs": [],
   "source": [
    "try: notebooks += __import__('cv2') and \\\n",
    "    \"\"\"2018-06-20-OpenCV-and-a-Widget.ipynb\\n\"\"\"\n",
    "except:..."
   ]
  },
  {
   "cell_type": "code",
   "execution_count": 5,
   "metadata": {},
   "outputs": [],
   "source": [
    "opts = __import__('sys').argv[1:] if globals().get('__file__', None) else '--verbose --last-failed'.split() "
   ]
  },
  {
   "cell_type": "code",
   "execution_count": 6,
   "metadata": {},
   "outputs": [
    {
     "name": "stdout",
     "output_type": "stream",
     "text": [
      "============================= test session starts =============================\n",
      "platform win32 -- Python 3.6.5, pytest-3.5.1, py-1.5.3, pluggy-0.6.0 -- C:\\Anaconda3\\python.exe\n",
      "cachedir: .pytest_cache\n",
      "rootdir: C:\\Users\\deathbeds\\deathbeds.github.io\\deathbeds, inifile: tox.ini\n",
      "plugins: testmon-0.9.12, remotedata-0.2.1, openfiles-0.3.0, localserver-0.4.1, doctestplus-0.1.3, arraydiff-0.2, hypothesis-3.66.16, importnb-0.5.0\n",
      "collecting ... collected 4 items / 2 deselected\n",
      "run-last-failure: rerun previous 2 failures\n",
      "\n",
      "2018-07-31-Testing-notebooks.ipynb::test_thing ERROR                     [ 50%]\n",
      "2018-08-02-better-pytest-reports-with-notebooks.ipynb::test_thing FAILED [100%]\n",
      "\n",
      "=================================== ERRORS ====================================\n",
      "________________________ ERROR at setup of test_thing _________________________\n",
      "file c:\\users\\deathbeds\\deathbeds.github.io\\deathbeds\\2018-07-31-Testing-notebooks.ipynb, line 295\n",
      "  def test_thing(a: (range(10), 1)):\n",
      "E       fixture 'a' not found\n",
      ">       available fixtures: cache, capfd, capfdbinary, caplog, capsys, capsysbinary, doctest_namespace, httpserver, httpsserver, monkeypatch, pytestconfig, record_property, record_xml_attribute, record_xml_property, recwarn, smtpserver, tmpdir, tmpdir_factory\n",
      ">       use 'pytest --fixtures [testpath]' for help on them.\n",
      "\n",
      "c:\\users\\deathbeds\\deathbeds.github.io\\deathbeds\\2018-07-31-Testing-notebooks.ipynb:295\n",
      "================================== FAILURES ===================================\n",
      "_________________________________ test_thing __________________________________\n",
      "\n",
      "    def test_thing():\n",
      "        \"\"\"test_thing is test that fails.\"\"\"\n",
      ">       assert False\n",
      "E       AssertionError\n",
      "\n",
      "2018-08-02-better-pytest-reports-with-notebooks.ipynb:58: AssertionError\n",
      "============== 1 failed, 2 deselected, 1 error in 16.62 seconds ===============\n"
     ]
    }
   ],
   "source": [
    "if __name__ == '__main__':\n",
    "    import pytest\n",
    "    cwd = os.getcwd()\n",
    "    try:\n",
    "        os.chdir(str(root))\n",
    "        with capture_output(False, False): pytest.main(list(filter(bool, notebooks.splitlines())) + opts)\n",
    "    finally: os.chdir(cwd)"
   ]
  },
  {
   "cell_type": "code",
   "execution_count": null,
   "metadata": {},
   "outputs": [],
   "source": []
  }
 ],
 "metadata": {
  "kernelspec": {
   "display_name": "Python 3",
   "language": "python",
   "name": "python3"
  },
  "language_info": {
   "codemirror_mode": {
    "name": "ipython",
    "version": 3
   },
   "file_extension": ".py",
   "mimetype": "text/x-python",
   "name": "python",
   "nbconvert_exporter": "python",
   "pygments_lexer": "ipython3",
   "version": "3.6.5"
  }
 },
 "nbformat": 4,
 "nbformat_minor": 2
}
