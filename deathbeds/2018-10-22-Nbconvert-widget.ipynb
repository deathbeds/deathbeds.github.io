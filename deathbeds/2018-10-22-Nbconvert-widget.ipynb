{
 "cells": [
  {
   "cell_type": "markdown",
   "metadata": {},
   "source": [
    "Create a widget to convert notebooks with different conversion parameters."
   ]
  },
  {
   "cell_type": "code",
   "execution_count": 24,
   "metadata": {},
   "outputs": [],
   "source": [
    "    __import__('pidgin').load()\n",
    "    import ipywidgets, nbconvert, traitlets, nbformat, IPython\n",
    "    from toolz.curried import do"
   ]
  },
  {
   "cell_type": "code",
   "execution_count": 24,
   "metadata": {},
   "outputs": [
    {
     "data": {
      "text/markdown": [
       "## Use `ipywidgets, nbconvert and traitlets` to explore the static output of a notebook file."
      ],
      "text/plain": [
       "<IPython.core.display.Markdown object>"
      ]
     },
     "metadata": {},
     "output_type": "display_data"
    }
   ],
   "source": [
    "## Use `ipywidgets, nbconvert and traitlets` to explore the static output of a notebook file."
   ]
  },
  {
   "cell_type": "code",
   "execution_count": 24,
   "metadata": {},
   "outputs": [
    {
     "data": {
      "text/markdown": [
       "Start with the __markdown__ exporter for this demonstation."
      ],
      "text/plain": [
       "<IPython.core.display.Markdown object>"
      ]
     },
     "metadata": {},
     "output_type": "display_data"
    }
   ],
   "source": [
    "Start with the __markdown__ exporter for this demonstation."
   ]
  },
  {
   "cell_type": "code",
   "execution_count": 25,
   "metadata": {},
   "outputs": [],
   "source": [
    "    exporter_name = 'markdown'\n",
    "    export = nbconvert.get_exporter(exporter_name)()"
   ]
  },
  {
   "cell_type": "markdown",
   "metadata": {},
   "source": [
    "Use this file as demonstration.  This value can be decoupled later."
   ]
  },
  {
   "cell_type": "code",
   "execution_count": 26,
   "metadata": {},
   "outputs": [],
   "source": [
    "    notebook_file = \"2018-10-22-Nbconvert-widget.ipynb\"\n",
    "    nb = nbformat.v4.reads(__import__('pathlib').Path(notebook_file).read_text())"
   ]
  },
  {
   "cell_type": "markdown",
   "metadata": {},
   "source": [
    "Create a display widget we can display to."
   ]
  },
  {
   "cell_type": "code",
   "execution_count": 27,
   "metadata": {},
   "outputs": [],
   "source": [
    "    output = ipywidgets.Output()\n",
    "    def show():\n",
    "        result = {'text/markdown': export.from_notebook_node(nb)[0]}\n",
    "        output.clear_output()\n",
    "        with output:\n",
    "            IPython.display.publish_display_data(result)"
   ]
  },
  {
   "cell_type": "code",
   "execution_count": 28,
   "metadata": {},
   "outputs": [],
   "source": [
    "    _ipython_display_ = ipywidgets.VBox([\n",
    "        ipywidgets.HBox([\n",
    "            do(\n",
    "                lambda check: [\n",
    "                    traitlets.link((export, check.description), (check, 'value')),\n",
    "                    check.observe(lambda c: show(), 'value')\n",
    "                ]\n",
    "            )(ipywidgets.Checkbox(description=n) )\n",
    "            for n in export._trait_values if \"exclude\" in n\n",
    "        ], layout=ipywidgets.Layout(display=\"flex\", align_items=\"stretch\", flex_flow=\"wrap\", )),\n",
    "        ipywidgets.HTML(\"<hr/>\"),\n",
    "        output\n",
    "    ])._ipython_display_"
   ]
  },
  {
   "cell_type": "code",
   "execution_count": 29,
   "metadata": {},
   "outputs": [
    {
     "data": {
      "application/vnd.jupyter.widget-view+json": {
       "model_id": "8fbe5f5a3356428e9a949c4e0ea46d05",
       "version_major": 2,
       "version_minor": 0
      },
      "text/plain": [
       "VBox(children=(HBox(children=(Checkbox(value=False, description='exclude_code_cell'), Checkbox(value=False, de…"
      ]
     },
     "metadata": {},
     "output_type": "display_data"
    }
   ],
   "source": [
    "    __import__(__name__)"
   ]
  },
  {
   "cell_type": "markdown",
   "metadata": {},
   "source": [
    "## Further work\n",
    "\n",
    "* Add the exporter type to the widget.\n",
    "* Permit different files int he widget.\n",
    "* Should the results just be cached?"
   ]
  }
 ],
 "metadata": {
  "kernelspec": {
   "display_name": "Python 3",
   "language": "python",
   "name": "python3"
  },
  "language_info": {
   "codemirror_mode": {
    "name": "ipython",
    "version": 3
   },
   "file_extension": ".py",
   "mimetype": "text/x-python",
   "name": "python",
   "nbconvert_exporter": "python",
   "pygments_lexer": "ipython3",
   "version": "3.6.6"
  }
 },
 "nbformat": 4,
 "nbformat_minor": 2
}
