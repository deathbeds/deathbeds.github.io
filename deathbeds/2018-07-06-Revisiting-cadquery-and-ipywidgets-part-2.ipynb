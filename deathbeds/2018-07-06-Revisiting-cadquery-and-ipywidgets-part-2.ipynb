{
 "cells": [
  {
   "cell_type": "code",
   "execution_count": null,
   "metadata": {},
   "outputs": [],
   "source": [
    "%reload_ext importnb\n",
    "from importnb import Notebook\n",
    "import pandas as pd\n",
    "import cadquery as cq\n",
    "import traitlets as T\n",
    "import ipywidgets as W\n",
    "import pythreejs as TJ\n",
    "import numpy as np\n",
    "from IPython.display import SVG"
   ]
  },
  {
   "cell_type": "markdown",
   "metadata": {},
   "source": [
    "```bash\n",
    "jupyter labextension install jupyter-threejs\n",
    "```"
   ]
  },
  {
   "cell_type": "markdown",
   "metadata": {},
   "source": [
    "## Not exactly lightweight\n",
    "Under the hood, `cadquery`'s`FreeCad` dependency chain is actually quite deep, while the widget frontend engine, ThreeJS may make your JupyterLab frontend quite large. \n",
    "\n",
    "\n",
    "## Performant, enough... for now\n",
    "Using `BufferGeometry` and `BufferAttribute` is very attractive, but needs to wait for the next release. FreeCAD will also offer some no-copy numpy arrays... in the next release. We'll also take a look at some other options like [`vtk.js`](https://kitware.github.io/vtk-js/index.html) in the future."
   ]
  },
  {
   "cell_type": "code",
   "execution_count": null,
   "metadata": {},
   "outputs": [],
   "source": [
    "import __Revisiting_cadquery_and_ipywidgets_part_1 as CAD"
   ]
  },
  {
   "cell_type": "code",
   "execution_count": null,
   "metadata": {},
   "outputs": [],
   "source": [
    "if __name__ == \"__main__\":\n",
    "    part = CAD.make_a_box_with_a_hole()"
   ]
  },
  {
   "cell_type": "markdown",
   "metadata": {},
   "source": [
    "One of the important features of a CAD kernel is __meshing__, taking geometric primitives and turning them into the facets that can be rendered efficiently."
   ]
  },
  {
   "cell_type": "code",
   "execution_count": null,
   "metadata": {},
   "outputs": [],
   "source": [
    "def get_vertices_and_faces_of_a_part(part, tolerance=0.001):\n",
    "    vertices, faces = part.findSolid().wrapped.tessellate(tolerance)\n",
    "    return np.array(vertices, dtype=np.float32), np.array(faces, dtype=np.int32)"
   ]
  },
  {
   "cell_type": "code",
   "execution_count": null,
   "metadata": {},
   "outputs": [],
   "source": [
    "if __name__ == \"__main__\":\n",
    "    %timeit get_vertices_and_faces_of_a_part(part)"
   ]
  },
  {
   "cell_type": "markdown",
   "metadata": {},
   "source": [
    "Even the simple part above makes a lot of geometry."
   ]
  },
  {
   "cell_type": "code",
   "execution_count": null,
   "metadata": {},
   "outputs": [],
   "source": [
    "if __name__ == \"__main__\":\n",
    "    display(*list(map(lambda x: x.shape, get_vertices_and_faces_of_a_part(part))))"
   ]
  },
  {
   "cell_type": "markdown",
   "metadata": {},
   "source": [
    "Here's a widget that will render a single `cadquery` Part in a pythreejs renderer."
   ]
  },
  {
   "cell_type": "code",
   "execution_count": null,
   "metadata": {},
   "outputs": [],
   "source": [
    "class THREECAD(W.HBox):\n",
    "    part = T.Instance(cq.CQ, allow_none=True)\n",
    "    mesh = T.Instance(TJ.Mesh)\n",
    "    lights = T.Tuple()\n",
    "    camera = T.Instance(TJ.Camera)\n",
    "    scene = T.Instance(TJ.Scene)\n",
    "    renderer = T.Instance(TJ.Renderer)\n",
    "    tolerance = T.Float(0.1)\n",
    "    \n",
    "    def __init__(self, **kwargs):\n",
    "        super().__init__(**kwargs)\n",
    "        \n",
    "        self.part = cq.Workplane(\"XY\").box(*([1] * 3))\n",
    "        vertices, faces = get_vertices_and_faces_of_a_part(self.part, self.tolerance)\n",
    "        \n",
    "        self.mesh = TJ.Mesh(\n",
    "            geometry=TJ.Geometry(\n",
    "                vertices=vertices.tolist(),\n",
    "                faces=faces.tolist()\n",
    "            ),\n",
    "            material=TJ.MeshLambertMaterial(\n",
    "                wireframe=True,\n",
    "                wireframeLinewidth=2,\n",
    "                opacity=0.1,\n",
    "                transparent=True,\n",
    "            ),\n",
    "        )\n",
    "    \n",
    "        self.lights = [\n",
    "            TJ.PointLight(\n",
    "                color='white', \n",
    "                position=[20] * 3, \n",
    "                intensity=0.75, \n",
    "                target=self.mesh,\n",
    "            ),\n",
    "            TJ.AmbientLight(color='#000000'),\n",
    "        ]\n",
    "        self.camera = TJ.PerspectiveCamera(position=[30] * 3)\n",
    "        self.scene = TJ.Scene(children=[\n",
    "            *self.lights,\n",
    "            self.camera,\n",
    "            self.mesh,\n",
    "        ])\n",
    "    \n",
    "        self.renderer = TJ.Renderer(\n",
    "            scene=self.scene,\n",
    "            camera=self.camera,\n",
    "            width=400,\n",
    "            height=400,\n",
    "            controls=[TJ.OrbitControls(controlling=self.camera)],\n",
    "        )\n",
    "        \n",
    "        self.children = [self.renderer]\n",
    "        self.observe(self._on_part_changed, \"part\")\n",
    "    \n",
    "    def _on_part_changed(self, change=None):\n",
    "        vertices, faces = get_vertices_and_faces_of_a_part(self.part, self.tolerance)\n",
    "        self.mesh.geometry = TJ.Geometry(vertices=vertices.tolist(), faces=faces.tolist())"
   ]
  },
  {
   "cell_type": "markdown",
   "metadata": {},
   "source": [
    "## Have to try that out"
   ]
  },
  {
   "cell_type": "code",
   "execution_count": null,
   "metadata": {},
   "outputs": [],
   "source": [
    "if __name__ == \"__main__\":\n",
    "    try: del cad\n",
    "    except: pass\n",
    "    cad = THREECAD()\n",
    "    cad.part = part\n",
    "    display(cad)"
   ]
  },
  {
   "cell_type": "markdown",
   "metadata": {},
   "source": [
    "## A 3D Bottle\n",
    "Let's try the classic OCC Bottle in the 3d renderer. "
   ]
  },
  {
   "cell_type": "code",
   "execution_count": null,
   "metadata": {},
   "outputs": [],
   "source": [
    "if __name__ == \"__main__\":\n",
    "    def interactively_make_a_bottle_in_3d(\n",
    "       length=(0.1, 20.0),\n",
    "       width=(0.1, 10.0),\n",
    "       extent=(0.1, 6.0),\n",
    "       height=(0.1, 40.0),\n",
    "       neck_width=(0.1, 3.0),\n",
    "       neck_height=(0.1, 6.0),\n",
    "       shell=(0.01, 1.0),\n",
    "    ):\n",
    "        print(\"mesh\")\n",
    "        #cad.part = CAD.make_a_box_with_a_hole()\n",
    "        cad.part = CAD.make_a_bottle_with_a_hole(\n",
    "            length, width, extent, height, neck_width, neck_height, shell\n",
    "        )\n",
    "\n",
    "    bottle = W.interact(interactively_make_a_bottle_in_3d)"
   ]
  },
  {
   "cell_type": "code",
   "execution_count": null,
   "metadata": {},
   "outputs": [],
   "source": [
    "if __name__ == \"__main__\":\n",
    "    cad.renderer.width = cad.renderer.height = 800\n",
    "    display(cad)"
   ]
  }
 ],
 "metadata": {
  "kernelspec": {
   "display_name": "Python 3",
   "language": "python",
   "name": "python3"
  },
  "language_info": {
   "codemirror_mode": {
    "name": "ipython",
    "version": 3
   },
   "file_extension": ".py",
   "mimetype": "text/x-python",
   "name": "python",
   "nbconvert_exporter": "python",
   "pygments_lexer": "ipython3",
   "version": "3.6.6"
  }
 },
 "nbformat": 4,
 "nbformat_minor": 2
}
