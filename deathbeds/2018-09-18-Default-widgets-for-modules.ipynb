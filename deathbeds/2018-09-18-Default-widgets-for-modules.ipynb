{
 "cells": [
  {
   "cell_type": "markdown",
   "metadata": {},
   "source": [
    "# Use parameterize to turn a notebook into a widget.\n",
    "\n",
    "![](https://user-images.githubusercontent.com/4236275/45729213-7c06a200-bb99-11e8-98f8-99cfaa81f16b.png)"
   ]
  },
  {
   "cell_type": "code",
   "execution_count": 16,
   "metadata": {},
   "outputs": [
    {
     "data": {
      "text/markdown": [],
      "text/plain": [
       "<IPython.core.display.Markdown object>"
      ]
     },
     "metadata": {},
     "output_type": "display_data"
    },
    {
     "data": {
      "text/markdown": [
       "Use `importnb.Parameterize` to create a default widget for a module.  We will display the widget in a `sidecar`.\n"
      ],
      "text/plain": [
       "<IPython.core.display.Markdown object>"
      ]
     },
     "metadata": {},
     "output_type": "display_data"
    },
    {
     "name": "stdout",
     "output_type": "stream",
     "text": [
      "------> importnb.Parameterize\n",
      "------> sidecar\n"
     ]
    },
    {
     "data": {
      "text/markdown": [],
      "text/plain": [
       "<IPython.core.display.Markdown object>"
      ]
     },
     "metadata": {},
     "output_type": "display_data"
    },
    {
     "data": {
      "text/plain": [
       "<module 'sidecar' from '/Users/tonyfast/anaconda/envs/p6/lib/python3.6/site-packages/sidecar/__init__.py'>"
      ]
     },
     "execution_count": 16,
     "metadata": {},
     "output_type": "execute_result"
    }
   ],
   "source": [
    "Use `importnb.Parameterize` to create a default widget for a module.  We will display the widget in a `sidecar`.  "
   ]
  },
  {
   "cell_type": "code",
   "execution_count": 18,
   "metadata": {},
   "outputs": [],
   "source": [
    "import IPython, ipywidgets, sidecar, ast, pandas, importnb"
   ]
  },
  {
   "cell_type": "markdown",
   "metadata": {},
   "source": [
    "Make a `pandas.DataFrame` if one doesn't exist."
   ]
  },
  {
   "cell_type": "code",
   "execution_count": 20,
   "metadata": {},
   "outputs": [],
   "source": [
    "df = IPython.get_ipython().user_ns.get('df', pandas.util.testing.makeDataFrame())"
   ]
  },
  {
   "cell_type": "markdown",
   "metadata": {},
   "source": [
    "Our `Widget` `object` will take `importnb.Parameterize` expressions and expose them as `ipywidgets`.  The values may be changed and the module may be reloaded."
   ]
  },
  {
   "cell_type": "code",
   "execution_count": 23,
   "metadata": {},
   "outputs": [],
   "source": [
    "class Widget(importnb.Parameterize):\n",
    "    def exec_module(self, module, sc = None):\n",
    "        sc = sc or sidecar.Sidecar(title=self.name)\n",
    "        with sc:\n",
    "            reloader(module, sc)\n",
    "            for name, value in module.__loader__.globals.items():\n",
    "                object = ipywidgets.Text(description=name, value=str(value))\n",
    "                IPython.display.display(object)\n",
    "                observer(module, object)\n",
    "            IPython.display.display(IPython.display.Markdown('---'))\n",
    "            super().exec_module(module)"
   ]
  },
  {
   "cell_type": "markdown",
   "metadata": {},
   "source": [
    "`observer` changes the `importnb.Parameterize.globals` so the module may be reloaded under different conditions."
   ]
  },
  {
   "cell_type": "code",
   "execution_count": 31,
   "metadata": {},
   "outputs": [],
   "source": [
    "def observer(module, widget):\n",
    "    def caller(change):\n",
    "        module.__loader__.globals.update({widget.description: ast.literal_eval(change['new'])})\n",
    "    widget.observe(caller, names=['value'])"
   ]
  },
  {
   "cell_type": "markdown",
   "metadata": {},
   "source": [
    "`reloader` creates a button to reload a module with."
   ]
  },
  {
   "cell_type": "code",
   "execution_count": 33,
   "metadata": {},
   "outputs": [],
   "source": [
    "def reloader(module, sc):\n",
    "    def click(*_):\n",
    "        with Widget(**module.__dict__):\n",
    "            sc.clear_output()\n",
    "            module.__loader__.exec_module(module, sc)\n",
    "    button = ipywidgets.Button(description='reload')\n",
    "    button.on_click(click)\n",
    "    IPython.display.display(button)"
   ]
  },
  {
   "cell_type": "markdown",
   "metadata": {},
   "source": [
    "`rows and columns` are some parameters to experiment with."
   ]
  },
  {
   "cell_type": "code",
   "execution_count": 35,
   "metadata": {},
   "outputs": [],
   "source": [
    "rows = 5\n",
    "columns = ['A', 'B']"
   ]
  },
  {
   "cell_type": "code",
   "execution_count": 36,
   "metadata": {},
   "outputs": [
    {
     "data": {
      "text/markdown": [],
      "text/plain": [
       "<IPython.core.display.Markdown object>"
      ]
     },
     "metadata": {},
     "output_type": "display_data"
    },
    {
     "data": {
      "text/markdown": [
       "Creating the `_ipython_display_` function will create a default rich display view of the module.\n"
      ],
      "text/plain": [
       "<IPython.core.display.Markdown object>"
      ]
     },
     "metadata": {},
     "output_type": "display_data"
    },
    {
     "name": "stdout",
     "output_type": "stream",
     "text": [
      "------> _ipython_display_\n"
     ]
    },
    {
     "data": {
      "text/markdown": [],
      "text/plain": [
       "<IPython.core.display.Markdown object>"
      ]
     },
     "metadata": {},
     "output_type": "display_data"
    },
    {
     "data": {
      "text/plain": [
       "<function __main__._ipython_display_()>"
      ]
     },
     "execution_count": 36,
     "metadata": {},
     "output_type": "execute_result"
    }
   ],
   "source": [
    "Creating the `_ipython_display_` function will create a default rich display view of the module."
   ]
  },
  {
   "cell_type": "code",
   "execution_count": 37,
   "metadata": {},
   "outputs": [],
   "source": [
    "def _ipython_display_():\n",
    "    IPython.display.display(df.iloc[:rows][columns].describe())\n",
    "    assert globals().get('nb').rows == rows, \"\"\"The value was not updated\"\"\""
   ]
  },
  {
   "cell_type": "code",
   "execution_count": 38,
   "metadata": {},
   "outputs": [],
   "source": [
    "if __name__ == '__main__':\n",
    "    with Widget(rows=rows, columns=columns):\n",
    "        import __07_27_Untitled4 as nb"
   ]
  },
  {
   "cell_type": "code",
   "execution_count": 39,
   "metadata": {},
   "outputs": [
    {
     "data": {
      "text/html": [
       "<div>\n",
       "<style scoped>\n",
       "    .dataframe tbody tr th:only-of-type {\n",
       "        vertical-align: middle;\n",
       "    }\n",
       "\n",
       "    .dataframe tbody tr th {\n",
       "        vertical-align: top;\n",
       "    }\n",
       "\n",
       "    .dataframe thead th {\n",
       "        text-align: right;\n",
       "    }\n",
       "</style>\n",
       "<table border=\"1\" class=\"dataframe\">\n",
       "  <thead>\n",
       "    <tr style=\"text-align: right;\">\n",
       "      <th></th>\n",
       "      <th>A</th>\n",
       "      <th>B</th>\n",
       "      <th>C</th>\n",
       "    </tr>\n",
       "  </thead>\n",
       "  <tbody>\n",
       "    <tr>\n",
       "      <th>count</th>\n",
       "      <td>10.000000</td>\n",
       "      <td>10.000000</td>\n",
       "      <td>10.000000</td>\n",
       "    </tr>\n",
       "    <tr>\n",
       "      <th>mean</th>\n",
       "      <td>0.337681</td>\n",
       "      <td>0.187146</td>\n",
       "      <td>-0.312534</td>\n",
       "    </tr>\n",
       "    <tr>\n",
       "      <th>std</th>\n",
       "      <td>1.116786</td>\n",
       "      <td>0.912780</td>\n",
       "      <td>1.059080</td>\n",
       "    </tr>\n",
       "    <tr>\n",
       "      <th>min</th>\n",
       "      <td>-1.307002</td>\n",
       "      <td>-1.391571</td>\n",
       "      <td>-2.285756</td>\n",
       "    </tr>\n",
       "    <tr>\n",
       "      <th>25%</th>\n",
       "      <td>-0.529809</td>\n",
       "      <td>-0.316863</td>\n",
       "      <td>-0.581636</td>\n",
       "    </tr>\n",
       "    <tr>\n",
       "      <th>50%</th>\n",
       "      <td>0.233798</td>\n",
       "      <td>0.118047</td>\n",
       "      <td>-0.440658</td>\n",
       "    </tr>\n",
       "    <tr>\n",
       "      <th>75%</th>\n",
       "      <td>1.236630</td>\n",
       "      <td>0.618056</td>\n",
       "      <td>0.184307</td>\n",
       "    </tr>\n",
       "    <tr>\n",
       "      <th>max</th>\n",
       "      <td>1.762426</td>\n",
       "      <td>2.038275</td>\n",
       "      <td>1.694824</td>\n",
       "    </tr>\n",
       "  </tbody>\n",
       "</table>\n",
       "</div>"
      ],
      "text/plain": [
       "               A          B          C\n",
       "count  10.000000  10.000000  10.000000\n",
       "mean    0.337681   0.187146  -0.312534\n",
       "std     1.116786   0.912780   1.059080\n",
       "min    -1.307002  -1.391571  -2.285756\n",
       "25%    -0.529809  -0.316863  -0.581636\n",
       "50%     0.233798   0.118047  -0.440658\n",
       "75%     1.236630   0.618056   0.184307\n",
       "max     1.762426   2.038275   1.694824"
      ]
     },
     "metadata": {},
     "output_type": "display_data"
    }
   ],
   "source": [
    "IPython.display.display(nb)"
   ]
  }
 ],
 "metadata": {
  "kernelspec": {
   "display_name": "p6",
   "language": "python",
   "name": "other-env"
  },
  "language_info": {
   "codemirror_mode": {
    "name": "ipython",
    "version": 3
   },
   "file_extension": ".py",
   "mimetype": "text/x-python",
   "name": "python",
   "nbconvert_exporter": "python",
   "pygments_lexer": "ipython3",
   "version": "3.6.3"
  }
 },
 "nbformat": 4,
 "nbformat_minor": 2
}
