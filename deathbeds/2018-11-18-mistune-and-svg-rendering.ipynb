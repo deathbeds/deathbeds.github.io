{
 "cells": [
  {
   "cell_type": "markdown",
   "metadata": {},
   "source": [
    "Variations of `mistune` rendering to embed `graphviz` in markdown lists."
   ]
  },
  {
   "cell_type": "code",
   "execution_count": 19,
   "metadata": {},
   "outputs": [],
   "source": [
    "    import mistune, graphviz, IPython"
   ]
  },
  {
   "cell_type": "code",
   "execution_count": 20,
   "metadata": {},
   "outputs": [],
   "source": [
    "    def strip_graphviz_headers(Source):\n",
    "        str = Source._repr_svg_()\n",
    "        # Mistune does a bad job of handling inline comments.\n",
    "        for i in range(4): str = str.partition('>')[2]\n",
    "            \n",
    "        # Mistune has a hard time with the xmlns information.\n",
    "        for year in (1999, 2000): str = str.replace(F'xmlns:xlink=\"http://www.w3.org/{year}/xlink\"', '')\n",
    "        return str.lstrip()"
   ]
  },
  {
   "cell_type": "code",
   "execution_count": 21,
   "metadata": {},
   "outputs": [],
   "source": [
    "    sample = F\"\"\"A list of graphviz graphs.\n",
    "    \n",
    "    * {strip_graphviz_headers(graphviz.Source(\"graph {A}\"))}\n",
    "    * {strip_graphviz_headers(graphviz.Source(\"graph {B}\"))}\"\"\""
   ]
  },
  {
   "cell_type": "markdown",
   "metadata": {},
   "source": [
    "* Escaped markdown (_default_)."
   ]
  },
  {
   "cell_type": "code",
   "execution_count": 22,
   "metadata": {},
   "outputs": [
    {
     "data": {
      "text/markdown": [
       "<p>A list of graphviz graphs.</p>\n",
       "<ul>\n",
       "<li><p>&lt;svg width=\"62pt\" height=\"44pt\"\n",
       "viewBox=\"0.00 0.00 62.00 44.00\" xmlns=\"http://www.w3.org/2000/svg\" &gt;\n",
       "&lt;g id=\"graph0\" class=\"graph\" transform=\"scale(1 1) rotate(0) translate(4 40)\"&gt;\n",
       "&lt;title&gt;%3&lt;/title&gt;\n",
       "&lt;polygon fill=\"white\" stroke=\"none\" points=\"-4,4 -4,-40 58,-40 58,4 -4,4\"/&gt;\n",
       "&lt;!-- A --&gt;\n",
       "&lt;g id=\"node1\" class=\"node\"&gt;&lt;title&gt;A&lt;/title&gt;\n",
       "&lt;ellipse fill=\"none\" stroke=\"black\" cx=\"27\" cy=\"-18\" rx=\"27\" ry=\"18\"/&gt;\n",
       "&lt;text text-anchor=\"middle\" x=\"27\" y=\"-14.3\" font-family=\"Times New Roman,serif\" font-size=\"14.00\"&gt;A&lt;/text&gt;\n",
       "&lt;/g&gt;\n",
       "&lt;/g&gt;\n",
       "&lt;/svg&gt;</p>\n",
       "</li>\n",
       "<li><p>&lt;svg width=\"62pt\" height=\"44pt\"\n",
       "viewBox=\"0.00 0.00 62.00 44.00\" xmlns=\"http://www.w3.org/2000/svg\" &gt;\n",
       "&lt;g id=\"graph0\" class=\"graph\" transform=\"scale(1 1) rotate(0) translate(4 40)\"&gt;\n",
       "&lt;title&gt;%3&lt;/title&gt;\n",
       "&lt;polygon fill=\"white\" stroke=\"none\" points=\"-4,4 -4,-40 58,-40 58,4 -4,4\"/&gt;\n",
       "&lt;!-- B --&gt;\n",
       "&lt;g id=\"node1\" class=\"node\"&gt;&lt;title&gt;B&lt;/title&gt;\n",
       "&lt;ellipse fill=\"none\" stroke=\"black\" cx=\"27\" cy=\"-18\" rx=\"27\" ry=\"18\"/&gt;\n",
       "&lt;text text-anchor=\"middle\" x=\"27\" y=\"-14.3\" font-family=\"Times New Roman,serif\" font-size=\"14.00\"&gt;B&lt;/text&gt;\n",
       "&lt;/g&gt;\n",
       "&lt;/g&gt;\n",
       "&lt;/svg&gt;</p>\n",
       "</li>\n",
       "</ul>\n"
      ],
      "text/plain": [
       "<IPython.core.display.Markdown object>"
      ]
     },
     "execution_count": 22,
     "metadata": {},
     "output_type": "execute_result"
    }
   ],
   "source": [
    "    IPython.display.Markdown(mistune.markdown(sample))"
   ]
  },
  {
   "cell_type": "markdown",
   "metadata": {},
   "source": [
    "* Unescaped markdown"
   ]
  },
  {
   "cell_type": "code",
   "execution_count": 23,
   "metadata": {},
   "outputs": [
    {
     "data": {
      "text/html": [
       "<p>A list of graphviz graphs.</p>\n",
       "<ul>\n",
       "<li><p><svg width=\"62pt\" height=\"44pt\"\n",
       "viewBox=\"0.00 0.00 62.00 44.00\" xmlns=\"http://www.w3.org/2000/svg\" >\n",
       "<g id=\"graph0\" class=\"graph\" transform=\"scale(1 1) rotate(0) translate(4 40)\">\n",
       "<title>%3</title>\n",
       "<polygon fill=\"white\" stroke=\"none\" points=\"-4,4 -4,-40 58,-40 58,4 -4,4\"/>\n",
       "<!-- A -->\n",
       "<g id=\"node1\" class=\"node\"><title>A</title>\n",
       "<ellipse fill=\"none\" stroke=\"black\" cx=\"27\" cy=\"-18\" rx=\"27\" ry=\"18\"/>\n",
       "<text text-anchor=\"middle\" x=\"27\" y=\"-14.3\" font-family=\"Times New Roman,serif\" font-size=\"14.00\">A</text>\n",
       "</g>\n",
       "</g>\n",
       "</svg></p>\n",
       "</li>\n",
       "<li><p><svg width=\"62pt\" height=\"44pt\"\n",
       "viewBox=\"0.00 0.00 62.00 44.00\" xmlns=\"http://www.w3.org/2000/svg\" >\n",
       "<g id=\"graph0\" class=\"graph\" transform=\"scale(1 1) rotate(0) translate(4 40)\">\n",
       "<title>%3</title>\n",
       "<polygon fill=\"white\" stroke=\"none\" points=\"-4,4 -4,-40 58,-40 58,4 -4,4\"/>\n",
       "<!-- B -->\n",
       "<g id=\"node1\" class=\"node\"><title>B</title>\n",
       "<ellipse fill=\"none\" stroke=\"black\" cx=\"27\" cy=\"-18\" rx=\"27\" ry=\"18\"/>\n",
       "<text text-anchor=\"middle\" x=\"27\" y=\"-14.3\" font-family=\"Times New Roman,serif\" font-size=\"14.00\">B</text>\n",
       "</g>\n",
       "</g>\n",
       "</svg></p>\n",
       "</li>\n",
       "</ul>\n"
      ],
      "text/plain": [
       "<IPython.core.display.HTML object>"
      ]
     },
     "execution_count": 23,
     "metadata": {},
     "output_type": "execute_result"
    }
   ],
   "source": [
    "    IPython.display.HTML(mistune.markdown(sample, escape=False))"
   ]
  },
  {
   "cell_type": "markdown",
   "metadata": {},
   "source": [
    "* Un escaped markdown with the parsing directions."
   ]
  },
  {
   "cell_type": "code",
   "execution_count": 24,
   "metadata": {},
   "outputs": [
    {
     "data": {
      "text/html": [
       "<p>A list of graphviz graphs.</p>\n",
       "<ul>\n",
       "<li><p><svg width=\"62pt\" height=\"44pt\"\n",
       "viewBox=\"0.00 0.00 62.00 44.00\" xmlns=\"http://www.w3.org/2000/svg\" >\n",
       "<g id=\"graph0\" class=\"graph\" transform=\"scale(1 1) rotate(0) translate(4 40)\">\n",
       "<title>%3</title>\n",
       "<polygon fill=\"white\" stroke=\"none\" points=\"-4,4 -4,-40 58,-40 58,4 -4,4\"/>\n",
       "<!-- A -->\n",
       "<g id=\"node1\" class=\"node\"><title>A</title>\n",
       "<ellipse fill=\"none\" stroke=\"black\" cx=\"27\" cy=\"-18\" rx=\"27\" ry=\"18\"/>\n",
       "<text text-anchor=\"middle\" x=\"27\" y=\"-14.3\" font-family=\"Times New Roman,serif\" font-size=\"14.00\">A</text>\n",
       "</g>\n",
       "</g>\n",
       "</svg></p>\n",
       "</li>\n",
       "<li><p><svg width=\"62pt\" height=\"44pt\"\n",
       "viewBox=\"0.00 0.00 62.00 44.00\" xmlns=\"http://www.w3.org/2000/svg\" >\n",
       "<g id=\"graph0\" class=\"graph\" transform=\"scale(1 1) rotate(0) translate(4 40)\">\n",
       "<title>%3</title>\n",
       "<polygon fill=\"white\" stroke=\"none\" points=\"-4,4 -4,-40 58,-40 58,4 -4,4\"/>\n",
       "<!-- B -->\n",
       "<g id=\"node1\" class=\"node\"><title>B</title>\n",
       "<ellipse fill=\"none\" stroke=\"black\" cx=\"27\" cy=\"-18\" rx=\"27\" ry=\"18\"/>\n",
       "<text text-anchor=\"middle\" x=\"27\" y=\"-14.3\" font-family=\"Times New Roman,serif\" font-size=\"14.00\">B</text>\n",
       "</g>\n",
       "</g>\n",
       "</svg></p>\n",
       "</li>\n",
       "</ul>\n"
      ],
      "text/plain": [
       "<IPython.core.display.HTML object>"
      ]
     },
     "execution_count": 24,
     "metadata": {},
     "output_type": "execute_result"
    }
   ],
   "source": [
    "    IPython.display.HTML(mistune.markdown(sample, escape=False, parse_block_html=True, parse_inline_html=True))"
   ]
  },
  {
   "cell_type": "markdown",
   "metadata": {},
   "source": [
    "The winner is escaped Markdown with some preliminary parsing to remove unresolved parsing instructions for `mistune.`"
   ]
  },
  {
   "cell_type": "code",
   "execution_count": 39,
   "metadata": {},
   "outputs": [
    {
     "data": {
      "text/html": [
       "<p>A list of graphviz graphs.</p>\n",
       "<ul>\n",
       "<li><p><!-- Generated by graphviz version 2.38.0 (20140413.2041)\n",
       "-->\n",
       "<!-- Title: %3 Pages: 1 -->\n",
       "<svg width=\"62pt\" height=\"44pt\"\n",
       "viewBox=\"0.00 0.00 62.00 44.00\" xmlns=\"<a href=\"http://www.w3.org/2000/svg\">http://www.w3.org/2000/svg</a>\" xmlns:xlink=\"<a href=\"http://www.w3.org/1999/xlink&quot;&gt;\">http://www.w3.org/1999/xlink&quot;&gt;</a>\n",
       "<g id=\"graph0\" class=\"graph\" transform=\"scale(1 1) rotate(0) translate(4 40)\">\n",
       "<title>%3</title>\n",
       "<polygon fill=\"white\" stroke=\"none\" points=\"-4,4 -4,-40 58,-40 58,4 -4,4\"/>\n",
       "<!-- A -->\n",
       "<g id=\"node1\" class=\"node\"><title>A</title>\n",
       "<ellipse fill=\"none\" stroke=\"black\" cx=\"27\" cy=\"-18\" rx=\"27\" ry=\"18\"/>\n",
       "<text text-anchor=\"middle\" x=\"27\" y=\"-14.3\" font-family=\"Times New Roman,serif\" font-size=\"14.00\">A</text>\n",
       "</g>\n",
       "</g>\n",
       "</svg></p>\n",
       "</li>\n",
       "<li><p><!-- Generated by graphviz version 2.38.0 (20140413.2041)\n",
       "-->\n",
       "<!-- Title: %3 Pages: 1 -->\n",
       "<svg width=\"62pt\" height=\"44pt\"\n",
       "viewBox=\"0.00 0.00 62.00 44.00\" xmlns=\"<a href=\"http://www.w3.org/2000/svg\">http://www.w3.org/2000/svg</a>\" xmlns:xlink=\"<a href=\"http://www.w3.org/1999/xlink&quot;&gt;\">http://www.w3.org/1999/xlink&quot;&gt;</a>\n",
       "<g id=\"graph0\" class=\"graph\" transform=\"scale(1 1) rotate(0) translate(4 40)\">\n",
       "<title>%3</title>\n",
       "<polygon fill=\"white\" stroke=\"none\" points=\"-4,4 -4,-40 58,-40 58,4 -4,4\"/>\n",
       "<!-- B -->\n",
       "<g id=\"node1\" class=\"node\"><title>B</title>\n",
       "<ellipse fill=\"none\" stroke=\"black\" cx=\"27\" cy=\"-18\" rx=\"27\" ry=\"18\"/>\n",
       "<text text-anchor=\"middle\" x=\"27\" y=\"-14.3\" font-family=\"Times New Roman,serif\" font-size=\"14.00\">B</text>\n",
       "</g>\n",
       "</g>\n",
       "</svg></p>\n",
       "</li>\n",
       "</ul>\n"
      ],
      "text/plain": [
       "<IPython.core.display.HTML object>"
      ]
     },
     "execution_count": 39,
     "metadata": {},
     "output_type": "execute_result"
    }
   ],
   "source": [
    "    IPython.display.HTML(mistune.markdown(source, escape=False, parse_block_html=True, parse_inline_html=True))"
   ]
  },
  {
   "cell_type": "code",
   "execution_count": 40,
   "metadata": {},
   "outputs": [
    {
     "data": {
      "text/html": [
       "<p>A list of graphviz graphs.</p>\n",
       "<ul>\n",
       "<li><p><!-- Generated by graphviz version 2.38.0 (20140413.2041)\n",
       "-->\n",
       "<!-- Title: %3 Pages: 1 -->\n",
       "<svg width=\"62pt\" height=\"44pt\"\n",
       "viewBox=\"0.00 0.00 62.00 44.00\" xmlns=\"<a href=\"http://www.w3.org/2000/svg\">http://www.w3.org/2000/svg</a>\" xmlns:xlink=\"<a href=\"http://www.w3.org/1999/xlink&quot;&gt;\">http://www.w3.org/1999/xlink&quot;&gt;</a>\n",
       "<g id=\"graph0\" class=\"graph\" transform=\"scale(1 1) rotate(0) translate(4 40)\">\n",
       "<title>%3</title>\n",
       "<polygon fill=\"white\" stroke=\"none\" points=\"-4,4 -4,-40 58,-40 58,4 -4,4\"/>\n",
       "<!-- A -->\n",
       "<g id=\"node1\" class=\"node\"><title>A</title>\n",
       "<ellipse fill=\"none\" stroke=\"black\" cx=\"27\" cy=\"-18\" rx=\"27\" ry=\"18\"/>\n",
       "<text text-anchor=\"middle\" x=\"27\" y=\"-14.3\" font-family=\"Times New Roman,serif\" font-size=\"14.00\">A</text>\n",
       "</g>\n",
       "</g>\n",
       "</svg></p>\n",
       "</li>\n",
       "<li><p><!-- Generated by graphviz version 2.38.0 (20140413.2041)\n",
       "-->\n",
       "<!-- Title: %3 Pages: 1 -->\n",
       "<svg width=\"62pt\" height=\"44pt\"\n",
       "viewBox=\"0.00 0.00 62.00 44.00\" xmlns=\"<a href=\"http://www.w3.org/2000/svg\">http://www.w3.org/2000/svg</a>\" xmlns:xlink=\"<a href=\"http://www.w3.org/1999/xlink&quot;&gt;\">http://www.w3.org/1999/xlink&quot;&gt;</a>\n",
       "<g id=\"graph0\" class=\"graph\" transform=\"scale(1 1) rotate(0) translate(4 40)\">\n",
       "<title>%3</title>\n",
       "<polygon fill=\"white\" stroke=\"none\" points=\"-4,4 -4,-40 58,-40 58,4 -4,4\"/>\n",
       "<!-- B -->\n",
       "<g id=\"node1\" class=\"node\"><title>B</title>\n",
       "<ellipse fill=\"none\" stroke=\"black\" cx=\"27\" cy=\"-18\" rx=\"27\" ry=\"18\"/>\n",
       "<text text-anchor=\"middle\" x=\"27\" y=\"-14.3\" font-family=\"Times New Roman,serif\" font-size=\"14.00\">B</text>\n",
       "</g>\n",
       "</g>\n",
       "</svg></p>\n",
       "</li>\n",
       "</ul>\n"
      ],
      "text/plain": [
       "<IPython.core.display.HTML object>"
      ]
     },
     "execution_count": 40,
     "metadata": {},
     "output_type": "execute_result"
    }
   ],
   "source": [
    "    IPython.display.HTML(mistune.markdown(source, escape=False, parse_block_html=True, parse_inline_html=True))"
   ]
  },
  {
   "cell_type": "code",
   "execution_count": 6,
   "metadata": {},
   "outputs": [
    {
     "data": {
      "text/html": [
       "<p>A list of graphviz graphs.</p>\n",
       "<ul>\n",
       "<li><p><?xml version=\"1.0\" encoding=\"UTF-8\" standalone=\"no\"?>\n",
       "<!DOCTYPE svg PUBLIC \"-//W3C//DTD SVG 1.1//EN\"\n",
       "\"<a href=\"http://www.w3.org/Graphics/SVG/1.1/DTD/svg11.dtd&quot;&gt;\">http://www.w3.org/Graphics/SVG/1.1/DTD/svg11.dtd&quot;&gt;</a>\n",
       "<!-- Generated by graphviz version 2.38.0 (20140413.2041)\n",
       "-->\n",
       "<!-- Title: %3 Pages: 1 -->\n",
       "<svg width=\"62pt\" height=\"44pt\"\n",
       "viewBox=\"0.00 0.00 62.00 44.00\" xmlns=\"<a href=\"http://www.w3.org/2000/svg\">http://www.w3.org/2000/svg</a>\" xmlns:xlink=\"<a href=\"http://www.w3.org/1999/xlink&quot;&gt;\">http://www.w3.org/1999/xlink&quot;&gt;</a>\n",
       "<g id=\"graph0\" class=\"graph\" transform=\"scale(1 1) rotate(0) translate(4 40)\">\n",
       "<title>%3</title>\n",
       "<polygon fill=\"white\" stroke=\"none\" points=\"-4,4 -4,-40 58,-40 58,4 -4,4\"/>\n",
       "<!-- A -->\n",
       "<g id=\"node1\" class=\"node\"><title>A</title>\n",
       "<ellipse fill=\"none\" stroke=\"black\" cx=\"27\" cy=\"-18\" rx=\"27\" ry=\"18\"/>\n",
       "<text text-anchor=\"middle\" x=\"27\" y=\"-14.3\" font-family=\"Times New Roman,serif\" font-size=\"14.00\">A</text>\n",
       "</g>\n",
       "</g>\n",
       "</svg></p>\n",
       "</li>\n",
       "<li><p><?xml version=\"1.0\" encoding=\"UTF-8\" standalone=\"no\"?>\n",
       "<!DOCTYPE svg PUBLIC \"-//W3C//DTD SVG 1.1//EN\"\n",
       "\"<a href=\"http://www.w3.org/Graphics/SVG/1.1/DTD/svg11.dtd&quot;&gt;\">http://www.w3.org/Graphics/SVG/1.1/DTD/svg11.dtd&quot;&gt;</a>\n",
       "<!-- Generated by graphviz version 2.38.0 (20140413.2041)\n",
       "-->\n",
       "<!-- Title: %3 Pages: 1 -->\n",
       "<svg width=\"62pt\" height=\"44pt\"\n",
       "viewBox=\"0.00 0.00 62.00 44.00\" xmlns=\"<a href=\"http://www.w3.org/2000/svg\">http://www.w3.org/2000/svg</a>\" xmlns:xlink=\"<a href=\"http://www.w3.org/1999/xlink&quot;&gt;\">http://www.w3.org/1999/xlink&quot;&gt;</a>\n",
       "<g id=\"graph0\" class=\"graph\" transform=\"scale(1 1) rotate(0) translate(4 40)\">\n",
       "<title>%3</title>\n",
       "<polygon fill=\"white\" stroke=\"none\" points=\"-4,4 -4,-40 58,-40 58,4 -4,4\"/>\n",
       "<!-- B -->\n",
       "<g id=\"node1\" class=\"node\"><title>B</title>\n",
       "<ellipse fill=\"none\" stroke=\"black\" cx=\"27\" cy=\"-18\" rx=\"27\" ry=\"18\"/>\n",
       "<text text-anchor=\"middle\" x=\"27\" y=\"-14.3\" font-family=\"Times New Roman,serif\" font-size=\"14.00\">B</text>\n",
       "</g>\n",
       "</g>\n",
       "</svg></p>\n",
       "</li>\n",
       "</ul>\n"
      ],
      "text/plain": [
       "<IPython.core.display.HTML object>"
      ]
     },
     "execution_count": 6,
     "metadata": {},
     "output_type": "execute_result"
    }
   ],
   "source": [
    "    IPython.display.HTML(mistune.markdown(source, escape=False, parse_block_html=True, parse_inline_html=True))"
   ]
  },
  {
   "cell_type": "code",
   "execution_count": null,
   "metadata": {},
   "outputs": [],
   "source": []
  },
  {
   "cell_type": "code",
   "execution_count": null,
   "metadata": {},
   "outputs": [],
   "source": []
  },
  {
   "cell_type": "code",
   "execution_count": null,
   "metadata": {},
   "outputs": [],
   "source": []
  }
 ],
 "metadata": {
  "kernelspec": {
   "display_name": "Python 3",
   "language": "python",
   "name": "python3"
  },
  "language_info": {
   "codemirror_mode": {
    "name": "ipython",
    "version": 3
   },
   "file_extension": ".py",
   "mimetype": "text/x-python",
   "name": "python",
   "nbconvert_exporter": "python",
   "pygments_lexer": "ipython3",
   "version": "3.6.6"
  }
 },
 "nbformat": 4,
 "nbformat_minor": 2
}
