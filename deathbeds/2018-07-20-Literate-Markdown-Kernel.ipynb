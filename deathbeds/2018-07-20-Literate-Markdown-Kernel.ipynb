{
 "cells": [
  {
   "cell_type": "markdown",
   "metadata": {},
   "source": [
    "# Creating a custom kernel\n",
    "\n",
    "A few weeks ago we discussed using [Markdown in code cells](2018-07-06-Markdown-code-cells.ipynb).  The implementation injected a function into the input transform manager in a running kernel.  \n",
    "\n",
    "This notebook takes an alternate approach where we create a custom kernel that permits markdown.  *Most of this work was made possible by the demonstration in [creating a simple kernel for Jupyter](https://github.com/ipython-books/cookbook-2nd/blob/master/chapter01_basic/06_kernel.md)*."
   ]
  },
  {
   "cell_type": "markdown",
   "metadata": {},
   "source": [
    "## Reusing the our old `Literate` transformer\n",
    "\n",
    "The Literate transformer will extract the indented code using CommonMark."
   ]
  },
  {
   "cell_type": "code",
   "execution_count": 17,
   "metadata": {},
   "outputs": [],
   "source": [
    "    from deathbeds.__Markdown_code_cells import Literate\n",
    "    transformer = Literate()"
   ]
  },
  {
   "cell_type": "markdown",
   "metadata": {},
   "source": [
    "## Defining the Kernel Class\n",
    "\n",
    "The `Kernel` subclasses the existing `IPythonKernel` and strips the indented code before executing the kernel as normal."
   ]
  },
  {
   "cell_type": "code",
   "execution_count": 18,
   "metadata": {},
   "outputs": [],
   "source": [
    "    from ipykernel.ipkernel import IPythonKernel\n",
    "    class LiterateKernel(IPythonKernel):\n",
    "        implementation = 'Literate'\n",
    "        implementation_version = '0.0.1'\n",
    "        banner = \"Literate\"\n",
    "\n",
    "        def do_execute(self, code, silent, store_history=True, user_expressions=None, allow_stdin=False):\n",
    "            code = transformer(code)\n",
    "            return super().do_execute(\n",
    "                code, \n",
    "                silent, store_history=store_history, user_expressions=user_expressions, allow_stdin=allow_stdin)"
   ]
  },
  {
   "cell_type": "markdown",
   "metadata": {},
   "source": [
    "## Defining the `Kernel` assets"
   ]
  },
  {
   "cell_type": "code",
   "execution_count": 19,
   "metadata": {},
   "outputs": [],
   "source": [
    "    import json; from pathlib import Path"
   ]
  },
  {
   "cell_type": "markdown",
   "metadata": {},
   "source": [
    "### The python script\n",
    "\n",
    "The python script imports this post and creates the module that will run the kernel."
   ]
  },
  {
   "cell_type": "markdown",
   "metadata": {},
   "source": [
    "### `kernel.json`"
   ]
  },
  {
   "cell_type": "code",
   "execution_count": 28,
   "metadata": {},
   "outputs": [],
   "source": [
    "    with __import__('importlib_resources').path('deathbeds', 'literate_kernel.py') as file: \n",
    "        kernel_json = Path(file).parent / 'literate' / 'kernel.json'\n",
    "        kernel_json.parent.mkdir(parents=True, exist_ok=True)\n",
    "        not kernel_json.exists() and kernel_json.write_text(json.dumps({\n",
    "             \"argv\": \"python -m deathbeds.literate_kernel -f {connection_file}\".split(),\n",
    "             \"display_name\": \"literate\", \"name\": \"literate\", \"language\": \"python\"}))\n",
    "        \n",
    "        \n",
    "        not Path(file).exists() and Path(file).write_text(\"\"\"\n",
    "    with __import__('importnb').Notebook():\n",
    "        from deathbeds.__Literate_Markdown_Kernel import LiterateKernel\n",
    "\n",
    "    if __name__ == '__main__':\n",
    "        from ipykernel.kernelapp import IPKernelApp\n",
    "        IPKernelApp.launch_instance(kernel_class=LiterateKernel)\"\"\");"
   ]
  },
  {
   "cell_type": "markdown",
   "metadata": {},
   "source": [
    "> Originally we tried running the new kernel with IPython, but that is not permitted.  `python` must invoke the `kernelspec`.  "
   ]
  },
  {
   "cell_type": "markdown",
   "metadata": {},
   "source": [
    "In short, this notebook defines our literate kernel and `deathbeds.literate_kernel` runs it."
   ]
  },
  {
   "cell_type": "markdown",
   "metadata": {},
   "source": [
    "## Installation\n",
    "\n",
    "Run these commands in the `deathbeds` module directory."
   ]
  },
  {
   "cell_type": "code",
   "execution_count": 29,
   "metadata": {},
   "outputs": [],
   "source": [
    "    from IPython import get_ipython; import click\n",
    "    @click.group()\n",
    "    def main(): ...\n",
    "\n",
    "    @main.command()\n",
    "    @click.option('--env', '-e', help='The environment.')\n",
    "    def install(env=None):\n",
    "        prefix = f\"source activate {prefix} && \" if env else \"\"\n",
    "        !$prefix jupyter kernelspec install literate\n",
    "        !$prefix jupyter kernelspec list"
   ]
  },
  {
   "cell_type": "markdown",
   "metadata": {},
   "source": [
    "> Nick said that installing with the `--user` flag is less reproducible so we removed it."
   ]
  },
  {
   "cell_type": "code",
   "execution_count": 30,
   "metadata": {},
   "outputs": [],
   "source": [
    "    @main.command()\n",
    "    @click.option('--env', '-e', help='The environment.')\n",
    "    def uninstall(env=None):\n",
    "        prefix = f\"source activate {prefix} && \" if env else \"\"\n",
    "        !$prefix jupyter kernelspec uninstall literate\n",
    "        !$prefix jupyter kernelspec list"
   ]
  },
  {
   "cell_type": "code",
   "execution_count": 31,
   "metadata": {},
   "outputs": [],
   "source": [
    "    _file_ = '2018-07-20-Literate-Markdown-Kernel.ipynb'"
   ]
  },
  {
   "cell_type": "code",
   "execution_count": 32,
   "metadata": {},
   "outputs": [],
   "source": [
    "    @main.command()\n",
    "    def tests(): __import__('pytest').main(['-s', globals().get('__file__', _file_)])"
   ]
  },
  {
   "cell_type": "code",
   "execution_count": null,
   "metadata": {},
   "outputs": [],
   "source": [
    "    if __name__ == '__main__':\n",
    "        if __import__('sys').argv[0] == globals().get('__file__', ''): \n",
    "            main()\n",
    "        if not globals().get('__file__', None):\n",
    "            !ipython -m deathbeds.2018-07-20-Literate-Markdown-Kernel -- tests"
   ]
  },
  {
   "cell_type": "markdown",
   "metadata": {},
   "source": [
    "## Tests"
   ]
  },
  {
   "cell_type": "code",
   "execution_count": null,
   "metadata": {},
   "outputs": [],
   "source": [
    "    def test_import_kernel():\n",
    "        from deathbeds import literate_kernel\n",
    "        \n",
    "    def test_commands():\n",
    "        # uninstall requires an input otherwise it hangs.\n",
    "        !ipython -m deathbeds.2018-07-20-Literate-Markdown-Kernel -- install"
   ]
  }
 ],
 "metadata": {
  "kernelspec": {
   "display_name": "Python 3",
   "language": "python",
   "name": "python3"
  },
  "language_info": {
   "codemirror_mode": {
    "name": "ipython",
    "version": 3
   },
   "file_extension": ".py",
   "mimetype": "text/x-python",
   "name": "python",
   "nbconvert_exporter": "python",
   "pygments_lexer": "ipython3",
   "version": "3.6.5"
  }
 },
 "nbformat": 4,
 "nbformat_minor": 2
}
