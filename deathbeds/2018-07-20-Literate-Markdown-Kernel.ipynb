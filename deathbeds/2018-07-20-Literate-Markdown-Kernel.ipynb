{
 "cells": [
  {
   "cell_type": "markdown",
   "metadata": {},
   "source": [
    "# Creating a custom kernel\n",
    "\n",
    "A few weeks ago we discussed using [Markdown in code cells](2018-07-06-Markdown-code-cells.ipynb).  The implementation injected a function into the input transform manager in a running kernel.  \n",
    "\n",
    "This notebook takes an alternate approach where we create a custom kernel that permits markdown.  *Most of this work was made possible by the demonstration in [creating a simple kernel for Jupyter](https://github.com/ipython-books/cookbook-2nd/blob/master/chapter01_basic/06_kernel.md)*."
   ]
  },
  {
   "cell_type": "markdown",
   "metadata": {},
   "source": [
    "## Reusing the our old `Literate` transformer\n",
    "\n",
    "The Literate transformer will extract the indented code using CommonMark."
   ]
  },
  {
   "cell_type": "code",
   "execution_count": 9,
   "metadata": {},
   "outputs": [],
   "source": [
    "    from deathbeds.__Markdown_code_cells import Literate\n",
    "    transformer = Literate()"
   ]
  },
  {
   "cell_type": "markdown",
   "metadata": {},
   "source": [
    "## Defining the Kernel Class\n",
    "\n",
    "The `Kernel` subclasses the existing `IPythonKernel` and strips the indented code before executing the kernel as normal."
   ]
  },
  {
   "cell_type": "code",
   "execution_count": 10,
   "metadata": {},
   "outputs": [],
   "source": [
    "    from ipykernel.ipkernel import IPythonKernel\n",
    "    class LiterateKernel(IPythonKernel):\n",
    "        implementation = 'Literate'\n",
    "        implementation_version = '0.0.1'\n",
    "        banner = \"Literate\"\n",
    "\n",
    "        def do_execute(self, code, silent, store_history=True, user_expressions=None, allow_stdin=False):\n",
    "            code = transformer(code)\n",
    "            return super().do_execute(\n",
    "                code, \n",
    "                silent, store_history=store_history, user_expressions=user_expressions, allow_stdin=allow_stdin)"
   ]
  },
  {
   "cell_type": "markdown",
   "metadata": {},
   "source": [
    "## Defining the `Kernel` assets"
   ]
  },
  {
   "cell_type": "code",
   "execution_count": 12,
   "metadata": {},
   "outputs": [],
   "source": [
    "    import json; from pathlib import Path"
   ]
  },
  {
   "cell_type": "markdown",
   "metadata": {},
   "source": [
    "### `kernel.json`"
   ]
  },
  {
   "cell_type": "code",
   "execution_count": 47,
   "metadata": {},
   "outputs": [
    {
     "data": {
      "image/png": "[encoded data removed]",
      "text/latex": [
       "$$148$$"
      ],
      "text/plain": [
       "148"
      ]
     },
     "execution_count": 47,
     "metadata": {},
     "output_type": "execute_result"
    }
   ],
   "source": [
    "Path('literate/kernel.json').write_text(\n",
    "    json.dumps({\n",
    "     \"argv\": \"python -m deathbeds.literate_kernel -f {connection_file}\".split(),\n",
    "     \"display_name\": \"creole\",\n",
    "     \"name\": \"creole\",\n",
    "     \"language\": \"python\"\n",
    "    })\n",
    ")"
   ]
  },
  {
   "cell_type": "markdown",
   "metadata": {},
   "source": [
    "> Originally we tried running the new kernel with IPython, but that is not permitted.  `python` must invoke the `kernelspec`.  "
   ]
  },
  {
   "cell_type": "markdown",
   "metadata": {},
   "source": [
    "### The python script\n",
    "\n",
    "The python script imports this post and creates the module that will run the kernel."
   ]
  },
  {
   "cell_type": "code",
   "execution_count": 14,
   "metadata": {},
   "outputs": [],
   "source": [
    "Path('literate_kernel.py').write_text(\"\"\"\n",
    "with __import__('importnb').Notebook():\n",
    "    from deathbeds.__Literate_Markdown_Kernel import LiterateKernel\n",
    "\n",
    "if __name__ == '__main__':\n",
    "    from ipykernel.kernelapp import IPKernelApp\n",
    "    IPKernelApp.launch_instance(kernel_class=LiterateKernel)\"\"\");"
   ]
  },
  {
   "cell_type": "markdown",
   "metadata": {},
   "source": [
    "In short, this notebook defines our literate kernel and `deathbeds.literate_kernel` runs it."
   ]
  },
  {
   "cell_type": "markdown",
   "metadata": {},
   "source": [
    "## Installation\n",
    "\n",
    "Run these commands in the `deathbeds` module directory."
   ]
  },
  {
   "cell_type": "markdown",
   "metadata": {},
   "source": [
    "    jupyter kernelspec install --user literate\n",
    "    jupyter kernelspec list"
   ]
  },
  {
   "cell_type": "markdown",
   "metadata": {},
   "source": [
    "## Tests"
   ]
  },
  {
   "cell_type": "code",
   "execution_count": 15,
   "metadata": {},
   "outputs": [],
   "source": [
    "    def test_import_kernel():\n",
    "        from deathbeds import literate_kernel"
   ]
  }
 ],
 "metadata": {
  "kernelspec": {
   "display_name": "Python 3",
   "language": "python",
   "name": "python3"
  },
  "language_info": {
   "codemirror_mode": {
    "name": "ipython",
    "version": 3
   },
   "file_extension": ".py",
   "mimetype": "text/x-python",
   "name": "python",
   "nbconvert_exporter": "python",
   "pygments_lexer": "ipython3",
   "version": "3.6.5"
  }
 },
 "nbformat": 4,
 "nbformat_minor": 2
}
