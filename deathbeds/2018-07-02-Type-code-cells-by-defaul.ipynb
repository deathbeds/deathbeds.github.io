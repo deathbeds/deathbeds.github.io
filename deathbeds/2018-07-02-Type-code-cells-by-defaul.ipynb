{
 "cells": [
  {
   "cell_type": "markdown",
   "metadata": {},
   "source": [
    "# Default type checking before cell execution.\n",
    "\n",
    "The user experience kind of sucks.\n",
    "\n",
    "* https://gist.github.com/knowsuchagency/f7b2203dd613756a45f816d6809f01a6\n",
    "* https://ipython.readthedocs.io/en/stable/config/callbacks.html"
   ]
  },
  {
   "cell_type": "code",
   "execution_count": 1,
   "metadata": {},
   "outputs": [],
   "source": [
    "from mypy import api"
   ]
  },
  {
   "cell_type": "code",
   "execution_count": 2,
   "metadata": {},
   "outputs": [],
   "source": [
    "def pre_run_cell(info=None):     \n",
    "    print(info, 99)\n",
    "    info and print(''.join(api.run(['-c', info.raw_cell])[:2]))"
   ]
  },
  {
   "cell_type": "code",
   "execution_count": 3,
   "metadata": {},
   "outputs": [],
   "source": [
    "def load_ipython_extension(ip): \n",
    "    ip.events.register('pre_run_cell', pre_run_cell)"
   ]
  },
  {
   "cell_type": "code",
   "execution_count": 6,
   "metadata": {},
   "outputs": [
    {
     "name": "stdout",
     "output_type": "stream",
     "text": [
      "None 99\n",
      "'str' object cannot be interpreted as an integer\n"
     ]
    }
   ],
   "source": [
    "if __name__ == '__main__': \n",
    "    load_ipython_extension(get_ipython())\n",
    "\n",
    "    try:\n",
    "        range(\"190\")\n",
    "    except Exception as e:\n",
    "        print(e)"
   ]
  }
 ],
 "metadata": {
  "kernelspec": {
   "display_name": "p6",
   "language": "python",
   "name": "other-env"
  },
  "language_info": {
   "codemirror_mode": {
    "name": "ipython",
    "version": 3
   },
   "file_extension": ".py",
   "mimetype": "text/x-python",
   "name": "python",
   "nbconvert_exporter": "python",
   "pygments_lexer": "ipython3",
   "version": "3.6.3"
  }
 },
 "nbformat": 4,
 "nbformat_minor": 2
}
