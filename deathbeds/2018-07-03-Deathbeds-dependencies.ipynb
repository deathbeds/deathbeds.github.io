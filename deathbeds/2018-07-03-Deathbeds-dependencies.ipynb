{
 "cells": [
  {
   "cell_type": "markdown",
   "metadata": {},
   "source": [
    "# Using [`depfinder`](https://github.com/ericdill/depfinder) to discover the `deathbeds` dependencies.\n",
    "\n"
   ]
  },
  {
   "cell_type": "code",
   "execution_count": 37,
   "metadata": {},
   "outputs": [],
   "source": [
    "    from pathlib import Path\n",
    "    from IPython.utils.capture import capture_output\n",
    "    from yaml import safe_load\n",
    "    from collections import defaultdict\n",
    "    import deathbeds"
   ]
  },
  {
   "cell_type": "markdown",
   "metadata": {},
   "source": [
    "* Loop all the notebooks in the deathbeds project."
   ]
  },
  {
   "cell_type": "code",
   "execution_count": 38,
   "metadata": {},
   "outputs": [],
   "source": [
    "    deps = defaultdict(list)\n",
    "    for path in map(str, Path(deathbeds.__file__).parent.glob('*.ipynb')): \n",
    "        with capture_output() as out:\n",
    "            !source activate p6 &&  depfinder --yaml --conda $path\n",
    "        if not out.stdout.strip().startswith('Traceback'):\n",
    "            current = safe_load(out.stdout.strip())\n",
    "            for key in current: \n",
    "                deps[key] += current[key]"
   ]
  },
  {
   "cell_type": "code",
   "execution_count": 39,
   "metadata": {},
   "outputs": [
    {
     "data": {
      "text/plain": [
       "defaultdict(list,\n",
       "            {'builtin': ['functools', 'inspect', 'ast'],\n",
       "             'questionable': ['black'],\n",
       "             'required': ['datashape',\n",
       "              'toolz',\n",
       "              'matplotlib',\n",
       "              'numpy',\n",
       "              'numpy',\n",
       "              'scikit-image',\n",
       "              'sympy',\n",
       "              'ipython',\n",
       "              'ipython',\n",
       "              'jinja2']})"
      ]
     },
     "execution_count": 39,
     "metadata": {},
     "output_type": "execute_result"
    }
   ],
   "source": [
    "    deps"
   ]
  }
 ],
 "metadata": {
  "kernelspec": {
   "display_name": "p6",
   "language": "python",
   "name": "other-env"
  },
  "language_info": {
   "codemirror_mode": {
    "name": "ipython",
    "version": 3
   },
   "file_extension": ".py",
   "mimetype": "text/x-python",
   "name": "python",
   "nbconvert_exporter": "python",
   "pygments_lexer": "ipython3",
   "version": "3.6.3"
  }
 },
 "nbformat": 4,
 "nbformat_minor": 2
}
