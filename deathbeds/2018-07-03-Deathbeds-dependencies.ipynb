{
 "cells": [
  {
   "cell_type": "markdown",
   "metadata": {},
   "source": [
    "# Using [`depfinder`](https://github.com/ericdill/depfinder) to discover the `deathbeds` dependencies.\n",
    "\n"
   ]
  },
  {
   "cell_type": "code",
   "execution_count": 1,
   "metadata": {},
   "outputs": [],
   "source": [
    "    from pathlib import Path\n",
    "    from IPython.utils.capture import capture_output\n",
    "    from IPython import get_ipython\n",
    "    from yaml import safe_load\n",
    "    from collections import defaultdict\n",
    "    import deathbeds\n",
    "    import depfinder"
   ]
  },
  {
   "cell_type": "markdown",
   "metadata": {},
   "source": [
    "* Loop all the notebooks in the deathbeds project."
   ]
  },
  {
   "cell_type": "code",
   "execution_count": null,
   "metadata": {},
   "outputs": [],
   "source": [
    "    if __name__ == '__main__':\n",
    "        deps = defaultdict(list)\n",
    "        for path in map(str, Path(deathbeds.__file__).parent.glob('*.ipynb')): \n",
    "            with capture_output() as out:\n",
    "                !depfinder --yaml --conda $path\n",
    "            if not out.stdout.strip().startswith('Traceback'):\n",
    "                current = safe_load(out.stdout.strip())\n",
    "                if current:\n",
    "                    for key in current: \n",
    "                        deps[key] += current[key]\n",
    "\n",
    "        requirements = set(\n",
    "            sum((list(object for object in value if not object.startswith('_')) for key, value in deps.items() \n",
    "                 if key not in ['builtin']), []))\n",
    "\n",
    "        if 'disqus' in requirements: requirements.remove('disqus')\n",
    "        if 'deathbeds' in requirements: requirements.remove('deathbeds')\n",
    "        if 'opencv' in requirements: \n",
    "            requirements.remove('opencv')\n",
    "            requirements.update({'opencv-python'})\n",
    "\n",
    "        list(map(requirements.add, {\n",
    "            'poser', 'importnb', 'depfinder', 'pytest', 'jupyter', 'graphviz'\n",
    "        }));\n",
    "\n",
    "\n",
    "        Path('../requirements.txt').write_text(\"\\n\".join(requirements))"
   ]
  }
 ],
 "metadata": {
  "kernelspec": {
   "display_name": "p6",
   "language": "python",
   "name": "other-env"
  },
  "language_info": {
   "codemirror_mode": {
    "name": "ipython",
    "version": 3
   },
   "file_extension": ".py",
   "mimetype": "text/x-python",
   "name": "python",
   "nbconvert_exporter": "python",
   "pygments_lexer": "ipython3",
   "version": "3.6.3"
  }
 },
 "nbformat": 4,
 "nbformat_minor": 2
}
