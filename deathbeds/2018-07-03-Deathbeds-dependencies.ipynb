{
 "cells": [
  {
   "cell_type": "markdown",
   "metadata": {},
   "source": [
    "# Using [`depfinder`](https://github.com/ericdill/depfinder) to discover the `deathbeds` dependencies.\n",
    "\n"
   ]
  },
  {
   "cell_type": "code",
   "execution_count": 2,
   "metadata": {},
   "outputs": [],
   "source": [
    "    from pathlib import Path\n",
    "    from IPython.utils.capture import capture_output\n",
    "    from yaml import safe_load\n",
    "    from collections import defaultdict\n",
    "    import deathbeds"
   ]
  },
  {
   "cell_type": "markdown",
   "metadata": {},
   "source": [
    "* Loop all the notebooks in the deathbeds project."
   ]
  },
  {
   "cell_type": "code",
   "execution_count": 14,
   "metadata": {},
   "outputs": [],
   "source": [
    "    deps = defaultdict(list)\n",
    "    for path in map(str, Path(deathbeds.__file__).parent.glob('*.ipynb')): \n",
    "        with capture_output() as out:\n",
    "            !depfinder --yaml --conda $path\n",
    "        if not out.stdout.strip().startswith('Traceback'):\n",
    "            current = safe_load(out.stdout.strip())\n",
    "            if current:\n",
    "                for key in current: \n",
    "                    deps[key] += current[key]"
   ]
  },
  {
   "cell_type": "code",
   "execution_count": 26,
   "metadata": {},
   "outputs": [],
   "source": [
    "    requirements = set(\n",
    "        sum(\n",
    "            (\n",
    "                list(value) for key, value in deps.items() \n",
    "                if key not in ['builtin']), [])\n",
    "    )\n",
    "\n",
    "    list(map(requirements.add, {'poser', 'importnb', 'depfinder', 'pytest'}));"
   ]
  },
  {
   "cell_type": "code",
   "execution_count": 27,
   "metadata": {},
   "outputs": [
    {
     "data": {
      "text/plain": [
       "87"
      ]
     },
     "execution_count": 27,
     "metadata": {},
     "output_type": "execute_result"
    }
   ],
   "source": [
    "    Path('../requirements.txt').write_text(\"\\n\".join(requirements))"
   ]
  },
  {
   "cell_type": "code",
   "execution_count": 28,
   "metadata": {},
   "outputs": [
    {
     "data": {
      "text/plain": [
       "{'datashape',\n",
       " 'depfinder',\n",
       " 'importnb',\n",
       " 'ipython',\n",
       " 'jinja2',\n",
       " 'numpy',\n",
       " 'poser',\n",
       " 'pytest',\n",
       " 'scikit-image',\n",
       " 'sympy',\n",
       " 'toolz'}"
      ]
     },
     "execution_count": 28,
     "metadata": {},
     "output_type": "execute_result"
    }
   ],
   "source": [
    "    requirements"
   ]
  },
  {
   "cell_type": "code",
   "execution_count": null,
   "metadata": {},
   "outputs": [],
   "source": []
  }
 ],
 "metadata": {
  "kernelspec": {
   "display_name": "Python 3",
   "language": "python",
   "name": "python3"
  },
  "language_info": {
   "codemirror_mode": {
    "name": "ipython",
    "version": 3
   },
   "file_extension": ".py",
   "mimetype": "text/x-python",
   "name": "python",
   "nbconvert_exporter": "python",
   "pygments_lexer": "ipython3",
   "version": "3.6.5"
  }
 },
 "nbformat": 4,
 "nbformat_minor": 2
}
