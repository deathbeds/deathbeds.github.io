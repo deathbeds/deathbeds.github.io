{
 "cells": [
  {
   "cell_type": "markdown",
   "metadata": {},
   "source": [
    "# Emojis?  Why Not?"
   ]
  },
  {
   "cell_type": "code",
   "execution_count": 8,
   "metadata": {},
   "outputs": [],
   "source": [
    "    mapping = {\"⚰️\": \"deathbeds\", \"🐼\": \"pandas\", \"📈\": \"matplotlib\", \"📉\": \"matplotlib\", \"📊\": \"seaborn\"}"
   ]
  },
  {
   "cell_type": "markdown",
   "metadata": {},
   "source": [
    "Create a string transformer that replaces emojis."
   ]
  },
  {
   "cell_type": "markdown",
   "metadata": {},
   "source": [
    "Permit the ability to name emojis using a double equal sign."
   ]
  },
  {
   "cell_type": "code",
   "execution_count": 9,
   "metadata": {},
   "outputs": [],
   "source": [
    "    import ast"
   ]
  },
  {
   "cell_type": "markdown",
   "metadata": {},
   "source": [
    "Emojis from equal sign and imports These are two separate functions"
   ]
  },
  {
   "cell_type": "code",
   "execution_count": 10,
   "metadata": {},
   "outputs": [],
   "source": [
    "    def emoji_from_assignment(str, mapping):\n",
    "        if '=' not in str: return\n",
    "        emojis = []\n",
    "        for part in str.split('=', 2)[:2]:\n",
    "            if not part: break # This is an equal sign\n",
    "            try: \n",
    "                if isinstance(getattr(ast.parse(part.strip()).body[0], 'value', None), ast.Name):  \n",
    "                    while emojis: mapping[emojis.pop()] = part.strip()\n",
    "            except SyntaxError:  emojis.append(part.strip())"
   ]
  },
  {
   "cell_type": "markdown",
   "metadata": {},
   "source": [
    "Emojis should be defined in the import line."
   ]
  },
  {
   "cell_type": "code",
   "execution_count": 11,
   "metadata": {},
   "outputs": [],
   "source": [
    "    def emoji_from_import_as(str, mapping): ..."
   ]
  },
  {
   "cell_type": "code",
   "execution_count": 12,
   "metadata": {},
   "outputs": [],
   "source": [
    "    from deathbeds.__Markdown__ import CallableTransformer\n",
    "    class EmojiTransformer(CallableTransformer):\n",
    "        def __call__(self, str):\n",
    "            global mapping\n",
    "            for section in str.split(';'):\n",
    "                emoji_from_assignment(str, mapping)\n",
    "                emoji_from_import_as(str, mapping)\n",
    "            for key, value in mapping.items(): \n",
    "                str = str.replace(key, value)\n",
    "            return str"
   ]
  },
  {
   "cell_type": "code",
   "execution_count": 18,
   "metadata": {},
   "outputs": [],
   "source": [
    "    def load_ipython_extension(ip): ip.input_transformer_manager.physical_line_transforms.insert(0, EmojiTransformer())\n",
    "    def unload_ipython_extension(ip): ip.input_transformer_manager.physical_line_transforms = [\n",
    "        object for object in ip.input_transformer_manager.physical_line_transforms if not isinstance(object, EmojiTransformer)]"
   ]
  },
  {
   "cell_type": "code",
   "execution_count": 16,
   "metadata": {},
   "outputs": [],
   "source": [
    "    from pytest import fixture\n",
    "    @fixture\n",
    "    def ip(): ip = __import__('IPython').get_ipython(); load_ipython_extension(ip); yield ip; unload_ipython_extension(ip)"
   ]
  },
  {
   "cell_type": "code",
   "execution_count": 17,
   "metadata": {},
   "outputs": [],
   "source": [
    "    def _emoji_replacement(ip):\n",
    "        ip.run_cell(\"\"\">>> import 🎩👒\n",
    "    >>> from 📉.pyplot import gca\n",
    "    >>> import 🐼\n",
    "    >>> assert 🐼.util.testing.makeDataFrame() is not None\n",
    "    >>> import ⚰️\n",
    "    >>> import 👀🐍\n",
    "    >>> assert 👀🐍👀(👀🐍)\"\"\")"
   ]
  },
  {
   "cell_type": "code",
   "execution_count": null,
   "metadata": {},
   "outputs": [],
   "source": []
  }
 ],
 "metadata": {
  "kernelspec": {
   "display_name": "Python 3",
   "language": "python",
   "name": "python3"
  },
  "language_info": {
   "codemirror_mode": {
    "name": "ipython",
    "version": 3
   },
   "file_extension": ".py",
   "mimetype": "text/x-python",
   "name": "python",
   "nbconvert_exporter": "python",
   "pygments_lexer": "ipython3",
   "version": "3.6.5"
  }
 },
 "nbformat": 4,
 "nbformat_minor": 2
}
