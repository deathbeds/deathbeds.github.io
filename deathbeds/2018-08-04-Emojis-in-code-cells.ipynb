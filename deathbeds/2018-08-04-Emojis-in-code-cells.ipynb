{
 "cells": [
  {
   "cell_type": "markdown",
   "metadata": {},
   "source": [
    "# Emojis?  Why Not?"
   ]
  },
  {
   "cell_type": "code",
   "execution_count": 1,
   "metadata": {},
   "outputs": [],
   "source": [
    "    mapping = {\n",
    "        \"⚰️\": \"deathbeds\",\n",
    "        \"🎩👒\": \"deathbeds.__style__\",\n",
    "        \"🐼\": \"pandas\",\n",
    "        \"📈\": \"matplotlib\",\n",
    "        \"📉\": \"matplotlib\",\n",
    "        \"📊\": \"seaborn\", \n",
    "        \"👀🐍👀\": \"IPython.display.display\",\n",
    "        \"👀🐍\": \"IPython\",\n",
    "        \n",
    "    }"
   ]
  },
  {
   "cell_type": "markdown",
   "metadata": {},
   "source": [
    "Create a string transformer that replaces emojis."
   ]
  },
  {
   "cell_type": "code",
   "execution_count": 2,
   "metadata": {},
   "outputs": [],
   "source": [
    "    from deathbeds.__Markdown__ import CallableTransformer\n",
    "    class EmojiTransformer(CallableTransformer):\n",
    "        def __call__(self, str):\n",
    "            from IPython import get_ipython\n",
    "            for key, value in mapping.items():\n",
    "                str = str.replace(key, value)\n",
    "            return str"
   ]
  },
  {
   "cell_type": "code",
   "execution_count": 3,
   "metadata": {},
   "outputs": [],
   "source": [
    "    def load_ipython_extension(ip):\n",
    "        ip.input_transformer_manager.physical_line_transforms.insert(0, EmojiTransformer())"
   ]
  },
  {
   "cell_type": "code",
   "execution_count": 4,
   "metadata": {},
   "outputs": [],
   "source": [
    "    if 'pytest' in __import__('sys').modules or __name__ == '__main__':\n",
    "        from IPython import get_ipython\n",
    "        load_ipython_extension(get_ipython())"
   ]
  },
  {
   "cell_type": "code",
   "execution_count": 5,
   "metadata": {},
   "outputs": [],
   "source": [
    "    def test_transformer():\n",
    "        import 🎩👒\n",
    "        from 📉.pyplot import gca\n",
    "        import 🐼\n",
    "        🐼.util.testing.makeDataFrame()\n",
    "        import ⚰️\n",
    "        import 👀🐍\n",
    "        👀🐍👀(👀🐍)"
   ]
  },
  {
   "cell_type": "code",
   "execution_count": 6,
   "metadata": {},
   "outputs": [
    {
     "name": "stdout",
     "output_type": "stream",
     "text": [
      "\u001b]0;IPython: deathbeds.github.io/deathbeds\u0007\u001b[1m============================= test session starts ==============================\u001b[0m\n",
      "platform darwin -- Python 3.6.3, pytest-3.5.0, py-1.5.3, pluggy-0.6.0\n",
      "benchmark: 3.1.1 (defaults: timer=time.perf_counter disable_gc=False min_rounds=5 min_time=0.000005 max_time=1.0 calibration_precision=10 warmup=False warmup_iterations=100000)\n",
      "rootdir: /Users/tonyfast/deathbeds.github.io, inifile:\n",
      "plugins: xdist-1.22.2, forked-0.2, cov-2.5.1, benchmark-3.1.1, hypothesis-3.56.5, nbval-0.9.1, importnb-0.4.1\n",
      "collected 1 item                                                               \u001b[0m\n",
      "\n",
      "2018-08-04-Emojis-in-code-cells.ipynb .\u001b[36m                                  [100%]\u001b[0m\n",
      "\n",
      "\u001b[32m\u001b[1m=========================== 1 passed in 0.27 seconds ===========================\u001b[0m\n"
     ]
    }
   ],
   "source": [
    "    if __name__ == '__main__':\n",
    "        !source activate p6 && ipython -m pytest -- 2018-08-04-Emojis-in-code-cells.ipynb"
   ]
  }
 ],
 "metadata": {
  "kernelspec": {
   "display_name": "p6",
   "language": "python",
   "name": "other-env"
  },
  "language_info": {
   "codemirror_mode": {
    "name": "ipython",
    "version": 3
   },
   "file_extension": ".py",
   "mimetype": "text/x-python",
   "name": "python",
   "nbconvert_exporter": "python",
   "pygments_lexer": "ipython3",
   "version": "3.6.3"
  }
 },
 "nbformat": 4,
 "nbformat_minor": 2
}
