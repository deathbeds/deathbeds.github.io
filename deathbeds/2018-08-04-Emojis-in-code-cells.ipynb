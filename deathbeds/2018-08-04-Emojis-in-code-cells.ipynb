{
 "cells": [
  {
   "cell_type": "markdown",
   "metadata": {},
   "source": [
    "# Emojis?  Why Not?"
   ]
  },
  {
   "cell_type": "code",
   "execution_count": 1,
   "metadata": {},
   "outputs": [],
   "source": [
    "    mapping = {\n",
    "        \"⚰️\": \"deathbeds\",\n",
    "        \"🎩👒\": \"deathbeds.__style__\",\n",
    "        \"🐼\": \"pandas\",\n",
    "        \"📈\": \"matplotlib\",\n",
    "        \"📉\": \"matplotlib\",\n",
    "        \"📊\": \"seaborn\", \n",
    "        \"👀🐍👀\": \"IPython.display.display\",\n",
    "        \"👀🐍\": \"IPython\",\n",
    "        \n",
    "    }"
   ]
  },
  {
   "cell_type": "markdown",
   "metadata": {},
   "source": [
    "Create a string transformer that replaces emojis."
   ]
  },
  {
   "cell_type": "code",
   "execution_count": 2,
   "metadata": {},
   "outputs": [],
   "source": [
    "    from deathbeds.__Markdown__ import CallableTransformer\n",
    "    class EmojiTransformer(CallableTransformer):\n",
    "        def __call__(self, str):\n",
    "            from IPython import get_ipython\n",
    "            for key, value in mapping.items():\n",
    "                str = str.replace(key, value)\n",
    "            return str"
   ]
  },
  {
   "cell_type": "code",
   "execution_count": 3,
   "metadata": {},
   "outputs": [],
   "source": [
    "    def load_ipython_extension(ip):\n",
    "        ip.input_transformer_manager.physical_line_transforms.insert(0, EmojiTransformer())"
   ]
  },
  {
   "cell_type": "code",
   "execution_count": 11,
   "metadata": {},
   "outputs": [],
   "source": [
    "    __test__ = {\n",
    "        'basic_emojis': \"\"\">>> import 🎩👒\n",
    "    >>> from 📉.pyplot import gca\n",
    "    >>> import 🐼\n",
    "    >>> assert 🐼.util.testing.makeDataFrame() is not None\n",
    "    >>> import ⚰️\n",
    "    >>> import 👀🐍\n",
    "    >>> assert 👀🐍👀(👀🐍)\"\"\"}"
   ]
  },
  {
   "cell_type": "code",
   "execution_count": 12,
   "metadata": {},
   "outputs": [],
   "source": [
    "    if __name__ == '__main__':\n",
    "        ..."
   ]
  },
  {
   "cell_type": "code",
   "execution_count": null,
   "metadata": {},
   "outputs": [],
   "source": []
  }
 ],
 "metadata": {
  "kernelspec": {
   "display_name": "p6",
   "language": "python",
   "name": "other-env"
  },
  "language_info": {
   "codemirror_mode": {
    "name": "ipython",
    "version": 3
   },
   "file_extension": ".py",
   "mimetype": "text/x-python",
   "name": "python",
   "nbconvert_exporter": "python",
   "pygments_lexer": "ipython3",
   "version": "3.6.3"
  }
 },
 "nbformat": 4,
 "nbformat_minor": 2
}
