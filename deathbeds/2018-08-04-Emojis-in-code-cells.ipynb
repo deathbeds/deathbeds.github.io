{
 "cells": [
  {
   "cell_type": "markdown",
   "metadata": {},
   "source": [
    "# Emojis?  Why Not?"
   ]
  },
  {
   "cell_type": "code",
   "execution_count": 1,
   "metadata": {},
   "outputs": [],
   "source": [
    "    mapping = {\n",
    "        \"⚰️\": \"deathbeds\",\n",
    "        \"🎩👒\": \"deathbeds.__style__\",\n",
    "        \"🐼\": \"pandas\",\n",
    "        \"📈\": \"matplotlib\",\n",
    "        \"📉\": \"matplotlib\",\n",
    "        \"📊\": \"seaborn\", \n",
    "        \"👀🐍👀\": \"IPython.display.display\",\n",
    "        \"👀🐍\": \"IPython\",\n",
    "        \n",
    "    }"
   ]
  },
  {
   "cell_type": "markdown",
   "metadata": {},
   "source": [
    "Create a string transformer that replaces emojis."
   ]
  },
  {
   "cell_type": "markdown",
   "metadata": {},
   "source": [
    "Permit the ability to name emojis using a double equal sign."
   ]
  },
  {
   "cell_type": "code",
   "execution_count": 8,
   "metadata": {},
   "outputs": [],
   "source": [
    "    import ast"
   ]
  },
  {
   "cell_type": "markdown",
   "metadata": {},
   "source": [
    "Emojis from equal sign and imports These are two separate functions"
   ]
  },
  {
   "cell_type": "code",
   "execution_count": 20,
   "metadata": {},
   "outputs": [],
   "source": [
    "    from deathbeds.__Markdown__ import CallableTransformer\n",
    "    class EmojiTransformer(CallableTransformer):\n",
    "        def __call__(self, str):\n",
    "            global mapping\n",
    "            for section in str.split(';'):\n",
    "                emojis = []\n",
    "                for part in section.split('=', 2)[:2]:\n",
    "                    if not part: break # This is an equal sign\n",
    "                    try: \n",
    "                        if isinstance(\n",
    "                            getattr(ast.parse(part.strip()).body[0], 'value', None), ast.Name\n",
    "                        ):  \n",
    "                            while emojis: mapping[emojis.pop()] = part.strip()\n",
    "                    except SyntaxError:  emojis.append(part.strip())\n",
    "            for key, value in mapping.items(): \n",
    "                str = str.replace(key, value)\n",
    "            return str"
   ]
  },
  {
   "cell_type": "code",
   "execution_count": 21,
   "metadata": {},
   "outputs": [],
   "source": [
    "    def load_ipython_extension(ip):\n",
    "        ip.input_transformer_manager.physical_line_transforms.insert(0, EmojiTransformer())"
   ]
  },
  {
   "cell_type": "code",
   "execution_count": 22,
   "metadata": {},
   "outputs": [],
   "source": [
    "Emojis from    __test__ = {\n",
    "        'basic_emojis': \"\"\">>> import 🎩👒\n",
    "    >>> from 📉.pyplot import gca\n",
    "    >>> import 🐼\n",
    "    >>> assert 🐼.util.testing.makeDataFrame() is not None\n",
    "    >>> import ⚰️\n",
    "    >>> import 👀🐍\n",
    "    >>> assert 👀🐍👀(👀🐍)\"\"\"}"
   ]
  },
  {
   "cell_type": "code",
   "execution_count": 23,
   "metadata": {},
   "outputs": [],
   "source": [
    "    if __name__ == '__main__':\n",
    "        load_ipython_extension(get_ipython())"
   ]
  },
  {
   "cell_type": "code",
   "execution_count": null,
   "metadata": {},
   "outputs": [],
   "source": []
  }
 ],
 "metadata": {
  "kernelspec": {
   "display_name": "Python 3",
   "language": "python",
   "name": "python3"
  },
  "language_info": {
   "codemirror_mode": {
    "name": "ipython",
    "version": 3
   },
   "file_extension": ".py",
   "mimetype": "text/x-python",
   "name": "python",
   "nbconvert_exporter": "python",
   "pygments_lexer": "ipython3",
   "version": "3.6.5"
  }
 },
 "nbformat": 4,
 "nbformat_minor": 2
}
