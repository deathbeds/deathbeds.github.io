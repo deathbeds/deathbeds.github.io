{
 "cells": [
  {
   "cell_type": "markdown",
   "metadata": {},
   "source": [
    "Making \"Spark lines\" out of text and `vdom`."
   ]
  },
  {
   "cell_type": "code",
   "execution_count": 1,
   "metadata": {},
   "outputs": [
    {
     "data": {
      "text/html": [
       "<style>\n",
       ".input .input_area, .nbinput .input_area {\n",
       "    text-decoration: line-through wavy;    \n",
       "    font-weight: bold;\n",
       "\n",
       "}\n",
       ".input:hover .input_area, .nbinput:hover .input_area {\n",
       "    text-decoration: none;\n",
       "    font-weight: normal;\n",
       "}\n",
       "</style>"
      ],
      "text/plain": [
       "<IPython.core.display.HTML object>"
      ]
     },
     "metadata": {},
     "output_type": "display_data"
    }
   ],
   "source": [
    "    %reload_ext pidgin"
   ]
  },
  {
   "cell_type": "code",
   "execution_count": 2,
   "metadata": {},
   "outputs": [],
   "source": [
    "    import vdom, pandas, dataclasses"
   ]
  },
  {
   "cell_type": "code",
   "execution_count": 3,
   "metadata": {},
   "outputs": [],
   "source": [
    "    @dataclasses.dataclass\n",
    "    class Spark:\n",
    "        x: pandas.np.array \n",
    "        y: pandas.np.array = None\n",
    "        chr: str = '_'\n",
    "        def _repr_mimebundle_(self, include=None, exclude=None):\n",
    "            object = vdom.div(*(\n",
    "                vdom.code(\n",
    "                    x if isinstance(x, str) else self.chr, style={\n",
    "                        'vertical-align': F\"{y}rem\",\n",
    "                        'color': 'white'\n",
    "                    } \n",
    "                ) for x, y in zip(self.x, self.y if len(self.y) else self.x)\n",
    "            ))\n",
    "            dict = object._repr_mimebundle_(None, None)\n",
    "            return {**dict, 'text/html': object._repr_html_()}, {}"
   ]
  },
  {
   "cell_type": "code",
   "execution_count": 4,
   "metadata": {},
   "outputs": [
    {
     "data": {
      "application/vdom.v1+json": {
       "attributes": {},
       "children": [
        {
         "attributes": {
          "style": {
           "color": "white",
           "vertical-align": "1.2246467991473533e-15rem"
          }
         },
         "children": [
          "😎"
         ],
         "tagName": "code"
        },
        {
         "attributes": {
          "style": {
           "color": "white",
           "vertical-align": "0.5929079290546424rem"
          }
         },
         "children": [
          "👍"
         ],
         "tagName": "code"
        },
        {
         "attributes": {
          "style": {
           "color": "white",
           "vertical-align": "0.9549022414440739rem"
          }
         },
         "children": [
          "_"
         ],
         "tagName": "code"
        },
        {
         "attributes": {
          "style": {
           "color": "white",
           "vertical-align": "0.9450008187146681rem"
          }
         },
         "children": [
          "_"
         ],
         "tagName": "code"
        },
        {
         "attributes": {
          "style": {
           "color": "white",
           "vertical-align": "0.5670598638627687rem"
          }
         },
         "children": [
          "_"
         ],
         "tagName": "code"
        },
        {
         "attributes": {
          "style": {
           "color": "white",
           "vertical-align": "-0.03172793349806775rem"
          }
         },
         "children": [
          "_"
         ],
         "tagName": "code"
        },
        {
         "attributes": {
          "style": {
           "color": "white",
           "vertical-align": "-0.6181589862206063rem"
          }
         },
         "children": [
          "_"
         ],
         "tagName": "code"
        },
        {
         "attributes": {
          "style": {
           "color": "white",
           "vertical-align": "-0.9638421585599427rem"
          }
         },
         "children": [
          "_"
         ],
         "tagName": "code"
        },
        {
         "attributes": {
          "style": {
           "color": "white",
           "vertical-align": "-0.9341478602651067rem"
          }
         },
         "children": [
          "_"
         ],
         "tagName": "code"
        },
        {
         "attributes": {
          "style": {
           "color": "white",
           "vertical-align": "-0.5406408174555964rem"
          }
         },
         "children": [
          "_"
         ],
         "tagName": "code"
        },
        {
         "attributes": {
          "style": {
           "color": "white",
           "vertical-align": "0.06342391965656348rem"
          }
         },
         "children": [
          "_"
         ],
         "tagName": "code"
        },
        {
         "attributes": {
          "style": {
           "color": "white",
           "vertical-align": "0.6427876096865395rem"
          }
         },
         "children": [
          "_"
         ],
         "tagName": "code"
        },
        {
         "attributes": {
          "style": {
           "color": "white",
           "vertical-align": "0.971811568323542rem"
          }
         },
         "children": [
          "_"
         ],
         "tagName": "code"
        },
        {
         "attributes": {
          "style": {
           "color": "white",
           "vertical-align": "0.9223542941045804rem"
          }
         },
         "children": [
          "_"
         ],
         "tagName": "code"
        },
        {
         "attributes": {
          "style": {
           "color": "white",
           "vertical-align": "0.5136773915734062rem"
          }
         },
         "children": [
          "_"
         ],
         "tagName": "code"
        },
        {
         "attributes": {
          "style": {
           "color": "white",
           "vertical-align": "-0.09505604330418405rem"
          }
         },
         "children": [
          "_"
         ],
         "tagName": "code"
        },
        {
         "attributes": {
          "style": {
           "color": "white",
           "vertical-align": "-0.6667690005162908rem"
          }
         },
         "children": [
          "_"
         ],
         "tagName": "code"
        },
        {
         "attributes": {
          "style": {
           "color": "white",
           "vertical-align": "-0.9788024462147787rem"
          }
         },
         "children": [
          "_"
         ],
         "tagName": "code"
        },
        {
         "attributes": {
          "style": {
           "color": "white",
           "vertical-align": "-0.9096319953545178rem"
          }
         },
         "children": [
          "👍"
         ],
         "tagName": "code"
        },
        {
         "attributes": {
          "style": {
           "color": "white",
           "vertical-align": "-0.4861967361004664rem"
          }
         },
         "children": [
          "_"
         ],
         "tagName": "code"
        },
        {
         "attributes": {
          "style": {
           "color": "white",
           "vertical-align": "0.12659245357374954rem"
          }
         },
         "children": [
          "😎"
         ],
         "tagName": "code"
        },
        {
         "attributes": {
          "style": {
           "color": "white",
           "vertical-align": "0.690079011482113rem"
          }
         },
         "children": [
          "_"
         ],
         "tagName": "code"
        },
        {
         "attributes": {
          "style": {
           "color": "white",
           "vertical-align": "0.9848077530122079rem"
          }
         },
         "children": [
          "_"
         ],
         "tagName": "code"
        },
        {
         "attributes": {
          "style": {
           "color": "white",
           "vertical-align": "0.8959937742913358rem"
          }
         },
         "children": [
          "_"
         ],
         "tagName": "code"
        },
        {
         "attributes": {
          "style": {
           "color": "white",
           "vertical-align": "0.4582265217274091rem"
          }
         },
         "children": [
          "_"
         ],
         "tagName": "code"
        },
        {
         "attributes": {
          "style": {
           "color": "white",
           "vertical-align": "-0.1580013959733508rem"
          }
         },
         "children": [
          "_"
         ],
         "tagName": "code"
        },
        {
         "attributes": {
          "style": {
           "color": "white",
           "vertical-align": "-0.7126941713788632rem"
          }
         },
         "children": [
          "_"
         ],
         "tagName": "code"
        },
        {
         "attributes": {
          "style": {
           "color": "white",
           "vertical-align": "-0.9898214418809329rem"
          }
         },
         "children": [
          "_"
         ],
         "tagName": "code"
        },
        {
         "attributes": {
          "style": {
           "color": "white",
           "vertical-align": "-0.8814533634475824rem"
          }
         },
         "children": [
          "_"
         ],
         "tagName": "code"
        },
        {
         "attributes": {
          "style": {
           "color": "white",
           "vertical-align": "-0.42979491208917125rem"
          }
         },
         "children": [
          "_"
         ],
         "tagName": "code"
        },
        {
         "attributes": {
          "style": {
           "color": "white",
           "vertical-align": "0.18925124436041174rem"
          }
         },
         "children": [
          "_"
         ],
         "tagName": "code"
        },
        {
         "attributes": {
          "style": {
           "color": "white",
           "vertical-align": "0.7345917086575326rem"
          }
         },
         "children": [
          "_"
         ],
         "tagName": "code"
        },
        {
         "attributes": {
          "style": {
           "color": "white",
           "vertical-align": "0.9938384644612542rem"
          }
         },
         "children": [
          "_"
         ],
         "tagName": "code"
        },
        {
         "attributes": {
          "style": {
           "color": "white",
           "vertical-align": "0.8660254037844378rem"
          }
         },
         "children": [
          "_"
         ],
         "tagName": "code"
        },
        {
         "attributes": {
          "style": {
           "color": "white",
           "vertical-align": "0.4009305354066144rem"
          }
         },
         "children": [
          "_"
         ],
         "tagName": "code"
        },
        {
         "attributes": {
          "style": {
           "color": "white",
           "vertical-align": "-0.22031053278654106rem"
          }
         },
         "children": [
          "👍"
         ],
         "tagName": "code"
        },
        {
         "attributes": {
          "style": {
           "color": "white",
           "vertical-align": "-0.7557495743542594rem"
          }
         },
         "children": [
          "_"
         ],
         "tagName": "code"
        },
        {
         "attributes": {
          "style": {
           "color": "white",
           "vertical-align": "-0.9968547759519423rem"
          }
         },
         "children": [
          "_"
         ],
         "tagName": "code"
        },
        {
         "attributes": {
          "style": {
           "color": "white",
           "vertical-align": "-0.8497254299495142rem"
          }
         },
         "children": [
          "_"
         ],
         "tagName": "code"
        },
        {
         "attributes": {
          "style": {
           "color": "white",
           "vertical-align": "-0.37166245566032596rem"
          }
         },
         "children": [
          "_"
         ],
         "tagName": "code"
        },
        {
         "attributes": {
          "style": {
           "color": "white",
           "vertical-align": "0.2511479871810785rem"
          }
         },
         "children": [
          "😎"
         ],
         "tagName": "code"
        },
        {
         "attributes": {
          "style": {
           "color": "white",
           "vertical-align": "0.7761464642917572rem"
          }
         },
         "children": [
          "_"
         ],
         "tagName": "code"
        },
        {
         "attributes": {
          "style": {
           "color": "white",
           "vertical-align": "0.9988673391830081rem"
          }
         },
         "children": [
          "_"
         ],
         "tagName": "code"
        },
        {
         "attributes": {
          "style": {
           "color": "white",
           "vertical-align": "0.8325698546347717rem"
          }
         },
         "children": [
          "_"
         ],
         "tagName": "code"
        },
        {
         "attributes": {
          "style": {
           "color": "white",
           "vertical-align": "0.3420201433256682rem"
          }
         },
         "children": [
          "_"
         ],
         "tagName": "code"
        },
        {
         "attributes": {
          "style": {
           "color": "white",
           "vertical-align": "-0.28173255684143134rem"
          }
         },
         "children": [
          "_"
         ],
         "tagName": "code"
        },
        {
         "attributes": {
          "style": {
           "color": "white",
           "vertical-align": "-0.7957618405308318rem"
          }
         },
         "children": [
          "_"
         ],
         "tagName": "code"
        },
        {
         "attributes": {
          "style": {
           "color": "white",
           "vertical-align": "-0.9998741276738751rem"
          }
         },
         "children": [
          "_"
         ],
         "tagName": "code"
        },
        {
         "attributes": {
          "style": {
           "color": "white",
           "vertical-align": "-0.8145759520503347rem"
          }
         },
         "children": [
          "_"
         ],
         "tagName": "code"
        },
        {
         "attributes": {
          "style": {
           "color": "white",
           "vertical-align": "-0.3120334456984877rem"
          }
         },
         "children": [
          "_"
         ],
         "tagName": "code"
        },
        {
         "attributes": {
          "style": {
           "color": "white",
           "vertical-align": "0.3120334456984877rem"
          }
         },
         "children": [
          "_"
         ],
         "tagName": "code"
        },
        {
         "attributes": {
          "style": {
           "color": "white",
           "vertical-align": "0.8145759520503347rem"
          }
         },
         "children": [
          "_"
         ],
         "tagName": "code"
        },
        {
         "attributes": {
          "style": {
           "color": "white",
           "vertical-align": "0.9998741276738751rem"
          }
         },
         "children": [
          "👍"
         ],
         "tagName": "code"
        },
        {
         "attributes": {
          "style": {
           "color": "white",
           "vertical-align": "0.7957618405308318rem"
          }
         },
         "children": [
          "_"
         ],
         "tagName": "code"
        },
        {
         "attributes": {
          "style": {
           "color": "white",
           "vertical-align": "0.28173255684142795rem"
          }
         },
         "children": [
          "_"
         ],
         "tagName": "code"
        },
        {
         "attributes": {
          "style": {
           "color": "white",
           "vertical-align": "-0.3420201433256716rem"
          }
         },
         "children": [
          "_"
         ],
         "tagName": "code"
        },
        {
         "attributes": {
          "style": {
           "color": "white",
           "vertical-align": "-0.8325698546347697rem"
          }
         },
         "children": [
          "_"
         ],
         "tagName": "code"
        },
        {
         "attributes": {
          "style": {
           "color": "white",
           "vertical-align": "-0.9988673391830081rem"
          }
         },
         "children": [
          "_"
         ],
         "tagName": "code"
        },
        {
         "attributes": {
          "style": {
           "color": "white",
           "vertical-align": "-0.7761464642917572rem"
          }
         },
         "children": [
          "_"
         ],
         "tagName": "code"
        },
        {
         "attributes": {
          "style": {
           "color": "white",
           "vertical-align": "-0.2511479871810785rem"
          }
         },
         "children": [
          "_"
         ],
         "tagName": "code"
        },
        {
         "attributes": {
          "style": {
           "color": "white",
           "vertical-align": "0.3716624556603293rem"
          }
         },
         "children": [
          "😎"
         ],
         "tagName": "code"
        },
        {
         "attributes": {
          "style": {
           "color": "white",
           "vertical-align": "0.849725429949516rem"
          }
         },
         "children": [
          "_"
         ],
         "tagName": "code"
        },
        {
         "attributes": {
          "style": {
           "color": "white",
           "vertical-align": "0.9968547759519426rem"
          }
         },
         "children": [
          "_"
         ],
         "tagName": "code"
        },
        {
         "attributes": {
          "style": {
           "color": "white",
           "vertical-align": "0.7557495743542594rem"
          }
         },
         "children": [
          "_"
         ],
         "tagName": "code"
        },
        {
         "attributes": {
          "style": {
           "color": "white",
           "vertical-align": "0.22031053278654106rem"
          }
         },
         "children": [
          "_"
         ],
         "tagName": "code"
        },
        {
         "attributes": {
          "style": {
           "color": "white",
           "vertical-align": "-0.4009305354066144rem"
          }
         },
         "children": [
          "_"
         ],
         "tagName": "code"
        },
        {
         "attributes": {
          "style": {
           "color": "white",
           "vertical-align": "-0.8660254037844396rem"
          }
         },
         "children": [
          "_"
         ],
         "tagName": "code"
        },
        {
         "attributes": {
          "style": {
           "color": "white",
           "vertical-align": "-0.9938384644612546rem"
          }
         },
         "children": [
          "_"
         ],
         "tagName": "code"
        },
        {
         "attributes": {
          "style": {
           "color": "white",
           "vertical-align": "-0.7345917086575351rem"
          }
         },
         "children": [
          "_"
         ],
         "tagName": "code"
        },
        {
         "attributes": {
          "style": {
           "color": "white",
           "vertical-align": "-0.18925124436041174rem"
          }
         },
         "children": [
          "👍"
         ],
         "tagName": "code"
        },
        {
         "attributes": {
          "style": {
           "color": "white",
           "vertical-align": "0.42979491208917125rem"
          }
         },
         "children": [
          "_"
         ],
         "tagName": "code"
        },
        {
         "attributes": {
          "style": {
           "color": "white",
           "vertical-align": "0.8814533634475824rem"
          }
         },
         "children": [
          "_"
         ],
         "tagName": "code"
        },
        {
         "attributes": {
          "style": {
           "color": "white",
           "vertical-align": "0.9898214418809325rem"
          }
         },
         "children": [
          "_"
         ],
         "tagName": "code"
        },
        {
         "attributes": {
          "style": {
           "color": "white",
           "vertical-align": "0.7126941713788656rem"
          }
         },
         "children": [
          "_"
         ],
         "tagName": "code"
        },
        {
         "attributes": {
          "style": {
           "color": "white",
           "vertical-align": "0.15800139597335255rem"
          }
         },
         "children": [
          "_"
         ],
         "tagName": "code"
        },
        {
         "attributes": {
          "style": {
           "color": "white",
           "vertical-align": "-0.4582265217274091rem"
          }
         },
         "children": [
          "_"
         ],
         "tagName": "code"
        },
        {
         "attributes": {
          "style": {
           "color": "white",
           "vertical-align": "-0.8959937742913358rem"
          }
         },
         "children": [
          "_"
         ],
         "tagName": "code"
        },
        {
         "attributes": {
          "style": {
           "color": "white",
           "vertical-align": "-0.9848077530122079rem"
          }
         },
         "children": [
          "_"
         ],
         "tagName": "code"
        },
        {
         "attributes": {
          "style": {
           "color": "white",
           "vertical-align": "-0.6900790114821105rem"
          }
         },
         "children": [
          "_"
         ],
         "tagName": "code"
        },
        {
         "attributes": {
          "style": {
           "color": "white",
           "vertical-align": "-0.12659245357375307rem"
          }
         },
         "children": [
          "_"
         ],
         "tagName": "code"
        },
        {
         "attributes": {
          "style": {
           "color": "white",
           "vertical-align": "0.4861967361004664rem"
          }
         },
         "children": [
          "😎"
         ],
         "tagName": "code"
        },
        {
         "attributes": {
          "style": {
           "color": "white",
           "vertical-align": "0.9096319953545178rem"
          }
         },
         "children": [
          "_"
         ],
         "tagName": "code"
        },
        {
         "attributes": {
          "style": {
           "color": "white",
           "vertical-align": "0.9788024462147787rem"
          }
         },
         "children": [
          "_"
         ],
         "tagName": "code"
        },
        {
         "attributes": {
          "style": {
           "color": "white",
           "vertical-align": "0.6667690005162908rem"
          }
         },
         "children": [
          "_"
         ],
         "tagName": "code"
        },
        {
         "attributes": {
          "style": {
           "color": "white",
           "vertical-align": "0.09505604330418051rem"
          }
         },
         "children": [
          "_"
         ],
         "tagName": "code"
        },
        {
         "attributes": {
          "style": {
           "color": "white",
           "vertical-align": "-0.5136773915734031rem"
          }
         },
         "children": [
          "_"
         ],
         "tagName": "code"
        },
        {
         "attributes": {
          "style": {
           "color": "white",
           "vertical-align": "-0.9223542941045804rem"
          }
         },
         "children": [
          "👍"
         ],
         "tagName": "code"
        },
        {
         "attributes": {
          "style": {
           "color": "white",
           "vertical-align": "-0.971811568323542rem"
          }
         },
         "children": [
          "_"
         ],
         "tagName": "code"
        },
        {
         "attributes": {
          "style": {
           "color": "white",
           "vertical-align": "-0.6427876096865395rem"
          }
         },
         "children": [
          "_"
         ],
         "tagName": "code"
        },
        {
         "attributes": {
          "style": {
           "color": "white",
           "vertical-align": "-0.06342391965656348rem"
          }
         },
         "children": [
          "_"
         ],
         "tagName": "code"
        },
        {
         "attributes": {
          "style": {
           "color": "white",
           "vertical-align": "0.5406408174555994rem"
          }
         },
         "children": [
          "_"
         ],
         "tagName": "code"
        },
        {
         "attributes": {
          "style": {
           "color": "white",
           "vertical-align": "0.9341478602651054rem"
          }
         },
         "children": [
          "_"
         ],
         "tagName": "code"
        },
        {
         "attributes": {
          "style": {
           "color": "white",
           "vertical-align": "0.9638421585599427rem"
          }
         },
         "children": [
          "_"
         ],
         "tagName": "code"
        },
        {
         "attributes": {
          "style": {
           "color": "white",
           "vertical-align": "0.6181589862206063rem"
          }
         },
         "children": [
          "_"
         ],
         "tagName": "code"
        },
        {
         "attributes": {
          "style": {
           "color": "white",
           "vertical-align": "0.03172793349806775rem"
          }
         },
         "children": [
          "_"
         ],
         "tagName": "code"
        },
        {
         "attributes": {
          "style": {
           "color": "white",
           "vertical-align": "-0.5670598638627716rem"
          }
         },
         "children": [
          "_"
         ],
         "tagName": "code"
        },
        {
         "attributes": {
          "style": {
           "color": "white",
           "vertical-align": "-0.9450008187146692rem"
          }
         },
         "children": [
          "_"
         ],
         "tagName": "code"
        },
        {
         "attributes": {
          "style": {
           "color": "white",
           "vertical-align": "-0.954902241444075rem"
          }
         },
         "children": [
          "_"
         ],
         "tagName": "code"
        },
        {
         "attributes": {
          "style": {
           "color": "white",
           "vertical-align": "-0.5929079290546424rem"
          }
         },
         "children": [
          "_"
         ],
         "tagName": "code"
        },
        {
         "attributes": {
          "style": {
           "color": "white",
           "vertical-align": "-1.2246467991473533e-15rem"
          }
         },
         "children": [
          "_"
         ],
         "tagName": "code"
        }
       ],
       "tagName": "div"
      },
      "text/html": [
       "<div><code style=\"color: white; vertical-align: 1.2246467991473533e-15rem\">😎</code><code style=\"color: white; vertical-align: 0.5929079290546424rem\">👍</code><code style=\"color: white; vertical-align: 0.9549022414440739rem\">_</code><code style=\"color: white; vertical-align: 0.9450008187146681rem\">_</code><code style=\"color: white; vertical-align: 0.5670598638627687rem\">_</code><code style=\"color: white; vertical-align: -0.03172793349806775rem\">_</code><code style=\"color: white; vertical-align: -0.6181589862206063rem\">_</code><code style=\"color: white; vertical-align: -0.9638421585599427rem\">_</code><code style=\"color: white; vertical-align: -0.9341478602651067rem\">_</code><code style=\"color: white; vertical-align: -0.5406408174555964rem\">_</code><code style=\"color: white; vertical-align: 0.06342391965656348rem\">_</code><code style=\"color: white; vertical-align: 0.6427876096865395rem\">_</code><code style=\"color: white; vertical-align: 0.971811568323542rem\">_</code><code style=\"color: white; vertical-align: 0.9223542941045804rem\">_</code><code style=\"color: white; vertical-align: 0.5136773915734062rem\">_</code><code style=\"color: white; vertical-align: -0.09505604330418405rem\">_</code><code style=\"color: white; vertical-align: -0.6667690005162908rem\">_</code><code style=\"color: white; vertical-align: -0.9788024462147787rem\">_</code><code style=\"color: white; vertical-align: -0.9096319953545178rem\">👍</code><code style=\"color: white; vertical-align: -0.4861967361004664rem\">_</code><code style=\"color: white; vertical-align: 0.12659245357374954rem\">😎</code><code style=\"color: white; vertical-align: 0.690079011482113rem\">_</code><code style=\"color: white; vertical-align: 0.9848077530122079rem\">_</code><code style=\"color: white; vertical-align: 0.8959937742913358rem\">_</code><code style=\"color: white; vertical-align: 0.4582265217274091rem\">_</code><code style=\"color: white; vertical-align: -0.1580013959733508rem\">_</code><code style=\"color: white; vertical-align: -0.7126941713788632rem\">_</code><code style=\"color: white; vertical-align: -0.9898214418809329rem\">_</code><code style=\"color: white; vertical-align: -0.8814533634475824rem\">_</code><code style=\"color: white; vertical-align: -0.42979491208917125rem\">_</code><code style=\"color: white; vertical-align: 0.18925124436041174rem\">_</code><code style=\"color: white; vertical-align: 0.7345917086575326rem\">_</code><code style=\"color: white; vertical-align: 0.9938384644612542rem\">_</code><code style=\"color: white; vertical-align: 0.8660254037844378rem\">_</code><code style=\"color: white; vertical-align: 0.4009305354066144rem\">_</code><code style=\"color: white; vertical-align: -0.22031053278654106rem\">👍</code><code style=\"color: white; vertical-align: -0.7557495743542594rem\">_</code><code style=\"color: white; vertical-align: -0.9968547759519423rem\">_</code><code style=\"color: white; vertical-align: -0.8497254299495142rem\">_</code><code style=\"color: white; vertical-align: -0.37166245566032596rem\">_</code><code style=\"color: white; vertical-align: 0.2511479871810785rem\">😎</code><code style=\"color: white; vertical-align: 0.7761464642917572rem\">_</code><code style=\"color: white; vertical-align: 0.9988673391830081rem\">_</code><code style=\"color: white; vertical-align: 0.8325698546347717rem\">_</code><code style=\"color: white; vertical-align: 0.3420201433256682rem\">_</code><code style=\"color: white; vertical-align: -0.28173255684143134rem\">_</code><code style=\"color: white; vertical-align: -0.7957618405308318rem\">_</code><code style=\"color: white; vertical-align: -0.9998741276738751rem\">_</code><code style=\"color: white; vertical-align: -0.8145759520503347rem\">_</code><code style=\"color: white; vertical-align: -0.3120334456984877rem\">_</code><code style=\"color: white; vertical-align: 0.3120334456984877rem\">_</code><code style=\"color: white; vertical-align: 0.8145759520503347rem\">_</code><code style=\"color: white; vertical-align: 0.9998741276738751rem\">👍</code><code style=\"color: white; vertical-align: 0.7957618405308318rem\">_</code><code style=\"color: white; vertical-align: 0.28173255684142795rem\">_</code><code style=\"color: white; vertical-align: -0.3420201433256716rem\">_</code><code style=\"color: white; vertical-align: -0.8325698546347697rem\">_</code><code style=\"color: white; vertical-align: -0.9988673391830081rem\">_</code><code style=\"color: white; vertical-align: -0.7761464642917572rem\">_</code><code style=\"color: white; vertical-align: -0.2511479871810785rem\">_</code><code style=\"color: white; vertical-align: 0.3716624556603293rem\">😎</code><code style=\"color: white; vertical-align: 0.849725429949516rem\">_</code><code style=\"color: white; vertical-align: 0.9968547759519426rem\">_</code><code style=\"color: white; vertical-align: 0.7557495743542594rem\">_</code><code style=\"color: white; vertical-align: 0.22031053278654106rem\">_</code><code style=\"color: white; vertical-align: -0.4009305354066144rem\">_</code><code style=\"color: white; vertical-align: -0.8660254037844396rem\">_</code><code style=\"color: white; vertical-align: -0.9938384644612546rem\">_</code><code style=\"color: white; vertical-align: -0.7345917086575351rem\">_</code><code style=\"color: white; vertical-align: -0.18925124436041174rem\">👍</code><code style=\"color: white; vertical-align: 0.42979491208917125rem\">_</code><code style=\"color: white; vertical-align: 0.8814533634475824rem\">_</code><code style=\"color: white; vertical-align: 0.9898214418809325rem\">_</code><code style=\"color: white; vertical-align: 0.7126941713788656rem\">_</code><code style=\"color: white; vertical-align: 0.15800139597335255rem\">_</code><code style=\"color: white; vertical-align: -0.4582265217274091rem\">_</code><code style=\"color: white; vertical-align: -0.8959937742913358rem\">_</code><code style=\"color: white; vertical-align: -0.9848077530122079rem\">_</code><code style=\"color: white; vertical-align: -0.6900790114821105rem\">_</code><code style=\"color: white; vertical-align: -0.12659245357375307rem\">_</code><code style=\"color: white; vertical-align: 0.4861967361004664rem\">😎</code><code style=\"color: white; vertical-align: 0.9096319953545178rem\">_</code><code style=\"color: white; vertical-align: 0.9788024462147787rem\">_</code><code style=\"color: white; vertical-align: 0.6667690005162908rem\">_</code><code style=\"color: white; vertical-align: 0.09505604330418051rem\">_</code><code style=\"color: white; vertical-align: -0.5136773915734031rem\">_</code><code style=\"color: white; vertical-align: -0.9223542941045804rem\">👍</code><code style=\"color: white; vertical-align: -0.971811568323542rem\">_</code><code style=\"color: white; vertical-align: -0.6427876096865395rem\">_</code><code style=\"color: white; vertical-align: -0.06342391965656348rem\">_</code><code style=\"color: white; vertical-align: 0.5406408174555994rem\">_</code><code style=\"color: white; vertical-align: 0.9341478602651054rem\">_</code><code style=\"color: white; vertical-align: 0.9638421585599427rem\">_</code><code style=\"color: white; vertical-align: 0.6181589862206063rem\">_</code><code style=\"color: white; vertical-align: 0.03172793349806775rem\">_</code><code style=\"color: white; vertical-align: -0.5670598638627716rem\">_</code><code style=\"color: white; vertical-align: -0.9450008187146692rem\">_</code><code style=\"color: white; vertical-align: -0.954902241444075rem\">_</code><code style=\"color: white; vertical-align: -0.5929079290546424rem\">_</code><code style=\"color: white; vertical-align: -1.2246467991473533e-15rem\">_</code></div>"
      ],
      "text/plain": [
       "<div><code style=\"color: white; vertical-align: 1.2246467991473533e-15rem\">😎</code><code style=\"color: white; vertical-align: 0.5929079290546424rem\">👍</code><code style=\"color: white; vertical-align: 0.9549022414440739rem\">_</code><code style=\"color: white; vertical-align: 0.9450008187146681rem\">_</code><code style=\"color: white; vertical-align: 0.5670598638627687rem\">_</code><code style=\"color: white; vertical-align: -0.03172793349806775rem\">_</code><code style=\"color: white; vertical-align: -0.6181589862206063rem\">_</code><code style=\"color: white; vertical-align: -0.9638421585599427rem\">_</code><code style=\"color: white; vertical-align: -0.9341478602651067rem\">_</code><code style=\"color: white; vertical-align: -0.5406408174555964rem\">_</code><code style=\"color: white; vertical-align: 0.06342391965656348rem\">_</code><code style=\"color: white; vertical-align: 0.6427876096865395rem\">_</code><code style=\"color: white; vertical-align: 0.971811568323542rem\">_</code><code style=\"color: white; vertical-align: 0.9223542941045804rem\">_</code><code style=\"color: white; vertical-align: 0.5136773915734062rem\">_</code><code style=\"color: white; vertical-align: -0.09505604330418405rem\">_</code><code style=\"color: white; vertical-align: -0.6667690005162908rem\">_</code><code style=\"color: white; vertical-align: -0.9788024462147787rem\">_</code><code style=\"color: white; vertical-align: -0.9096319953545178rem\">👍</code><code style=\"color: white; vertical-align: -0.4861967361004664rem\">_</code><code style=\"color: white; vertical-align: 0.12659245357374954rem\">😎</code><code style=\"color: white; vertical-align: 0.690079011482113rem\">_</code><code style=\"color: white; vertical-align: 0.9848077530122079rem\">_</code><code style=\"color: white; vertical-align: 0.8959937742913358rem\">_</code><code style=\"color: white; vertical-align: 0.4582265217274091rem\">_</code><code style=\"color: white; vertical-align: -0.1580013959733508rem\">_</code><code style=\"color: white; vertical-align: -0.7126941713788632rem\">_</code><code style=\"color: white; vertical-align: -0.9898214418809329rem\">_</code><code style=\"color: white; vertical-align: -0.8814533634475824rem\">_</code><code style=\"color: white; vertical-align: -0.42979491208917125rem\">_</code><code style=\"color: white; vertical-align: 0.18925124436041174rem\">_</code><code style=\"color: white; vertical-align: 0.7345917086575326rem\">_</code><code style=\"color: white; vertical-align: 0.9938384644612542rem\">_</code><code style=\"color: white; vertical-align: 0.8660254037844378rem\">_</code><code style=\"color: white; vertical-align: 0.4009305354066144rem\">_</code><code style=\"color: white; vertical-align: -0.22031053278654106rem\">👍</code><code style=\"color: white; vertical-align: -0.7557495743542594rem\">_</code><code style=\"color: white; vertical-align: -0.9968547759519423rem\">_</code><code style=\"color: white; vertical-align: -0.8497254299495142rem\">_</code><code style=\"color: white; vertical-align: -0.37166245566032596rem\">_</code><code style=\"color: white; vertical-align: 0.2511479871810785rem\">😎</code><code style=\"color: white; vertical-align: 0.7761464642917572rem\">_</code><code style=\"color: white; vertical-align: 0.9988673391830081rem\">_</code><code style=\"color: white; vertical-align: 0.8325698546347717rem\">_</code><code style=\"color: white; vertical-align: 0.3420201433256682rem\">_</code><code style=\"color: white; vertical-align: -0.28173255684143134rem\">_</code><code style=\"color: white; vertical-align: -0.7957618405308318rem\">_</code><code style=\"color: white; vertical-align: -0.9998741276738751rem\">_</code><code style=\"color: white; vertical-align: -0.8145759520503347rem\">_</code><code style=\"color: white; vertical-align: -0.3120334456984877rem\">_</code><code style=\"color: white; vertical-align: 0.3120334456984877rem\">_</code><code style=\"color: white; vertical-align: 0.8145759520503347rem\">_</code><code style=\"color: white; vertical-align: 0.9998741276738751rem\">👍</code><code style=\"color: white; vertical-align: 0.7957618405308318rem\">_</code><code style=\"color: white; vertical-align: 0.28173255684142795rem\">_</code><code style=\"color: white; vertical-align: -0.3420201433256716rem\">_</code><code style=\"color: white; vertical-align: -0.8325698546347697rem\">_</code><code style=\"color: white; vertical-align: -0.9988673391830081rem\">_</code><code style=\"color: white; vertical-align: -0.7761464642917572rem\">_</code><code style=\"color: white; vertical-align: -0.2511479871810785rem\">_</code><code style=\"color: white; vertical-align: 0.3716624556603293rem\">😎</code><code style=\"color: white; vertical-align: 0.849725429949516rem\">_</code><code style=\"color: white; vertical-align: 0.9968547759519426rem\">_</code><code style=\"color: white; vertical-align: 0.7557495743542594rem\">_</code><code style=\"color: white; vertical-align: 0.22031053278654106rem\">_</code><code style=\"color: white; vertical-align: -0.4009305354066144rem\">_</code><code style=\"color: white; vertical-align: -0.8660254037844396rem\">_</code><code style=\"color: white; vertical-align: -0.9938384644612546rem\">_</code><code style=\"color: white; vertical-align: -0.7345917086575351rem\">_</code><code style=\"color: white; vertical-align: -0.18925124436041174rem\">👍</code><code style=\"color: white; vertical-align: 0.42979491208917125rem\">_</code><code style=\"color: white; vertical-align: 0.8814533634475824rem\">_</code><code style=\"color: white; vertical-align: 0.9898214418809325rem\">_</code><code style=\"color: white; vertical-align: 0.7126941713788656rem\">_</code><code style=\"color: white; vertical-align: 0.15800139597335255rem\">_</code><code style=\"color: white; vertical-align: -0.4582265217274091rem\">_</code><code style=\"color: white; vertical-align: -0.8959937742913358rem\">_</code><code style=\"color: white; vertical-align: -0.9848077530122079rem\">_</code><code style=\"color: white; vertical-align: -0.6900790114821105rem\">_</code><code style=\"color: white; vertical-align: -0.12659245357375307rem\">_</code><code style=\"color: white; vertical-align: 0.4861967361004664rem\">😎</code><code style=\"color: white; vertical-align: 0.9096319953545178rem\">_</code><code style=\"color: white; vertical-align: 0.9788024462147787rem\">_</code><code style=\"color: white; vertical-align: 0.6667690005162908rem\">_</code><code style=\"color: white; vertical-align: 0.09505604330418051rem\">_</code><code style=\"color: white; vertical-align: -0.5136773915734031rem\">_</code><code style=\"color: white; vertical-align: -0.9223542941045804rem\">👍</code><code style=\"color: white; vertical-align: -0.971811568323542rem\">_</code><code style=\"color: white; vertical-align: -0.6427876096865395rem\">_</code><code style=\"color: white; vertical-align: -0.06342391965656348rem\">_</code><code style=\"color: white; vertical-align: 0.5406408174555994rem\">_</code><code style=\"color: white; vertical-align: 0.9341478602651054rem\">_</code><code style=\"color: white; vertical-align: 0.9638421585599427rem\">_</code><code style=\"color: white; vertical-align: 0.6181589862206063rem\">_</code><code style=\"color: white; vertical-align: 0.03172793349806775rem\">_</code><code style=\"color: white; vertical-align: -0.5670598638627716rem\">_</code><code style=\"color: white; vertical-align: -0.9450008187146692rem\">_</code><code style=\"color: white; vertical-align: -0.954902241444075rem\">_</code><code style=\"color: white; vertical-align: -0.5929079290546424rem\">_</code><code style=\"color: white; vertical-align: -1.2246467991473533e-15rem\">_</code></div>"
      ]
     },
     "execution_count": 4,
     "metadata": {},
     "output_type": "execute_result"
    }
   ],
   "source": [
    "    inc = 10\n",
    "    xx = list(pandas.np.linspace(-inc*pandas.np.pi, inc*pandas.np.pi, 100))\n",
    "    yy = pandas.np.sin(xx)\n",
    "    xx[::20] = '😎'*len(xx[::20])\n",
    "    xx[1::17] = '👍'*len(xx[1::17])\n",
    "    Spark(xx, yy)"
   ]
  }
 ],
 "metadata": {
  "kernelspec": {
   "display_name": "Python 3",
   "language": "python",
   "name": "python3"
  },
  "language_info": {
   "codemirror_mode": {
    "name": "ipython",
    "version": 3
   },
   "file_extension": ".py",
   "mimetype": "text/x-python",
   "name": "python",
   "nbconvert_exporter": "python",
   "pygments_lexer": "ipython3",
   "version": "3.6.6"
  }
 },
 "nbformat": 4,
 "nbformat_minor": 2
}
