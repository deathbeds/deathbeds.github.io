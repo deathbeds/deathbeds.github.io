{
 "cells": [
  {
   "cell_type": "code",
   "execution_count": 1,
   "metadata": {},
   "outputs": [],
   "source": [
    "import pygments"
   ]
  },
  {
   "cell_type": "code",
   "execution_count": null,
   "metadata": {},
   "outputs": [],
   "source": [
    "extensions = ' '.join(\"\"\"\n",
    "@deathbeds/jupyterlab_graphviz@0.1.1\n",
    "@deathbeds/jupyterlab-font-anonymous-pro@0.5.0\n",
    "@deathbeds/jupyterlab-font-dejavu-sans-mono@0.5.0\n",
    "@deathbeds/jupyterlab-font-fira-code@0.5.0\n",
    "@deathbeds/jupyterlab-fonts@0.5.0\n",
    "@deathbeds/jupyterlab-literallycanvas@0.3.0\n",
    "@deathbeds/jyve-kyrnel-brython-unsafe@0.6.0\n",
    "@deathbeds/jyve-kyrnel-coffee-unsafe@0.6.0\n",
    "@deathbeds/jyve-kyrnel-js-unsafe@0.6.0\n",
    "@deathbeds/jyve-kyrnel-p5-unsafe@0.6.0\n",
    "@deathbeds/jyve-kyrnel-typescript-unsafe@0.6.0\n",
    "@deathbeds/jyve-lyb-phosphor@0.6.0\n",
    "@deathbeds/jyve@0.6.0\n",
    "@jupyter-widgets/jupyterlab-manager@0.37.2\n",
    "@jupyter-widgets/jupyterlab-sidecar@0.3.0\n",
    "@jupyterlab/hub-extension@0.11.0\n",
    "@jupyterlab/statusbar@0.4.1\n",
    "@jupyterlab/toc@0.4.0\n",
    "bqplot@0.4.1\n",
    "jupyter-threejs@1.1.0\n",
    "jupyter-webrtc@0.4.0\"\"\".splitlines())\n",
    "\n",
    "!jupyter labextension install $extensions --no-build\n",
    "!jupyter lab build --dev"
   ]
  }
 ],
 "metadata": {
  "kernelspec": {
   "display_name": "Python 3",
   "language": "python",
   "name": "python3"
  },
  "language_info": {
   "codemirror_mode": {
    "name": "ipython",
    "version": 3
   },
   "file_extension": ".py",
   "mimetype": "text/x-python",
   "name": "python",
   "nbconvert_exporter": "python",
   "pygments_lexer": "ipython3",
   "version": "3.6.5"
  }
 },
 "nbformat": 4,
 "nbformat_minor": 2
}
