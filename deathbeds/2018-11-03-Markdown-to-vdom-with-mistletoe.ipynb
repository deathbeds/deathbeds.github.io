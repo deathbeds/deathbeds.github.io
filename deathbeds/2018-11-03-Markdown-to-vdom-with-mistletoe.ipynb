{
 "cells": [
  {
   "cell_type": "markdown",
   "metadata": {},
   "source": [
    "`vdom` is Python data object for composing HTML. `mistletoe` is a markdown converter; in this notebook we write a `mistletoe` to `vdom`\n",
    "renderer.\n",
    "\n",
    "> __Personal Opinion__: `mistletoe` is easier to extend than `mistune` and `commonmark`.\n",
    "\n",
    "`vdom`, like `altair`, embed extra data into the notebook that can be consumed later."
   ]
  },
  {
   "cell_type": "markdown",
   "metadata": {},
   "source": [
    "This post builds [on previous work that converts `html` to `vdom`](2018-11-01-vdom-from-raw-html.ipynb)."
   ]
  },
  {
   "cell_type": "code",
   "execution_count": 91,
   "metadata": {},
   "outputs": [],
   "source": [
    "from deathbeds import __vdom_from_raw_html  as vdom_raw"
   ]
  },
  {
   "cell_type": "code",
   "execution_count": 92,
   "metadata": {},
   "outputs": [],
   "source": [
    "import mistletoe, vdom, functools, html"
   ]
  },
  {
   "cell_type": "markdown",
   "metadata": {},
   "source": [
    "`vdomRenderer` replaces all of the `mistletoe.html_renderer.HTMLRenderer` methods to return `vdom` objects.  It was possible to simplify\n",
    "most of the original `mistletoe.html_renderer.HTMLRenderer` by returning `vdom`."
   ]
  },
  {
   "cell_type": "code",
   "execution_count": 2,
   "metadata": {},
   "outputs": [
    {
     "ename": "NameError",
     "evalue": "name 'mistletoe' is not defined",
     "output_type": "error",
     "traceback": [
      "\u001b[1;31m---------------------------------------------------------------------------\u001b[0m",
      "\u001b[1;31mNameError\u001b[0m                                 Traceback (most recent call last)",
      "\u001b[1;32m<ipython-input-2-eab7740e54b2>\u001b[0m in \u001b[0;36m<module>\u001b[1;34m\u001b[0m\n\u001b[1;32m----> 1\u001b[1;33m \u001b[1;32mclass\u001b[0m \u001b[0mvdomRenderer\u001b[0m\u001b[1;33m(\u001b[0m\u001b[0mmistletoe\u001b[0m\u001b[1;33m.\u001b[0m\u001b[0mhtml_renderer\u001b[0m\u001b[1;33m.\u001b[0m\u001b[0mHTMLRenderer\u001b[0m\u001b[1;33m)\u001b[0m\u001b[1;33m:\u001b[0m\u001b[1;33m\u001b[0m\u001b[0m\n\u001b[0m\u001b[0;32m      2\u001b[0m     \u001b[1;32mdef\u001b[0m \u001b[0mrender_inner\u001b[0m\u001b[1;33m(\u001b[0m\u001b[0mself\u001b[0m\u001b[1;33m,\u001b[0m \u001b[0mtoken\u001b[0m\u001b[1;33m,\u001b[0m \u001b[0mtag\u001b[0m\u001b[1;33m=\u001b[0m\u001b[1;32mNone\u001b[0m\u001b[1;33m,\u001b[0m \u001b[1;33m**\u001b[0m\u001b[0mdata\u001b[0m\u001b[1;33m)\u001b[0m\u001b[1;33m:\u001b[0m\u001b[1;33m\u001b[0m\u001b[0m\n\u001b[0;32m      3\u001b[0m         \u001b[1;32mreturn\u001b[0m \u001b[0mtag\u001b[0m\u001b[1;33m(\u001b[0m\u001b[1;33m*\u001b[0m\u001b[1;33m(\u001b[0m\u001b[0mself\u001b[0m\u001b[1;33m.\u001b[0m\u001b[0mrender\u001b[0m\u001b[1;33m(\u001b[0m\u001b[0mchild\u001b[0m\u001b[1;33m)\u001b[0m \u001b[1;32mfor\u001b[0m \u001b[0mchild\u001b[0m \u001b[1;32min\u001b[0m \u001b[0mtoken\u001b[0m\u001b[1;33m.\u001b[0m\u001b[0mchildren\u001b[0m\u001b[1;33m)\u001b[0m\u001b[1;33m,\u001b[0m \u001b[1;33m**\u001b[0m\u001b[0mdata\u001b[0m\u001b[1;33m)\u001b[0m\u001b[1;33m\u001b[0m\u001b[0m\n\u001b[0;32m      4\u001b[0m \u001b[1;33m\u001b[0m\u001b[0m\n\u001b[0;32m      5\u001b[0m     \u001b[0mrender_document\u001b[0m \u001b[1;33m=\u001b[0m \u001b[0mfunctools\u001b[0m\u001b[1;33m.\u001b[0m\u001b[0mpartialmethod\u001b[0m\u001b[1;33m(\u001b[0m\u001b[0mrender_inner\u001b[0m\u001b[1;33m,\u001b[0m \u001b[0mtag\u001b[0m\u001b[1;33m=\u001b[0m\u001b[0mvdom\u001b[0m\u001b[1;33m.\u001b[0m\u001b[0mdiv\u001b[0m\u001b[1;33m)\u001b[0m\u001b[1;33m\u001b[0m\u001b[0m\n",
      "\u001b[1;31mNameError\u001b[0m: name 'mistletoe' is not defined"
     ]
    }
   ],
   "source": [
    "class vdomRenderer(mistletoe.html_renderer.HTMLRenderer):\n",
    "    def render_inner(self, token, tag=None, **data):\n",
    "        return tag(*(self.render(child) for child in token.children), **data)\n",
    "\n",
    "    render_document = functools.partialmethod(render_inner, tag=vdom.div)\n",
    "    render_strong = functools.partialmethod(render_inner, tag=vdom.strong)\n",
    "    render_emphasis = functools.partialmethod(render_inner, tag=vdom.em)\n",
    "    render_strikethrough = functools.partialmethod(render_inner, tag=vdom.create_component('del'))        \n",
    "    render_escape_sequence = functools.partialmethod(render_inner, tag=vdom.span)\n",
    "    render_paragraph = functools.partialmethod(render_inner, tag=vdom.p)\n",
    "    render_quote = functools.partialmethod(render_inner, tag=vdom.blockquote)\n",
    "    render_quote = functools.partialmethod(render_inner, tag=vdom.blockquote)\n",
    "    render_list_item = functools.partialmethod(render_inner, tag=vdom.li)\n",
    "\n",
    "    def render_image(self, token):\n",
    "        if token.title: title = self.escape_html(token.title)\n",
    "        else: title = ''            \n",
    "        return vdom.img(src=token.src, alt=self.render_to_plain(token), title=title)\n",
    "\n",
    "    def render_to_plain(self, token):\n",
    "        if hasattr(token, 'children'):\n",
    "            inner = [self.render_to_plain(child) for child in token.children]\n",
    "            return ''.join(inner)\n",
    "        return self.escape_html(token.content)\n",
    "\n",
    "    def render_link(self, token):\n",
    "        target = self.escape_url(token.target)\n",
    "        if token.title: title = self.escape_html(token.title)\n",
    "        else: title = ''            \n",
    "        return self.render_inner(token, vdom.a, href=target, title=title)\n",
    "\n",
    "    def render_auto_link(self, token):\n",
    "        if token.mailto:\n",
    "            target = 'mailto:{}'.format(token.target)\n",
    "        else:\n",
    "            target = self.escape_url(token.target)\n",
    "        return self.render_inner(token, vdom.a, href=target)\n",
    "\n",
    "    def render_raw_text(self, token): return self.escape_html(token.content)\n",
    "\n",
    "    def render_heading(self, token): return self.render_inner(token, getattr(vdom, F'h{token.level}'))\n",
    "\n",
    "    def render_block_code(self, token):\n",
    "        return vdom.pre(vdom.code(html.escape(token.children[0].content), **({\n",
    "            'class': F\"language-{self.escape_html(token.language)}\"\n",
    "        } if token.language else {})))\n",
    "\n",
    "    def render_list(self, token, tag=vdom.ul):\n",
    "        if token.start is not None:\n",
    "            tag = vdom.ol\n",
    "            if token.start != 1:\n",
    "                tag = functools.partial(tag, start=str(token.start))\n",
    "            attr = ' start=\"{}\"'.format(token.start) if token.start != 1 else ''\n",
    "        return self.render_inner(token, tag)\n",
    "\n",
    "    def render_table(self, token, tag=vdom.table):\n",
    "        if hasattr(token, 'header'):\n",
    "            tag = functools.partial(tag,vdom.thead(self.render_table_row(token.header, is_header=True)))\n",
    "        return tag(self.render_inner(token, vdom.tbody))\n",
    "\n",
    "    def render_table_row(self, token, is_header=False):\n",
    "        return vdom.tr(*(self.render_table_cell(child, is_header) for child in token.children))\n",
    "\n",
    "    def render_table_cell(self, token, in_header=False):\n",
    "        return self.render_inner(token, vdom.th if in_header else vdom.td, align={\n",
    "            None: 'left', 0: 'center', 1: 'right'\n",
    "        }[token.align])\n",
    "\n",
    "    @staticmethod\n",
    "    def render_thematic_break(token): return vdom.hr()\n",
    "\n",
    "    @staticmethod\n",
    "    def render_line_break(token): return '\\n' if token.soft else vdom.br()\n",
    "\n",
    "    @staticmethod\n",
    "    def render_html_block(token): return vdom_raw.parser.feed(token.content)\n",
    "\n",
    "    def render_inline_code(self, token): return self.render_inner(html.escape(token.children[0].content), vdom.code)\n",
    "\n",
    "    def render_html_span(self, token):  return vdom_raw.parser.feed(token.content)"
   ]
  },
  {
   "cell_type": "code",
   "execution_count": 3,
   "metadata": {},
   "outputs": [],
   "source": [
    "def test_it_runs():\n",
    "    vdomRenderer().render(mistletoe.Document(\"\"\"# A table \n",
    "\n",
    "    | Tables        | Are           | Cool  |\n",
    "    | ------------- |:-------------:| -----:|\n",
    "    | col 3 is      | right-aligned | $1600 |\n",
    "    | col 2 is      | centered      |   $12 |\n",
    "    | zebra stripes | are neat      |    $1 |\n",
    "    * Now we are talaking about some business and that bu Now we are talaking about some business and that bu Now we are talaking about some business and that bu Now we are talaking about some business and that bu Now we are talaking about some business and that bu Now we are talaking about some business and that bu Now we are talaking about some business and that bu Now we are talaking about some business and that bu Now we are talaking about some business and that bu Now we are talaking about some business and that bu Now we are talaking about some business and that bu Now we are talaking about some business and that bu Now we are talaking about some business and that bu Now we are talaking about some business and that bu Now we are talaking about some business and that bu Now we are talaking about some business and that bu Now we are talaking about some business and that bu Now we are talaking about some business and that bu Now we are talaking about some business and that bu Now we are talaking about some business and that bu Now we are talaking about some business and that bu Now we are talaking about some business and that bu Now we are talaking about some business and that bu Now we are talaking about some business and that bu Now we are talaking about some business and that bu \n",
    "        * > Does a block quote work in line item\n",
    "\n",
    "      Then we talk more\n",
    "        * Fuck\n",
    "    * ###  B\n",
    "\n",
    "    > Testing things\n",
    "\n",
    "    ### Howdy\\n\\n~~Good~~ look buh <span><code>__crap__</code></span>.\\n\\n<h1>Things</h1>\"\"\"))\n",
    "\n"
   ]
  },
  {
   "cell_type": "code",
   "execution_count": null,
   "metadata": {},
   "outputs": [],
   "source": [
    "    if __name__ == '__main__':\n",
    "        !ipython -m pytest -- 2018-11-03-Markdown-to-vdom-with-mistletoe.ipynb"
   ]
  },
  {
   "cell_type": "code",
   "execution_count": null,
   "metadata": {},
   "outputs": [],
   "source": []
  },
  {
   "cell_type": "code",
   "execution_count": null,
   "metadata": {},
   "outputs": [],
   "source": []
  },
  {
   "cell_type": "code",
   "execution_count": null,
   "metadata": {},
   "outputs": [],
   "source": []
  }
 ],
 "metadata": {
  "kernelspec": {
   "display_name": "Python 3",
   "language": "python",
   "name": "python3"
  },
  "language_info": {
   "codemirror_mode": {
    "name": "ipython",
    "version": 3
   },
   "file_extension": ".py",
   "mimetype": "text/x-python",
   "name": "python",
   "nbconvert_exporter": "python",
   "pygments_lexer": "ipython3",
   "version": "3.6.6"
  }
 },
 "nbformat": 4,
 "nbformat_minor": 2
}
