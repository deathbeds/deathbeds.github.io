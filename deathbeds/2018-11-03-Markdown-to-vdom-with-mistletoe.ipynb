{
 "cells": [
  {
   "cell_type": "markdown",
   "metadata": {},
   "source": [
    "`vdom` is Python data object for composing HTML. `mistletoe` is a markdown converter; in this notebook we write a `mistletoe` to `vdom`\n",
    "renderer.\n",
    "\n",
    "> There are some outstanding issues about how to handle inline span html.\n",
    "\n",
    "> __Personal Opinion__: `mistletoe` is easier to extend than `mistune` and `commonmark`.\n",
    "\n",
    "`vdom`, like `altair`, embed extra data into the notebook that can be consumed later."
   ]
  },
  {
   "cell_type": "markdown",
   "metadata": {},
   "source": [
    "This post builds [on previous work that converts `html` to `vdom`](2018-11-01-vdom-from-raw-html.ipynb)."
   ]
  },
  {
   "cell_type": "code",
   "execution_count": 1,
   "metadata": {},
   "outputs": [
    {
     "data": {
      "text/html": [
       "<style>\n",
       ".jp-mod-presentationMode {\n",
       "    --jp-notebook-padding: 0;\n",
       "}\n",
       ".jp-RenderedHTMLCommon pre code {\n",
       "    opacity: 0.25;\n",
       "}\n",
       ".jp-Placeholder-content .jp-MoreHorizIcon {\n",
       "    background-size: 32px;\n",
       "}\n",
       "</style><style>\n",
       ".jp-mod-presentationMode .jp-SideBar,\n",
       ".jp-mod-presentationMode #jp-top-panel {\n",
       "    opacity: 0.0;\n",
       "    transition: all 0.2s;\n",
       "}\n",
       ".jp-mod-presentationMode .jp-SideBar:hover,\n",
       ".jp-mod-presentationMode #jp-top-panel:hover {\n",
       "    opacity: 0.9;\n",
       "    transition: all 0.2s;\n",
       "}</style><style>\n",
       ".jp-mod-presentationMode.jp-ApplicationShell,\n",
       ".jp-mod-presentationMode .p-TabBar-content{\n",
       "    background-color: var(--jp-layout-color0);\n",
       "}\n",
       "</style><style>\n",
       ".jp-mod-presentationMode .p-DockPanel-widget,\n",
       ".jp-mod-presentationMode #jp-left-stack{\n",
       "    border-color: transparent;\n",
       "}\n",
       ".jp-mod-presentationMode .jp-Toolbar-item,\n",
       ".jp-mod-presentationMode .jp-Toolbar {\n",
       "    opacity: 0.1;\n",
       "    transition: all 0.2s;\n",
       "}\n",
       ".jp-mod-presentationMode .jp-Toolbar-item:hover,\n",
       ".jp-mod-presentationMode .jp-Toolbar:hover {\n",
       "    opacity: 0.9;\n",
       "    transition: all 0.2s;\n",
       "}\n",
       "\n",
       ".jp-mod-presentationMode .jp-InputArea {\n",
       "    flex-direction: column;\n",
       "}\n",
       "\n",
       "</style><style>\n",
       ".jp-mod-presentationMode .jp-Notebook .jp-Cell .jp-InputPrompt, \n",
       ".jp-mod-presentationMode .jp-Notebook .jp-Cell .jp-OutputPrompt {\n",
       "    flex: 0 0 2rem !important;\n",
       "    opacity: 0;\n",
       "}\n",
       ".jp-mod-presentationMode .jp-Notebook .jp-Cell.jp-mod-active .jp-OutputPrompt,\n",
       ".jp-mod-presentationMode .jp-Notebook .jp-Cell.jp-mod-active .jp-OutputPrompt {\n",
       "    opacity: 0.5;\n",
       "}\n",
       ".jp-mod-presentationMode .jp-Notebook .jp-Cell .jp-InputPrompt, \n",
       ".jp-mod-presentationMode .jp-Notebook .jp-Cell .jp-OutputPrompt\n",
       "\n",
       ".jp-mod-presentationMode hr {\n",
       "    opacity: 0.1;\n",
       "}\n",
       "</style>\n",
       "    <style>\n",
       "    .jp-TableOfContents-content h1, \n",
       "    .jp-TableOfContents-content h2 {\n",
       "        margin-bottom: var(--jp-ui-font-size0);\n",
       "    }\n",
       "    </style>\n",
       "    \n",
       "    <style>\n",
       "    .jp-mod-presentationMode {\n",
       "        --jp-content-heading-line-height: 1.25 !important;\n",
       "    }\n",
       "    </style>\n",
       "    \n",
       "    <style>\n",
       "    .jp-mod-presentationMode #jp-main-status-bar {\n",
       "        opacity: 0.06;\n",
       "        transition: all 0.2s;\n",
       "    }\n",
       "    .jp-mod-presentationMode #jp-main-status-bar:hover {\n",
       "        opacity: 0.8;\n",
       "        transition: all 0.2s;\n",
       "    }\n",
       "    </style>\n",
       "    "
      ],
      "text/plain": [
       "<IPython.core.display.HTML object>"
      ]
     },
     "metadata": {},
     "output_type": "display_data"
    }
   ],
   "source": [
    "from deathbeds import __vdom_from_raw_html  as vdom_raw\n",
    "import mistletoe, vdom, functools, html"
   ]
  },
  {
   "cell_type": "markdown",
   "metadata": {},
   "source": [
    "`vdomRenderer` replaces all of the `mistletoe.html_renderer.HTMLRenderer` methods to return `vdom` objects.  It was possible to simplify\n",
    "most of the original `mistletoe.html_renderer.HTMLRenderer` by returning `vdom`."
   ]
  },
  {
   "cell_type": "code",
   "execution_count": 3,
   "metadata": {},
   "outputs": [],
   "source": [
    "class vdomRenderer(mistletoe.html_renderer.HTMLRenderer):\n",
    "    def render_inner(self, token, tag=None, **data):\n",
    "        # The render function needs to be scoped appripiately.\n",
    "        render = lambda:tag(*(self.render(child) for child in token.children), **data)\n",
    "        if self._dom and self._dom.buf:\n",
    "            self._dom.buf[-1] = functools.partial(self._dom.buf[-1], render())\n",
    "            return ''\n",
    "        else: \n",
    "            return render()\n",
    "\n",
    "    render_document = functools.partialmethod(render_inner, tag=vdom.div)\n",
    "    render_strong = functools.partialmethod(render_inner, tag=vdom.strong)\n",
    "    render_emphasis = functools.partialmethod(render_inner, tag=vdom.em)\n",
    "    render_strikethrough = functools.partialmethod(render_inner, tag=vdom.create_component('del'))        \n",
    "    render_escape_sequence = functools.partialmethod(render_inner, tag=vdom.span)\n",
    "    render_paragraph = functools.partialmethod(render_inner, tag=vdom.p)\n",
    "    render_quote = functools.partialmethod(render_inner, tag=vdom.blockquote)\n",
    "    render_quote = functools.partialmethod(render_inner, tag=vdom.blockquote)\n",
    "    render_list_item = functools.partialmethod(render_inner, tag=vdom.li)\n",
    "\n",
    "    def render_image(self, token):\n",
    "        if token.title: title = self.escape_html(token.title)\n",
    "        else: title = ''            \n",
    "        return vdom.img(src=token.src, alt=self.render_to_plain(token), title=title)\n",
    "\n",
    "    def render_to_plain(self, token):\n",
    "        if hasattr(token, 'children'):\n",
    "            inner = [self.render_to_plain(child) for child in token.children]\n",
    "            return ''.join(inner)\n",
    "        return self.escape_html(token.content)\n",
    "\n",
    "    def render_link(self, token):\n",
    "        target = self.escape_url(token.target)\n",
    "        if token.title: title = self.escape_html(token.title)\n",
    "        else: title = ''            \n",
    "        return self.render_inner(token, vdom.a, href=target, title=title)\n",
    "\n",
    "    def render_auto_link(self, token):\n",
    "        if token.mailto:\n",
    "            target = 'mailto:{}'.format(token.target)\n",
    "        else:\n",
    "            target = self.escape_url(token.target)\n",
    "        return self.render_inner(token, vdom.a, href=target)\n",
    "\n",
    "    def render_raw_text(self, token): return self.escape_html(token.content)\n",
    "\n",
    "    def render_heading(self, token): return self.render_inner(token, getattr(vdom, F'h{token.level}'))\n",
    "\n",
    "    def render_block_code(self, token):\n",
    "        return vdom.pre(vdom.code(html.escape(token.children[0].content), **({\n",
    "            'class': F\"language-{self.escape_html(token.language)}\"\n",
    "        } if token.language else {})))\n",
    "\n",
    "    def render_list(self, token, tag=vdom.ul):\n",
    "        if token.start is not None:\n",
    "            tag = vdom.ol\n",
    "            if token.start != 1:\n",
    "                tag = functools.partial(tag, start=str(token.start))\n",
    "            attr = ' start=\"{}\"'.format(token.start) if token.start != 1 else ''\n",
    "        return self.render_inner(token, tag)\n",
    "\n",
    "    def render_table(self, token, tag=vdom.table):\n",
    "        if hasattr(token, 'header'):\n",
    "            tag = functools.partial(tag,vdom.thead(self.render_table_row(token.header, is_header=True)))\n",
    "        return tag(self.render_inner(token, vdom.tbody))\n",
    "\n",
    "    def render_table_row(self, token, is_header=False):\n",
    "        return vdom.tr(*(self.render_table_cell(child, is_header) for child in token.children))\n",
    "\n",
    "    def render_table_cell(self, token, in_header=False):\n",
    "        return self.render_inner(token, vdom.th if in_header else vdom.td, align={\n",
    "            None: 'left', 0: 'center', 1: 'right'\n",
    "        }[token.align])\n",
    "\n",
    "    @staticmethod\n",
    "    def render_thematic_break(token): return vdom.hr()\n",
    "\n",
    "    @staticmethod\n",
    "    def render_line_break(token): return '\\n' if token.soft else vdom.br()\n",
    "\n",
    "    @staticmethod\n",
    "    def render_html_block(token): return vdom_raw.vdomParser()(token.content)\n",
    "\n",
    "    def render_inline_code(self, token): \n",
    "        return self.render_inner(html.escape(token.children[0].content), vdom.code)\n",
    "\n",
    "    _dom = None\n",
    "    \n",
    "    def render_html_span(self, token):  \n",
    "        self._dom = (self._dom or vdom_raw.vdomParser())\n",
    "        self._dom.feed(token.content, vdom.span)\n",
    "        return self._dom.buf[0]() if len(self._dom.buf) == 1 else ''\n",
    "    "
   ]
  },
  {
   "cell_type": "markdown",
   "metadata": {},
   "source": [
    "def test_it_runs():"
   ]
  },
  {
   "cell_type": "code",
   "execution_count": 5,
   "metadata": {},
   "outputs": [
    {
     "data": {
      "application/vdom.v1+json": {
       "attributes": {},
       "children": [
        {
         "attributes": {},
         "children": [
          "A table"
         ],
         "tagName": "h1"
        },
        {
         "attributes": {},
         "children": [
          {
           "attributes": {},
           "children": [
            {
             "attributes": {},
             "children": [
              {
               "attributes": {
                "align": "left"
               },
               "children": [
                "Tables"
               ],
               "tagName": "th"
              },
              {
               "attributes": {
                "align": "center"
               },
               "children": [
                "Are"
               ],
               "tagName": "th"
              },
              {
               "attributes": {
                "align": "right"
               },
               "children": [
                "Cool"
               ],
               "tagName": "th"
              }
             ],
             "tagName": "tr"
            }
           ],
           "tagName": "thead"
          },
          {
           "attributes": {},
           "children": [
            {
             "attributes": {},
             "children": [
              {
               "attributes": {
                "align": "left"
               },
               "children": [
                "col 3 is"
               ],
               "tagName": "td"
              },
              {
               "attributes": {
                "align": "center"
               },
               "children": [
                "right-aligned"
               ],
               "tagName": "td"
              },
              {
               "attributes": {
                "align": "right"
               },
               "children": [
                "$1600"
               ],
               "tagName": "td"
              }
             ],
             "tagName": "tr"
            },
            {
             "attributes": {},
             "children": [
              {
               "attributes": {
                "align": "left"
               },
               "children": [
                "col 2 is"
               ],
               "tagName": "td"
              },
              {
               "attributes": {
                "align": "center"
               },
               "children": [
                "centered"
               ],
               "tagName": "td"
              },
              {
               "attributes": {
                "align": "right"
               },
               "children": [
                "$12"
               ],
               "tagName": "td"
              }
             ],
             "tagName": "tr"
            },
            {
             "attributes": {},
             "children": [
              {
               "attributes": {
                "align": "left"
               },
               "children": [
                "zebra stripes"
               ],
               "tagName": "td"
              },
              {
               "attributes": {
                "align": "center"
               },
               "children": [
                "are neat"
               ],
               "tagName": "td"
              },
              {
               "attributes": {
                "align": "right"
               },
               "children": [
                "$1"
               ],
               "tagName": "td"
              }
             ],
             "tagName": "tr"
            }
           ],
           "tagName": "tbody"
          }
         ],
         "tagName": "table"
        },
        {
         "attributes": {},
         "children": [
          {
           "attributes": {},
           "children": [
            {
             "attributes": {},
             "children": [
              "Now we are talaking about some business and that bu Now we are talaking about some business and that bu Now we are talaking about some business and that bu Now we are talaking about some business and that bu Now we are talaking about some business and that bu Now we are talaking about some business and that bu Now we are talaking about some business and that bu Now we are talaking about some business and that bu Now we are talaking about some business and that bu Now we are talaking about some business and that bu Now we are talaking about some business and that bu Now we are talaking about some business and that bu Now we are talaking about some business and that bu Now we are talaking about some business and that bu Now we are talaking about some business and that bu Now we are talaking about some business and that bu Now we are talaking about some business and that bu Now we are talaking about some business and that bu Now we are talaking about some business and that bu Now we are talaking about some business and that bu Now we are talaking about some business and that bu Now we are talaking about some business and that bu Now we are talaking about some business and that bu Now we are talaking about some business and that bu Now we are talaking about some business and that bu"
             ],
             "tagName": "p"
            },
            {
             "attributes": {},
             "children": [
              {
               "attributes": {},
               "children": [
                {
                 "attributes": {},
                 "children": [
                  {
                   "attributes": {},
                   "children": [
                    "Does a block quote work in line item"
                   ],
                   "tagName": "p"
                  }
                 ],
                 "tagName": "blockquote"
                }
               ],
               "tagName": "li"
              }
             ],
             "tagName": "ul"
            },
            {
             "attributes": {},
             "children": [
              "Then we talk more"
             ],
             "tagName": "p"
            },
            {
             "attributes": {},
             "children": [
              {
               "attributes": {},
               "children": [
                {
                 "attributes": {},
                 "children": [
                  "Fuck"
                 ],
                 "tagName": "p"
                }
               ],
               "tagName": "li"
              }
             ],
             "tagName": "ul"
            }
           ],
           "tagName": "li"
          },
          {
           "attributes": {},
           "children": [
            {
             "attributes": {},
             "children": [
              "B"
             ],
             "tagName": "h3"
            }
           ],
           "tagName": "li"
          }
         ],
         "tagName": "ul"
        },
        {
         "attributes": {},
         "children": [
          {
           "attributes": {},
           "children": [
            "Testing things"
           ],
           "tagName": "p"
          }
         ],
         "tagName": "blockquote"
        },
        {
         "attributes": {},
         "children": [
          "Howdy"
         ],
         "tagName": "h3"
        },
        {
         "attributes": {},
         "children": [
          {
           "attributes": {},
           "children": [
            "Good"
           ],
           "tagName": "del"
          },
          " look buh ",
          "",
          "",
          "",
          "",
          {
           "attributes": {},
           "children": [
            {
             "attributes": {},
             "children": [
              {
               "attributes": {},
               "children": [
                {
                 "attributes": {},
                 "children": [
                  "crap"
                 ],
                 "tagName": "strong"
                }
               ],
               "tagName": "code"
              }
             ],
             "tagName": "span"
            }
           ],
           "tagName": "span"
          },
          "."
         ],
         "tagName": "p"
        },
        {
         "attributes": {},
         "children": [
          {
           "attributes": {},
           "children": [
            "Things"
           ],
           "tagName": "h1"
          }
         ],
         "tagName": "div"
        }
       ],
       "tagName": "div"
      },
      "text/html": [
       "<div><h1>A table</h1><table><thead><tr><th align=\"left\">Tables</th><th align=\"center\">Are</th><th align=\"right\">Cool</th></tr></thead><tbody><tr><td align=\"left\">col 3 is</td><td align=\"center\">right-aligned</td><td align=\"right\">$1600</td></tr><tr><td align=\"left\">col 2 is</td><td align=\"center\">centered</td><td align=\"right\">$12</td></tr><tr><td align=\"left\">zebra stripes</td><td align=\"center\">are neat</td><td align=\"right\">$1</td></tr></tbody></table><ul><li><p>Now we are talaking about some business and that bu Now we are talaking about some business and that bu Now we are talaking about some business and that bu Now we are talaking about some business and that bu Now we are talaking about some business and that bu Now we are talaking about some business and that bu Now we are talaking about some business and that bu Now we are talaking about some business and that bu Now we are talaking about some business and that bu Now we are talaking about some business and that bu Now we are talaking about some business and that bu Now we are talaking about some business and that bu Now we are talaking about some business and that bu Now we are talaking about some business and that bu Now we are talaking about some business and that bu Now we are talaking about some business and that bu Now we are talaking about some business and that bu Now we are talaking about some business and that bu Now we are talaking about some business and that bu Now we are talaking about some business and that bu Now we are talaking about some business and that bu Now we are talaking about some business and that bu Now we are talaking about some business and that bu Now we are talaking about some business and that bu Now we are talaking about some business and that bu</p><ul><li><blockquote><p>Does a block quote work in line item</p></blockquote></li></ul><p>Then we talk more</p><ul><li><p>Fuck</p></li></ul></li><li><h3>B</h3></li></ul><blockquote><p>Testing things</p></blockquote><h3>Howdy</h3><p><del>Good</del> look buh <span><span><code><strong>crap</strong></code></span></span>.</p><div><h1>Things</h1></div></div>"
      ],
      "text/plain": [
       "<div><h1>A table</h1><table><thead><tr><th align=\"left\">Tables</th><th align=\"center\">Are</th><th align=\"right\">Cool</th></tr></thead><tbody><tr><td align=\"left\">col 3 is</td><td align=\"center\">right-aligned</td><td align=\"right\">$1600</td></tr><tr><td align=\"left\">col 2 is</td><td align=\"center\">centered</td><td align=\"right\">$12</td></tr><tr><td align=\"left\">zebra stripes</td><td align=\"center\">are neat</td><td align=\"right\">$1</td></tr></tbody></table><ul><li><p>Now we are talaking about some business and that bu Now we are talaking about some business and that bu Now we are talaking about some business and that bu Now we are talaking about some business and that bu Now we are talaking about some business and that bu Now we are talaking about some business and that bu Now we are talaking about some business and that bu Now we are talaking about some business and that bu Now we are talaking about some business and that bu Now we are talaking about some business and that bu Now we are talaking about some business and that bu Now we are talaking about some business and that bu Now we are talaking about some business and that bu Now we are talaking about some business and that bu Now we are talaking about some business and that bu Now we are talaking about some business and that bu Now we are talaking about some business and that bu Now we are talaking about some business and that bu Now we are talaking about some business and that bu Now we are talaking about some business and that bu Now we are talaking about some business and that bu Now we are talaking about some business and that bu Now we are talaking about some business and that bu Now we are talaking about some business and that bu Now we are talaking about some business and that bu</p><ul><li><blockquote><p>Does a block quote work in line item</p></blockquote></li></ul><p>Then we talk more</p><ul><li><p>Fuck</p></li></ul></li><li><h3>B</h3></li></ul><blockquote><p>Testing things</p></blockquote><h3>Howdy</h3><p><del>Good</del> look buh <span><span><code><strong>crap</strong></code></span></span>.</p><div><h1>Things</h1></div></div>"
      ]
     },
     "execution_count": 5,
     "metadata": {},
     "output_type": "execute_result"
    }
   ],
   "source": [
    "    vdomRenderer().render(mistletoe.Document(\"\"\"# A table \n",
    "\n",
    "    | Tables        | Are           | Cool  |\n",
    "    | ------------- |:-------------:| -----:|\n",
    "    | col 3 is      | right-aligned | $1600 |\n",
    "    | col 2 is      | centered      |   $12 |\n",
    "    | zebra stripes | are neat      |    $1 |\n",
    "    \n",
    "    * Now we are talaking about some business and that bu Now we are talaking about some business and that bu Now we are talaking about some business and that bu Now we are talaking about some business and that bu Now we are talaking about some business and that bu Now we are talaking about some business and that bu Now we are talaking about some business and that bu Now we are talaking about some business and that bu Now we are talaking about some business and that bu Now we are talaking about some business and that bu Now we are talaking about some business and that bu Now we are talaking about some business and that bu Now we are talaking about some business and that bu Now we are talaking about some business and that bu Now we are talaking about some business and that bu Now we are talaking about some business and that bu Now we are talaking about some business and that bu Now we are talaking about some business and that bu Now we are talaking about some business and that bu Now we are talaking about some business and that bu Now we are talaking about some business and that bu Now we are talaking about some business and that bu Now we are talaking about some business and that bu Now we are talaking about some business and that bu Now we are talaking about some business and that bu \n",
    "        * > Does a block quote work in line item\n",
    "\n",
    "      Then we talk more\n",
    "        * Fuck\n",
    "    * ###  B\n",
    "\n",
    "    > Testing things\n",
    "\n",
    "    ### Howdy\\n\\n~~Good~~ look buh <span><code>__crap__</code></span>.\\n\\n<h1>Things</h1>\"\"\".splitlines()))"
   ]
  },
  {
   "cell_type": "code",
   "execution_count": 7,
   "metadata": {},
   "outputs": [
    {
     "name": "stdout",
     "output_type": "stream",
     "text": [
      "============================= test session starts =============================\n",
      "platform win32 -- Python 3.6.6, pytest-3.5.1, py-1.5.3, pluggy-0.6.0\n",
      "Matplotlib: 2.2.2\n",
      "Freetype: 2.8.1\n",
      "rootdir: C:\\Users\\deathbeds\\deathbeds.github.io\\deathbeds, inifile: tox.ini\n",
      "plugins: xonsh-0.8.1, xdist-1.22.5, testmon-0.9.12, remotedata-0.2.1, parallel-0.0.2, openfiles-0.3.0, mpl-0.9, localserver-0.4.1, forked-0.2, doctestplus-0.1.3, arraydiff-0.2, hypothesis-3.66.16, importnb-0.5.0\n",
      "collected 2 items\n",
      "\n",
      "2018-11-03-Markdown-to-vdom-with-mistletoe.ipynb ..                      [100%]\n",
      "\n",
      "========================== 2 passed in 0.38 seconds ===========================\n"
     ]
    }
   ],
   "source": [
    "    if __name__ == '__main__':\n",
    "        !ipython -m pytest -- 2018-11-03-Markdown-to-vdom-with-mistletoe.ipynb"
   ]
  },
  {
   "cell_type": "code",
   "execution_count": 8,
   "metadata": {},
   "outputs": [
    {
     "ename": "NameError",
     "evalue": "name 'g' is not defined",
     "output_type": "error",
     "traceback": [
      "\u001b[1;31m---------------------------------------------------------------------------\u001b[0m",
      "\u001b[1;31mNameError\u001b[0m                                 Traceback (most recent call last)",
      "\u001b[1;32m<ipython-input-8-7edde860db76>\u001b[0m in \u001b[0;36m<module>\u001b[1;34m\u001b[0m\n\u001b[0;32m      2\u001b[0m         F\"\"\"# bUST\n\u001b[0;32m      3\u001b[0m \u001b[1;33m\u001b[0m\u001b[0m\n\u001b[1;32m----> 4\u001b[1;33m         {''.join(g._repr_svg_().splitlines())}\"\"\".splitlines()\n\u001b[0m\u001b[0;32m      5\u001b[0m         ))\n",
      "\u001b[1;31mNameError\u001b[0m: name 'g' is not defined"
     ]
    }
   ],
   "source": [
    "vdomRenderer().render(mistletoe.Document(\n",
    "        F\"\"\"# bUST\n",
    "\n",
    "        {''.join(g._repr_svg_().splitlines())}\"\"\".splitlines()\n",
    "        ))"
   ]
  },
  {
   "cell_type": "code",
   "execution_count": 14,
   "metadata": {},
   "outputs": [],
   "source": [
    "    def test_graphviz_in_markdown_in_vdom():"
   ]
  },
  {
   "cell_type": "code",
   "execution_count": 9,
   "metadata": {},
   "outputs": [
    {
     "data": {
      "application/vdom.v1+json": {
       "attributes": {},
       "children": [
        {
         "attributes": {},
         "children": [
          "bUST"
         ],
         "tagName": "h1"
        },
        {
         "attributes": {},
         "children": [
          {
           "attributes": {
            "height": "44pt",
            "viewbox": "0.00 0.00 62.00 44.00",
            "width": "62pt",
            "xmlns": "http://www.w3.org/2000/svg",
            "xmlns:xlink": "http://www.w3.org/1999/xlink"
           },
           "children": [
            {
             "attributes": {
              "class": "graph",
              "id": "graph0",
              "transform": "scale(1 1) rotate(0) translate(4 40)"
             },
             "children": [
              {
               "attributes": {},
               "children": [
                "%3"
               ],
               "tagName": "title"
              },
              {
               "attributes": {
                "fill": "white",
                "points": "-4,4 -4,-40 58,-40 58,4 -4,4",
                "stroke": "none"
               },
               "children": [],
               "tagName": "polygon"
              },
              {
               "attributes": {
                "class": "node",
                "id": "node1"
               },
               "children": [
                {
                 "attributes": {},
                 "children": [
                  "A"
                 ],
                 "tagName": "title"
                },
                {
                 "attributes": {
                  "cx": "27",
                  "cy": "-18",
                  "fill": "none",
                  "rx": "27",
                  "ry": "18",
                  "stroke": "black"
                 },
                 "children": [],
                 "tagName": "ellipse"
                },
                {
                 "attributes": {
                  "font-family": "Times New Roman,serif",
                  "font-size": "14.00",
                  "text-anchor": "middle",
                  "x": "27",
                  "y": "-14.3"
                 },
                 "children": [
                  "A"
                 ],
                 "tagName": "text"
                }
               ],
               "tagName": "g"
              }
             ],
             "tagName": "g"
            }
           ],
           "tagName": "svg"
          }
         ],
         "tagName": "div"
        }
       ],
       "tagName": "div"
      },
      "text/html": [
       "<div><h1>bUST</h1><div><svg height=\"44pt\" viewbox=\"0.00 0.00 62.00 44.00\" width=\"62pt\" xmlns=\"http://www.w3.org/2000/svg\" xmlns:xlink=\"http://www.w3.org/1999/xlink\"><g class=\"graph\" id=\"graph0\" transform=\"scale(1 1) rotate(0) translate(4 40)\"><title>%3</title><polygon fill=\"white\" points=\"-4,4 -4,-40 58,-40 58,4 -4,4\" stroke=\"none\"></polygon><g class=\"node\" id=\"node1\"><title>A</title><ellipse cx=\"27\" cy=\"-18\" fill=\"none\" rx=\"27\" ry=\"18\" stroke=\"black\"></ellipse><text font-family=\"Times New Roman,serif\" font-size=\"14.00\" text-anchor=\"middle\" x=\"27\" y=\"-14.3\">A</text></g></g></svg></div></div>"
      ],
      "text/plain": [
       "<div><h1>bUST</h1><div><svg height=\"44pt\" viewbox=\"0.00 0.00 62.00 44.00\" width=\"62pt\" xmlns=\"http://www.w3.org/2000/svg\" xmlns:xlink=\"http://www.w3.org/1999/xlink\"><g class=\"graph\" id=\"graph0\" transform=\"scale(1 1) rotate(0) translate(4 40)\"><title>%3</title><polygon fill=\"white\" points=\"-4,4 -4,-40 58,-40 58,4 -4,4\" stroke=\"none\"></polygon><g class=\"node\" id=\"node1\"><title>A</title><ellipse cx=\"27\" cy=\"-18\" fill=\"none\" rx=\"27\" ry=\"18\" stroke=\"black\"></ellipse><text font-family=\"Times New Roman,serif\" font-size=\"14.00\" text-anchor=\"middle\" x=\"27\" y=\"-14.3\">A</text></g></g></svg></div></div>"
      ]
     },
     "execution_count": 9,
     "metadata": {},
     "output_type": "execute_result"
    }
   ],
   "source": [
    "        import graphviz\n",
    "        g = graphviz.Source(\"graph {A}\")\n",
    "        vdomRenderer().render(mistletoe.Document(\n",
    "        F\"\"\"# bUST\n",
    "\n",
    "        {''.join(g._repr_svg_().splitlines())}\"\"\".splitlines()\n",
    "        ))"
   ]
  },
  {
   "cell_type": "code",
   "execution_count": null,
   "metadata": {},
   "outputs": [],
   "source": []
  }
 ],
 "metadata": {
  "kernelspec": {
   "display_name": "Python 3",
   "language": "python",
   "name": "python3"
  },
  "language_info": {
   "codemirror_mode": {
    "name": "ipython",
    "version": 3
   },
   "file_extension": ".py",
   "mimetype": "text/x-python",
   "name": "python",
   "nbconvert_exporter": "python",
   "pygments_lexer": "ipython3",
   "version": "3.6.6"
  }
 },
 "nbformat": 4,
 "nbformat_minor": 2
}
