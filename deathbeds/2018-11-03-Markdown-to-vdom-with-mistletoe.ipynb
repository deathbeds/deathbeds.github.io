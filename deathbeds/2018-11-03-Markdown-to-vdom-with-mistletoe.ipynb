{
 "cells": [
  {
   "cell_type": "markdown",
   "metadata": {},
   "source": [
    "`vdom` is Python data object for composing HTML. `mistletoe` is a markdown converter; in this notebook we write a `mistletoe` to `vdom`\n",
    "renderer.\n",
    "\n",
    "> There are some outstanding issues about how to handle inline span html.\n",
    "\n",
    "> __Personal Opinion__: `mistletoe` is easier to extend than `mistune` and `commonmark`.\n",
    "\n",
    "`vdom`, like `altair`, embed extra data into the notebook that can be consumed later."
   ]
  },
  {
   "cell_type": "markdown",
   "metadata": {},
   "source": [
    "This post builds [on previous work that converts `html` to `vdom`](2018-11-01-vdom-from-raw-html.ipynb)."
   ]
  },
  {
   "cell_type": "code",
   "execution_count": 380,
   "metadata": {},
   "outputs": [],
   "source": [
    "from deathbeds import __vdom_from_raw_html  as vdom_raw\n",
    "import mistletoe, vdom, functools, html"
   ]
  },
  {
   "cell_type": "markdown",
   "metadata": {},
   "source": [
    "`vdomRenderer` replaces all of the `mistletoe.html_renderer.HTMLRenderer` methods to return `vdom` objects.  It was possible to simplify\n",
    "most of the original `mistletoe.html_renderer.HTMLRenderer` by returning `vdom`."
   ]
  },
  {
   "cell_type": "code",
   "execution_count": 381,
   "metadata": {},
   "outputs": [],
   "source": [
    "class vdomRenderer(mistletoe.html_renderer.HTMLRenderer):\n",
    "    def __call__(self, str):\n",
    "        return self.render(mistletoe.Document(str.splitlines()))\n",
    "    def render_inner(self, token, tag=None, **data):\n",
    "        render = lambda:tag(*(self.render(child) for child in token.children), **data)\n",
    "        if self._dom and self._dom.buf[-1]:\n",
    "            self._dom.buf[-1][-1] = functools.partial(self._dom.buf[-1][-1], render())\n",
    "            return ''\n",
    "        else: return render()\n",
    "\n",
    "    render_document = functools.partialmethod(render_inner, tag=vdom.div)\n",
    "    render_strong = functools.partialmethod(render_inner, tag=vdom.strong)\n",
    "    render_emphasis = functools.partialmethod(render_inner, tag=vdom.em)\n",
    "    render_strikethrough = functools.partialmethod(render_inner, tag=vdom.create_component('del'))        \n",
    "    render_escape_sequence = functools.partialmethod(render_inner, tag=vdom.span)\n",
    "    render_paragraph = functools.partialmethod(render_inner, tag=vdom.p)\n",
    "    render_quote = functools.partialmethod(render_inner, tag=vdom.blockquote)\n",
    "    render_list_item = functools.partialmethod(render_inner, tag=vdom.li)\n",
    "\n",
    "    def render_image(self, token):\n",
    "        return vdom.img(src=token.src, alt=self.render_to_plain(token), title=token.title and self.escape_html(token.title) or '')\n",
    "\n",
    "    def render_to_plain(self, token):\n",
    "        if hasattr(token, 'children'):\n",
    "            return ''.join(self.render_to_plain(child) for child in token.children)\n",
    "        return self.escape_html(token.content)\n",
    "\n",
    "    def render_link(self, token): return self.render_inner(\n",
    "        token, vdom.a, href=self.escape_url(token.target), \n",
    "        title=token.title and self.escape_html(token.title) or '')\n",
    "\n",
    "    def render_auto_link(self, token): return self.render_inner(\n",
    "        token, vdom.a, href=token.mailto and 'mailto:{}'.format(token.target)  or self.escape_url(token.target))\n",
    "\n",
    "    def render_raw_text(self, token): return self.escape_html(token.content)\n",
    "\n",
    "    def render_heading(self, token): return self.render_inner(token, getattr(vdom, F'h{token.level}'))\n",
    "\n",
    "    def render_block_code(self, token): return vdom.pre(\n",
    "        vdom.code(html.escape(token.children[0].content), **({\n",
    "            'class': F\"language-{self.escape_html(token.language)}\"\n",
    "        } if token.language else {})))\n",
    "\n",
    "    def render_list(self, token, tag=vdom.ul, **data):\n",
    "        if token.start is not None:\n",
    "            tag = vdom.ol\n",
    "            if token.start != 1: tag = functools.partial(tag, start=str(token.start))\n",
    "            data.update(start=token.start if token.start != 1 else '')\n",
    "        return self.render_inner(token, tag, **data)                    \n",
    "    \n",
    "    def render_table(self, token, tag=vdom.table):\n",
    "        if hasattr(token, 'header'): tag = functools.partial(tag, vdom.thead(self.render_table_row(token.header, is_header=True)))\n",
    "        return tag(self.render_inner(token, vdom.tbody))\n",
    "\n",
    "    def render_table_row(self, token, is_header=False): return vdom.tr(\n",
    "        *(self.render_table_cell(child, is_header) for child in token.children))\n",
    "\n",
    "    def render_table_cell(self, token, in_header=False): return self.render_inner(\n",
    "        token, vdom.th if in_header else vdom.td, align={None: 'left', 0: 'center', 1: 'right'}[token.align])\n",
    "    \n",
    "    @staticmethod\n",
    "    def render_thematic_break(token):  return vdom.hr()\n",
    "    \n",
    "    @staticmethod\n",
    "    def render_line_break(token): return '\\n' if token.soft else vdom.br()\n",
    "\n",
    "    @staticmethod\n",
    "    def render_html_block(token): return vdom.div(vdom_raw.vdomParser()(token.content))\n",
    "\n",
    "    def render_inline_code(self, token): \n",
    "        return self.render_inner(html.escape(token.children[0].content), vdom.code)\n",
    "\n",
    "    _dom = None\n",
    "    \n",
    "    def render_html_span(self, token):  \n",
    "        self._dom = (self._dom or vdom_raw.vdomParser())\n",
    "        self._dom.feed(token.content)\n",
    "        return self._dom.buf.pop(0) if len(self._dom.buf) == 2 else ''\n",
    "    "
   ]
  },
  {
   "cell_type": "code",
   "execution_count": 382,
   "metadata": {},
   "outputs": [],
   "source": [
    "class FlexRenderer(vdomRenderer):\n",
    "    def render_list(self, token, tag=vdom.ul, **data):\n",
    "        setattr(self, 'prepends', getattr(self, 'prepends') or [])\n",
    "        if token.start is not None:\n",
    "            tag = vdom.ol\n",
    "            if token.start != 1: tag = functools.partial(tag, start=str(token.start))\n",
    "            data.update(start=token.start if token.start != 1 else '')\n",
    "        elif self.flex: tag = data.update(style={\n",
    "            'width': '100%', 'display': 'flex', 'flex-direction': ['row', 'column'][len(self.prepends)%2]\n",
    "        }) or vdom.div\n",
    "        try: return self.prepends.append(None) or self.render_inner(token, tag, **data)        \n",
    "        finally: self.prepends.pop()        \n",
    "    \n",
    "    def render_list_item(self, token, tag=vdom.li, **data):\n",
    "        if self.prepends[-1] is None: self.prepends[-1] = token.prepend\n",
    "        if not token.leader[0].isnumeric() and self.flex:\n",
    "            tag = vdom.div\n",
    "            data.update(style={'flex': '1', 'max-width': '100%'})\n",
    "        return self.render_inner(token, tag, **data)"
   ]
  },
  {
   "cell_type": "code",
   "execution_count": 383,
   "metadata": {},
   "outputs": [],
   "source": [
    "class FlexRenderer(vdomRenderer):\n",
    "    prepend = None\n",
    "    def render_list(self, token, tag=vdom.ul, **data):\n",
    "        setattr(self, 'prepend', getattr(self, 'prepend') or [])\n",
    "        self.prepend.append(token.children[0].leader if token.children and token.children[0].leader == '-' else None)  \n",
    "        try:\n",
    "            if self.prepend[-1]: return self.render_inner(token, vdom.div, **{**data, 'style':{\n",
    "                'width': '100%', 'display': 'flex', 'flex-direction': ['column', 'row'][sum(map(bool, self.prepend))%2]}})        \n",
    "            else: return super().render_list(token, tag, **data)\n",
    "        finally: self.prepend.pop()        \n",
    "    \n",
    "    def render_list_item(self, token, tag=vdom.li, **data):\n",
    "        if self.prepend[-1]:\n",
    "            tag = vdom.div\n",
    "            data.update(style={'flex': '1', 'max-width': '100%'})\n",
    "        return self.render_inner(token, tag, **data)"
   ]
  },
  {
   "cell_type": "code",
   "execution_count": 384,
   "metadata": {},
   "outputs": [
    {
     "name": "stdout",
     "output_type": "stream",
     "text": [
      "============================= test session starts =============================\n",
      "platform win32 -- Python 3.6.6, pytest-3.5.1, py-1.5.3, pluggy-0.6.0\n",
      "Matplotlib: 2.2.2\n",
      "Freetype: 2.8.1\n",
      "rootdir: C:\\Users\\deathbeds\\deathbeds.github.io\\deathbeds, inifile: tox.ini\n",
      "plugins: xonsh-0.8.1, xdist-1.22.5, testmon-0.9.12, remotedata-0.2.1, parallel-0.0.2, openfiles-0.3.0, mpl-0.9, localserver-0.4.1, forked-0.2, doctestplus-0.1.3, arraydiff-0.2, hypothesis-3.66.16, importnb-0.5.0\n",
      "collected 4 items\n",
      "\n",
      "2018-11-03-Markdown-to-vdom-with-mistletoe.ipynb ....                    [100%]\n",
      "\n",
      "========================== 4 passed in 0.86 seconds ===========================\n"
     ]
    }
   ],
   "source": [
    "    if __name__ == '__main__':\n",
    "        !ipython -m pytest -- 2018-11-03-Markdown-to-vdom-with-mistletoe.ipynb"
   ]
  },
  {
   "cell_type": "code",
   "execution_count": 371,
   "metadata": {},
   "outputs": [],
   "source": [
    "    renderers = __import__('pytest').mark.parametrize('renderer', (FlexRenderer, vdomRenderer))"
   ]
  },
  {
   "cell_type": "code",
   "execution_count": 372,
   "metadata": {},
   "outputs": [],
   "source": [
    "    @renderers\n",
    "    def test_renderer(renderer):\n",
    "        r = renderer()\n",
    "        r.render(mistletoe.Document(\"\"\"---\n",
    "    \n",
    "    # A table \n",
    "\n",
    "    | Tables        | Are           | Cool  |\n",
    "    | ------------- |:-------------:| -----:|\n",
    "    | col 3 is      | right-aligned | $1600 |\n",
    "    | col 2 is      | centered      |   $12 |\n",
    "    | zebra stripes | are neat      |    $1 |\n",
    "    \n",
    "    \n",
    "    \n",
    "    * Now we are talaking about some business and that bu Now we are talaking about some business and that bu Now we are talaking about some business and that bu Now we are talaking about some business and that bu Now we are talaking about some business and that bu Now we are talaking about some business and that bu Now we are talaking about some business and that bu Now we are talaking about some business and that bu Now we are talaking about some business and that bu Now we are talaking about some business and that bu Now we are talaking about some business and that bu Now we are talaking about some business and that bu Now we are talaking about some business and that bu Now we are talaking about some business and that bu Now we are talaking about some business and that bu Now we are talaking about some business and that bu Now we are talaking about some business and that bu Now we are talaking about some business and that bu Now we are talaking about some business and that bu Now we are talaking about some business and that bu Now we are talaking about some business and that bu Now we are talaking about some business and that bu Now we are talaking about some business and that bu Now we are talaking about some business and that bu Now we are talaking about some business and that bu \n",
    "      * > Does a block quote work in line item\n",
    "\n",
    "    * asdklfjaskdfj\n",
    "    \n",
    "        * Fuck\n",
    "             \n",
    "        * A\n",
    "       \n",
    "       * B\n",
    "                \n",
    "            1. C\n",
    "            2. D\n",
    "        * Q\n",
    "        \n",
    "    * ###  B\n",
    "    \n",
    "    ---\n",
    "\n",
    "    > Testing things\n",
    "\n",
    "    ### Howdy\\n\\n~~Good~~ look buh <span><code>__crap__</code></span>.\\n\\n<h1>Things</h1>\"\"\".splitlines()))"
   ]
  },
  {
   "cell_type": "code",
   "execution_count": 317,
   "metadata": {},
   "outputs": [],
   "source": [
    "    @renderers\n",
    "    def test_graphviz_in_markdown_in_vdom(renderer):\n",
    "        import graphviz\n",
    "        g = graphviz.Source(\"graph {A}\")\n",
    "        renderer().render(mistletoe.Document(\n",
    "        F\"\"\"# bUST\n",
    "\n",
    "        {''.join(g._repr_svg_().splitlines())}\"\"\".splitlines()\n",
    "        ))"
   ]
  },
  {
   "cell_type": "code",
   "execution_count": null,
   "metadata": {},
   "outputs": [],
   "source": []
  }
 ],
 "metadata": {
  "kernelspec": {
   "display_name": "Python 3",
   "language": "python",
   "name": "python3"
  },
  "language_info": {
   "codemirror_mode": {
    "name": "ipython",
    "version": 3
   },
   "file_extension": ".py",
   "mimetype": "text/x-python",
   "name": "python",
   "nbconvert_exporter": "python",
   "pygments_lexer": "ipython3",
   "version": "3.6.6"
  }
 },
 "nbformat": 4,
 "nbformat_minor": 2
}
