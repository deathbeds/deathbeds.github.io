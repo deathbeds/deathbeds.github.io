{
 "cells": [
  {
   "cell_type": "markdown",
   "metadata": {},
   "source": [
    "Just recently, we made `jinja2` aware of the `IPython.display` system.  In this post, we do the same thing with `string.Template`."
   ]
  },
  {
   "cell_type": "code",
   "execution_count": 57,
   "metadata": {},
   "outputs": [],
   "source": [
    "    import string, collections, contextlib, IPython"
   ]
  },
  {
   "cell_type": "markdown",
   "metadata": {},
   "source": [
    "Reuse our `aware.ipython_formatter` from the prior post."
   ]
  },
  {
   "cell_type": "code",
   "execution_count": 27,
   "metadata": {},
   "outputs": [],
   "source": [
    "    from deathbeds import __Ipython_aware_jinja_templates as aware"
   ]
  },
  {
   "cell_type": "markdown",
   "metadata": {},
   "source": [
    "Make a `collections.UserDict` that we can us to capture the `IPython.display.DisplayObject` for each object in the namespace."
   ]
  },
  {
   "cell_type": "code",
   "execution_count": 61,
   "metadata": {},
   "outputs": [],
   "source": [
    "    class IpythonChainMap(collections.UserDict):\n",
    "        def __getitem__(self, object):\n",
    "            format = aware.ipython_formatter(super().__getitem__(object))\n",
    "            return format"
   ]
  },
  {
   "cell_type": "markdown",
   "metadata": {},
   "source": [
    "Validate that this fancy 💩 works."
   ]
  },
  {
   "cell_type": "code",
   "execution_count": 59,
   "metadata": {},
   "outputs": [],
   "source": [
    "    %reload_ext deathbeds.___018_09_03_Custom_display_formatting\n",
    "    g = \"graph {A B}\"\n",
    "    IPython.display.HTML(string.Template(\"This is a graph $g testing. \").safe_substitute(IpythonChainMap(dict(g=g))))"
   ]
  },
  {
   "cell_type": "code",
   "execution_count": null,
   "metadata": {},
   "outputs": [],
   "source": []
  }
 ],
 "metadata": {
  "kernelspec": {
   "display_name": "Python 3",
   "language": "python",
   "name": "python3"
  },
  "language_info": {
   "codemirror_mode": {
    "name": "ipython",
    "version": 3
   },
   "file_extension": ".py",
   "mimetype": "text/x-python",
   "name": "python",
   "nbconvert_exporter": "python",
   "pygments_lexer": "ipython3",
   "version": "3.6.6"
  }
 },
 "nbformat": 4,
 "nbformat_minor": 2
}
