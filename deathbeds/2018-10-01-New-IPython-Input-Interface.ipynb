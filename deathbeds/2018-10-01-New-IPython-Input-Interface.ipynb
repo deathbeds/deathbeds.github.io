{
 "cells": [
  {
   "cell_type": "markdown",
   "metadata": {},
   "source": [
    "The most apparent changes in IPython 7.0 for the `deathbeds` crew are the new __async__ interfaces and the new `IPython.core.inputtransformer2` that supercedes the \n",
    "old `IPython.core.inputtransformer`.\n",
    "\n",
    "> The new interface requires significantly less code than the old approach.  Great works y'all 👍."
   ]
  },
  {
   "cell_type": "code",
   "execution_count": 1,
   "metadata": {},
   "outputs": [
    {
     "data": {
      "text/html": [
       "<style>\n",
       ".jp-mod-presentationMode {\n",
       "    --jp-notebook-padding: 0;\n",
       "}\n",
       ".jp-RenderedHTMLCommon pre code {\n",
       "    opacity: 0.25;\n",
       "}\n",
       ".jp-Placeholder-content .jp-MoreHorizIcon {\n",
       "    background-size: 32px;\n",
       "}\n",
       "</style><style>\n",
       ".jp-mod-presentationMode .jp-SideBar,\n",
       ".jp-mod-presentationMode #jp-top-panel {\n",
       "    opacity: 0.0;\n",
       "    transition: all 0.2s;\n",
       "}\n",
       ".jp-mod-presentationMode .jp-SideBar:hover,\n",
       ".jp-mod-presentationMode #jp-top-panel:hover {\n",
       "    opacity: 0.9;\n",
       "    transition: all 0.2s;\n",
       "}</style><style>\n",
       ".jp-mod-presentationMode.jp-ApplicationShell,\n",
       ".jp-mod-presentationMode .p-TabBar-content{\n",
       "    background-color: var(--jp-layout-color0);\n",
       "}\n",
       "</style><style>\n",
       ".jp-mod-presentationMode .p-DockPanel-widget,\n",
       ".jp-mod-presentationMode #jp-left-stack{\n",
       "    border-color: transparent;\n",
       "}\n",
       ".jp-mod-presentationMode .jp-Toolbar-item,\n",
       ".jp-mod-presentationMode .jp-Toolbar {\n",
       "    opacity: 0.1;\n",
       "    transition: all 0.2s;\n",
       "}\n",
       ".jp-mod-presentationMode .jp-Toolbar-item:hover,\n",
       ".jp-mod-presentationMode .jp-Toolbar:hover {\n",
       "    opacity: 0.9;\n",
       "    transition: all 0.2s;\n",
       "}\n",
       "\n",
       ".jp-mod-presentationMode .jp-InputArea {\n",
       "    flex-direction: column;\n",
       "}\n",
       "\n",
       "</style><style>\n",
       ".jp-mod-presentationMode .jp-Notebook .jp-Cell .jp-InputPrompt, \n",
       ".jp-mod-presentationMode .jp-Notebook .jp-Cell .jp-OutputPrompt {\n",
       "    flex: 0 0 2rem !important;\n",
       "    opacity: 0;\n",
       "}\n",
       ".jp-mod-presentationMode .jp-Notebook .jp-Cell.jp-mod-active .jp-OutputPrompt,\n",
       ".jp-mod-presentationMode .jp-Notebook .jp-Cell.jp-mod-active .jp-OutputPrompt {\n",
       "    opacity: 0.5;\n",
       "}\n",
       ".jp-mod-presentationMode .jp-Notebook .jp-Cell .jp-InputPrompt, \n",
       ".jp-mod-presentationMode .jp-Notebook .jp-Cell .jp-OutputPrompt\n",
       "\n",
       ".jp-mod-presentationMode hr {\n",
       "    opacity: 0.1;\n",
       "}\n",
       "</style>\n",
       "    <style>\n",
       "    .jp-TableOfContents-content h1, \n",
       "    .jp-TableOfContents-content h2 {\n",
       "        margin-bottom: var(--jp-ui-font-size0);\n",
       "    }\n",
       "    </style>\n",
       "    \n",
       "    <style>\n",
       "    .jp-mod-presentationMode {\n",
       "        --jp-content-heading-line-height: 1.25 !important;\n",
       "    }\n",
       "    </style>\n",
       "    \n",
       "    <style>\n",
       "    .jp-mod-presentationMode #jp-main-status-bar {\n",
       "        opacity: 0.06;\n",
       "        transition: all 0.2s;\n",
       "    }\n",
       "    .jp-mod-presentationMode #jp-main-status-bar:hover {\n",
       "        opacity: 0.8;\n",
       "        transition: all 0.2s;\n",
       "    }\n",
       "    </style>\n",
       "    "
      ],
      "text/plain": [
       "<IPython.core.display.HTML object>"
      ]
     },
     "metadata": {},
     "output_type": "display_data"
    }
   ],
   "source": [
    "    import deathbeds, pandas, IPython, notebook.services.contents.filemanager, \\\n",
    "        CommonMark.render.renderer, typing\n",
    "    from pathlib import Path; ip = IPython.get_ipython()"
   ]
  },
  {
   "cell_type": "markdown",
   "metadata": {},
   "source": [
    "*We weren't kidding about using `ip.input_transformer_manager` a lot.*"
   ]
  },
  {
   "cell_type": "code",
   "execution_count": 2,
   "metadata": {},
   "outputs": [
    {
     "ename": "AttributeError",
     "evalue": "module 'IPython.display' has no attribute 'Mar'",
     "output_type": "error",
     "traceback": [
      "\u001b[1;31m---------------------------------------------------------------------------\u001b[0m",
      "\u001b[1;31mAttributeError\u001b[0m                            Traceback (most recent call last)",
      "\u001b[1;32m<ipython-input-2-fcf76357ee26>\u001b[0m in \u001b[0;36m<module>\u001b[1;34m\u001b[0m\n\u001b[0;32m      1\u001b[0m \u001b[0mmanager\u001b[0m \u001b[1;33m=\u001b[0m \u001b[0mnotebook\u001b[0m\u001b[1;33m.\u001b[0m\u001b[0mservices\u001b[0m\u001b[1;33m.\u001b[0m\u001b[0mcontents\u001b[0m\u001b[1;33m.\u001b[0m\u001b[0mfilemanager\u001b[0m\u001b[1;33m.\u001b[0m\u001b[0mFileContentsManager\u001b[0m\u001b[1;33m(\u001b[0m\u001b[1;33m)\u001b[0m\u001b[1;33m;\u001b[0m \u001b[0m__name__\u001b[0m \u001b[1;33m==\u001b[0m \u001b[1;34m'__main__'\u001b[0m \u001b[1;32mand\u001b[0m\u001b[0;31m \u001b[0m\u001b[0;31m\\\u001b[0m\u001b[1;33m\u001b[0m\u001b[0m\n\u001b[1;32m----> 2\u001b[1;33m IPython.display.Mar(\"`deathbeds` has __%i__ posts so far that discuss the old `IPython.core.inputtransformer`\"%pandas.DataFrame(manager.get(\"deathbeds.github.io/deathbeds/\")).content.apply(pandas.Series).path.apply(lambda object: 'input_transformer_manager'  in str(\n\u001b[0m\u001b[0;32m      3\u001b[0m     manager.get(object))).sum())\n",
      "\u001b[1;31mAttributeError\u001b[0m: module 'IPython.display' has no attribute 'Mar'"
     ]
    }
   ],
   "source": [
    "    manager = notebook.services.contents.filemanager.FileContentsManager(); __name__ == '__main__' and \\\n",
    "    IPython.display.Mar(\"`deathbeds` has __%i__ posts so far that discuss the old `IPython.core.inputtransformer`\"%pandas.DataFrame(manager.get(\"deathbeds.github.io/deathbeds/\")).content.apply(pandas.Series).path.apply(lambda object: 'input_transformer_manager'  in str(\n",
    "        manager.get(object))).sum())"
   ]
  },
  {
   "cell_type": "markdown",
   "metadata": {},
   "source": [
    "`deathbeds` is actively working on projects that require the an input \n",
    "transformer operation.  In this notebook we explore the [new transformer interface](https://ipython.readthedocs.io/en/stable/config/inputtransforms.html#string-based-transformations) for __IPython 7.0__.\n",
    "                                                                                    \n",
    "For this demonstration, we will allow Markdown inputs by composing an `ip.input_transformers_cleanup` to extract code blocks. "
   ]
  },
  {
   "cell_type": "markdown",
   "metadata": {},
   "source": [
    "## CommonMark Renderer\n",
    "\n",
    "An instance of `CodeBlock` will be prepended to `ip.input_transformers_cleanup`.  `CodeBlock.__call__`\n",
    "accepts a list of lines with returns and expects the same return value."
   ]
  },
  {
   "cell_type": "code",
   "execution_count": null,
   "metadata": {},
   "outputs": [],
   "source": [
    "    class CodeBlock(CommonMark.render.renderer.Renderer):\n",
    "        def code_block(self, node, entering=True): self.lit(node.literal)\n",
    "        def __call__(self, code: typing.List[str]) -> typing.List[str]: return super().render(\n",
    "            CommonMark.Parser().parse(''.join(code))).splitlines(1)"
   ]
  },
  {
   "cell_type": "markdown",
   "metadata": {},
   "source": [
    "# `IPython` extensions"
   ]
  },
  {
   "cell_type": "code",
   "execution_count": null,
   "metadata": {},
   "outputs": [],
   "source": [
    "    def load_ipython_extension(ip): \n",
    "        unload_ipython_extension(ip) or ip.input_transformers_cleanup.insert(0, CodeBlock())\n",
    "    def unload_ipython_extension(ip): \n",
    "        for id, object in enumerate(ip.input_transformers_cleanup):\n",
    "            if isinstance(object, CodeBlock): break\n",
    "        else: return\n",
    "        ip.input_transformers_cleanup.pop(id)\n",
    "    if __name__ == '__main__': load_ipython_extension(IPython.get_ipython())"
   ]
  },
  {
   "cell_type": "markdown",
   "metadata": {},
   "source": [
    "## Demonstrating the input transformer."
   ]
  },
  {
   "cell_type": "code",
   "execution_count": null,
   "metadata": {},
   "outputs": [],
   "source": [
    "Now can use markdown in cells and run the block code.\n",
    "    \n",
    "    print('block code')"
   ]
  },
  {
   "cell_type": "markdown",
   "metadata": {},
   "source": [
    "## A little 🐛"
   ]
  },
  {
   "cell_type": "code",
   "execution_count": null,
   "metadata": {},
   "outputs": [],
   "source": [
    "    ip.run_cell(\"\"\"There is currently an issue with the `IPython.core.inputtransformer2.leading_indent`\n",
    "    block.  If it there are no lines to transform then an `IndexError` is raised.  This error is not blocking, but let's fix it.\"\"\");"
   ]
  }
 ],
 "metadata": {
  "kernelspec": {
   "display_name": "Python 3",
   "language": "python",
   "name": "python3"
  },
  "language_info": {
   "codemirror_mode": {
    "name": "ipython",
    "version": 3
   },
   "file_extension": ".py",
   "mimetype": "text/x-python",
   "name": "python",
   "nbconvert_exporter": "python",
   "pygments_lexer": "ipython3",
   "version": "3.6.6"
  }
 },
 "nbformat": 4,
 "nbformat_minor": 2
}
