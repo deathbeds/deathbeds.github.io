{
 "cells": [
  {
   "cell_type": "markdown",
   "metadata": {},
   "source": [
    "In this notebook we convert Markdown to Python code using `mistletoe`.  Our requirements are:\n",
    "\n",
    "* All Markdown of the markdown is compiled Python.\n",
    "    * We'll use strings not comments.\n",
    "* Each line in the Python should correpsond with the Markdown to give acceptable tracebacks.\n",
    "* We use Markdown ast as the source.\n",
    "* We acheive our goal by wrapping Markdown in quotes and indenting appropriately.\n",
    "\n",
    "> Outstanding issue: Code in Lists."
   ]
  },
  {
   "cell_type": "code",
   "execution_count": 704,
   "metadata": {},
   "outputs": [],
   "source": [
    "import mistletoe, functools\n",
    "__all__ = 'markdown_to_python',"
   ]
  },
  {
   "cell_type": "markdown",
   "metadata": {},
   "source": [
    "* `mistletoe.block_tokenizer.FileWrapper` counts lines for us, in the _index attribute.\n",
    "* `mistletoe.block_tokenizer.ParseBuffer` creates tokens from lines.\n",
    "* All we care about are splitting `(mistletoe.block_token.BlockCode,  mistletoe.block_token.Paragraph)` with special conditions for `mistletoe.block_token.List`.\n"
   ]
  },
  {
   "cell_type": "code",
   "execution_count": 635,
   "metadata": {},
   "outputs": [],
   "source": [
    "def tokenize_block(str):\n",
    "    \n",
    "    lines, parse_buffer = mistletoe.block_tokenizer.FileWrapper(str), mistletoe.block_tokenizer.ParseBuffer()\n",
    "    line, start = lines.peek(), lines._index\n",
    "    \n",
    "    block_code_cls  = BlockCode.new()\n",
    "    \n",
    "    while line is not None:\n",
    "        \n",
    "        for token_type in (mistletoe.block_token.BlockCode,  mistletoe.block_token.Paragraph):\n",
    "            if issubclass(token_type, mistletoe.block_token.BlockCode): token_type = block_code_cls\n",
    "            if token_type.start(line):\n",
    "                result = token_type.read(lines)\n",
    "                if result is not None:\n",
    "                    end = lines._index+1\n",
    "                    while result and not result[-1].strip(): end -= 1; result.pop()\n",
    "                    while result and not result[0].strip(): start += 1; result.pop(0)\n",
    "                    parse_buffer.append((token_type, result, start, end))\n",
    "                    start = end\n",
    "                    break\n",
    "        else: \n",
    "            next(lines)\n",
    "            parse_buffer.loose = True\n",
    "        line = lines.peek()\n",
    "    return parse_buffer"
   ]
  },
  {
   "cell_type": "code",
   "execution_count": 669,
   "metadata": {},
   "outputs": [],
   "source": [
    "    class BlockCode(mistletoe.block_token.BlockCode):\n",
    "        first_code_indent = None\n",
    "        @classmethod\n",
    "        def start(cls, line):\n",
    "            if line.replace('\\t', '    ', 1).startswith(' '*(cls.first_code_indent or 4)):\n",
    "                if line.strip() and cls.first_code_indent == None:  cls.first_code_indent = len(line)-len(line.lstrip())\n",
    "                return True\n",
    "        \n",
    "        @classmethod\n",
    "        def read(cls, lines):\n",
    "            line_buffer = []\n",
    "            for line in lines:\n",
    "                if line.strip() and cls.first_code_indent == None: \n",
    "                    cls.first_code_indent = len(line)-len(line.lstrip())   \n",
    "                if line.strip() == '': line_buffer.append(''); continue\n",
    "                if not line.replace('\\t', '    ', 1).startswith(' '*(cls.first_code_indent or 4)): lines.backstep(); break\n",
    "                line_buffer.append(line)\n",
    "            return line_buffer\n",
    "        \n",
    "        @classmethod\n",
    "        def new(cls): return type(cls.__name__, (cls,), {'first_code_indent': None})"
   ]
  },
  {
   "cell_type": "markdown",
   "metadata": {},
   "source": [
    "`markdown_to_python` converts a string to a valid Python source string.  It satisfies the requirements laid out beforehand\n",
    "\n",
    "* `mistletoe.block_token.BlockCode` triggers most of the logic so we can know  about the prior source and new source.\n",
    "* `mistletoe.block_token.Paragraph` wraps the paragraph in quotes.\n",
    "\n",
    "> The Lists don't work yet."
   ]
  },
  {
   "cell_type": "code",
   "execution_count": 671,
   "metadata": {},
   "outputs": [],
   "source": [
    "def quote(str, punc=''):\n",
    "    str, leading_ws = ''.join(str), []\n",
    "    lines = str.splitlines(True)\n",
    "    _ = '\"\"\"'\n",
    "    if _ in str: _ = \"'''\"\n",
    "    if not str.strip(): _ = punc = ''\n",
    "    while lines and not lines[0]: leading_ws.append(lines.pop())\n",
    "    str = ''.join(lines)\n",
    "    end = len(str.rstrip())\n",
    "    str, ending_ws = str[:end], str[end:]\n",
    "    if str and str.endswith(_[0]): str += ' '                    \n",
    "    return F\"{''.join(leading_ws)}{_}{str}{_}{punc}{ending_ws}\""
   ]
  },
  {
   "cell_type": "code",
   "execution_count": 677,
   "metadata": {},
   "outputs": [],
   "source": [
    "def markdown_to_python(object):\n",
    "    final, buffer = [], []\n",
    "    object = object.splitlines()\n",
    "    indent = 0\n",
    "    for t, lines, start, end in tokenize_block(object):\n",
    "        if issubclass(t, mistletoe.block_token.BlockCode):\n",
    "            if final:\n",
    "                last_line = get_last_line(reversed(final))\n",
    "                prior_indent = get_line_indent(last_line)\n",
    "                definition, returns =  last_line.rstrip().endswith(':'), last_line.lstrip().startswith('return')\n",
    "                indent = (returns and min or max)(prior_indent, get_line_indent(get_last_line(object[start:end])))\n",
    "                if definition and prior_indent == indent: indent += 4\n",
    "            else:  indent = get_line_indent(get_last_line(object[start:end])) \n",
    "\n",
    "            while (len(final)+len(buffer)) < start: buffer += ['']\n",
    "                \n",
    "            start_quote = len(final)\n",
    "            while start_quote<start:\n",
    "                if object[start_quote].strip(): break\n",
    "                start_quote +=1\n",
    "                \n",
    "            final.extend(['']*(start_quote-len(final))\n",
    "                         + textwrap.indent(quote('\\n'.join(object[start_quote:start])), ' '*indent).splitlines()\n",
    "                         + object[start:end]) \n",
    "    else: \n",
    "        for last_line in reversed(object[len(final):]):\n",
    "            if last_line.strip(): break\n",
    "        \n",
    "        final.extend(\n",
    "            (\n",
    "                textwrap.indent(quote('\\n'.join(object[len(final):end])).rstrip() + ['',';'][last_line.rstrip().endswith(';')], ' '*indent)\n",
    "            ).splitlines()) \n",
    "    return textwrap.dedent('\\n'.join(final))"
   ]
  },
  {
   "cell_type": "markdown",
   "metadata": {},
   "source": [
    "\n",
    "### Helpers"
   ]
  },
  {
   "cell_type": "markdown",
   "metadata": {},
   "source": [
    "`get_last_line` returns the last non empty line in a list of lines"
   ]
  },
  {
   "cell_type": "code",
   "execution_count": 678,
   "metadata": {},
   "outputs": [],
   "source": [
    "def get_last_line(lines, line=''):\n",
    "    for line in lines or ['']: \n",
    "        if line.strip(): break\n",
    "    return line"
   ]
  },
  {
   "cell_type": "markdown",
   "metadata": {},
   "source": [
    "`get_line_indent` returns the indent of a line."
   ]
  },
  {
   "cell_type": "code",
   "execution_count": 679,
   "metadata": {},
   "outputs": [],
   "source": [
    "def get_line_indent(line):  return len(line) - len(line.lstrip())"
   ]
  },
  {
   "cell_type": "code",
   "execution_count": 703,
   "metadata": {},
   "outputs": [],
   "source": [
    "def cmp(a, b):\n",
    "    for A, B in zip(*map(str.splitlines, (a, b))):\n",
    "        if A.strip().strip('\"').strip(\"'\").strip() == B.strip().strip('\"').strip(\"'\").strip(): continue\n",
    "        return False\n",
    "    return True\n",
    "\n",
    "s=\"\"\"    \n",
    "        ...\n",
    "                    \n",
    "        def f():\n",
    "Test is a test\n",
    "\n",
    "            print(100)\n",
    "            return Stuff\n",
    "* Continuing along\n",
    "\n",
    "        assert True, \\\\\n",
    "* This is stuff\n",
    "\n",
    "\n",
    "\"\"\"\n",
    "assert cmp(s, markdown_to_python(s)), \"\"\"The converter is wrong\"\"\""
   ]
  },
  {
   "cell_type": "code",
   "execution_count": null,
   "metadata": {},
   "outputs": [],
   "source": []
  }
 ],
 "metadata": {
  "kernelspec": {
   "display_name": "Python 3",
   "language": "python",
   "name": "python3"
  },
  "language_info": {
   "codemirror_mode": {
    "name": "ipython",
    "version": 3
   },
   "file_extension": ".py",
   "mimetype": "text/x-python",
   "name": "python",
   "nbconvert_exporter": "python",
   "pygments_lexer": "ipython3",
   "version": "3.6.6"
  }
 },
 "nbformat": 4,
 "nbformat_minor": 2
}
