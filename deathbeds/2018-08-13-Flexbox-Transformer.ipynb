{
 "cells": [
  {
   "cell_type": "markdown",
   "metadata": {},
   "source": [
    "# Short hand for flexbox objects.    "
   ]
  },
  {
   "cell_type": "code",
   "execution_count": 74,
   "metadata": {},
   "outputs": [],
   "source": [
    "    from ipywidgets import *\n",
    "    from yaml import safe_load\n",
    "    from IPython.display import *\n",
    "    from pytest import fixture\n",
    "    import mimetypes\n",
    "\n",
    "    from graphviz import Source\n",
    "\n",
    "    from mistune import markdown"
   ]
  },
  {
   "cell_type": "markdown",
   "metadata": {},
   "source": [
    "Consider a list of objects that have mimetype representations.  The representations may be shorthand urls or filenames or full parameterizations"
   ]
  },
  {
   "cell_type": "code",
   "execution_count": 75,
   "metadata": {},
   "outputs": [],
   "source": [
    "    _example = \"\"\"- data/IMG-0762.JPG\n",
    "    - graph {\"A Graph\"}\n",
    "    - http://roxygen.org/knuth-literate-programming.pdf\n",
    "    - text/html: http://jupyter.org\n",
    "    - text/markdown: \"# This is markdown\"\n",
    "    - image/jpeg: \n",
    "        data: data/IMG-0762.JPG\"\"\"\n",
    "    data = fixture(lambda: safe_load(_example))"
   ]
  },
  {
   "cell_type": "markdown",
   "metadata": {},
   "source": [
    "`to_display` provides logic to use different IPython respresentations based off of mimetypes."
   ]
  },
  {
   "cell_type": "code",
   "execution_count": 76,
   "metadata": {},
   "outputs": [],
   "source": [
    "    def to_display(object):\n",
    "        if isinstance(object, str) and object.lstrip('di').startswith('graph'):\n",
    "            object = __import__('graphviz').Source(object, format='png')\n",
    "        else:\n",
    "            if isinstance(object, str):  \n",
    "                object = {mimetypes.guess_type(object)[0]: object}\n",
    "            type, object = list(object.keys())[0], list(object.values())[0]\n",
    "            if type.startswith('image'):\n",
    "                if not isinstance(object, dict): object = {'data': object}\n",
    "                object = (SVG if 'svg+xml' in type else Image)(**object)\n",
    "\n",
    "            elif type in ('application/pdf', 'text/html'):\n",
    "                if not isinstance(object, dict): \n",
    "                    object = {'src': object}\n",
    "                object['width'] = object.get('width', '100%')\n",
    "                object['height'] = object.get('height', '500px')\n",
    "                object = IFrame(**object)\n",
    "            else:\n",
    "                object = HTML(markdown(object))\n",
    "\n",
    "        output = Output(layout=Layout(flex='1', \n",
    "                                      min_width=\"200px\",\n",
    "                                      display=\"flex\",\n",
    "                                      flex_direction=\"column\"))\n",
    "        with output: display(object) \n",
    "\n",
    "        return output\n",
    "    \n",
    "    def display_quilt(data):\n",
    "        sliders = [\n",
    "            IntSlider(value=200, min=100, max=1000, step=25, \n",
    "                      layout=Layout(width=\"100%\")) \n",
    "            for i in \"xy\"]\n",
    "        box = Box(children=list(map(to_display, data)), \n",
    "                  layout=Layout(display='flex', \n",
    "                                justify_content=\"space-around\",\n",
    "                                align_items=\"stretch\",\n",
    "                                flex_flow=\"wrap\"))\n",
    "        [\n",
    "            [\n",
    "                dlink((sliders[0], 'value'), (c.layout, \"min_width\"), lambda x: f\"{x}px\"),\n",
    "                dlink((sliders[1], 'value'), (c.layout, \"min_height\"), lambda x: f\"{x}px\"),\n",
    "            ]\n",
    "            for c in box.children]\n",
    "        return VBox([VBox(sliders), box, VBox(sliders)])\n",
    "\n",
    "    def _demo_flexbox_quilt(data): return display_quilt(data)"
   ]
  },
  {
   "cell_type": "code",
   "execution_count": 77,
   "metadata": {},
   "outputs": [
    {
     "data": {
      "application/vnd.jupyter.widget-view+json": {
       "model_id": "adf6df25eb384968a306ca13576be9cb",
       "version_major": 2,
       "version_minor": 0
      },
      "text/plain": [
       "VBox(children=(VBox(children=(IntSlider(value=200, layout=Layout(width='100%'), max=1000, min=100, step=25), I…"
      ]
     },
     "metadata": {},
     "output_type": "display_data"
    }
   ],
   "source": [
    "    __name__ == '__main__' and display_quilt(data())"
   ]
  },
  {
   "cell_type": "markdown",
   "metadata": {},
   "source": [
    "Design an ast node transformer to create the quilt."
   ]
  },
  {
   "cell_type": "code",
   "execution_count": 78,
   "metadata": {},
   "outputs": [],
   "source": [
    "    from deathbeds.__String_Node_Transformer import StrTokenTransformer\n",
    "\n",
    "    class FlexBoxTransformer(StrTokenTransformer):\n",
    "        condition = staticmethod(lambda str: str.startswith('- '))\n",
    "        replacement = \"\"\"__import__('IPython').display.display(\n",
    "        __import__('importlib').import_module('deathbeds.2018-08-13-Flexbox-Transformer').display_quilt(__import__('yaml').safe_load({}))\n",
    "        )\"\"\""
   ]
  },
  {
   "cell_type": "code",
   "execution_count": 79,
   "metadata": {},
   "outputs": [],
   "source": [
    "    def load_ipython_extension(ip): ip.ast_transformers.append(FlexBoxTransformer())\n",
    "    def unload_ipython_extension(ip): ip.ast_transformers = [object for object in ip.ast_transformers if isinstance(object, FlexBoxTransformer)]"
   ]
  },
  {
   "cell_type": "code",
   "execution_count": 80,
   "metadata": {},
   "outputs": [],
   "source": [
    "    @fixture\n",
    "    def ip(): ip = __import__('IPython').get_ipython(); load_ipython_extension(ip); yield ip; unload_ipython_extension(ip)"
   ]
  },
  {
   "cell_type": "code",
   "execution_count": 81,
   "metadata": {},
   "outputs": [],
   "source": [
    "    def _flexbox_string_shortcut(ip, data): ip.run_cell(f\"\"\"'''{data}'''\"\"\")"
   ]
  }
 ],
 "metadata": {
  "kernelspec": {
   "display_name": "Python 3",
   "language": "python",
   "name": "python3"
  },
  "language_info": {
   "codemirror_mode": {
    "name": "ipython",
    "version": 3
   },
   "file_extension": ".py",
   "mimetype": "text/x-python",
   "name": "python",
   "nbconvert_exporter": "python",
   "pygments_lexer": "ipython3",
   "version": "3.6.5"
  }
 },
 "nbformat": 4,
 "nbformat_minor": 2
}
