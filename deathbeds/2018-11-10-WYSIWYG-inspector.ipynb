{
 "cells": [
  {
   "cell_type": "markdown",
   "metadata": {},
   "source": [
    "# A WYSIWYG experience using Jupyter machinery\n",
    "\n",
    "[![image](https://user-images.githubusercontent.com/4236275/48301740-9d607c00-e4c0-11e8-944a-df91db130491.png)](https://twitter.com/betatim/status/1061237287625863168)\n",
    "\n",
    "> [colab](https://colab.research.google.com) users will already be familiar with a feature like this.  Also, [__nbextensions__](https://github.com/ipython-contrib/jupyter_contrib_nbextensions) users may use this with [live md preview](https://github.com/ipython-contrib/jupyter_contrib_nbextensions/tree/master/src/jupyter_contrib_nbextensions/nbextensions/livemdpreview)\n",
    "\n",
    "The rest of this notebook is an MVP for acheiving this directly through the `ipykernel`.  Our WYSIWYG will be displayed in the inspector, so you'll need to open that.  This approach works in both lab and classic.  With the inspector open, the author will receive keystoke resolution feedback, while __Shift+Tab__ triggers the inspector in classic.\n",
    "\n",
    "[![Binder](https://mybinder.org/badge.svg)](https://mybinder.org/v2/gist/tonyfast/ceed279a080e6af60b82a3d0d68480f1/master)"
   ]
  },
  {
   "cell_type": "code",
   "execution_count": 1,
   "metadata": {},
   "outputs": [],
   "source": [
    "import IPython, ipykernel, types; ip = IPython.get_ipython()"
   ]
  },
  {
   "cell_type": "markdown",
   "metadata": {},
   "source": [
    "The `ipykernel.ipkernel.IPythonKernel.do_inspect` returns a message to the `ipykernel.zmqshell`.  Our inspector will return a Markdown preview if no message is discovered from the traditional inspector."
   ]
  },
  {
   "cell_type": "code",
   "execution_count": 2,
   "metadata": {},
   "outputs": [],
   "source": [
    "class WYSIWYGKernel(ipykernel.ipkernel.IPythonKernel):\n",
    "    def do_inspect(self, code, cursor_pos, detail_level=0):\n",
    "        msg = ipykernel.ipkernel.IPythonKernel.do_inspect(self, code, cursor_pos, detail_level)\n",
    "        if msg['found']: return msg\n",
    "        return {**msg, 'found': True, 'data': {\n",
    "            'text/markdown': code}}\n",
    "        "
   ]
  },
  {
   "cell_type": "markdown",
   "metadata": {},
   "source": [
    "* Export the WYSIWYG as an extension."
   ]
  },
  {
   "cell_type": "code",
   "execution_count": 3,
   "metadata": {},
   "outputs": [],
   "source": [
    "def load_ipython_extension(ip): ip.kernel.do_inspect = types.MethodType(WYSIWYGKernel.do_inspect, ip.kernel)\n",
    "    \n",
    "__name__ == '__main__' and load_ipython_extension(IPython.get_ipython())"
   ]
  },
  {
   "cell_type": "markdown",
   "metadata": {},
   "source": [
    "Hit __Ctrl+I__ to crack open the inspector to acheive a WYSIWYG experience with Markdown and Code Cells in the notebook, or __Shift+Tab__ gives an inline preview.\n",
    "\n",
    "![image](https://user-images.githubusercontent.com/4236275/48301855-3ba11180-e4c2-11e8-8784-f71edb87bb63.png)"
   ]
  },
  {
   "cell_type": "code",
   "execution_count": null,
   "metadata": {},
   "outputs": [],
   "source": []
  }
 ],
 "metadata": {
  "kernelspec": {
   "display_name": "Python 3",
   "language": "python",
   "name": "python3"
  },
  "language_info": {
   "codemirror_mode": {
    "name": "ipython",
    "version": 3
   },
   "file_extension": ".py",
   "mimetype": "text/x-python",
   "name": "python",
   "nbconvert_exporter": "python",
   "pygments_lexer": "ipython3",
   "version": "3.6.6"
  }
 },
 "nbformat": 4,
 "nbformat_minor": 2
}
