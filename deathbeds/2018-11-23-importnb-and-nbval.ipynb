{
 "cells": [
  {
   "cell_type": "markdown",
   "metadata": {},
   "source": [
    "`pidgin`, `importnb`, and [`nbval`](https://github.com/computationalmodelling/nbval)\n",
    "\n",
    "`pidgin` and `importnb` are complimented nicely by `nbval`.  `nbval` + `importnb` performs\n",
    "normal test discovery AND compares the out results."
   ]
  },
  {
   "cell_type": "code",
   "execution_count": 1,
   "metadata": {},
   "outputs": [],
   "source": [
    "    if __name__ == '__main__':\n",
    "        no_nbval = !ipython -m pytest -- 2018-11-23-importnb-and-nbval.md.ipynb --collect-only\n",
    "        with_nbval = !ipython -m pytest -- 2018-11-23-importnb-and-nbval.md.ipynb --nbval --collect-only"
   ]
  },
  {
   "cell_type": "markdown",
   "metadata": {},
   "source": [
    "The tests need a function to discover; `test_function` is just that."
   ]
  },
  {
   "cell_type": "code",
   "execution_count": 2,
   "metadata": {},
   "outputs": [],
   "source": [
    "    def test_function(): ..."
   ]
  },
  {
   "cell_type": "markdown",
   "metadata": {},
   "source": [
    "Comparing the test results"
   ]
  },
  {
   "cell_type": "code",
   "execution_count": 3,
   "metadata": {},
   "outputs": [
    {
     "name": "stdout",
     "output_type": "stream",
     "text": [
      "1 6 7\n"
     ]
    }
   ],
   "source": [
    "    if __name__ == '__main__':\n",
    "        normal_tests, totals_tests = [\n",
    "            __import__('parse').search('collected {tests:d} item', '\\n'.join(object))['tests']\n",
    "            for object in [no_nbval, with_nbval]]\n",
    "        nbval_tests = totals_tests - normal_tests\n",
    "        print(normal_tests, nbval_tests, totals_tests)"
   ]
  },
  {
   "cell_type": "markdown",
   "metadata": {},
   "source": [
    "Remember, we created a single test `test_function` which accounts for the `1` `normal_tests`.  There are more tests when the __--nbval__ flag is invoked.  `nbval` tests the inputs and outputs of cells.  The added tests are equivalent to the number of code `cells`.  \n",
    "\n",
    "This point is proven by loading in the notebook and counting the numbers of `cells`."
   ]
  },
  {
   "cell_type": "code",
   "execution_count": 4,
   "metadata": {},
   "outputs": [],
   "source": [
    "    with open('2018-11-23-importnb-and-nbval.md.ipynb') as file: cells = len(\n",
    "        list(object for object in __import__('nbformat').read(file, 4)['cells']\n",
    "             if object['cell_type'] == 'code' and ''.join(object['source']).strip()))"
   ]
  },
  {
   "cell_type": "markdown",
   "metadata": {},
   "source": [
    "Then we can __assert__ where the extra tests come from."
   ]
  },
  {
   "cell_type": "code",
   "execution_count": 6,
   "metadata": {},
   "outputs": [],
   "source": [
    "    if __name__ == '__main__':\n",
    "        assert nbval_tests == normal_tests + cells, \"Something unexpected is happening.\""
   ]
  }
 ],
 "metadata": {
  "kernelspec": {
   "display_name": "Python 3",
   "language": "python",
   "name": "python3"
  },
  "language_info": {
   "codemirror_mode": {
    "name": "ipython",
    "version": 3
   },
   "file_extension": ".py",
   "mimetype": "text/x-python",
   "name": "python",
   "nbconvert_exporter": "python",
   "pygments_lexer": "ipython3",
   "version": "3.6.6"
  }
 },
 "nbformat": 4,
 "nbformat_minor": 2
}
