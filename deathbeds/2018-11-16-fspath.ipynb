{
 "cells": [
  {
   "cell_type": "markdown",
   "metadata": {},
   "source": [
    "[PEP 519](https://www.python.org/dev/peps/pep-0519/#proposal) discusses a really cool feature that controls how the `open` and `pathlib` treat an `object`. I originally found out about this on [Brett Cannon's twitter](https://twitter.com/brettsky/status/1063258648237891584).  "
   ]
  },
  {
   "cell_type": "markdown",
   "metadata": {},
   "source": [
    "The `os` modules contains a base class `os.PathLike`."
   ]
  },
  {
   "cell_type": "code",
   "execution_count": 1,
   "metadata": {},
   "outputs": [],
   "source": [
    "    import os, dataclasses, pathlib, types"
   ]
  },
  {
   "cell_type": "markdown",
   "metadata": {},
   "source": [
    "The `os.PathLike` subclasses allows an author to define a `__fspath__` attributes that assists in accessing the file `object`."
   ]
  },
  {
   "cell_type": "markdown",
   "metadata": {},
   "source": [
    "Consider a test class `PathParty` where `__fspath__` returns a path defined by the `dataclasses`."
   ]
  },
  {
   "cell_type": "code",
   "execution_count": 2,
   "metadata": {},
   "outputs": [],
   "source": [
    "    @dataclasses.dataclass\n",
    "    class PathParty(os.PathLike):\n",
    "        path: str = '2018-11-16-fspath.ipynb' #<-- the name of this blog post.\n",
    "        def __fspath__(self): return self.path"
   ]
  },
  {
   "cell_type": "markdown",
   "metadata": {},
   "source": [
    "The `party`  instance of `PathParty` may now be used with `open` and `pathlib`."
   ]
  },
  {
   "cell_type": "code",
   "execution_count": 3,
   "metadata": {},
   "outputs": [],
   "source": [
    "    party = PathParty()\n",
    "    with open(party) as file: \n",
    "        assert file.read() == pathlib.Path(party).read_text()"
   ]
  },
  {
   "cell_type": "markdown",
   "metadata": {},
   "source": [
    "Notebooks may be reused as modules or data.  The <code>__fspath__</code> property could ease the access of data in notebooks.  \n",
    "\n",
    "`ModuleOpenable` is both a `types.ModuleType` and `os.PathLike`.  Adding the `os.PathLike` attribute simplifies access to underlying notebook data. "
   ]
  },
  {
   "cell_type": "code",
   "execution_count": 4,
   "metadata": {},
   "outputs": [],
   "source": [
    "    class ModuleOpenable(types.ModuleType, os.PathLike):\n",
    "        def __fspath__(self): return self.__file__"
   ]
  },
  {
   "cell_type": "markdown",
   "metadata": {},
   "source": [
    "We'll __import__ this specific post as a module."
   ]
  },
  {
   "cell_type": "code",
   "execution_count": 5,
   "metadata": {},
   "outputs": [],
   "source": [
    "    import _018_11_16_fspath as a_notebook"
   ]
  },
  {
   "cell_type": "markdown",
   "metadata": {},
   "source": [
    "This notebook module is the same as one used in our `party` demonstration."
   ]
  },
  {
   "cell_type": "code",
   "execution_count": 18,
   "metadata": {},
   "outputs": [],
   "source": [
    "    assert pathlib.Path(a_notebook.__file__) == pathlib.Path(party.path).absolute()"
   ]
  },
  {
   "cell_type": "markdown",
   "metadata": {},
   "source": [
    "We'll force `a_notebook` to be an `openable_module` that is of the `type` `ModuleOpenable`."
   ]
  },
  {
   "cell_type": "code",
   "execution_count": 19,
   "metadata": {},
   "outputs": [],
   "source": [
    "    openable_module = ModuleOpenable(a_notebook.__name__)\n",
    "    openable_module.__dict__.update(a_notebook.__dict__)"
   ]
  },
  {
   "cell_type": "markdown",
   "metadata": {},
   "source": [
    "Now `openable_module` can be used directly with `open`, this is equal to the previous demonstrations."
   ]
  },
  {
   "cell_type": "code",
   "execution_count": 21,
   "metadata": {},
   "outputs": [],
   "source": [
    "    with open(openable_module) as opened_module, open(party) as file:\n",
    "        assert opened_module.read() == file.read() == pathlib.Path(party).read_text()"
   ]
  },
  {
   "cell_type": "markdown",
   "metadata": {},
   "source": [
    "The <code>pandas.read_*</code> can access `os.PathLike` objects meaning that a `ModuleOpenable` can be used directly with `pandas`. "
   ]
  },
  {
   "cell_type": "code",
   "execution_count": 24,
   "metadata": {},
   "outputs": [
    {
     "data": {
      "text/html": [
       "<div>\n",
       "<style scoped>\n",
       "    .dataframe tbody tr th:only-of-type {\n",
       "        vertical-align: middle;\n",
       "    }\n",
       "\n",
       "    .dataframe tbody tr th {\n",
       "        vertical-align: top;\n",
       "    }\n",
       "\n",
       "    .dataframe thead th {\n",
       "        text-align: right;\n",
       "    }\n",
       "</style>\n",
       "<table border=\"1\" class=\"dataframe\">\n",
       "  <thead>\n",
       "    <tr style=\"text-align: right;\">\n",
       "      <th></th>\n",
       "      <th>cells</th>\n",
       "      <th>metadata</th>\n",
       "      <th>nbformat</th>\n",
       "      <th>nbformat_minor</th>\n",
       "    </tr>\n",
       "  </thead>\n",
       "  <tbody>\n",
       "    <tr>\n",
       "      <th>0</th>\n",
       "      <td>[{'cell_type': 'markdown', 'metadata': {}, 'so...</td>\n",
       "      <td>{'kernelspec': {'display_name': 'Python 3', 'l...</td>\n",
       "      <td>4</td>\n",
       "      <td>2</td>\n",
       "    </tr>\n",
       "  </tbody>\n",
       "</table>\n",
       "</div>"
      ],
      "text/plain": [
       "                                               cells  \\\n",
       "0  [{'cell_type': 'markdown', 'metadata': {}, 'so...   \n",
       "\n",
       "                                            metadata nbformat nbformat_minor  \n",
       "0  {'kernelspec': {'display_name': 'Python 3', 'l...        4              2  "
      ]
     },
     "execution_count": 24,
     "metadata": {},
     "output_type": "execute_result"
    }
   ],
   "source": [
    "    import pandas\n",
    "    pandas.read_json(openable_module, typ=pandas.Series).to_frame().T"
   ]
  },
  {
   "cell_type": "markdown",
   "metadata": {},
   "source": [
    "This will be useful!  I'm stoked. \n",
    "\n",
    "I am considering adding `os.PathLike` to `importnb`."
   ]
  }
 ],
 "metadata": {
  "kernelspec": {
   "display_name": "Python 3",
   "language": "python",
   "name": "python3"
  },
  "language_info": {
   "codemirror_mode": {
    "name": "ipython",
    "version": 3
   },
   "file_extension": ".py",
   "mimetype": "text/x-python",
   "name": "python",
   "nbconvert_exporter": "python",
   "pygments_lexer": "ipython3",
   "version": "3.6.6"
  }
 },
 "nbformat": 4,
 "nbformat_minor": 2
}
