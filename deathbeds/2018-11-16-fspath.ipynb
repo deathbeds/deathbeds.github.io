{
 "cells": [
  {
   "cell_type": "markdown",
   "metadata": {},
   "source": [
    "[PEP 519](https://www.python.org/dev/peps/pep-0519/#proposal) discusses a really cool feature that controls how the `open` and `pathlib` treat an `object`. I originally found out about this on [Brett Cannon's twitter](https://twitter.com/brettsky/status/1063258648237891584).  "
   ]
  },
  {
   "cell_type": "markdown",
   "metadata": {},
   "source": [
    "The `os` modules contains a base class `os.PathLike`."
   ]
  },
  {
   "cell_type": "code",
   "execution_count": 1,
   "metadata": {},
   "outputs": [],
   "source": [
    "    import os, dataclasses, pathlib"
   ]
  },
  {
   "cell_type": "markdown",
   "metadata": {},
   "source": [
    "The `os.PathLike` subclasses allows an author to define a `__fspath__` attributes that assists in accessing the file `object`."
   ]
  },
  {
   "cell_type": "markdown",
   "metadata": {},
   "source": [
    "Consider a test class `PathParty` where `__fspath__` returns a path defined by the `dataclasses`."
   ]
  },
  {
   "cell_type": "code",
   "execution_count": 2,
   "metadata": {},
   "outputs": [],
   "source": [
    "    @dataclasses.dataclass\n",
    "    class PathParty(os.PathLike):\n",
    "        path: str = '2018-11-16-fspath.ipynb' #<-- the name of this blog post.\n",
    "        def __fspath__(self): return self.path"
   ]
  },
  {
   "cell_type": "markdown",
   "metadata": {},
   "source": [
    "The `party`  instance of `PathParty` may now be used with `open` and `pathlib`."
   ]
  },
  {
   "cell_type": "code",
   "execution_count": 4,
   "metadata": {},
   "outputs": [],
   "source": [
    "    party = PathParty()\n",
    "    with open(party) as file: assert file.read() == pathlib.Path(party).read_text()"
   ]
  },
  {
   "cell_type": "markdown",
   "metadata": {},
   "source": [
    "This will be useful!  I'm stoked."
   ]
  }
 ],
 "metadata": {
  "kernelspec": {
   "display_name": "Python 3",
   "language": "python",
   "name": "python3"
  },
  "language_info": {
   "codemirror_mode": {
    "name": "ipython",
    "version": 3
   },
   "file_extension": ".py",
   "mimetype": "text/x-python",
   "name": "python",
   "nbconvert_exporter": "python",
   "pygments_lexer": "ipython3",
   "version": "3.6.6"
  }
 },
 "nbformat": 4,
 "nbformat_minor": 2
}
