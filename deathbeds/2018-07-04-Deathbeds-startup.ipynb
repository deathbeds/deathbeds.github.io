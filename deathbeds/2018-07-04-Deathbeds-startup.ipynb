{
 "cells": [
  {
   "cell_type": "markdown",
   "metadata": {},
   "source": [
    "# Deathbed configuration\n",
    "\n",
    "Our configuration settings when we jam in IPython.  To install this configuration simply import this notebook once.\n",
    "\n",
    "    with __import__('importnb').Notebook():\n",
    "        import deathbeds.__Deathbeds_startup"
   ]
  },
  {
   "cell_type": "markdown",
   "metadata": {},
   "source": [
    "## 1. Install `importnb` to reuse notebooks"
   ]
  },
  {
   "cell_type": "code",
   "execution_count": 1,
   "metadata": {},
   "outputs": [],
   "source": [
    "    !importnb-install default"
   ]
  },
  {
   "cell_type": "markdown",
   "metadata": {},
   "source": [
    "## 2. ⭐️⭐️⭐️ imports to hit the ground running"
   ]
  },
  {
   "cell_type": "code",
   "execution_count": 8,
   "metadata": {},
   "outputs": [],
   "source": [
    "    from pathlib import Path\n",
    "    from IPython import paths"
   ]
  },
  {
   "cell_type": "markdown",
   "metadata": {},
   "source": [
    "* `poser` is a really useful fluent api to just start programming.\n",
    "* `sympy` activates latex in python."
   ]
  },
  {
   "cell_type": "code",
   "execution_count": 9,
   "metadata": {},
   "outputs": [],
   "source": [
    "    star_imports = 'poser', 'sympy.abc'"
   ]
  },
  {
   "cell_type": "markdown",
   "metadata": {},
   "source": [
    "* name the file `star_imports.ipy` and place it in the __default__ profile"
   ]
  },
  {
   "cell_type": "code",
   "execution_count": 11,
   "metadata": {},
   "outputs": [],
   "source": [
    "    profile = 'default'\n",
    "\n",
    "    stars = Path(paths.get_ipython_dir()) / f'profile_{profile}' / 'startup' / 'star_imports.ipy'"
   ]
  },
  {
   "cell_type": "code",
   "execution_count": 12,
   "metadata": {},
   "outputs": [],
   "source": [
    "    stars.parent.exists() or stars.parent.mkdir(parents=True);"
   ]
  },
  {
   "cell_type": "code",
   "execution_count": 13,
   "metadata": {},
   "outputs": [],
   "source": [
    "    if not stars.exists():\n",
    "        stars.write_text(\n",
    "            \"\"\"__import__('sympy').init_printing()\\n\"\"\"\n",
    "            + '\\n'.join(f\"\"\"from {object} import *\"\"\" \n",
    "                  for object in star_imports));"
   ]
  }
 ],
 "metadata": {
  "kernelspec": {
   "display_name": "p6",
   "language": "python",
   "name": "other-env"
  },
  "language_info": {
   "codemirror_mode": {
    "name": "ipython",
    "version": 3
   },
   "file_extension": ".py",
   "mimetype": "text/x-python",
   "name": "python",
   "nbconvert_exporter": "python",
   "pygments_lexer": "ipython3",
   "version": "3.6.3"
  }
 },
 "nbformat": 4,
 "nbformat_minor": 2
}
