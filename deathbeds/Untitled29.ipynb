{
 "cells": [
  {
   "cell_type": "markdown",
   "metadata": {},
   "source": [
    "Because of convention, a markdown forward literate kernel must be an option.  The literate kernel may be an aggressive opinion.  In this post, we'll discuss levels of commitment to a literate kernel using different parts of the `IPython` system."
   ]
  },
  {
   "cell_type": "code",
   "execution_count": 1,
   "metadata": {},
   "outputs": [],
   "source": [
    "import sys"
   ]
  },
  {
   "cell_type": "code",
   "execution_count": 2,
   "metadata": {},
   "outputs": [
    {
     "data": {
      "text/markdown": [],
      "text/plain": [
       "<IPython.core.display.Markdown object>"
      ]
     },
     "metadata": {},
     "output_type": "display_data"
    },
    {
     "data": {
      "text/markdown": [
       "Markdown forward literate computing permits Markdown as source code, and the block/inline code objects are executed.  The different ways of using Markdown as code ordered from least to most opinionated:\n",
       "\n",
       "1. a <code>%%markdown</code> or <code>%%md</code> cell magic that an author voluntarily invokes.\n",
       "2. using markdown as a fallback.  It is very easy for Markdown to appear as a `SyntaxError` to Python, and in this case the Markdown transformer is invoked.\n",
       "3. a permenant `IPython.core.inputtransformer` that is executed each time a cell is evaluated.\n",
       "4. a custom `ipykernel` that says \"I want literate computing all the damn time\".\n"
      ],
      "text/plain": [
       "<IPython.core.display.Markdown object>"
      ]
     },
     "metadata": {},
     "output_type": "display_data"
    },
    {
     "name": "stdout",
     "output_type": "stream",
     "text": [
      "------> SyntaxError\n",
      "------> IPython.core.inputtransformer\n",
      "------> ipykernel\n"
     ]
    },
    {
     "data": {
      "text/markdown": [],
      "text/plain": [
       "<IPython.core.display.Markdown object>"
      ]
     },
     "metadata": {},
     "output_type": "display_data"
    },
    {
     "ename": "NameError",
     "evalue": "name 'IPython' is not defined",
     "output_type": "error",
     "traceback": [
      "\u001b[1;31m---------------------------------------------------------------------------\u001b[0m",
      "\u001b[1;31mSyntaxError\u001b[0m                               Traceback (most recent call last)",
      "\u001b[1;32mC:\\Anaconda3\\lib\\site-packages\\IPython\\core\\interactiveshell.py\u001b[0m in \u001b[0;36m_run_cell\u001b[1;34m(self, raw_cell, store_history, silent, shell_futures)\u001b[0m\n\u001b[0;32m   2757\u001b[0m                 \u001b[1;32mtry\u001b[0m\u001b[1;33m:\u001b[0m\u001b[1;33m\u001b[0m\u001b[0m\n\u001b[1;32m-> 2758\u001b[1;33m                     \u001b[0mcode_ast\u001b[0m \u001b[1;33m=\u001b[0m \u001b[0mcompiler\u001b[0m\u001b[1;33m.\u001b[0m\u001b[0mast_parse\u001b[0m\u001b[1;33m(\u001b[0m\u001b[0mcell\u001b[0m\u001b[1;33m,\u001b[0m \u001b[0mfilename\u001b[0m\u001b[1;33m=\u001b[0m\u001b[0mcell_name\u001b[0m\u001b[1;33m)\u001b[0m\u001b[1;33m\u001b[0m\u001b[0m\n\u001b[0m\u001b[0;32m   2759\u001b[0m                 \u001b[1;32mexcept\u001b[0m \u001b[0mself\u001b[0m\u001b[1;33m.\u001b[0m\u001b[0mcustom_exceptions\u001b[0m \u001b[1;32mas\u001b[0m \u001b[0me\u001b[0m\u001b[1;33m:\u001b[0m\u001b[1;33m\u001b[0m\u001b[0m\n",
      "\u001b[1;32mC:\\Anaconda3\\lib\\site-packages\\IPython\\core\\compilerop.py\u001b[0m in \u001b[0;36mast_parse\u001b[1;34m(self, source, filename, symbol)\u001b[0m\n\u001b[0;32m    116\u001b[0m         and are passed to the built-in compile function.\"\"\"\n\u001b[1;32m--> 117\u001b[1;33m         \u001b[1;32mreturn\u001b[0m \u001b[0mself\u001b[0m\u001b[1;33m.\u001b[0m\u001b[0m_fix_module_ds\u001b[0m\u001b[1;33m(\u001b[0m\u001b[0mcompile\u001b[0m\u001b[1;33m(\u001b[0m\u001b[0msource\u001b[0m\u001b[1;33m,\u001b[0m \u001b[0mfilename\u001b[0m\u001b[1;33m,\u001b[0m \u001b[0msymbol\u001b[0m\u001b[1;33m,\u001b[0m \u001b[0mself\u001b[0m\u001b[1;33m.\u001b[0m\u001b[0mflags\u001b[0m \u001b[1;33m|\u001b[0m \u001b[0mPyCF_ONLY_AST\u001b[0m\u001b[1;33m,\u001b[0m \u001b[1;36m1\u001b[0m\u001b[1;33m)\u001b[0m\u001b[1;33m)\u001b[0m\u001b[1;33m\u001b[0m\u001b[0m\n\u001b[0m\u001b[0;32m    118\u001b[0m \u001b[1;33m\u001b[0m\u001b[0m\n",
      "\u001b[1;31mSyntaxError\u001b[0m: invalid syntax (<ipython-input-2-a1e2359367b8>, line 1)",
      "\nDuring handling of the above exception, another exception occurred:\n",
      "\u001b[1;31mNameError\u001b[0m                                 Traceback (most recent call last)",
      "\u001b[1;32m<ipython-input-2-2d82539e7568>\u001b[0m in \u001b[0;36m<module>\u001b[1;34m()\u001b[0m\n\u001b[0;32m      1\u001b[0m \u001b[0mSyntaxError\u001b[0m\u001b[1;33m\u001b[0m\u001b[0m\n\u001b[1;32m----> 2\u001b[1;33m \u001b[0mIPython\u001b[0m\u001b[1;33m.\u001b[0m\u001b[0mcore\u001b[0m\u001b[1;33m.\u001b[0m\u001b[0minputtransformer\u001b[0m\u001b[1;33m\u001b[0m\u001b[0m\n\u001b[0m\u001b[0;32m      3\u001b[0m \u001b[0mipykernel\u001b[0m\u001b[1;33m\u001b[0m\u001b[0m\n",
      "\u001b[1;31mNameError\u001b[0m: name 'IPython' is not defined"
     ]
    }
   ],
   "source": [
    "Markdown forward literate computing permits Markdown as source code, and the block/inline code objects are executed.  The different ways of using Markdown as code ordered from least to most opinionated:\n",
    "\n",
    "1. a <code>%%markdown</code> or <code>%%md</code> cell magic that an author voluntarily invokes.\n",
    "2. using markdown as a fallback.  It is very easy for Markdown to appear as a `SyntaxError` to Python, and in this case the Markdown transformer is invoked.\n",
    "3. a permenant `IPython.core.inputtransformer` that is executed each time a cell is evaluated.\n",
    "4. a custom `ipykernel` that says \"I want literate computing all the damn time\"."
   ]
  },
  {
   "cell_type": "code",
   "execution_count": 3,
   "metadata": {},
   "outputs": [],
   "source": [
    "ip = get_ipython()"
   ]
  },
  {
   "cell_type": "code",
   "execution_count": 4,
   "metadata": {},
   "outputs": [],
   "source": [
    "import abc"
   ]
  },
  {
   "cell_type": "code",
   "execution_count": 5,
   "metadata": {},
   "outputs": [],
   "source": [
    "from deathbeds.__SyntaxError_Fallbacks import fallback"
   ]
  },
  {
   "cell_type": "code",
   "execution_count": 41,
   "metadata": {},
   "outputs": [],
   "source": [
    "import traceback"
   ]
  },
  {
   "cell_type": "code",
   "execution_count": null,
   "metadata": {},
   "outputs": [],
   "source": []
  },
  {
   "cell_type": "code",
   "execution_count": 45,
   "metadata": {},
   "outputs": [],
   "source": [
    "\n",
    "from contextlib import contextmanager"
   ]
  },
  {
   "cell_type": "code",
   "execution_count": 46,
   "metadata": {},
   "outputs": [],
   "source": [
    "@contextmanager\n",
    "def swap_exception(Exception):\n",
    "    ip.custom_exceptions = tuple(x for x in ip.custom_exceptions if not issubclass(x, Exception)); yield\n",
    "    ip.custom_exceptions += (Exception,)"
   ]
  },
  {
   "cell_type": "code",
   "execution_count": 50,
   "metadata": {},
   "outputs": [],
   "source": [
    "import fnmatch"
   ]
  },
  {
   "cell_type": "code",
   "execution_count": 78,
   "metadata": {},
   "outputs": [],
   "source": [
    "class BaseExceptions(abc.ABCMeta):\n",
    "    def __call__(self, ip, type, Exception, tb, **kwargs):\n",
    "        excepts = getattr(self, type.__name__, None)\n",
    "        if excepts:\n",
    "            with swap_exception(type):\n",
    "                return getattr(self, type.__name__)(ip, type, Exception, tb, **kwargs)\n",
    "class Exceptions(metaclass=BaseExceptions): \n",
    "    SyntaxError = fallback\n",
    "    \n",
    "    def NameError(ip, type, Exception, tb, **kwargs):\n",
    "        msg = Exception.args[0]\n",
    "        pat = \"name '*' is not defined\"\n",
    "        if fnmatch.fnmatch(msg, pat):\n",
    "            left, right = pat.split('*')\n",
    "            result = ip.run_cell(f\"import {msg[len(left):-len(right)]}\", store_history=False)\n",
    "            if not any((result.error_in_exec, result.error_before_exec)):\n",
    "                result = ip.run_cell(In[-1])\n",
    "        return traceback.format_exception_only(type, Exception)\n",
    "    \n",
    "    \n",
    "    def AttributeError(ip, type, Exception, tb, **kwargs):\n",
    "        msg = Exception.args[0]\n",
    "        pat = \"module '*' has no attribute '*'\"\n",
    "        if fnmatch.fnmatch(msg, pat):\n",
    "            left, middle, right = pat.split('*')\n",
    "            mstart = msg.index(middle)\n",
    "            mend = mstart + len(middle)\n",
    "            result = ip.run_cell(f\"import {msg[len(left):mstart]}.{msg[mend:-len(right)]}\", store_history=False)\n",
    "            if not any((result.error_in_exec, result.error_before_exec)):\n",
    "                result = ip.run_cell(In[-1])\n",
    "        return traceback.format_exception_only(type, Exception)\n"
   ]
  },
  {
   "cell_type": "code",
   "execution_count": 79,
   "metadata": {},
   "outputs": [],
   "source": [
    "ip.set_custom_exc(tuple(getattr(__builtin__, x) for x in dir(Exceptions) if x not in dir(abc.ABC)), Exceptions)"
   ]
  },
  {
   "cell_type": "code",
   "execution_count": 81,
   "metadata": {},
   "outputs": [
    {
     "data": {
      "text/plain": [
       "<module 'sklearn.preprocessing' from 'C:\\\\Anaconda3\\\\lib\\\\site-packages\\\\sklearn\\\\preprocessing\\\\__init__.py'>"
      ]
     },
     "execution_count": 81,
     "metadata": {},
     "output_type": "execute_result"
    }
   ],
   "source": [
    "sklearn.preprocessing"
   ]
  },
  {
   "cell_type": "code",
   "execution_count": 72,
   "metadata": {},
   "outputs": [
    {
     "data": {
      "text/plain": [
       "<module 'IPython' from 'C:\\\\Anaconda3\\\\lib\\\\site-packages\\\\IPython\\\\__init__.py'>"
      ]
     },
     "execution_count": 72,
     "metadata": {},
     "output_type": "execute_result"
    }
   ],
   "source": [
    "IPython"
   ]
  },
  {
   "cell_type": "code",
   "execution_count": 37,
   "metadata": {},
   "outputs": [
    {
     "data": {
      "text/markdown": [],
      "text/plain": [
       "<IPython.core.display.Markdown object>"
      ]
     },
     "metadata": {},
     "output_type": "display_data"
    },
    {
     "data": {
      "text/markdown": [
       "There is a syntax\n",
       "\n",
       "    print(11)\n"
      ],
      "text/plain": [
       "<IPython.core.display.Markdown object>"
      ]
     },
     "metadata": {},
     "output_type": "display_data"
    },
    {
     "name": "stdout",
     "output_type": "stream",
     "text": [
      "------> print(11)\n"
     ]
    },
    {
     "data": {
      "text/markdown": [],
      "text/plain": [
       "<IPython.core.display.Markdown object>"
      ]
     },
     "metadata": {},
     "output_type": "display_data"
    },
    {
     "name": "stdout",
     "output_type": "stream",
     "text": [
      "11\n"
     ]
    }
   ],
   "source": [
    "There is a syntax\n",
    "\n",
    "    print(11)"
   ]
  },
  {
   "cell_type": "code",
   "execution_count": 19,
   "metadata": {},
   "outputs": [],
   "source": [
    "Exceptions(get_ipython(), BaseException, BaseException(), BaseException().__traceback__)"
   ]
  },
  {
   "cell_type": "code",
   "execution_count": null,
   "metadata": {},
   "outputs": [],
   "source": [
    "ip.set_custom_exc"
   ]
  }
 ],
 "metadata": {
  "kernelspec": {
   "display_name": "Python 3",
   "language": "python",
   "name": "python3"
  },
  "language_info": {
   "codemirror_mode": {
    "name": "ipython",
    "version": 3
   },
   "file_extension": ".py",
   "mimetype": "text/x-python",
   "name": "python",
   "nbconvert_exporter": "python",
   "pygments_lexer": "ipython3",
   "version": "3.6.6"
  }
 },
 "nbformat": 4,
 "nbformat_minor": 2
}
