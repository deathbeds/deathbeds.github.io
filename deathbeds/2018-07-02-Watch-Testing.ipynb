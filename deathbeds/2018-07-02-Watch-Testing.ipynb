{
 "cells": [
  {
   "cell_type": "markdown",
   "metadata": {},
   "source": [
    "# Using `watchdog` tricks to automatically run tests.\n",
    "\n",
    "`watchdog` contains a command line tools to define watch events using a yaml file."
   ]
  },
  {
   "cell_type": "markdown",
   "metadata": {},
   "source": [
    "Use `pytest` to demonstrate the technique."
   ]
  },
  {
   "cell_type": "code",
   "execution_count": 4,
   "metadata": {},
   "outputs": [],
   "source": [
    "    commands = \"\"\"pytest\"\"\""
   ]
  },
  {
   "cell_type": "markdown",
   "metadata": {},
   "source": [
    "Ignore some of the by products of the notebook."
   ]
  },
  {
   "cell_type": "code",
   "execution_count": 5,
   "metadata": {},
   "outputs": [],
   "source": [
    "    tricks = \"\"\"tricks:\n",
    "    - watchdog.tricks.ShellCommandTrick:\n",
    "        patterns:\n",
    "        - \"*/*.ipynb\"\n",
    "        ignore_patterns:\n",
    "        - '*/.~*.ipynb'\n",
    "        - '*/.ipynb_checkpoints*'\n",
    "        shell_command: >\n",
    "            {}\n",
    "    \"\"\".format(commands)"
   ]
  },
  {
   "cell_type": "markdown",
   "metadata": {},
   "source": [
    "Write the tricks file to disk if it doesn't exist."
   ]
  },
  {
   "cell_type": "code",
   "execution_count": 7,
   "metadata": {},
   "outputs": [],
   "source": [
    "    if __name__ == '__main__':\n",
    "        from IPython import get_ipython\n",
    "        path = __import__('pathlib').Path('tricks.yml')\n",
    "        if not path.exists(): path.write_text(tricks)  "
   ]
  },
  {
   "cell_type": "markdown",
   "metadata": {},
   "source": [
    "Run the watchmedo command"
   ]
  },
  {
   "cell_type": "code",
   "execution_count": 8,
   "metadata": {},
   "outputs": [
    {
     "name": "stdout",
     "output_type": "stream",
     "text": [
      "\u001b[1m============================= test session starts ==============================\u001b[0m\n",
      "platform darwin -- Python 3.5.4, pytest-3.5.1, py-1.5.3, pluggy-0.6.0\n",
      "benchmark: 3.1.1 (defaults: timer=time.perf_counter disable_gc=False min_rounds=5 min_time=0.000005 max_time=1.0 calibration_precision=10 warmup=False warmup_iterations=100000)\n",
      "rootdir: /Users/tonyfast/deathbeds.github.io, inifile:\n",
      "plugins: ignore-flaky-0.1.1, forked-0.2, benchmark-3.1.1, importnb-0.3.2\n",
      "collected 0 items                                                              \u001b[0m\n",
      "\n",
      "\u001b[1m\u001b[33m========================= no tests ran in 0.01 seconds =========================\u001b[0m\n",
      "^C\n"
     ]
    }
   ],
   "source": [
    "    if __name__ == '__main__':\n",
    "        !watchmedo tricks tricks.yml"
   ]
  }
 ],
 "metadata": {
  "kernelspec": {
   "display_name": "p6",
   "language": "python",
   "name": "other-env"
  },
  "language_info": {
   "codemirror_mode": {
    "name": "ipython",
    "version": 3
   },
   "file_extension": ".py",
   "mimetype": "text/x-python",
   "name": "python",
   "nbconvert_exporter": "python",
   "pygments_lexer": "ipython3",
   "version": "3.6.3"
  }
 },
 "nbformat": 4,
 "nbformat_minor": 2
}
