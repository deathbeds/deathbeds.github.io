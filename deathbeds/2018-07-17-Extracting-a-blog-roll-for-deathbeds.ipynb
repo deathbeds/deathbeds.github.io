{
 "cells": [
  {
   "cell_type": "markdown",
   "metadata": {},
   "source": [
    "# Indexing blog posts for a blog roll\n",
    "\n",
    "This notebooks aggregates the `deathbeds` modules into a tidy `pandas.DataFrame`.  That object can be used to created a structured view of the posts."
   ]
  },
  {
   "cell_type": "code",
   "execution_count": 1,
   "metadata": {},
   "outputs": [],
   "source": [
    "    from pathlib import Path\n",
    "    import deathbeds\n",
    "    from pandas import DataFrame, Series, Index, to_datetime\n",
    "    from IPython.display import Markdown, display\n",
    "    loader = __import__('importnb').Execute(stdout=True, stderr=True, display=True);"
   ]
  },
  {
   "cell_type": "markdown",
   "metadata": {},
   "source": [
    "* glob the modules in the `deathbeds` package."
   ]
  },
  {
   "cell_type": "code",
   "execution_count": 2,
   "metadata": {},
   "outputs": [],
   "source": [
    "    modules = Series(index=Index(Path(deathbeds.__file__).parent.glob('*.ipynb')));"
   ]
  },
  {
   "cell_type": "markdown",
   "metadata": {},
   "source": [
    "Convert a file path to and imported module"
   ]
  },
  {
   "cell_type": "code",
   "execution_count": null,
   "metadata": {},
   "outputs": [],
   "source": [
    "    def file_to_module(path):\n",
    "        with loader:\n",
    "            name = path.relative_to(Path(deathbeds.__file__).parent).stem.split('.', 1)[0]\n",
    "            return getattr(__import__('.'.join(('deathbeds', name))), name)"
   ]
  },
  {
   "cell_type": "markdown",
   "metadata": {},
   "source": [
    "* Import all of the modules.  As the modules are imported we are testing their efficacy when `__name__ != '__main__`"
   ]
  },
  {
   "cell_type": "code",
   "execution_count": null,
   "metadata": {},
   "outputs": [],
   "source": [
    "    if __name__ == '__main__':\n",
    "        for path in modules.index: \n",
    "            try: modules.loc[path] = file_to_module(path)\n",
    "            except BaseException as e: print(path, e)"
   ]
  },
  {
   "cell_type": "markdown",
   "metadata": {},
   "source": [
    "* Tidy the module information to create a blog roll"
   ]
  },
  {
   "cell_type": "code",
   "execution_count": null,
   "metadata": {},
   "outputs": [],
   "source": [
    "    if __name__ == '__main__':\n",
    "        df = modules.to_frame('module')\n",
    "        df['docstring'] = df['module'].apply(lambda x: x.__doc__)\n",
    "        df['name'] = df['module'].apply(lambda x: x.__name__)\n",
    "        df['title'] = df.docstring.str.lstrip('#').str.lstrip().apply(lambda x: x.splitlines()[0])\n",
    "        df['relative'] = df.index.map(lambda x: f'{x.relative_to(Path(deathbeds.__file__).parent)}')\n",
    "\n",
    "        df['date'] = df['name'].str.split('.', 1).apply(lambda _: '-'.join(_[1].split('-', 3)[:3])).pipe(\n",
    "            lambda s: s[s.apply(lambda x: x[0]).str.isnumeric()]\n",
    "        ).pipe(to_datetime)\n",
    "\n",
    "\n",
    "        blog_roll = Markdown(df.dropna(subset=['date']).sort_values('date', ascending=False).apply(\n",
    "            lambda _: f\"\"\"* ## [{_.loc['title']}]({_.loc['relative']})\n",
    "\n",
    "    > {_.loc['date'].strftime(\"%A  %B %d, %Y\")}\n",
    "\n",
    "    \"\"\", axis=1\n",
    "        ).pipe(\"\".join));"
   ]
  },
  {
   "cell_type": "code",
   "execution_count": null,
   "metadata": {},
   "outputs": [],
   "source": [
    "    if __name__ == '__main__':\n",
    "        display(df.sample(2).reset_index(drop=True))"
   ]
  },
  {
   "cell_type": "code",
   "execution_count": null,
   "metadata": {},
   "outputs": [],
   "source": [
    "    if __name__ == '__main__': \n",
    "        display(blog_roll)"
   ]
  },
  {
   "cell_type": "markdown",
   "metadata": {},
   "source": [
    "## Infer the `deathbeds` requirements.\n",
    "\n",
    "All of the modules have been imported into the current context.  That means with a few logic circuits we could recreate the requirements for all of the notebooks in `deathbeds`."
   ]
  },
  {
   "cell_type": "markdown",
   "metadata": {},
   "source": [
    "* `mappings` renames import names to their package name."
   ]
  },
  {
   "cell_type": "code",
   "execution_count": null,
   "metadata": {},
   "outputs": [],
   "source": [
    "import sys"
   ]
  },
  {
   "cell_type": "code",
   "execution_count": null,
   "metadata": {},
   "outputs": [],
   "source": [
    "    mappings = dict(\n",
    "        PIL='pillow',\n",
    "        skimage='scikit-image', \n",
    "        yaml= 'pyyaml',\n",
    "        depfinder=\"git+https://github.com/deathbeds/depfinder@ipython-code-transform\",\n",
    "        **{\n",
    "            'cv2.cv2': 'opencv-python', \n",
    "        }\n",
    "    );"
   ]
  },
  {
   "cell_type": "markdown",
   "metadata": {},
   "source": [
    "* there are some [Jupyter-console incompatible with prompt-toolkit 2.0.2 #158](https://github.com/jupyter/jupyter_console/issues/158)"
   ]
  },
  {
   "cell_type": "code",
   "execution_count": null,
   "metadata": {},
   "outputs": [],
   "source": [
    "    mappings.update(prompt_toolkit='prompt-toolkit==1.0.15')"
   ]
  },
  {
   "cell_type": "markdown",
   "metadata": {},
   "source": [
    "* some of the imports we flat out don't want."
   ]
  },
  {
   "cell_type": "code",
   "execution_count": null,
   "metadata": {},
   "outputs": [],
   "source": [
    "    nah = 'sphinxcontrib', 'pkg_resources', 'dateutil', 'storemagic', 'OpenSSL', 'socks', 'gmpy2', 'blib2to3', 'deathbeds';"
   ]
  },
  {
   "cell_type": "markdown",
   "metadata": {},
   "source": [
    "* special case"
   ]
  },
  {
   "cell_type": "code",
   "execution_count": null,
   "metadata": {},
   "outputs": [],
   "source": [
    "    special = \"cv2.cv2\",;"
   ]
  },
  {
   "cell_type": "markdown",
   "metadata": {},
   "source": [
    "### Logic\n",
    "\n",
    "* The module has a `__file__` attribute; builtins don't\n",
    "* The module is top level; it doesn't have a `.`\n",
    "* The module name doesn't start with an `_`\n",
    "* The module is install `install` or `develop`; in `site-packages` or the working directories."
   ]
  },
  {
   "cell_type": "code",
   "execution_count": null,
   "metadata": {},
   "outputs": [],
   "source": [
    "    requirements = \"\"\n",
    "\n",
    "    for key, module in __import__('sys').modules.items():\n",
    "        file = getattr(module, '__file__', \"\")\n",
    "        if module.__name__ in special or (\n",
    "            '.' not in key \n",
    "            and '.' not in module.__name__\n",
    "            and not key.startswith('_')\n",
    "            and (\n",
    "                all(map(file.__contains__, ('python', 'site-packages')))\n",
    "                or 'python' not in getattr(module, '__file__', \"python\")\n",
    "            ) and module.__name__ not in nah\n",
    "        ):\n",
    "            requirements += f\"\"\"{mappings.get(module.__name__, module.__name__)}\\n\"\"\"\n",
    "\n",
    "    requirements = '\\n'.join(sorted(requirements.splitlines(), key=str.lower));\n",
    "    Path('../requirements.txt').write_text(requirements)\n",
    "    print(requirements)"
   ]
  },
  {
   "cell_type": "code",
   "execution_count": null,
   "metadata": {},
   "outputs": [],
   "source": []
  }
 ],
 "metadata": {
  "kernelspec": {
   "display_name": "p6",
   "language": "python",
   "name": "other-env"
  },
  "language_info": {
   "codemirror_mode": {
    "name": "ipython",
    "version": 3
   },
   "file_extension": ".py",
   "mimetype": "text/x-python",
   "name": "python",
   "nbconvert_exporter": "python",
   "pygments_lexer": "ipython3",
   "version": "3.6.3"
  }
 },
 "nbformat": 4,
 "nbformat_minor": 2
}
