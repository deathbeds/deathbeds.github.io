{
 "cells": [
  {
   "cell_type": "markdown",
   "metadata": {},
   "source": [
    "# Indexing blog posts for a blog roll\n",
    "\n",
    "This notebooks aggregates the `deathbeds` modules into a tidy `pandas.DataFrame`.  That object can be used to created a structured view of the posts."
   ]
  },
  {
   "cell_type": "code",
   "execution_count": 1,
   "metadata": {},
   "outputs": [],
   "source": [
    "    from pathlib import Path\n",
    "    import deathbeds\n",
    "    from pandas import DataFrame, Series, Index, to_datetime\n",
    "    from IPython.display import Markdown, display\n",
    "    loader = __import__('importnb').Execute(display=True);"
   ]
  },
  {
   "cell_type": "markdown",
   "metadata": {},
   "source": [
    "* glob the modules in the `deathbeds` package."
   ]
  },
  {
   "cell_type": "code",
   "execution_count": 2,
   "metadata": {},
   "outputs": [],
   "source": [
    "    modules = Series(index=Index(Path(deathbeds.__file__).parent.glob('*.ipynb')));"
   ]
  },
  {
   "cell_type": "markdown",
   "metadata": {},
   "source": [
    "Convert a file path to and imported module"
   ]
  },
  {
   "cell_type": "code",
   "execution_count": 3,
   "metadata": {},
   "outputs": [],
   "source": [
    "    def file_to_module(path):\n",
    "        with loader:\n",
    "            name = path.relative_to(Path(deathbeds.__file__).parent).stem.split('.', 1)[0]\n",
    "            return getattr(__import__('.'.join(('deathbeds', name))), name)"
   ]
  },
  {
   "cell_type": "markdown",
   "metadata": {},
   "source": [
    "* Import all of the modules.  As the modules are imported we are testing their efficacy when `__name__ != '__main__`"
   ]
  },
  {
   "cell_type": "code",
   "execution_count": 4,
   "metadata": {},
   "outputs": [
    {
     "name": "stdout",
     "output_type": "stream",
     "text": [
      "y expects 4 * 2 * float64, but recieved 3 * 2 * float64\n",
      "20\n"
     ]
    },
    {
     "name": "stderr",
     "output_type": "stream",
     "text": [
      "/Users/tonyfast/anaconda/envs/p6/lib/python3.6/site-packages/skimage/io/_plugins/matplotlib_plugin.py:74: UserWarning: Low image data range; displaying image with stretched contrast.\n",
      "  warn(\"Low image data range; displaying image with \"\n",
      "/Users/tonyfast/anaconda/envs/p6/lib/python3.6/site-packages/skimage/io/_plugins/matplotlib_plugin.py:74: UserWarning: Low image data range; displaying image with stretched contrast.\n",
      "  warn(\"Low image data range; displaying image with \"\n"
     ]
    },
    {
     "name": "stdout",
     "output_type": "stream",
     "text": [
      "return expects <class 'str'>, but recieved <class 'int'>\n",
      "return expects int64, but recieved string\n",
      "x expects 1 * float64, but recieved 1 * int64\n",
      "y expects 3 * 3 * float64, but recieved 3 * 3 * int64\n",
      "y expects 3 * 3 * float64, but recieved 5 * 3 * float64\n",
      "return expects 10 * int32, but recieved 10 * int64\n",
      "z expects <class 'float'>, but recieved <class 'int'>\n",
      "<3 importnb\n",
      "\u001b]0;IPython: deathbeds.github.io/deathbeds\u0007Debug mode is on\n",
      "Synching\n"
     ]
    }
   ],
   "source": [
    "    if __name__ == '__main__':\n",
    "        for path in modules.index: modules.loc[path] = file_to_module(path)"
   ]
  },
  {
   "cell_type": "markdown",
   "metadata": {},
   "source": [
    "* Tidy the module information to create a blog roll"
   ]
  },
  {
   "cell_type": "code",
   "execution_count": 15,
   "metadata": {},
   "outputs": [],
   "source": [
    "    if __name__ == '__main__':\n",
    "        df = modules.to_frame('module')\n",
    "        df['docstring'] = df['module'].apply(lambda x: x.__doc__)\n",
    "        df['name'] = df['module'].apply(lambda x: x.__name__)\n",
    "        df['title'] = df.docstring.str.lstrip('#').str.lstrip().apply(lambda x: x.splitlines()[0])\n",
    "        df['relative'] = df.index.map(lambda x: f'{x.relative_to(Path(deathbeds.__file__).parent)}')\n",
    "\n",
    "        df['date'] = df['name'].str.split('.', 1).apply(lambda _: '-'.join(_[1].split('-', 3)[:3])).pipe(\n",
    "            lambda s: s[s.apply(lambda x: x[0]).str.isnumeric()]\n",
    "        ).pipe(to_datetime)\n",
    "\n",
    "\n",
    "        blog_roll = Markdown(df.dropna(subset=['date']).sort_values('date', ascending=False).apply(\n",
    "            lambda _: f\"\"\"* ## [{_.loc['title']}]({_.loc['relative']})\n",
    "\n",
    "    > {_.loc['date'].strftime(\"%A  %B %d, %Y\")}\n",
    "\n",
    "    \"\"\", axis=1\n",
    "        ).pipe(\"\".join));"
   ]
  },
  {
   "cell_type": "code",
   "execution_count": 16,
   "metadata": {},
   "outputs": [
    {
     "data": {
      "text/html": [
       "<div>\n",
       "<style scoped>\n",
       "    .dataframe tbody tr th:only-of-type {\n",
       "        vertical-align: middle;\n",
       "    }\n",
       "\n",
       "    .dataframe tbody tr th {\n",
       "        vertical-align: top;\n",
       "    }\n",
       "\n",
       "    .dataframe thead th {\n",
       "        text-align: right;\n",
       "    }\n",
       "</style>\n",
       "<table border=\"1\" class=\"dataframe\">\n",
       "  <thead>\n",
       "    <tr style=\"text-align: right;\">\n",
       "      <th></th>\n",
       "      <th>module</th>\n",
       "      <th>docstring</th>\n",
       "      <th>name</th>\n",
       "      <th>title</th>\n",
       "      <th>relative</th>\n",
       "      <th>date</th>\n",
       "    </tr>\n",
       "  </thead>\n",
       "  <tbody>\n",
       "    <tr>\n",
       "      <th>0</th>\n",
       "      <td>&lt;module 'deathbeds.2018-07-03-Custom-IPython-C...</td>\n",
       "      <td># Customizing the completer in IPython\\n\\n&gt; It...</td>\n",
       "      <td>deathbeds.2018-07-03-Custom-IPython-Completer-...</td>\n",
       "      <td>Customizing the completer in IPython</td>\n",
       "      <td>2018-07-03-Custom-IPython-Completer-for-Indent...</td>\n",
       "      <td>2018-07-03</td>\n",
       "    </tr>\n",
       "    <tr>\n",
       "      <th>1</th>\n",
       "      <td>&lt;module 'deathbeds.2018-07-04-Deathbeds-startu...</td>\n",
       "      <td># Deathbed configuration\\n\\nOur configuration ...</td>\n",
       "      <td>deathbeds.2018-07-04-Deathbeds-startup</td>\n",
       "      <td>Deathbed configuration</td>\n",
       "      <td>2018-07-04-Deathbeds-startup.ipynb</td>\n",
       "      <td>2018-07-04</td>\n",
       "    </tr>\n",
       "  </tbody>\n",
       "</table>\n",
       "</div>"
      ],
      "text/plain": [
       "                                              module  \\\n",
       "0  <module 'deathbeds.2018-07-03-Custom-IPython-C...   \n",
       "1  <module 'deathbeds.2018-07-04-Deathbeds-startu...   \n",
       "\n",
       "                                           docstring  \\\n",
       "0  # Customizing the completer in IPython\\n\\n> It...   \n",
       "1  # Deathbed configuration\\n\\nOur configuration ...   \n",
       "\n",
       "                                                name  \\\n",
       "0  deathbeds.2018-07-03-Custom-IPython-Completer-...   \n",
       "1             deathbeds.2018-07-04-Deathbeds-startup   \n",
       "\n",
       "                                  title  \\\n",
       "0  Customizing the completer in IPython   \n",
       "1                Deathbed configuration   \n",
       "\n",
       "                                            relative       date  \n",
       "0  2018-07-03-Custom-IPython-Completer-for-Indent... 2018-07-03  \n",
       "1                 2018-07-04-Deathbeds-startup.ipynb 2018-07-04  "
      ]
     },
     "metadata": {},
     "output_type": "display_data"
    }
   ],
   "source": [
    "    if __name__ == '__main__':\n",
    "        display(df.sample(2).reset_index(drop=True))"
   ]
  },
  {
   "cell_type": "code",
   "execution_count": 17,
   "metadata": {},
   "outputs": [
    {
     "data": {
      "text/markdown": [
       "* ## [Indexing blog posts for a blog roll](2018-07-17-Extracting-a-blog-roll-for-deathbeds.ipynb)\n",
       "\n",
       "> Tuesday  July 17, 2018\n",
       "\n",
       "* ## [Testing the __Restart & Run All__-ability of Notebooks](2018-07-16-Testing-restart-run-all.ipynb)\n",
       "\n",
       "> Monday  July 16, 2018\n",
       "\n",
       "* ## [Watch me do tricks](2018-07-15-Pytest-watchmedo.ipynb)\n",
       "\n",
       "> Sunday  July 15, 2018\n",
       "\n",
       "* ## [Creating command line scripts from a notebook](2018-07-15-click-arguments-from-a-notebook.ipynb)\n",
       "\n",
       "> Sunday  July 15, 2018\n",
       "\n",
       "* ## [What to do with inline code blocks in Markdown](2018-07-13-Supercharged-imarkdown-as-code.md.ipynb)\n",
       "\n",
       "> Friday  July 13, 2018\n",
       "\n",
       "* ## [Using light as a grid](2018-07-10-Using-math-as-a-grid.ipynb)\n",
       "\n",
       "> Tuesday  July 10, 2018\n",
       "\n",
       "* ## [Fuzzy File Finding](2018-07-10-Fuzzy-importing-files-with-weird-characters.ipynb)\n",
       "\n",
       "> Tuesday  July 10, 2018\n",
       "\n",
       "* ## [One level of a Sierpinski gasket with symypy and shapely](2018-07-09-Shaply-sympy-gasket.ipynb)\n",
       "\n",
       "> Monday  July 09, 2018\n",
       "\n",
       "* ## [`__name__ == '__main__'`  is important](2018-07-09-name-is-main.ipynb)\n",
       "\n",
       "> Monday  July 09, 2018\n",
       "\n",
       "* ## [Customizing module reprs in IPython](2018-07-09-IPython-reprs.ipynb)\n",
       "\n",
       "> Monday  July 09, 2018\n",
       "\n",
       "* ## [Reusing `importlib`, `nbconvert`, and `nbformat` to import notebooks](2018-07-08-The-simplest-path-hook-importer-for-a-notebook.ipynb)\n",
       "\n",
       "> Sunday  July 08, 2018\n",
       "\n",
       "* ## [Templating input cells with [`jinja2`](http://jinja.pocoo.org/docs/2.10/)](2018-07-07-A-Jinja2-Templating-Transformer.md.ipynb)\n",
       "\n",
       "> Saturday  July 07, 2018\n",
       "\n",
       "* ## [A dead simple markdown transformer for code cells](2018-07-06-Markdown-code-cells.ipynb)\n",
       "\n",
       "> Friday  July 06, 2018\n",
       "\n",
       "* ## [Getting the outlines of text](2018-07-05-Tracing-edges-of-image-text.ipynb)\n",
       "\n",
       "> Thursday  July 05, 2018\n",
       "\n",
       "* ## [Downloading Gist data from the Github API](2018-07-05-Exploring-a-users-gists.ipynb)\n",
       "\n",
       "> Thursday  July 05, 2018\n",
       "\n",
       "* ## [Deathbed configuration](2018-07-04-Deathbeds-startup.ipynb)\n",
       "\n",
       "> Wednesday  July 04, 2018\n",
       "\n",
       "* ## [`black` formatter for the notebook](2018-07-04-blacken-the-interactive-black-formatter.ipynb)\n",
       "\n",
       "> Wednesday  July 04, 2018\n",
       "\n",
       "* ## [Are Google Forms a Good Idea for Notebooks?](2018-07-04-Are-Google-Forms-a-Good-Idea-for-Notebooks.ipynb)\n",
       "\n",
       "> Wednesday  July 04, 2018\n",
       "\n",
       "* ## [Running a flask application in the notebook with [`delegator.py`](https://github.com/kennethreitz/delegator.py)](2018-07-03-Running-a-notebook-flask-app-with-delegator-py.ipynb)\n",
       "\n",
       "> Tuesday  July 03, 2018\n",
       "\n",
       "* ## [Using `importnb` with Luigi](2018-07-03-Luigi-command-line.ipynb)\n",
       "\n",
       "> Tuesday  July 03, 2018\n",
       "\n",
       "* ## [Using [`depfinder`](https://github.com/ericdill/depfinder) to discover the `deathbeds` dependencies.](2018-07-03-Deathbeds-dependencies.ipynb)\n",
       "\n",
       "> Tuesday  July 03, 2018\n",
       "\n",
       "* ## [Customizing the completer in IPython](2018-07-03-Custom-IPython-Completer-for-Indented-Code.ipynb)\n",
       "\n",
       "> Tuesday  July 03, 2018\n",
       "\n",
       "* ## [Using `watchdog` tricks to automatically run tests.](2018-07-02-Watch-Testing.ipynb)\n",
       "\n",
       "> Monday  July 02, 2018\n",
       "\n",
       "* ## [Default type checking before cell execution.](2018-07-02-Type-code-cells-by-defaul.ipynb)\n",
       "\n",
       "> Monday  July 02, 2018\n",
       "\n",
       "* ## [Plotting a DataFrame as an Image](2018-07-02-Pandas-Pixels--DataFrames-as-Images.ipynb)\n",
       "\n",
       "> Monday  July 02, 2018\n",
       "\n",
       "* ## [Interactive type checking](2018-06-24-Interactive-type-checking.ipynb)\n",
       "\n",
       "> Sunday  June 24, 2018\n",
       "\n",
       "* ## [Image transforms on a flourish](2018-06-23-Image-segmentation-on-flourishes.ipynb)\n",
       "\n",
       "> Saturday  June 23, 2018\n",
       "\n",
       "* ## [Emojis in matplotlib](2018-06-23-Emojis-in-matplotlib.ipynb)\n",
       "\n",
       "> Saturday  June 23, 2018\n",
       "\n",
       "* ## [%%everything](2018-06-22-Show-all-outputs-in-widget.ipynb)\n",
       "\n",
       "> Friday  June 22, 2018\n",
       "\n",
       "* ## [The simplest opencv widget integration](2018-06-20-OpenCV-and-a-Widget.ipynb)\n",
       "\n",
       "> Wednesday  June 20, 2018\n",
       "\n",
       "* ## [Interactive type checking with datashape](2018-06-20-Interactive-type-checking-with-datashape.ipynb)\n",
       "\n",
       "> Wednesday  June 20, 2018\n",
       "\n",
       "* ## [Reasonable way to place macros in text.](2018-06-19-String-Node-Transformer.ipynb)\n",
       "\n",
       "> Tuesday  June 19, 2018\n",
       "\n",
       "* ## [Github statistics API](2018-06-19-Github-Statistics.ipynb)\n",
       "\n",
       "> Tuesday  June 19, 2018\n",
       "\n"
      ],
      "text/plain": [
       "<IPython.core.display.Markdown object>"
      ]
     },
     "metadata": {},
     "output_type": "display_data"
    }
   ],
   "source": [
    "    if __name__ == '__main__': \n",
    "        display(blog_roll)"
   ]
  },
  {
   "cell_type": "markdown",
   "metadata": {},
   "source": [
    "* Infer the requirements document from the active state of the sys modules.  The crudest assumption looks for modules with __site-packages__ in the filename."
   ]
  },
  {
   "cell_type": "code",
   "execution_count": 41,
   "metadata": {},
   "outputs": [
    {
     "data": {
      "image/png": "[encoded data removed]",
      "text/latex": [
       "$$881$$"
      ],
      "text/plain": [
       "881"
      ]
     },
     "execution_count": 41,
     "metadata": {},
     "output_type": "execute_result"
    }
   ],
   "source": [
    "Path('../requirements.txt').write_text('\\n'.join(\n",
    "    object.__name__ for key, object in __import__('sys').modules.items() \n",
    "    if '.' not in key and '.' not in object.__name__\n",
    "    and not key.startswith('_')\n",
    "    and 'site-packages' in getattr(object, '__file__', \"\")\n",
    "    and object.__name__ not in {\n",
    "        'sphinxcontrib'\n",
    "    }\n",
    "    \n",
    "))"
   ]
  },
  {
   "cell_type": "code",
   "execution_count": null,
   "metadata": {},
   "outputs": [],
   "source": []
  }
 ],
 "metadata": {
  "kernelspec": {
   "display_name": "p6",
   "language": "python",
   "name": "other-env"
  },
  "language_info": {
   "codemirror_mode": {
    "name": "ipython",
    "version": 3
   },
   "file_extension": ".py",
   "mimetype": "text/x-python",
   "name": "python",
   "nbconvert_exporter": "python",
   "pygments_lexer": "ipython3",
   "version": "3.6.3"
  }
 },
 "nbformat": 4,
 "nbformat_minor": 2
}
