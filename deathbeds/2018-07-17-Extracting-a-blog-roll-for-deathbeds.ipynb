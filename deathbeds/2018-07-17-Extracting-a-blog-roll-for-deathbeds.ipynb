{
 "cells": [
  {
   "cell_type": "markdown",
   "metadata": {},
   "source": [
    "# Indexing blog posts for a blog roll\n",
    "\n",
    "This notebooks aggregates the `deathbeds` modules into a tidy `pandas.DataFrame`.  That object can be used to created a structured view of the posts."
   ]
  },
  {
   "cell_type": "code",
   "execution_count": 2,
   "metadata": {},
   "outputs": [],
   "source": [
    "    from pathlib import Path\n",
    "    import deathbeds\n",
    "    from pandas import DataFrame, Series, Index, to_datetime\n",
    "    from IPython.display import Markdown, display\n",
    "    loader = __import__('importnb').Notebook();"
   ]
  },
  {
   "cell_type": "markdown",
   "metadata": {},
   "source": [
    "* glob the modules in the `deathbeds` package."
   ]
  },
  {
   "cell_type": "markdown",
   "metadata": {},
   "source": [
    "Convert a file path to and imported module"
   ]
  },
  {
   "cell_type": "code",
   "execution_count": 4,
   "metadata": {},
   "outputs": [],
   "source": [
    "    def file_to_module(path):\n",
    "        with loader:\n",
    "            name = path.relative_to(Path(deathbeds.__file__).parent).stem.split('.', 1)[0]\n",
    "            return getattr(__import__('.'.join(('deathbeds', name))), name)"
   ]
  },
  {
   "cell_type": "markdown",
   "metadata": {},
   "source": [
    "* Import all of the modules.  As the modules are imported we are testing their efficacy when `__name__ != '__main__`"
   ]
  },
  {
   "cell_type": "code",
   "execution_count": 15,
   "metadata": {},
   "outputs": [],
   "source": [
    "    from pytest import mark, fixture"
   ]
  },
  {
   "cell_type": "code",
   "execution_count": 16,
   "metadata": {},
   "outputs": [],
   "source": [
    "    @mark.skipif(True, reason=\"Another blog post tells this story better\")\n",
    "    def _load_all_imports():\n",
    "        for path in modules.index: \n",
    "            try: modules.loc[path] = file_to_module(path)\n",
    "            except BaseException as e: print(path, e)"
   ]
  },
  {
   "cell_type": "markdown",
   "metadata": {},
   "source": [
    "* Tidy the module information to create a blog roll"
   ]
  },
  {
   "cell_type": "code",
   "execution_count": 17,
   "metadata": {},
   "outputs": [
    {
     "data": {
      "text/plain": [
       "False"
      ]
     },
     "execution_count": 17,
     "metadata": {},
     "output_type": "execute_result"
    }
   ],
   "source": [
    "    is_nbconvert = 'tmp' in __import__('sys').argv[-1]"
   ]
  },
  {
   "cell_type": "code",
   "execution_count": null,
   "metadata": {},
   "outputs": [],
   "source": [
    "    "
   ]
  },
  {
   "cell_type": "code",
   "execution_count": 18,
   "metadata": {},
   "outputs": [],
   "source": [
    "    @fixture\n",
    "    def modules():\n",
    "        return Series(index=Index(Path(deathbeds.__file__).parent.glob('*.ipynb')));"
   ]
  },
  {
   "cell_type": "code",
   "execution_count": 19,
   "metadata": {},
   "outputs": [
    {
     "data": {
      "text/plain": [
       "c:\\users\\deathbeds\\deathbeds.github.io\\deathbeds\\2018-06-19-Github-Statistics.ipynb                                NaN\n",
       "c:\\users\\deathbeds\\deathbeds.github.io\\deathbeds\\2018-06-19-String-Node-Transformer.ipynb                          NaN\n",
       "c:\\users\\deathbeds\\deathbeds.github.io\\deathbeds\\2018-06-20-Interactive-type-checking-with-datashape.ipynb         NaN\n",
       "c:\\users\\deathbeds\\deathbeds.github.io\\deathbeds\\2018-06-20-OpenCV-and-a-Widget.ipynb                              NaN\n",
       "c:\\users\\deathbeds\\deathbeds.github.io\\deathbeds\\2018-06-22-Show-all-outputs-in-widget.ipynb                       NaN\n",
       "c:\\users\\deathbeds\\deathbeds.github.io\\deathbeds\\2018-06-23-Emojis-in-matplotlib.ipynb                             NaN\n",
       "c:\\users\\deathbeds\\deathbeds.github.io\\deathbeds\\2018-06-23-Image-segmentation-on-flourishes.ipynb                 NaN\n",
       "c:\\users\\deathbeds\\deathbeds.github.io\\deathbeds\\2018-06-24-Interactive-type-checking.ipynb                        NaN\n",
       "c:\\users\\deathbeds\\deathbeds.github.io\\deathbeds\\2018-07-02-Pandas-Pixels--DataFrames-as-Images.ipynb              NaN\n",
       "c:\\users\\deathbeds\\deathbeds.github.io\\deathbeds\\2018-07-02-Type-code-cells-by-defaul.ipynb                        NaN\n",
       "c:\\users\\deathbeds\\deathbeds.github.io\\deathbeds\\2018-07-02-Watch-Testing.ipynb                                    NaN\n",
       "c:\\users\\deathbeds\\deathbeds.github.io\\deathbeds\\2018-07-03-Custom-IPython-Completer-for-Indented-Code.ipynb       NaN\n",
       "c:\\users\\deathbeds\\deathbeds.github.io\\deathbeds\\2018-07-03-Deathbeds-dependencies.ipynb                           NaN\n",
       "c:\\users\\deathbeds\\deathbeds.github.io\\deathbeds\\2018-07-03-Luigi-command-line.ipynb                               NaN\n",
       "c:\\users\\deathbeds\\deathbeds.github.io\\deathbeds\\2018-07-03-Running-a-notebook-flask-app-with-delegator-py.ipynb   NaN\n",
       "c:\\users\\deathbeds\\deathbeds.github.io\\deathbeds\\2018-07-04-Are-Google-Forms-a-Good-Idea-for-Notebooks.ipynb       NaN\n",
       "c:\\users\\deathbeds\\deathbeds.github.io\\deathbeds\\2018-07-04-blacken-the-interactive-black-formatter.ipynb          NaN\n",
       "c:\\users\\deathbeds\\deathbeds.github.io\\deathbeds\\2018-07-04-Deathbeds-startup.ipynb                                NaN\n",
       "c:\\users\\deathbeds\\deathbeds.github.io\\deathbeds\\2018-07-04-Python-code-formatters.ipynb                           NaN\n",
       "c:\\users\\deathbeds\\deathbeds.github.io\\deathbeds\\2018-07-05-Exploring-a-users-gists.ipynb                          NaN\n",
       "c:\\users\\deathbeds\\deathbeds.github.io\\deathbeds\\2018-07-05-Tracing-edges-of-image-text.ipynb                      NaN\n",
       "c:\\users\\deathbeds\\deathbeds.github.io\\deathbeds\\2018-07-06-Markdown-code-cells.ipynb                              NaN\n",
       "c:\\users\\deathbeds\\deathbeds.github.io\\deathbeds\\2018-07-06-Revisiting-cadquery-and-ipywidgets-part-1.ipynb        NaN\n",
       "c:\\users\\deathbeds\\deathbeds.github.io\\deathbeds\\2018-07-07-A-Jinja2-Templating-Transformer.md.ipynb               NaN\n",
       "c:\\users\\deathbeds\\deathbeds.github.io\\deathbeds\\2018-07-08-The-simplest-path-hook-importer-for-a-notebook.ipynb   NaN\n",
       "c:\\users\\deathbeds\\deathbeds.github.io\\deathbeds\\2018-07-09-IPython-reprs.ipynb                                    NaN\n",
       "c:\\users\\deathbeds\\deathbeds.github.io\\deathbeds\\2018-07-09-name-is-main.ipynb                                     NaN\n",
       "c:\\users\\deathbeds\\deathbeds.github.io\\deathbeds\\2018-07-09-Shaply-sympy-gasket.ipynb                              NaN\n",
       "c:\\users\\deathbeds\\deathbeds.github.io\\deathbeds\\2018-07-10-Fuzzy-importing-files-with-weird-characters.ipynb      NaN\n",
       "c:\\users\\deathbeds\\deathbeds.github.io\\deathbeds\\2018-07-10-Using-math-as-a-grid.ipynb                             NaN\n",
       "                                                                                                                    ..\n",
       "c:\\users\\deathbeds\\deathbeds.github.io\\deathbeds\\2018-08-03-Using-click-interactively.ipynb                        NaN\n",
       "c:\\users\\deathbeds\\deathbeds.github.io\\deathbeds\\2018-08-04-Emojis-in-code-cells.ipynb                             NaN\n",
       "c:\\users\\deathbeds\\deathbeds.github.io\\deathbeds\\2018-08-04-Notebooks-as-Tidy-DX.ipynb                             NaN\n",
       "c:\\users\\deathbeds\\deathbeds.github.io\\deathbeds\\2018-08-13-Flexbox-Transformer.ipynb                              NaN\n",
       "c:\\users\\deathbeds\\deathbeds.github.io\\deathbeds\\2018-08-14-Benchmarking-imports.ipynb                             NaN\n",
       "c:\\users\\deathbeds\\deathbeds.github.io\\deathbeds\\disqus.ipynb                                                      NaN\n",
       "c:\\users\\deathbeds\\deathbeds.github.io\\deathbeds\\foobar.ipynb                                                      NaN\n",
       "c:\\users\\deathbeds\\deathbeds.github.io\\deathbeds\\monkey.ipynb                                                      NaN\n",
       "c:\\users\\deathbeds\\deathbeds.github.io\\deathbeds\\poser_wtf.ipynb                                                   NaN\n",
       "c:\\users\\deathbeds\\deathbeds.github.io\\deathbeds\\ricker.ipynb                                                      NaN\n",
       "c:\\users\\deathbeds\\deathbeds.github.io\\deathbeds\\tests.ipynb                                                       NaN\n",
       "c:\\users\\deathbeds\\deathbeds.github.io\\deathbeds\\Timeline.ipynb                                                    NaN\n",
       "c:\\users\\deathbeds\\deathbeds.github.io\\deathbeds\\Untitled.ipynb                                                    NaN\n",
       "c:\\users\\deathbeds\\deathbeds.github.io\\deathbeds\\Untitled1.ipynb                                                   NaN\n",
       "c:\\users\\deathbeds\\deathbeds.github.io\\deathbeds\\Untitled1.md.ipynb                                                NaN\n",
       "c:\\users\\deathbeds\\deathbeds.github.io\\deathbeds\\Untitled10.ipynb                                                  NaN\n",
       "c:\\users\\deathbeds\\deathbeds.github.io\\deathbeds\\Untitled10.nbconvert.ipynb                                        NaN\n",
       "c:\\users\\deathbeds\\deathbeds.github.io\\deathbeds\\Untitled11.ipynb                                                  NaN\n",
       "c:\\users\\deathbeds\\deathbeds.github.io\\deathbeds\\Untitled12.ipynb                                                  NaN\n",
       "c:\\users\\deathbeds\\deathbeds.github.io\\deathbeds\\Untitled2-Copy1.ipynb                                             NaN\n",
       "c:\\users\\deathbeds\\deathbeds.github.io\\deathbeds\\Untitled2.ipynb                                                   NaN\n",
       "c:\\users\\deathbeds\\deathbeds.github.io\\deathbeds\\Untitled3.ipynb                                                   NaN\n",
       "c:\\users\\deathbeds\\deathbeds.github.io\\deathbeds\\Untitled4.ipynb                                                   NaN\n",
       "c:\\users\\deathbeds\\deathbeds.github.io\\deathbeds\\Untitled5.ipynb                                                   NaN\n",
       "c:\\users\\deathbeds\\deathbeds.github.io\\deathbeds\\Untitled6.ipynb                                                   NaN\n",
       "c:\\users\\deathbeds\\deathbeds.github.io\\deathbeds\\Untitled7.ipynb                                                   NaN\n",
       "c:\\users\\deathbeds\\deathbeds.github.io\\deathbeds\\Untitled8.ipynb                                                   NaN\n",
       "c:\\users\\deathbeds\\deathbeds.github.io\\deathbeds\\Untitled9.ipynb                                                   NaN\n",
       "c:\\users\\deathbeds\\deathbeds.github.io\\deathbeds\\utube.ipynb                                                       NaN\n",
       "c:\\users\\deathbeds\\deathbeds.github.io\\deathbeds\\__style__.ipynb                                                   NaN\n",
       "Length: 77, dtype: float64"
      ]
     },
     "execution_count": 19,
     "metadata": {},
     "output_type": "execute_result"
    }
   ],
   "source": [
    "modules()"
   ]
  },
  {
   "cell_type": "code",
   "execution_count": null,
   "metadata": {},
   "outputs": [],
   "source": []
  },
  {
   "cell_type": "code",
   "execution_count": 11,
   "metadata": {},
   "outputs": [],
   "source": [
    "    @fixture\n",
    "    def df(modules):\n",
    "        df = modules.to_frame('module')\n",
    "        df['docstring'] = df['module'].apply(lambda x: x.__doc__)\n",
    "        df['name'] = df['module'].apply(lambda x: x.__name__)\n",
    "        df['title'] = df.docstring.str.lstrip('#').str.lstrip().apply(lambda x: x.splitlines()[0])\n",
    "        df['relative'] = df.index.map(lambda x: f'{x.relative_to(Path(deathbeds.__file__).parent)}')\n",
    "\n",
    "        df['date'] = df['name'].str.split('.', 1).apply(lambda _: '-'.join(_[1].split('-', 3)[:3])).pipe(\n",
    "            lambda s: s[s.apply(lambda x: x[0]).str.isnumeric()]\n",
    "        ).pipe(to_datetime)\n",
    "        return df\n",
    "\n",
    "    "
   ]
  },
  {
   "cell_type": "code",
   "execution_count": null,
   "metadata": {},
   "outputs": [],
   "source": []
  },
  {
   "cell_type": "code",
   "execution_count": 11,
   "metadata": {},
   "outputs": [],
   "source": [
    "    def create_blog_roll(df):\n",
    "        return Markdown(df.dropna(subset=['date']).sort_values('date', ascending=False).apply(\n",
    "            lambda _: f\"\"\"* ## [{_.loc['title']}]({_.loc['relative']})\n",
    "\n",
    "    > {_.loc['date'].strftime(\"%A  %B %d, %Y\")}\n",
    "\n",
    "    \"\"\", axis=1\n",
    "        ).pipe(\"\".join));\n",
    "        "
   ]
  },
  {
   "cell_type": "code",
   "execution_count": 11,
   "metadata": {},
   "outputs": [],
   "source": [
    "    def _show_blog_rool(df):\n",
    "        assert create_blog_roll(df)"
   ]
  },
  {
   "cell_type": "markdown",
   "metadata": {},
   "source": [
    "    if __name__ == '__main__' and not is_nbconvert: \n",
    "        df = create_blog_roll()\n",
    "        display(df.sample(2).reset_index(drop=True))\n",
    "\n",
    "    if __name__ == '__main__' and not is_nbconvert: \n",
    "        display(blog_roll)"
   ]
  },
  {
   "cell_type": "markdown",
   "metadata": {},
   "source": [
    "## Infer the `deathbeds` requirements.\n",
    "\n",
    "All of the modules have been imported into the current context.  That means with a few logic circuits we could recreate the requirements for all of the notebooks in `deathbeds`."
   ]
  },
  {
   "cell_type": "markdown",
   "metadata": {},
   "source": [
    "* `mappings` renames import names to their package name."
   ]
  },
  {
   "cell_type": "code",
   "execution_count": 9,
   "metadata": {},
   "outputs": [],
   "source": [
    "    mappings = dict(\n",
    "        PIL='pillow',\n",
    "        skimage='scikit-image', \n",
    "        yaml= 'pyyaml',\n",
    "        delegator='delegator.py',\n",
    "        pidgin=\"git+https://github.com/deathbeds/pidgin\",\n",
    "        importnb=\"git+https://github.com/deathbeds/importnb\",\n",
    "        depfinder=\"git+https://github.com/deathbeds/depfinder@ipython-code-transform\",\n",
    "        **{\n",
    "            'cv2.cv2': 'opencv-python', \n",
    "        }\n",
    "    );"
   ]
  },
  {
   "cell_type": "markdown",
   "metadata": {},
   "source": [
    "* there are some [Jupyter-console incompatible with prompt-toolkit 2.0.2 #158](https://github.com/jupyter/jupyter_console/issues/158)"
   ]
  },
  {
   "cell_type": "code",
   "execution_count": 10,
   "metadata": {},
   "outputs": [],
   "source": [
    "    mappings.update(prompt_toolkit='prompt-toolkit==1.0.15')"
   ]
  },
  {
   "cell_type": "markdown",
   "metadata": {},
   "source": [
    "* some of the imports we flat out don't want."
   ]
  },
  {
   "cell_type": "code",
   "execution_count": 11,
   "metadata": {},
   "outputs": [],
   "source": [
    "    nah = 'sphinxcontrib', 'pkg_resources', 'dateutil', 'storemagic', 'OpenSSL', 'socks', 'gmpy2', 'blib2to3', 'deathbeds';"
   ]
  },
  {
   "cell_type": "markdown",
   "metadata": {},
   "source": [
    "* special case"
   ]
  },
  {
   "cell_type": "code",
   "execution_count": 12,
   "metadata": {},
   "outputs": [],
   "source": [
    "    special = \"cv2.cv2\",;"
   ]
  },
  {
   "cell_type": "markdown",
   "metadata": {},
   "source": [
    "### Logic\n",
    "\n",
    "* The module has a `__file__` attribute; builtins don't\n",
    "* The module is top level; it doesn't have a `.`\n",
    "* The module name doesn't start with an `_`\n",
    "* The module is install `install` or `develop`; in `site-packages` or the working directories."
   ]
  },
  {
   "cell_type": "code",
   "execution_count": 13,
   "metadata": {},
   "outputs": [
    {
     "name": "stdout",
     "output_type": "stream",
     "text": [
      "appdirs\n",
      "asn1crypto\n",
      "attr\n",
      "black\n",
      "bottleneck\n",
      "certifi\n",
      "cffi\n",
      "chardet\n",
      "click\n",
      "cloudpickle\n",
      "colorama\n",
      "CommonMark\n",
      "cryptography\n",
      "cycler\n",
      "cytoolz\n",
      "dask\n",
      "dataclasses\n",
      "datashape\n",
      "decorator\n",
      "delegator.py\n",
      "entrypoints\n",
      "fastcache\n",
      "flask\n",
      "git+https://github.com/deathbeds/depfinder@ipython-code-transform\n",
      "git+https://github.com/deathbeds/importnb\n",
      "git+https://github.com/deathbeds/pidgin\n",
      "google\n",
      "graphviz\n",
      "greenlet\n",
      "idna\n",
      "importlib_resources\n",
      "ipykernel\n",
      "ipyparallel\n",
      "IPython\n",
      "ipython_genutils\n",
      "ipywidgets\n",
      "itsdangerous\n",
      "jedi\n",
      "jinja2\n",
      "jsonschema\n",
      "jupyter_client\n",
      "jupyter_core\n",
      "luigi\n",
      "lxml\n",
      "markupsafe\n",
      "matplotlib\n",
      "mistune\n",
      "more_itertools\n",
      "mpmath\n",
      "multipledispatch\n",
      "mypy\n",
      "nbconvert\n",
      "nbformat\n",
      "notebook\n",
      "numpy\n",
      "numpydoc\n",
      "opencv-python\n",
      "opencv-python\n",
      "pandas\n",
      "pandocfilters\n",
      "pexpect\n",
      "pickleshare\n",
      "pillow\n",
      "pluggy\n",
      "poser\n",
      "prompt-toolkit==1.0.15\n",
      "ptyprocess\n",
      "py\n",
      "pygments\n",
      "pyparsing\n",
      "pytest\n",
      "pytz\n",
      "pywt\n",
      "pyyaml\n",
      "requests\n",
      "scikit-image\n",
      "scipy\n",
      "shapely\n",
      "simplegeneric\n",
      "simplejson\n",
      "six\n",
      "stdlib_list\n",
      "sympy\n",
      "tensorflow\n",
      "testpath\n",
      "toolz\n",
      "tornado\n",
      "tqdm\n",
      "traitlets\n",
      "typed_ast\n",
      "urllib3\n",
      "wcwidth\n",
      "werkzeug\n",
      "xlrd\n",
      "zmq\n"
     ]
    }
   ],
   "source": [
    "    requirements = \"\"\n",
    "\n",
    "    for key, module in __import__('sys').modules.items():\n",
    "        file = getattr(module, '__file__', \"\")\n",
    "        if module.__name__ in special or (\n",
    "            '.' not in key \n",
    "            and '.' not in module.__name__\n",
    "            and not key.startswith('_')\n",
    "            and (\n",
    "                all(map(file.__contains__, ('python', 'site-packages')))\n",
    "                or 'python' not in getattr(module, '__file__', \"python\")\n",
    "            ) and module.__name__ not in nah\n",
    "        ):\n",
    "            requirements += f\"\"\"{mappings.get(module.__name__, module.__name__)}\\n\"\"\"\n",
    "\n",
    "    requirements = '\\n'.join(sorted(requirements.splitlines(), key=str.lower));\n",
    "    Path('../requirements.txt').write_text(requirements)\n",
    "    print(requirements)"
   ]
  },
  {
   "cell_type": "code",
   "execution_count": null,
   "metadata": {},
   "outputs": [],
   "source": []
  },
  {
   "cell_type": "code",
   "execution_count": null,
   "metadata": {},
   "outputs": [],
   "source": []
  }
 ],
 "metadata": {
  "kernelspec": {
   "display_name": "Python 3",
   "language": "python",
   "name": "python3"
  },
  "language_info": {
   "codemirror_mode": {
    "name": "ipython",
    "version": 3
   },
   "file_extension": ".py",
   "mimetype": "text/x-python",
   "name": "python",
   "nbconvert_exporter": "python",
   "pygments_lexer": "ipython3",
   "version": "3.6.5"
  }
 },
 "nbformat": 4,
 "nbformat_minor": 2
}
