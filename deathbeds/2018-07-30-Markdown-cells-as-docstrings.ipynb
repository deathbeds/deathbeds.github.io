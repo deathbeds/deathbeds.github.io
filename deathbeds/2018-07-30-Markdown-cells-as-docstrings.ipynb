{
 "cells": [
  {
   "cell_type": "markdown",
   "metadata": {},
   "source": [
    "# Markdown cells as docstrings\n",
    "\n",
    "An opinion that emerged from `importnb` allows an end user to write their docstrings in rich Markdown syntax. This notebook illustrates how to acheive this using the `ast` representation of the module."
   ]
  },
  {
   "cell_type": "code",
   "execution_count": 14,
   "metadata": {},
   "outputs": [],
   "source": [
    "    from . import __Importing_notebooks_with_proper_source; import ast"
   ]
  },
  {
   "cell_type": "markdown",
   "metadata": {},
   "source": [
    "A `SourceFileLoader` for notebooks that include leading strings to functions and classes as docstrings. We user the source_to_code method to acheive these results by modifying the ast representation of the module."
   ]
  },
  {
   "cell_type": "code",
   "execution_count": 15,
   "metadata": {},
   "outputs": [],
   "source": [
    "    class DocStringLoader(__Importing_notebooks_with_proper_source.FlatSourceLoader):\n",
    "        def source_to_code(self, data, path, *, _optimize=-1):\n",
    "            return super().source_to_code(update_docstring(ast.parse(data)), path, _optimize=_optimize)"
   ]
  },
  {
   "cell_type": "markdown",
   "metadata": {},
   "source": [
    "## Transpose appropriate docstrings.\n",
    "\n",
    "These helpers functions takes string expressions leading functions as the docstring.  The first cell is the docstring for the module."
   ]
  },
  {
   "cell_type": "code",
   "execution_count": 25,
   "metadata": {},
   "outputs": [],
   "source": [
    "    def update_docstring(module):\n",
    "        from functools import reduce\n",
    "        module.body = reduce(markdown_docstring, module.body, [])\n",
    "        return module"
   ]
  },
  {
   "cell_type": "markdown",
   "metadata": {},
   "source": [
    "`markdown_docstring` collects string expressions leading function and class defintions"
   ]
  },
  {
   "cell_type": "code",
   "execution_count": 26,
   "metadata": {},
   "outputs": [],
   "source": [
    "    def markdown_docstring(nodes, node):\n",
    "        if (len(nodes) > 1 and str_expr(nodes[-1]) \n",
    "            and isinstance(node, (ast.ClassDef, ast.FunctionDef)) \n",
    "            and not str_expr(node.body[0])): node.body.insert(0, nodes.pop())\n",
    "        return nodes.append(node) or nodes\n"
   ]
  },
  {
   "cell_type": "markdown",
   "metadata": {},
   "source": [
    "`str_expr` assesses if a node is a string expression."
   ]
  },
  {
   "cell_type": "code",
   "execution_count": 27,
   "metadata": {},
   "outputs": [],
   "source": [
    "    def str_expr(node):  return isinstance(node, ast.Expr) and isinstance(node.value, ast.Str)"
   ]
  },
  {
   "cell_type": "markdown",
   "metadata": {},
   "source": [
    "## Demonstration"
   ]
  },
  {
   "cell_type": "code",
   "execution_count": 28,
   "metadata": {},
   "outputs": [],
   "source": [
    "    from importlib import import_module; from IPython import get_ipython"
   ]
  },
  {
   "cell_type": "code",
   "execution_count": 29,
   "metadata": {},
   "outputs": [],
   "source": [
    "    def _test_cells_as_docstrings():\n",
    "        __Importing_notebooks_with_proper_source.__The_simplest_path_hook_importer_for_a_notebook.load_ipython_extension(get_ipython(), loader = DocStringLoader)\n",
    "        module = import_module('deathbeds.2018-07-30-Markdown-cells-as-docstrings')\n",
    "        assert __import__('inspect').getdoc(module)\n",
    "        assert __import__('inspect').getdoc(module.str_expr)"
   ]
  },
  {
   "cell_type": "markdown",
   "metadata": {},
   "source": [
    "### The HTML pager\n",
    "\n",
    "Docstrings written as markdown have very nice representation when the __html_pager__ is enabled."
   ]
  },
  {
   "cell_type": "code",
   "execution_count": 30,
   "metadata": {},
   "outputs": [],
   "source": [
    "    def _test_the_pager():\n",
    "        get_ipython().enable_html_pager = True\n",
    "        module?"
   ]
  }
 ],
 "metadata": {
  "kernelspec": {
   "display_name": "Python 3",
   "language": "python",
   "name": "python3"
  },
  "language_info": {
   "codemirror_mode": {
    "name": "ipython",
    "version": 3
   },
   "file_extension": ".py",
   "mimetype": "text/x-python",
   "name": "python",
   "nbconvert_exporter": "python",
   "pygments_lexer": "ipython3",
   "version": "3.6.5"
  }
 },
 "nbformat": 4,
 "nbformat_minor": 2
}
