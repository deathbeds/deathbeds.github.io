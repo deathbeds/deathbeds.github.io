{
 "cells": [
  {
   "cell_type": "markdown",
   "metadata": {},
   "source": [
    "# A Bespoke Presentation Style Modification for JupyterLab"
   ]
  },
  {
   "cell_type": "code",
   "execution_count": 5,
   "metadata": {},
   "outputs": [],
   "source": [
    "    style = __import__('IPython').display.HTML(\"\"\"<style>\n",
    "    .jp-RenderedHTMLCommon pre code {\n",
    "        text-decoration: line-through wavy;\n",
    "    }\n",
    "    .jp-RenderedHTMLCommon pre code:hover {\n",
    "        text-decoration: none;\n",
    "        \n",
    "    }\n",
    "    .jp-Placeholder-content .jp-MoreHorizIcon {\n",
    "        background-size: 32px;\n",
    "    }\n",
    "    \n",
    "    @import url(\"https://cdn.jsdelivr.net/npm/firacode@1.205.0/distr/fira_code.css\")\n",
    "\n",
    "    .CodeMirror * {\n",
    "      font-family: 'Fira Code' !important; \n",
    "      font-variant-ligatures: initial !important;\n",
    "    }\n",
    "\n",
    "    .cm-string {\n",
    "        font-variant-ligatures: none;\n",
    "    }\n",
    "    </style>\"\"\")"
   ]
  },
  {
   "cell_type": "code",
   "execution_count": 6,
   "metadata": {},
   "outputs": [],
   "source": [
    "    style.data += \"\"\"<style>\n",
    "    .jp-mod-presentationMode .jp-SideBar,\n",
    "    .jp-mod-presentationMode #jp-top-panel {\n",
    "        opacity: 0.0;\n",
    "        transition: all 0.2s;\n",
    "    }\n",
    "    .jp-mod-presentationMode .jp-SideBar:hover,\n",
    "    .jp-mod-presentationMode #jp-top-panel:hover {\n",
    "        opacity: 0.9;\n",
    "        transition: all 0.2s;\n",
    "    }\n",
    "\n",
    "    </style>\"\"\""
   ]
  },
  {
   "cell_type": "code",
   "execution_count": 7,
   "metadata": {},
   "outputs": [],
   "source": [
    "    style.data+=\"\"\"<style>\n",
    "    .jp-mod-presentationMode.jp-ApplicationShell,\n",
    "    .jp-mod-presentationMode .p-TabBar-content{\n",
    "        background-color: var(--jp-layout-color0);\n",
    "    }\n",
    "    </style>\"\"\""
   ]
  },
  {
   "cell_type": "code",
   "execution_count": 8,
   "metadata": {},
   "outputs": [],
   "source": [
    "    style.data += \"\"\"<style>\n",
    "    .jp-mod-presentationMode .p-DockPanel-widget,\n",
    "    .jp-mod-presentationMode #jp-left-stack{\n",
    "        border-color: transparent;\n",
    "    }\n",
    "    .jp-mod-presentationMode .jp-Toolbar-item,\n",
    "    .jp-mod-presentationMode .jp-Toolbar {\n",
    "        opacity: 0.1;\n",
    "        transition: all 0.2s;\n",
    "    }\n",
    "    .jp-mod-presentationMode .jp-Toolbar-item:hover,\n",
    "    .jp-mod-presentationMode .jp-Toolbar:hover {\n",
    "        opacity: 0.9;\n",
    "        transition: all 0.2s;\n",
    "    }\n",
    "\n",
    "    </style>\"\"\""
   ]
  },
  {
   "cell_type": "code",
   "execution_count": 9,
   "metadata": {},
   "outputs": [],
   "source": [
    "    style.data += \"\"\"<style>\n",
    "    .jp-mod-presentationMode .jp-OutputPrompt,\n",
    "    .jp-mod-presentationMode .jp-InputPrompt {\n",
    "        max-width: 2rem !important;\n",
    "        transition: all 0.2s;\n",
    "    }\n",
    "    .jp-mod-presentationMode .jp-Cell.jp-mod-selected .jp-OutputPrompt,\n",
    "    .jp-mod-presentationMode .jp-Cell.jp-mod-selected .jp-InputPrompt,\n",
    "    .jp-mod-presentationMode .jp-Cell:hover .jp-OutputPrompt,\n",
    "    .jp-mod-presentationMode .jp-Cell:hover .jp-InputPrompt {\n",
    "        max-width: 10rem !important;\n",
    "        transition: all 0.2s;\n",
    "    }\n",
    "    \n",
    "    .jp-mod-presentationMode .jp-Cell {\n",
    "        margin-bottom: 5rem;\n",
    "    }\n",
    "    \n",
    "    .jp-mod-presentationMode hr {\n",
    "        opacity: 0.1;\n",
    "    }\n",
    "    </style>\"\"\""
   ]
  },
  {
   "cell_type": "code",
   "execution_count": 10,
   "metadata": {},
   "outputs": [],
   "source": [
    "style.data += \"\"\"\n",
    "    <style>\n",
    "    .jp-TableOfContents-content h1, \n",
    "    .jp-TableOfContents-content h2 {\n",
    "        margin-bottom: var(--jp-ui-font-size0)\n",
    "    }\n",
    "    </style>\n",
    "    \"\"\""
   ]
  },
  {
   "cell_type": "code",
   "execution_count": 11,
   "metadata": {},
   "outputs": [],
   "source": [
    "style.data += \"\"\"\n",
    "    <style>\n",
    "    .jp-mod-presentationMode {\n",
    "        --jp-content-heading-line-height: 1.25 !important;\n",
    "    }\n",
    "    </style>\n",
    "    \"\"\""
   ]
  },
  {
   "cell_type": "code",
   "execution_count": 12,
   "metadata": {},
   "outputs": [],
   "source": [
    "    from IPython.display import display"
   ]
  },
  {
   "cell_type": "code",
   "execution_count": 13,
   "metadata": {},
   "outputs": [
    {
     "data": {
      "text/html": [
       "<style>\n",
       ".jp-RenderedHTMLCommon pre code {\n",
       "    text-decoration: line-through wavy;\n",
       "}\n",
       ".jp-RenderedHTMLCommon pre code:hover {\n",
       "    text-decoration: none;\n",
       "    \n",
       "}\n",
       ".jp-Placeholder-content .jp-MoreHorizIcon {\n",
       "    background-size: 32px;\n",
       "}\n",
       "\n",
       "@import url(\"https://cdn.jsdelivr.net/npm/firacode@1.205.0/distr/fira_code.css\")\n",
       "\n",
       ".CodeMirror * {\n",
       "  font-family: 'Fira Code' !important; \n",
       "  font-variant-ligatures: initial !important;\n",
       "}\n",
       "\n",
       ".cm-string {\n",
       "    font-variant-ligatures: none;\n",
       "}\n",
       "</style><style>\n",
       ".jp-mod-presentationMode .jp-SideBar,\n",
       ".jp-mod-presentationMode #jp-top-panel {\n",
       "    opacity: 0.0;\n",
       "    transition: all 0.2s;\n",
       "}\n",
       ".jp-mod-presentationMode .jp-SideBar:hover,\n",
       ".jp-mod-presentationMode #jp-top-panel:hover {\n",
       "    opacity: 0.9;\n",
       "    transition: all 0.2s;\n",
       "}\n",
       "\n",
       "</style><style>\n",
       ".jp-mod-presentationMode.jp-ApplicationShell,\n",
       ".jp-mod-presentationMode .p-TabBar-content{\n",
       "    background-color: var(--jp-layout-color0);\n",
       "}\n",
       "</style><style>\n",
       ".jp-mod-presentationMode .p-DockPanel-widget,\n",
       ".jp-mod-presentationMode #jp-left-stack{\n",
       "    border-color: transparent;\n",
       "}\n",
       ".jp-mod-presentationMode .jp-Toolbar-item,\n",
       ".jp-mod-presentationMode .jp-Toolbar {\n",
       "    opacity: 0.1;\n",
       "    transition: all 0.2s;\n",
       "}\n",
       ".jp-mod-presentationMode .jp-Toolbar-item:hover,\n",
       ".jp-mod-presentationMode .jp-Toolbar:hover {\n",
       "    opacity: 0.9;\n",
       "    transition: all 0.2s;\n",
       "}\n",
       "\n",
       "</style><style>\n",
       ".jp-mod-presentationMode .jp-OutputPrompt,\n",
       ".jp-mod-presentationMode .jp-InputPrompt {\n",
       "    max-width: 2rem !important;\n",
       "    transition: all 0.2s;\n",
       "}\n",
       ".jp-mod-presentationMode .jp-Cell.jp-mod-selected .jp-OutputPrompt,\n",
       ".jp-mod-presentationMode .jp-Cell.jp-mod-selected .jp-InputPrompt,\n",
       ".jp-mod-presentationMode .jp-Cell:hover .jp-OutputPrompt,\n",
       ".jp-mod-presentationMode .jp-Cell:hover .jp-InputPrompt {\n",
       "    max-width: 10rem !important;\n",
       "    transition: all 0.2s;\n",
       "}\n",
       "\n",
       ".jp-mod-presentationMode .jp-Cell {\n",
       "    margin-bottom: 5rem;\n",
       "}\n",
       "\n",
       ".jp-mod-presentationMode hr {\n",
       "    opacity: 0.1;\n",
       "}\n",
       "</style>\n",
       "    <style>\n",
       "    .jp-TableOfContents-content h1, \n",
       "    .jp-TableOfContents-content h2 {\n",
       "        margin-bottom: var(--jp-ui-font-size0)\n",
       "    }\n",
       "    </style>\n",
       "    \n",
       "    <style>\n",
       "    .jp-mod-presentationMode {\n",
       "        --jp-content-heading-line-height: 1.25 !important;\n",
       "    }\n",
       "    </style>\n",
       "    "
      ],
      "text/plain": [
       "<IPython.core.display.HTML object>"
      ]
     },
     "metadata": {},
     "output_type": "display_data"
    }
   ],
   "source": [
    "    display(style)"
   ]
  }
 ],
 "metadata": {
  "kernelspec": {
   "display_name": "Python 3",
   "language": "python",
   "name": "python3"
  },
  "language_info": {
   "codemirror_mode": {
    "name": "ipython",
    "version": 3
   },
   "file_extension": ".py",
   "mimetype": "text/x-python",
   "name": "python",
   "nbconvert_exporter": "python",
   "pygments_lexer": "ipython3",
   "version": "3.6.5"
  }
 },
 "nbformat": 4,
 "nbformat_minor": 2
}
