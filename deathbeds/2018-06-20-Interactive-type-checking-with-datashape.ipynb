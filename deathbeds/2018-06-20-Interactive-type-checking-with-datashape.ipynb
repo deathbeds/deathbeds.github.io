{
 "cells": [
  {
   "cell_type": "markdown",
   "metadata": {},
   "source": [
    "# Interactive type checking with datashape"
   ]
  },
  {
   "cell_type": "code",
   "execution_count": 1,
   "metadata": {},
   "outputs": [],
   "source": [
    "from datashape import *\n",
    "from inspect import *\n",
    "from functools import *\n",
    "from toolz.curried import *\n",
    "from toolz.curried.operator import *"
   ]
  },
  {
   "cell_type": "code",
   "execution_count": 2,
   "metadata": {},
   "outputs": [],
   "source": [
    "def to_datashape(annotation):\n",
    "    if isinstance(annotation, str):\n",
    "        return dshape(annotation)\n",
    "    if isinstance(annotation, dict):\n",
    "        return Record(\n",
    "            (_1, to_datashape(_2)) for _1, _2 in annotations.items())\n",
    "    return from_numpy(tuple(), annotation)"
   ]
  },
  {
   "cell_type": "code",
   "execution_count": 3,
   "metadata": {},
   "outputs": [],
   "source": [
    "def annotation_to_shapes(callable):\n",
    "    shapes = pipe(\n",
    "        callable, getfullargspec, attrgetter('annotations'),\n",
    "        valmap(to_datashape)\n",
    "    )\n",
    "    return shapes, shapes.pop('return')"
   ]
  },
  {
   "cell_type": "code",
   "execution_count": 4,
   "metadata": {},
   "outputs": [],
   "source": [
    "def check_shapes(values, shapes):\n",
    "    type_vars = {}\n",
    "    for key, shape in shapes.items():\n",
    "        value = values.pop(key)\n",
    "        discovered = discover(value)\n",
    "        new_parameters = []\n",
    "        for dim, parameter in enumerate(shape.parameters):\n",
    "            if isinstance(parameter, TypeVar):                \n",
    "                if parameter not in type_vars:\n",
    "                    if dim == len(shape.parameters)-1:\n",
    "                        new = discover(value).measure\n",
    "                    else:\n",
    "                        if hasattr(value, 'shape'):\n",
    "                            new = Fixed(value.shape[dim])\n",
    "                        else:\n",
    "                            new = Fixed(len(value))\n",
    "                    type_vars[parameter] = new\n",
    "                new_parameters.append(type_vars[parameter])\n",
    "            else:\n",
    "                new_parameters.append(parameter)\n",
    "                \n",
    "        shape = DataShape(*new_parameters)\n",
    "                            \n",
    "        if not validate(shape, value):\n",
    "            raise InteractiveTypeError(f\"{key} expects {shape}, but recieved {discover(value)}\")\n",
    "            \n",
    "    if values:\n",
    "        Err(f\"No types for {list(values)}.\")"
   ]
  },
  {
   "cell_type": "code",
   "execution_count": 5,
   "metadata": {},
   "outputs": [],
   "source": [
    "class InteractiveTypeError(BaseException):..."
   ]
  },
  {
   "cell_type": "code",
   "execution_count": 6,
   "metadata": {},
   "outputs": [],
   "source": [
    "def typecheck(callable):\n",
    "    @wraps(callable)\n",
    "    def caller(*args, **kwargs):\n",
    "        argspec = getfullargspec(callable)\n",
    "        shapes, returns = annotation_to_shapes(callable)\n",
    "        values = merge(\n",
    "            dict(zip(argspec.args, argspec.defaults or [])),\n",
    "            dict(zip(argspec.args, args)),\n",
    "            kwargs)\n",
    "        check_shapes(values, shapes)\n",
    "        output = callable(*args, **kwargs)\n",
    "        return output\n",
    "    return caller"
   ]
  },
  {
   "cell_type": "markdown",
   "metadata": {},
   "source": [
    "## Demonstrate on a simple dot function."
   ]
  },
  {
   "cell_type": "code",
   "execution_count": 7,
   "metadata": {},
   "outputs": [],
   "source": [
    "@typecheck\n",
    "def dot(x: \"N*float64\", y: \"N*float64\") -> \"float64\":\n",
    "    return sum(_1*_2 for _1, _2 in zip(x, y))"
   ]
  },
  {
   "cell_type": "code",
   "execution_count": 8,
   "metadata": {},
   "outputs": [
    {
     "data": {
      "text/plain": [
       "200.0"
      ]
     },
     "execution_count": 8,
     "metadata": {},
     "output_type": "execute_result"
    }
   ],
   "source": [
    "dot([10.], [20.])"
   ]
  },
  {
   "cell_type": "markdown",
   "metadata": {},
   "source": [
    "## Demonstrate on matrix multiplication."
   ]
  },
  {
   "cell_type": "code",
   "execution_count": 9,
   "metadata": {},
   "outputs": [],
   "source": [
    "@typecheck\n",
    "def matmul(x: \"N*M*float64\", y: \"M*T*float64\") -> \"N*T*float64\":\n",
    "    return x@y"
   ]
  },
  {
   "cell_type": "code",
   "execution_count": 10,
   "metadata": {},
   "outputs": [
    {
     "data": {
      "text/plain": [
       "array([[ 1.43853722,  0.81275112],\n",
       "       [ 2.41409867,  0.71916123],\n",
       "       [ 0.78274515, -0.29016317],\n",
       "       [-2.63409325, -1.76115546],\n",
       "       [-1.25299493, -0.61953802],\n",
       "       [ 2.25528122,  0.31669383],\n",
       "       [-0.33032512,  0.04367129],\n",
       "       [ 0.25128923, -0.72226858],\n",
       "       [-0.53314789, -0.14783717],\n",
       "       [ 1.88993265,  1.33088029]])"
      ]
     },
     "execution_count": 10,
     "metadata": {},
     "output_type": "execute_result"
    }
   ],
   "source": [
    "matmul(np.random.randn(10,4), np.random.randn(4, 2))"
   ]
  },
  {
   "cell_type": "markdown",
   "metadata": {},
   "source": [
    "### Execute a function with invalid generic types."
   ]
  },
  {
   "cell_type": "code",
   "execution_count": 11,
   "metadata": {},
   "outputs": [
    {
     "ename": "InteractiveTypeError",
     "evalue": "y expects 4 * 2 * float64, but recieved 3 * 2 * float64",
     "output_type": "error",
     "traceback": [
      "\u001b[0;31m---------------------------------------------------------------------------\u001b[0m",
      "\u001b[0;31mInteractiveTypeError\u001b[0m                      Traceback (most recent call last)",
      "\u001b[0;32m<ipython-input-11-d2d013ace2c8>\u001b[0m in \u001b[0;36m<module>\u001b[0;34m()\u001b[0m\n\u001b[0;32m----> 1\u001b[0;31m \u001b[0mmatmul\u001b[0m\u001b[0;34m(\u001b[0m\u001b[0mnp\u001b[0m\u001b[0;34m.\u001b[0m\u001b[0mrandom\u001b[0m\u001b[0;34m.\u001b[0m\u001b[0mrandn\u001b[0m\u001b[0;34m(\u001b[0m\u001b[0;36m10\u001b[0m\u001b[0;34m,\u001b[0m\u001b[0;36m4\u001b[0m\u001b[0;34m)\u001b[0m\u001b[0;34m,\u001b[0m \u001b[0mnp\u001b[0m\u001b[0;34m.\u001b[0m\u001b[0mrandom\u001b[0m\u001b[0;34m.\u001b[0m\u001b[0mrandn\u001b[0m\u001b[0;34m(\u001b[0m\u001b[0;36m3\u001b[0m\u001b[0;34m,\u001b[0m \u001b[0;36m2\u001b[0m\u001b[0;34m)\u001b[0m\u001b[0;34m)\u001b[0m\u001b[0;34m\u001b[0m\u001b[0m\n\u001b[0m",
      "\u001b[0;32m<ipython-input-6-6a76a6fe6c3c>\u001b[0m in \u001b[0;36mcaller\u001b[0;34m(*args, **kwargs)\u001b[0m\n\u001b[1;32m      8\u001b[0m             \u001b[0mdict\u001b[0m\u001b[0;34m(\u001b[0m\u001b[0mzip\u001b[0m\u001b[0;34m(\u001b[0m\u001b[0margspec\u001b[0m\u001b[0;34m.\u001b[0m\u001b[0margs\u001b[0m\u001b[0;34m,\u001b[0m \u001b[0margs\u001b[0m\u001b[0;34m)\u001b[0m\u001b[0;34m)\u001b[0m\u001b[0;34m,\u001b[0m\u001b[0;34m\u001b[0m\u001b[0m\n\u001b[1;32m      9\u001b[0m             kwargs)\n\u001b[0;32m---> 10\u001b[0;31m         \u001b[0mcheck_shapes\u001b[0m\u001b[0;34m(\u001b[0m\u001b[0mvalues\u001b[0m\u001b[0;34m,\u001b[0m \u001b[0mshapes\u001b[0m\u001b[0;34m)\u001b[0m\u001b[0;34m\u001b[0m\u001b[0m\n\u001b[0m\u001b[1;32m     11\u001b[0m         \u001b[0moutput\u001b[0m \u001b[0;34m=\u001b[0m \u001b[0mcallable\u001b[0m\u001b[0;34m(\u001b[0m\u001b[0;34m*\u001b[0m\u001b[0margs\u001b[0m\u001b[0;34m,\u001b[0m \u001b[0;34m**\u001b[0m\u001b[0mkwargs\u001b[0m\u001b[0;34m)\u001b[0m\u001b[0;34m\u001b[0m\u001b[0m\n\u001b[1;32m     12\u001b[0m         \u001b[0;32mreturn\u001b[0m \u001b[0moutput\u001b[0m\u001b[0;34m\u001b[0m\u001b[0m\n",
      "\u001b[0;32m<ipython-input-4-69f2d211b536>\u001b[0m in \u001b[0;36mcheck_shapes\u001b[0;34m(values, shapes)\u001b[0m\n\u001b[1;32m     23\u001b[0m \u001b[0;34m\u001b[0m\u001b[0m\n\u001b[1;32m     24\u001b[0m         \u001b[0;32mif\u001b[0m \u001b[0;32mnot\u001b[0m \u001b[0mvalidate\u001b[0m\u001b[0;34m(\u001b[0m\u001b[0mshape\u001b[0m\u001b[0;34m,\u001b[0m \u001b[0mvalue\u001b[0m\u001b[0;34m)\u001b[0m\u001b[0;34m:\u001b[0m\u001b[0;34m\u001b[0m\u001b[0m\n\u001b[0;32m---> 25\u001b[0;31m             \u001b[0;32mraise\u001b[0m \u001b[0mInteractiveTypeError\u001b[0m\u001b[0;34m(\u001b[0m\u001b[0;34mf\"{key} expects {shape}, but recieved {discover(value)}\"\u001b[0m\u001b[0;34m)\u001b[0m\u001b[0;34m\u001b[0m\u001b[0m\n\u001b[0m\u001b[1;32m     26\u001b[0m \u001b[0;34m\u001b[0m\u001b[0m\n\u001b[1;32m     27\u001b[0m     \u001b[0;32mif\u001b[0m \u001b[0mvalues\u001b[0m\u001b[0;34m:\u001b[0m\u001b[0;34m\u001b[0m\u001b[0m\n",
      "\u001b[0;31mInteractiveTypeError\u001b[0m: y expects 4 * 2 * float64, but recieved 3 * 2 * float64"
     ]
    }
   ],
   "source": [
    "matmul(np.random.randn(10,4), np.random.randn(3, 2))"
   ]
  }
 ],
 "metadata": {
  "kernelspec": {
   "display_name": "p6",
   "language": "python",
   "name": "other-env"
  },
  "language_info": {
   "codemirror_mode": {
    "name": "ipython",
    "version": 3
   },
   "file_extension": ".py",
   "mimetype": "text/x-python",
   "name": "python",
   "nbconvert_exporter": "python",
   "pygments_lexer": "ipython3",
   "version": "3.6.3"
  }
 },
 "nbformat": 4,
 "nbformat_minor": 2
}
