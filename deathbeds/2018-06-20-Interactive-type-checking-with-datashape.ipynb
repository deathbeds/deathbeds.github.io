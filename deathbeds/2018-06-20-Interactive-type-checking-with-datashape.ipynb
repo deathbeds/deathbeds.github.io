{
 "cells": [
  {
   "cell_type": "markdown",
   "metadata": {},
   "source": [
    "# Interactive type checking with datashape"
   ]
  },
  {
   "cell_type": "code",
   "execution_count": 1,
   "metadata": {},
   "outputs": [],
   "source": [
    "    from datashape import *\n",
    "    from inspect import *\n",
    "    from functools import *\n",
    "    from toolz.curried import *\n",
    "    from toolz.curried.operator import *"
   ]
  },
  {
   "cell_type": "code",
   "execution_count": 2,
   "metadata": {},
   "outputs": [],
   "source": [
    "    def to_datashape(annotation):\n",
    "        if isinstance(annotation, str):\n",
    "            return dshape(annotation)\n",
    "        if isinstance(annotation, dict):\n",
    "            return Record(\n",
    "                (_1, to_datashape(_2)) for _1, _2 in annotations.items())\n",
    "        return from_numpy(tuple(), annotation)"
   ]
  },
  {
   "cell_type": "code",
   "execution_count": 3,
   "metadata": {},
   "outputs": [],
   "source": [
    "    def annotation_to_shapes(callable):\n",
    "        shapes = pipe(\n",
    "            callable, getfullargspec, attrgetter('annotations'),\n",
    "            valmap(to_datashape)\n",
    "        )\n",
    "        return shapes, shapes.pop('return')"
   ]
  },
  {
   "cell_type": "code",
   "execution_count": 4,
   "metadata": {},
   "outputs": [],
   "source": [
    "    def check_shapes(values, shapes):\n",
    "        type_vars = {}\n",
    "        for key, shape in shapes.items():\n",
    "            value = values.pop(key)\n",
    "            discovered = discover(value)\n",
    "            new_parameters = []\n",
    "            for dim, parameter in enumerate(shape.parameters):\n",
    "                if isinstance(parameter, TypeVar):                \n",
    "                    if parameter not in type_vars:\n",
    "                        if dim == len(shape.parameters)-1:\n",
    "                            new = discover(value).measure\n",
    "                        else:\n",
    "                            if hasattr(value, 'shape'):\n",
    "                                new = Fixed(value.shape[dim])\n",
    "                            else:\n",
    "                                new = Fixed(len(value))\n",
    "                        type_vars[parameter] = new\n",
    "                    new_parameters.append(type_vars[parameter])\n",
    "                else:\n",
    "                    new_parameters.append(parameter)\n",
    "\n",
    "            shape = DataShape(*new_parameters)\n",
    "\n",
    "            if not validate(shape, value):\n",
    "                raise InteractiveTypeError(f\"{key} expects {shape}, but recieved {discover(value)}\")\n",
    "\n",
    "        if values:\n",
    "            Err(f\"No types for {list(values)}.\")"
   ]
  },
  {
   "cell_type": "code",
   "execution_count": 5,
   "metadata": {},
   "outputs": [],
   "source": [
    "    class InteractiveTypeError(BaseException):..."
   ]
  },
  {
   "cell_type": "code",
   "execution_count": 6,
   "metadata": {},
   "outputs": [],
   "source": [
    "    def typecheck(callable):\n",
    "        @wraps(callable)\n",
    "        def caller(*args, **kwargs):\n",
    "            argspec = getfullargspec(callable)\n",
    "            shapes, returns = annotation_to_shapes(callable)\n",
    "            values = merge(\n",
    "                dict(zip(argspec.args, argspec.defaults or [])),\n",
    "                dict(zip(argspec.args, args)),\n",
    "                kwargs)\n",
    "            check_shapes(values, shapes)\n",
    "            output = callable(*args, **kwargs)\n",
    "            return output\n",
    "        return caller"
   ]
  },
  {
   "cell_type": "markdown",
   "metadata": {},
   "source": [
    "## Demonstrate on a simple dot function."
   ]
  },
  {
   "cell_type": "code",
   "execution_count": 7,
   "metadata": {},
   "outputs": [],
   "source": [
    "    @typecheck\n",
    "    def dot(x: \"N*float64\", y: \"N*float64\") -> \"float64\":\n",
    "        return sum(_1*_2 for _1, _2 in zip(x, y))"
   ]
  },
  {
   "cell_type": "code",
   "execution_count": 8,
   "metadata": {},
   "outputs": [
    {
     "data": {
      "image/png": "[encoded data removed]",
      "text/latex": [
       "$$200.0$$"
      ],
      "text/plain": [
       "200.0"
      ]
     },
     "execution_count": 8,
     "metadata": {},
     "output_type": "execute_result"
    }
   ],
   "source": [
    "    dot([10.], [20.])"
   ]
  },
  {
   "cell_type": "markdown",
   "metadata": {},
   "source": [
    "## Demonstrate on matrix multiplication."
   ]
  },
  {
   "cell_type": "code",
   "execution_count": 9,
   "metadata": {},
   "outputs": [],
   "source": [
    "    @typecheck\n",
    "    def matmul(x: \"N*M*float64\", y: \"M*T*float64\") -> \"N*T*float64\":\n",
    "        return x@y"
   ]
  },
  {
   "cell_type": "code",
   "execution_count": 10,
   "metadata": {},
   "outputs": [
    {
     "data": {
      "text/plain": [
       "array([[ 1.93643169, -8.33513156],\n",
       "       [ 1.65499336, -5.2537133 ],\n",
       "       [-0.47451908,  3.59120183],\n",
       "       [-0.36964418,  1.08542178],\n",
       "       [ 0.27122241, -1.42844261],\n",
       "       [ 0.36788651, -0.66620386],\n",
       "       [ 0.57044369,  0.5412394 ],\n",
       "       [ 0.23610315,  0.796602  ],\n",
       "       [ 1.31549658, -2.31397078],\n",
       "       [-0.19160408,  3.57337919]])"
      ]
     },
     "execution_count": 10,
     "metadata": {},
     "output_type": "execute_result"
    }
   ],
   "source": [
    "    # NBVAL_IGNORE_OUTPUT\n",
    "    matmul(np.random.randn(10,4), np.random.randn(4, 2))"
   ]
  },
  {
   "cell_type": "markdown",
   "metadata": {},
   "source": [
    "### Execute a function with invalid generic types."
   ]
  },
  {
   "cell_type": "code",
   "execution_count": 11,
   "metadata": {},
   "outputs": [
    {
     "name": "stdout",
     "output_type": "stream",
     "text": [
      "y expects 4 * 2 * float64, but recieved 3 * 2 * float64\n"
     ]
    }
   ],
   "source": [
    "    try:\n",
    "        matmul(np.random.randn(10,4), np.random.randn(3, 2))\n",
    "    except InteractiveTypeError as e: print(e)"
   ]
  }
 ],
 "metadata": {
  "kernelspec": {
   "display_name": "p6",
   "language": "python",
   "name": "other-env"
  },
  "language_info": {
   "codemirror_mode": {
    "name": "ipython",
    "version": 3
   },
   "file_extension": ".py",
   "mimetype": "text/x-python",
   "name": "python",
   "nbconvert_exporter": "python",
   "pygments_lexer": "ipython3",
   "version": "3.6.3"
  }
 },
 "nbformat": 4,
 "nbformat_minor": 2
}
