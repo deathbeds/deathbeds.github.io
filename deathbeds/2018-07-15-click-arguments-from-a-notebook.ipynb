{
 "cells": [
  {
   "cell_type": "markdown",
   "metadata": {},
   "source": [
    "# Creating command line scripts from a notebook\n",
    "\n",
    "With the `importnb` extension installed by default IPython can run notebooks as modules.  The notebook can be a great interactive interface for develiping applications."
   ]
  },
  {
   "cell_type": "markdown",
   "metadata": {},
   "source": [
    "## [Click](http://click.pocoo.org) command line library"
   ]
  },
  {
   "cell_type": "code",
   "execution_count": 1,
   "metadata": {},
   "outputs": [],
   "source": [
    "    import click"
   ]
  },
  {
   "cell_type": "markdown",
   "metadata": {},
   "source": [
    "## [A simple example](http://click.pocoo.org/5/commands/)"
   ]
  },
  {
   "cell_type": "code",
   "execution_count": 2,
   "metadata": {},
   "outputs": [],
   "source": [
    "    @click.group()\n",
    "    @click.option('--debug/--no-debug', default=False)\n",
    "    def cli(debug):\n",
    "        click.echo('Debug mode is %s' % ('on' if debug else 'off'))\n",
    "\n",
    "    @cli.command()\n",
    "    def sync():\n",
    "        click.echo('Synching')"
   ]
  },
  {
   "cell_type": "markdown",
   "metadata": {},
   "source": [
    "## Running the application\n",
    "\n",
    "The command line application will be run in the __main__ context and it will have a __file__ attribute.  Otherwise, we test the function on the command line.  We must use IPython and know that our `importnb` loaders and included."
   ]
  },
  {
   "cell_type": "code",
   "execution_count": null,
   "metadata": {},
   "outputs": [],
   "source": [
    "    if globals().get('__file__', None) and __name__ == '__main__': \n",
    "        cli()\n",
    "    else:\n",
    "        from IPython import get_ipython\n",
    "        !ipython -m 2018-07-15-click-arguments-from-a-notebook -- --debug sync "
   ]
  },
  {
   "cell_type": "code",
   "execution_count": null,
   "metadata": {},
   "outputs": [],
   "source": []
  }
 ],
 "metadata": {
  "kernelspec": {
   "display_name": "Python 3",
   "language": "python",
   "name": "python3"
  },
  "language_info": {
   "codemirror_mode": {
    "name": "ipython",
    "version": 3
   },
   "file_extension": ".py",
   "mimetype": "text/x-python",
   "name": "python",
   "nbconvert_exporter": "python",
   "pygments_lexer": "ipython3",
   "version": "3.6.5"
  }
 },
 "nbformat": 4,
 "nbformat_minor": 2
}
