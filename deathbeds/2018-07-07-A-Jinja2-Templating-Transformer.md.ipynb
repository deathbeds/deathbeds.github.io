{
 "cells": [
  {
   "cell_type": "markdown",
   "metadata": {},
   "source": [
    "# Templating input cells with [`jinja2`](http://jinja.pocoo.org/docs/2.10/)\n",
    "\n",
    "This notebook demonstrates and exports the ability to place real into code cells before executing code. This idea can create parameterized reports.\n",
    "\n",
    "    %reload_ext deathbeds.__Jinja2__"
   ]
  },
  {
   "cell_type": "code",
   "execution_count": 1,
   "metadata": {},
   "outputs": [],
   "source": [
    "    from deathbeds.__Markdown__ import CallableTransformer, MarkdownImporter\n",
    "    from jinja2 import Template\n",
    "    from importnb import Notebook"
   ]
  },
  {
   "cell_type": "markdown",
   "metadata": {},
   "source": [
    "* Use the callable transformer from the previous [Markdown input transformer](2018-07-06-Markdown-code-cells.ipynb)\n"
   ]
  },
  {
   "cell_type": "code",
   "execution_count": 2,
   "metadata": {},
   "outputs": [],
   "source": [
    "    class TemplateTransformer(CallableTransformer):\n",
    "        def __call__(self, str):\n",
    "            from IPython import get_ipython\n",
    "            return Template(str).render(**get_ipython().user_ns)"
   ]
  },
  {
   "cell_type": "markdown",
   "metadata": {},
   "source": [
    "* Export the Ipython extension function."
   ]
  },
  {
   "cell_type": "code",
   "execution_count": 3,
   "metadata": {},
   "outputs": [],
   "source": [
    "    def load_ipython_extension(ip):\n",
    "        ip.input_transformer_manager.physical_line_transforms.insert(0, TemplateTransformer())"
   ]
  },
  {
   "cell_type": "markdown",
   "metadata": {},
   "source": [
    "## Importer"
   ]
  },
  {
   "cell_type": "code",
   "execution_count": 4,
   "metadata": {},
   "outputs": [],
   "source": [
    "    import json"
   ]
  },
  {
   "cell_type": "code",
   "execution_count": 11,
   "metadata": {},
   "outputs": [],
   "source": [
    "    class Jinja2Importer(Notebook):\n",
    "        extensions = '.tpl.ipynb',\n",
    "        def exec_module(self, module):\n",
    "            with open(module.__file__) as file:\n",
    "                for id, cell in enumerate(json.load(file)['cells']):\n",
    "                    if cell['cell_type'] == 'code':\n",
    "                        code = self.source_to_code(\n",
    "                            self.format(Template(''.join(cell['source'])).render(**vars(module))),\n",
    "                            module.__file__\n",
    "                        )\n",
    "                        exec(code, module.__dict__, module.__dict__)\n",
    "                \n",
    "            \n",
    "            \n",
    "        def parse_code_cell(self, cell, module=None): \n",
    "            cell['source'] = Template(''.join(cell['source'])).render(**vars(module))\n",
    "            return super().parse_code_cell(cell)"
   ]
  },
  {
   "cell_type": "markdown",
   "metadata": {},
   "source": [
    "### Proof of concept\n",
    "\n",
    "* In the proof of concept it should be possible to combine the [Markdown transform](2018-07-06-Markdown-code-cells.ipynb) with the new template transformer."
   ]
  },
  {
   "cell_type": "code",
   "execution_count": 5,
   "metadata": {},
   "outputs": [],
   "source": [
    "    Ø = __name__ == '__main__'\n",
    "    if Ø:\n",
    "        %reload_ext deathbeds.__Markdown__\n",
    "        load_ipython_extension(get_ipython())"
   ]
  },
  {
   "cell_type": "markdown",
   "metadata": {},
   "source": [
    "* We can use this opportunity to test our Markdown importer too!"
   ]
  },
  {
   "cell_type": "code",
   "execution_count": 6,
   "metadata": {},
   "outputs": [
    {
     "data": {
      "text/markdown": [
       "    if Ø:\n",
       "        with MarkdownImporter():\n",
       "            import deathbeds.__Jinja2__\n",
       "            %reload_ext deathbeds.__Jinja2__\n",
       "            \n",
       "        assert deathbeds.__Jinja2__.__file__.endswith('.md.ipynb'), \"Who the fuck knows where this file came from\"\n"
      ],
      "text/plain": [
       "<IPython.core.display.Markdown object>"
      ]
     },
     "metadata": {},
     "output_type": "display_data"
    }
   ],
   "source": [
    "    if Ø:\n",
    "        with MarkdownImporter():\n",
    "            import deathbeds.__Jinja2__\n",
    "            %reload_ext deathbeds.__Jinja2__\n",
    "            \n",
    "        assert deathbeds.__Jinja2__.__file__.endswith('.md.ipynb'), \"Who the fuck knows where this file came from\""
   ]
  },
  {
   "cell_type": "markdown",
   "metadata": {},
   "source": [
    "# Markdown and templates can now mix\n",
    "\n",
    "    a = 10"
   ]
  },
  {
   "cell_type": "markdown",
   "metadata": {},
   "source": [
    "> This is a template value of `a` which is {{a}}"
   ]
  },
  {
   "cell_type": "markdown",
   "metadata": {},
   "source": [
    "    if Ø: from . import disqus"
   ]
  }
 ],
 "metadata": {
  "kernelspec": {
   "display_name": "Python 3",
   "language": "python",
   "name": "python3"
  },
  "language_info": {
   "codemirror_mode": {
    "name": "ipython",
    "version": 3
   },
   "file_extension": ".py",
   "mimetype": "text/x-python",
   "name": "python",
   "nbconvert_exporter": "python",
   "pygments_lexer": "ipython3",
   "version": "3.6.5"
  }
 },
 "nbformat": 4,
 "nbformat_minor": 2
}
