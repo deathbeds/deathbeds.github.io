{
 "cells": [
  {
   "cell_type": "markdown",
   "metadata": {},
   "source": [
    "# Templating input cells with [`jinja2`](http://jinja.pocoo.org/docs/2.10/)\n",
    "\n",
    "This notebook demonstrates and exports the ability to place real into code cells before executing code. This idea can create parameterized reports.\n",
    "\n",
    "    %reload_ext deathbeds.__Jinja2__"
   ]
  },
  {
   "cell_type": "code",
   "execution_count": 1,
   "metadata": {},
   "outputs": [],
   "source": [
    "    from deathbeds.__Markdown__ import CallableTransformer, MarkdownImporter\n",
    "    from jinja2 import Template\n",
    "    from importnb import Interactive"
   ]
  },
  {
   "cell_type": "markdown",
   "metadata": {},
   "source": [
    "* Use the callable transformer from the previous [Markdown input transformer](2018-07-06-Markdown-code-cells.ipynb)\n"
   ]
  },
  {
   "cell_type": "code",
   "execution_count": 2,
   "metadata": {},
   "outputs": [],
   "source": [
    "    class TemplateTransformer(CallableTransformer):\n",
    "        def __call__(self, str):\n",
    "            from IPython import get_ipython\n",
    "            return Template(str).render(**get_ipython().user_ns)"
   ]
  },
  {
   "cell_type": "markdown",
   "metadata": {},
   "source": [
    "* Export the Ipython extension function."
   ]
  },
  {
   "cell_type": "code",
   "execution_count": 3,
   "metadata": {},
   "outputs": [],
   "source": [
    "    def load_ipython_extension(ip):\n",
    "        ip.input_transformer_manager.physical_line_transforms.insert(0, TemplateTransformer())"
   ]
  },
  {
   "cell_type": "markdown",
   "metadata": {},
   "source": [
    "## Importer"
   ]
  },
  {
   "cell_type": "code",
   "execution_count": 4,
   "metadata": {},
   "outputs": [],
   "source": [
    "    class Jinja2Importer(Interactive):\n",
    "        extensions = '.tpl.ipynb',\n",
    "        def parse_code_cell(self, cell, module=None): \n",
    "            cell['source'] = Template(''.join(cell['source'])).render(**vars(module))\n",
    "            return super().parse_code_cell(cell)"
   ]
  },
  {
   "cell_type": "markdown",
   "metadata": {},
   "source": [
    "### Proof of concept\n",
    "\n",
    "* In the proof of concept it should be possible to combine the [Markdown transform](2018-07-06-Markdown-code-cells.ipynb) with the new template transformer."
   ]
  },
  {
   "cell_type": "code",
   "execution_count": 5,
   "metadata": {},
   "outputs": [],
   "source": [
    "    Ø = __name__ == '__main__'\n",
    "    if Ø:\n",
    "        %reload_ext deathbeds.__Markdown__\n",
    "        load_ipython_extension(get_ipython())"
   ]
  },
  {
   "cell_type": "markdown",
   "metadata": {},
   "source": [
    "* We can use this opportunity to test our Markdown importer too!"
   ]
  },
  {
   "cell_type": "code",
   "execution_count": 6,
   "metadata": {},
   "outputs": [
    {
     "data": {
      "text/markdown": [
       "    if Ø:\n",
       "        with MarkdownImporter():\n",
       "            import deathbeds.__Jinja2__\n",
       "            %reload_ext deathbeds.__Jinja2__\n",
       "            \n",
       "        assert deathbeds.__Jinja2__.__file__.endswith('.md.ipynb'), \"Who the fuck knows where this file came from\"\n"
      ],
      "text/plain": [
       "<IPython.core.display.Markdown object>"
      ]
     },
     "metadata": {},
     "output_type": "display_data"
    }
   ],
   "source": [
    "    if Ø:\n",
    "        with MarkdownImporter():\n",
    "            import deathbeds.__Jinja2__\n",
    "            %reload_ext deathbeds.__Jinja2__\n",
    "            \n",
    "        assert deathbeds.__Jinja2__.__file__.endswith('.md.ipynb'), \"Who the fuck knows where this file came from\""
   ]
  },
  {
   "cell_type": "code",
   "execution_count": 7,
   "metadata": {},
   "outputs": [
    {
     "data": {
      "text/markdown": [
       "# Markdown and templates can now mix\n",
       "\n",
       "    a = 10\n"
      ],
      "text/plain": [
       "<IPython.core.display.Markdown object>"
      ]
     },
     "metadata": {},
     "output_type": "display_data"
    }
   ],
   "source": [
    "# Markdown and templates can now mix\n",
    "\n",
    "    a = 10"
   ]
  },
  {
   "cell_type": "code",
   "execution_count": 8,
   "metadata": {},
   "outputs": [
    {
     "data": {
      "text/markdown": [
       "> This is a template value of `a` which is 10\n"
      ],
      "text/plain": [
       "<IPython.core.display.Markdown object>"
      ]
     },
     "metadata": {},
     "output_type": "display_data"
    }
   ],
   "source": [
    "> This is a template value of `a` which is {{a}}"
   ]
  },
  {
   "cell_type": "code",
   "execution_count": 9,
   "metadata": {},
   "outputs": [
    {
     "data": {
      "text/markdown": [
       "    if Ø: import disqus\n"
      ],
      "text/plain": [
       "<IPython.core.display.Markdown object>"
      ]
     },
     "metadata": {},
     "output_type": "display_data"
    },
    {
     "data": {
      "text/html": [
       "<div id=\"disqus_thread\"></div>\n",
       "<script type=\"text/javascript\">\n",
       "    /* * * CONFIGURATION VARIABLES * * */\n",
       "    // Required: on line below, replace text in quotes with your forum shortname\n",
       "    var disqus_shortname = 'tonyfast';\n",
       "\n",
       "    /* * * DON'T EDIT BELOW THIS LINE * * */\n",
       "    (function() {\n",
       "        var dsq = document.createElement('script'); dsq.type = 'text/javascript'; dsq.async = true;\n",
       "        dsq.src = '//' + disqus_shortname + '.disqus.com/embed.js';\n",
       "        (document.getElementsByTagName('head')[0] || document.getElementsByTagName('body')[0]).appendChild(dsq);\n",
       "    })();\n",
       "</script>\n",
       "<noscript>Please enable JavaScript to view the <a href=\"https://disqus.com/?ref_noscript\" rel=\"nofollow\">comments powered by Disqus.</a></noscript>"
      ],
      "text/plain": [
       "<IPython.core.display.HTML object>"
      ]
     },
     "metadata": {},
     "output_type": "display_data"
    }
   ],
   "source": [
    "    if Ø: import disqus"
   ]
  }
 ],
 "metadata": {
  "kernelspec": {
   "display_name": "Python 3",
   "language": "python",
   "name": "python3"
  },
  "language_info": {
   "codemirror_mode": {
    "name": "ipython",
    "version": 3
   },
   "file_extension": ".py",
   "mimetype": "text/x-python",
   "name": "python",
   "nbconvert_exporter": "python",
   "pygments_lexer": "ipython3",
   "version": "3.6.5"
  }
 },
 "nbformat": 4,
 "nbformat_minor": 2
}
