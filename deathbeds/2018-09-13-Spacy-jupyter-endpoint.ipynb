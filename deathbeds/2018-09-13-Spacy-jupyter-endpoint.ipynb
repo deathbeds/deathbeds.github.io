{
 "cells": [
  {
   "cell_type": "markdown",
   "metadata": {},
   "source": [
    "# A custom spelling prediction endpoint\n",
    "\n"
   ]
  },
  {
   "cell_type": "markdown",
   "metadata": {},
   "source": [
    "[Peter Parente](https://github.com/parente) has a great post on creating [IPython notebook & server extensions.](https://mindtrove.info/4-ways-to-extend-jupyter-notebook/#nb-server-exts)  The documentation on [Custom Request Handlers](https://jupyter-notebook.readthedocs.io/en/stable/extending/handlers.html) is another important reference. We will use this post\n",
    "as a foundation for creating the `spacy` endpoint."
   ]
  },
  {
   "cell_type": "markdown",
   "metadata": {},
   "source": [
    "## Configuring the endpoint"
   ]
  },
  {
   "cell_type": "markdown",
   "metadata": {},
   "source": [
    "Our extensions module will be __deathbeds.spacy_endpoint__.  The configuration has change from `c.NotebookApp.server_extensions`"
   ]
  },
  {
   "cell_type": "code",
   "execution_count": 3,
   "metadata": {},
   "outputs": [
    {
     "name": "stdout",
     "output_type": "stream",
     "text": [
      "Overwriting C:/Users/deathbeds/.jupyter/jupyter_notebook_config.py\n"
     ]
    }
   ],
   "source": [
    "    %%file C:/Users/deathbeds/.jupyter/jupyter_notebook_config.py\n",
    "    c.NotebookApp.server_extensions = [\n",
    "        'deathbeds.spacy_endpoint'\n",
    "    ]"
   ]
  },
  {
   "cell_type": "markdown",
   "metadata": {},
   "source": [
    "to `c.NotebookApp.nbserver_extensions` which is a dictionary indicating whether an extension is enabled."
   ]
  },
  {
   "cell_type": "code",
   "execution_count": 4,
   "metadata": {},
   "outputs": [
    {
     "name": "stdout",
     "output_type": "stream",
     "text": [
      "Overwriting C:/Users/deathbeds/.jupyter/jupyter_notebook_config.py\n"
     ]
    }
   ],
   "source": [
    "    %%file C:/Users/deathbeds/.jupyter/jupyter_notebook_config.py\n",
    "    c.NotebookApp.nbserver_extensions = {\n",
    "        'deathbeds.spacy_endpoint': True\n",
    "    }"
   ]
  },
  {
   "cell_type": "markdown",
   "metadata": {},
   "source": [
    "## The completer\n",
    "\n",
    "We have __2__ completer examples to work off of: [Completer for indented code](http://nbviewer.jupyter.org/github/deathbeds/deathbeds.github.io/blob/master/deathbeds/2018-07-03-Custom-IPython-Completer-for-Indented-Code.ipynb) & [Word completion with spacy](http://nbviewer.jupyter.org/github/deathbeds/deathbeds.github.io/blob/master/deathbeds/2018-09-04-Word-Completer.ipynb).  We have already tackled parts of the problem at hand, but a shortcoming of the past approach was the time taken to load the corpus.  An extension will require the corpus loaded just once. "
   ]
  },
  {
   "cell_type": "code",
   "execution_count": 5,
   "metadata": {},
   "outputs": [],
   "source": [
    "    import requests, ast"
   ]
  },
  {
   "cell_type": "code",
   "execution_count": 6,
   "metadata": {},
   "outputs": [],
   "source": [
    "    def event(self, event):\n",
    "        return ast.literal_eval(requests.get('http://localhost:8888/spacy', params={\n",
    "            'complete': event.symbol\n",
    "        }).text)\n"
   ]
  },
  {
   "cell_type": "code",
   "execution_count": 7,
   "metadata": {},
   "outputs": [],
   "source": [
    "    def load_ipython_extension(ip):\n",
    "        ip.set_hook('complete_command', event, re_key=\".*\")\n",
    "        \n",
    "    if __name__ == '__main__': load_ipython_extension(get_ipython())"
   ]
  },
  {
   "cell_type": "markdown",
   "metadata": {},
   "source": [
    "## Building the endpoint\n",
    "\n",
    "### Rely on the `spacy.vocab` for the words to complete."
   ]
  },
  {
   "cell_type": "code",
   "execution_count": 8,
   "metadata": {},
   "outputs": [
    {
     "name": "stdout",
     "output_type": "stream",
     "text": [
      "Overwriting spacy_endpoint.py\n"
     ]
    }
   ],
   "source": [
    "    %%file spacy_endpoint.py\n",
    "    from notebook.utils import url_path_join\n",
    "    from notebook.base.handlers import IPythonHandler\n",
    "    import spacy\n",
    "\n",
    "    en = spacy.load('en')\n",
    "    words = list(x.text for x in en.vocab)\n",
    "    del en\n",
    "    del spacy"
   ]
  },
  {
   "cell_type": "markdown",
   "metadata": {},
   "source": [
    "## The endpoint"
   ]
  },
  {
   "cell_type": "markdown",
   "metadata": {},
   "source": [
    "* [Consuming `tornado` query parameters.](https://stackoverflow.com/questions/10726486/tornado-url-query-parameters)"
   ]
  },
  {
   "cell_type": "code",
   "execution_count": 7,
   "metadata": {},
   "outputs": [
    {
     "name": "stdout",
     "output_type": "stream",
     "text": [
      "Appending to spacy_endpoint.py\n"
     ]
    }
   ],
   "source": [
    "    %%file spacy_endpoint.py -a\n",
    "    \n",
    "    class CompleteHandler(IPythonHandler):\n",
    "        def get(self): self.finish(str(list(x for x in words if x.startswith(\n",
    "            self.request.arguments['complete'][0].decode('utf-8')))))\n",
    "    "
   ]
  },
  {
   "cell_type": "markdown",
   "metadata": {},
   "source": [
    "## The extension"
   ]
  },
  {
   "cell_type": "markdown",
   "metadata": {},
   "source": [
    "The `load_jupyter_server_extension` is required to make sure the Jupyter and IPython mount the extension."
   ]
  },
  {
   "cell_type": "code",
   "execution_count": 9,
   "metadata": {},
   "outputs": [
    {
     "name": "stdout",
     "output_type": "stream",
     "text": [
      "Appending to spacy_endpoint.py\n"
     ]
    }
   ],
   "source": [
    "    %%file spacy_endpoint.py -a\n",
    "    \n",
    "    def load_jupyter_server_extension(nb_app):\n",
    "        web_app = nb_app.web_app\n",
    "        host_pattern = '.*$'\n",
    "        route_pattern = url_path_join(web_app.settings['base_url'], '/spacy')\n",
    "        web_app.add_handlers(host_pattern, [(route_pattern, CompleteHandler)])"
   ]
  },
  {
   "cell_type": "markdown",
   "metadata": {},
   "source": [
    "## Outcome\n",
    "\n",
    "The next time `jupyter` is run an endpoint for `spacy` with exist."
   ]
  },
  {
   "cell_type": "code",
   "execution_count": null,
   "metadata": {},
   "outputs": [],
   "source": []
  }
 ],
 "metadata": {
  "kernelspec": {
   "display_name": "Python 3",
   "language": "python",
   "name": "python3"
  },
  "language_info": {
   "codemirror_mode": {
    "name": "ipython",
    "version": 3
   },
   "file_extension": ".py",
   "mimetype": "text/x-python",
   "name": "python",
   "nbconvert_exporter": "python",
   "pygments_lexer": "ipython3",
   "version": "3.6.6"
  }
 },
 "nbformat": 4,
 "nbformat_minor": 2
}
