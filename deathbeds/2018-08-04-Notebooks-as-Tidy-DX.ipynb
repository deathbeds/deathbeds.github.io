{
 "cells": [
  {
   "cell_type": "markdown",
   "metadata": {},
   "source": [
    "\n",
    "\n",
    "\n",
    "\n",
    "\n",
    "\n",
    "\n",
    "\n",
    "\n",
    "# Notebooks as Tidy ~~Developer~~ Data Experience\n",
    "The Python object protocol, extended by the jedi and IPython completer features, provide a rich API for interactive computing, with standout perfomances by `pandas.DataFrame`s.\n",
    "\n",
    "Turning this capability on its head, we can use tidy data sources to extend our environment. Let's use some `nbformat` JSON as our dataset, and expose it in the completer.\n",
    "\n",
    "![](https://user-images.githubusercontent.com/4236275/43682085-7db479dc-9836-11e8-90f4-df1ce542bbb0.PNG)"
   ]
  },
  {
   "cell_type": "code",
   "execution_count": 17,
   "metadata": {},
   "outputs": [],
   "source": [
    "    __all__ = 'widget', 'load_ipython_extension'\n",
    "\n",
    "    import deathbeds\n",
    "    import pandas as pd\n",
    "    from pathlib import Path"
   ]
  },
  {
   "cell_type": "markdown",
   "metadata": {},
   "source": [
    "Since the notebook is the json format we can use `pandas.read_json` method."
   ]
  },
  {
   "cell_type": "code",
   "execution_count": 18,
   "metadata": {},
   "outputs": [],
   "source": [
    "    df = pd.concat({\n",
    "        path: pd.read_json(path, typ='Series')\n",
    "        for path in Path(deathbeds.__file__).parent.glob(\n",
    "            '[0-9]*-*.ipynb')}).unstack(-1)"
   ]
  },
  {
   "cell_type": "markdown",
   "metadata": {},
   "source": [
    "In this example, we trust that the notebooks are valid `nbformat.v4` schemas."
   ]
  },
  {
   "cell_type": "code",
   "execution_count": 19,
   "metadata": {},
   "outputs": [],
   "source": [
    "    def test_nbformat():\n",
    "        from nbformat import read\n",
    "        g = df.index.to_series().apply(str).apply(\n",
    "            read, as_version=4).apply(pd.Series)"
   ]
  },
  {
   "cell_type": "markdown",
   "metadata": {},
   "source": [
    "    if __name__ == '__main__':\n",
    "        !ipython -m pytest -- -p no:pytest-importnb Untitled11.ipynb"
   ]
  },
  {
   "cell_type": "code",
   "execution_count": 20,
   "metadata": {},
   "outputs": [],
   "source": [
    "    cells = (df.cells.apply(pd.Series).stack()\n",
    "             .apply(pd.Series).set_index('cell_type', append=True))"
   ]
  },
  {
   "cell_type": "code",
   "execution_count": 21,
   "metadata": {},
   "outputs": [],
   "source": [
    "    source, output =  (cells[object].apply(pd.Series).stack() for object in ('source', 'outputs'))"
   ]
  },
  {
   "cell_type": "code",
   "execution_count": 22,
   "metadata": {},
   "outputs": [],
   "source": [
    "     def predict(str): return source[\n",
    "         source.str.lstrip().str.startswith(str.strip())].str.strip().drop_duplicates().tolist()"
   ]
  },
  {
   "cell_type": "code",
   "execution_count": 23,
   "metadata": {},
   "outputs": [],
   "source": [
    "     def event(self, event): return predict(event.line)"
   ]
  },
  {
   "cell_type": "code",
   "execution_count": 26,
   "metadata": {},
   "outputs": [],
   "source": [
    "    def load_ipython_extension(ip): ip.set_hook('complete_command', event, re_key=\".*\")\n",
    "    def unload_ipython_extension(ip): ..."
   ]
  },
  {
   "cell_type": "code",
   "execution_count": 29,
   "metadata": {},
   "outputs": [],
   "source": [
    "    from pytest import fixture\n",
    "    @fixture\n",
    "    def ip(): ip = __import__('IPython').get_ipython(); load_ipython_extension(ip); yield ip; unload_ipython_extension(ip)"
   ]
  },
  {
   "cell_type": "markdown",
   "metadata": {},
   "source": [
    "For some reason we haven't used our style in any posts.  By adding them to this post we can now using a little bit of the IPython completion to predict our prior code. Or MarkDown. Or tests.\n",
    "\n",
    "    import __style__"
   ]
  },
  {
   "cell_type": "markdown",
   "metadata": {},
   "source": [
    "* Another invocation of this idea would be a widget."
   ]
  },
  {
   "cell_type": "code",
   "execution_count": 30,
   "metadata": {},
   "outputs": [],
   "source": [
    "    def widget():\n",
    "        import ipywidgets, traitlets, IPython\n",
    "        finder = ipywidgets.VBox([ipywidgets.Text(description='Search'), ipywidgets.SelectMultiple()])\n",
    "        traitlets.dlink((finder.children[0], \"value\"), (finder.children[1], \"options\"), \n",
    "                        lambda x: [(object, object) for object in predict(x)])\n",
    "        IPython.display.display(finder)\n",
    "    _widget = lambda ip: widget"
   ]
  },
  {
   "cell_type": "code",
   "execution_count": null,
   "metadata": {},
   "outputs": [],
   "source": []
  }
 ],
 "metadata": {
  "kernelspec": {
   "display_name": "Python 3",
   "language": "python",
   "name": "python3"
  },
  "language_info": {
   "codemirror_mode": {
    "name": "ipython",
    "version": 3
   },
   "file_extension": ".py",
   "mimetype": "text/x-python",
   "name": "python",
   "nbconvert_exporter": "python",
   "pygments_lexer": "ipython3",
   "version": "3.6.5"
  }
 },
 "nbformat": 4,
 "nbformat_minor": 2
}
