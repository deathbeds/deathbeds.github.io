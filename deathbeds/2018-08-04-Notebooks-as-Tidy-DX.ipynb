{
 "cells": [
  {
   "cell_type": "markdown",
   "metadata": {},
   "source": [
    "\n",
    "\n",
    "\n",
    "\n",
    "\n",
    "\n",
    "\n",
    "\n",
    "\n",
    "# Notebooks as Tidy ~~Developer~~ Data Experience\n",
    "The Python object protocol, extended by the jedi and IPython completer features, provide a rich API for interactive computing, with standout perfomances by `pandas.DataFrame`s.\n",
    "\n",
    "Turning this capability on its head, we can use tidy data sources to extend our environment. Let's use some `nbformat` JSON as our dataset, and expose it in the completer.\n",
    "\n",
    "![](https://user-images.githubusercontent.com/4236275/43682085-7db479dc-9836-11e8-90f4-df1ce542bbb0.PNG)"
   ]
  },
  {
   "cell_type": "code",
   "execution_count": 1,
   "metadata": {},
   "outputs": [],
   "source": [
    "    import deathbeds\n",
    "    import pandas as pd\n",
    "    from pathlib import Path"
   ]
  },
  {
   "cell_type": "markdown",
   "metadata": {},
   "source": [
    "Since the notebook is the json format we can use `pandas.read_json` method."
   ]
  },
  {
   "cell_type": "code",
   "execution_count": 2,
   "metadata": {},
   "outputs": [],
   "source": [
    "    df = pd.concat({\n",
    "        path: pd.read_json(path, typ='Series')\n",
    "        for path in Path(deathbeds.__file__).parent.glob(\n",
    "            '[0-9]*-*.ipynb')}).unstack(-1)"
   ]
  },
  {
   "cell_type": "markdown",
   "metadata": {},
   "source": [
    "In this example, we trust that the notebooks are valid `nbformat.v4` schemas."
   ]
  },
  {
   "cell_type": "code",
   "execution_count": 3,
   "metadata": {},
   "outputs": [],
   "source": [
    "    def test_nbformat():\n",
    "        from nbformat import read\n",
    "        g = df.index.to_series().apply(str).apply(\n",
    "            read, as_version=4).apply(pd.Series)"
   ]
  },
  {
   "cell_type": "markdown",
   "metadata": {},
   "source": [
    "    if __name__ == '__main__':\n",
    "        !ipython -m pytest -- -p no:pytest-importnb Untitled11.ipynb"
   ]
  },
  {
   "cell_type": "code",
   "execution_count": 4,
   "metadata": {},
   "outputs": [],
   "source": [
    "    cells = (df.cells.apply(pd.Series).stack()\n",
    "             .apply(pd.Series).set_index('cell_type', append=True))"
   ]
  },
  {
   "cell_type": "code",
   "execution_count": 5,
   "metadata": {},
   "outputs": [],
   "source": [
    "    source, output =  (cells[object].apply(pd.Series).stack() for object in ('source', 'outputs'))"
   ]
  },
  {
   "cell_type": "code",
   "execution_count": 6,
   "metadata": {},
   "outputs": [],
   "source": [
    "     def predict(str): return source[\n",
    "         source.str.lstrip().str.startswith(str.strip())].str.strip().drop_duplicates().tolist()"
   ]
  },
  {
   "cell_type": "code",
   "execution_count": 7,
   "metadata": {},
   "outputs": [],
   "source": [
    "     def event(self, event): return predict(event.line)"
   ]
  },
  {
   "cell_type": "code",
   "execution_count": 8,
   "metadata": {},
   "outputs": [],
   "source": [
    "    def load_ipython_extension(ip):\n",
    "        ip.set_hook('complete_command', event, re_key=\".*\")\n",
    "        \n",
    "    ø = __name__ == '__main__'\n",
    "    if ø: load_ipython_extension(get_ipython())"
   ]
  },
  {
   "cell_type": "markdown",
   "metadata": {},
   "source": [
    "For some reason we haven't used our style in any posts.  By adding them to this post we can now using a little bit of the IPython completion to predict our prior code. Or MarkDown. Or tests."
   ]
  },
  {
   "cell_type": "code",
   "execution_count": 9,
   "metadata": {},
   "outputs": [
    {
     "data": {
      "text/plain": [
       "<module '__style__' from 'C:\\\\Users\\\\deathbeds\\\\deathbeds.github.io\\\\deathbeds\\\\__style__.ipynb'>"
      ]
     },
     "execution_count": 9,
     "metadata": {},
     "output_type": "execute_result"
    }
   ],
   "source": [
    "    import __style__\n",
    "    __import__('__style__')"
   ]
  },
  {
   "cell_type": "markdown",
   "metadata": {},
   "source": [
    "* Another invocation of this idea would be a widget."
   ]
  },
  {
   "cell_type": "code",
   "execution_count": 10,
   "metadata": {},
   "outputs": [
    {
     "data": {
      "application/vnd.jupyter.widget-view+json": {
       "model_id": "e6924a47d4354a3e857d58b21c49c9d3",
       "version_major": 2,
       "version_minor": 0
      },
      "text/plain": [
       "VBox(children=(Text(value=''), SelectMultiple(options=(('# Github statistics API', '# Github statistics API'),…"
      ]
     },
     "metadata": {},
     "output_type": "display_data"
    }
   ],
   "source": [
    "    if ø:\n",
    "        import ipywidgets, traitlets, IPython\n",
    "        finder = ipywidgets.VBox([ipywidgets.Text(), ipywidgets.SelectMultiple()])\n",
    "        traitlets.dlink((finder.children[0], \"value\"), (finder.children[1], \"options\"), \n",
    "                        lambda x: [(object, object) for object in predict(x)])\n",
    "\n",
    "        IPython.display.display(finder)"
   ]
  },
  {
   "cell_type": "code",
   "execution_count": null,
   "metadata": {},
   "outputs": [],
   "source": []
  },
  {
   "cell_type": "code",
   "execution_count": null,
   "metadata": {},
   "outputs": [],
   "source": []
  },
  {
   "cell_type": "code",
   "execution_count": null,
   "metadata": {},
   "outputs": [],
   "source": []
  }
 ],
 "metadata": {
  "kernelspec": {
   "display_name": "Python 3",
   "language": "python",
   "name": "python3"
  },
  "language_info": {
   "codemirror_mode": {
    "name": "ipython",
    "version": 3
   },
   "file_extension": ".py",
   "mimetype": "text/x-python",
   "name": "python",
   "nbconvert_exporter": "python",
   "pygments_lexer": "ipython3",
   "version": "3.6.5"
  }
 },
 "nbformat": 4,
 "nbformat_minor": 2
}
