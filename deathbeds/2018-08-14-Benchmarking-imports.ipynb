{
 "cells": [
  {
   "cell_type": "markdown",
   "metadata": {},
   "source": [
    "    !pip install stopit"
   ]
  },
  {
   "cell_type": "markdown",
   "metadata": {},
   "source": [
    "# Benchmark the reusability of literate coding documents."
   ]
  },
  {
   "cell_type": "code",
   "execution_count": 25,
   "metadata": {},
   "outputs": [],
   "source": [
    "    from collections import defaultdict\n",
    "    from importnb import Notebook\n",
    "    from pathlib import Path \n",
    "    from stopit import ThreadingTimeout\n",
    "    import os, sys\n",
    "    import pandas as pd, importlib\n",
    "    from IPython import get_ipython\n",
    "    from IPython.utils.capture import capture_output\n",
    "    from tqdm import tqdm_notebook as progress\n",
    "    from ricker import TqdmAudioTicker as progress\n",
    "    import pandas\n",
    "    from toolz.curried import *; from toolz.curried.operator import *; dunder=\"__%s__\"\n",
    "    from hypothesis import given, strategies"
   ]
  },
  {
   "cell_type": "code",
   "execution_count": 2,
   "metadata": {},
   "outputs": [],
   "source": [
    "    timeout = .1\n",
    "    projects = 'PythonDataScienceHandbook/notebooks/', 'ThinkDSP/code/'"
   ]
  },
  {
   "cell_type": "code",
   "execution_count": 26,
   "metadata": {},
   "outputs": [],
   "source": [
    "    def load_notebooks_from_a(project):\n",
    "        global timeout\n",
    "        current = os.getcwd()\n",
    "        name = Path(project).parent.name\n",
    "        !git clone --depth 1 $name \n",
    "        try:\n",
    "            notebooks = list(Path(project).glob('*.ipynb'))\n",
    "            bar = progress(notebooks)\n",
    "            for notebook in bar:\n",
    "                bar.set_description(notebook.name)\n",
    "                with ThreadingTimeout(timeout), capture_output() as captured:\n",
    "                    try: module = Notebook.load(notebook); module.__output__ = captured\n",
    "                    except BaseException as e: \n",
    "                        module = importlib.util.module_from_spec(importlib.machinery.ModuleSpec(Path(notebook).stem, str(notebook), origin=str(notebook)))\n",
    "                        with importlib._bootstrap._installed_safely(module): \n",
    "                            module.__file__ = str(notebook)\n",
    "                            module.__exception__ = e\n",
    "                os.chdir(current)\n",
    "        except KeyboardInterrupt:...\n",
    "        finally: os.chdir(current)\n",
    "\n",
    "    _load_notebooks_from_a = given(project=strategies.one_of(*map(strategies.just, projects)))(load_notebooks_from_a)"
   ]
  },
  {
   "cell_type": "code",
   "execution_count": 18,
   "metadata": {},
   "outputs": [
    {
     "name": "stderr",
     "output_type": "stream",
     "text": [
      "fatal: destination path 'PythonDataScienceHandbook' already exists and is not an empty directory.\n"
     ]
    },
    {
     "data": {
      "application/vnd.jupyter.widget-view+json": {
       "model_id": "78f60f20cc5a4571a5720202f159b862",
       "version_major": 2,
       "version_minor": 0
      },
      "text/plain": [
       "HBox(children=(IntProgress(value=0, max=68), HTML(value='')))"
      ]
     },
     "metadata": {},
     "output_type": "display_data"
    },
    {
     "name": "stdout",
     "output_type": "stream",
     "text": [
      "\n"
     ]
    },
    {
     "name": "stderr",
     "output_type": "stream",
     "text": [
      "fatal: destination path 'ThinkDSP' already exists and is not an empty directory.\n"
     ]
    },
    {
     "data": {
      "application/vnd.jupyter.widget-view+json": {
       "model_id": "17a21848bd774996b031e35c1eec0750",
       "version_major": 2,
       "version_minor": 0
      },
      "text/plain": [
       "HBox(children=(IntProgress(value=0, max=30), HTML(value='')))"
      ]
     },
     "metadata": {},
     "output_type": "display_data"
    },
    {
     "name": "stdout",
     "output_type": "stream",
     "text": [
      "\n"
     ]
    }
   ],
   "source": [
    "    __name__ == '__main__' and _load_notebooks_from_a()"
   ]
  },
  {
   "cell_type": "markdown",
   "metadata": {},
   "source": [
    "Turn the contents of existing projects into dataframes based on a project directories."
   ]
  },
  {
   "cell_type": "code",
   "execution_count": 27,
   "metadata": {},
   "outputs": [],
   "source": [
    "    def project_frames(*projects):\n",
    "        s = pd.Series(sys.modules)\n",
    "        all_the_files = sum((list(Path(object).rglob('*.ipynb')) for object in projects), [])\n",
    "        return s[s.apply(\n",
    "            lambda x: Path(getattr(x, '__file__', '') or '') in all_the_files\n",
    "        ).dropna()].apply(compose(pd.Series, vars))"
   ]
  },
  {
   "cell_type": "code",
   "execution_count": 28,
   "metadata": {},
   "outputs": [],
   "source": [
    "    def _extract_dataframes_from_sys_modules():\n",
    "        assert len(project_frames(*projects))"
   ]
  },
  {
   "cell_type": "code",
   "execution_count": null,
   "metadata": {},
   "outputs": [],
   "source": []
  }
 ],
 "metadata": {
  "kernelspec": {
   "display_name": "Python 3",
   "language": "python",
   "name": "python3"
  },
  "language_info": {
   "codemirror_mode": {
    "name": "ipython",
    "version": 3
   },
   "file_extension": ".py",
   "mimetype": "text/x-python",
   "name": "python",
   "nbconvert_exporter": "python",
   "pygments_lexer": "ipython3",
   "version": "3.6.5"
  }
 },
 "nbformat": 4,
 "nbformat_minor": 2
}
