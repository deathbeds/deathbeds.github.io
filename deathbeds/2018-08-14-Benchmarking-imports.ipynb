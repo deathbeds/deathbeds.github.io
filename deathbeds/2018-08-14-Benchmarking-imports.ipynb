{
 "cells": [
  {
   "cell_type": "markdown",
   "metadata": {},
   "source": [
    "    !pip install stopit"
   ]
  },
  {
   "cell_type": "markdown",
   "metadata": {},
   "source": [
    "# Benchmark the reusability of literate coding documents."
   ]
  },
  {
   "cell_type": "code",
   "execution_count": 1,
   "metadata": {},
   "outputs": [
    {
     "data": {
      "text/html": [
       "<span><style>audio{display:none}</style><span>"
      ],
      "text/plain": [
       "<IPython.core.display.HTML object>"
      ]
     },
     "metadata": {},
     "output_type": "display_data"
    },
    {
     "data": {
      "text/html": [
       "\n",
       "                <audio controls=\"controls\" autoplay=\"autoplay\">\n",
       "                    <source src=\"data:audio/wav;base64,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\" type=\"audio/wav\" />\n",
       "                    Your browser does not support the audio element.\n",
       "                </audio>\n",
       "              "
      ],
      "text/plain": [
       "<IPython.lib.display.Audio object>"
      ]
     },
     "metadata": {},
     "output_type": "display_data"
    },
    {
     "data": {
      "text/html": [
       "\n",
       "                <audio controls=\"controls\" autoplay=\"autoplay\">\n",
       "                    <source src=\"data:audio/wav;base64,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\" type=\"audio/wav\" />\n",
       "                    Your browser does not support the audio element.\n",
       "                </audio>\n",
       "              "
      ],
      "text/plain": [
       "<IPython.lib.display.Audio object>"
      ]
     },
     "metadata": {},
     "output_type": "display_data"
    }
   ],
   "source": [
    "    from collections import defaultdict\n",
    "    from importnb import Notebook\n",
    "    from pathlib import Path \n",
    "    from stopit import ThreadingTimeout\n",
    "    import os, sys\n",
    "    import pandas as pd, importlib\n",
    "    from IPython import get_ipython\n",
    "    from IPython.utils.capture import capture_output\n",
    "    from tqdm import tqdm_notebook as progress\n",
    "    from ricker import TqdmAudioTicker as progress\n",
    "    import pandas\n",
    "    from toolz.curried import *; from toolz.curried.operator import *; dunder=\"__%s__\"\n",
    "    from hypothesis import given, strategies"
   ]
  },
  {
   "cell_type": "code",
   "execution_count": 2,
   "metadata": {},
   "outputs": [],
   "source": [
    "    projects = (\"https://github.com/jakevdp/PythonDataScienceHandbook\", 'notebooks'), (\"https://github.com/AllenDowney/ThinkDSP\", 'code')"
   ]
  },
  {
   "cell_type": "code",
   "execution_count": 3,
   "metadata": {},
   "outputs": [],
   "source": [
    "    timeout = os.environ.get('CI', False) and 4 or .1"
   ]
  },
  {
   "cell_type": "code",
   "execution_count": 4,
   "metadata": {},
   "outputs": [],
   "source": [
    "    def project_info(project): return project[0], os.sep.join((project[0].rsplit('/', 1)[1], project[1]))"
   ]
  },
  {
   "cell_type": "code",
   "execution_count": 5,
   "metadata": {},
   "outputs": [],
   "source": [
    "    def load_notebooks_from_a(project):\n",
    "        repo, project = project_info(project)\n",
    "        global timeout\n",
    "        current = os.getcwd()\n",
    "        if not Path\n",
    "        !git clone --depth 1 $repo\n",
    "        name = Path(project).parent.name\n",
    "        try:\n",
    "            notebooks = list(Path(project).glob('*.ipynb'))\n",
    "            bar = progress(notebooks)\n",
    "            for notebook in bar:\n",
    "                bar.set_description(notebook.name)\n",
    "                with ThreadingTimeout(timeout), capture_output() as captured:\n",
    "                    try: module = Notebook.load(notebook); module.__output__ = captured\n",
    "                    except BaseException as e: \n",
    "                        module = importlib.util.module_from_spec(importlib.machinery.ModuleSpec(Path(notebook).stem, str(notebook), origin=str(notebook)))\n",
    "                        with importlib._bootstrap._installed_safely(module): \n",
    "                            module.__file__ = str(notebook)\n",
    "                            module.__exception__ = e\n",
    "                os.chdir(current)\n",
    "        except KeyboardInterrupt:...\n",
    "        finally: os.chdir(current)\n",
    "\n",
    "    _load_notebooks_from_a = given(project=strategies.one_of(*map(strategies.just, projects)))(load_notebooks_from_a)"
   ]
  },
  {
   "cell_type": "code",
   "execution_count": 6,
   "metadata": {},
   "outputs": [
    {
     "name": "stderr",
     "output_type": "stream",
     "text": [
      "fatal: destination path 'PythonDataScienceHandbook' already exists and is not an empty directory.\n"
     ]
    },
    {
     "data": {
      "application/vnd.jupyter.widget-view+json": {
       "model_id": "9f99319b5def4d679e07832d0672a082",
       "version_major": 2,
       "version_minor": 0
      },
      "text/plain": [
       "HBox(children=(IntProgress(value=0, max=68), HTML(value='')))"
      ]
     },
     "metadata": {},
     "output_type": "display_data"
    },
    {
     "name": "stdout",
     "output_type": "stream",
     "text": [
      "\n"
     ]
    },
    {
     "name": "stderr",
     "output_type": "stream",
     "text": [
      "hypothesis_temporary_module_608bfba9cbbbde8998bde8bccbfb1c8112e27cee:2: HypothesisDeprecationWarning: Test took 10360.00ms to run. In future the default deadline setting will be 200ms, which will make this an error. You can set deadline to an explicit value of e.g. 10400 to turn tests slower than this into an error, or you can set it to None to disable this check entirely.\n",
      "fatal: destination path 'ThinkDSP' already exists and is not an empty directory.\n"
     ]
    },
    {
     "data": {
      "application/vnd.jupyter.widget-view+json": {
       "model_id": "13903e1592f44bc0b608f6b655338e0e",
       "version_major": 2,
       "version_minor": 0
      },
      "text/plain": [
       "HBox(children=(IntProgress(value=0, max=30), HTML(value='')))"
      ]
     },
     "metadata": {},
     "output_type": "display_data"
    },
    {
     "name": "stdout",
     "output_type": "stream",
     "text": [
      "\n"
     ]
    }
   ],
   "source": [
    "    __name__ == '__main__' and _load_notebooks_from_a()"
   ]
  },
  {
   "cell_type": "markdown",
   "metadata": {},
   "source": [
    "Turn the contents of existing projects into dataframes based on a project directories."
   ]
  },
  {
   "cell_type": "code",
   "execution_count": 25,
   "metadata": {},
   "outputs": [],
   "source": [
    "    def project_frames(*projects):\n",
    "        s = pd.Series(sys.modules)\n",
    "        all_the_files = sum((list(Path(object).rglob('*.ipynb')) for repo, object in map(project_info, projects)), [])\n",
    "        return s[s.apply(\n",
    "            lambda x: Path(getattr(x, '__file__', '') or '') in all_the_files\n",
    "        ).dropna()].apply(compose(pd.Series, vars))"
   ]
  },
  {
   "cell_type": "code",
   "execution_count": 27,
   "metadata": {},
   "outputs": [],
   "source": [
    "    def _extract_dataframes_from_sys_modules():\n",
    "        assert len(project_frames(*projects))"
   ]
  },
  {
   "cell_type": "code",
   "execution_count": null,
   "metadata": {},
   "outputs": [],
   "source": []
  }
 ],
 "metadata": {
  "kernelspec": {
   "display_name": "Python 3",
   "language": "python",
   "name": "python3"
  },
  "language_info": {
   "codemirror_mode": {
    "name": "ipython",
    "version": 3
   },
   "file_extension": ".py",
   "mimetype": "text/x-python",
   "name": "python",
   "nbconvert_exporter": "python",
   "pygments_lexer": "ipython3",
   "version": "3.6.5"
  }
 },
 "nbformat": 4,
 "nbformat_minor": 2
}
