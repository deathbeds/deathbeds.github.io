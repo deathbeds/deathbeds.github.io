{
 "cells": [
  {
   "cell_type": "markdown",
   "metadata": {},
   "source": [
    "# Literate computing should be permissive.\n",
    "\n",
    "When building an idea, natural language typically proceeds code using Markdown and Code, respectively.  Currently, notebook composition decouples\n",
    "these traits; in [a previous document](http://nbviewer.jupyter.org/github/deathbeds/deathbeds.github.io/blob/master/deathbeds/2018-09-02-SyntaxError-fallback.ipynb) we outlined the differences and similarities between the two.\n",
    "\n",
    "A literate document desires a tight connection between natural language and code.  As authors, we are still in the\n",
    "early stages of learning to write about code in common conversations. \n",
    "\n",
    "In this notebook, we try to mitigate `SyntaxError` by allowing prose in code cells.  The code cells, if they are not valid source code, defer to a Markdown transformer that executes the inline and block code in the Markdown.  \n",
    "\n",
    "A computer may not execute code in a Markdown cell, but a consumer may replicate or reuse that code.  __Anything that is code should compute__.  Authoring markdown in code cells allows an author to validate the code in their prose.\n",
    "\n",
    "> A benefit of composing literate particles in code cells is that an author may use tab completion and inspection."
   ]
  },
  {
   "cell_type": "code",
   "execution_count": 9,
   "metadata": {},
   "outputs": [],
   "source": [
    "from deathbeds.__Markdown_code_cells import CallableTransformer, CodeRenderer\n",
    "from textwrap import dedent; import fnmatch, nbconvert; from nbformat import v4\n",
    "import IPython, sys, traceback\n",
    "from contextlib import contextmanager\n",
    "from toolz.curried import *\n",
    "from deathbeds.__Custom_display_formatting import triggers\n",
    "ip = get_ipython()"
   ]
  },
  {
   "cell_type": "markdown",
   "metadata": {},
   "source": [
    "The first errors that could be encountered in `IPython` when interacting with code are `SyntaxError` & \n",
    "`IndentationError`; `assert issubclass(IndentationError, SyntaxError)`.  These `Exceptions` deny any code from being compiled and executing.  \n",
    "\n",
    "There are a few `SyntaxError` `Exception`s"
   ]
  },
  {
   "cell_type": "code",
   "execution_count": 10,
   "metadata": {},
   "outputs": [
    {
     "data": {
      "text/plain": [
       "[SyntaxError, IndentationError, TabError]"
      ]
     },
     "execution_count": 10,
     "metadata": {},
     "output_type": "execute_result"
    }
   ],
   "source": [
    "[x for x in vars(__import__('builtins')).values() if isinstance(x, type) and issubclass(x, SyntaxError)]"
   ]
  },
  {
   "cell_type": "markdown",
   "metadata": {},
   "source": [
    "In our problem, we have to create some `Exception`s that are `SyntaxError`s.  [They must base class `SyntaxError` because we will using the `ip.input_transformer_manager`](https://ipython.readthedocs.io/en/stable/config/inputtransforms.html) & any other `Exception` will unregister the transformer."
   ]
  },
  {
   "cell_type": "markdown",
   "metadata": {},
   "source": [
    "__1.__ `InlineCodeCellMagic` - An author created a cell magic with inline code.  The two don't mix well."
   ]
  },
  {
   "cell_type": "code",
   "execution_count": 4,
   "metadata": {},
   "outputs": [],
   "source": [
    "class InlineCodeCellMagic(SyntaxError): ..."
   ]
  },
  {
   "cell_type": "markdown",
   "metadata": {},
   "source": [
    "__2.__ `NoMarkdownCodeException` -An author created a cell magic with inline code.  The two don't mix well."
   ]
  },
  {
   "cell_type": "markdown",
   "metadata": {},
   "source": [
    "## The Input Transformer.\n",
    "\n",
    "Our `Literate` renderer will extract inline and block code as code input."
   ]
  },
  {
   "cell_type": "code",
   "execution_count": 5,
   "metadata": {},
   "outputs": [],
   "source": [
    "    class Literate(CallableTransformer, CodeRenderer):\n",
    "        def code(self, node, entering): self.nodes.append(node)\n",
    "\n",
    "        def __call__(self, str):\n",
    "            self.nodes = []\n",
    "            current, lines, str = 0, str.splitlines(), CodeRenderer.__call__(self, str)\n",
    "            error = None\n",
    "            \n",
    "            if str.lstrip().startswith('%%') and self.nodes: \n",
    "                raise InlineCodeCellMagicException(\"\"\"Inline code may not be mixed with cell magics.\"\"\") from Exception\n",
    "            \n",
    "            if lines and not(self.nodes or str.strip()):\n",
    "                raise NoMarkdownCodeException(\"No code objects discoved in the Markdown code.\") from Exception\n",
    "            \n",
    "            str = dedent(str or '\\n').splitlines()\n",
    "            \n",
    "            while \"\"\"Increment the lines until there are enough of them.\n",
    "            \"\"\" and (len(str) < len(lines)): str.append(\"\")\n",
    "\n",
    "            for node in self.nodes:\n",
    "                for current in range(current, len(lines)):\n",
    "                    try:\n",
    "                        id = lines[current].index(f\"`{node.literal}`\")\n",
    "                        break\n",
    "                    except ValueError: ...\n",
    "                str[current] += ('; ' if str[current].strip() else '') + node.literal\n",
    "                \n",
    "            return '\\n'.join(str)"
   ]
  },
  {
   "cell_type": "markdown",
   "metadata": {},
   "source": [
    "`swap_input_transformer` is a `contextmanager` that temporaily attaches `Literate` to the transformers\n",
    "on the 🥇 `SyntaxError` using the `ip.input_transformer_manager.physical_line_transforms`."
   ]
  },
  {
   "cell_type": "code",
   "execution_count": 6,
   "metadata": {},
   "outputs": [],
   "source": [
    "@contextmanager\n",
    "def swap_input_transformer(object, position=0):\n",
    "    ip = get_ipython()\n",
    "    yield ip.input_transformer_manager.physical_line_transforms.insert(position, object) or ip\n",
    "    ip.input_transformer_manager.physical_line_transforms = [\n",
    "        x for x in get_ipython().input_transformer_manager.physical_line_transforms\n",
    "        if not isinstance(x, type(object))]"
   ]
  },
  {
   "cell_type": "markdown",
   "metadata": {},
   "source": [
    "## Including other syntaxes\n",
    "\n",
    "[`import deathbeds.__Custom_display_formatting`](2018-09-03-Custom-display-formatting.ipynb) supports more syntaxes than Markdown.  We will include syntaxes for displaying images, webpages, and graphviz in a document.  If any \n",
    "of the values in `triggers` is found then we use Custom Display Formatters instead.  _These custom displays must be wrapped in strings when used in indented code blocks._"
   ]
  },
  {
   "cell_type": "code",
   "execution_count": 7,
   "metadata": {},
   "outputs": [],
   "source": [
    "def fallback(ip, type, Exception, tb, **kwargs): \n",
    "    custom_exceptions = groupby(lambda x: issubclass(x, SyntaxError), ip.custom_exceptions)\n",
    "    try:\n",
    "        ip.custom_exceptions = tuple(x for x in custom_exceptions.get(False, []))\n",
    "        if any(istrigger()):\n",
    "            quote = '\"\"\"'\n",
    "            if quote in ip.user_ns['In'][-1]: quote = \"'''\"\n",
    "            ip.run_cell(quote+ip.user_ns['In'][-1]+quote)\n",
    "        else:\n",
    "            with swap_input_transformer(Literate()): \n",
    "                ip.run_cell(ip.user_ns['In'][-1])\n",
    "    finally: ip.custom_exceptions = tuple(sum(custom_exceptions.values(), list()))\n",
    "        \n",
    "istrigger = lambda str=None: list(f(str or ip.user_ns['In'][-1]) for f in triggers)"
   ]
  },
  {
   "cell_type": "markdown",
   "metadata": {},
   "source": [
    "### Create the extensions."
   ]
  },
  {
   "cell_type": "code",
   "execution_count": 8,
   "metadata": {},
   "outputs": [],
   "source": [
    "def load_ipython_extension(ip): \n",
    "    ip.set_custom_exc((SyntaxError,), fallback)\n",
    "    %reload_ext deathbeds.__Custom_display_formatting\n",
    "def unload_ipython_extension(ip): \n",
    "    %unload_ext deathbeds.__Custom_display_formatting\n",
    "    ip.custom_exceptions = tuple(set(ip.custom_exceptions)-{SyntaxError})\n",
    "    \n",
    "if __name__ == '__main__': load_ipython_extension(get_ipython())"
   ]
  },
  {
   "cell_type": "markdown",
   "metadata": {},
   "source": [
    "### tests\n",
    "\n",
    "The tests should test different inputs and assure errors are being handled predictably."
   ]
  }
 ],
 "metadata": {
  "kernelspec": {
   "display_name": "Python 3",
   "language": "python",
   "name": "python3"
  },
  "language_info": {
   "codemirror_mode": {
    "name": "ipython",
    "version": 3
   },
   "file_extension": ".py",
   "mimetype": "text/x-python",
   "name": "python",
   "nbconvert_exporter": "python",
   "pygments_lexer": "ipython3",
   "version": "3.6.6"
  }
 },
 "nbformat": 4,
 "nbformat_minor": 2
}
