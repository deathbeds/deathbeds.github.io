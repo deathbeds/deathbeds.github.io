{
 "cells": [
  {
   "cell_type": "markdown",
   "metadata": {},
   "source": [
    "# Literate computing should be permissive.\n",
    "\n",
    "When building an idea, natural language typically proceeds a program, respectively.  Currently, notebook composition decouples natural language and code to Markdown and Code cells, respectively.  In [a previous document](http://nbviewer.jupyter.org/github/deathbeds/deathbeds.github.io/blob/master/deathbeds/2018-09-02-SyntaxError-fallback.ipynb) we outlined the differences and similarities between the two cell types.\n",
    "\n",
    "A literate document desires a tight connection between natural language and code.  As authors, we are still in the\n",
    "early stages of learning to write about code in common conversations. \n",
    "\n",
    "In this notebook, we try to mitigate `SyntaxError` by allowing prose in code cells.  The code cells, if they are not valid source code, defer to a Markdown transformer that executes the inline and block code in the Markdown.  \n",
    "\n",
    "A computer may not execute code in a Markdown cell, but a consumer may replicate or reuse that code.  __Anything that is code should compute__.  Authoring markdown in code cells allows an author to validate the code in their prose.\n",
    "\n",
    "> A benefit of composing literate particles in code cells is that an author may use tab completion and inspection.  I've found that this feature promotes better weaving of narrative and code."
   ]
  },
  {
   "cell_type": "code",
   "execution_count": 1,
   "metadata": {},
   "outputs": [
    {
     "data": {
      "text/html": [
       "<style>\n",
       ".jp-mod-presentationMode {\n",
       "    --jp-notebook-padding: 0;\n",
       "}\n",
       ".jp-RenderedHTMLCommon pre code {\n",
       "    opacity: 0.25;\n",
       "}\n",
       ".jp-Placeholder-content .jp-MoreHorizIcon {\n",
       "    background-size: 32px;\n",
       "}\n",
       "</style><style>\n",
       ".jp-mod-presentationMode .jp-SideBar,\n",
       ".jp-mod-presentationMode #jp-top-panel {\n",
       "    opacity: 0.0;\n",
       "    transition: all 0.2s;\n",
       "}\n",
       ".jp-mod-presentationMode .jp-SideBar:hover,\n",
       ".jp-mod-presentationMode #jp-top-panel:hover {\n",
       "    opacity: 0.9;\n",
       "    transition: all 0.2s;\n",
       "}</style><style>\n",
       ".jp-mod-presentationMode.jp-ApplicationShell,\n",
       ".jp-mod-presentationMode .p-TabBar-content{\n",
       "    background-color: var(--jp-layout-color0);\n",
       "}\n",
       "</style><style>\n",
       ".jp-mod-presentationMode .p-DockPanel-widget,\n",
       ".jp-mod-presentationMode #jp-left-stack{\n",
       "    border-color: transparent;\n",
       "}\n",
       ".jp-mod-presentationMode .jp-Toolbar-item,\n",
       ".jp-mod-presentationMode .jp-Toolbar {\n",
       "    opacity: 0.1;\n",
       "    transition: all 0.2s;\n",
       "}\n",
       ".jp-mod-presentationMode .jp-Toolbar-item:hover,\n",
       ".jp-mod-presentationMode .jp-Toolbar:hover {\n",
       "    opacity: 0.9;\n",
       "    transition: all 0.2s;\n",
       "}\n",
       "\n",
       ".jp-mod-presentationMode .jp-InputArea {\n",
       "    flex-direction: column;\n",
       "}\n",
       "\n",
       "</style><style>\n",
       ".jp-mod-presentationMode .jp-Notebook .jp-Cell .jp-InputPrompt, \n",
       ".jp-mod-presentationMode .jp-Notebook .jp-Cell .jp-OutputPrompt {\n",
       "    flex: 0 0 2rem !important;\n",
       "    opacity: 0;\n",
       "}\n",
       ".jp-mod-presentationMode .jp-Notebook .jp-Cell.jp-mod-active .jp-OutputPrompt,\n",
       ".jp-mod-presentationMode .jp-Notebook .jp-Cell.jp-mod-active .jp-OutputPrompt {\n",
       "    opacity: 0.5;\n",
       "}\n",
       ".jp-mod-presentationMode .jp-Notebook .jp-Cell .jp-InputPrompt, \n",
       ".jp-mod-presentationMode .jp-Notebook .jp-Cell .jp-OutputPrompt\n",
       "\n",
       ".jp-mod-presentationMode hr {\n",
       "    opacity: 0.1;\n",
       "}\n",
       "</style>\n",
       "    <style>\n",
       "    .jp-TableOfContents-content h1, \n",
       "    .jp-TableOfContents-content h2 {\n",
       "        margin-bottom: var(--jp-ui-font-size0);\n",
       "    }\n",
       "    </style>\n",
       "    \n",
       "    <style>\n",
       "    .jp-mod-presentationMode {\n",
       "        --jp-content-heading-line-height: 1.25 !important;\n",
       "    }\n",
       "    </style>\n",
       "    \n",
       "    <style>\n",
       "    .jp-mod-presentationMode #jp-main-status-bar {\n",
       "        opacity: 0.06;\n",
       "        transition: all 0.2s;\n",
       "    }\n",
       "    .jp-mod-presentationMode #jp-main-status-bar:hover {\n",
       "        opacity: 0.8;\n",
       "        transition: all 0.2s;\n",
       "    }\n",
       "    </style>\n",
       "    "
      ],
      "text/plain": [
       "<IPython.core.display.HTML object>"
      ]
     },
     "metadata": {},
     "output_type": "display_data"
    }
   ],
   "source": [
    "    from deathbeds.__Markdown_code_cells import CallableTransformer, CodeRenderer\n",
    "    from textwrap import dedent; import fnmatch, nbconvert; from nbformat import v4\n",
    "    import IPython, sys, traceback, warnings, black, itertools\n",
    "    from contextlib import contextmanager\n",
    "    from toolz.curried import *\n",
    "    from deathbeds.__Custom_display_formatting import triggers\n",
    "    ip = get_ipython()"
   ]
  },
  {
   "cell_type": "markdown",
   "metadata": {},
   "source": [
    "The first errors that could be encountered in `IPython` when interacting with code are `SyntaxError` & \n",
    "`IndentationError`; `assert issubclass(IndentationError, SyntaxError)`.  These `Exceptions` deny any code from being compiled and executing.  \n",
    "\n",
    "There are a few `SyntaxError` `Exception`s"
   ]
  },
  {
   "cell_type": "code",
   "execution_count": 2,
   "metadata": {},
   "outputs": [
    {
     "data": {
      "text/plain": [
       "[SyntaxError, IndentationError, TabError]"
      ]
     },
     "execution_count": 2,
     "metadata": {},
     "output_type": "execute_result"
    }
   ],
   "source": [
    "[x for x in vars(__import__('builtins')).values() if isinstance(x, type) and issubclass(x, SyntaxError)]"
   ]
  },
  {
   "cell_type": "markdown",
   "metadata": {},
   "source": [
    "In our problem, we have to create some `Exception`s that are `SyntaxError`s.  [They must base class `SyntaxError` because we will using the\n",
    "`ip.input_transformer_manager`](https://ipython.readthedocs.io/en/stable/config/inputtransforms.html) & any \n",
    "other `Exception` will unregister the transformer.  \n",
    "\n",
    "A special `SyntaxError` case to consider is when a cell is pure Markdown containing no code elements.  In this situation,\n",
    "we display a `NoMarkdownCodeWarning` `UserWarning` before displays the `SyntaxError`."
   ]
  },
  {
   "cell_type": "code",
   "execution_count": 3,
   "metadata": {},
   "outputs": [],
   "source": [
    "    class NoMarkdownCodeException(SyntaxError): ...\n",
    "    class NoMarkdownCodeWarning(UserWarning): ..."
   ]
  },
  {
   "cell_type": "markdown",
   "metadata": {},
   "source": [
    "## The Input Transformer.\n",
    "\n",
    "Our `Literate` renderer will extract inline and block code as code input."
   ]
  },
  {
   "cell_type": "code",
   "execution_count": null,
   "metadata": {},
   "outputs": [],
   "source": []
  },
  {
   "cell_type": "code",
   "execution_count": 13,
   "metadata": {},
   "outputs": [],
   "source": [
    "    class Literate(CallableTransformer, CodeRenderer):\n",
    "        def code(self, node, entering): self.nodes.append(node)\n",
    "\n",
    "        def __call__(self, str):\n",
    "            self.nodes = []\n",
    "            \n",
    "            IPython.display.display(IPython.display.Markdown(str))\n",
    "            \n",
    "            current, lines, str = 0, str.splitlines(), CodeRenderer.__call__(self, str)\n",
    "            \n",
    "            if lines and not(self.nodes or str.strip()):\n",
    "                warnings.warn(\n",
    "                    NoMarkdownCodeWarning(\"Cannot interpret Markdown cells with no block or inline code objects.\"),\n",
    "                    NoMarkdownCodeWarning, stacklevel=1000)\n",
    "\n",
    "                raise NoMarkdownCodeException(\"No code objects discoved in the Markdown code.\") from Exception\n",
    "            \n",
    "            \n",
    "            str = dedent(str or '\\n').splitlines()\n",
    "            \n",
    "            while \"\"\"Increment the lines until there are enough of them.\n",
    "            \"\"\" and (len(str) < len(lines)): str.append(\"\")\n",
    "\n",
    "            for node in self.nodes:\n",
    "                for current in range(current, len(lines)):\n",
    "                    try:\n",
    "                        id = lines[current].index(f\"`{node.literal}`\")\n",
    "                        break\n",
    "                    except ValueError: ...\n",
    "                str[current] += ('; ' if str[current].strip() else '') + node.literal\n",
    "                \n",
    "            try:\n",
    "                format = black.format_str('\\n'.join(str), 60)\n",
    "                show = False\n",
    "                for line in format.splitlines():\n",
    "                    show = show or bool(line.strip())\n",
    "                    show and ip.auto_rewrite_input(line)\n",
    "            except: ...\n",
    "            return '\\n'.join(str)"
   ]
  },
  {
   "cell_type": "markdown",
   "metadata": {},
   "source": [
    "`swap_input_transformer` is a `contextmanager` that temporaily attaches `Literate` to the transformers\n",
    "on the 🥇 `SyntaxError` using the `ip.input_transformer_manager.physical_line_transforms`."
   ]
  },
  {
   "cell_type": "code",
   "execution_count": 15,
   "metadata": {},
   "outputs": [],
   "source": [
    "@contextmanager\n",
    "def swap_input_transformer(object, position=0):\n",
    "    ip = get_ipython()\n",
    "    yield ip.input_transformer_manager.physical_line_transforms.insert(position, object) or ip\n",
    "    ip.input_transformer_manager.physical_line_transforms = [\n",
    "        x for x in get_ipython().input_transformer_manager.physical_line_transforms\n",
    "        if not isinstance(x, type(object))]"
   ]
  },
  {
   "cell_type": "markdown",
   "metadata": {},
   "source": [
    "## Including other syntaxes\n",
    "\n",
    "[`import deathbeds.__Custom_display_formatting`](2018-09-03-Custom-display-formatting.ipynb) supports more syntaxes than Markdown.  We will include syntaxes for displaying images, webpages, and graphviz in a document.  If any \n",
    "of the values in `triggers` is found then we use Custom Display Formatters instead.  _These custom displays must be wrapped in strings when used in indented code blocks._"
   ]
  },
  {
   "cell_type": "markdown",
   "metadata": {},
   "source": [
    "`istrigger` determines if the input string is valid trigger for the Custom display formatters for \n",
    "__graphviz__, links, and flexbox layouts.."
   ]
  },
  {
   "cell_type": "code",
   "execution_count": 16,
   "metadata": {},
   "outputs": [],
   "source": [
    "    def istrigger(str=None): return list(f(str or ip.user_ns['In'][-1]) for f in triggers)"
   ]
  },
  {
   "cell_type": "markdown",
   "metadata": {},
   "source": [
    "`fallback` is the custom `IPython` exception handler.  \n",
    "\n",
    "1. It checks if the string is a trigger, if it is then the source is converted to a string.\n",
    "2. If these conditions fail then we defer to default mode."
   ]
  },
  {
   "cell_type": "code",
   "execution_count": 17,
   "metadata": {},
   "outputs": [],
   "source": [
    "    def fallback(ip, type, Exception, tb, **kwargs): \n",
    "        with modify_custom_exceptions(SyntaxError):\n",
    "            code = ip.user_ns['In'][-1]\n",
    "            if any(istrigger(code)):\n",
    "                quote = '\"\"\"'\n",
    "                if quote in code: quote = \"'''\"\n",
    "                ip.run_cell(quote+code+quote)\n",
    "            else: \n",
    "                with swap_input_transformer(Literate()): \n",
    "                    ip.run_cell(code)"
   ]
  },
  {
   "cell_type": "markdown",
   "metadata": {},
   "source": [
    "Since `fallback` uses the `ip.run_cell` we must make sure we don't get stuck in a `RecursionError`.  `modify_custom_exceptions`\n",
    "is a `contextmanager` to swap out the current `Exception` that is being treated in a special way."
   ]
  },
  {
   "cell_type": "code",
   "execution_count": 18,
   "metadata": {},
   "outputs": [],
   "source": [
    "    @contextmanager\n",
    "    def modify_custom_exceptions(Exception):\n",
    "        custom_exceptions = groupby(lambda x: issubclass(x, SyntaxError), ip.custom_exceptions)\n",
    "        ip.custom_exceptions = tuple(x for x in custom_exceptions.get(False, []))\n",
    "        yield\n",
    "        ip.custom_exceptions = tuple(sum(custom_exceptions.values(), list()))"
   ]
  },
  {
   "cell_type": "markdown",
   "metadata": {},
   "source": [
    "### Create the extensions.\n",
    "\n",
    "`load_ipython_extension` allows this extension to be used with <code>%load_ext</code>, and adding `unload_ipython_extension`\n",
    "allows it to be used with <code>%reload_ext</code>."
   ]
  },
  {
   "cell_type": "code",
   "execution_count": 19,
   "metadata": {},
   "outputs": [],
   "source": [
    "    def load_ipython_extension(ip): \n",
    "        ip.set_custom_exc((SyntaxError,), fallback)\n",
    "        %reload_ext deathbeds.__Custom_display_formatting\n",
    "    def unload_ipython_extension(ip): \n",
    "        %unload_ext deathbeds.__Custom_display_formatting\n",
    "        ip.custom_exceptions = tuple(set(ip.custom_exceptions)-{SyntaxError})"
   ]
  },
  {
   "cell_type": "markdown",
   "metadata": {},
   "source": [
    "# Discussion\n",
    "\n",
    "This notebook was created using the `SyntaxError` fallback, this tool made it easier to weave the narrative together with\n",
    "code because of tab completion.  Also, it prevented me from placing misspelled or invalid code in the Markdown cells."
   ]
  },
  {
   "cell_type": "markdown",
   "metadata": {},
   "source": [
    "### tests\n",
    "\n",
    "The tests should test different inputs and assure errors are being handled predictably."
   ]
  },
  {
   "cell_type": "code",
   "execution_count": 20,
   "metadata": {},
   "outputs": [],
   "source": [
    "    def _load_extension_text():\n",
    "        %load_ext deathbeds.__SyntaxError_fallback\n",
    "        %unload_ext deathbeds.__SyntaxError_fallback\n",
    "    def _handle_valid_code(): ...\n",
    "    def _handle_invalid_code(): ...\n",
    "    def _handle_string_transformers(): ...\n",
    "    def _handle_markdown(): ...\n",
    "    def _handle_markdown_with_syntaxerror(): ...\n",
    "    def _handle_markdown_with_other_errors(): ...\n",
    "    if __name__ == '__main__':\n",
    "        _load_extension_text()\n",
    "        load_ipython_extension(get_ipython())\n"
   ]
  }
 ],
 "metadata": {
  "kernelspec": {
   "display_name": "p6",
   "language": "python",
   "name": "other-env"
  },
  "language_info": {
   "codemirror_mode": {
    "name": "ipython",
    "version": 3
   },
   "file_extension": ".py",
   "mimetype": "text/x-python",
   "name": "python",
   "nbconvert_exporter": "python",
   "pygments_lexer": "ipython3",
   "version": "3.6.3"
  }
 },
 "nbformat": 4,
 "nbformat_minor": 2
}
