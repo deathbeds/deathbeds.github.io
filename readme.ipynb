{
 "cells": [
  {
   "cell_type": "markdown",
   "metadata": {},
   "source": [
    "# <big><big><big>REST💀IN💀PXXXLS</big></big></big>"
   ]
  },
  {
   "cell_type": "code",
   "execution_count": 44,
   "metadata": {},
   "outputs": [],
   "source": [
    "import deathbeds as rip\n",
    "from pathlib import Path"
   ]
  },
  {
   "cell_type": "markdown",
   "metadata": {},
   "source": [
    "#### Produce markdown versions of some pxxxls in `/_posts`"
   ]
  },
  {
   "cell_type": "code",
   "execution_count": 52,
   "metadata": {},
   "outputs": [],
   "source": [
    "from nbconvert.exporters.markdown import MarkdownExporter"
   ]
  },
  {
   "cell_type": "code",
   "execution_count": 63,
   "metadata": {},
   "outputs": [],
   "source": [
    "exporter = MarkdownExporter()\n",
    "no_output = MarkdownExporter(config=dict(TemplateExporter=dict(exclude_output=True)))\n",
    "HEADER = \"\"\"---\\n---\\n\"\"\""
   ]
  },
  {
   "cell_type": "code",
   "execution_count": 64,
   "metadata": {},
   "outputs": [],
   "source": [
    "[\n",
    "    (Path('_posts') / file.with_suffix('.md').name)\n",
    "    .write_text(HEADER+exporter.from_filename(file)[0])\n",
    "    for file in Path(rip.__name__).glob('*.ipynb')];"
   ]
  },
  {
   "cell_type": "markdown",
   "metadata": {},
   "source": [
    "create the index and the readme."
   ]
  },
  {
   "cell_type": "code",
   "execution_count": 65,
   "metadata": {},
   "outputs": [],
   "source": [
    "Path('index.md').write_text(HEADER + no_output.from_filename(Path('index.ipynb'))[0])\n",
    "Path('readme.md').write_text(no_output.from_filename(Path('readme.ipynb'))[0]);"
   ]
  }
 ],
 "metadata": {
  "kernelspec": {
   "display_name": "p6",
   "language": "python",
   "name": "other-env"
  },
  "language_info": {
   "codemirror_mode": {
    "name": "ipython",
    "version": 3
   },
   "file_extension": ".py",
   "mimetype": "text/x-python",
   "name": "python",
   "nbconvert_exporter": "python",
   "pygments_lexer": "ipython3",
   "version": "3.6.3"
  }
 },
 "nbformat": 4,
 "nbformat_minor": 2
}
