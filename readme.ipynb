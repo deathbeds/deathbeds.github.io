{
 "cells": [
  {
   "cell_type": "markdown",
   "metadata": {},
   "source": [
    "# <big><big><big>REST💀IN💀PXXXLS</big></big></big>"
   ]
  },
  {
   "cell_type": "code",
   "execution_count": 1,
   "metadata": {},
   "outputs": [],
   "source": [
    "import deathbeds as rip\n",
    "from pathlib import Path\n",
    "from importlib import import_module"
   ]
  },
  {
   "cell_type": "code",
   "execution_count": 20,
   "metadata": {},
   "outputs": [],
   "source": [
    "post = import_module('deathbeds.2018-01-25-D三athb三ds')\n",
    "assert post.name == \"\"\"D三athb三ds\"\"\""
   ]
  },
  {
   "cell_type": "markdown",
   "metadata": {},
   "source": [
    "#### Produce markdown versions of some pxxxls in `/_posts`"
   ]
  },
  {
   "cell_type": "code",
   "execution_count": 7,
   "metadata": {},
   "outputs": [],
   "source": [
    "from nbconvert.exporters.markdown import MarkdownExporter\n",
    "\n",
    "exporter = MarkdownExporter()\n",
    "HEADER = \"\"\"---\\n{}\\n---\\n\"\"\".format"
   ]
  },
  {
   "cell_type": "code",
   "execution_count": 15,
   "metadata": {},
   "outputs": [],
   "source": [
    "for file in Path(rip.__name__).glob('*.ipynb'):\n",
    "    content, data = exporter.from_filename(file)\n",
    "    (Path('_posts') / file.with_suffix('.md').name).write_text(\n",
    "        '\\n'.join((HEADER(dict(data.get('metadata'))), content))\n",
    "    )"
   ]
  },
  {
   "cell_type": "markdown",
   "metadata": {},
   "source": [
    "create the index and the readme."
   ]
  },
  {
   "cell_type": "code",
   "execution_count": 16,
   "metadata": {},
   "outputs": [],
   "source": [
    "content, data = no_output.from_filename(Path('readme.ipynb'))\n",
    "Path('readme.md').write_text(content);"
   ]
  },
  {
   "cell_type": "code",
   "execution_count": 17,
   "metadata": {},
   "outputs": [
    {
     "name": "stdout",
     "output_type": "stream",
     "text": [
      "Configuration file: /Users/tonyfast/deathbeds.github.io/_config.yaml\r\n",
      "            Source: /Users/tonyfast/deathbeds.github.io\r\n",
      "       Destination: /Users/tonyfast/deathbeds.github.io/_site\r\n",
      " Incremental build: disabled. Enable with --incremental\r\n",
      "      Generating... \r\n",
      "                    done in 0.163 seconds.\r\n",
      " Auto-regeneration: disabled. Use --watch to enable.\r\n"
     ]
    },
    {
     "data": {
      "text/html": [
       "\n",
       "        <iframe\n",
       "            width=\"800\"\n",
       "            height=\"600\"\n",
       "            src=\"_site/index.html\"\n",
       "            frameborder=\"0\"\n",
       "            allowfullscreen\n",
       "        ></iframe>\n",
       "        "
      ],
      "text/plain": [
       "<IPython.lib.display.IFrame at 0x10b672048>"
      ]
     },
     "metadata": {},
     "output_type": "display_data"
    }
   ],
   "source": [
    "no_output = MarkdownExporter(config=dict(TemplateExporter=dict(exclude_output=True)))\n",
    "content, data = no_output.from_filename(Path('index.ipynb'))\n",
    "Path('index.md').write_text(HEADER({}) + content);\n",
    "\n",
    "# Build the Jekyll Site.\n",
    "\n",
    "!jekyll build\n",
    "from IPython.display import display, IFrame\n",
    "display(IFrame('_site/index.html', 800, 600))"
   ]
  },
  {
   "cell_type": "code",
   "execution_count": null,
   "metadata": {},
   "outputs": [],
   "source": []
  }
 ],
 "metadata": {
  "kernelspec": {
   "display_name": "p6",
   "language": "python",
   "name": "other-env"
  },
  "language_info": {
   "codemirror_mode": {
    "name": "ipython",
    "version": 3
   },
   "file_extension": ".py",
   "mimetype": "text/x-python",
   "name": "python",
   "nbconvert_exporter": "python",
   "pygments_lexer": "ipython3",
   "version": "3.6.3"
  }
 },
 "nbformat": 4,
 "nbformat_minor": 2
}
