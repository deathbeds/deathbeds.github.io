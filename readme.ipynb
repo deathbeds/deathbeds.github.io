{
 "cells": [
  {
   "cell_type": "markdown",
   "metadata": {},
   "source": [
    "# <big><big><big>REST💀IN💀PXXXLS</big></big></big>"
   ]
  },
  {
   "cell_type": "code",
   "execution_count": 44,
   "metadata": {},
   "outputs": [],
   "source": [
    "import deathbeds as rip\n",
    "from pathlib import Path"
   ]
  },
  {
   "cell_type": "markdown",
   "metadata": {},
   "source": [
    "#### Produce markdown versions of some pxxxls in `/_posts`"
   ]
  },
  {
   "cell_type": "code",
   "execution_count": 52,
   "metadata": {},
   "outputs": [],
   "source": [
    "from nbconvert.exporters.markdown import MarkdownExporter"
   ]
  },
  {
   "cell_type": "code",
   "execution_count": 63,
   "metadata": {},
   "outputs": [],
   "source": [
    "exporter = MarkdownExporter()\n",
    "no_output = MarkdownExporter(config=dict(TemplateExporter=dict(exclude_output=True)))\n",
    "HEADER = \"\"\"---\\n---\\n\"\"\""
   ]
  },
  {
   "cell_type": "code",
   "execution_count": 69,
   "metadata": {},
   "outputs": [],
   "source": [
    "[\n",
    "    (Path('_posts') / file.with_suffix('.md').name)\n",
    "    .write_text(HEADER+exporter.from_filename(file)[0])\n",
    "    for file in Path(rip.__name__).glob('*.ipynb')];"
   ]
  },
  {
   "cell_type": "markdown",
   "metadata": {},
   "source": [
    "create the index and the readme."
   ]
  },
  {
   "cell_type": "code",
   "execution_count": 70,
   "metadata": {},
   "outputs": [],
   "source": [
    "Path('index.md').write_text(HEADER + no_output.from_filename(Path('index.ipynb'))[0])\n",
    "Path('readme.md').write_text(no_output.from_filename(Path('readme.ipynb'))[0]);"
   ]
  },
  {
   "cell_type": "markdown",
   "metadata": {},
   "source": [
    "# Build the Jekyll Site."
   ]
  },
  {
   "cell_type": "code",
   "execution_count": 77,
   "metadata": {},
   "outputs": [
    {
     "name": "stdout",
     "output_type": "stream",
     "text": [
      "Configuration file: /Users/tonyfast/deathbeds.github.io/_config.yaml\r\n",
      "            Source: /Users/tonyfast/deathbeds.github.io\r\n",
      "       Destination: /Users/tonyfast/deathbeds.github.io/_site\r\n",
      " Incremental build: disabled. Enable with --incremental\r\n",
      "      Generating... \r\n",
      "                    done in 0.031 seconds.\r\n",
      " Auto-regeneration: disabled. Use --watch to enable.\r\n"
     ]
    },
    {
     "data": {
      "text/html": [
       "\n",
       "        <iframe\n",
       "            width=\"800\"\n",
       "            height=\"600\"\n",
       "            src=\"_site/index.html\"\n",
       "            frameborder=\"0\"\n",
       "            allowfullscreen\n",
       "        ></iframe>\n",
       "        "
      ],
      "text/plain": [
       "<IPython.lib.display.IFrame at 0x104069ba8>"
      ]
     },
     "metadata": {},
     "output_type": "display_data"
    }
   ],
   "source": [
    "if __name__ == '__main__':\n",
    "    from IPython.display import display, IFrame\n",
    "    !jekyll build\n",
    "    display(IFrame('_site/index.html', 800, 600))"
   ]
  },
  {
   "cell_type": "code",
   "execution_count": null,
   "metadata": {},
   "outputs": [],
   "source": []
  }
 ],
 "metadata": {
  "kernelspec": {
   "display_name": "p6",
   "language": "python",
   "name": "other-env"
  },
  "language_info": {
   "codemirror_mode": {
    "name": "ipython",
    "version": 3
   },
   "file_extension": ".py",
   "mimetype": "text/x-python",
   "name": "python",
   "nbconvert_exporter": "python",
   "pygments_lexer": "ipython3",
   "version": "3.6.3"
  }
 },
 "nbformat": 4,
 "nbformat_minor": 2
}
