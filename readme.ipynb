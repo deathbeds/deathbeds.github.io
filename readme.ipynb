{
 "cells": [
  {
   "cell_type": "markdown",
   "metadata": {},
   "source": [
    "# <big><big><big>REST💀IN💀PXXXLS</big></big></big>"
   ]
  },
  {
   "cell_type": "code",
   "execution_count": 2,
   "metadata": {},
   "outputs": [
    {
     "data": {
      "text/plain": [
       "_StoreTrueAction(option_strings=['-c', '--convert'], dest='convert', nargs=0, const=True, default=False, type=None, choices=None, help=None, metavar=None)"
      ]
     },
     "execution_count": 2,
     "metadata": {},
     "output_type": "execute_result"
    }
   ],
   "source": [
    "    parser = __import__('argparse').ArgumentParser()\n",
    "    parser.add_argument('-t', '--test', action='store_true')\n",
    "    parser.add_argument('-w', '--watch', action='store_true')\n",
    "    parser.add_argument('-c', '--convert', action='store_true')"
   ]
  },
  {
   "cell_type": "code",
   "execution_count": 11,
   "metadata": {},
   "outputs": [],
   "source": [
    "    _opts = ''.split()"
   ]
  },
  {
   "cell_type": "markdown",
   "metadata": {},
   "source": [
    "    %%file tox.ini\n",
    "    [pytest]\n",
    "    python_functions=_*[!_]"
   ]
  },
  {
   "cell_type": "code",
   "execution_count": 12,
   "metadata": {},
   "outputs": [],
   "source": [
    "options = parser.parse_args(__import__('sys').argv[1:] if globals().get('__file__', None) else _opts)"
   ]
  },
  {
   "cell_type": "code",
   "execution_count": 13,
   "metadata": {},
   "outputs": [],
   "source": [
    "    if __name__ == \"__main__\":\n",
    "        options = parser.parse_args(__import__('sys').argv[1:] if globals().get('__file__', None) else _opts)\n",
    "        from IPython import get_ipython\n",
    "        if options.test:\n",
    "            !ipython -m deathbeds.tests\n",
    "        if options.watch:\n",
    "            !ipython -m deathbeds.2018-07-15-Pytest-watchmedo -- --command \"'ipython -m deathbeds.tests -- --last-failed'\"\n",
    "            !watchmedo tricks tricks.yaml\n",
    "        if options.convert: \n",
    "            !jupyter nbconvert --to markdown --MarkdownExporter.exclude_input=True readme.ipynb"
   ]
  }
 ],
 "metadata": {
  "kernelspec": {
   "display_name": "Python 3",
   "language": "python",
   "name": "python3"
  },
  "language_info": {
   "codemirror_mode": {
    "name": "ipython",
    "version": 3
   },
   "file_extension": ".py",
   "mimetype": "text/x-python",
   "name": "python",
   "nbconvert_exporter": "python",
   "pygments_lexer": "ipython3",
   "version": "3.6.5"
  }
 },
 "nbformat": 4,
 "nbformat_minor": 2
}
