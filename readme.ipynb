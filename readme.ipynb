{
 "cells": [
  {
   "cell_type": "markdown",
   "metadata": {},
   "source": [
    "# `REST💀IN💀PXXXLS`\n",
    "\n",
    "[Blog](http://nbviewer.jupyter.org/github/deathbeds/deathbeds.github.io/tree/master/deathbeds/) | [![Build Status](https://travis-ci.org/deathbeds/deathbeds.github.io.svg?branch=master)](https://travis-ci.org/deathbeds/deathbeds.github.io) | [Github](https://github.com/deathbeds) |[![Gitter]( \n",
    "https://badges.gitter.im/deathbeds.png)](https://gitter.im/deathbeds/Lobby)\n",
    "\n",
    "## Deathbeds is a coding collective that values\n",
    "\n",
    "### Data\n",
    "### Testing\n",
    "### Documentation\n",
    "### The Scientific Method\n",
    "### The Laws of Thermodynamics\n",
    "\n",
    "_**We are not original, we just do things different.  We are learning to be ourselves in data.**_\n",
    "\n",
    "## [New contributors are always welcome.](https://github.com/deathbeds/deathbeds.github.io)\n",
    "\n",
    "Contribute cool, fun, or useless notebooks to the deathbeds blog.  The notebooks must contain:\n",
    "\n",
    "* Markdown cells\n",
    "* Code cells\n",
    "* [Restart and run all](http://nbviewer.jupyter.org/github/deathbeds/deathbeds.github.io/blob/master/deathbeds/2018-07-31-Testing-notebooks.ipynb)\n",
    "* A story"
   ]
  },
  {
   "cell_type": "markdown",
   "metadata": {},
   "source": [
    "## Developer\n",
    "\n",
    "The readme file contains project level actions to test and use deathbeds."
   ]
  },
  {
   "cell_type": "code",
   "execution_count": 21,
   "metadata": {},
   "outputs": [],
   "source": [
    "    parser = __import__('argparse').ArgumentParser()\n",
    "    parser.add_argument('-t', '--test', help=\"Test deatbheds\", action='store_true')\n",
    "    parser.add_argument('-w', '--watch', help=\"Interactively test a post in deathbeds\" ,action='store_true')\n",
    "    parser.add_argument('-e', '--labextensions', help=\"Install the deathbeds curated labextensions\" ,action='store_true')\n",
    "    parser.add_argument('-c', '--convert', action='store_true')\n",
    "    options = parser.parse_args(__import__('sys').argv[1:] if globals().get('__file__', None) else [])\n",
    "\n",
    "    from os import sep; from pathlib import Path; import deathbeds"
   ]
  },
  {
   "cell_type": "code",
   "execution_count": 22,
   "metadata": {},
   "outputs": [],
   "source": [
    "    if __name__ == \"__main__\":\n",
    "        options = parser.parse_args(__import__('sys').argv[1:] if globals().get('__file__', None) else _opts)\n",
    "        from IPython import get_ipython\n",
    "        if options.test:\n",
    "            !ipython -m deathbeds.tests \n",
    "        if options.watch:\n",
    "            !ipython -m deathbeds.2018-07-15-Pytest-watchmedo -- --command \"'ipython -m deathbeds.tests -- ${watch_src_path}'\"\n",
    "            !watchmedo tricks tricks.yaml\n",
    "        if options.convert: \n",
    "            !jupyter nbconvert --to markdown --MarkdownExporter.exclude_input=True readme.ipynb\n",
    "            \n",
    "        if options.labextensions:\n",
    "            labextensions = (Path(deathbeds.__file__).parent.parent / 'labextensions.txt').read_text().replace('\\n', ' ')\n",
    "            !jupyter labextension install $labextensions --no-build\n",
    "            !jupyter lab build --dev"
   ]
  }
 ],
 "metadata": {
  "kernelspec": {
   "display_name": "Python 3",
   "language": "python",
   "name": "python3"
  },
  "language_info": {
   "codemirror_mode": {
    "name": "ipython",
    "version": 3
   },
   "file_extension": ".py",
   "mimetype": "text/x-python",
   "name": "python",
   "nbconvert_exporter": "python",
   "pygments_lexer": "ipython3",
   "version": "3.6.5"
  }
 },
 "nbformat": 4,
 "nbformat_minor": 2
}
