{
 "cells": [
  {
   "cell_type": "code",
   "execution_count": 1,
   "metadata": {},
   "outputs": [
    {
     "data": {
      "text/html": [
       "<div id=\"disqus_thread\"></div>\n",
       "<script type=\"text/javascript\">\n",
       "    /* * * CONFIGURATION VARIABLES * * */\n",
       "    // Required: on line below, replace text in quotes with your forum shortname\n",
       "    var disqus_shortname = 'tonyfast';\n",
       "\n",
       "    /* * * DON'T EDIT BELOW THIS LINE * * */\n",
       "    (function() {\n",
       "        var dsq = document.createElement('script'); dsq.type = 'text/javascript'; dsq.async = true;\n",
       "        dsq.src = '//' + disqus_shortname + '.disqus.com/embed.js';\n",
       "        (document.getElementsByTagName('head')[0] || document.getElementsByTagName('body')[0]).appendChild(dsq);\n",
       "    })();\n",
       "</script>\n",
       "<noscript>Please enable JavaScript to view the <a href=\"https://disqus.com/?ref_noscript\" rel=\"nofollow\">comments powered by Disqus.</a></noscript>"
      ],
      "text/plain": [
       "<IPython.core.display.HTML object>"
      ]
     },
     "metadata": {},
     "output_type": "display_data"
    }
   ],
   "source": [
    "    %%HTML\n",
    "    <div id=\"disqus_thread\"></div>\n",
    "    <script type=\"text/javascript\">\n",
    "        /* * * CONFIGURATION VARIABLES * * */\n",
    "        // Required: on line below, replace text in quotes with your forum shortname\n",
    "        var disqus_shortname = 'tonyfast';\n",
    "\n",
    "        /* * * DON'T EDIT BELOW THIS LINE * * */\n",
    "        (function() {\n",
    "            var dsq = document.createElement('script'); dsq.type = 'text/javascript'; dsq.async = true;\n",
    "            dsq.src = '//' + disqus_shortname + '.disqus.com/embed.js';\n",
    "            (document.getElementsByTagName('head')[0] || document.getElementsByTagName('body')[0]).appendChild(dsq);\n",
    "        })();\n",
    "    </script>\n",
    "    <noscript>Please enable JavaScript to view the <a href=\"https://disqus.com/?ref_noscript\" rel=\"nofollow\">comments powered by Disqus.</a></noscript>"
   ]
  },
  {
   "cell_type": "code",
   "execution_count": null,
   "metadata": {},
   "outputs": [],
   "source": []
  }
 ],
 "metadata": {
  "kernelspec": {
   "display_name": "bench",
   "language": "python",
   "name": "bench"
  },
  "language_info": {
   "codemirror_mode": {
    "name": "ipython",
    "version": 3
   },
   "file_extension": ".py",
   "mimetype": "text/x-python",
   "name": "python",
   "nbconvert_exporter": "python",
   "pygments_lexer": "ipython3",
   "version": "3.6.5"
  }
 },
 "nbformat": 4,
 "nbformat_minor": 2
}
