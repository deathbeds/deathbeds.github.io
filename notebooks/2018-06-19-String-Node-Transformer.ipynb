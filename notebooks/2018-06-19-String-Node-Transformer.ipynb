{
 "cells": [
  {
   "cell_type": "markdown",
   "metadata": {},
   "source": [
    "# Reasonable way to place macros in text.\n",
    "\n",
    "Some strings contain delimiters that identify them with a specific syntax.\n",
    "\n",
    "* Markdown has ticks\n",
    "* Yaml has dashes\n",
    "* Graphviz has graph/digraph\n",
    "* Latex has Dollar signs."
   ]
  },
  {
   "cell_type": "markdown",
   "metadata": {},
   "source": [
    "# The Node Transformer\n",
    "\n",
    "Node transformers do what . ....\n",
    "IPython accepts node transformers\n",
    "\n",
    "https://greentreesnakes.readthedocs.io/"
   ]
  },
  {
   "cell_type": "code",
   "execution_count": 1,
   "metadata": {},
   "outputs": [],
   "source": [
    "    import ast, abc"
   ]
  },
  {
   "cell_type": "markdown",
   "metadata": {},
   "source": [
    "The NodeTransformer will takes two attributes:\n",
    "\n",
    "* A condition that must be satisfied to trigger the replacement.\n",
    "* A formatable string that can be replaced with the desired source.\n",
    "\n",
    "This class is to be reused as a base class.\n",
    "\n",
    "    >>> class NewTransformer(StrTokenTransformerMeta): ..."
   ]
  },
  {
   "cell_type": "code",
   "execution_count": 2,
   "metadata": {},
   "outputs": [],
   "source": [
    "    class StrTokenTransformerMeta(ast.NodeTransformer, metaclass=abc.ABCMeta):\n",
    "        @abc.abstractstaticmethod\n",
    "        def condition(self, callable: str) -> bool:\n",
    "            \"\"\"A callable that tests a string condition.\"\"\"\n",
    "            raise NotImplemented()\n",
    "            \n",
    "        @abc.abstractproperty\n",
    "        def replacement(self, str) -> str:\n",
    "            \"\"\"A block string to replace a condition with.\"\"\"\n",
    "            raise NotImplemented()\n",
    "            \n",
    "        "
   ]
  },
  {
   "cell_type": "markdown",
   "metadata": {},
   "source": [
    "> `abstractproperty` is not required, but it doesn't hurt.  If this is confusing, just know we can't create a new `StrTokenTransformerMeta` class without the `condition` or `replacement` attributes existing and being `staticmethod` and `abstractproperty`, respectively."
   ]
  },
  {
   "cell_type": "markdown",
   "metadata": {},
   "source": [
    "`StrTokenTransformer` defines import `NodeTransformer` attributes."
   ]
  },
  {
   "cell_type": "code",
   "execution_count": 3,
   "metadata": {},
   "outputs": [],
   "source": [
    "    class StrTokenTransformer(StrTokenTransformerMeta):\n",
    "        def generic_visit(self, node): return node\n",
    "        \n",
    "        def visit_Expr(self, node):\n",
    "            if isinstance(node.value, ast.Str):\n",
    "                str = node.value.s\n",
    "                if self.condition(str):\n",
    "                    return ast.parse(self.replace(str)).body[0]\n",
    "            return node\n",
    "        \n",
    "        def visit_Module(self, node): return super().generic_visit(node)\n",
    "        \n",
    "        def replace(self, str):\n",
    "            \"\"\"Validate the source, before continuing.\"\"\"\n",
    "            self.validate()\n",
    "            quotes = '\"\"\"'\n",
    "            if quotes in str: quotes = \"'''\"\n",
    "            return self.replacement.format(\n",
    "                quotes + '{}' + quotes).format(str)\n",
    "            \n",
    "        def validate(self):\n",
    "            \"\"\"Validate that the replacement string is Python.\"\"\"\n",
    "            try: ast.parse(self.replacement)\n",
    "            except: raise StrTokenTransformerException(self.replacement)\n",
    "                "
   ]
  },
  {
   "cell_type": "markdown",
   "metadata": {},
   "source": [
    "It is a good practice to define our own exceptions."
   ]
  },
  {
   "cell_type": "code",
   "execution_count": 4,
   "metadata": {},
   "outputs": [],
   "source": [
    "    class StrTokenTransformerException(BaseException): ..."
   ]
  },
  {
   "cell_type": "markdown",
   "metadata": {},
   "source": [
    "## A graphviz replacement\n",
    "\n",
    "When a string starts with __graph__ or __digraph__ show a [__graphviz__]() repr."
   ]
  },
  {
   "cell_type": "code",
   "execution_count": 5,
   "metadata": {},
   "outputs": [],
   "source": [
    "    class GraphViz(StrTokenTransformer):\n",
    "        replacement = \"\"\"__import__('graphviz').Source({})\"\"\"\n",
    "        condition = staticmethod(lambda str: str.startswith('graph') or str.startswith('digraph'))"
   ]
  },
  {
   "cell_type": "markdown",
   "metadata": {},
   "source": [
    "> The graphviz syntax looks extra boss with [Fira-Code]()."
   ]
  },
  {
   "cell_type": "markdown",
   "metadata": {},
   "source": [
    "## A yaml replacement"
   ]
  },
  {
   "cell_type": "code",
   "execution_count": 6,
   "metadata": {},
   "outputs": [],
   "source": [
    "    class YamlDefinition(StrTokenTransformer):\n",
    "        replacement = \"\"\"globals().update(\n",
    "            __import__('collections').ChainMap(*reversed(list(\n",
    "                __import__('yaml').safe_load_all(\n",
    "                    __import__('io').StringIO({}))))))\"\"\"\n",
    "        condition = staticmethod(lambda str: str.startswith('---\\n'))"
   ]
  },
  {
   "cell_type": "markdown",
   "metadata": {},
   "source": [
    "## An Iframe replacement."
   ]
  },
  {
   "cell_type": "code",
   "execution_count": 7,
   "metadata": {},
   "outputs": [],
   "source": [
    "    class IframeDisplay(StrTokenTransformer):\n",
    "        replacement = \"\"\"__import__('IPython').display.display(\n",
    "            __import__('IPython').display.IFrame(\n",
    "                {}, 600, 400))\"\"\"\n",
    "        condition = staticmethod(lambda str: str.startswith('http:') or str.startswith('https:'))"
   ]
  },
  {
   "cell_type": "markdown",
   "metadata": {},
   "source": [
    "## An IPython extension"
   ]
  },
  {
   "cell_type": "code",
   "execution_count": 8,
   "metadata": {},
   "outputs": [],
   "source": [
    "    def load_ipython_extension(ip=None):\n",
    "        ip = ip or __import__('IPython').get_ipython()\n",
    "        ip.ast_transformers = [GraphViz(), YamlDefinition(), IframeDisplay()]\n",
    "        \n",
    "    load = load_ipython_extension"
   ]
  },
  {
   "cell_type": "markdown",
   "metadata": {},
   "source": [
    "## Usage\n",
    "\n",
    "    >> __import__('__String_Node_Transformer').load()"
   ]
  },
  {
   "cell_type": "code",
   "execution_count": 9,
   "metadata": {},
   "outputs": [],
   "source": [
    "    Ø = __name__ == '__main__'\n",
    "    Ø and load_ipython_extension()"
   ]
  },
  {
   "cell_type": "markdown",
   "metadata": {},
   "source": [
    "### GraphViz Example"
   ]
  },
  {
   "cell_type": "code",
   "execution_count": 19,
   "metadata": {},
   "outputs": [
    {
     "data": {
      "image/svg+xml": [
       "<?xml version=\"1.0\" encoding=\"UTF-8\" standalone=\"no\"?>\n",
       "<!DOCTYPE svg PUBLIC \"-//W3C//DTD SVG 1.1//EN\"\n",
       " \"http://www.w3.org/Graphics/SVG/1.1/DTD/svg11.dtd\">\n",
       "<!-- Generated by graphviz version 2.38.0 (20140413.2041)\n",
       " -->\n",
       "<!-- Title: %3 Pages: 1 -->\n",
       "<svg width=\"242pt\" height=\"67pt\"\n",
       " viewBox=\"0.00 0.00 242.00 67.00\" xmlns=\"http://www.w3.org/2000/svg\" xmlns:xlink=\"http://www.w3.org/1999/xlink\">\n",
       "<g id=\"graph0\" class=\"graph\" transform=\"scale(1 1) rotate(0) translate(4 63)\">\n",
       "<title>%3</title>\n",
       "<polygon fill=\"white\" stroke=\"none\" points=\"-4,4 -4,-63 238,-63 238,4 -4,4\"/>\n",
       "<!-- A -->\n",
       "<g id=\"node1\" class=\"node\"><title>A</title>\n",
       "<ellipse fill=\"none\" stroke=\"black\" cx=\"27\" cy=\"-18\" rx=\"27\" ry=\"18\"/>\n",
       "<text text-anchor=\"middle\" x=\"27\" y=\"-13.8\" font-family=\"Times,serif\" font-size=\"14.00\">A</text>\n",
       "</g>\n",
       "<!-- B -->\n",
       "<g id=\"node2\" class=\"node\"><title>B</title>\n",
       "<ellipse fill=\"none\" stroke=\"black\" cx=\"117\" cy=\"-41\" rx=\"27\" ry=\"18\"/>\n",
       "<text text-anchor=\"middle\" x=\"117\" y=\"-36.8\" font-family=\"Times,serif\" font-size=\"14.00\">B</text>\n",
       "</g>\n",
       "<!-- A&#45;&gt;B -->\n",
       "<g id=\"edge1\" class=\"edge\"><title>A&#45;&gt;B</title>\n",
       "<path fill=\"none\" stroke=\"black\" d=\"M52.5129,-24.4068C61.5717,-26.7744 72.0115,-29.503 81.775,-32.0548\"/>\n",
       "<polygon fill=\"black\" stroke=\"black\" points=\"81.0585,-35.4851 91.6186,-34.6276 82.8286,-28.7126 81.0585,-35.4851\"/>\n",
       "</g>\n",
       "<!-- C -->\n",
       "<g id=\"node3\" class=\"node\"><title>C</title>\n",
       "<ellipse fill=\"none\" stroke=\"black\" cx=\"207\" cy=\"-18\" rx=\"27\" ry=\"18\"/>\n",
       "<text text-anchor=\"middle\" x=\"207\" y=\"-13.8\" font-family=\"Times,serif\" font-size=\"14.00\">C</text>\n",
       "</g>\n",
       "<!-- B&#45;&gt;C -->\n",
       "<g id=\"edge2\" class=\"edge\"><title>B&#45;&gt;C</title>\n",
       "<path fill=\"none\" stroke=\"black\" d=\"M142.513,-34.5932C151.572,-32.2256 162.012,-29.497 171.775,-26.9452\"/>\n",
       "<polygon fill=\"black\" stroke=\"black\" points=\"172.829,-30.2874 181.619,-24.3724 171.058,-23.5149 172.829,-30.2874\"/>\n",
       "</g>\n",
       "<!-- C&#45;&gt;A -->\n",
       "<g id=\"edge3\" class=\"edge\"><title>C&#45;&gt;A</title>\n",
       "<path fill=\"none\" stroke=\"black\" d=\"M180.075,-15.9538C168.974,-15.1744 155.859,-14.3821 144,-14 120.012,-13.227 113.988,-13.227 90,-14 81.5692,-14.2717 72.5035,-14.7506 63.9776,-15.2849\"/>\n",
       "<polygon fill=\"black\" stroke=\"black\" points=\"63.6701,-11.7975 53.9246,-15.9538 64.1349,-18.7821 63.6701,-11.7975\"/>\n",
       "</g>\n",
       "</g>\n",
       "</svg>\n"
      ],
      "text/plain": [
       "<graphviz.files.Source at 0x10a445208>"
      ]
     },
     "execution_count": 19,
     "metadata": {},
     "output_type": "execute_result"
    }
   ],
   "source": [
    "    \"\"\"digraph {rankdir=\"LR\" A->B->C->A}\"\"\""
   ]
  },
  {
   "cell_type": "code",
   "execution_count": 20,
   "metadata": {},
   "outputs": [],
   "source": [
    "    if Ø: assert isinstance(_, __import__('graphviz').Source), \"Likely, note run in an interactive context.\""
   ]
  },
  {
   "cell_type": "markdown",
   "metadata": {},
   "source": [
    "### Yaml Example"
   ]
  },
  {
   "cell_type": "code",
   "execution_count": 11,
   "metadata": {},
   "outputs": [],
   "source": [
    "    \"\"\"---\n",
    "    foo: 42\n",
    "    ---\n",
    "    foo: 100\"\"\"\n",
    "    if Ø: assert foo is 100, \"\"\"The transformer is likely not loaded.\"\"\""
   ]
  },
  {
   "cell_type": "markdown",
   "metadata": {},
   "source": [
    "# What other replacements could you imagine?"
   ]
  }
 ],
 "metadata": {
  "kernelspec": {
   "display_name": "p6",
   "language": "python",
   "name": "other-env"
  },
  "language_info": {
   "codemirror_mode": {
    "name": "ipython",
    "version": 3
   },
   "file_extension": ".py",
   "mimetype": "text/x-python",
   "name": "python",
   "nbconvert_exporter": "python",
   "pygments_lexer": "ipython3",
   "version": "3.6.3"
  }
 },
 "nbformat": 4,
 "nbformat_minor": 2
}
