{
 "cells": [
  {
   "cell_type": "markdown",
   "metadata": {},
   "source": [
    "# Indexing blog posts for a blog roll\n",
    "\n",
    "This notebooks aggregates the `deathbeds` modules into a tidy `pandas.DataFrame`.  That object can be used to created a structured view of the posts."
   ]
  },
  {
   "cell_type": "code",
   "execution_count": 25,
   "metadata": {},
   "outputs": [],
   "source": [
    "    from pathlib import Path\n",
    "    import deathbeds\n",
    "    from pandas import DataFrame, Series, Index, to_datetime\n",
    "    from IPython.display import Markdown, display\n",
    "    loader = __import__('importnb').Execute(display=True);"
   ]
  },
  {
   "cell_type": "markdown",
   "metadata": {},
   "source": [
    "* glob the modules in the `deathbeds` package."
   ]
  },
  {
   "cell_type": "code",
   "execution_count": 26,
   "metadata": {},
   "outputs": [],
   "source": [
    "    modules = Series(index=Index(Path(deathbeds.__file__).parent.glob('*.ipynb')));"
   ]
  },
  {
   "cell_type": "markdown",
   "metadata": {},
   "source": [
    "Convert a file path to and imported module"
   ]
  },
  {
   "cell_type": "code",
   "execution_count": 27,
   "metadata": {},
   "outputs": [],
   "source": [
    "    def file_to_module(path):\n",
    "        with loader:\n",
    "            name = path.relative_to(Path(deathbeds.__file__).parent).stem.split('.', 1)[0]\n",
    "            return getattr(__import__('.'.join(('deathbeds', name))), name)"
   ]
  },
  {
   "cell_type": "markdown",
   "metadata": {},
   "source": [
    "* Import all of the modules.  As the modules are imported we are testing their efficacy when `__name__ != '__main__`"
   ]
  },
  {
   "cell_type": "code",
   "execution_count": 28,
   "metadata": {},
   "outputs": [],
   "source": [
    "    for path in modules.index: modules.loc[path] = file_to_module(path)"
   ]
  },
  {
   "cell_type": "markdown",
   "metadata": {},
   "source": [
    "* Tidy the module information to create a blog roll"
   ]
  },
  {
   "cell_type": "code",
   "execution_count": 29,
   "metadata": {},
   "outputs": [],
   "source": [
    "    df = modules.to_frame('module')\n",
    "    df['docstring'] = df['module'].apply(lambda x: x.__doc__)\n",
    "    df['name'] = df['module'].apply(lambda x: x.__name__)\n",
    "    df['title'] = df.docstring.str.lstrip('#').str.lstrip().apply(lambda x: x.splitlines()[0])\n",
    "    df['relative'] = df.index.map(lambda x: f'deathbeds/{x.relative_to(Path(deathbeds.__file__).parent)}')\n",
    "\n",
    "    df['date'] = df['name'].str.split('.', 1).apply(lambda _: '-'.join(_[1].split('-', 3)[:3])).pipe(\n",
    "        lambda s: s[s.apply(lambda x: x[0]).str.isnumeric()]\n",
    "    ).pipe(to_datetime)\n",
    "\n",
    "\n",
    "    blog_roll = Markdown(df.dropna(subset=['date']).sort_values('date', ascending=False).apply(\n",
    "        lambda _: f\"\"\"* ## [{_.loc['title']}]({_.loc['relative']})\n",
    "\n",
    "    > {_.loc['date'].strftime(\"%A  %B %d, %Y\")}\n",
    "\n",
    "    \"\"\", axis=1\n",
    "    ).pipe(\"\".join));"
   ]
  },
  {
   "cell_type": "code",
   "execution_count": 31,
   "metadata": {},
   "outputs": [
    {
     "data": {
      "text/html": [
       "<div>\n",
       "<style scoped>\n",
       "    .dataframe tbody tr th:only-of-type {\n",
       "        vertical-align: middle;\n",
       "    }\n",
       "\n",
       "    .dataframe tbody tr th {\n",
       "        vertical-align: top;\n",
       "    }\n",
       "\n",
       "    .dataframe thead th {\n",
       "        text-align: right;\n",
       "    }\n",
       "</style>\n",
       "<table border=\"1\" class=\"dataframe\">\n",
       "  <thead>\n",
       "    <tr style=\"text-align: right;\">\n",
       "      <th></th>\n",
       "      <th>module</th>\n",
       "      <th>docstring</th>\n",
       "      <th>name</th>\n",
       "      <th>title</th>\n",
       "      <th>relative</th>\n",
       "      <th>date</th>\n",
       "    </tr>\n",
       "  </thead>\n",
       "  <tbody>\n",
       "    <tr>\n",
       "      <th>0</th>\n",
       "      <td>&lt;module 'deathbeds.2018-07-07-A-Jinja2-Templat...</td>\n",
       "      <td># Templating input cells with [`jinja2`](http:...</td>\n",
       "      <td>deathbeds.2018-07-07-A-Jinja2-Templating-Trans...</td>\n",
       "      <td>Templating input cells with [`jinja2`](http://...</td>\n",
       "      <td>deathbeds/2018-07-07-A-Jinja2-Templating-Trans...</td>\n",
       "      <td>2018-07-07</td>\n",
       "    </tr>\n",
       "    <tr>\n",
       "      <th>1</th>\n",
       "      <td>&lt;module 'deathbeds.2018-07-10-Fuzzy-importing-...</td>\n",
       "      <td># Fuzzy File Finding\\n\\n`importnb` contains a ...</td>\n",
       "      <td>deathbeds.2018-07-10-Fuzzy-importing-files-wit...</td>\n",
       "      <td>Fuzzy File Finding</td>\n",
       "      <td>deathbeds/2018-07-10-Fuzzy-importing-files-wit...</td>\n",
       "      <td>2018-07-10</td>\n",
       "    </tr>\n",
       "  </tbody>\n",
       "</table>\n",
       "</div>"
      ],
      "text/plain": [
       "                                              module  \\\n",
       "0  <module 'deathbeds.2018-07-07-A-Jinja2-Templat...   \n",
       "1  <module 'deathbeds.2018-07-10-Fuzzy-importing-...   \n",
       "\n",
       "                                           docstring  \\\n",
       "0  # Templating input cells with [`jinja2`](http:...   \n",
       "1  # Fuzzy File Finding\\n\\n`importnb` contains a ...   \n",
       "\n",
       "                                                name  \\\n",
       "0  deathbeds.2018-07-07-A-Jinja2-Templating-Trans...   \n",
       "1  deathbeds.2018-07-10-Fuzzy-importing-files-wit...   \n",
       "\n",
       "                                               title  \\\n",
       "0  Templating input cells with [`jinja2`](http://...   \n",
       "1                                 Fuzzy File Finding   \n",
       "\n",
       "                                            relative       date  \n",
       "0  deathbeds/2018-07-07-A-Jinja2-Templating-Trans... 2018-07-07  \n",
       "1  deathbeds/2018-07-10-Fuzzy-importing-files-wit... 2018-07-10  "
      ]
     },
     "execution_count": 31,
     "metadata": {},
     "output_type": "execute_result"
    }
   ],
   "source": [
    "    df.sample(2).reset_index(drop=True)"
   ]
  }
 ],
 "metadata": {
  "kernelspec": {
   "display_name": "p6",
   "language": "python",
   "name": "other-env"
  },
  "language_info": {
   "codemirror_mode": {
    "name": "ipython",
    "version": 3
   },
   "file_extension": ".py",
   "mimetype": "text/x-python",
   "name": "python",
   "nbconvert_exporter": "python",
   "pygments_lexer": "ipython3",
   "version": "3.6.3"
  }
 },
 "nbformat": 4,
 "nbformat_minor": 2
}
